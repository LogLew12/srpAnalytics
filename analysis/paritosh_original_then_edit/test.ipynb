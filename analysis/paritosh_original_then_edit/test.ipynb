{
 "cells": [
  {
   "cell_type": "code",
   "execution_count": 41,
   "metadata": {},
   "outputs": [
    {
     "name": "stdout",
     "output_type": "stream",
     "text": [
      "   dose  num_affected  total_num\n",
      "0   0.0           0.0         10\n",
      "1   1.0           3.0         10\n",
      "2   5.0           8.0         10\n",
      "\n",
      "\n",
      "CI with jeffreys:[0.         0.21719627]\n",
      "\n",
      "CI with flat:[0.         0.28491415]\n",
      "\n",
      "CI default:[0.        0.2775328]\n",
      "\n",
      "CI wald:[0. 0.]\n",
      "\n",
      "\n",
      "CI with jeffreys:[0.09269459 0.60581832]\n",
      "\n",
      "CI with flat:[0.10926344 0.60974256]\n",
      "\n",
      "CI default:[0.10779127 0.60322185]\n",
      "\n",
      "CI wald:[0.01597423 0.58402577]\n",
      "\n",
      "\n",
      "CI with jeffreys:[0.4972255  0.95594059]\n",
      "\n",
      "CI with flat:[0.48224415 0.93978227]\n",
      "\n",
      "CI default:[0.49016247 0.94331785]\n",
      "\n",
      "CI wald:[0.55208199 1.04791801]\n"
     ]
    }
   ],
   "source": [
    "import pandas as pd\n",
    "from astropy import stats as astrostats\n",
    "\n",
    "dose_response_data = {'dose': [0.0, 1.0, 5.0], 'num_affected': [0.0, 3.0, 8.0], 'total_num': [10, 10, 10]}\n",
    "test_dose_response = pd.DataFrame(dose_response_data, columns = ['dose', 'num_affected', 'total_num'])\n",
    "print(test_dose_response)\n",
    "\n",
    "for index in range(len(test_dose_response.dose)):\n",
    "    CI = astrostats.binom_conf_interval(test_dose_response.num_affected[index], test_dose_response.total_num[index], confidence_level = 0.95, interval='jeffreys')\n",
    "    print (\"\\n\\nCI with jeffreys:\" + str(CI))\n",
    "    \n",
    "    CI = astrostats.binom_conf_interval(test_dose_response.num_affected[index], test_dose_response.total_num[index], confidence_level = 0.95, interval='flat')\n",
    "    print (\"\\nCI with flat:\" + str(CI))\n",
    "    \n",
    "    CI = astrostats.binom_conf_interval(test_dose_response.num_affected[index], test_dose_response.total_num[index], confidence_level = 0.95)\n",
    "    print (\"\\nCI default:\" + str(CI))\n",
    "    \n",
    "    CI = astrostats.binom_conf_interval(test_dose_response.num_affected[index], test_dose_response.total_num[index], confidence_level = 0.95, interval='wald')\n",
    "    print (\"\\nCI wald:\" + str(CI))\n",
    "    "
   ]
  },
  {
   "cell_type": "code",
   "execution_count": null,
   "metadata": {},
   "outputs": [],
   "source": []
  }
 ],
 "metadata": {
  "kernelspec": {
   "display_name": "Python 3",
   "language": "python",
   "name": "python3"
  },
  "language_info": {
   "codemirror_mode": {
    "name": "ipython",
    "version": 3
   },
   "file_extension": ".py",
   "mimetype": "text/x-python",
   "name": "python",
   "nbconvert_exporter": "python",
   "pygments_lexer": "ipython3",
   "version": "3.7.8"
  }
 },
 "nbformat": 4,
 "nbformat_minor": 4
}
