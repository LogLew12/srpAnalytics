{
 "cells": [
  {
   "cell_type": "code",
   "execution_count": 28,
   "metadata": {},
   "outputs": [],
   "source": [
    "import pandas as pd\n",
    "import os, time\n",
    "from matplotlib import pyplot as plt\n",
    "import seaborn as sns"
   ]
  },
  {
   "cell_type": "code",
   "execution_count": 29,
   "metadata": {},
   "outputs": [
    {
     "name": "stdout",
     "output_type": "stream",
     "text": [
      "Dose_count_zero_Response_filename:/Users/kimd999/research/projects/toxicity/result/old_Phase_I_II/4_newest_correct_no_avg/qc_1/Dose_count_zero_Response.csv\n"
     ]
    },
    {
     "data": {
      "text/html": [
       "<div>\n",
       "<style scoped>\n",
       "    .dataframe tbody tr th:only-of-type {\n",
       "        vertical-align: middle;\n",
       "    }\n",
       "\n",
       "    .dataframe tbody tr th {\n",
       "        vertical-align: top;\n",
       "    }\n",
       "\n",
       "    .dataframe thead th {\n",
       "        text-align: right;\n",
       "    }\n",
       "</style>\n",
       "<table border=\"1\" class=\"dataframe\">\n",
       "  <thead>\n",
       "    <tr style=\"text-align: right;\">\n",
       "      <th></th>\n",
       "      <th>Dose_count</th>\n",
       "      <th>zero_Response</th>\n",
       "      <th>zero_Response/Dose_count</th>\n",
       "    </tr>\n",
       "  </thead>\n",
       "  <tbody>\n",
       "    <tr>\n",
       "      <th>0</th>\n",
       "      <td>6</td>\n",
       "      <td>0</td>\n",
       "      <td>0.0%</td>\n",
       "    </tr>\n",
       "    <tr>\n",
       "      <th>1</th>\n",
       "      <td>6</td>\n",
       "      <td>0</td>\n",
       "      <td>0.0%</td>\n",
       "    </tr>\n",
       "    <tr>\n",
       "      <th>2</th>\n",
       "      <td>6</td>\n",
       "      <td>1</td>\n",
       "      <td>17.0%</td>\n",
       "    </tr>\n",
       "    <tr>\n",
       "      <th>3</th>\n",
       "      <td>6</td>\n",
       "      <td>3</td>\n",
       "      <td>50.0%</td>\n",
       "    </tr>\n",
       "    <tr>\n",
       "      <th>4</th>\n",
       "      <td>6</td>\n",
       "      <td>3</td>\n",
       "      <td>50.0%</td>\n",
       "    </tr>\n",
       "  </tbody>\n",
       "</table>\n",
       "</div>"
      ],
      "text/plain": [
       "   Dose_count  zero_Response zero_Response/Dose_count\n",
       "0           6              0                     0.0%\n",
       "1           6              0                     0.0%\n",
       "2           6              1                    17.0%\n",
       "3           6              3                    50.0%\n",
       "4           6              3                    50.0%"
      ]
     },
     "metadata": {},
     "output_type": "display_data"
    },
    {
     "data": {
      "image/png": "[encoded data removed]",
      "text/plain": [
       "<Figure size 576x288 with 1 Axes>"
      ]
     },
     "metadata": {
      "needs_background": "light"
     },
     "output_type": "display_data"
    }
   ],
   "source": [
    "Dose_count_zero_Response_filename=\"/Users/kimd999/research/projects/toxicity/result/old_Phase_I_II/4_newest_correct_no_avg/qc_1/Dose_count_zero_Response.csv\"\n",
    "\n",
    "print (\"Dose_count_zero_Response_filename:\"+str(Dose_count_zero_Response_filename))\n",
    "Dose_count_zero_Response_data = pd.read_csv(Dose_count_zero_Response_filename, index_col=None)\n",
    "display(Dose_count_zero_Response_data.head())\n",
    "Dose_count = pd.Series({\"Column\": Dose_count_zero_Response_data[\"Dose_count\"]})\n",
    "plt.figure(figsize=(8,4))\n",
    "sns.countplot(x=\"Column\", data=Dose_count)\n",
    "plt.show()"
   ]
  },
  {
   "cell_type": "code",
   "execution_count": 30,
   "metadata": {},
   "outputs": [
    {
     "data": {
      "image/png": "[encoded data removed]",
      "text/plain": [
       "<Figure size 576x288 with 1 Axes>"
      ]
     },
     "metadata": {
      "needs_background": "light"
     },
     "output_type": "display_data"
    }
   ],
   "source": [
    "zero_Response = pd.Series({\"Column\": Dose_count_zero_Response_data[\"zero_Response\"]})\n",
    "plt.figure(figsize=(8,4))\n",
    "sns.countplot(x=\"Column\", data=zero_Response)\n",
    "plt.show()"
   ]
  },
  {
   "cell_type": "code",
   "execution_count": 31,
   "metadata": {},
   "outputs": [
    {
     "data": {
      "image/png": "[encoded data removed]",
      "text/plain": [
       "<Figure size 1152x144 with 1 Axes>"
      ]
     },
     "metadata": {
      "needs_background": "light"
     },
     "output_type": "display_data"
    }
   ],
   "source": [
    "zero_Response_by_Dose_count = pd.Series({\"Column\": Dose_count_zero_Response_data[\"zero_Response/Dose_count\"]})\n",
    "plt.figure(figsize=(16,2))\n",
    "sns.countplot(x=\"Column\", data=zero_Response_by_Dose_count, order = Dose_count_zero_Response_data[\"zero_Response/Dose_count\"].value_counts().iloc[:10].index)\n",
    "plt.show()"
   ]
  },
  {
   "cell_type": "code",
   "execution_count": 32,
   "metadata": {},
   "outputs": [],
   "source": [
    "# 100% responses are zero => 46% (=1492/3249)\n",
    "# 0% responses are zero =>   14% (=451/3249)\n",
    "# 67% responses are zero =>  8%  (=265/3249)\n",
    "# 83% responses are zero =>  8%  (=255/3249)\n",
    "\n",
    "# in summary,\n",
    "# 62% data have 0 response >= 67%"
   ]
  }
 ],
 "metadata": {
  "kernelspec": {
   "display_name": "Python 3",
   "language": "python",
   "name": "python3"
  },
  "language_info": {
   "codemirror_mode": {
    "name": "ipython",
    "version": 3
   },
   "file_extension": ".py",
   "mimetype": "text/x-python",
   "name": "python",
   "nbconvert_exporter": "python",
   "pygments_lexer": "ipython3",
   "version": "3.7.8"
  }
 },
 "nbformat": 4,
 "nbformat_minor": 4
}
