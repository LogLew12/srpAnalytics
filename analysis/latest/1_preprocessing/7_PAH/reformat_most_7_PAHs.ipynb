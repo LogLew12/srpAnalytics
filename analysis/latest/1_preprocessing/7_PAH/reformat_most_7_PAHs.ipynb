{
 "cells": [
  {
   "cell_type": "code",
   "execution_count": 16,
   "metadata": {},
   "outputs": [],
   "source": [
    "# To deal with 7_PAH_zf_morphology_data_2020NOV11.csv\n",
    "\n",
    "import numpy as np\n",
    "import pandas as pd\n",
    "import matplotlib.pyplot as plt\n",
    "import seaborn as sns\n",
    "import os, time\n",
    "\n",
    "from datetime import datetime as dt"
   ]
  },
  {
   "cell_type": "code",
   "execution_count": null,
   "metadata": {},
   "outputs": [],
   "source": [
    "today = dt.now()  \n",
    "time_now_date = today.strftime('%Y_%m_%d')"
   ]
  },
  {
   "cell_type": "code",
   "execution_count": 17,
   "metadata": {},
   "outputs": [],
   "source": [
    "complete_file_path = '/Users/kimd999/Dropbox/script/python/srpAnalytics/analysis/paritosh_original_then_edit/preprocessing/7_PAH/7_PAH_zf_morphology_data_2020NOV11_tall.csv'\n",
    "complete_file_path_base = os.path.basename(complete_file_path)\n",
    "morph_all_data = pd.read_csv(complete_file_path, header = 0)"
   ]
  },
  {
   "cell_type": "code",
   "execution_count": 18,
   "metadata": {},
   "outputs": [
    {
     "data": {
      "text/plain": [
       "<bound method NDFrame.tail of       chemical.id bottle.id  conc  plate.id well      date endpoint  value\n",
       "0            3756   C761434   0.0     20544  H01  20200701     MO24    0.0\n",
       "1            3756   C761434   0.0     20544  H02  20200701     MO24    1.0\n",
       "2            3756   C761434   0.0     20544  H03  20200701     MO24    0.0\n",
       "3            3756   C761434   0.0     20544  H04  20200701     MO24    0.0\n",
       "4            3756   C761434   0.0     20544  H05  20200701     MO24    0.0\n",
       "...           ...       ...   ...       ...  ...       ...      ...    ...\n",
       "2395         3758   C355728   4.5     21408  F08  20201016     DP24    0.0\n",
       "2396         3758   C355728   4.5     21408  F09  20201016     DP24    0.0\n",
       "2397         3758   C355728   4.5     21408  F10  20201016     DP24    0.0\n",
       "2398         3758   C355728   4.5     21408  F11  20201016     DP24    0.0\n",
       "2399         3758   C355728   4.5     21408  F12  20201016     DP24    0.0\n",
       "\n",
       "[2400 rows x 8 columns]>"
      ]
     },
     "execution_count": 18,
     "metadata": {},
     "output_type": "execute_result"
    }
   ],
   "source": [
    "morph_all_data.head(2400).tail"
   ]
  },
  {
   "cell_type": "code",
   "execution_count": 19,
   "metadata": {},
   "outputs": [
    {
     "data": {
      "text/plain": [
       "810"
      ]
     },
     "execution_count": 19,
     "metadata": {},
     "output_type": "execute_result"
    }
   ],
   "source": [
    "np.sum(morph_all_data['value'] == 1)"
   ]
  },
  {
   "cell_type": "code",
   "execution_count": 20,
   "metadata": {},
   "outputs": [
    {
     "data": {
      "text/plain": [
       "24305"
      ]
     },
     "execution_count": 20,
     "metadata": {},
     "output_type": "execute_result"
    }
   ],
   "source": [
    "np.sum(morph_all_data['value'] == 0) # -> 82%"
   ]
  },
  {
   "cell_type": "code",
   "execution_count": 21,
   "metadata": {},
   "outputs": [
    {
     "data": {
      "text/plain": [
       "3109"
      ]
     },
     "execution_count": 21,
     "metadata": {},
     "output_type": "execute_result"
    }
   ],
   "source": [
    "np.sum(np.isnan(morph_all_data['value']))"
   ]
  },
  {
   "cell_type": "code",
   "execution_count": 22,
   "metadata": {},
   "outputs": [
    {
     "data": {
      "text/plain": [
       "(28224, 8)"
      ]
     },
     "execution_count": 22,
     "metadata": {},
     "output_type": "execute_result"
    }
   ],
   "source": [
    "morph_all_data.shape"
   ]
  },
  {
   "cell_type": "code",
   "execution_count": 23,
   "metadata": {},
   "outputs": [
    {
     "data": {
      "text/html": [
       "<div>\n",
       "<style scoped>\n",
       "    .dataframe tbody tr th:only-of-type {\n",
       "        vertical-align: middle;\n",
       "    }\n",
       "\n",
       "    .dataframe tbody tr th {\n",
       "        vertical-align: top;\n",
       "    }\n",
       "\n",
       "    .dataframe thead th {\n",
       "        text-align: right;\n",
       "    }\n",
       "</style>\n",
       "<table border=\"1\" class=\"dataframe\">\n",
       "  <thead>\n",
       "    <tr style=\"text-align: right;\">\n",
       "      <th></th>\n",
       "      <th>chemical.id</th>\n",
       "      <th>conc</th>\n",
       "      <th>plate.id</th>\n",
       "      <th>well</th>\n",
       "      <th>endpoint</th>\n",
       "      <th>value</th>\n",
       "    </tr>\n",
       "  </thead>\n",
       "  <tbody>\n",
       "    <tr>\n",
       "      <th>0</th>\n",
       "      <td>3756</td>\n",
       "      <td>0.0</td>\n",
       "      <td>20544</td>\n",
       "      <td>H01</td>\n",
       "      <td>MO24</td>\n",
       "      <td>0.0</td>\n",
       "    </tr>\n",
       "    <tr>\n",
       "      <th>1</th>\n",
       "      <td>3756</td>\n",
       "      <td>0.0</td>\n",
       "      <td>20544</td>\n",
       "      <td>H02</td>\n",
       "      <td>MO24</td>\n",
       "      <td>1.0</td>\n",
       "    </tr>\n",
       "    <tr>\n",
       "      <th>2</th>\n",
       "      <td>3756</td>\n",
       "      <td>0.0</td>\n",
       "      <td>20544</td>\n",
       "      <td>H03</td>\n",
       "      <td>MO24</td>\n",
       "      <td>0.0</td>\n",
       "    </tr>\n",
       "    <tr>\n",
       "      <th>3</th>\n",
       "      <td>3756</td>\n",
       "      <td>0.0</td>\n",
       "      <td>20544</td>\n",
       "      <td>H04</td>\n",
       "      <td>MO24</td>\n",
       "      <td>0.0</td>\n",
       "    </tr>\n",
       "    <tr>\n",
       "      <th>4</th>\n",
       "      <td>3756</td>\n",
       "      <td>0.0</td>\n",
       "      <td>20544</td>\n",
       "      <td>H05</td>\n",
       "      <td>MO24</td>\n",
       "      <td>0.0</td>\n",
       "    </tr>\n",
       "  </tbody>\n",
       "</table>\n",
       "</div>"
      ],
      "text/plain": [
       "   chemical.id  conc  plate.id well endpoint  value\n",
       "0         3756   0.0     20544  H01     MO24    0.0\n",
       "1         3756   0.0     20544  H02     MO24    1.0\n",
       "2         3756   0.0     20544  H03     MO24    0.0\n",
       "3         3756   0.0     20544  H04     MO24    0.0\n",
       "4         3756   0.0     20544  H05     MO24    0.0"
      ]
     },
     "execution_count": 23,
     "metadata": {},
     "output_type": "execute_result"
    }
   ],
   "source": [
    "# Keep only relevant columns\n",
    "columns_to_keep = ['chemical.id', 'conc', 'plate.id', 'well', 'endpoint', 'value']\n",
    "morph_all_data_select = morph_all_data.loc[:,columns_to_keep]\n",
    "morph_all_data_select.head()"
   ]
  },
  {
   "cell_type": "code",
   "execution_count": 14,
   "metadata": {},
   "outputs": [
    {
     "name": "stdout",
     "output_type": "stream",
     "text": [
      "chemical_index:3756\n",
      "chemical_index:3758\n",
      "chemical_index:3759\n",
      "chemical_index:3760\n",
      "chemical_index:3761\n",
      "chemical_index:3762\n",
      "chemical_index:3859\n",
      "total_number_of_unique_chemicals:7\n",
      "total_number_of_chemical_plate_well:2016\n",
      "Done, it took:18.4 seconds\n"
     ]
    }
   ],
   "source": [
    "start_time = time.time()\n",
    "\n",
    "reformat_data = pd.DataFrame()\n",
    "total_number_of_unique_chemicals = 0\n",
    "total_number_of_chemical_plate_well = 0\n",
    "for chemical_index in np.unique(morph_all_data['chemical.id']):\n",
    "    print(\"chemical_index:\" + str(chemical_index))\n",
    "    total_number_of_unique_chemicals += 1\n",
    "    morph_data_chemical = morph_all_data_select.loc[morph_all_data['chemical.id'] == chemical_index,:]\n",
    "    \n",
    "#    if (chemical_index != 3756):\n",
    " #       continue\n",
    "    \n",
    "    # Append chemical_plate_well as a unique identifier\n",
    "    morph_data_chemical.insert(0, 'chemical_plate_well', morph_data_chemical.loc[:,['chemical.id','plate.id', 'well']].apply(lambda x: '_'.join(x.map(str)), axis = 1))\n",
    "    \n",
    "    for cpw in np.unique(morph_data_chemical.chemical_plate_well):\n",
    "        total_number_of_chemical_plate_well += 1\n",
    "        temp_df = morph_data_chemical.loc[morph_data_chemical.chemical_plate_well == cpw,:]\n",
    "        temp_df_grouped = temp_df.groupby(['chemical.id', 'plate.id', 'well'])\n",
    "        for name, group in temp_df_grouped:\n",
    "            try:\n",
    "#            if(len(group.endpoint) == 14):\n",
    "                temp = pd.DataFrame( {\n",
    "                        'chemical.id': np.unique(temp_df['chemical.id']),\n",
    "                        'plate.id': np.unique(temp_df['plate.id']),\n",
    "                        'well': np.unique(temp_df['well']),\n",
    "                        'chemical_plate_well': np.unique(temp_df['chemical_plate_well']),\n",
    "                        'conc': np.unique(temp_df['conc']),\n",
    "                        'AXIS': temp_df.value[temp_df.endpoint == 'AXIS'].values,\n",
    "                        'BRN_': temp_df.value[temp_df.endpoint == 'BRN_'].values,\n",
    "                        'CRAN': temp_df.value[temp_df.endpoint == 'CRAN'].values,\n",
    "                        'DNC_': temp_df.value[temp_df.endpoint == 'DNC_'].values,\n",
    "                        'DP24': temp_df.value[temp_df.endpoint == 'DP24'].values,\n",
    "                        'EDEM': temp_df.value[temp_df.endpoint == 'EDEM'].values,\n",
    "                        'LTRK': temp_df.value[temp_df.endpoint == 'LTRK'].values,\n",
    "                        'MO24': temp_df.value[temp_df.endpoint == 'MO24'].values,\n",
    "                        'MORT': temp_df.value[temp_df.endpoint == 'MORT'].values,\n",
    "                        'MUSC': temp_df.value[temp_df.endpoint == 'MUSC'].values,\n",
    "                        'NC__': temp_df.value[temp_df.endpoint == 'NC__'].values,\n",
    "                        'SKIN': temp_df.value[temp_df.endpoint == 'SKIN'].values,\n",
    "                        'SM24': temp_df.value[temp_df.endpoint == 'SM24'].values,\n",
    "                        'TCHR': temp_df.value[temp_df.endpoint == 'TCHR'].values,  }  )\n",
    "                reformat_data = pd.concat([reformat_data, temp])\n",
    "            except:\n",
    "                print (\"len(group.endpoint) != 14\")\n",
    "                print (\"chemical_plate_well:\" + str(cpw))\n",
    "print (\"total_number_of_unique_chemicals:\" + str(total_number_of_unique_chemicals))\n",
    "print (\"total_number_of_chemical_plate_well:\" + str(total_number_of_chemical_plate_well))\n",
    "end_time = time.time()\n",
    "time_took = str(round((end_time-start_time), 1)) + \" seconds\"\n",
    "print (\"Done, it took:\"+str(time_took))"
   ]
  },
  {
   "cell_type": "code",
   "execution_count": 15,
   "metadata": {},
   "outputs": [
    {
     "name": "stdout",
     "output_type": "stream",
     "text": [
      "   chemical.id  plate.id well chemical_plate_well   conc  AXIS  BRN_  CRAN  \\\n",
      "0         3756     20544  A01      3756_20544_A01  100.0   NaN   NaN   NaN   \n",
      "0         3756     20544  A02      3756_20544_A02  100.0   0.0   0.0   0.0   \n",
      "0         3756     20544  A03      3756_20544_A03  100.0   NaN   NaN   NaN   \n",
      "0         3756     20544  A04      3756_20544_A04  100.0   0.0   0.0   0.0   \n",
      "0         3756     20544  A05      3756_20544_A05  100.0   0.0   0.0   0.0   \n",
      "\n",
      "   DNC_  DP24  EDEM  LTRK  MO24  MORT  MUSC  NC__  SKIN  SM24  TCHR  \n",
      "0   0.0   NaN   NaN   NaN   1.0   NaN   NaN   NaN   NaN   NaN   NaN  \n",
      "0   0.0   0.0   0.0   0.0   0.0   0.0   0.0   0.0   0.0   0.0   0.0  \n",
      "0   0.0   NaN   NaN   NaN   1.0   NaN   NaN   NaN   NaN   NaN   NaN  \n",
      "0   0.0   0.0   0.0   0.0   0.0   0.0   0.0   0.0   0.0   0.0   0.0  \n",
      "0   0.0   0.0   0.0   0.0   0.0   0.0   0.0   0.0   0.0   0.0   0.0  \n",
      "reformat_data.shape:(2016, 19)\n"
     ]
    }
   ],
   "source": [
    "pd.set_option('display.max_columns', None)\n",
    "print (reformat_data.head())\n",
    "print (\"reformat_data.shape:\" + str(reformat_data.shape))"
   ]
  },
  {
   "cell_type": "code",
   "execution_count": 33,
   "metadata": {},
   "outputs": [],
   "source": [
    "reformat_data_DNC_0 = pd.DataFrame()"
   ]
  },
  {
   "cell_type": "code",
   "execution_count": 34,
   "metadata": {},
   "outputs": [
    {
     "name": "stdout",
     "output_type": "stream",
     "text": [
      "reformat_data_DNC_0.shape:(2003, 19)\n"
     ]
    }
   ],
   "source": [
    "reformat_data_DNC_0 = reformat_data.loc[reformat_data['DNC_'] == 0.0]\n",
    "print (\"reformat_data_DNC_0.shape:\" + str(reformat_data_DNC_0.shape))"
   ]
  },
  {
   "cell_type": "code",
   "execution_count": null,
   "metadata": {},
   "outputs": [],
   "source": [
    "'''\n",
    "nan_count = 0\n",
    "zero_count = 0\n",
    "one_count = 0\n",
    "for (columnName, columnData) in reformat_data.iteritems(): \n",
    "    if (columnName == \"chemical.id\") or (columnName == \"plate.id\") or (columnName == \"well\") or (columnName == \"chemical_plate_well\") or (columnName == \"conc\"):\n",
    "        continue\n",
    "#    print('Colunm Name : ', columnName) \n",
    "#    print('Column Contents : ', columnData.values[i])\n",
    "#    print (len(columnData.values))\n",
    "    for i in range(len(columnData.values)):\n",
    "        if (str(columnData.values[i]) == \"nan\"):\n",
    "            nan_count += 1\n",
    "        elif (str(columnData.values[i]) == \"0.0\"):\n",
    "            zero_count += 1\n",
    "        elif (str(columnData.values[i]) == \"1.0\"):\n",
    "            one_count += 1\n",
    "#        print('Column Contents : ', columnData.values[i])\n",
    "print (\"nan_count:\" + str(nan_count))\n",
    "print (\"zero_count:\" + str(zero_count))\n",
    "print (\"one_count:\" + str(one_count))\n",
    "'''"
   ]
  },
  {
   "cell_type": "code",
   "execution_count": 35,
   "metadata": {},
   "outputs": [],
   "source": [
    "pd.set_option('display.max_columns', None)"
   ]
  },
  {
   "cell_type": "code",
   "execution_count": 39,
   "metadata": {},
   "outputs": [],
   "source": [
    "#reformat_data.to_csv('7_PAH_zf_morphology_data_2020NOV11_wide_DNC_0_1.csv',index=False)\n",
    "output_file_name = complete_file_path_base[:-4] + \"_ran_at_\" + str(time_now_date) + '.csv'\n",
    "output_file_name_w_path = os.path.join(\"input\", output_file_name)\n",
    "reformat_data_DNC_0.to_csv(output_file_name_w_path,index=False)"
   ]
  },
  {
   "cell_type": "code",
   "execution_count": 37,
   "metadata": {},
   "outputs": [
    {
     "data": {
      "text/plain": [
       "7"
      ]
     },
     "execution_count": 37,
     "metadata": {},
     "output_type": "execute_result"
    }
   ],
   "source": [
    "len(np.unique(reformat_data['chemical.id']))"
   ]
  },
  {
   "cell_type": "markdown",
   "metadata": {},
   "source": [
    "### Reformat behavioral data"
   ]
  },
  {
   "cell_type": "code",
   "execution_count": null,
   "metadata": {},
   "outputs": [],
   "source": [
    "#complete_file_path = '/Users/pand381/Downloads/Phase 1 and 2 for PNNL database 2020JUNE21/344 zf LPR data phase 1 and 2 - 2020JUNE25.csv'\n",
    "#behav_all_data = pd.read_csv(complete_file_path, header = 0)"
   ]
  },
  {
   "cell_type": "code",
   "execution_count": null,
   "metadata": {},
   "outputs": [],
   "source": [
    "#behav_all_data.head()"
   ]
  },
  {
   "cell_type": "code",
   "execution_count": null,
   "metadata": {},
   "outputs": [],
   "source": [
    "# Keep only relevant columns\n",
    "#columns_to_keep = ['chemical.id', 'conc', 'plate.id', 'well', 'endpoint', 'value']\n",
    "#behav_all_data_select = behav_all_data.loc[:,columns_to_keep]\n",
    "#behav_all_data_select.head()"
   ]
  },
  {
   "cell_type": "code",
   "execution_count": null,
   "metadata": {},
   "outputs": [],
   "source": [
    "'''reformat_data = pd.DataFrame()\n",
    "\n",
    "for chemical_index in np.unique(behav_all_data['chemical.id']):\n",
    "    behav_data_chemical = behav_all_data_select.loc[behav_all_data['chemical.id'] == chemical_index,:]\n",
    "    print(\"chemical_index:\" + str(chemical_index))\n",
    "    # Append chemical_plate_well as a unique identifier\n",
    "    behav_data_chemical.insert(0, 'chemical_plate_well', behav_data_chemical.loc[:,['chemical.id','plate.id', 'well']].apply(lambda x: '_'.join(x.map(str)), axis = 1))\n",
    "    \n",
    "    for cpw in np.unique(behav_data_chemical.chemical_plate_well):\n",
    "        temp_df = behav_data_chemical.loc[behav_data_chemical.chemical_plate_well == cpw,:]\n",
    "        temp_df_grouped = temp_df.groupby(['chemical.id', 'plate.id', 'well'])\n",
    "        for name, group in temp_df_grouped:\n",
    "            if(len(group.endpoint) == 15):\n",
    "                temp = pd.DataFrame(\n",
    "                        {\n",
    "                        'chemical.id': np.unique(temp_df['chemical.id']),\n",
    "                        'plate.id': np.unique(temp_df['plate.id']),\n",
    "                        'well': np.unique(temp_df['well']),\n",
    "                        'chemical_plate_well': np.unique(temp_df['chemical_plate_well']),\n",
    "                        'conc': np.unique(temp_df['conc']),\n",
    "                        't3': temp_df.value[temp_df.endpoint == 't3'].values,\n",
    "                        't4': temp_df.value[temp_df.endpoint == 't4'].values,\n",
    "                        't5': temp_df.value[temp_df.endpoint == 't5'].values,\n",
    "                        't6': temp_df.value[temp_df.endpoint == 't6'].values,\n",
    "                        't7': temp_df.value[temp_df.endpoint == 't7'].values,\n",
    "                        't8': temp_df.value[temp_df.endpoint == 't8'].values,\n",
    "                        't9': temp_df.value[temp_df.endpoint == 't9'].values,\n",
    "                        't10': temp_df.value[temp_df.endpoint == 't10'].values,\n",
    "                        't11': temp_df.value[temp_df.endpoint == 't11'].values,\n",
    "                        't12': temp_df.value[temp_df.endpoint == 't12'].values,\n",
    "                        't13': temp_df.value[temp_df.endpoint == 't13'].values,\n",
    "                        't14': temp_df.value[temp_df.endpoint == 't14'].values,\n",
    "                        't15': temp_df.value[temp_df.endpoint == 't15'].values,\n",
    "                        't16': temp_df.value[temp_df.endpoint == 't16'].values,\n",
    "                        't17': temp_df.value[temp_df.endpoint == 't17'].values,\n",
    "                        }\n",
    "                            )\n",
    "                reformat_data = pd.concat([reformat_data, temp])'''"
   ]
  },
  {
   "cell_type": "code",
   "execution_count": null,
   "metadata": {},
   "outputs": [],
   "source": [
    "#reformat_data.head()"
   ]
  },
  {
   "cell_type": "code",
   "execution_count": null,
   "metadata": {},
   "outputs": [],
   "source": [
    "#reformat_data.shape"
   ]
  },
  {
   "cell_type": "code",
   "execution_count": null,
   "metadata": {},
   "outputs": [],
   "source": [
    "#reformat_data.to_csv('Phase_I_II_t3_t17_LPR.csv',index=False)"
   ]
  },
  {
   "cell_type": "markdown",
   "metadata": {},
   "source": [
    "### t0_t239 time points"
   ]
  },
  {
   "cell_type": "code",
   "execution_count": null,
   "metadata": {
    "scrolled": true
   },
   "outputs": [],
   "source": [
    "'''reformat_data = pd.DataFrame()\n",
    "\n",
    "#for chemical_index in np.unique([54]):\n",
    "for chemical_index in np.unique(behav_all_data['chemical.id']):\n",
    "    behav_data_chemical = behav_all_data_select.loc[behav_all_data['chemical.id'] == chemical_index,:]\n",
    "    print(chemical_index)\n",
    "    # Append chemical_plate_well as a unique identifier\n",
    "    behav_data_chemical.insert(0, 'chemical_plate_well', behav_data_chemical.loc[:,['chemical.id','plate.id', 'well']].apply(lambda x: '_'.join(x.map(str)), axis = 1))\n",
    "    \n",
    "    for cpw in np.unique(behav_data_chemical.chemical_plate_well):\n",
    "        temp_df = behav_data_chemical.loc[behav_data_chemical.chemical_plate_well == cpw,:]\n",
    "        #display(temp_df.head())\n",
    "        temp_df_grouped = temp_df.groupby(['chemical.id', 'plate.id', 'well'])\n",
    "        #display(temp_df_grouped.head())\n",
    "        for name, group in temp_df_grouped:\n",
    "            if(len(group.endpoint) == 240):\n",
    "                temp = pd.DataFrame(\n",
    "                        {\n",
    "                        'chemical.id': np.unique(temp_df['chemical.id']),\n",
    "                        'plate.id': np.unique(temp_df['plate.id']),\n",
    "                        'well': np.unique(temp_df['well']),\n",
    "                        'chemical_plate_well': np.unique(temp_df['chemical_plate_well']),\n",
    "                        'conc': np.unique(temp_df['conc'])\n",
    "                        })\n",
    "                #print(temp.head())\n",
    "                # Append additonal columns corresponding to time points\n",
    "                max_time = 240\n",
    "                for time_point in np.arange(max_time):\n",
    "                    end_point = 't'+ str(time_point)\n",
    "                    temp = pd.concat([temp, pd.DataFrame({end_point: temp_df.value[temp_df.endpoint == end_point].values})],axis = 1)\n",
    "                #print(temp.head())\n",
    "                #print(reformat_data)\n",
    "                reformat_data = pd.concat([reformat_data, temp])\n",
    "                #print(reformat_data)'''"
   ]
  },
  {
   "cell_type": "code",
   "execution_count": null,
   "metadata": {},
   "outputs": [],
   "source": [
    "#display(reformat_data)"
   ]
  },
  {
   "cell_type": "code",
   "execution_count": null,
   "metadata": {},
   "outputs": [],
   "source": [
    "#reformat_data.to_csv('Phase_I_II_t0_t239_LPR.csv',index=False)"
   ]
  },
  {
   "cell_type": "code",
   "execution_count": null,
   "metadata": {},
   "outputs": [],
   "source": [
    "#len(np.unique(reformat_data['chemical.id']))"
   ]
  },
  {
   "cell_type": "markdown",
   "metadata": {},
   "source": [
    "## Reformat EPR data"
   ]
  },
  {
   "cell_type": "code",
   "execution_count": null,
   "metadata": {},
   "outputs": [],
   "source": [
    "#complete_file_path = '/Users/pand381/Downloads/Phase 1 and 2 for PNNL database 2020JUNE21/344 zf EPR data phase 1 and 2 - 2020JUNE25.csv'\n",
    "#behav_all_data = pd.read_csv(complete_file_path, header = 0)"
   ]
  },
  {
   "cell_type": "code",
   "execution_count": null,
   "metadata": {},
   "outputs": [],
   "source": [
    "#behav_all_data.head()"
   ]
  },
  {
   "cell_type": "code",
   "execution_count": null,
   "metadata": {},
   "outputs": [],
   "source": [
    "# Keep only relevant columns\n",
    "#columns_to_keep = ['chemical.id', 'conc', 'plate.id', 'well', 'endpoint', 'value']\n",
    "#behav_all_data_select = behav_all_data.loc[:,columns_to_keep]\n",
    "#behav_all_data_select.head()"
   ]
  },
  {
   "cell_type": "code",
   "execution_count": null,
   "metadata": {},
   "outputs": [],
   "source": [
    "'''reformat_data = pd.DataFrame()\n",
    "\n",
    "#for chemical_index in np.unique([54]):\n",
    "for chemical_index in np.unique(behav_all_data['chemical.id']):\n",
    "    behav_data_chemical = behav_all_data_select.loc[behav_all_data['chemical.id'] == chemical_index,:]\n",
    "    print(chemical_index)\n",
    "    # Append chemical_plate_well as a unique identifier\n",
    "    behav_data_chemical.insert(0, 'chemical_plate_well', behav_data_chemical.loc[:,['chemical.id','plate.id', 'well']].apply(lambda x: '_'.join(x.map(str)), axis = 1))\n",
    "    \n",
    "    for cpw in np.unique(behav_data_chemical.chemical_plate_well):\n",
    "        temp_df = behav_data_chemical.loc[behav_data_chemical.chemical_plate_well == cpw,:]\n",
    "        #display(temp_df.head())\n",
    "        temp_df_grouped = temp_df.groupby(['chemical.id', 'plate.id', 'well'])\n",
    "        #display(temp_df_grouped.head())\n",
    "        for name, group in temp_df_grouped:\n",
    "            if(len(group.endpoint) == 49):\n",
    "                temp = pd.DataFrame(\n",
    "                        {\n",
    "                        'chemical.id': np.unique(temp_df['chemical.id']),\n",
    "                        'plate.id': np.unique(temp_df['plate.id']),\n",
    "                        'well': np.unique(temp_df['well']),\n",
    "                        'chemical_plate_well': np.unique(temp_df['chemical_plate_well']),\n",
    "                        'conc': np.unique(temp_df['conc'])\n",
    "                        })\n",
    "                #print(temp.head())\n",
    "                # Append additonal columns corresponding to time points\n",
    "                max_time = 49\n",
    "                for time_point in np.arange(max_time):\n",
    "                    end_point = 't'+ str(time_point+1)\n",
    "                    temp = pd.concat([temp, pd.DataFrame({end_point: temp_df.value[temp_df.endpoint == end_point].values})],axis = 1)\n",
    "                #print(temp.head())\n",
    "                #print(reformat_data)\n",
    "                reformat_data = pd.concat([reformat_data, temp])\n",
    "                #print(reformat_data)'''"
   ]
  },
  {
   "cell_type": "code",
   "execution_count": null,
   "metadata": {},
   "outputs": [],
   "source": [
    "#display(reformat_data)"
   ]
  },
  {
   "cell_type": "code",
   "execution_count": null,
   "metadata": {},
   "outputs": [],
   "source": [
    "#reformat_data.to_csv('Phase_I_II_t1_t49_EPR.csv',index=False)"
   ]
  }
 ],
 "metadata": {
  "kernelspec": {
   "display_name": "Python 3",
   "language": "python",
   "name": "python3"
  },
  "language_info": {
   "codemirror_mode": {
    "name": "ipython",
    "version": 3
   },
   "file_extension": ".py",
   "mimetype": "text/x-python",
   "name": "python",
   "nbconvert_exporter": "python",
   "pygments_lexer": "ipython3",
   "version": "3.7.8"
  }
 },
 "nbformat": 4,
 "nbformat_minor": 4
}
