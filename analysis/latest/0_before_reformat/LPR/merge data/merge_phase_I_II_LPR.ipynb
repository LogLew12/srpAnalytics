{
 "cells": [
  {
   "cell_type": "code",
   "execution_count": 1,
   "metadata": {},
   "outputs": [],
   "source": [
    "import numpy as np\n",
    "import pandas as pd\n",
    "import matplotlib.pyplot as plt\n",
    "import os, random, shutil, time\n",
    "\n",
    "import warnings\n",
    "warnings.filterwarnings('ignore')\n",
    "\n",
    "import sys"
   ]
  },
  {
   "cell_type": "code",
   "execution_count": 2,
   "metadata": {},
   "outputs": [
    {
     "name": "stdout",
     "output_type": "stream",
     "text": [
      "/Users/kimd999/research/script_not_in_dropbox/srpAnalytics/analysis/latest/0_before_reformat/LPR/merge data\n"
     ]
    }
   ],
   "source": [
    "starting_dir = os.getcwd()\n",
    "print (starting_dir)"
   ]
  },
  {
   "cell_type": "code",
   "execution_count": 64,
   "metadata": {},
   "outputs": [
    {
     "data": {
      "text/html": [
       "<div>\n",
       "<style scoped>\n",
       "    .dataframe tbody tr th:only-of-type {\n",
       "        vertical-align: middle;\n",
       "    }\n",
       "\n",
       "    .dataframe tbody tr th {\n",
       "        vertical-align: top;\n",
       "    }\n",
       "\n",
       "    .dataframe thead th {\n",
       "        text-align: right;\n",
       "    }\n",
       "</style>\n",
       "<table border=\"1\" class=\"dataframe\">\n",
       "  <thead>\n",
       "    <tr style=\"text-align: right;\">\n",
       "      <th></th>\n",
       "      <th>chemical.id</th>\n",
       "      <th>bottle.id</th>\n",
       "      <th>conc</th>\n",
       "      <th>plate.id</th>\n",
       "      <th>well</th>\n",
       "      <th>endpoint</th>\n",
       "      <th>value</th>\n",
       "    </tr>\n",
       "  </thead>\n",
       "  <tbody>\n",
       "    <tr>\n",
       "      <th>0</th>\n",
       "      <td>2752</td>\n",
       "      <td>TX000657</td>\n",
       "      <td>0.64</td>\n",
       "      <td>TP972-H6-P1</td>\n",
       "      <td>B3</td>\n",
       "      <td>t3</td>\n",
       "      <td>0.4</td>\n",
       "    </tr>\n",
       "    <tr>\n",
       "      <th>1</th>\n",
       "      <td>2752</td>\n",
       "      <td>TX000657</td>\n",
       "      <td>0.64</td>\n",
       "      <td>TP972-H6-P1</td>\n",
       "      <td>F3</td>\n",
       "      <td>t3</td>\n",
       "      <td>0.0</td>\n",
       "    </tr>\n",
       "    <tr>\n",
       "      <th>2</th>\n",
       "      <td>2752</td>\n",
       "      <td>TX000657</td>\n",
       "      <td>6.40</td>\n",
       "      <td>TP972-H6-P1</td>\n",
       "      <td>B8</td>\n",
       "      <td>t3</td>\n",
       "      <td>37.5</td>\n",
       "    </tr>\n",
       "    <tr>\n",
       "      <th>3</th>\n",
       "      <td>2752</td>\n",
       "      <td>TX000657</td>\n",
       "      <td>0.64</td>\n",
       "      <td>TP972-H6-P1</td>\n",
       "      <td>C3</td>\n",
       "      <td>t3</td>\n",
       "      <td>0.0</td>\n",
       "    </tr>\n",
       "    <tr>\n",
       "      <th>4</th>\n",
       "      <td>2752</td>\n",
       "      <td>TX000657</td>\n",
       "      <td>0.64</td>\n",
       "      <td>TP972-H6-P1</td>\n",
       "      <td>F3</td>\n",
       "      <td>t3</td>\n",
       "      <td>0.0</td>\n",
       "    </tr>\n",
       "  </tbody>\n",
       "</table>\n",
       "</div>"
      ],
      "text/plain": [
       "  chemical.id bottle.id  conc     plate.id well endpoint  value\n",
       "0        2752  TX000657  0.64  TP972-H6-P1   B3       t3    0.4\n",
       "1        2752  TX000657  0.64  TP972-H6-P1   F3       t3    0.0\n",
       "2        2752  TX000657  6.40  TP972-H6-P1   B8       t3   37.5\n",
       "3        2752  TX000657  0.64  TP972-H6-P1   C3       t3    0.0\n",
       "4        2752  TX000657  0.64  TP972-H6-P1   F3       t3    0.0"
      ]
     },
     "metadata": {},
     "output_type": "display_data"
    }
   ],
   "source": [
    "# mac - phase I && II - LPR - tall - before_Lisa_fix\n",
    "file_path_before_fix_full = '/Users/kimd999/research/projects/toxicity/per_each_data/phase_I_II/input/LPR/before_Lisa_fix/tall/344_zf_LPR_data_phase_1_2_2020JUNE25_updated_plate_id_for_TX_tall.csv'\n",
    "df_before_fix_full = pd.read_csv(file_path_before_fix_full, header = 0)\n",
    "df_before_fix_full['chemical.id'] = df_before_fix_full['chemical.id'].astype(str)\n",
    "# 344 unique chemical IDs\n",
    "\n",
    "#unique_chemical_IDs = np.unique(df_before_fix_full['chemical.id'])\n",
    "#display (len(unique_chemical_IDs)) \n",
    "\n",
    "display(df_before_fix_full.head())"
   ]
  },
  {
   "cell_type": "code",
   "execution_count": 43,
   "metadata": {},
   "outputs": [
    {
     "data": {
      "text/html": [
       "<div>\n",
       "<style scoped>\n",
       "    .dataframe tbody tr th:only-of-type {\n",
       "        vertical-align: middle;\n",
       "    }\n",
       "\n",
       "    .dataframe tbody tr th {\n",
       "        vertical-align: top;\n",
       "    }\n",
       "\n",
       "    .dataframe thead th {\n",
       "        text-align: right;\n",
       "    }\n",
       "</style>\n",
       "<table border=\"1\" class=\"dataframe\">\n",
       "  <thead>\n",
       "    <tr style=\"text-align: right;\">\n",
       "      <th></th>\n",
       "      <th>chemical.id</th>\n",
       "      <th>bottle.id</th>\n",
       "      <th>conc</th>\n",
       "      <th>plate.id</th>\n",
       "      <th>well</th>\n",
       "      <th>endpoint</th>\n",
       "      <th>value</th>\n",
       "    </tr>\n",
       "  </thead>\n",
       "  <tbody>\n",
       "    <tr>\n",
       "      <th>0</th>\n",
       "      <td>2752</td>\n",
       "      <td>TX000657</td>\n",
       "      <td>0.64 uM</td>\n",
       "      <td>2</td>\n",
       "      <td>B3</td>\n",
       "      <td>t3</td>\n",
       "      <td>0.4</td>\n",
       "    </tr>\n",
       "    <tr>\n",
       "      <th>1</th>\n",
       "      <td>2752</td>\n",
       "      <td>TX000657</td>\n",
       "      <td>0.64 uM</td>\n",
       "      <td>1</td>\n",
       "      <td>F3</td>\n",
       "      <td>t3</td>\n",
       "      <td>0.0</td>\n",
       "    </tr>\n",
       "    <tr>\n",
       "      <th>2</th>\n",
       "      <td>2752</td>\n",
       "      <td>TX000657</td>\n",
       "      <td>6.4 uM</td>\n",
       "      <td>2</td>\n",
       "      <td>B8</td>\n",
       "      <td>t3</td>\n",
       "      <td>37.5</td>\n",
       "    </tr>\n",
       "    <tr>\n",
       "      <th>3</th>\n",
       "      <td>2752</td>\n",
       "      <td>TX000657</td>\n",
       "      <td>0.64 uM</td>\n",
       "      <td>1</td>\n",
       "      <td>C3</td>\n",
       "      <td>t3</td>\n",
       "      <td>0.0</td>\n",
       "    </tr>\n",
       "    <tr>\n",
       "      <th>4</th>\n",
       "      <td>2752</td>\n",
       "      <td>TX000657</td>\n",
       "      <td>0.64 uM</td>\n",
       "      <td>2</td>\n",
       "      <td>F3</td>\n",
       "      <td>t3</td>\n",
       "      <td>0.0</td>\n",
       "    </tr>\n",
       "  </tbody>\n",
       "</table>\n",
       "</div>"
      ],
      "text/plain": [
       "  chemical.id bottle.id     conc  plate.id well endpoint  value\n",
       "0        2752  TX000657  0.64 uM         2   B3       t3    0.4\n",
       "1        2752  TX000657  0.64 uM         1   F3       t3    0.0\n",
       "2        2752  TX000657   6.4 uM         2   B8       t3   37.5\n",
       "3        2752  TX000657  0.64 uM         1   C3       t3    0.0\n",
       "4        2752  TX000657  0.64 uM         2   F3       t3    0.0"
      ]
     },
     "metadata": {},
     "output_type": "display_data"
    }
   ],
   "source": [
    "# mac - phase I && II - LPR - tall - after_Lisa_fix\n",
    "file_path_after_fix_149 = '/Users/kimd999/research/projects/toxicity/per_each_data/phase_I_II/input/LPR/after_Lisa_fix/has_only_used_to_be_duplicated_chemcials/149_Toxcast_zf_LPR_data_phase_2_2021APR09.csv'\n",
    "df_after_fix_149 = pd.read_csv(file_path_after_fix_149, header = 0)\n",
    "df_after_fix_149['chemical.id'] = df_after_fix_149['chemical.id'].astype(str)\n",
    "# 149 unique chemical IDs\n",
    "\n",
    "#unique_chemical_IDs = np.unique(df_after_fix_149['chemical.id'])\n",
    "#display (len(unique_chemical_IDs)) \n",
    "\n",
    "after_fix_per_chemical = df_after_fix_149.loc[df_after_fix_149['chemical.id'] == '2752',:]\n",
    "display (after_fix_per_chemical.head())\n",
    "    \n",
    "#display(df_after_fix_149.head())"
   ]
  },
  {
   "cell_type": "code",
   "execution_count": 84,
   "metadata": {},
   "outputs": [
    {
     "name": "stdout",
     "output_type": "stream",
     "text": [
      "\n",
      "\n",
      "chemical_index:1670\n",
      "\n",
      "\n",
      "chemical_index:1606\n"
     ]
    }
   ],
   "source": [
    "def merge(chemical_index, df_before_fix_full, df_after_fix_149, df_merged):\n",
    "    df_before_fix_per_chemical = df_before_fix_full.loc[df_before_fix_full['chemical.id'] == str(chemical_index),:]\n",
    "    #display ('before_fix:', df_before_fix_per_chemical.tail(1))\n",
    "    \n",
    "    df_after_fix_per_chemical  = df_after_fix_149.loc[df_after_fix_149['chemical.id'] == str(chemical_index),:]\n",
    "    #display (\"after_fix:\", df_after_fix_per_chemical.tail(1))\n",
    "    \n",
    "    if (df_after_fix_per_chemical.empty == False):\n",
    "        df_merged = pd.concat([df_merged, df_after_fix_per_chemical])\n",
    "    else:\n",
    "        df_merged = pd.concat([df_merged, df_before_fix_per_chemical])\n",
    "        \n",
    "    #display (\"df_merged:\", df_merged.tail(1))\n",
    "        \n",
    "    return df_merged\n",
    "########### end of def merge()\n",
    "\n",
    "df_merged = pd.DataFrame()\n",
    "\n",
    "#full_devel = \"full\"\n",
    "full_devel = \"devel\"\n",
    "\n",
    "all_chemical_id_s = np.unique(df_before_fix_full['chemical.id'])\n",
    "if (full_devel == \"devel\"):\n",
    "    randomly_chosen = random.sample(set(all_chemical_id_s), 2)\n",
    "    all_chemical_id_s = []\n",
    "    for i in range(len(randomly_chosen)):\n",
    "        all_chemical_id_s.append(randomly_chosen[i])\n",
    "\n",
    "#all_chemical_id_s = [2752]\n",
    "\n",
    "for chemical_index in all_chemical_id_s:\n",
    "    print(\"\\n\\nchemical_index:\" + str(chemical_index))\n",
    "    df_merged = merge(chemical_index, df_before_fix_full, df_after_fix_149, df_merged)\n",
    "\n",
    "#merged.to_csv(\"merged.csv\", index=False)"
   ]
  },
  {
   "cell_type": "code",
   "execution_count": 88,
   "metadata": {},
   "outputs": [
    {
     "name": "stdout",
     "output_type": "stream",
     "text": [
      "\n",
      "\n",
      "conc_index:296\n"
     ]
    },
    {
     "data": {
      "text/plain": [
       "'df_merged:'"
      ]
     },
     "metadata": {},
     "output_type": "display_data"
    },
    {
     "data": {
      "text/html": [
       "<div>\n",
       "<style scoped>\n",
       "    .dataframe tbody tr th:only-of-type {\n",
       "        vertical-align: middle;\n",
       "    }\n",
       "\n",
       "    .dataframe tbody tr th {\n",
       "        vertical-align: top;\n",
       "    }\n",
       "\n",
       "    .dataframe thead th {\n",
       "        text-align: right;\n",
       "    }\n",
       "</style>\n",
       "<table border=\"1\" class=\"dataframe\">\n",
       "  <thead>\n",
       "    <tr style=\"text-align: right;\">\n",
       "      <th></th>\n",
       "      <th>chemical.id</th>\n",
       "      <th>bottle.id</th>\n",
       "      <th>conc</th>\n",
       "      <th>plate.id</th>\n",
       "      <th>well</th>\n",
       "      <th>endpoint</th>\n",
       "      <th>value</th>\n",
       "    </tr>\n",
       "  </thead>\n",
       "  <tbody>\n",
       "    <tr>\n",
       "      <th>413183</th>\n",
       "      <td>1606</td>\n",
       "      <td>TX003387</td>\n",
       "      <td>0 uM</td>\n",
       "      <td>1</td>\n",
       "      <td>H6</td>\n",
       "      <td>t17</td>\n",
       "      <td>0.0</td>\n",
       "    </tr>\n",
       "  </tbody>\n",
       "</table>\n",
       "</div>"
      ],
      "text/plain": [
       "       chemical.id bottle.id  conc plate.id well endpoint  value\n",
       "413183        1606  TX003387  0 uM        1   H6      t17    0.0"
      ]
     },
     "metadata": {},
     "output_type": "display_data"
    },
    {
     "data": {
      "text/plain": [
       "'before_fix:'"
      ]
     },
     "metadata": {},
     "output_type": "display_data"
    },
    {
     "data": {
      "text/html": [
       "<div>\n",
       "<style scoped>\n",
       "    .dataframe tbody tr th:only-of-type {\n",
       "        vertical-align: middle;\n",
       "    }\n",
       "\n",
       "    .dataframe tbody tr th {\n",
       "        vertical-align: top;\n",
       "    }\n",
       "\n",
       "    .dataframe thead th {\n",
       "        text-align: right;\n",
       "    }\n",
       "</style>\n",
       "<table border=\"1\" class=\"dataframe\">\n",
       "  <thead>\n",
       "    <tr style=\"text-align: right;\">\n",
       "      <th></th>\n",
       "      <th>chemical.id</th>\n",
       "      <th>bottle.id</th>\n",
       "      <th>conc</th>\n",
       "      <th>plate.id</th>\n",
       "      <th>well</th>\n",
       "      <th>endpoint</th>\n",
       "      <th>value</th>\n",
       "    </tr>\n",
       "  </thead>\n",
       "  <tbody>\n",
       "  </tbody>\n",
       "</table>\n",
       "</div>"
      ],
      "text/plain": [
       "Empty DataFrame\n",
       "Columns: [chemical.id, bottle.id, conc, plate.id, well, endpoint, value]\n",
       "Index: []"
      ]
     },
     "metadata": {},
     "output_type": "display_data"
    },
    {
     "ename": "NameError",
     "evalue": "name 'b' is not defined",
     "output_type": "error",
     "traceback": [
      "\u001b[0;31m---------------------------------------------------------------------------\u001b[0m",
      "\u001b[0;31mNameError\u001b[0m                                 Traceback (most recent call last)",
      "\u001b[0;32m<ipython-input-88-788067cbb109>\u001b[0m in \u001b[0;36m<module>\u001b[0;34m()\u001b[0m\n\u001b[1;32m     26\u001b[0m \u001b[0;32mfor\u001b[0m \u001b[0mconc_index\u001b[0m \u001b[0;32min\u001b[0m \u001b[0mall_conc\u001b[0m\u001b[0;34m:\u001b[0m\u001b[0;34m\u001b[0m\u001b[0;34m\u001b[0m\u001b[0m\n\u001b[1;32m     27\u001b[0m     \u001b[0mprint\u001b[0m\u001b[0;34m(\u001b[0m\u001b[0;34m\"\\n\\nconc_index:\"\u001b[0m \u001b[0;34m+\u001b[0m \u001b[0mstr\u001b[0m\u001b[0;34m(\u001b[0m\u001b[0mconc_index\u001b[0m\u001b[0;34m)\u001b[0m\u001b[0;34m)\u001b[0m\u001b[0;34m\u001b[0m\u001b[0;34m\u001b[0m\u001b[0m\n\u001b[0;32m---> 28\u001b[0;31m     \u001b[0mdf_merged_uM_removed\u001b[0m \u001b[0;34m=\u001b[0m \u001b[0mremove_uM\u001b[0m\u001b[0;34m(\u001b[0m\u001b[0mconc_index\u001b[0m\u001b[0;34m,\u001b[0m \u001b[0mdf_merged\u001b[0m\u001b[0;34m,\u001b[0m \u001b[0mdf_merged_uM_removed\u001b[0m\u001b[0;34m)\u001b[0m\u001b[0;34m\u001b[0m\u001b[0;34m\u001b[0m\u001b[0m\n\u001b[0m\u001b[1;32m     29\u001b[0m \u001b[0;34m\u001b[0m\u001b[0m\n\u001b[1;32m     30\u001b[0m \u001b[0mmerged\u001b[0m\u001b[0;34m.\u001b[0m\u001b[0mto_csv\u001b[0m\u001b[0;34m(\u001b[0m\u001b[0;34m\"merged.csv\"\u001b[0m\u001b[0;34m,\u001b[0m \u001b[0mindex\u001b[0m\u001b[0;34m=\u001b[0m\u001b[0;32mFalse\u001b[0m\u001b[0;34m)\u001b[0m\u001b[0;34m\u001b[0m\u001b[0;34m\u001b[0m\u001b[0m\n",
      "\u001b[0;32m<ipython-input-88-788067cbb109>\u001b[0m in \u001b[0;36mremove_uM\u001b[0;34m(conc_index, df_merged, df_merged_uM_removed)\u001b[0m\n\u001b[1;32m      5\u001b[0m     \u001b[0mdf_merged_per_conc\u001b[0m \u001b[0;34m=\u001b[0m \u001b[0mdf_merged\u001b[0m\u001b[0;34m.\u001b[0m\u001b[0mloc\u001b[0m\u001b[0;34m[\u001b[0m\u001b[0mdf_merged\u001b[0m\u001b[0;34m[\u001b[0m\u001b[0;34m\"conc\"\u001b[0m\u001b[0;34m]\u001b[0m \u001b[0;34m==\u001b[0m \u001b[0mstr\u001b[0m\u001b[0;34m(\u001b[0m\u001b[0mconc_index\u001b[0m\u001b[0;34m)\u001b[0m\u001b[0;34m,\u001b[0m\u001b[0;34m:\u001b[0m\u001b[0;34m]\u001b[0m\u001b[0;34m\u001b[0m\u001b[0;34m\u001b[0m\u001b[0m\n\u001b[1;32m      6\u001b[0m     \u001b[0mdisplay\u001b[0m \u001b[0;34m(\u001b[0m\u001b[0;34m'before_fix:'\u001b[0m\u001b[0;34m,\u001b[0m \u001b[0mdf_merged_per_conc\u001b[0m\u001b[0;34m.\u001b[0m\u001b[0mtail\u001b[0m\u001b[0;34m(\u001b[0m\u001b[0;36m1\u001b[0m\u001b[0;34m)\u001b[0m\u001b[0;34m)\u001b[0m\u001b[0;34m\u001b[0m\u001b[0;34m\u001b[0m\u001b[0m\n\u001b[0;32m----> 7\u001b[0;31m     \u001b[0ma\u001b[0m\u001b[0;34m=\u001b[0m\u001b[0mb\u001b[0m\u001b[0;34m\u001b[0m\u001b[0;34m\u001b[0m\u001b[0m\n\u001b[0m\u001b[1;32m      8\u001b[0m     \u001b[0mdisplay\u001b[0m\u001b[0;34m(\u001b[0m\u001b[0mnp\u001b[0m\u001b[0;34m.\u001b[0m\u001b[0munique\u001b[0m\u001b[0;34m(\u001b[0m\u001b[0mdf_merged_per_conc\u001b[0m\u001b[0;34m)\u001b[0m\u001b[0;34m)\u001b[0m\u001b[0;34m\u001b[0m\u001b[0;34m\u001b[0m\u001b[0m\n\u001b[1;32m      9\u001b[0m \u001b[0;34m\u001b[0m\u001b[0m\n",
      "\u001b[0;31mNameError\u001b[0m: name 'b' is not defined"
     ]
    }
   ],
   "source": [
    "def remove_uM(conc_index, df_merged, df_merged_uM_removed):\n",
    "    display ('df_merged:', df_merged.tail(1))\n",
    "    \n",
    "    # df_before_fix_per_chemical = df_before_fix_full.loc[df_before_fix_full['chemical.id'] == str(chemical_index),:]\n",
    "    df_merged_per_conc = df_merged.loc[df_merged[\"conc\"] == str(conc_index),:]\n",
    "    display ('before_fix:', df_merged_per_conc.tail(1))\n",
    "    a=b\n",
    "    display(np.unique(df_merged_per_conc))\n",
    "        \n",
    "    return df_merged_uM_removed\n",
    "########### end of def remove_uM()\n",
    "\n",
    "\n",
    "df_merged_uM_removed = pd.DataFrame()\n",
    "\n",
    "#full_devel = \"full\"\n",
    "full_devel = \"devel\"\n",
    "\n",
    "all_conc = np.unique(df_merged['chemical.id'])\n",
    "if (full_devel == \"devel\"):\n",
    "    randomly_chosen = random.sample(set(all_conc), 2)\n",
    "    all_conc = []\n",
    "    for i in range(len(randomly_chosen)):\n",
    "        all_conc.append(randomly_chosen[i])\n",
    "\n",
    "for conc_index in all_conc:\n",
    "    print(\"\\n\\nconc_index:\" + str(conc_index))\n",
    "    df_merged_uM_removed = remove_uM(conc_index, df_merged, df_merged_uM_removed)\n",
    "\n",
    "merged.to_csv(\"merged.csv\", index=False)\n",
    "\n",
    "# df_merged.conc = df_merged.conc.replace(\" uM\", \"\")\n",
    "    \n",
    "#replaced = df_merged[\"conc\"].str.replace(\"uM\", \"\")\n",
    "#    print (replaced)\n",
    "#    if (replaced != \"NA\"):\n",
    "#        df_merged[\"conc\"] = replaced\n"
   ]
  },
  {
   "cell_type": "code",
   "execution_count": 45,
   "metadata": {},
   "outputs": [
    {
     "data": {
      "text/plain": [
       "array([  57,  332,  380,  778, 1161, 1187, 1614, 2686, 2877, 2893])"
      ]
     },
     "metadata": {},
     "output_type": "display_data"
    }
   ],
   "source": [
    "#all_chemical_id_s_merged = np.unique(str(merged['chemical.id']))\n",
    "all_chemical_id_s_merged = np.unique(merged['chemical.id'])\n",
    "display(all_chemical_id_s_merged)"
   ]
  },
  {
   "cell_type": "code",
   "execution_count": null,
   "metadata": {},
   "outputs": [],
   "source": []
  }
 ],
 "metadata": {
  "kernelspec": {
   "display_name": "Python 3",
   "language": "python",
   "name": "python3"
  },
  "language_info": {
   "codemirror_mode": {
    "name": "ipython",
    "version": 3
   },
   "file_extension": ".py",
   "mimetype": "text/x-python",
   "name": "python",
   "nbconvert_exporter": "python",
   "pygments_lexer": "ipython3",
   "version": "3.7.8"
  }
 },
 "nbformat": 4,
 "nbformat_minor": 4
}
