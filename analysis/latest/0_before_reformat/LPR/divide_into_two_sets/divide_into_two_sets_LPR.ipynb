{
 "cells": [
  {
   "cell_type": "markdown",
   "metadata": {},
   "source": [
    "# Lisa confirmed that LPR for Phase I,II have two sets of timepoints "
   ]
  },
  {
   "cell_type": "code",
   "execution_count": 1,
   "metadata": {},
   "outputs": [],
   "source": [
    "import numpy as np\n",
    "import pandas as pd\n",
    "import matplotlib.pyplot as plt\n",
    "import seaborn as sns\n",
    "import os, time\n",
    "\n",
    "import warnings\n",
    "warnings.filterwarnings('ignore')"
   ]
  },
  {
   "cell_type": "code",
   "execution_count": 2,
   "metadata": {},
   "outputs": [
    {
     "name": "stdout",
     "output_type": "stream",
     "text": [
      "/Users/kimd999/research/script_not_in_dropbox/srpAnalytics/analysis/latest/1_reformat/all_targets/LPR/divide_into_two_sets\n"
     ]
    }
   ],
   "source": [
    "starting_dir = os.getcwd()\n",
    "print (starting_dir)"
   ]
  },
  {
   "cell_type": "markdown",
   "metadata": {},
   "source": [
    "### Reformat LPR behavioral data"
   ]
  },
  {
   "cell_type": "code",
   "execution_count": 8,
   "metadata": {},
   "outputs": [],
   "source": [
    "## mac - phase I,II - LPR - before_Lisa_plate_id_fix\n",
    "#complete_input_file_path= '/Users/kimd999/research/projects/toxicity/per_each_data/phase_I_II/input/LPR/tall/before_Lisa_plate_id_fix/344_zf_LPR_data_phase_1_2_2020JUNE25_updated_plate_id_for_TX_tall.csv'\n",
    "# 344 unique chemical.IDs\n",
    "\n",
    "## mac - phase I,II - LPR - after_Lisa_plate_id_fix\n",
    "complete_input_file_path= '/Users/kimd999/research/projects/toxicity/per_each_data/phase_I_II/input/LPR/tall/after_Lisa_plate_id_fix/original/149_Toxcast_zf_LPR_data_phase_2_2021APR09.csv'\n",
    "# 149 unique chemical.IDs\n",
    "\n",
    "## constance - phase I,II - LPR\n",
    "#complete_input_file_path = '/people/kimd999/tox/phase_I_II/data/344_zf_LPR_data_phase_1_2_2020JUNE25_updated_plate_id_for_TX.csv'\n",
    "\n",
    "\n",
    "behav_all_data = pd.read_csv(complete_input_file_path, header = 0)\n",
    "#behav_all_data.head()"
   ]
  },
  {
   "cell_type": "code",
   "execution_count": 9,
   "metadata": {},
   "outputs": [
    {
     "name": "stdout",
     "output_type": "stream",
     "text": [
      "chemical_id_count:149\n"
     ]
    }
   ],
   "source": [
    "chemical_id_count = 0\n",
    "for chemical_id in np.unique(behav_all_data['chemical.id']):\n",
    "    chemical_id_count += 1\n",
    "print (\"chemical_id_count:\"+str(chemical_id_count))"
   ]
  },
  {
   "cell_type": "code",
   "execution_count": 6,
   "metadata": {},
   "outputs": [],
   "source": [
    "#len(behav_all_data)"
   ]
  },
  {
   "cell_type": "code",
   "execution_count": 7,
   "metadata": {},
   "outputs": [],
   "source": [
    "#TX_bottle_id_behav_all_data = behav_all_data[behav_all_data['bottle.id'].str.contains(\"^TX\")]\n",
    "#TX_bottle_id_behav_all_data.head()"
   ]
  },
  {
   "cell_type": "code",
   "execution_count": 8,
   "metadata": {},
   "outputs": [],
   "source": [
    "#len(TX_bottle_id_behav_all_data)"
   ]
  },
  {
   "cell_type": "code",
   "execution_count": 9,
   "metadata": {},
   "outputs": [],
   "source": [
    "##### (start) replace plate.id in behavioral data with plate.id in morphological data (common data will be bottle.id)\n",
    "\n",
    "#mac\n",
    "#complete_morph_file_path = '/Users/kimd999/research/projects/toxicity/per_each_data/Phase_I_II/input/morphology/tall/zf_morphology_data_335_chemicals_2020DEC16.csv'\n",
    "\n",
    "#constance\n",
    "#complete_morph_file_path = '/people/kimd999/tox/phase_I_II_close_file_frequently/data/zf_morphology_data_335_chemicals_2020DEC16.csv'\n",
    "\n",
    "#morph_all_data = pd.read_csv(complete_morph_file_path, header = 0)\n",
    "#morph_all_data.head()"
   ]
  },
  {
   "cell_type": "code",
   "execution_count": 10,
   "metadata": {},
   "outputs": [
    {
     "data": {
      "text/plain": [
       "'chemical_id_count = 0\\nfor chemical_id in np.unique(morph_all_data[\\'chemical.id\\']):\\n    chemical_id_count += 1\\nprint (\"chemical_id_count:\"+str(chemical_id_count))\\n'"
      ]
     },
     "execution_count": 10,
     "metadata": {},
     "output_type": "execute_result"
    }
   ],
   "source": [
    "'''chemical_id_count = 0\n",
    "for chemical_id in np.unique(morph_all_data['chemical.id']):\n",
    "    chemical_id_count += 1\n",
    "print (\"chemical_id_count:\"+str(chemical_id_count))\n",
    "'''"
   ]
  },
  {
   "cell_type": "code",
   "execution_count": 11,
   "metadata": {},
   "outputs": [],
   "source": [
    "#len(morph_all_data)"
   ]
  },
  {
   "cell_type": "code",
   "execution_count": 12,
   "metadata": {},
   "outputs": [],
   "source": [
    "#TX_bottle_id_morph_all_data = morph_all_data[morph_all_data['bottle.id'].str.contains(\"^TX\")]\n",
    "#TX_bottle_id_morph_all_data.head()"
   ]
  },
  {
   "cell_type": "code",
   "execution_count": 13,
   "metadata": {},
   "outputs": [],
   "source": [
    "#len(TX_bottle_id_morph_all_data)"
   ]
  },
  {
   "cell_type": "code",
   "execution_count": 14,
   "metadata": {},
   "outputs": [],
   "source": [
    "#new_behav_all_data = TX_bottle_id_behav_all_data.loc[TX_bottle_id_morph_all_data['bottle.id'],['chemical.id', 'bottle.id', 'conc', 'plate.id', 'well', 'endpoint', 'value']]"
   ]
  },
  {
   "cell_type": "code",
   "execution_count": 15,
   "metadata": {},
   "outputs": [],
   "source": [
    "##### (end) replace plate.id in behavioral data with plate.id in morphological data (common data will be bottle.id)"
   ]
  },
  {
   "cell_type": "code",
   "execution_count": 16,
   "metadata": {},
   "outputs": [],
   "source": [
    "#new_behav_all_data = behav_all_data.loc[behav_all_data['bottle.id'] == \"TX002271\",['chemical.id', 'bottle.id', 'conc', 'plate.id', 'well', 'endpoint', 'value']]"
   ]
  },
  {
   "cell_type": "code",
   "execution_count": 17,
   "metadata": {},
   "outputs": [],
   "source": [
    "#new_behav_all_data.head()"
   ]
  },
  {
   "cell_type": "code",
   "execution_count": 18,
   "metadata": {},
   "outputs": [
    {
     "data": {
      "text/html": [
       "<div>\n",
       "<style scoped>\n",
       "    .dataframe tbody tr th:only-of-type {\n",
       "        vertical-align: middle;\n",
       "    }\n",
       "\n",
       "    .dataframe tbody tr th {\n",
       "        vertical-align: top;\n",
       "    }\n",
       "\n",
       "    .dataframe thead th {\n",
       "        text-align: right;\n",
       "    }\n",
       "</style>\n",
       "<table border=\"1\" class=\"dataframe\">\n",
       "  <thead>\n",
       "    <tr style=\"text-align: right;\">\n",
       "      <th></th>\n",
       "      <th>chemical.id</th>\n",
       "      <th>conc</th>\n",
       "      <th>plate.id</th>\n",
       "      <th>well</th>\n",
       "      <th>endpoint</th>\n",
       "      <th>value</th>\n",
       "    </tr>\n",
       "  </thead>\n",
       "  <tbody>\n",
       "    <tr>\n",
       "      <th>0</th>\n",
       "      <td>2752</td>\n",
       "      <td>0.64</td>\n",
       "      <td>2.0</td>\n",
       "      <td>B3</td>\n",
       "      <td>t3</td>\n",
       "      <td>0.4</td>\n",
       "    </tr>\n",
       "    <tr>\n",
       "      <th>1</th>\n",
       "      <td>2752</td>\n",
       "      <td>0.64</td>\n",
       "      <td>1.0</td>\n",
       "      <td>F3</td>\n",
       "      <td>t3</td>\n",
       "      <td>0.0</td>\n",
       "    </tr>\n",
       "    <tr>\n",
       "      <th>2</th>\n",
       "      <td>2752</td>\n",
       "      <td>6.40</td>\n",
       "      <td>2.0</td>\n",
       "      <td>B8</td>\n",
       "      <td>t3</td>\n",
       "      <td>37.5</td>\n",
       "    </tr>\n",
       "    <tr>\n",
       "      <th>3</th>\n",
       "      <td>2752</td>\n",
       "      <td>0.64</td>\n",
       "      <td>1.0</td>\n",
       "      <td>C3</td>\n",
       "      <td>t3</td>\n",
       "      <td>0.0</td>\n",
       "    </tr>\n",
       "    <tr>\n",
       "      <th>4</th>\n",
       "      <td>2752</td>\n",
       "      <td>0.64</td>\n",
       "      <td>2.0</td>\n",
       "      <td>F3</td>\n",
       "      <td>t3</td>\n",
       "      <td>0.0</td>\n",
       "    </tr>\n",
       "  </tbody>\n",
       "</table>\n",
       "</div>"
      ],
      "text/plain": [
       "   chemical.id  conc  plate.id well endpoint  value\n",
       "0         2752  0.64       2.0   B3       t3    0.4\n",
       "1         2752  0.64       1.0   F3       t3    0.0\n",
       "2         2752  6.40       2.0   B8       t3   37.5\n",
       "3         2752  0.64       1.0   C3       t3    0.0\n",
       "4         2752  0.64       2.0   F3       t3    0.0"
      ]
     },
     "execution_count": 18,
     "metadata": {},
     "output_type": "execute_result"
    }
   ],
   "source": [
    "# Keep only relevant columns\n",
    "columns_to_keep = ['chemical.id', 'conc', 'plate.id', 'well', 'endpoint', 'value']\n",
    "behav_all_data_select = behav_all_data.loc[:,columns_to_keep]\n",
    "behav_all_data_select.head()"
   ]
  },
  {
   "cell_type": "code",
   "execution_count": 19,
   "metadata": {},
   "outputs": [
    {
     "name": "stdout",
     "output_type": "stream",
     "text": [
      "chemical_id_count:344\n"
     ]
    }
   ],
   "source": [
    "chemical_id_count = 0\n",
    "for chemical_id in np.unique(behav_all_data_select['chemical.id']):\n",
    "    chemical_id_count += 1\n",
    "print (\"chemical_id_count:\"+str(chemical_id_count))"
   ]
  },
  {
   "cell_type": "code",
   "execution_count": 20,
   "metadata": {},
   "outputs": [],
   "source": [
    "#display(np.unique(behav_all_data['endpoint']))"
   ]
  },
  {
   "cell_type": "code",
   "execution_count": 21,
   "metadata": {},
   "outputs": [],
   "source": [
    "#display(np.unique(behav_all_data_select['endpoint']))"
   ]
  },
  {
   "cell_type": "code",
   "execution_count": 22,
   "metadata": {},
   "outputs": [],
   "source": [
    "#reformat_data.head()"
   ]
  },
  {
   "cell_type": "code",
   "execution_count": 23,
   "metadata": {},
   "outputs": [],
   "source": [
    "#reformat_data.shape"
   ]
  },
  {
   "cell_type": "code",
   "execution_count": 24,
   "metadata": {},
   "outputs": [],
   "source": [
    "#reformat_data.to_csv('Phase_I_II_t3_t17_LPR.csv',index=False)"
   ]
  },
  {
   "cell_type": "code",
   "execution_count": 25,
   "metadata": {},
   "outputs": [],
   "source": [
    "###### replace plate id with what is listed in the morphology data to the LPR.\n",
    "###### for your example, TP967-E9-P1, will go in place of plate.id “1” in the LPR file.\n",
    "\n",
    "# read morpho data and match/join\n"
   ]
  },
  {
   "cell_type": "markdown",
   "metadata": {},
   "source": [
    "### t0_t239 time points"
   ]
  },
  {
   "cell_type": "code",
   "execution_count": 26,
   "metadata": {
    "scrolled": true
   },
   "outputs": [
    {
     "name": "stdout",
     "output_type": "stream",
     "text": [
      "Done, it took:95.9 seconds\n"
     ]
    },
    {
     "data": {
      "image/png": "[encoded data removed]",
      "text/plain": [
       "<Figure size 576x288 with 1 Axes>"
      ]
     },
     "metadata": {
      "needs_background": "light"
     },
     "output_type": "display_data"
    }
   ],
   "source": [
    "start_time = time.time()\n",
    "\n",
    "behav_data_chemical_w_240_endpoints = pd.DataFrame()\n",
    "behav_data_chemical_w_15_endpoints = pd.DataFrame()\n",
    "    \n",
    "len_endpoint = []\n",
    "    \n",
    "full_devel = \"full\"\n",
    "#full_devel = \"devel\"\n",
    "\n",
    "chemical_id_from_here = np.unique(behav_all_data['chemical.id'])\n",
    "if (full_devel == \"devel\"):\n",
    "    randomly_chosen = random.sample(set(chemical_id_from_here), 1)\n",
    "    chemical_id_from_here = []\n",
    "    for i in range(len(randomly_chosen)):\n",
    "        chemical_id_from_here.append(randomly_chosen[i])\n",
    "        \n",
    "    \n",
    "for chemical_index in chemical_id_from_here:\n",
    "    behav_data_chemical = behav_all_data_select.loc[behav_all_data['chemical.id'] == chemical_index,:]\n",
    "#    print(\"chemical_index:\" + str(chemical_index))\n",
    "\n",
    "    if (len(np.unique(behav_data_chemical['endpoint'])) == 240):\n",
    "        behav_data_chemical_w_240_endpoints = pd.concat([behav_data_chemical_w_240_endpoints, behav_data_chemical])\n",
    "    else:\n",
    "        behav_data_chemical_w_15_endpoints = pd.concat([behav_data_chemical_w_15_endpoints, behav_data_chemical])\n",
    "    len_endpoint.append(len(np.unique(behav_data_chemical['endpoint'])))\n",
    "\n",
    "\n",
    "end_time = time.time()\n",
    "time_took = str(round((end_time-start_time), 1)) + \" seconds\"\n",
    "print (\"Done, it took:\"+str(time_took)) \n",
    "# took 2 minutes for 2 chemicals\n",
    "\n",
    "ds = pd.Series({\"Column\": len_endpoint})\n",
    "plt.figure(figsize=(8,4))\n",
    "sns.countplot(x=\"Column\", data=ds)\n",
    "plt.show()"
   ]
  },
  {
   "cell_type": "code",
   "execution_count": null,
   "metadata": {},
   "outputs": [],
   "source": [
    "display(behav_data_chemical_w_240_endpoints)\n",
    "display(behav_data_chemical_w_15_endpoints)"
   ]
  },
  {
   "cell_type": "code",
   "execution_count": 27,
   "metadata": {},
   "outputs": [],
   "source": [
    "reformatted_data_filename = str(complete_input_file_path[:-4]) + \"_\" + str(full_devel) + \"_w_240_endpoints.csv\"\n",
    "print (\"reformatted_data_filename:\"+str(reformatted_data_filename))\n",
    "behav_data_chemical_w_240_endpoints.to_csv(reformatted_data_filename,index=False)"
   ]
  },
  {
   "cell_type": "code",
   "execution_count": 28,
   "metadata": {},
   "outputs": [],
   "source": [
    "reformatted_data_filename = str(complete_input_file_path[:-4]) + \"_\" + str(full_devel) + \"_w_15_endpoints.csv\"\n",
    "print (\"reformatted_data_filename:\"+str(reformatted_data_filename))\n",
    "behav_data_chemical_w_15_endpoints.to_csv(reformatted_data_filename,index=False)"
   ]
  },
  {
   "cell_type": "code",
   "execution_count": 37,
   "metadata": {},
   "outputs": [
    {
     "data": {
      "text/plain": [
       "196"
      ]
     },
     "metadata": {},
     "output_type": "display_data"
    },
    {
     "data": {
      "text/plain": [
       "148"
      ]
     },
     "metadata": {},
     "output_type": "display_data"
    }
   ],
   "source": [
    "display(len(np.unique(behav_data_chemical_w_240_endpoints['chemical.id'])))\n",
    "\n",
    "display(len(np.unique(behav_data_chemical_w_15_endpoints['chemical.id'])))"
   ]
  }
 ],
 "metadata": {
  "kernelspec": {
   "display_name": "Python 3",
   "language": "python",
   "name": "python3"
  },
  "language_info": {
   "codemirror_mode": {
    "name": "ipython",
    "version": 3
   },
   "file_extension": ".py",
   "mimetype": "text/x-python",
   "name": "python",
   "nbconvert_exporter": "python",
   "pygments_lexer": "ipython3",
   "version": "3.7.8"
  }
 },
 "nbformat": 4,
 "nbformat_minor": 4
}
