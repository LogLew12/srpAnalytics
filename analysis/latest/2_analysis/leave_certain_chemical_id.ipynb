{
 "cells": [
  {
   "cell_type": "code",
   "execution_count": 1,
   "metadata": {},
   "outputs": [],
   "source": [
    "import numpy as np\n",
    "import pandas as pd\n",
    "import os, time\n",
    "from matplotlib import pyplot as plt\n",
    "import seaborn as sns"
   ]
  },
  {
   "cell_type": "code",
   "execution_count": 2,
   "metadata": {},
   "outputs": [
    {
     "name": "stdout",
     "output_type": "stream",
     "text": [
      "/Users/kimd999/research/script_not_in_dropbox/srpAnalytics/analysis/latest/2_analysis\n"
     ]
    }
   ],
   "source": [
    "starting_dir = os.getcwd()\n",
    "print (starting_dir)"
   ]
  },
  {
   "cell_type": "code",
   "execution_count": 15,
   "metadata": {},
   "outputs": [],
   "source": [
    "complete_input_file_path = '/Users/kimd999/research/projects/toxicity/per_each_data/phase_I_II/input/behavioral/LPR/tall/344_zf_LPR_data_phase_1_2_2020JUNE25_updated_plate_id_for_TX_tall_full_w_15_endpoints.csv'\n",
    "df = pd.read_csv(complete_input_file_path, header = 0)"
   ]
  },
  {
   "cell_type": "code",
   "execution_count": 16,
   "metadata": {},
   "outputs": [
    {
     "data": {
      "text/html": [
       "<div>\n",
       "<style scoped>\n",
       "    .dataframe tbody tr th:only-of-type {\n",
       "        vertical-align: middle;\n",
       "    }\n",
       "\n",
       "    .dataframe tbody tr th {\n",
       "        vertical-align: top;\n",
       "    }\n",
       "\n",
       "    .dataframe thead th {\n",
       "        text-align: right;\n",
       "    }\n",
       "</style>\n",
       "<table border=\"1\" class=\"dataframe\">\n",
       "  <thead>\n",
       "    <tr style=\"text-align: right;\">\n",
       "      <th></th>\n",
       "      <th>chemical.id</th>\n",
       "      <th>conc</th>\n",
       "      <th>plate.id</th>\n",
       "      <th>well</th>\n",
       "      <th>endpoint</th>\n",
       "      <th>value</th>\n",
       "    </tr>\n",
       "  </thead>\n",
       "  <tbody>\n",
       "    <tr>\n",
       "      <th>0</th>\n",
       "      <td>163</td>\n",
       "      <td>0.000</td>\n",
       "      <td>TP967-E9-P1</td>\n",
       "      <td>G6</td>\n",
       "      <td>t3</td>\n",
       "      <td>131.0</td>\n",
       "    </tr>\n",
       "    <tr>\n",
       "      <th>1</th>\n",
       "      <td>163</td>\n",
       "      <td>0.064</td>\n",
       "      <td>TP967-E9-P1</td>\n",
       "      <td>H4</td>\n",
       "      <td>t3</td>\n",
       "      <td>25.1</td>\n",
       "    </tr>\n",
       "    <tr>\n",
       "      <th>2</th>\n",
       "      <td>163</td>\n",
       "      <td>0.064</td>\n",
       "      <td>TP967-E9-P1</td>\n",
       "      <td>G4</td>\n",
       "      <td>t3</td>\n",
       "      <td>0.0</td>\n",
       "    </tr>\n",
       "    <tr>\n",
       "      <th>3</th>\n",
       "      <td>163</td>\n",
       "      <td>0.064</td>\n",
       "      <td>TP967-E9-P1</td>\n",
       "      <td>F10</td>\n",
       "      <td>t3</td>\n",
       "      <td>93.1</td>\n",
       "    </tr>\n",
       "    <tr>\n",
       "      <th>4</th>\n",
       "      <td>163</td>\n",
       "      <td>0.064</td>\n",
       "      <td>TP967-E9-P1</td>\n",
       "      <td>F4</td>\n",
       "      <td>t3</td>\n",
       "      <td>1.1</td>\n",
       "    </tr>\n",
       "  </tbody>\n",
       "</table>\n",
       "</div>"
      ],
      "text/plain": [
       "   chemical.id   conc     plate.id well endpoint  value\n",
       "0          163  0.000  TP967-E9-P1   G6       t3  131.0\n",
       "1          163  0.064  TP967-E9-P1   H4       t3   25.1\n",
       "2          163  0.064  TP967-E9-P1   G4       t3    0.0\n",
       "3          163  0.064  TP967-E9-P1  F10       t3   93.1\n",
       "4          163  0.064  TP967-E9-P1   F4       t3    1.1"
      ]
     },
     "metadata": {},
     "output_type": "display_data"
    },
    {
     "data": {
      "text/html": [
       "<div>\n",
       "<style scoped>\n",
       "    .dataframe tbody tr th:only-of-type {\n",
       "        vertical-align: middle;\n",
       "    }\n",
       "\n",
       "    .dataframe tbody tr th {\n",
       "        vertical-align: top;\n",
       "    }\n",
       "\n",
       "    .dataframe thead th {\n",
       "        text-align: right;\n",
       "    }\n",
       "</style>\n",
       "<table border=\"1\" class=\"dataframe\">\n",
       "  <thead>\n",
       "    <tr style=\"text-align: right;\">\n",
       "      <th></th>\n",
       "      <th>chemical.id</th>\n",
       "      <th>conc</th>\n",
       "      <th>plate.id</th>\n",
       "      <th>well</th>\n",
       "      <th>endpoint</th>\n",
       "      <th>value</th>\n",
       "    </tr>\n",
       "  </thead>\n",
       "  <tbody>\n",
       "    <tr>\n",
       "      <th>2875</th>\n",
       "      <td>163</td>\n",
       "      <td>6.4000</td>\n",
       "      <td>TP967-E9-P1</td>\n",
       "      <td>G2</td>\n",
       "      <td>t17</td>\n",
       "      <td>1.6</td>\n",
       "    </tr>\n",
       "    <tr>\n",
       "      <th>2876</th>\n",
       "      <td>163</td>\n",
       "      <td>0.0064</td>\n",
       "      <td>TP967-E9-P1</td>\n",
       "      <td>F11</td>\n",
       "      <td>t17</td>\n",
       "      <td>0.0</td>\n",
       "    </tr>\n",
       "    <tr>\n",
       "      <th>2877</th>\n",
       "      <td>163</td>\n",
       "      <td>6.4000</td>\n",
       "      <td>TP967-E9-P1</td>\n",
       "      <td>C2</td>\n",
       "      <td>t17</td>\n",
       "      <td>0.0</td>\n",
       "    </tr>\n",
       "    <tr>\n",
       "      <th>2878</th>\n",
       "      <td>163</td>\n",
       "      <td>6.4000</td>\n",
       "      <td>TP967-E9-P1</td>\n",
       "      <td>A8</td>\n",
       "      <td>t17</td>\n",
       "      <td>24.0</td>\n",
       "    </tr>\n",
       "    <tr>\n",
       "      <th>2879</th>\n",
       "      <td>163</td>\n",
       "      <td>6.4000</td>\n",
       "      <td>TP967-E9-P1</td>\n",
       "      <td>B2</td>\n",
       "      <td>t17</td>\n",
       "      <td>32.0</td>\n",
       "    </tr>\n",
       "  </tbody>\n",
       "</table>\n",
       "</div>"
      ],
      "text/plain": [
       "      chemical.id    conc     plate.id well endpoint  value\n",
       "2875          163  6.4000  TP967-E9-P1   G2      t17    1.6\n",
       "2876          163  0.0064  TP967-E9-P1  F11      t17    0.0\n",
       "2877          163  6.4000  TP967-E9-P1   C2      t17    0.0\n",
       "2878          163  6.4000  TP967-E9-P1   A8      t17   24.0\n",
       "2879          163  6.4000  TP967-E9-P1   B2      t17   32.0"
      ]
     },
     "metadata": {},
     "output_type": "display_data"
    }
   ],
   "source": [
    "df_163 = df[df['chemical.id']==163]\n",
    "\n",
    "display(df_163.head())\n",
    "display(df_163.tail())\n",
    "\n",
    "output_filename = str(complete_input_file_path[:-4]) + \"_163_chemical_id.csv\"\n",
    "df_163.to_csv(output_filename, index=False)"
   ]
  },
  {
   "cell_type": "code",
   "execution_count": null,
   "metadata": {},
   "outputs": [],
   "source": []
  }
 ],
 "metadata": {
  "kernelspec": {
   "display_name": "Python 3",
   "language": "python",
   "name": "python3"
  },
  "language_info": {
   "codemirror_mode": {
    "name": "ipython",
    "version": 3
   },
   "file_extension": ".py",
   "mimetype": "text/x-python",
   "name": "python",
   "nbconvert_exporter": "python",
   "pygments_lexer": "ipython3",
   "version": "3.7.8"
  }
 },
 "nbformat": 4,
 "nbformat_minor": 4
}
