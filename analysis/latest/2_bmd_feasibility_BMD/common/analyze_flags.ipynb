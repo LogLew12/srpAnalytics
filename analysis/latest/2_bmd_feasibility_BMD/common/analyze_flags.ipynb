{
 "cells": [
  {
   "cell_type": "code",
   "execution_count": 1,
   "metadata": {},
   "outputs": [],
   "source": [
    "import numpy as np\n",
    "import pandas as pd\n",
    "import os, time\n",
    "from matplotlib import pyplot as plt\n",
    "import seaborn as sns"
   ]
  },
  {
   "cell_type": "code",
   "execution_count": 39,
   "metadata": {},
   "outputs": [
    {
     "name": "stdout",
     "output_type": "stream",
     "text": [
      "/Users/kimd999/research/script_not_in_dropbox/srpAnalytics/analysis/latest/3_bmd_feasibility_BMD/common\n"
     ]
    }
   ],
   "source": [
    "starting_dir = os.getcwd()\n",
    "print (starting_dir)"
   ]
  },
  {
   "cell_type": "code",
   "execution_count": 40,
   "metadata": {},
   "outputs": [
    {
     "data": {
      "text/html": [
       "<div>\n",
       "<style scoped>\n",
       "    .dataframe tbody tr th:only-of-type {\n",
       "        vertical-align: middle;\n",
       "    }\n",
       "\n",
       "    .dataframe tbody tr th {\n",
       "        vertical-align: top;\n",
       "    }\n",
       "\n",
       "    .dataframe thead th {\n",
       "        text-align: right;\n",
       "    }\n",
       "</style>\n",
       "<table border=\"1\" class=\"dataframe\">\n",
       "  <thead>\n",
       "    <tr style=\"text-align: right;\">\n",
       "      <th></th>\n",
       "      <th>Chemical_ID</th>\n",
       "      <th>End_Point</th>\n",
       "      <th>Model</th>\n",
       "      <th>BMD10</th>\n",
       "      <th>BMDL</th>\n",
       "      <th>BMD50</th>\n",
       "      <th>AUC</th>\n",
       "      <th>Min_Dose</th>\n",
       "      <th>Max_Dose</th>\n",
       "      <th>AUC_Norm</th>\n",
       "      <th>DataQC_Flag</th>\n",
       "      <th>BMD_Analysis_Flag</th>\n",
       "      <th>BMD10_Flag</th>\n",
       "      <th>BMD50_Flag</th>\n",
       "    </tr>\n",
       "  </thead>\n",
       "  <tbody>\n",
       "    <tr>\n",
       "      <th>0</th>\n",
       "      <td>53</td>\n",
       "      <td>MOV1</td>\n",
       "      <td>weibull</td>\n",
       "      <td>0.000</td>\n",
       "      <td>NaN</td>\n",
       "      <td>5.840038e+08</td>\n",
       "      <td>16.159605</td>\n",
       "      <td>0.0</td>\n",
       "      <td>50.0</td>\n",
       "      <td>0.323192</td>\n",
       "      <td>4</td>\n",
       "      <td>0.0</td>\n",
       "      <td>-1.0</td>\n",
       "      <td>1.0</td>\n",
       "    </tr>\n",
       "    <tr>\n",
       "      <th>1</th>\n",
       "      <td>53</td>\n",
       "      <td>AUC1</td>\n",
       "      <td>logistic</td>\n",
       "      <td>73.726</td>\n",
       "      <td>29.709</td>\n",
       "      <td>1.859570e+02</td>\n",
       "      <td>6.276771</td>\n",
       "      <td>0.0</td>\n",
       "      <td>50.0</td>\n",
       "      <td>0.125535</td>\n",
       "      <td>4</td>\n",
       "      <td>0.0</td>\n",
       "      <td>1.0</td>\n",
       "      <td>1.0</td>\n",
       "    </tr>\n",
       "    <tr>\n",
       "      <th>2</th>\n",
       "      <td>54</td>\n",
       "      <td>MOV1</td>\n",
       "      <td>log_probit</td>\n",
       "      <td>0.000</td>\n",
       "      <td>NaN</td>\n",
       "      <td>5.116892e+04</td>\n",
       "      <td>1.325611</td>\n",
       "      <td>0.0</td>\n",
       "      <td>5.0</td>\n",
       "      <td>0.265122</td>\n",
       "      <td>4</td>\n",
       "      <td>0.0</td>\n",
       "      <td>-1.0</td>\n",
       "      <td>1.0</td>\n",
       "    </tr>\n",
       "    <tr>\n",
       "      <th>3</th>\n",
       "      <td>54</td>\n",
       "      <td>AUC1</td>\n",
       "      <td>log_probit</td>\n",
       "      <td>0.000</td>\n",
       "      <td>NaN</td>\n",
       "      <td>3.110973e+05</td>\n",
       "      <td>1.203211</td>\n",
       "      <td>0.0</td>\n",
       "      <td>5.0</td>\n",
       "      <td>0.240642</td>\n",
       "      <td>4</td>\n",
       "      <td>0.0</td>\n",
       "      <td>-1.0</td>\n",
       "      <td>1.0</td>\n",
       "    </tr>\n",
       "    <tr>\n",
       "      <th>4</th>\n",
       "      <td>56</td>\n",
       "      <td>MOV1</td>\n",
       "      <td>NaN</td>\n",
       "      <td>NaN</td>\n",
       "      <td>NaN</td>\n",
       "      <td>NaN</td>\n",
       "      <td>36.147261</td>\n",
       "      <td>0.0</td>\n",
       "      <td>50.0</td>\n",
       "      <td>0.722945</td>\n",
       "      <td>1</td>\n",
       "      <td>NaN</td>\n",
       "      <td>NaN</td>\n",
       "      <td>NaN</td>\n",
       "    </tr>\n",
       "  </tbody>\n",
       "</table>\n",
       "</div>"
      ],
      "text/plain": [
       "   Chemical_ID End_Point       Model   BMD10    BMDL         BMD50        AUC  \\\n",
       "0           53      MOV1     weibull   0.000     NaN  5.840038e+08  16.159605   \n",
       "1           53      AUC1    logistic  73.726  29.709  1.859570e+02   6.276771   \n",
       "2           54      MOV1  log_probit   0.000     NaN  5.116892e+04   1.325611   \n",
       "3           54      AUC1  log_probit   0.000     NaN  3.110973e+05   1.203211   \n",
       "4           56      MOV1         NaN     NaN     NaN           NaN  36.147261   \n",
       "\n",
       "   Min_Dose  Max_Dose  AUC_Norm  DataQC_Flag  BMD_Analysis_Flag  BMD10_Flag  \\\n",
       "0       0.0      50.0  0.323192            4                0.0        -1.0   \n",
       "1       0.0      50.0  0.125535            4                0.0         1.0   \n",
       "2       0.0       5.0  0.265122            4                0.0        -1.0   \n",
       "3       0.0       5.0  0.240642            4                0.0        -1.0   \n",
       "4       0.0      50.0  0.722945            1                NaN         NaN   \n",
       "\n",
       "   BMD50_Flag  \n",
       "0         1.0  \n",
       "1         1.0  \n",
       "2         1.0  \n",
       "3         1.0  \n",
       "4         NaN  "
      ]
     },
     "metadata": {},
     "output_type": "display_data"
    },
    {
     "name": "stdout",
     "output_type": "stream",
     "text": [
      "194\n"
     ]
    }
   ],
   "source": [
    "complete_file_path = '/Users/kimd999/research/projects/toxicity/per_each_data/phase_I_II/output/LPR/147_chemicals/bmd_vals_2021_03_23.csv'\n",
    "\n",
    "bmd_vals_data = pd.read_csv(complete_file_path, header = 0)\n",
    "display(bmd_vals_data.head())\n",
    "print (len(bmd_vals_data))"
   ]
  },
  {
   "cell_type": "code",
   "execution_count": 30,
   "metadata": {},
   "outputs": [
    {
     "data": {
      "text/plain": [
       "\"df = pd.DataFrame({\\n    'Sex': ['female', 'male', 'female'],\\n    'Smoke': [1, 1, 1]})\\n\\nsums = df.Smoke.groupby(df.Sex).sum()\\naxis('equal');\\npie(sums, labels=sums.index);\\nshow()\\n\""
      ]
     },
     "execution_count": 30,
     "metadata": {},
     "output_type": "execute_result"
    }
   ],
   "source": [
    "'''df = pd.DataFrame({\n",
    "    'Sex': ['female', 'male', 'female'],\n",
    "    'Smoke': [1, 1, 1]})\n",
    "\n",
    "sums = df.Smoke.groupby(df.Sex).sum()\n",
    "axis('equal');\n",
    "pie(sums, labels=sums.index);\n",
    "show()\n",
    "'''"
   ]
  },
  {
   "cell_type": "code",
   "execution_count": 38,
   "metadata": {},
   "outputs": [
    {
     "name": "stdout",
     "output_type": "stream",
     "text": [
      "5\n"
     ]
    },
    {
     "data": {
      "image/png": "[encoded data removed]",
      "text/plain": [
       "<Figure size 576x288 with 1 Axes>"
      ]
     },
     "metadata": {
      "needs_background": "light"
     },
     "output_type": "display_data"
    },
    {
     "data": {
      "text/plain": [
       "'\\nDataQC_Flag\\n    0\\tNot enough dose groups for BMD analysis. BMD analysis not performed.\\n\\t1\\tNo trend detected in dose-response data. BMD analysis not performed.\\n\\t2\\tDose-response data quality very good.\\n\\t3\\tDose-response data quality good.\\n\\t4\\tData resolution poor. Caution advised.\\n\\t5\\tNegative correlation detected in dose-response data. Caution advised.\\n'"
      ]
     },
     "execution_count": 38,
     "metadata": {},
     "output_type": "execute_result"
    }
   ],
   "source": [
    "bmd_vals_data_groupped = bmd_vals_data.groupby(['DataQC_Flag'])\n",
    "print (len(bmd_vals_data_groupped))\n",
    "\n",
    "\n",
    "#sums = bmd_vals_data.DataQC_Flag.groupby(bmd_vals_data.DataQC_Flag).sum()\n",
    "#sums.plot.pie(autopct=\"%.1f%%\", subplots=True, labels=sums.index);\n",
    "\n",
    "ds = pd.Series({\"Column\": bmd_vals_data[\"DataQC_Flag\"]})\n",
    "plt.figure(figsize=(8,4))\n",
    "sns.countplot(x=\"Column\", data=ds)\n",
    "plt.show()\n",
    "\n",
    "'''\n",
    "DataQC_Flag\n",
    "    0\tNot enough dose groups for BMD analysis. BMD analysis not performed.\n",
    "\t1\tNo trend detected in dose-response data. BMD analysis not performed.\n",
    "\t2\tDose-response data quality very good.\n",
    "\t3\tDose-response data quality good.\n",
    "\t4\tData resolution poor. Caution advised.\n",
    "\t5\tNegative correlation detected in dose-response data. Caution advised.\n",
    "'''"
   ]
  },
  {
   "cell_type": "code",
   "execution_count": null,
   "metadata": {},
   "outputs": [],
   "source": []
  }
 ],
 "metadata": {
  "kernelspec": {
   "display_name": "Python 3",
   "language": "python",
   "name": "python3"
  },
  "language_info": {
   "codemirror_mode": {
    "name": "ipython",
    "version": 3
   },
   "file_extension": ".py",
   "mimetype": "text/x-python",
   "name": "python",
   "nbconvert_exporter": "python",
   "pygments_lexer": "ipython3",
   "version": "3.7.8"
  }
 },
 "nbformat": 4,
 "nbformat_minor": 4
}
