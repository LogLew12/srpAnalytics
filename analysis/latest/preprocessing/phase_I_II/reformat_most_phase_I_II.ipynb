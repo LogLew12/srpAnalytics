{
 "cells": [
  {
   "cell_type": "code",
   "execution_count": 6,
   "metadata": {},
   "outputs": [],
   "source": [
    "# deal with 344_zf_morphology_data_phase_1_and_2_-_2020JUNE25.csv'\n",
    "# reformat data (even when there is duplicate)\n",
    "\n",
    "import numpy as np\n",
    "import pandas as pd\n",
    "import matplotlib.pyplot as plt\n",
    "import seaborn as sns\n",
    "import os, time"
   ]
  },
  {
   "cell_type": "code",
   "execution_count": 7,
   "metadata": {},
   "outputs": [
    {
     "name": "stdout",
     "output_type": "stream",
     "text": [
      "starting_dir:/Users/kimd999/Dropbox/script/python/srpAnalytics/analysis/paritosh_original_then_edit/preprocessing/old_phase_I_II\n"
     ]
    }
   ],
   "source": [
    "starting_dir = os.getcwd()\n",
    "print (\"starting_dir:\" + str(starting_dir))\n",
    "\n",
    "complete_file_path = '/Users/kimd999/research/projects/toxicity/input/Phase_1_and_2_for_PNNL_database_2020JUNE21/tall/tall_344_zf_morphology_data_phase_1_and_2_-_2020JUNE25.csv'\n",
    "morph_all_data = pd.read_csv(complete_file_path, header = 0)\n",
    "pd.set_option('display.max_columns', None)"
   ]
  },
  {
   "cell_type": "code",
   "execution_count": 8,
   "metadata": {},
   "outputs": [
    {
     "data": {
      "text/html": [
       "<div>\n",
       "<style scoped>\n",
       "    .dataframe tbody tr th:only-of-type {\n",
       "        vertical-align: middle;\n",
       "    }\n",
       "\n",
       "    .dataframe tbody tr th {\n",
       "        vertical-align: top;\n",
       "    }\n",
       "\n",
       "    .dataframe thead th {\n",
       "        text-align: right;\n",
       "    }\n",
       "</style>\n",
       "<table border=\"1\" class=\"dataframe\">\n",
       "  <thead>\n",
       "    <tr style=\"text-align: right;\">\n",
       "      <th></th>\n",
       "      <th>chemical.id</th>\n",
       "      <th>bottle.id</th>\n",
       "      <th>conc</th>\n",
       "      <th>plate.id</th>\n",
       "      <th>well</th>\n",
       "      <th>date</th>\n",
       "      <th>endpoint</th>\n",
       "      <th>value</th>\n",
       "    </tr>\n",
       "  </thead>\n",
       "  <tbody>\n",
       "    <tr>\n",
       "      <th>0</th>\n",
       "      <td>2752</td>\n",
       "      <td>TX000657</td>\n",
       "      <td>0.64</td>\n",
       "      <td>2</td>\n",
       "      <td>B03</td>\n",
       "      <td>2013</td>\n",
       "      <td>MO24</td>\n",
       "      <td>0.0</td>\n",
       "    </tr>\n",
       "    <tr>\n",
       "      <th>1</th>\n",
       "      <td>2752</td>\n",
       "      <td>TX000657</td>\n",
       "      <td>0.64</td>\n",
       "      <td>1</td>\n",
       "      <td>F03</td>\n",
       "      <td>2013</td>\n",
       "      <td>MO24</td>\n",
       "      <td>0.0</td>\n",
       "    </tr>\n",
       "    <tr>\n",
       "      <th>2</th>\n",
       "      <td>2752</td>\n",
       "      <td>TX000657</td>\n",
       "      <td>6.40</td>\n",
       "      <td>2</td>\n",
       "      <td>B08</td>\n",
       "      <td>2013</td>\n",
       "      <td>MO24</td>\n",
       "      <td>0.0</td>\n",
       "    </tr>\n",
       "    <tr>\n",
       "      <th>3</th>\n",
       "      <td>2752</td>\n",
       "      <td>TX000657</td>\n",
       "      <td>0.64</td>\n",
       "      <td>1</td>\n",
       "      <td>C03</td>\n",
       "      <td>2013</td>\n",
       "      <td>MO24</td>\n",
       "      <td>1.0</td>\n",
       "    </tr>\n",
       "    <tr>\n",
       "      <th>4</th>\n",
       "      <td>2752</td>\n",
       "      <td>TX000657</td>\n",
       "      <td>0.64</td>\n",
       "      <td>2</td>\n",
       "      <td>F03</td>\n",
       "      <td>2013</td>\n",
       "      <td>MO24</td>\n",
       "      <td>1.0</td>\n",
       "    </tr>\n",
       "  </tbody>\n",
       "</table>\n",
       "</div>"
      ],
      "text/plain": [
       "   chemical.id bottle.id  conc  plate.id well  date endpoint  value\n",
       "0         2752  TX000657  0.64         2  B03  2013     MO24    0.0\n",
       "1         2752  TX000657  0.64         1  F03  2013     MO24    0.0\n",
       "2         2752  TX000657  6.40         2  B08  2013     MO24    0.0\n",
       "3         2752  TX000657  0.64         1  C03  2013     MO24    1.0\n",
       "4         2752  TX000657  0.64         2  F03  2013     MO24    1.0"
      ]
     },
     "execution_count": 8,
     "metadata": {},
     "output_type": "execute_result"
    }
   ],
   "source": [
    "morph_all_data.head()"
   ]
  },
  {
   "cell_type": "code",
   "execution_count": 9,
   "metadata": {},
   "outputs": [
    {
     "data": {
      "text/html": [
       "<div>\n",
       "<style scoped>\n",
       "    .dataframe tbody tr th:only-of-type {\n",
       "        vertical-align: middle;\n",
       "    }\n",
       "\n",
       "    .dataframe tbody tr th {\n",
       "        vertical-align: top;\n",
       "    }\n",
       "\n",
       "    .dataframe thead th {\n",
       "        text-align: right;\n",
       "    }\n",
       "</style>\n",
       "<table border=\"1\" class=\"dataframe\">\n",
       "  <thead>\n",
       "    <tr style=\"text-align: right;\">\n",
       "      <th></th>\n",
       "      <th>chemical.id</th>\n",
       "      <th>conc</th>\n",
       "      <th>plate.id</th>\n",
       "      <th>well</th>\n",
       "      <th>endpoint</th>\n",
       "      <th>value</th>\n",
       "    </tr>\n",
       "  </thead>\n",
       "  <tbody>\n",
       "    <tr>\n",
       "      <th>960</th>\n",
       "      <td>1532</td>\n",
       "      <td>64.0000</td>\n",
       "      <td>1</td>\n",
       "      <td>F01</td>\n",
       "      <td>MO24</td>\n",
       "      <td>0.0</td>\n",
       "    </tr>\n",
       "    <tr>\n",
       "      <th>961</th>\n",
       "      <td>1532</td>\n",
       "      <td>64.0000</td>\n",
       "      <td>1</td>\n",
       "      <td>G01</td>\n",
       "      <td>MO24</td>\n",
       "      <td>0.0</td>\n",
       "    </tr>\n",
       "    <tr>\n",
       "      <th>962</th>\n",
       "      <td>1532</td>\n",
       "      <td>0.0064</td>\n",
       "      <td>1</td>\n",
       "      <td>C05</td>\n",
       "      <td>MO24</td>\n",
       "      <td>0.0</td>\n",
       "    </tr>\n",
       "    <tr>\n",
       "      <th>963</th>\n",
       "      <td>1532</td>\n",
       "      <td>64.0000</td>\n",
       "      <td>1</td>\n",
       "      <td>G07</td>\n",
       "      <td>MO24</td>\n",
       "      <td>1.0</td>\n",
       "    </tr>\n",
       "    <tr>\n",
       "      <th>964</th>\n",
       "      <td>1532</td>\n",
       "      <td>0.0064</td>\n",
       "      <td>1</td>\n",
       "      <td>A11</td>\n",
       "      <td>MO24</td>\n",
       "      <td>0.0</td>\n",
       "    </tr>\n",
       "  </tbody>\n",
       "</table>\n",
       "</div>"
      ],
      "text/plain": [
       "     chemical.id     conc  plate.id well endpoint  value\n",
       "960         1532  64.0000         1  F01     MO24    0.0\n",
       "961         1532  64.0000         1  G01     MO24    0.0\n",
       "962         1532   0.0064         1  C05     MO24    0.0\n",
       "963         1532  64.0000         1  G07     MO24    1.0\n",
       "964         1532   0.0064         1  A11     MO24    0.0"
      ]
     },
     "execution_count": 9,
     "metadata": {},
     "output_type": "execute_result"
    }
   ],
   "source": [
    "#new_morph_all_data = morph_all_data.loc[morph_all_data['chemical.id'] == 1532,['chemical.id', 'conc', 'plate.id', 'well', 'value']]\n",
    "#new_morph_all_data.head()\n",
    "\n",
    "new_morph_all_data = morph_all_data.loc[morph_all_data['chemical.id'] == 1532,['chemical.id', 'conc', 'plate.id', 'well', 'endpoint', 'value']]\n",
    "new_morph_all_data.head()"
   ]
  },
  {
   "cell_type": "code",
   "execution_count": 10,
   "metadata": {},
   "outputs": [
    {
     "data": {
      "text/html": [
       "<div>\n",
       "<style scoped>\n",
       "    .dataframe tbody tr th:only-of-type {\n",
       "        vertical-align: middle;\n",
       "    }\n",
       "\n",
       "    .dataframe tbody tr th {\n",
       "        vertical-align: top;\n",
       "    }\n",
       "\n",
       "    .dataframe thead th {\n",
       "        text-align: right;\n",
       "    }\n",
       "</style>\n",
       "<table border=\"1\" class=\"dataframe\">\n",
       "  <thead>\n",
       "    <tr style=\"text-align: right;\">\n",
       "      <th></th>\n",
       "      <th>chemical.id</th>\n",
       "      <th>conc</th>\n",
       "      <th>plate.id</th>\n",
       "      <th>well</th>\n",
       "      <th>endpoint</th>\n",
       "      <th>value</th>\n",
       "    </tr>\n",
       "  </thead>\n",
       "  <tbody>\n",
       "    <tr>\n",
       "      <th>960</th>\n",
       "      <td>1532</td>\n",
       "      <td>64.0000</td>\n",
       "      <td>1</td>\n",
       "      <td>F01</td>\n",
       "      <td>MO24</td>\n",
       "      <td>0.0</td>\n",
       "    </tr>\n",
       "    <tr>\n",
       "      <th>961</th>\n",
       "      <td>1532</td>\n",
       "      <td>64.0000</td>\n",
       "      <td>1</td>\n",
       "      <td>G01</td>\n",
       "      <td>MO24</td>\n",
       "      <td>0.0</td>\n",
       "    </tr>\n",
       "    <tr>\n",
       "      <th>962</th>\n",
       "      <td>1532</td>\n",
       "      <td>0.0064</td>\n",
       "      <td>1</td>\n",
       "      <td>C05</td>\n",
       "      <td>MO24</td>\n",
       "      <td>0.0</td>\n",
       "    </tr>\n",
       "    <tr>\n",
       "      <th>963</th>\n",
       "      <td>1532</td>\n",
       "      <td>64.0000</td>\n",
       "      <td>1</td>\n",
       "      <td>G07</td>\n",
       "      <td>MO24</td>\n",
       "      <td>1.0</td>\n",
       "    </tr>\n",
       "    <tr>\n",
       "      <th>964</th>\n",
       "      <td>1532</td>\n",
       "      <td>0.0064</td>\n",
       "      <td>1</td>\n",
       "      <td>A11</td>\n",
       "      <td>MO24</td>\n",
       "      <td>0.0</td>\n",
       "    </tr>\n",
       "  </tbody>\n",
       "</table>\n",
       "</div>"
      ],
      "text/plain": [
       "     chemical.id     conc  plate.id well endpoint  value\n",
       "960         1532  64.0000         1  F01     MO24    0.0\n",
       "961         1532  64.0000         1  G01     MO24    0.0\n",
       "962         1532   0.0064         1  C05     MO24    0.0\n",
       "963         1532  64.0000         1  G07     MO24    1.0\n",
       "964         1532   0.0064         1  A11     MO24    0.0"
      ]
     },
     "execution_count": 10,
     "metadata": {},
     "output_type": "execute_result"
    }
   ],
   "source": [
    "morph_all_data_w_end = new_morph_all_data.loc[new_morph_all_data['endpoint'] == 'MO24',['chemical.id', 'conc', 'plate.id', 'well', 'endpoint', 'value']]\n",
    "morph_all_data_w_end.head()"
   ]
  },
  {
   "cell_type": "code",
   "execution_count": 11,
   "metadata": {},
   "outputs": [
    {
     "data": {
      "text/html": [
       "<div>\n",
       "<style scoped>\n",
       "    .dataframe tbody tr th:only-of-type {\n",
       "        vertical-align: middle;\n",
       "    }\n",
       "\n",
       "    .dataframe tbody tr th {\n",
       "        vertical-align: top;\n",
       "    }\n",
       "\n",
       "    .dataframe thead th {\n",
       "        text-align: right;\n",
       "    }\n",
       "</style>\n",
       "<table border=\"1\" class=\"dataframe\">\n",
       "  <thead>\n",
       "    <tr style=\"text-align: right;\">\n",
       "      <th></th>\n",
       "      <th>chemical.id</th>\n",
       "      <th>bottle.id</th>\n",
       "      <th>conc</th>\n",
       "      <th>plate.id</th>\n",
       "      <th>well</th>\n",
       "      <th>date</th>\n",
       "      <th>endpoint</th>\n",
       "      <th>value</th>\n",
       "    </tr>\n",
       "  </thead>\n",
       "  <tbody>\n",
       "    <tr>\n",
       "      <th>1712635</th>\n",
       "      <td>3860</td>\n",
       "      <td>P518274</td>\n",
       "      <td>100.0</td>\n",
       "      <td>20329</td>\n",
       "      <td>H08</td>\n",
       "      <td>20200603</td>\n",
       "      <td>DNC_</td>\n",
       "      <td>0.0</td>\n",
       "    </tr>\n",
       "    <tr>\n",
       "      <th>1712636</th>\n",
       "      <td>3860</td>\n",
       "      <td>P518274</td>\n",
       "      <td>100.0</td>\n",
       "      <td>20329</td>\n",
       "      <td>H09</td>\n",
       "      <td>20200603</td>\n",
       "      <td>DNC_</td>\n",
       "      <td>0.0</td>\n",
       "    </tr>\n",
       "    <tr>\n",
       "      <th>1712637</th>\n",
       "      <td>3860</td>\n",
       "      <td>P518274</td>\n",
       "      <td>100.0</td>\n",
       "      <td>20329</td>\n",
       "      <td>H10</td>\n",
       "      <td>20200603</td>\n",
       "      <td>DNC_</td>\n",
       "      <td>0.0</td>\n",
       "    </tr>\n",
       "    <tr>\n",
       "      <th>1712638</th>\n",
       "      <td>3860</td>\n",
       "      <td>P518274</td>\n",
       "      <td>100.0</td>\n",
       "      <td>20329</td>\n",
       "      <td>H11</td>\n",
       "      <td>20200603</td>\n",
       "      <td>DNC_</td>\n",
       "      <td>0.0</td>\n",
       "    </tr>\n",
       "    <tr>\n",
       "      <th>1712639</th>\n",
       "      <td>3860</td>\n",
       "      <td>P518274</td>\n",
       "      <td>100.0</td>\n",
       "      <td>20329</td>\n",
       "      <td>H12</td>\n",
       "      <td>20200603</td>\n",
       "      <td>DNC_</td>\n",
       "      <td>0.0</td>\n",
       "    </tr>\n",
       "  </tbody>\n",
       "</table>\n",
       "</div>"
      ],
      "text/plain": [
       "         chemical.id bottle.id   conc  plate.id well      date endpoint  value\n",
       "1712635         3860   P518274  100.0     20329  H08  20200603     DNC_    0.0\n",
       "1712636         3860   P518274  100.0     20329  H09  20200603     DNC_    0.0\n",
       "1712637         3860   P518274  100.0     20329  H10  20200603     DNC_    0.0\n",
       "1712638         3860   P518274  100.0     20329  H11  20200603     DNC_    0.0\n",
       "1712639         3860   P518274  100.0     20329  H12  20200603     DNC_    0.0"
      ]
     },
     "execution_count": 11,
     "metadata": {},
     "output_type": "execute_result"
    }
   ],
   "source": [
    "morph_all_data.tail()"
   ]
  },
  {
   "cell_type": "code",
   "execution_count": 12,
   "metadata": {},
   "outputs": [
    {
     "data": {
      "text/plain": [
       "53243"
      ]
     },
     "execution_count": 12,
     "metadata": {},
     "output_type": "execute_result"
    }
   ],
   "source": [
    "np.sum(morph_all_data['value'] == 1)"
   ]
  },
  {
   "cell_type": "code",
   "execution_count": 13,
   "metadata": {},
   "outputs": [
    {
     "data": {
      "text/plain": [
       "1404843"
      ]
     },
     "execution_count": 13,
     "metadata": {},
     "output_type": "execute_result"
    }
   ],
   "source": [
    "np.sum(morph_all_data['value'] == 0) # -> 82%"
   ]
  },
  {
   "cell_type": "code",
   "execution_count": 14,
   "metadata": {},
   "outputs": [
    {
     "data": {
      "text/plain": [
       "254554"
      ]
     },
     "execution_count": 14,
     "metadata": {},
     "output_type": "execute_result"
    }
   ],
   "source": [
    "np.sum(np.isnan(morph_all_data['value']))"
   ]
  },
  {
   "cell_type": "code",
   "execution_count": 15,
   "metadata": {},
   "outputs": [
    {
     "data": {
      "text/plain": [
       "(1712640, 8)"
      ]
     },
     "execution_count": 15,
     "metadata": {},
     "output_type": "execute_result"
    }
   ],
   "source": [
    "morph_all_data.shape"
   ]
  },
  {
   "cell_type": "code",
   "execution_count": 16,
   "metadata": {},
   "outputs": [
    {
     "data": {
      "text/html": [
       "<div>\n",
       "<style scoped>\n",
       "    .dataframe tbody tr th:only-of-type {\n",
       "        vertical-align: middle;\n",
       "    }\n",
       "\n",
       "    .dataframe tbody tr th {\n",
       "        vertical-align: top;\n",
       "    }\n",
       "\n",
       "    .dataframe thead th {\n",
       "        text-align: right;\n",
       "    }\n",
       "</style>\n",
       "<table border=\"1\" class=\"dataframe\">\n",
       "  <thead>\n",
       "    <tr style=\"text-align: right;\">\n",
       "      <th></th>\n",
       "      <th>chemical.id</th>\n",
       "      <th>conc</th>\n",
       "      <th>plate.id</th>\n",
       "      <th>well</th>\n",
       "      <th>endpoint</th>\n",
       "      <th>value</th>\n",
       "    </tr>\n",
       "  </thead>\n",
       "  <tbody>\n",
       "    <tr>\n",
       "      <th>0</th>\n",
       "      <td>2752</td>\n",
       "      <td>0.64</td>\n",
       "      <td>2</td>\n",
       "      <td>B03</td>\n",
       "      <td>MO24</td>\n",
       "      <td>0.0</td>\n",
       "    </tr>\n",
       "    <tr>\n",
       "      <th>1</th>\n",
       "      <td>2752</td>\n",
       "      <td>0.64</td>\n",
       "      <td>1</td>\n",
       "      <td>F03</td>\n",
       "      <td>MO24</td>\n",
       "      <td>0.0</td>\n",
       "    </tr>\n",
       "    <tr>\n",
       "      <th>2</th>\n",
       "      <td>2752</td>\n",
       "      <td>6.40</td>\n",
       "      <td>2</td>\n",
       "      <td>B08</td>\n",
       "      <td>MO24</td>\n",
       "      <td>0.0</td>\n",
       "    </tr>\n",
       "    <tr>\n",
       "      <th>3</th>\n",
       "      <td>2752</td>\n",
       "      <td>0.64</td>\n",
       "      <td>1</td>\n",
       "      <td>C03</td>\n",
       "      <td>MO24</td>\n",
       "      <td>1.0</td>\n",
       "    </tr>\n",
       "    <tr>\n",
       "      <th>4</th>\n",
       "      <td>2752</td>\n",
       "      <td>0.64</td>\n",
       "      <td>2</td>\n",
       "      <td>F03</td>\n",
       "      <td>MO24</td>\n",
       "      <td>1.0</td>\n",
       "    </tr>\n",
       "  </tbody>\n",
       "</table>\n",
       "</div>"
      ],
      "text/plain": [
       "   chemical.id  conc  plate.id well endpoint  value\n",
       "0         2752  0.64         2  B03     MO24    0.0\n",
       "1         2752  0.64         1  F03     MO24    0.0\n",
       "2         2752  6.40         2  B08     MO24    0.0\n",
       "3         2752  0.64         1  C03     MO24    1.0\n",
       "4         2752  0.64         2  F03     MO24    1.0"
      ]
     },
     "execution_count": 16,
     "metadata": {},
     "output_type": "execute_result"
    }
   ],
   "source": [
    "# Keep only relevant columns\n",
    "columns_to_keep = ['chemical.id', 'conc', 'plate.id', 'well', 'endpoint', 'value']\n",
    "morph_all_data_select = morph_all_data.loc[:,columns_to_keep]\n",
    "morph_all_data_select.head()"
   ]
  },
  {
   "cell_type": "code",
   "execution_count": 17,
   "metadata": {},
   "outputs": [
    {
     "name": "stdout",
     "output_type": "stream",
     "text": [
      "len(morph_all_data_select):1712640\n",
      "len(morph_all_data_select):1686144\n"
     ]
    }
   ],
   "source": [
    "print (\"len(morph_all_data_select):\" + str(len(morph_all_data_select)))\n",
    "morph_all_data_select = morph_all_data_select.drop_duplicates()\n",
    "print (\"len(morph_all_data_select):\" + str(len(morph_all_data_select)))"
   ]
  },
  {
   "cell_type": "code",
   "execution_count": 46,
   "metadata": {},
   "outputs": [
    {
     "name": "stdout",
     "output_type": "stream",
     "text": [
      "len(morph_data_chemical.chemical_plate_well):4416\n",
      "\n",
      "total_number_of_unique_chemicals:344\n",
      "total_number_of_chemical_plate_well:192\n",
      "Done, it took:2.0 seconds\n"
     ]
    }
   ],
   "source": [
    "start_time = time.time()\n",
    "\n",
    "reformat_data = pd.DataFrame()\n",
    "total_number_of_unique_chemicals = 0\n",
    "total_number_of_chemical_plate_well = 0\n",
    "for chemical_index in np.unique(morph_all_data['chemical.id']):\n",
    "    #print(\"\\nchemical_index:\" + str(chemical_index))        \n",
    "    total_number_of_unique_chemicals += 1\n",
    "   # if (chemical_index != 53):# and (chemical_index != 3859)):\n",
    "    #    continue\n",
    "\n",
    "    morph_data_chemical = morph_all_data_select.loc[morph_all_data['chemical.id'] == chemical_index,:]\n",
    "    #    print (\"\\ntotal_number_of_unique_chemicals:\" + str(total_number_of_unique_chemicals))\n",
    "\n",
    "    # Append chemical_plate_well as a unique identifier\n",
    "    morph_data_chemical.insert(0, 'chemical_plate_well', morph_data_chemical.loc[:,['chemical.id','plate.id', 'well']].apply(lambda x: '_'.join(x.map(str)), axis = 1))\n",
    "\n",
    "    print (\"len(morph_data_chemical.chemical_plate_well):\" + str(len(morph_data_chemical.chemical_plate_well)))    \n",
    "    for cpw in np.unique(morph_data_chemical.chemical_plate_well):\n",
    "        total_number_of_chemical_plate_well += 1\n",
    "        temp_df = morph_data_chemical.loc[morph_data_chemical.chemical_plate_well == cpw,:]\n",
    "        temp_df_grouped = temp_df.groupby(['chemical.id', 'plate.id', 'well'])\n",
    "        #print (\"temp_df_grouped:\" + str(temp_df_grouped)) #<pandas.core.groupby.generic.DataFrameGroupBy object at 0x1292f0190>\n",
    "\n",
    "        for name, group in temp_df_grouped:\n",
    "#            if(len(group.endpoint) == 23):\n",
    "                try:\n",
    "                    temp = pd.DataFrame(\n",
    "                        {\n",
    "                        'chemical.id': np.unique(temp_df['chemical.id']),\n",
    "                        'plate.id': np.unique(temp_df['plate.id']),\n",
    "                        'well': np.unique(temp_df['well']),\n",
    "                        'chemical_plate_well': np.unique(temp_df['chemical_plate_well']),\n",
    "                        'conc': np.unique(temp_df['conc']),\n",
    "                        'AXIS': temp_df.value[temp_df.endpoint == 'AXIS'].values,\n",
    "                        'BRAI': temp_df.value[temp_df.endpoint == 'BRAI'].values,\n",
    "                        'CFIN': temp_df.value[temp_df.endpoint == 'CFIN'].values,\n",
    "                        'CIRC': temp_df.value[temp_df.endpoint == 'CIRC'].values,\n",
    "                        'DNC_': temp_df.value[temp_df.endpoint == 'DNC_'].values,\n",
    "                        'DP24': temp_df.value[temp_df.endpoint == 'DP24'].values,\n",
    "                        'EYE_': temp_df.value[temp_df.endpoint == 'EYE_'].values,\n",
    "                        'JAW_': temp_df.value[temp_df.endpoint == 'JAW_'].values,\n",
    "                        'MO24': temp_df.value[temp_df.endpoint == 'MO24'].values,\n",
    "                        'MORT': temp_df.value[temp_df.endpoint == 'MORT'].values,\n",
    "                        'NC24': temp_df.value[temp_df.endpoint == 'NC24'].values,\n",
    "                        'NC__': temp_df.value[temp_df.endpoint == 'NC__'].values,\n",
    "                        'OTIC': temp_df.value[temp_df.endpoint == 'OTIC'].values,\n",
    "                        'PE__': temp_df.value[temp_df.endpoint == 'PE__'].values,\n",
    "                        'PFIN': temp_df.value[temp_df.endpoint == 'PFIN'].values,\n",
    "                        'PIG_': temp_df.value[temp_df.endpoint == 'PIG_'].values,\n",
    "                        'SM24': temp_df.value[temp_df.endpoint == 'SM24'].values,\n",
    "                        'SNOU': temp_df.value[temp_df.endpoint == 'SNOU'].values,\n",
    "                        'SOMI': temp_df.value[temp_df.endpoint == 'SOMI'].values,\n",
    "                        'SWIM': temp_df.value[temp_df.endpoint == 'SWIM'].values,\n",
    "                        'TRUN': temp_df.value[temp_df.endpoint == 'TRUN'].values,\n",
    "                        'TR__': temp_df.value[temp_df.endpoint == 'TR__'].values,\n",
    "                        'YSE_': temp_df.value[temp_df.endpoint == 'YSE_'].values,\n",
    "                        }\n",
    "                            )\n",
    "                    reformat_data = pd.concat([reformat_data, temp])\n",
    "                except:\n",
    "                    print (\"len(group.endpoint):\" + str(len(group.endpoint)))\n",
    "                    print (\"chemical_plate_well:\" + str(cpw))\n",
    "print (\"\\ntotal_number_of_unique_chemicals:\" + str(total_number_of_unique_chemicals))\n",
    "print (\"total_number_of_chemical_plate_well:\" + str(total_number_of_chemical_plate_well))\n",
    "end_time = time.time()\n",
    "time_took = str(round((end_time-start_time), 1)) + \" seconds\"\n",
    "print (\"Done, it took:\"+str(time_took)) # took 15 minutes for 344 chemicals"
   ]
  },
  {
   "cell_type": "code",
   "execution_count": 19,
   "metadata": {},
   "outputs": [
    {
     "name": "stdout",
     "output_type": "stream",
     "text": [
      "   chemical.id  plate.id well chemical_plate_well   conc  AXIS  BRAI  CFIN  \\\n",
      "0         3760     19807  A01      3760_19807_A01  100.0   0.0   0.0   0.0   \n",
      "0         3760     19807  A02      3760_19807_A02  100.0   0.0   0.0   0.0   \n",
      "0         3760     19807  A03      3760_19807_A03  100.0   0.0   0.0   0.0   \n",
      "0         3760     19807  A04      3760_19807_A04  100.0   0.0   0.0   0.0   \n",
      "0         3760     19807  A05      3760_19807_A05  100.0   0.0   0.0   0.0   \n",
      "\n",
      "   CIRC  DNC_  DP24  EYE_  JAW_  MO24  MORT  NC24  NC__  OTIC  PE__  PFIN  \\\n",
      "0   0.0   0.0   0.0   0.0   0.0   0.0   0.0   0.0   0.0   0.0   0.0   0.0   \n",
      "0   0.0   0.0   0.0   0.0   0.0   0.0   0.0   0.0   0.0   0.0   0.0   0.0   \n",
      "0   0.0   0.0   0.0   0.0   0.0   0.0   0.0   0.0   0.0   0.0   0.0   0.0   \n",
      "0   0.0   0.0   0.0   0.0   0.0   0.0   0.0   0.0   0.0   0.0   0.0   0.0   \n",
      "0   0.0   0.0   0.0   0.0   0.0   0.0   0.0   0.0   0.0   0.0   0.0   0.0   \n",
      "\n",
      "   PIG_  SM24  SNOU  SOMI  SWIM  TRUN  TR__  YSE_  \n",
      "0   0.0   0.0   0.0   0.0   0.0   0.0   0.0   0.0  \n",
      "0   0.0   0.0   0.0   0.0   0.0   0.0   0.0   0.0  \n",
      "0   0.0   0.0   0.0   0.0   0.0   0.0   0.0   0.0  \n",
      "0   0.0   0.0   0.0   0.0   0.0   0.0   0.0   0.0  \n",
      "0   0.0   0.0   0.0   0.0   0.0   0.0   0.0   0.0  \n",
      "reformat_data.shape:(288, 28)\n"
     ]
    }
   ],
   "source": [
    "print (reformat_data.head())\n",
    "print (\"reformat_data.shape:\" + str(reformat_data.shape))"
   ]
  },
  {
   "cell_type": "code",
   "execution_count": 20,
   "metadata": {},
   "outputs": [
    {
     "name": "stdout",
     "output_type": "stream",
     "text": [
      "reformat_data_DNC_0.shape:(288, 28)\n"
     ]
    }
   ],
   "source": [
    "reformat_data_DNC_0 = pd.DataFrame()\n",
    "reformat_data_DNC_0 = reformat_data.loc[reformat_data['DNC_'] == 0.0]\n",
    "print (\"reformat_data_DNC_0.shape:\" + str(reformat_data_DNC_0.shape))"
   ]
  },
  {
   "cell_type": "code",
   "execution_count": 21,
   "metadata": {},
   "outputs": [
    {
     "name": "stdout",
     "output_type": "stream",
     "text": [
      "reformat_data_DNC_empty.shape:(0, 28)\n"
     ]
    }
   ],
   "source": [
    "reformat_data_DNC_empty = pd.DataFrame()\n",
    "reformat_data_DNC_empty = reformat_data.loc[reformat_data['DNC_'] == '']\n",
    "print (\"reformat_data_DNC_empty.shape:\" + str(reformat_data_DNC_empty.shape))"
   ]
  },
  {
   "cell_type": "code",
   "execution_count": 22,
   "metadata": {},
   "outputs": [
    {
     "name": "stdout",
     "output_type": "stream",
     "text": [
      "nan_count:830\n",
      "zero_count:5703\n",
      "one_count:91\n",
      "total_count:6624\n"
     ]
    }
   ],
   "source": [
    "#'''\n",
    "nan_count = 0\n",
    "zero_count = 0\n",
    "one_count = 0\n",
    "total_count = 0\n",
    "for (columnName, columnData) in reformat_data.iteritems(): \n",
    "    if (columnName == \"chemical.id\") or (columnName == \"plate.id\") or (columnName == \"well\") or (columnName == \"chemical_plate_well\") or (columnName == \"conc\"):\n",
    "        continue\n",
    "#    print('Colunm Name : ', columnName) \n",
    "#    print('Column Contents : ', columnData.values[i])\n",
    "#    print (len(columnData.values))\n",
    "    for i in range(len(columnData.values)):\n",
    "        total_count += 1\n",
    "        if (str(columnData.values[i]) == \"nan\"):\n",
    "            nan_count += 1\n",
    "        elif (str(columnData.values[i]) == \"0.0\"):\n",
    "            zero_count += 1\n",
    "        elif (str(columnData.values[i]) == \"1.0\"):\n",
    "            one_count += 1\n",
    "#        print('Column Contents : ', columnData.values[i])\n",
    "print (\"nan_count:\" + str(nan_count))\n",
    "print (\"zero_count:\" + str(zero_count))\n",
    "print (\"one_count:\" + str(one_count))\n",
    "print (\"total_count:\" + str(total_count))\n",
    "#'''"
   ]
  },
  {
   "cell_type": "code",
   "execution_count": 23,
   "metadata": {},
   "outputs": [],
   "source": [
    "#pd.set_option('display.max_columns', None)"
   ]
  },
  {
   "cell_type": "code",
   "execution_count": 24,
   "metadata": {},
   "outputs": [],
   "source": [
    "#reformat_data.to_csv('344_zf_morphology_data_phase_1_and_2_-_2020JUNE25_wide_DNC_all.csv',index=False)\n",
    "\n",
    "output_complete_file_path = complete_file_path[:-4] + \"_wide_DNC_0.csv\"\n",
    "reformat_data_DNC_0.to_csv(output_complete_file_path,index=False)\n",
    "\n",
    "#reformat_data_DNC_empty.to_csv('344_zf_morphology_data_phase_1_and_2_-_2020JUNE25_wide_DNC_empty.csv',index=False)"
   ]
  },
  {
   "cell_type": "code",
   "execution_count": 25,
   "metadata": {},
   "outputs": [],
   "source": [
    "#len(np.unique(reformat_data['chemical.id']))"
   ]
  },
  {
   "cell_type": "markdown",
   "metadata": {},
   "source": [
    "### Reformat behavioral data"
   ]
  },
  {
   "cell_type": "code",
   "execution_count": 26,
   "metadata": {},
   "outputs": [],
   "source": [
    "#complete_file_path = '/Users/pand381/Downloads/Phase 1 and 2 for PNNL database 2020JUNE21/344 zf LPR data phase 1 and 2 - 2020JUNE25.csv'\n",
    "#behav_all_data = pd.read_csv(complete_file_path, header = 0)"
   ]
  },
  {
   "cell_type": "code",
   "execution_count": 27,
   "metadata": {},
   "outputs": [],
   "source": [
    "#behav_all_data.head()"
   ]
  },
  {
   "cell_type": "code",
   "execution_count": 28,
   "metadata": {},
   "outputs": [],
   "source": [
    "# Keep only relevant columns\n",
    "#columns_to_keep = ['chemical.id', 'conc', 'plate.id', 'well', 'endpoint', 'value']\n",
    "#behav_all_data_select = behav_all_data.loc[:,columns_to_keep]\n",
    "#behav_all_data_select.head()"
   ]
  },
  {
   "cell_type": "code",
   "execution_count": 29,
   "metadata": {},
   "outputs": [
    {
     "data": {
      "text/plain": [
       "'reformat_data = pd.DataFrame()\\n\\nfor chemical_index in np.unique(behav_all_data[\\'chemical.id\\']):\\n    behav_data_chemical = behav_all_data_select.loc[behav_all_data[\\'chemical.id\\'] == chemical_index,:]\\n    print(\"chemical_index:\" + str(chemical_index))\\n    # Append chemical_plate_well as a unique identifier\\n    behav_data_chemical.insert(0, \\'chemical_plate_well\\', behav_data_chemical.loc[:,[\\'chemical.id\\',\\'plate.id\\', \\'well\\']].apply(lambda x: \\'_\\'.join(x.map(str)), axis = 1))\\n    \\n    for cpw in np.unique(behav_data_chemical.chemical_plate_well):\\n        temp_df = behav_data_chemical.loc[behav_data_chemical.chemical_plate_well == cpw,:]\\n        temp_df_grouped = temp_df.groupby([\\'chemical.id\\', \\'plate.id\\', \\'well\\'])\\n        for name, group in temp_df_grouped:\\n            if(len(group.endpoint) == 15):\\n                temp = pd.DataFrame(\\n                        {\\n                        \\'chemical.id\\': np.unique(temp_df[\\'chemical.id\\']),\\n                        \\'plate.id\\': np.unique(temp_df[\\'plate.id\\']),\\n                        \\'well\\': np.unique(temp_df[\\'well\\']),\\n                        \\'chemical_plate_well\\': np.unique(temp_df[\\'chemical_plate_well\\']),\\n                        \\'conc\\': np.unique(temp_df[\\'conc\\']),\\n                        \\'t3\\': temp_df.value[temp_df.endpoint == \\'t3\\'].values,\\n                        \\'t4\\': temp_df.value[temp_df.endpoint == \\'t4\\'].values,\\n                        \\'t5\\': temp_df.value[temp_df.endpoint == \\'t5\\'].values,\\n                        \\'t6\\': temp_df.value[temp_df.endpoint == \\'t6\\'].values,\\n                        \\'t7\\': temp_df.value[temp_df.endpoint == \\'t7\\'].values,\\n                        \\'t8\\': temp_df.value[temp_df.endpoint == \\'t8\\'].values,\\n                        \\'t9\\': temp_df.value[temp_df.endpoint == \\'t9\\'].values,\\n                        \\'t10\\': temp_df.value[temp_df.endpoint == \\'t10\\'].values,\\n                        \\'t11\\': temp_df.value[temp_df.endpoint == \\'t11\\'].values,\\n                        \\'t12\\': temp_df.value[temp_df.endpoint == \\'t12\\'].values,\\n                        \\'t13\\': temp_df.value[temp_df.endpoint == \\'t13\\'].values,\\n                        \\'t14\\': temp_df.value[temp_df.endpoint == \\'t14\\'].values,\\n                        \\'t15\\': temp_df.value[temp_df.endpoint == \\'t15\\'].values,\\n                        \\'t16\\': temp_df.value[temp_df.endpoint == \\'t16\\'].values,\\n                        \\'t17\\': temp_df.value[temp_df.endpoint == \\'t17\\'].values,\\n                        }\\n                            )\\n                reformat_data = pd.concat([reformat_data, temp])'"
      ]
     },
     "execution_count": 29,
     "metadata": {},
     "output_type": "execute_result"
    }
   ],
   "source": [
    "'''reformat_data = pd.DataFrame()\n",
    "\n",
    "for chemical_index in np.unique(behav_all_data['chemical.id']):\n",
    "    behav_data_chemical = behav_all_data_select.loc[behav_all_data['chemical.id'] == chemical_index,:]\n",
    "    print(\"chemical_index:\" + str(chemical_index))\n",
    "    # Append chemical_plate_well as a unique identifier\n",
    "    behav_data_chemical.insert(0, 'chemical_plate_well', behav_data_chemical.loc[:,['chemical.id','plate.id', 'well']].apply(lambda x: '_'.join(x.map(str)), axis = 1))\n",
    "    \n",
    "    for cpw in np.unique(behav_data_chemical.chemical_plate_well):\n",
    "        temp_df = behav_data_chemical.loc[behav_data_chemical.chemical_plate_well == cpw,:]\n",
    "        temp_df_grouped = temp_df.groupby(['chemical.id', 'plate.id', 'well'])\n",
    "        for name, group in temp_df_grouped:\n",
    "            if(len(group.endpoint) == 15):\n",
    "                temp = pd.DataFrame(\n",
    "                        {\n",
    "                        'chemical.id': np.unique(temp_df['chemical.id']),\n",
    "                        'plate.id': np.unique(temp_df['plate.id']),\n",
    "                        'well': np.unique(temp_df['well']),\n",
    "                        'chemical_plate_well': np.unique(temp_df['chemical_plate_well']),\n",
    "                        'conc': np.unique(temp_df['conc']),\n",
    "                        't3': temp_df.value[temp_df.endpoint == 't3'].values,\n",
    "                        't4': temp_df.value[temp_df.endpoint == 't4'].values,\n",
    "                        't5': temp_df.value[temp_df.endpoint == 't5'].values,\n",
    "                        't6': temp_df.value[temp_df.endpoint == 't6'].values,\n",
    "                        't7': temp_df.value[temp_df.endpoint == 't7'].values,\n",
    "                        't8': temp_df.value[temp_df.endpoint == 't8'].values,\n",
    "                        't9': temp_df.value[temp_df.endpoint == 't9'].values,\n",
    "                        't10': temp_df.value[temp_df.endpoint == 't10'].values,\n",
    "                        't11': temp_df.value[temp_df.endpoint == 't11'].values,\n",
    "                        't12': temp_df.value[temp_df.endpoint == 't12'].values,\n",
    "                        't13': temp_df.value[temp_df.endpoint == 't13'].values,\n",
    "                        't14': temp_df.value[temp_df.endpoint == 't14'].values,\n",
    "                        't15': temp_df.value[temp_df.endpoint == 't15'].values,\n",
    "                        't16': temp_df.value[temp_df.endpoint == 't16'].values,\n",
    "                        't17': temp_df.value[temp_df.endpoint == 't17'].values,\n",
    "                        }\n",
    "                            )\n",
    "                reformat_data = pd.concat([reformat_data, temp])'''"
   ]
  },
  {
   "cell_type": "code",
   "execution_count": 30,
   "metadata": {},
   "outputs": [],
   "source": [
    "#reformat_data.head()"
   ]
  },
  {
   "cell_type": "code",
   "execution_count": 31,
   "metadata": {},
   "outputs": [],
   "source": [
    "#reformat_data.shape"
   ]
  },
  {
   "cell_type": "code",
   "execution_count": 32,
   "metadata": {},
   "outputs": [],
   "source": [
    "#reformat_data.to_csv('Phase_I_II_t3_t17_LPR.csv',index=False)"
   ]
  },
  {
   "cell_type": "markdown",
   "metadata": {},
   "source": [
    "### t0_t239 time points"
   ]
  },
  {
   "cell_type": "code",
   "execution_count": 33,
   "metadata": {
    "scrolled": true
   },
   "outputs": [
    {
     "data": {
      "text/plain": [
       "\"\\nreformat_data = pd.DataFrame()\\n\\n#for chemical_index in np.unique([54]):\\nfor chemical_index in np.unique(behav_all_data['chemical.id']):\\n    behav_data_chemical = behav_all_data_select.loc[behav_all_data['chemical.id'] == chemical_index,:]\\n    print(chemical_index)\\n    # Append chemical_plate_well as a unique identifier\\n    behav_data_chemical.insert(0, 'chemical_plate_well', behav_data_chemical.loc[:,['chemical.id','plate.id', 'well']].apply(lambda x: '_'.join(x.map(str)), axis = 1))\\n    \\n    for cpw in np.unique(behav_data_chemical.chemical_plate_well):\\n        temp_df = behav_data_chemical.loc[behav_data_chemical.chemical_plate_well == cpw,:]\\n        #display(temp_df.head())\\n        temp_df_grouped = temp_df.groupby(['chemical.id', 'plate.id', 'well'])\\n        #display(temp_df_grouped.head())\\n        for name, group in temp_df_grouped:\\n            if(len(group.endpoint) == 240):\\n                temp = pd.DataFrame(\\n                        {\\n                        'chemical.id': np.unique(temp_df['chemical.id']),\\n                        'plate.id': np.unique(temp_df['plate.id']),\\n                        'well': np.unique(temp_df['well']),\\n                        'chemical_plate_well': np.unique(temp_df['chemical_plate_well']),\\n                        'conc': np.unique(temp_df['conc'])\\n                        })\\n                #print(temp.head())\\n                # Append additonal columns corresponding to time points\\n                max_time = 240\\n                for time_point in np.arange(max_time):\\n                    end_point = 't'+ str(time_point)\\n                    temp = pd.concat([temp, pd.DataFrame({end_point: temp_df.value[temp_df.endpoint == end_point].values})],axis = 1)\\n                #print(temp.head())\\n                #print(reformat_data)\\n                reformat_data = pd.concat([reformat_data, temp])\\n                #print(reformat_data)\""
      ]
     },
     "execution_count": 33,
     "metadata": {},
     "output_type": "execute_result"
    }
   ],
   "source": [
    "'''\n",
    "reformat_data = pd.DataFrame()\n",
    "\n",
    "#for chemical_index in np.unique([54]):\n",
    "for chemical_index in np.unique(behav_all_data['chemical.id']):\n",
    "    behav_data_chemical = behav_all_data_select.loc[behav_all_data['chemical.id'] == chemical_index,:]\n",
    "    print(chemical_index)\n",
    "    # Append chemical_plate_well as a unique identifier\n",
    "    behav_data_chemical.insert(0, 'chemical_plate_well', behav_data_chemical.loc[:,['chemical.id','plate.id', 'well']].apply(lambda x: '_'.join(x.map(str)), axis = 1))\n",
    "    \n",
    "    for cpw in np.unique(behav_data_chemical.chemical_plate_well):\n",
    "        temp_df = behav_data_chemical.loc[behav_data_chemical.chemical_plate_well == cpw,:]\n",
    "        #display(temp_df.head())\n",
    "        temp_df_grouped = temp_df.groupby(['chemical.id', 'plate.id', 'well'])\n",
    "        #display(temp_df_grouped.head())\n",
    "        for name, group in temp_df_grouped:\n",
    "            if(len(group.endpoint) == 240):\n",
    "                temp = pd.DataFrame(\n",
    "                        {\n",
    "                        'chemical.id': np.unique(temp_df['chemical.id']),\n",
    "                        'plate.id': np.unique(temp_df['plate.id']),\n",
    "                        'well': np.unique(temp_df['well']),\n",
    "                        'chemical_plate_well': np.unique(temp_df['chemical_plate_well']),\n",
    "                        'conc': np.unique(temp_df['conc'])\n",
    "                        })\n",
    "                #print(temp.head())\n",
    "                # Append additonal columns corresponding to time points\n",
    "                max_time = 240\n",
    "                for time_point in np.arange(max_time):\n",
    "                    end_point = 't'+ str(time_point)\n",
    "                    temp = pd.concat([temp, pd.DataFrame({end_point: temp_df.value[temp_df.endpoint == end_point].values})],axis = 1)\n",
    "                #print(temp.head())\n",
    "                #print(reformat_data)\n",
    "                reformat_data = pd.concat([reformat_data, temp])\n",
    "                #print(reformat_data)'''"
   ]
  },
  {
   "cell_type": "code",
   "execution_count": 34,
   "metadata": {},
   "outputs": [],
   "source": [
    "#display(reformat_data)"
   ]
  },
  {
   "cell_type": "code",
   "execution_count": 35,
   "metadata": {},
   "outputs": [],
   "source": [
    "#reformat_data.to_csv('Phase_I_II_t0_t239_LPR.csv',index=False)"
   ]
  },
  {
   "cell_type": "code",
   "execution_count": 36,
   "metadata": {},
   "outputs": [],
   "source": [
    "#len(np.unique(reformat_data['chemical.id']))"
   ]
  },
  {
   "cell_type": "markdown",
   "metadata": {},
   "source": [
    "## Reformat EPR data"
   ]
  },
  {
   "cell_type": "code",
   "execution_count": 37,
   "metadata": {},
   "outputs": [],
   "source": [
    "#complete_file_path = '/Users/pand381/Downloads/Phase 1 and 2 for PNNL database 2020JUNE21/344 zf EPR data phase 1 and 2 - 2020JUNE25.csv'\n",
    "#behav_all_data = pd.read_csv(complete_file_path, header = 0)"
   ]
  },
  {
   "cell_type": "code",
   "execution_count": 38,
   "metadata": {},
   "outputs": [],
   "source": [
    "#behav_all_data.head()"
   ]
  },
  {
   "cell_type": "code",
   "execution_count": 39,
   "metadata": {},
   "outputs": [],
   "source": [
    "# Keep only relevant columns\n",
    "#columns_to_keep = ['chemical.id', 'conc', 'plate.id', 'well', 'endpoint', 'value']\n",
    "#behav_all_data_select = behav_all_data.loc[:,columns_to_keep]\n",
    "#behav_all_data_select.head()"
   ]
  },
  {
   "cell_type": "code",
   "execution_count": 40,
   "metadata": {},
   "outputs": [
    {
     "data": {
      "text/plain": [
       "\"\\nreformat_data = pd.DataFrame()\\n\\n#for chemical_index in np.unique([54]):\\nfor chemical_index in np.unique(behav_all_data['chemical.id']):\\n    behav_data_chemical = behav_all_data_select.loc[behav_all_data['chemical.id'] == chemical_index,:]\\n    print(chemical_index)\\n    # Append chemical_plate_well as a unique identifier\\n    behav_data_chemical.insert(0, 'chemical_plate_well', behav_data_chemical.loc[:,['chemical.id','plate.id', 'well']].apply(lambda x: '_'.join(x.map(str)), axis = 1))\\n    \\n    for cpw in np.unique(behav_data_chemical.chemical_plate_well):\\n        temp_df = behav_data_chemical.loc[behav_data_chemical.chemical_plate_well == cpw,:]\\n        #display(temp_df.head())\\n        temp_df_grouped = temp_df.groupby(['chemical.id', 'plate.id', 'well'])\\n        #display(temp_df_grouped.head())\\n        for name, group in temp_df_grouped:\\n            if(len(group.endpoint) == 49):\\n                temp = pd.DataFrame(\\n                        {\\n                        'chemical.id': np.unique(temp_df['chemical.id']),\\n                        'plate.id': np.unique(temp_df['plate.id']),\\n                        'well': np.unique(temp_df['well']),\\n                        'chemical_plate_well': np.unique(temp_df['chemical_plate_well']),\\n                        'conc': np.unique(temp_df['conc'])\\n                        })\\n                #print(temp.head())\\n                # Append additonal columns corresponding to time points\\n                max_time = 49\\n                for time_point in np.arange(max_time):\\n                    end_point = 't'+ str(time_point+1)\\n                    temp = pd.concat([temp, pd.DataFrame({end_point: temp_df.value[temp_df.endpoint == end_point].values})],axis = 1)\\n                #print(temp.head())\\n                #print(reformat_data)\\n                reformat_data = pd.concat([reformat_data, temp])\\n                #print(reformat_data)\\n                \""
      ]
     },
     "execution_count": 40,
     "metadata": {},
     "output_type": "execute_result"
    }
   ],
   "source": [
    "'''\n",
    "reformat_data = pd.DataFrame()\n",
    "\n",
    "#for chemical_index in np.unique([54]):\n",
    "for chemical_index in np.unique(behav_all_data['chemical.id']):\n",
    "    behav_data_chemical = behav_all_data_select.loc[behav_all_data['chemical.id'] == chemical_index,:]\n",
    "    print(chemical_index)\n",
    "    # Append chemical_plate_well as a unique identifier\n",
    "    behav_data_chemical.insert(0, 'chemical_plate_well', behav_data_chemical.loc[:,['chemical.id','plate.id', 'well']].apply(lambda x: '_'.join(x.map(str)), axis = 1))\n",
    "    \n",
    "    for cpw in np.unique(behav_data_chemical.chemical_plate_well):\n",
    "        temp_df = behav_data_chemical.loc[behav_data_chemical.chemical_plate_well == cpw,:]\n",
    "        #display(temp_df.head())\n",
    "        temp_df_grouped = temp_df.groupby(['chemical.id', 'plate.id', 'well'])\n",
    "        #display(temp_df_grouped.head())\n",
    "        for name, group in temp_df_grouped:\n",
    "            if(len(group.endpoint) == 49):\n",
    "                temp = pd.DataFrame(\n",
    "                        {\n",
    "                        'chemical.id': np.unique(temp_df['chemical.id']),\n",
    "                        'plate.id': np.unique(temp_df['plate.id']),\n",
    "                        'well': np.unique(temp_df['well']),\n",
    "                        'chemical_plate_well': np.unique(temp_df['chemical_plate_well']),\n",
    "                        'conc': np.unique(temp_df['conc'])\n",
    "                        })\n",
    "                #print(temp.head())\n",
    "                # Append additonal columns corresponding to time points\n",
    "                max_time = 49\n",
    "                for time_point in np.arange(max_time):\n",
    "                    end_point = 't'+ str(time_point+1)\n",
    "                    temp = pd.concat([temp, pd.DataFrame({end_point: temp_df.value[temp_df.endpoint == end_point].values})],axis = 1)\n",
    "                #print(temp.head())\n",
    "                #print(reformat_data)\n",
    "                reformat_data = pd.concat([reformat_data, temp])\n",
    "                #print(reformat_data)\n",
    "                '''"
   ]
  },
  {
   "cell_type": "code",
   "execution_count": 41,
   "metadata": {},
   "outputs": [],
   "source": [
    "#display(reformat_data)"
   ]
  },
  {
   "cell_type": "code",
   "execution_count": 42,
   "metadata": {},
   "outputs": [],
   "source": [
    "#reformat_data.to_csv('Phase_I_II_t1_t49_EPR.csv',index=False)"
   ]
  },
  {
   "cell_type": "code",
   "execution_count": null,
   "metadata": {},
   "outputs": [],
   "source": []
  }
 ],
 "metadata": {
  "kernelspec": {
   "display_name": "Python 3",
   "language": "python",
   "name": "python3"
  },
  "language_info": {
   "codemirror_mode": {
    "name": "ipython",
    "version": 3
   },
   "file_extension": ".py",
   "mimetype": "text/x-python",
   "name": "python",
   "nbconvert_exporter": "python",
   "pygments_lexer": "ipython3",
   "version": "3.7.8"
  }
 },
 "nbformat": 4,
 "nbformat_minor": 4
}
