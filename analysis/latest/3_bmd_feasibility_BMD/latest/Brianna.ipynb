{
 "cells": [
  {
   "cell_type": "code",
   "execution_count": 1,
   "metadata": {},
   "outputs": [],
   "source": [
    "import numpy as np\n",
    "import pandas as pd\n",
    "import os, random, shutil, sys, time\n",
    "from scipy import stats\n",
    "from matplotlib import pyplot as plt\n",
    "import seaborn as sns\n",
    "\n",
    "import warnings\n",
    "warnings.filterwarnings('ignore')\n",
    "\n",
    "import sys\n",
    "\n",
    "#mac\n",
    "util_path = \"/Users/kimd999/research/script_not_in_dropbox/srpAnalytics/analysis/latest/util\"\n",
    "\n",
    "#constance\n",
    "'''args = sys.argv[0:]\n",
    "py_file = args[0]\n",
    "\n",
    "code_location = os.path.dirname(os.path.abspath(py_file))\n",
    "index_of_latest = code_location.index('latest')\n",
    "util_path = os.path.join(code_location[:index_of_latest], \"latest\", \"util\")\n",
    "'''\n",
    "\n",
    "sys.path.insert(0, util_path)"
   ]
  },
  {
   "cell_type": "code",
   "execution_count": 2,
   "metadata": {},
   "outputs": [
    {
     "name": "stdout",
     "output_type": "stream",
     "text": [
      "/Users/kimd999/research/script_not_in_dropbox/srpAnalytics/analysis/latest/util\n"
     ]
    }
   ],
   "source": [
    "starting_dir = os.getcwd()\n",
    "print (starting_dir)"
   ]
  },
  {
   "cell_type": "code",
   "execution_count": 9,
   "metadata": {},
   "outputs": [
    {
     "data": {
      "text/html": [
       "<div>\n",
       "<style scoped>\n",
       "    .dataframe tbody tr th:only-of-type {\n",
       "        vertical-align: middle;\n",
       "    }\n",
       "\n",
       "    .dataframe tbody tr th {\n",
       "        vertical-align: top;\n",
       "    }\n",
       "\n",
       "    .dataframe thead th {\n",
       "        text-align: right;\n",
       "    }\n",
       "</style>\n",
       "<table border=\"1\" class=\"dataframe\">\n",
       "  <thead>\n",
       "    <tr style=\"text-align: right;\">\n",
       "      <th></th>\n",
       "      <th>dose</th>\n",
       "      <th>num_affected</th>\n",
       "      <th>total_num</th>\n",
       "    </tr>\n",
       "  </thead>\n",
       "  <tbody>\n",
       "    <tr>\n",
       "      <th>0</th>\n",
       "      <td>0</td>\n",
       "      <td>0.000000</td>\n",
       "      <td>100</td>\n",
       "    </tr>\n",
       "    <tr>\n",
       "      <th>1</th>\n",
       "      <td>50</td>\n",
       "      <td>79.780986</td>\n",
       "      <td>100</td>\n",
       "    </tr>\n",
       "    <tr>\n",
       "      <th>2</th>\n",
       "      <td>75</td>\n",
       "      <td>95.688427</td>\n",
       "      <td>100</td>\n",
       "    </tr>\n",
       "    <tr>\n",
       "      <th>3</th>\n",
       "      <td>100</td>\n",
       "      <td>99.604725</td>\n",
       "      <td>100</td>\n",
       "    </tr>\n",
       "    <tr>\n",
       "      <th>4</th>\n",
       "      <td>10</td>\n",
       "      <td>35.265724</td>\n",
       "      <td>100</td>\n",
       "    </tr>\n",
       "  </tbody>\n",
       "</table>\n",
       "</div>"
      ],
      "text/plain": [
       "   dose  num_affected  total_num\n",
       "0     0      0.000000        100\n",
       "1    50     79.780986        100\n",
       "2    75     95.688427        100\n",
       "3   100     99.604725        100\n",
       "4    10     35.265724        100"
      ]
     },
     "metadata": {},
     "output_type": "display_data"
    }
   ],
   "source": [
    "complete_file_path = '/Users/kimd999/research/inhale_mix.csv'\n",
    "\n",
    "df = pd.read_csv(complete_file_path, header = 0)\n",
    "pd.set_option('display.max_columns', None)\n",
    "display(df.head())\n",
    "#display(np.unique(morpho_data.well))"
   ]
  },
  {
   "cell_type": "code",
   "execution_count": 4,
   "metadata": {},
   "outputs": [],
   "source": [
    "import generate_dose_response as gdr\n",
    "\n",
    "import BMD_BMDL_estimation as bmdest\n",
    "import Plot_Save as ps"
   ]
  },
  {
   "cell_type": "code",
   "execution_count": 10,
   "metadata": {},
   "outputs": [],
   "source": [
    "# Fit dose response models\n",
    "model_predictions = bmdest.analyze_dose_response_data(df)\n"
   ]
  },
  {
   "cell_type": "code",
   "execution_count": 11,
   "metadata": {},
   "outputs": [
    {
     "name": "stdout",
     "output_type": "stream",
     "text": [
      "            Model  Chi-squared         p-val         AIC      BMD10    BMDL10  \\\n",
      "0        logistic   129.776473  4.347153e-27  543.766699  14.772554  3.900223   \n",
      "1           gamma    54.102668  1.066891e-11  480.653877   8.341445       NaN   \n",
      "2         weibull     4.883934  1.804961e-01  415.961027   2.764093  1.714677   \n",
      "3    log_logistic    11.852302  7.906625e-03  424.889534   4.423469  3.139275   \n",
      "4          probit          NaN           NaN         NaN        NaN       NaN   \n",
      "5      log_probit     9.578999  2.250563e-02  421.737771   4.593136  3.582514   \n",
      "6    multistage_2    21.269837  9.252882e-05  435.881380   5.684147       NaN   \n",
      "7  quantal_linear    15.804889  3.292466e-03  436.134520   3.164648  1.971795   \n",
      "\n",
      "       BMD50                                   Scaled Residuals  \\\n",
      "0  35.697456  [3.310721555870071, -4.333683279562626, -3.299...   \n",
      "1  34.092513  [3.333333333333333, -1.9963218035971284, -2.85...   \n",
      "2  17.990511  [0.03162293471675267, 1.6564448433879573, -0.4...   \n",
      "3  16.451019  [0.03162293471676551, 1.9751234478815975, -1.1...   \n",
      "4        NaN                     [nan, nan, nan, nan, nan, nan]   \n",
      "5  16.593102  [0.03162293471675267, 1.9471025204371062, -0.9...   \n",
      "6  26.347701  [2.294157338705618, 1.0487640525677493, 0.5355...   \n",
      "7  20.819631  [3.333333333333333, 0.8474755935297127, -1.182...   \n",
      "\n",
      "                                    Optimized Params Conv Flag BMDL Conv  \n",
      "0        [-2.2108378693040827, 0.051019335445478826]         0         0  \n",
      "1     [0.1, 1.4857142857142858, 0.03428571428571429]         0         1  \n",
      "2   [1e-05, 1.0057243249951389, 0.03789637619486568]         0         0  \n",
      "3    [1e-05, -4.684623401514406, 1.6728483370726976]         0         0  \n",
      "4                                                NaN         1         1  \n",
      "5    [1e-05, -2.802704994227225, 0.9977635776091607]         0         0  \n",
      "6  [0.05, 0.01639797135601024, 0.000376113245098848]         0         1  \n",
      "7                           [0.1, 0.033292962482053]         0         0  \n"
     ]
    }
   ],
   "source": [
    "print (model_predictions)"
   ]
  },
  {
   "cell_type": "code",
   "execution_count": 12,
   "metadata": {},
   "outputs": [],
   "source": [
    "# Select best model\n",
    "selected_model_params = bmdest.select_model(model_predictions)"
   ]
  },
  {
   "cell_type": "code",
   "execution_count": 14,
   "metadata": {},
   "outputs": [],
   "source": [
    "chemical_id = \"inhale_mix\"\n",
    "end_point = \"CTG\"\n",
    "bmd_feasibility_flag = 2\n",
    "test_dose_response = df\n",
    "\n",
    "# Check if unique model is found\n",
    "unique_model_flag = selected_model_params['no_unique_model_found_flag']\n",
    "if(unique_model_flag == 0):\n",
    "    # Generate report\n",
    "    #print(test_dose_response.dose[-1:])\n",
    "\n",
    "    ps.save_results_good_data_unique_model(test_dose_response, bmd_feasibility_flag, model_predictions, selected_model_params, str(chemical_id), end_point)\n",
    "else:\n",
    "    bmd_analysis_flag = selected_model_params['model_select_flag']\n",
    "    if(bmd_analysis_flag == 1):\n",
    "        ps.save_results_poor_data_or_no_convergence(test_dose_response, bmd_feasibility_flag, str(chemical_id), end_point, selected_model_params)\n",
    "    else:\n",
    "        ps.save_results_good_data_nounique_model(test_dose_response, bmd_feasibility_flag, model_predictions, selected_model_params, str(chemical_id), end_point)"
   ]
  },
  {
   "cell_type": "code",
   "execution_count": null,
   "metadata": {},
   "outputs": [],
   "source": []
  }
 ],
 "metadata": {
  "kernelspec": {
   "display_name": "Python 3",
   "language": "python",
   "name": "python3"
  },
  "language_info": {
   "codemirror_mode": {
    "name": "ipython",
    "version": 3
   },
   "file_extension": ".py",
   "mimetype": "text/x-python",
   "name": "python",
   "nbconvert_exporter": "python",
   "pygments_lexer": "ipython3",
   "version": "3.7.8"
  }
 },
 "nbformat": 4,
 "nbformat_minor": 4
}
