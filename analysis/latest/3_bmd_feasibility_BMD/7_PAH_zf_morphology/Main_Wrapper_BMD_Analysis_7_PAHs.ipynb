{
 "cells": [
  {
   "cell_type": "code",
   "execution_count": 1,
   "metadata": {},
   "outputs": [],
   "source": [
    "#7_PAH_zf_morphology\n",
    "import sys\n",
    "\n",
    "import numpy as np\n",
    "import pandas as pd\n",
    "import os, sys, time\n",
    "from scipy import stats\n",
    "from matplotlib import pyplot as plt\n",
    "import seaborn as sns\n",
    "\n",
    "import warnings\n",
    "warnings.filterwarnings('ignore')"
   ]
  },
  {
   "cell_type": "code",
   "execution_count": 2,
   "metadata": {},
   "outputs": [
    {
     "name": "stdout",
     "output_type": "stream",
     "text": [
      "/Users/kimd999/Dropbox/script/python/srpAnalytics/analysis/latest/3_bmd_feasibility_BMD/7_PAH_zf_morphology\n"
     ]
    }
   ],
   "source": [
    "starting_dir = os.getcwd()\n",
    "print (starting_dir)"
   ]
  },
  {
   "cell_type": "code",
   "execution_count": 5,
   "metadata": {},
   "outputs": [],
   "source": [
    "util_path = \"/Users/kimd999/Dropbox/script/python/srpAnalytics/analysis/latest/3_bmd_feasibility_BMD/common/util\"\n",
    "sys.path.insert(0, util_path)"
   ]
  },
  {
   "cell_type": "code",
   "execution_count": 6,
   "metadata": {},
   "outputs": [],
   "source": [
    "import BMD_BMDL_estimation as bmdest\n",
    "import generate_dose_response_newest_no_avg as gdr\n",
    "import Plot_Save as ps"
   ]
  },
  {
   "cell_type": "code",
   "execution_count": 7,
   "metadata": {},
   "outputs": [
    {
     "ename": "FileNotFoundError",
     "evalue": "[Errno 2] No such file or directory: '/Users/kimd999/research/projects/toxicity/per_each_data/7_PAH_zf_morphology/input/wide/7_PAH_zf_morphology_data_2020NOV11_wide_DNC_0.csv'",
     "output_type": "error",
     "traceback": [
      "\u001b[0;31m---------------------------------------------------------------------------\u001b[0m",
      "\u001b[0;31mFileNotFoundError\u001b[0m                         Traceback (most recent call last)",
      "\u001b[0;32m<ipython-input-7-b79f7c508ef2>\u001b[0m in \u001b[0;36m<module>\u001b[0;34m()\u001b[0m\n\u001b[1;32m      1\u001b[0m \u001b[0mcomplete_file_path\u001b[0m \u001b[0;34m=\u001b[0m \u001b[0;34m'/Users/kimd999/research/projects/toxicity/per_each_data/7_PAH_zf_morphology/input/wide/7_PAH_zf_morphology_data_2020NOV11_wide_DNC_0.csv'\u001b[0m\u001b[0;34m\u001b[0m\u001b[0;34m\u001b[0m\u001b[0m\n\u001b[1;32m      2\u001b[0m \u001b[0;34m\u001b[0m\u001b[0m\n\u001b[0;32m----> 3\u001b[0;31m \u001b[0mmorphological_data\u001b[0m \u001b[0;34m=\u001b[0m \u001b[0mpd\u001b[0m\u001b[0;34m.\u001b[0m\u001b[0mread_csv\u001b[0m\u001b[0;34m(\u001b[0m\u001b[0mcomplete_file_path\u001b[0m\u001b[0;34m,\u001b[0m \u001b[0mheader\u001b[0m \u001b[0;34m=\u001b[0m \u001b[0;36m0\u001b[0m\u001b[0;34m)\u001b[0m\u001b[0;34m\u001b[0m\u001b[0;34m\u001b[0m\u001b[0m\n\u001b[0m\u001b[1;32m      4\u001b[0m \u001b[0mpd\u001b[0m\u001b[0;34m.\u001b[0m\u001b[0mset_option\u001b[0m\u001b[0;34m(\u001b[0m\u001b[0;34m'display.max_columns'\u001b[0m\u001b[0;34m,\u001b[0m \u001b[0;32mNone\u001b[0m\u001b[0;34m)\u001b[0m\u001b[0;34m\u001b[0m\u001b[0;34m\u001b[0m\u001b[0m\n\u001b[1;32m      5\u001b[0m \u001b[0mdisplay\u001b[0m\u001b[0;34m(\u001b[0m\u001b[0mmorphological_data\u001b[0m\u001b[0;34m.\u001b[0m\u001b[0mhead\u001b[0m\u001b[0;34m(\u001b[0m\u001b[0;34m)\u001b[0m\u001b[0;34m)\u001b[0m\u001b[0;34m\u001b[0m\u001b[0;34m\u001b[0m\u001b[0m\n",
      "\u001b[0;32m/Users/kimd999/bin/miniconda3/envs/tox/lib/python3.7/site-packages/pandas/io/parsers.py\u001b[0m in \u001b[0;36mread_csv\u001b[0;34m(filepath_or_buffer, sep, delimiter, header, names, index_col, usecols, squeeze, prefix, mangle_dupe_cols, dtype, engine, converters, true_values, false_values, skipinitialspace, skiprows, skipfooter, nrows, na_values, keep_default_na, na_filter, verbose, skip_blank_lines, parse_dates, infer_datetime_format, keep_date_col, date_parser, dayfirst, cache_dates, iterator, chunksize, compression, thousands, decimal, lineterminator, quotechar, quoting, doublequote, escapechar, comment, encoding, dialect, error_bad_lines, warn_bad_lines, delim_whitespace, low_memory, memory_map, float_precision)\u001b[0m\n\u001b[1;32m    684\u001b[0m     )\n\u001b[1;32m    685\u001b[0m \u001b[0;34m\u001b[0m\u001b[0m\n\u001b[0;32m--> 686\u001b[0;31m     \u001b[0;32mreturn\u001b[0m \u001b[0m_read\u001b[0m\u001b[0;34m(\u001b[0m\u001b[0mfilepath_or_buffer\u001b[0m\u001b[0;34m,\u001b[0m \u001b[0mkwds\u001b[0m\u001b[0;34m)\u001b[0m\u001b[0;34m\u001b[0m\u001b[0;34m\u001b[0m\u001b[0m\n\u001b[0m\u001b[1;32m    687\u001b[0m \u001b[0;34m\u001b[0m\u001b[0m\n\u001b[1;32m    688\u001b[0m \u001b[0;34m\u001b[0m\u001b[0m\n",
      "\u001b[0;32m/Users/kimd999/bin/miniconda3/envs/tox/lib/python3.7/site-packages/pandas/io/parsers.py\u001b[0m in \u001b[0;36m_read\u001b[0;34m(filepath_or_buffer, kwds)\u001b[0m\n\u001b[1;32m    450\u001b[0m \u001b[0;34m\u001b[0m\u001b[0m\n\u001b[1;32m    451\u001b[0m     \u001b[0;31m# Create the parser.\u001b[0m\u001b[0;34m\u001b[0m\u001b[0;34m\u001b[0m\u001b[0;34m\u001b[0m\u001b[0m\n\u001b[0;32m--> 452\u001b[0;31m     \u001b[0mparser\u001b[0m \u001b[0;34m=\u001b[0m \u001b[0mTextFileReader\u001b[0m\u001b[0;34m(\u001b[0m\u001b[0mfp_or_buf\u001b[0m\u001b[0;34m,\u001b[0m \u001b[0;34m**\u001b[0m\u001b[0mkwds\u001b[0m\u001b[0;34m)\u001b[0m\u001b[0;34m\u001b[0m\u001b[0;34m\u001b[0m\u001b[0m\n\u001b[0m\u001b[1;32m    453\u001b[0m \u001b[0;34m\u001b[0m\u001b[0m\n\u001b[1;32m    454\u001b[0m     \u001b[0;32mif\u001b[0m \u001b[0mchunksize\u001b[0m \u001b[0;32mor\u001b[0m \u001b[0miterator\u001b[0m\u001b[0;34m:\u001b[0m\u001b[0;34m\u001b[0m\u001b[0;34m\u001b[0m\u001b[0m\n",
      "\u001b[0;32m/Users/kimd999/bin/miniconda3/envs/tox/lib/python3.7/site-packages/pandas/io/parsers.py\u001b[0m in \u001b[0;36m__init__\u001b[0;34m(self, f, engine, **kwds)\u001b[0m\n\u001b[1;32m    944\u001b[0m             \u001b[0mself\u001b[0m\u001b[0;34m.\u001b[0m\u001b[0moptions\u001b[0m\u001b[0;34m[\u001b[0m\u001b[0;34m\"has_index_names\"\u001b[0m\u001b[0;34m]\u001b[0m \u001b[0;34m=\u001b[0m \u001b[0mkwds\u001b[0m\u001b[0;34m[\u001b[0m\u001b[0;34m\"has_index_names\"\u001b[0m\u001b[0;34m]\u001b[0m\u001b[0;34m\u001b[0m\u001b[0;34m\u001b[0m\u001b[0m\n\u001b[1;32m    945\u001b[0m \u001b[0;34m\u001b[0m\u001b[0m\n\u001b[0;32m--> 946\u001b[0;31m         \u001b[0mself\u001b[0m\u001b[0;34m.\u001b[0m\u001b[0m_make_engine\u001b[0m\u001b[0;34m(\u001b[0m\u001b[0mself\u001b[0m\u001b[0;34m.\u001b[0m\u001b[0mengine\u001b[0m\u001b[0;34m)\u001b[0m\u001b[0;34m\u001b[0m\u001b[0;34m\u001b[0m\u001b[0m\n\u001b[0m\u001b[1;32m    947\u001b[0m \u001b[0;34m\u001b[0m\u001b[0m\n\u001b[1;32m    948\u001b[0m     \u001b[0;32mdef\u001b[0m \u001b[0mclose\u001b[0m\u001b[0;34m(\u001b[0m\u001b[0mself\u001b[0m\u001b[0;34m)\u001b[0m\u001b[0;34m:\u001b[0m\u001b[0;34m\u001b[0m\u001b[0;34m\u001b[0m\u001b[0m\n",
      "\u001b[0;32m/Users/kimd999/bin/miniconda3/envs/tox/lib/python3.7/site-packages/pandas/io/parsers.py\u001b[0m in \u001b[0;36m_make_engine\u001b[0;34m(self, engine)\u001b[0m\n\u001b[1;32m   1176\u001b[0m     \u001b[0;32mdef\u001b[0m \u001b[0m_make_engine\u001b[0m\u001b[0;34m(\u001b[0m\u001b[0mself\u001b[0m\u001b[0;34m,\u001b[0m \u001b[0mengine\u001b[0m\u001b[0;34m=\u001b[0m\u001b[0;34m\"c\"\u001b[0m\u001b[0;34m)\u001b[0m\u001b[0;34m:\u001b[0m\u001b[0;34m\u001b[0m\u001b[0;34m\u001b[0m\u001b[0m\n\u001b[1;32m   1177\u001b[0m         \u001b[0;32mif\u001b[0m \u001b[0mengine\u001b[0m \u001b[0;34m==\u001b[0m \u001b[0;34m\"c\"\u001b[0m\u001b[0;34m:\u001b[0m\u001b[0;34m\u001b[0m\u001b[0;34m\u001b[0m\u001b[0m\n\u001b[0;32m-> 1178\u001b[0;31m             \u001b[0mself\u001b[0m\u001b[0;34m.\u001b[0m\u001b[0m_engine\u001b[0m \u001b[0;34m=\u001b[0m \u001b[0mCParserWrapper\u001b[0m\u001b[0;34m(\u001b[0m\u001b[0mself\u001b[0m\u001b[0;34m.\u001b[0m\u001b[0mf\u001b[0m\u001b[0;34m,\u001b[0m \u001b[0;34m**\u001b[0m\u001b[0mself\u001b[0m\u001b[0;34m.\u001b[0m\u001b[0moptions\u001b[0m\u001b[0;34m)\u001b[0m\u001b[0;34m\u001b[0m\u001b[0;34m\u001b[0m\u001b[0m\n\u001b[0m\u001b[1;32m   1179\u001b[0m         \u001b[0;32melse\u001b[0m\u001b[0;34m:\u001b[0m\u001b[0;34m\u001b[0m\u001b[0;34m\u001b[0m\u001b[0m\n\u001b[1;32m   1180\u001b[0m             \u001b[0;32mif\u001b[0m \u001b[0mengine\u001b[0m \u001b[0;34m==\u001b[0m \u001b[0;34m\"python\"\u001b[0m\u001b[0;34m:\u001b[0m\u001b[0;34m\u001b[0m\u001b[0;34m\u001b[0m\u001b[0m\n",
      "\u001b[0;32m/Users/kimd999/bin/miniconda3/envs/tox/lib/python3.7/site-packages/pandas/io/parsers.py\u001b[0m in \u001b[0;36m__init__\u001b[0;34m(self, src, **kwds)\u001b[0m\n\u001b[1;32m   2006\u001b[0m         \u001b[0mkwds\u001b[0m\u001b[0;34m[\u001b[0m\u001b[0;34m\"usecols\"\u001b[0m\u001b[0;34m]\u001b[0m \u001b[0;34m=\u001b[0m \u001b[0mself\u001b[0m\u001b[0;34m.\u001b[0m\u001b[0musecols\u001b[0m\u001b[0;34m\u001b[0m\u001b[0;34m\u001b[0m\u001b[0m\n\u001b[1;32m   2007\u001b[0m \u001b[0;34m\u001b[0m\u001b[0m\n\u001b[0;32m-> 2008\u001b[0;31m         \u001b[0mself\u001b[0m\u001b[0;34m.\u001b[0m\u001b[0m_reader\u001b[0m \u001b[0;34m=\u001b[0m \u001b[0mparsers\u001b[0m\u001b[0;34m.\u001b[0m\u001b[0mTextReader\u001b[0m\u001b[0;34m(\u001b[0m\u001b[0msrc\u001b[0m\u001b[0;34m,\u001b[0m \u001b[0;34m**\u001b[0m\u001b[0mkwds\u001b[0m\u001b[0;34m)\u001b[0m\u001b[0;34m\u001b[0m\u001b[0;34m\u001b[0m\u001b[0m\n\u001b[0m\u001b[1;32m   2009\u001b[0m         \u001b[0mself\u001b[0m\u001b[0;34m.\u001b[0m\u001b[0munnamed_cols\u001b[0m \u001b[0;34m=\u001b[0m \u001b[0mself\u001b[0m\u001b[0;34m.\u001b[0m\u001b[0m_reader\u001b[0m\u001b[0;34m.\u001b[0m\u001b[0munnamed_cols\u001b[0m\u001b[0;34m\u001b[0m\u001b[0;34m\u001b[0m\u001b[0m\n\u001b[1;32m   2010\u001b[0m \u001b[0;34m\u001b[0m\u001b[0m\n",
      "\u001b[0;32mpandas/_libs/parsers.pyx\u001b[0m in \u001b[0;36mpandas._libs.parsers.TextReader.__cinit__\u001b[0;34m()\u001b[0m\n",
      "\u001b[0;32mpandas/_libs/parsers.pyx\u001b[0m in \u001b[0;36mpandas._libs.parsers.TextReader._setup_parser_source\u001b[0;34m()\u001b[0m\n",
      "\u001b[0;31mFileNotFoundError\u001b[0m: [Errno 2] No such file or directory: '/Users/kimd999/research/projects/toxicity/per_each_data/7_PAH_zf_morphology/input/wide/7_PAH_zf_morphology_data_2020NOV11_wide_DNC_0.csv'"
     ]
    }
   ],
   "source": [
    "complete_file_path = '/Users/kimd999/research/projects/toxicity/per_each_data/7_PAH_zf_morphology/input/wide/7_PAH_zf_morphology_data_2020NOV11_wide_DNC_0.csv'\n",
    "\n",
    "morphological_data = pd.read_csv(complete_file_path, header = 0)\n",
    "pd.set_option('display.max_columns', None)\n",
    "display(morphological_data.head())\n",
    "display(morphological_data.columns)\n",
    "display(np.unique(morphological_data.well))"
   ]
  },
  {
   "cell_type": "code",
   "execution_count": 4,
   "metadata": {},
   "outputs": [],
   "source": [
    "#np.sum(morphological_data['MO24'] == 1)"
   ]
  },
  {
   "cell_type": "code",
   "execution_count": 5,
   "metadata": {},
   "outputs": [],
   "source": [
    "test_data_sim = 0\n",
    "if(test_data_sim == 0):\n",
    "    # Add aggregate endpoints\n",
    "    # 1. Any effect at 24hrs (combination of MO24, DP24 and SM24) >> 'ANY24'\n",
    "    morphological_data['ANY24'] = morphological_data[['MO24','DP24','SM24']].sum(axis=1,skipna=True,min_count=1)\n",
    "    \n",
    "    # 2. Any effect within 5 days (combination of all measurements at both time points)\n",
    "    morphological_data['ANY120'] = morphological_data[['AXIS', 'BRN_', 'CRAN', 'EDEM', 'LTRK', 'MORT', 'MUSC', 'NC__', 'SKIN', 'TCHR', 'ANY24']].sum(axis=1,skipna=True,min_count=1)\n",
    "    \n",
    "    # 3. Total mortality (MO24 + MORT) >> 'TOT_MORT'\n",
    "    morphological_data['TOT_MORT'] = morphological_data[['MO24','MORT']].sum(axis=1,skipna=True,min_count=1)\n",
    "\n",
    "    # 4. Any effect except mortality (#2 minus MO24 and MORT) >> 'ALL_BUT_MORT'\n",
    "    morphological_data['ALL_BUT_MORT'] = morphological_data[['AXIS', 'BRN_', 'CRAN', 'DP24', 'EDEM', \\\n",
    "                                                             'LTRK', 'MUSC', 'NC__', 'SKIN', 'SM24', 'TCHR']].sum(axis=1,skipna=True,min_count=1)\n"
   ]
  },
  {
   "cell_type": "code",
   "execution_count": 6,
   "metadata": {},
   "outputs": [
    {
     "data": {
      "text/html": [
       "<div>\n",
       "<style scoped>\n",
       "    .dataframe tbody tr th:only-of-type {\n",
       "        vertical-align: middle;\n",
       "    }\n",
       "\n",
       "    .dataframe tbody tr th {\n",
       "        vertical-align: top;\n",
       "    }\n",
       "\n",
       "    .dataframe thead th {\n",
       "        text-align: right;\n",
       "    }\n",
       "</style>\n",
       "<table border=\"1\" class=\"dataframe\">\n",
       "  <thead>\n",
       "    <tr style=\"text-align: right;\">\n",
       "      <th></th>\n",
       "      <th>chemical.id</th>\n",
       "      <th>conc</th>\n",
       "      <th>plate.id</th>\n",
       "      <th>well</th>\n",
       "      <th>ANY24</th>\n",
       "    </tr>\n",
       "  </thead>\n",
       "  <tbody>\n",
       "  </tbody>\n",
       "</table>\n",
       "</div>"
      ],
      "text/plain": [
       "Empty DataFrame\n",
       "Columns: [chemical.id, conc, plate.id, well, ANY24]\n",
       "Index: []"
      ]
     },
     "metadata": {},
     "output_type": "display_data"
    }
   ],
   "source": [
    "# morphological_data_end_point_chemical_id = morphological_data.loc[morphological_data['chemical.id'] == chemical_id,['chemical.id', 'conc', 'plate.id', 'well', end_point]]\n",
    "morphological_data_end_point_chemical_id = morphological_data.loc[morphological_data['chemical.id'] == 1532,['chemical.id', 'conc', 'plate.id', 'well', 'ANY24']]\n",
    "display(morphological_data_end_point_chemical_id)\n",
    "#display(morphological_data.loc[morphological_data[]'chemical.id']==1532)\n",
    "#print (\"done\")"
   ]
  },
  {
   "cell_type": "code",
   "execution_count": 7,
   "metadata": {},
   "outputs": [
    {
     "data": {
      "text/html": [
       "<div>\n",
       "<style scoped>\n",
       "    .dataframe tbody tr th:only-of-type {\n",
       "        vertical-align: middle;\n",
       "    }\n",
       "\n",
       "    .dataframe tbody tr th {\n",
       "        vertical-align: top;\n",
       "    }\n",
       "\n",
       "    .dataframe thead th {\n",
       "        text-align: right;\n",
       "    }\n",
       "</style>\n",
       "<table border=\"1\" class=\"dataframe\">\n",
       "  <thead>\n",
       "    <tr style=\"text-align: right;\">\n",
       "      <th></th>\n",
       "      <th>chemical.id</th>\n",
       "      <th>plate.id</th>\n",
       "      <th>well</th>\n",
       "      <th>chemical_plate_well</th>\n",
       "      <th>conc</th>\n",
       "      <th>AXIS</th>\n",
       "      <th>BRN_</th>\n",
       "      <th>CRAN</th>\n",
       "      <th>DNC_</th>\n",
       "      <th>DP24</th>\n",
       "      <th>EDEM</th>\n",
       "      <th>LTRK</th>\n",
       "      <th>MO24</th>\n",
       "      <th>MORT</th>\n",
       "      <th>MUSC</th>\n",
       "      <th>NC__</th>\n",
       "      <th>SKIN</th>\n",
       "      <th>SM24</th>\n",
       "      <th>TCHR</th>\n",
       "      <th>ANY24</th>\n",
       "      <th>ANY120</th>\n",
       "      <th>TOT_MORT</th>\n",
       "      <th>ALL_BUT_MORT</th>\n",
       "    </tr>\n",
       "  </thead>\n",
       "  <tbody>\n",
       "    <tr>\n",
       "      <th>0</th>\n",
       "      <td>3756</td>\n",
       "      <td>20544</td>\n",
       "      <td>A01</td>\n",
       "      <td>3756_20544_A01</td>\n",
       "      <td>100.0</td>\n",
       "      <td>NaN</td>\n",
       "      <td>NaN</td>\n",
       "      <td>NaN</td>\n",
       "      <td>0.0</td>\n",
       "      <td>NaN</td>\n",
       "      <td>NaN</td>\n",
       "      <td>NaN</td>\n",
       "      <td>1.0</td>\n",
       "      <td>NaN</td>\n",
       "      <td>NaN</td>\n",
       "      <td>NaN</td>\n",
       "      <td>NaN</td>\n",
       "      <td>NaN</td>\n",
       "      <td>NaN</td>\n",
       "      <td>1.0</td>\n",
       "      <td>1.0</td>\n",
       "      <td>1.0</td>\n",
       "      <td>NaN</td>\n",
       "    </tr>\n",
       "    <tr>\n",
       "      <th>1</th>\n",
       "      <td>3756</td>\n",
       "      <td>20544</td>\n",
       "      <td>A02</td>\n",
       "      <td>3756_20544_A02</td>\n",
       "      <td>100.0</td>\n",
       "      <td>0.0</td>\n",
       "      <td>0.0</td>\n",
       "      <td>0.0</td>\n",
       "      <td>0.0</td>\n",
       "      <td>0.0</td>\n",
       "      <td>0.0</td>\n",
       "      <td>0.0</td>\n",
       "      <td>0.0</td>\n",
       "      <td>0.0</td>\n",
       "      <td>0.0</td>\n",
       "      <td>0.0</td>\n",
       "      <td>0.0</td>\n",
       "      <td>0.0</td>\n",
       "      <td>0.0</td>\n",
       "      <td>0.0</td>\n",
       "      <td>0.0</td>\n",
       "      <td>0.0</td>\n",
       "      <td>0.0</td>\n",
       "    </tr>\n",
       "    <tr>\n",
       "      <th>2</th>\n",
       "      <td>3756</td>\n",
       "      <td>20544</td>\n",
       "      <td>A03</td>\n",
       "      <td>3756_20544_A03</td>\n",
       "      <td>100.0</td>\n",
       "      <td>NaN</td>\n",
       "      <td>NaN</td>\n",
       "      <td>NaN</td>\n",
       "      <td>0.0</td>\n",
       "      <td>NaN</td>\n",
       "      <td>NaN</td>\n",
       "      <td>NaN</td>\n",
       "      <td>1.0</td>\n",
       "      <td>NaN</td>\n",
       "      <td>NaN</td>\n",
       "      <td>NaN</td>\n",
       "      <td>NaN</td>\n",
       "      <td>NaN</td>\n",
       "      <td>NaN</td>\n",
       "      <td>1.0</td>\n",
       "      <td>1.0</td>\n",
       "      <td>1.0</td>\n",
       "      <td>NaN</td>\n",
       "    </tr>\n",
       "    <tr>\n",
       "      <th>3</th>\n",
       "      <td>3756</td>\n",
       "      <td>20544</td>\n",
       "      <td>A04</td>\n",
       "      <td>3756_20544_A04</td>\n",
       "      <td>100.0</td>\n",
       "      <td>0.0</td>\n",
       "      <td>0.0</td>\n",
       "      <td>0.0</td>\n",
       "      <td>0.0</td>\n",
       "      <td>0.0</td>\n",
       "      <td>0.0</td>\n",
       "      <td>0.0</td>\n",
       "      <td>0.0</td>\n",
       "      <td>0.0</td>\n",
       "      <td>0.0</td>\n",
       "      <td>0.0</td>\n",
       "      <td>0.0</td>\n",
       "      <td>0.0</td>\n",
       "      <td>0.0</td>\n",
       "      <td>0.0</td>\n",
       "      <td>0.0</td>\n",
       "      <td>0.0</td>\n",
       "      <td>0.0</td>\n",
       "    </tr>\n",
       "    <tr>\n",
       "      <th>4</th>\n",
       "      <td>3756</td>\n",
       "      <td>20544</td>\n",
       "      <td>A05</td>\n",
       "      <td>3756_20544_A05</td>\n",
       "      <td>100.0</td>\n",
       "      <td>0.0</td>\n",
       "      <td>0.0</td>\n",
       "      <td>0.0</td>\n",
       "      <td>0.0</td>\n",
       "      <td>0.0</td>\n",
       "      <td>0.0</td>\n",
       "      <td>0.0</td>\n",
       "      <td>0.0</td>\n",
       "      <td>0.0</td>\n",
       "      <td>0.0</td>\n",
       "      <td>0.0</td>\n",
       "      <td>0.0</td>\n",
       "      <td>0.0</td>\n",
       "      <td>0.0</td>\n",
       "      <td>0.0</td>\n",
       "      <td>0.0</td>\n",
       "      <td>0.0</td>\n",
       "      <td>0.0</td>\n",
       "    </tr>\n",
       "  </tbody>\n",
       "</table>\n",
       "</div>"
      ],
      "text/plain": [
       "   chemical.id  plate.id well chemical_plate_well   conc  AXIS  BRN_  CRAN  \\\n",
       "0         3756     20544  A01      3756_20544_A01  100.0   NaN   NaN   NaN   \n",
       "1         3756     20544  A02      3756_20544_A02  100.0   0.0   0.0   0.0   \n",
       "2         3756     20544  A03      3756_20544_A03  100.0   NaN   NaN   NaN   \n",
       "3         3756     20544  A04      3756_20544_A04  100.0   0.0   0.0   0.0   \n",
       "4         3756     20544  A05      3756_20544_A05  100.0   0.0   0.0   0.0   \n",
       "\n",
       "   DNC_  DP24  EDEM  LTRK  MO24  MORT  MUSC  NC__  SKIN  SM24  TCHR  ANY24  \\\n",
       "0   0.0   NaN   NaN   NaN   1.0   NaN   NaN   NaN   NaN   NaN   NaN    1.0   \n",
       "1   0.0   0.0   0.0   0.0   0.0   0.0   0.0   0.0   0.0   0.0   0.0    0.0   \n",
       "2   0.0   NaN   NaN   NaN   1.0   NaN   NaN   NaN   NaN   NaN   NaN    1.0   \n",
       "3   0.0   0.0   0.0   0.0   0.0   0.0   0.0   0.0   0.0   0.0   0.0    0.0   \n",
       "4   0.0   0.0   0.0   0.0   0.0   0.0   0.0   0.0   0.0   0.0   0.0    0.0   \n",
       "\n",
       "   ANY120  TOT_MORT  ALL_BUT_MORT  \n",
       "0     1.0       1.0           NaN  \n",
       "1     0.0       0.0           0.0  \n",
       "2     1.0       1.0           NaN  \n",
       "3     0.0       0.0           0.0  \n",
       "4     0.0       0.0           0.0  "
      ]
     },
     "metadata": {},
     "output_type": "display_data"
    }
   ],
   "source": [
    "display(morphological_data.head())"
   ]
  },
  {
   "cell_type": "code",
   "execution_count": 8,
   "metadata": {},
   "outputs": [],
   "source": [
    "if (os.path.isdir(\"output\") == False):\n",
    "    os.mkdir(\"output\")\n",
    "\n",
    "output_folder = os.path.join(starting_dir, \"output\")\n",
    "os.chdir(output_folder)\n",
    "    \n",
    "if (os.path.isdir(\"report\") == False):\n",
    "    os.mkdir(\"report\")\n",
    "    \n",
    "morphological_data_filename = os.path.join(\"report\", 'morphological_data.csv')\n",
    "morphological_data_file_out = open(morphological_data_filename, \"w\")\n",
    "morphological_data.to_csv(morphological_data_filename, index=False)\n",
    "morphological_data_file_out.close()"
   ]
  },
  {
   "cell_type": "code",
   "execution_count": 9,
   "metadata": {
    "scrolled": true
   },
   "outputs": [
    {
     "name": "stdout",
     "output_type": "stream",
     "text": [
      "chemical_id:66\n",
      "data_ep_cid:\n",
      "Empty DataFrame\n",
      "Columns: [chemical.id, conc, plate.id, well, ANY24]\n",
      "Index: []\n",
      "dose_response (after dropna):\n",
      "Empty DataFrame\n",
      "Columns: [dose, num_affect, frac_affect, num_embryos, tot_wells]\n",
      "Index: []\n",
      "data_ep_cid:\n",
      "Empty DataFrame\n",
      "Columns: [chemical.id, conc, plate.id, well, CRAN]\n",
      "Index: []\n",
      "dose_response (after dropna):\n",
      "Empty DataFrame\n",
      "Columns: [dose, num_affect, frac_affect, num_embryos, tot_wells]\n",
      "Index: []\n",
      "Done, it took:0.3 seconds\n"
     ]
    }
   ],
   "source": [
    "# Specify end_point and chemical of interest\n",
    "# Perform a check of the existence of \"essential\" column labels\n",
    "\n",
    "start_time = time.time()\n",
    "\n",
    "qc_flag_filename = os.path.join(\"report\", 'qc_flag.csv')\n",
    "qc_flag_file_out = open(qc_flag_filename, \"w\")\n",
    "\n",
    "write_this = \"qc_flag\\n\"\n",
    "qc_flag_file_out.write(write_this)\n",
    "\n",
    "erased_morphological_data_end_point_chemical_id_filename = os.path.join(\"report\", 'erased_morphological_data_end_point_chemical_id.csv')\n",
    "erased_morphological_data_end_point_chemical_id_file = open(erased_morphological_data_end_point_chemical_id_filename, \"w\")\n",
    "write_this=\"chemical_id,plate_id,end_point\\n\"\n",
    "erased_morphological_data_end_point_chemical_id_file.write(write_this)\n",
    "erased_morphological_data_end_point_chemical_id_file.close()\n",
    "\n",
    "\n",
    "erased_morphological_data_end_point_chemical_id_filename_0p25_erased = erased_morphological_data_end_point_chemical_id_filename[:-4] + '_0p25_erased.csv'\n",
    "erased_morphological_data_end_point_chemical_id_file_0p25_erased = open(erased_morphological_data_end_point_chemical_id_filename_0p25_erased, \"w\")\n",
    "write_this=\"chemical_id,end_point,dose\\n\"\n",
    "erased_morphological_data_end_point_chemical_id_file_0p25_erased.write(write_this)\n",
    "erased_morphological_data_end_point_chemical_id_file_0p25_erased.close()\n",
    "\n",
    "\n",
    "erased_morphological_data_end_point_chemical_id_filename_0p25_kept = erased_morphological_data_end_point_chemical_id_filename[:-4] + '_0p25_kept.csv'\n",
    "erased_morphological_data_end_point_chemical_id_file_0p25_kept = open(erased_morphological_data_end_point_chemical_id_filename_0p25_kept, \"w\")\n",
    "write_this=\"chemical_id,end_point,dose\\n\"\n",
    "erased_morphological_data_end_point_chemical_id_file_0p25_kept.write(write_this)\n",
    "erased_morphological_data_end_point_chemical_id_file_0p25_kept.close()\n",
    "\n",
    "#full_devel = \"full\"\n",
    "full_devel = \"devel\"\n",
    "\n",
    "# full -> 17 (without DNC) unlike phase_I_II (18 endpoints), 7_PAH lacks NC24\n",
    "if (full_devel == \"full\"):\n",
    "    end_points = ['ANY24','ANY120','AXIS','ALL_BUT_MORT','BRN_','CRAN','DP24','EDEM','LTRK','MO24','MORT','MUSC','NC__', 'SKIN','SM24','TCHR','TOT_MORT']\n",
    "else: # full_devel = \"devel\"\n",
    "    end_points = ['ANY24','CRAN']\n",
    "\n",
    "    \n",
    "if (full_devel == \"full\"):\n",
    "    # all chemicals\n",
    "    chemical_id_from_here = np.unique(morphological_data['chemical.id']):\n",
    "else: # full_devel = \"devel\"\n",
    "    chemical_id_from_here = [3756]\n",
    "\n",
    "    \n",
    "for chemical_id in chemical_id_from_here:\n",
    "    print(\"chemical_id:\" + str(chemical_id))\n",
    "\n",
    "    for end_point in end_points:\n",
    "        os.chdir(output_folder)\n",
    "        # subset original dataframe for a user-specified chemical and end_point pair\n",
    "        morphological_data_end_point_chemical_id = morphological_data.loc[morphological_data['chemical.id'] == chemical_id,['chemical.id', 'conc', 'plate.id', 'well', end_point]]\n",
    "        \n",
    "        # Binarize end-point hits (Values > 1 are forced to 1)\n",
    "        end_point_hits = morphological_data_end_point_chemical_id[end_point]\n",
    "        end_point_hits.loc[end_point_hits > 0] = 1\n",
    "        \n",
    "        #print (str(morphological_data_end_point_chemical_id))\n",
    "   #     morphological_data_end_point_chemical_id.to_csv('morpho.csv', index=False)\n",
    "\n",
    "#        f_end_point = open('end_point.txt', 'w')\n",
    " #       f_end_point.write(str(end_point))\n",
    "  #      f_end_point.close()\n",
    "                  \n",
    "        dose_response = gdr.gen_dose_response(morphological_data_end_point_chemical_id, end_point)\n",
    "        \n",
    "        qc_flag = gdr.BMD_feasibility_analysis(dose_response)\n",
    "    #    qc_flag = gdr.BMD_feasibility_analysis_qc_1(dose_response)\n",
    "        qc_flag_file_out.write(str(qc_flag)+\"\\n\")\n",
    "        \n",
    "        test_dose_response = gdr.reformat_dose_response(dose_response)\n",
    "        \n",
    "#        write_this = str(chemical_id) + \",\" + str(end_point) + \",\" + str(len(test_dose_response)) + \"\\n\"\n",
    " #       print (\"write_this:\"+str(write_this))\n",
    "  #      f_out.write(write_this)\n",
    "    \n",
    "        #qc_flag_folder = \"qc_\" + str(qc_flag)\n",
    "        #if (os.path.isdir(str(qc_flag_folder)) == False):\n",
    "        #    os.mkdir(str(qc_flag_folder))\n",
    "        #os.chdir(str(qc_flag_folder))\n",
    "\n",
    "        if(qc_flag in [0, 1]):\n",
    "            # No BMD analysis required. Generate report and exit\n",
    "            ps.save_results_poor_data_or_no_convergence(test_dose_response, qc_flag, str(chemical_id), end_point, None)\n",
    "        else:\n",
    "            # Fit dose response models\n",
    "            model_predictions = bmdest.analyze_dose_response_data(test_dose_response)\n",
    "            # Select best model\n",
    "            selected_model_params = bmdest.select_model(model_predictions)\n",
    "            # Check if unique model is found\n",
    "            unique_model_flag = selected_model_params['no_unique_model_found_flag']\n",
    "            if(unique_model_flag == 0):\n",
    "                # Generate report\n",
    "                print(test_dose_response.dose[-1:])\n",
    "                ps.save_results_good_data_unique_model(test_dose_response, qc_flag, model_predictions, selected_model_params, str(chemical_id), end_point)\n",
    "            else:\n",
    "                bmd_analysis_flag = selected_model_params['model_select_flag']\n",
    "                if(bmd_analysis_flag == 1):\n",
    "                    ps.save_results_poor_data_or_no_convergence(test_dose_response, qc_flag, str(chemical_id), end_point, selected_model_params)\n",
    "                else:\n",
    "                    ps.save_results_good_data_nounique_model(test_dose_response, qc_flag, model_predictions, selected_model_params, str(chemical_id), end_point)\n",
    "#test_dose_f_out.close()\n",
    "#f_out.close()\n",
    "qc_flag_file_out.close()\n",
    "end_time = time.time()\n",
    "time_took = str(round((end_time-start_time), 1)) + \" seconds\"\n",
    "print (\"Done, it took:\"+str(time_took)) \n",
    "# for all combinations of 342 chemicals and 18 endpoints, 4 minutes took for qc only\n",
    "# for all combinations of 342 chemicals and 18 endpoints, 104~165 minutes took for qc and bmd report\n",
    "\n",
    "os.chdir(output_folder)\n",
    "      \n",
    "time_filename = os.path.join(\"report\", 'running_time.txt')\n",
    "f_time = open(time_filename, 'w')\n",
    "f_time.write(str(time_took))\n",
    "f_time.close()"
   ]
  },
  {
   "cell_type": "code",
   "execution_count": 10,
   "metadata": {},
   "outputs": [
    {
     "data": {
      "text/plain": [
       "array([], dtype=int64)"
      ]
     },
     "execution_count": 10,
     "metadata": {},
     "output_type": "execute_result"
    }
   ],
   "source": [
    "#print (morphological_data_end_point_chemical_id)\n",
    "np.asarray(morphological_data_end_point_chemical_id['plate.id'])"
   ]
  },
  {
   "cell_type": "code",
   "execution_count": 11,
   "metadata": {},
   "outputs": [],
   "source": [
    "#[np.unique(morphological_data_end_point_chemical_id['chemical.id'].values()),1]"
   ]
  },
  {
   "cell_type": "code",
   "execution_count": 12,
   "metadata": {},
   "outputs": [
    {
     "name": "stdout",
     "output_type": "stream",
     "text": [
      "qc_flag_filename:report/qc_flag.csv\n"
     ]
    },
    {
     "data": {
      "image/png": "[encoded data removed]",
      "text/plain": [
       "<Figure size 576x288 with 1 Axes>"
      ]
     },
     "metadata": {
      "needs_background": "light"
     },
     "output_type": "display_data"
    }
   ],
   "source": [
    "os.chdir(output_folder)\n",
    "\n",
    "qc_flag_filename = os.path.join(\"report\", 'qc_flag.csv')\n",
    "print (\"qc_flag_filename:\"+str(qc_flag_filename))\n",
    "qc_flag_data = pd.read_csv(qc_flag_filename, index_col=None)\n",
    "#display(qc_flag_data.head())\n",
    "ds = pd.Series({\"Column\": qc_flag_data[\"qc_flag\"]})\n",
    "plt.figure(figsize=(8,4))\n",
    "sns.countplot(x=\"Column\", data=ds)\n",
    "plt.show()"
   ]
  },
  {
   "cell_type": "code",
   "execution_count": 13,
   "metadata": {},
   "outputs": [
    {
     "data": {
      "text/plain": [
       "'os.chdir(starting_dir)\\n\\nsns.set_theme(style=\"whitegrid\")\\nprint (\"array_filename:\"+str(array_filename))\\narray_report_data = pd.read_csv(array_filename, index_col=None)\\ndisplay(array_report_data.head())\\n#ax = sns.barplot(x=\"end_point\", y=\"len_test_dose_response\", data=array_report_data)\\n\\nds = pd.Series({\"Column\": array_report_data[\"len_test_dose_response\"]})\\nplt.figure(figsize=(8,4))\\nplt.xlabel(\"leng\")\\nsns.countplot(x=\"Column\", data=ds)\\nplt.show()\\nprint (\"done\")'"
      ]
     },
     "execution_count": 13,
     "metadata": {},
     "output_type": "execute_result"
    }
   ],
   "source": [
    "'''os.chdir(starting_dir)\n",
    "\n",
    "sns.set_theme(style=\"whitegrid\")\n",
    "print (\"array_filename:\"+str(array_filename))\n",
    "array_report_data = pd.read_csv(array_filename, index_col=None)\n",
    "display(array_report_data.head())\n",
    "#ax = sns.barplot(x=\"end_point\", y=\"len_test_dose_response\", data=array_report_data)\n",
    "\n",
    "ds = pd.Series({\"Column\": array_report_data[\"len_test_dose_response\"]})\n",
    "plt.figure(figsize=(8,4))\n",
    "plt.xlabel(\"leng\")\n",
    "sns.countplot(x=\"Column\", data=ds)\n",
    "plt.show()\n",
    "print (\"done\")'''"
   ]
  },
  {
   "cell_type": "code",
   "execution_count": 14,
   "metadata": {},
   "outputs": [
    {
     "data": {
      "text/plain": [
       "Series([], Name: dose, dtype: object)"
      ]
     },
     "execution_count": 14,
     "metadata": {},
     "output_type": "execute_result"
    }
   ],
   "source": [
    "test_dose_response.dose"
   ]
  },
  {
   "cell_type": "code",
   "execution_count": 15,
   "metadata": {},
   "outputs": [],
   "source": [
    "#test_dose_response.dose.iloc[0]+test_dose_response.dose.iloc[1]"
   ]
  },
  {
   "cell_type": "code",
   "execution_count": 16,
   "metadata": {},
   "outputs": [
    {
     "data": {
      "text/plain": [
       "Series([], dtype: object)"
      ]
     },
     "execution_count": 16,
     "metadata": {},
     "output_type": "execute_result"
    }
   ],
   "source": [
    "dose_response['num_affect']/dose_response['num_embryos']"
   ]
  }
 ],
 "metadata": {
  "kernelspec": {
   "display_name": "Python 3",
   "language": "python",
   "name": "python3"
  },
  "language_info": {
   "codemirror_mode": {
    "name": "ipython",
    "version": 3
   },
   "file_extension": ".py",
   "mimetype": "text/x-python",
   "name": "python",
   "nbconvert_exporter": "python",
   "pygments_lexer": "ipython3",
   "version": "3.7.8"
  }
 },
 "nbformat": 4,
 "nbformat_minor": 4
}
