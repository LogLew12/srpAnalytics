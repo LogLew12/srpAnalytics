{
 "cells": [
  {
   "cell_type": "code",
   "execution_count": 77,
   "metadata": {},
   "outputs": [],
   "source": [
    "import numpy as np\n",
    "import pandas as pd\n",
    "import os, random, shutil, sys, time\n",
    "from scipy import stats\n",
    "from matplotlib import pyplot as plt\n",
    "import seaborn as sns\n",
    "\n",
    "import warnings\n",
    "warnings.filterwarnings('ignore')\n",
    "\n",
    "import sys\n",
    "\n",
    "#mac\n",
    "util_path = \"/Users/kimd999/research/script_not_in_dropbox/srpAnalytics/analysis/latest/util\"\n",
    "\n",
    "#constance\n",
    "'''args = sys.argv[0:]\n",
    "py_file = args[0]\n",
    "\n",
    "code_location = os.path.dirname(os.path.abspath(py_file))\n",
    "index_of_latest = code_location.index('latest')\n",
    "util_path = os.path.join(code_location[:index_of_latest], \"latest\", \"util\")\n",
    "'''\n",
    "\n",
    "sys.path.insert(0, util_path)"
   ]
  },
  {
   "cell_type": "code",
   "execution_count": 78,
   "metadata": {},
   "outputs": [
    {
     "name": "stdout",
     "output_type": "stream",
     "text": [
      "/Users/kimd999/research/script_not_in_dropbox/srpAnalytics/analysis/latest/util\n"
     ]
    }
   ],
   "source": [
    "starting_dir = os.getcwd()\n",
    "print (starting_dir)"
   ]
  },
  {
   "cell_type": "code",
   "execution_count": 79,
   "metadata": {},
   "outputs": [
    {
     "data": {
      "text/html": [
       "<div>\n",
       "<style scoped>\n",
       "    .dataframe tbody tr th:only-of-type {\n",
       "        vertical-align: middle;\n",
       "    }\n",
       "\n",
       "    .dataframe tbody tr th {\n",
       "        vertical-align: top;\n",
       "    }\n",
       "\n",
       "    .dataframe thead th {\n",
       "        text-align: right;\n",
       "    }\n",
       "</style>\n",
       "<table border=\"1\" class=\"dataframe\">\n",
       "  <thead>\n",
       "    <tr style=\"text-align: right;\">\n",
       "      <th></th>\n",
       "      <th>dose</th>\n",
       "      <th>num_affected</th>\n",
       "      <th>total_num</th>\n",
       "    </tr>\n",
       "  </thead>\n",
       "  <tbody>\n",
       "    <tr>\n",
       "      <th>0</th>\n",
       "      <td>0</td>\n",
       "      <td>1.519964</td>\n",
       "      <td>100</td>\n",
       "    </tr>\n",
       "    <tr>\n",
       "      <th>1</th>\n",
       "      <td>10</td>\n",
       "      <td>0.000000</td>\n",
       "      <td>100</td>\n",
       "    </tr>\n",
       "    <tr>\n",
       "      <th>2</th>\n",
       "      <td>25</td>\n",
       "      <td>6.893015</td>\n",
       "      <td>100</td>\n",
       "    </tr>\n",
       "    <tr>\n",
       "      <th>3</th>\n",
       "      <td>50</td>\n",
       "      <td>26.519651</td>\n",
       "      <td>100</td>\n",
       "    </tr>\n",
       "    <tr>\n",
       "      <th>4</th>\n",
       "      <td>75</td>\n",
       "      <td>36.724537</td>\n",
       "      <td>100</td>\n",
       "    </tr>\n",
       "  </tbody>\n",
       "</table>\n",
       "</div>"
      ],
      "text/plain": [
       "   dose  num_affected  total_num\n",
       "0     0      1.519964        100\n",
       "1    10      0.000000        100\n",
       "2    25      6.893015        100\n",
       "3    50     26.519651        100\n",
       "4    75     36.724537        100"
      ]
     },
     "metadata": {},
     "output_type": "display_data"
    }
   ],
   "source": [
    "complete_file_path = '/Users/kimd999/research/projects/toxicity/per_each_data/Brianna/tonalide/min_value_from_10_uM/tonalide_min_value_from_10_uM.csv'\n",
    "\n",
    "df_test_dose_response = pd.read_csv(complete_file_path, header = 0)\n",
    "pd.set_option('display.max_columns', None)\n",
    "display(df_test_dose_response.head())\n",
    "#display(np.unique(morpho_data.well))"
   ]
  },
  {
   "cell_type": "code",
   "execution_count": 80,
   "metadata": {},
   "outputs": [],
   "source": [
    "import generate_dose_response as gdr\n",
    "import BMD_BMDL_estimation as bmdest\n",
    "import Plot_Save as ps"
   ]
  },
  {
   "cell_type": "code",
   "execution_count": 81,
   "metadata": {},
   "outputs": [
    {
     "name": "stdout",
     "output_type": "stream",
     "text": [
      "BMD calculation is done, it took:0.8 seconds\n"
     ]
    }
   ],
   "source": [
    "# Fit dose response models\n",
    "start_time = time.time()\n",
    "model_predictions = bmdest.analyze_dose_response_data(df_test_dose_response)\n",
    "end_time = time.time()\n",
    "time_took = str(round((end_time-start_time), 1)) + \" seconds\"\n",
    "print (\"BMD calculation is done, it took:\"+str(time_took)) "
   ]
  },
  {
   "cell_type": "code",
   "execution_count": 82,
   "metadata": {},
   "outputs": [
    {
     "name": "stdout",
     "output_type": "stream",
     "text": [
      "            Model  Chi-squared         p-val         AIC      BMD10  \\\n",
      "0        logistic    18.761566  2.128891e-03  512.760934  38.873198   \n",
      "1           gamma     4.589215  3.320996e-01  499.368034  33.543824   \n",
      "2         weibull          NaN           NaN         NaN        NaN   \n",
      "3    log_logistic     7.458424  1.135567e-01  502.321889  35.911090   \n",
      "4          probit    61.790958  5.180599e-12  547.682339  50.745654   \n",
      "5      log_probit          NaN           NaN         NaN        NaN   \n",
      "6    multistage_2    19.857226  5.328723e-04  523.605762  24.319125   \n",
      "7  quantal_linear    40.199083  1.361487e-07  546.126188  13.218896   \n",
      "\n",
      "      BMDL10       BMD50                                   Scaled Residuals  \\\n",
      "0  35.014587   76.321085  [1.094899835808857, 2.300913928665122, 0.53910...   \n",
      "1  28.422500   84.976016  [-0.7384753810819761, 1.191298226945695, -0.35...   \n",
      "2        NaN         NaN                [nan, nan, nan, nan, nan, nan, nan]   \n",
      "3  30.713144   82.034986  [-0.5616445303213036, 1.1633563456567928, -0.8...   \n",
      "4        NaN  115.723191  [-1.417879938374546e-16, 1.5704656752117025, -...   \n",
      "5        NaN         NaN                [nan, nan, nan, nan, nan, nan, nan]   \n",
      "6        NaN   86.633074  [1.5967498696692495, 3.0001780052484066, 2.234...   \n",
      "7  11.789135   86.964650  [-1.2817645888798246, 2.984732803461262, 2.994...   \n",
      "\n",
      "                                    Optimized Params Conv Flag BMDL Conv  \n",
      "0         [-3.3037035619493103, 0.03651461845564094]         0         0  \n",
      "1  [0.008442863436551167, 2.780078363204925, 0.02...         0         0  \n",
      "2                                                NaN         1         1  \n",
      "3  [0.00969608094888539, -11.721938240772209, 2.6...         0         0  \n",
      "4        [-2.1648485316491897, 0.018871754091625143]         0         1  \n",
      "5                                                NaN         1         1  \n",
      "6  [0.05, 0.0029007012437911282, 5.88718811231989...         0         1  \n",
      "7      [0.0056187669655450995, 0.007970447536621543]         0         0  \n"
     ]
    }
   ],
   "source": [
    "print (model_predictions)"
   ]
  },
  {
   "cell_type": "code",
   "execution_count": 83,
   "metadata": {},
   "outputs": [],
   "source": [
    "# Select best model\n",
    "selected_model_params = bmdest.select_model(model_predictions)"
   ]
  },
  {
   "cell_type": "code",
   "execution_count": 84,
   "metadata": {},
   "outputs": [],
   "source": [
    "chemical_id = \"tonalide\"\n",
    "end_point = \"CTG\"\n",
    "bmd_feasibility_flag = 2\n",
    "\n",
    "\n",
    "# Check if unique model is found\n",
    "unique_model_flag = selected_model_params['no_unique_model_found_flag']\n",
    "if(unique_model_flag == 0):\n",
    "    # Generate report\n",
    "    #print(df_test_dose_response.dose[-1:])\n",
    "\n",
    "    ps.save_results_good_data_unique_model(df_test_dose_response, bmd_feasibility_flag, model_predictions, selected_model_params, str(chemical_id), end_point)\n",
    "else:\n",
    "    bmd_analysis_flag = selected_model_params['model_select_flag']\n",
    "    if(bmd_analysis_flag == 1):\n",
    "        ps.save_results_poor_data_or_no_convergence(df_test_dose_response, bmd_feasibility_flag, str(chemical_id), end_point, selected_model_params)\n",
    "    else:\n",
    "        ps.save_results_good_data_nounique_model(df_test_dose_response, bmd_feasibility_flag, model_predictions, selected_model_params, str(chemical_id), end_point)"
   ]
  },
  {
   "cell_type": "code",
   "execution_count": null,
   "metadata": {},
   "outputs": [],
   "source": []
  }
 ],
 "metadata": {
  "kernelspec": {
   "display_name": "Python 3",
   "language": "python",
   "name": "python3"
  },
  "language_info": {
   "codemirror_mode": {
    "name": "ipython",
    "version": 3
   },
   "file_extension": ".py",
   "mimetype": "text/x-python",
   "name": "python",
   "nbconvert_exporter": "python",
   "pygments_lexer": "ipython3",
   "version": "3.7.8"
  }
 },
 "nbformat": 4,
 "nbformat_minor": 4
}
