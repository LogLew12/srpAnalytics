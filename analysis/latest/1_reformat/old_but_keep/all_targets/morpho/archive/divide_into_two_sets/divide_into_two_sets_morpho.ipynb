{
 "cells": [
  {
   "cell_type": "code",
   "execution_count": 59,
   "metadata": {},
   "outputs": [],
   "source": [
    "import numpy as np\n",
    "import pandas as pd\n",
    "import matplotlib.pyplot as plt\n",
    "import seaborn as sns\n",
    "import os, random, time\n",
    "\n",
    "import warnings\n",
    "warnings.filterwarnings('ignore')"
   ]
  },
  {
   "cell_type": "code",
   "execution_count": 60,
   "metadata": {},
   "outputs": [
    {
     "name": "stdout",
     "output_type": "stream",
     "text": [
      "starting_dir:/Users/kimd999/research/script_not_in_dropbox/srpAnalytics/analysis/latest/1_reformat/all_targets/morpho/divide_into_two_sets\n"
     ]
    },
    {
     "data": {
      "text/html": [
       "<div>\n",
       "<style scoped>\n",
       "    .dataframe tbody tr th:only-of-type {\n",
       "        vertical-align: middle;\n",
       "    }\n",
       "\n",
       "    .dataframe tbody tr th {\n",
       "        vertical-align: top;\n",
       "    }\n",
       "\n",
       "    .dataframe thead th {\n",
       "        text-align: right;\n",
       "    }\n",
       "</style>\n",
       "<table border=\"1\" class=\"dataframe\">\n",
       "  <thead>\n",
       "    <tr style=\"text-align: right;\">\n",
       "      <th></th>\n",
       "      <th>chemical.id</th>\n",
       "      <th>bottle.id</th>\n",
       "      <th>conc</th>\n",
       "      <th>plate.id</th>\n",
       "      <th>well</th>\n",
       "      <th>date</th>\n",
       "      <th>endpoint</th>\n",
       "      <th>value</th>\n",
       "    </tr>\n",
       "  </thead>\n",
       "  <tbody>\n",
       "    <tr>\n",
       "      <th>0</th>\n",
       "      <td>234</td>\n",
       "      <td>NTP DNT 91-A1</td>\n",
       "      <td>0.0</td>\n",
       "      <td>14389</td>\n",
       "      <td>H01</td>\n",
       "      <td>20161122</td>\n",
       "      <td>MO24</td>\n",
       "      <td>0.0</td>\n",
       "    </tr>\n",
       "    <tr>\n",
       "      <th>1</th>\n",
       "      <td>234</td>\n",
       "      <td>NTP DNT 91-A1</td>\n",
       "      <td>0.0</td>\n",
       "      <td>14389</td>\n",
       "      <td>H02</td>\n",
       "      <td>20161122</td>\n",
       "      <td>MO24</td>\n",
       "      <td>0.0</td>\n",
       "    </tr>\n",
       "    <tr>\n",
       "      <th>2</th>\n",
       "      <td>234</td>\n",
       "      <td>NTP DNT 91-A1</td>\n",
       "      <td>0.0</td>\n",
       "      <td>14389</td>\n",
       "      <td>H03</td>\n",
       "      <td>20161122</td>\n",
       "      <td>MO24</td>\n",
       "      <td>0.0</td>\n",
       "    </tr>\n",
       "    <tr>\n",
       "      <th>3</th>\n",
       "      <td>234</td>\n",
       "      <td>NTP DNT 91-A1</td>\n",
       "      <td>0.0</td>\n",
       "      <td>14389</td>\n",
       "      <td>H04</td>\n",
       "      <td>20161122</td>\n",
       "      <td>MO24</td>\n",
       "      <td>0.0</td>\n",
       "    </tr>\n",
       "    <tr>\n",
       "      <th>4</th>\n",
       "      <td>234</td>\n",
       "      <td>NTP DNT 91-A1</td>\n",
       "      <td>0.0</td>\n",
       "      <td>14389</td>\n",
       "      <td>H05</td>\n",
       "      <td>20161122</td>\n",
       "      <td>MO24</td>\n",
       "      <td>0.0</td>\n",
       "    </tr>\n",
       "  </tbody>\n",
       "</table>\n",
       "</div>"
      ],
      "text/plain": [
       "   chemical.id      bottle.id  conc  plate.id well      date endpoint  value\n",
       "0          234  NTP DNT 91-A1   0.0     14389  H01  20161122     MO24    0.0\n",
       "1          234  NTP DNT 91-A1   0.0     14389  H02  20161122     MO24    0.0\n",
       "2          234  NTP DNT 91-A1   0.0     14389  H03  20161122     MO24    0.0\n",
       "3          234  NTP DNT 91-A1   0.0     14389  H04  20161122     MO24    0.0\n",
       "4          234  NTP DNT 91-A1   0.0     14389  H05  20161122     MO24    0.0"
      ]
     },
     "execution_count": 60,
     "metadata": {},
     "output_type": "execute_result"
    }
   ],
   "source": [
    "starting_dir = os.getcwd()\n",
    "print (\"starting_dir:\" + str(starting_dir))\n",
    "\n",
    "# mac - phase I & II - morpho\n",
    "#complete_input_file_path = '/Users/kimd999/research/projects/toxicity/per_each_data/Phase_I_II/input/morpho/tall/zf_morphology_data_335_chemicals_2020DEC16.csv'\n",
    "\n",
    "# mac - phase III - morpho - original from Oregon state\n",
    "complete_input_file_path = '/Users/kimd999/research/projects/toxicity/per_each_data/phase_III/input/morpho/original/Tanguay_Phase_3_zf_morphology_data_PNNL_2021MAR23.csv'\n",
    "\n",
    "morph_data = pd.read_csv(complete_input_file_path, header = 0)\n",
    "pd.set_option('display.max_columns', None)\n",
    "morph_data.head()"
   ]
  },
  {
   "cell_type": "code",
   "execution_count": 61,
   "metadata": {},
   "outputs": [],
   "source": [
    "# just TX part\n",
    "#TX_bottle_id_morph_data = morph_data[morph_data['bottle.id'].str.contains(\"^TX\")]\n",
    "#TX_bottle_id_morph_data = morph_data[morph_data['bottle.id'].str.contains(\"TX$\")]\n",
    "#TX_bottle_id_morph_data.head()"
   ]
  },
  {
   "cell_type": "code",
   "execution_count": 62,
   "metadata": {},
   "outputs": [],
   "source": [
    "# basic analysis\n",
    "#new_morph_data = morph_data.loc[morph_data['chemical.id'] == 197,['chemical.id', 'conc', 'plate.id', 'well', 'endpoint', 'value']]\n",
    "#new_morph_data.head()\n",
    "#morph_data_w_end = new_morph_data.loc[new_morph_data['endpoint'] == 'MO24',['chemical.id', 'conc', 'plate.id', 'well', 'endpoint', 'value']]\n",
    "#morph_data_w_end.head()\n",
    "#np.sum(morph_data['value'] == 1)\n",
    "#np.sum(morph_data['value'] == 0) # -> 82%\n",
    "#np.sum(np.isnan(morph_data['value']))\n",
    "#morph_data.shape"
   ]
  },
  {
   "cell_type": "code",
   "execution_count": 63,
   "metadata": {},
   "outputs": [
    {
     "data": {
      "text/html": [
       "<div>\n",
       "<style scoped>\n",
       "    .dataframe tbody tr th:only-of-type {\n",
       "        vertical-align: middle;\n",
       "    }\n",
       "\n",
       "    .dataframe tbody tr th {\n",
       "        vertical-align: top;\n",
       "    }\n",
       "\n",
       "    .dataframe thead th {\n",
       "        text-align: right;\n",
       "    }\n",
       "</style>\n",
       "<table border=\"1\" class=\"dataframe\">\n",
       "  <thead>\n",
       "    <tr style=\"text-align: right;\">\n",
       "      <th></th>\n",
       "      <th>chemical.id</th>\n",
       "      <th>conc</th>\n",
       "      <th>bottle.id</th>\n",
       "      <th>plate.id</th>\n",
       "      <th>well</th>\n",
       "      <th>endpoint</th>\n",
       "      <th>value</th>\n",
       "    </tr>\n",
       "  </thead>\n",
       "  <tbody>\n",
       "    <tr>\n",
       "      <th>0</th>\n",
       "      <td>234</td>\n",
       "      <td>0.0</td>\n",
       "      <td>NTP DNT 91-A1</td>\n",
       "      <td>14389</td>\n",
       "      <td>H01</td>\n",
       "      <td>MO24</td>\n",
       "      <td>0.0</td>\n",
       "    </tr>\n",
       "    <tr>\n",
       "      <th>1</th>\n",
       "      <td>234</td>\n",
       "      <td>0.0</td>\n",
       "      <td>NTP DNT 91-A1</td>\n",
       "      <td>14389</td>\n",
       "      <td>H02</td>\n",
       "      <td>MO24</td>\n",
       "      <td>0.0</td>\n",
       "    </tr>\n",
       "    <tr>\n",
       "      <th>2</th>\n",
       "      <td>234</td>\n",
       "      <td>0.0</td>\n",
       "      <td>NTP DNT 91-A1</td>\n",
       "      <td>14389</td>\n",
       "      <td>H03</td>\n",
       "      <td>MO24</td>\n",
       "      <td>0.0</td>\n",
       "    </tr>\n",
       "    <tr>\n",
       "      <th>3</th>\n",
       "      <td>234</td>\n",
       "      <td>0.0</td>\n",
       "      <td>NTP DNT 91-A1</td>\n",
       "      <td>14389</td>\n",
       "      <td>H04</td>\n",
       "      <td>MO24</td>\n",
       "      <td>0.0</td>\n",
       "    </tr>\n",
       "    <tr>\n",
       "      <th>4</th>\n",
       "      <td>234</td>\n",
       "      <td>0.0</td>\n",
       "      <td>NTP DNT 91-A1</td>\n",
       "      <td>14389</td>\n",
       "      <td>H05</td>\n",
       "      <td>MO24</td>\n",
       "      <td>0.0</td>\n",
       "    </tr>\n",
       "  </tbody>\n",
       "</table>\n",
       "</div>"
      ],
      "text/plain": [
       "   chemical.id  conc      bottle.id  plate.id well endpoint  value\n",
       "0          234   0.0  NTP DNT 91-A1     14389  H01     MO24    0.0\n",
       "1          234   0.0  NTP DNT 91-A1     14389  H02     MO24    0.0\n",
       "2          234   0.0  NTP DNT 91-A1     14389  H03     MO24    0.0\n",
       "3          234   0.0  NTP DNT 91-A1     14389  H04     MO24    0.0\n",
       "4          234   0.0  NTP DNT 91-A1     14389  H05     MO24    0.0"
      ]
     },
     "execution_count": 63,
     "metadata": {},
     "output_type": "execute_result"
    }
   ],
   "source": [
    "# Keep only relevant columns\n",
    "columns_to_keep = ['chemical.id', 'conc', 'bottle.id', 'plate.id', 'well', 'endpoint', 'value'] \n",
    "# 'bottle.id' is added since Lisa wants to use it to join with behavioral data\n",
    "\n",
    "morph_data_select = morph_data.loc[:,columns_to_keep]\n",
    "morph_data_select.head()"
   ]
  },
  {
   "cell_type": "code",
   "execution_count": 64,
   "metadata": {},
   "outputs": [
    {
     "name": "stdout",
     "output_type": "stream",
     "text": [
      "<before dropping duplicates> len(morph_data_select):1203532\n",
      "<after dropping duplicates>  len(morph_data_select):1203532\n"
     ]
    }
   ],
   "source": [
    "print (\"<before dropping duplicates> len(morph_data_select):\" + str(len(morph_data_select)))\n",
    "morph_data_select = morph_data_select.drop_duplicates()\n",
    "print (\"<after dropping duplicates>  len(morph_data_select):\" + str(len(morph_data_select)))"
   ]
  },
  {
   "cell_type": "code",
   "execution_count": 65,
   "metadata": {},
   "outputs": [
    {
     "data": {
      "text/plain": [
       "\"unique_endpoints = np.unique(morph_data_select['endpoint'])\\nprint(unique_endpoints)\\nprint(len(unique_endpoints))\""
      ]
     },
     "execution_count": 65,
     "metadata": {},
     "output_type": "execute_result"
    }
   ],
   "source": [
    "'''unique_endpoints = np.unique(morph_data_select['endpoint'])\n",
    "print(unique_endpoints)\n",
    "print(len(unique_endpoints))'''"
   ]
  },
  {
   "cell_type": "code",
   "execution_count": 66,
   "metadata": {},
   "outputs": [
    {
     "data": {
      "text/plain": [
       "\"morph_data_select_220 = morph_data_select.loc[(morph_data_select['chemical.id'] == 220)]\\n#display(morph_data_select_220.head)\\n\\nunique_endpoints = np.unique(morph_data_select_220['endpoint'])\\nprint(unique_endpoints)\\nprint(len(unique_endpoints))\""
      ]
     },
     "execution_count": 66,
     "metadata": {},
     "output_type": "execute_result"
    }
   ],
   "source": [
    "'''morph_data_select_220 = morph_data_select.loc[(morph_data_select['chemical.id'] == 220)]\n",
    "#display(morph_data_select_220.head)\n",
    "\n",
    "unique_endpoints = np.unique(morph_data_select_220['endpoint'])\n",
    "print(unique_endpoints)\n",
    "print(len(unique_endpoints))'''"
   ]
  },
  {
   "cell_type": "code",
   "execution_count": 67,
   "metadata": {},
   "outputs": [
    {
     "name": "stdout",
     "output_type": "stream",
     "text": [
      "chemical_index:1178\n",
      "Done, it took:0.1 seconds\n"
     ]
    }
   ],
   "source": [
    "start_time = time.time()\n",
    "\n",
    "morpho_data_w_14_endpoints = pd.DataFrame()\n",
    "morpho_data_w_23_endpoints = pd.DataFrame()\n",
    "\n",
    "#full_devel = \"full\"\n",
    "full_devel = \"devel\"\n",
    "\n",
    "chemical_id_from_here = np.unique(morph_data_select['chemical.id'])\n",
    "if (full_devel == \"devel\"):\n",
    "    randomly_chosen = random.sample(set(chemical_id_from_here), 1)\n",
    "    chemical_id_from_here = []\n",
    "    for i in range(len(randomly_chosen)):\n",
    "        chemical_id_from_here.append(randomly_chosen[i])\n",
    "\n",
    "for chemical_index in chemical_id_from_here:\n",
    "    print (\"chemical_index:\"+str(chemical_index))\n",
    "    morph_data_chemical = morph_data_select.loc[morph_data['chemical.id'] == chemical_index,:]\n",
    "\n",
    "    if (len(np.unique(morph_data_chemical['endpoint'])) == 14):\n",
    "        morpho_data_w_14_endpoints = pd.concat([morpho_data_w_14_endpoints, morph_data_chemical])\n",
    "    elif (len(np.unique(morph_data_chemical['endpoint'])) == 23):\n",
    "        morpho_data_w_23_endpoints = pd.concat([morpho_data_w_23_endpoints, morph_data_chemical])\n",
    "    else:\n",
    "        print (len(np.unique(morph_data_chemical['endpoint'])))\n",
    "       \n",
    "end_time = time.time()\n",
    "time_took = str(round((end_time-start_time), 1)) + \" seconds\"\n",
    "print (\"Done, it took:\"+str(time_took)) # took 13 minutes for 344 chemicals\n"
   ]
  },
  {
   "cell_type": "code",
   "execution_count": 68,
   "metadata": {},
   "outputs": [
    {
     "data": {
      "text/html": [
       "<div>\n",
       "<style scoped>\n",
       "    .dataframe tbody tr th:only-of-type {\n",
       "        vertical-align: middle;\n",
       "    }\n",
       "\n",
       "    .dataframe tbody tr th {\n",
       "        vertical-align: top;\n",
       "    }\n",
       "\n",
       "    .dataframe thead th {\n",
       "        text-align: right;\n",
       "    }\n",
       "</style>\n",
       "<table border=\"1\" class=\"dataframe\">\n",
       "  <thead>\n",
       "    <tr style=\"text-align: right;\">\n",
       "      <th></th>\n",
       "    </tr>\n",
       "  </thead>\n",
       "  <tbody>\n",
       "  </tbody>\n",
       "</table>\n",
       "</div>"
      ],
      "text/plain": [
       "Empty DataFrame\n",
       "Columns: []\n",
       "Index: []"
      ]
     },
     "metadata": {},
     "output_type": "display_data"
    },
    {
     "data": {
      "text/html": [
       "<div>\n",
       "<style scoped>\n",
       "    .dataframe tbody tr th:only-of-type {\n",
       "        vertical-align: middle;\n",
       "    }\n",
       "\n",
       "    .dataframe tbody tr th {\n",
       "        vertical-align: top;\n",
       "    }\n",
       "\n",
       "    .dataframe thead th {\n",
       "        text-align: right;\n",
       "    }\n",
       "</style>\n",
       "<table border=\"1\" class=\"dataframe\">\n",
       "  <thead>\n",
       "    <tr style=\"text-align: right;\">\n",
       "      <th></th>\n",
       "      <th>chemical.id</th>\n",
       "      <th>conc</th>\n",
       "      <th>bottle.id</th>\n",
       "      <th>plate.id</th>\n",
       "      <th>well</th>\n",
       "      <th>endpoint</th>\n",
       "      <th>value</th>\n",
       "    </tr>\n",
       "  </thead>\n",
       "  <tbody>\n",
       "    <tr>\n",
       "      <th>4896</th>\n",
       "      <td>1178</td>\n",
       "      <td>0.0</td>\n",
       "      <td>NTP DNT 91-C5</td>\n",
       "      <td>14362</td>\n",
       "      <td>H01</td>\n",
       "      <td>MO24</td>\n",
       "      <td>0.0</td>\n",
       "    </tr>\n",
       "    <tr>\n",
       "      <th>4897</th>\n",
       "      <td>1178</td>\n",
       "      <td>0.0</td>\n",
       "      <td>NTP DNT 91-C5</td>\n",
       "      <td>14362</td>\n",
       "      <td>H02</td>\n",
       "      <td>MO24</td>\n",
       "      <td>0.0</td>\n",
       "    </tr>\n",
       "    <tr>\n",
       "      <th>4898</th>\n",
       "      <td>1178</td>\n",
       "      <td>0.0</td>\n",
       "      <td>NTP DNT 91-C5</td>\n",
       "      <td>14362</td>\n",
       "      <td>H03</td>\n",
       "      <td>MO24</td>\n",
       "      <td>0.0</td>\n",
       "    </tr>\n",
       "    <tr>\n",
       "      <th>4899</th>\n",
       "      <td>1178</td>\n",
       "      <td>0.0</td>\n",
       "      <td>NTP DNT 91-C5</td>\n",
       "      <td>14362</td>\n",
       "      <td>H04</td>\n",
       "      <td>MO24</td>\n",
       "      <td>0.0</td>\n",
       "    </tr>\n",
       "    <tr>\n",
       "      <th>4900</th>\n",
       "      <td>1178</td>\n",
       "      <td>0.0</td>\n",
       "      <td>NTP DNT 91-C5</td>\n",
       "      <td>14362</td>\n",
       "      <td>H05</td>\n",
       "      <td>MO24</td>\n",
       "      <td>0.0</td>\n",
       "    </tr>\n",
       "    <tr>\n",
       "      <th>...</th>\n",
       "      <td>...</td>\n",
       "      <td>...</td>\n",
       "      <td>...</td>\n",
       "      <td>...</td>\n",
       "      <td>...</td>\n",
       "      <td>...</td>\n",
       "      <td>...</td>\n",
       "    </tr>\n",
       "    <tr>\n",
       "      <th>347323</th>\n",
       "      <td>1178</td>\n",
       "      <td>67.0</td>\n",
       "      <td>NTP DNT 91-C5</td>\n",
       "      <td>15519</td>\n",
       "      <td>A08</td>\n",
       "      <td>DNC_</td>\n",
       "      <td>0.0</td>\n",
       "    </tr>\n",
       "    <tr>\n",
       "      <th>347324</th>\n",
       "      <td>1178</td>\n",
       "      <td>67.0</td>\n",
       "      <td>NTP DNT 91-C5</td>\n",
       "      <td>15519</td>\n",
       "      <td>A09</td>\n",
       "      <td>DNC_</td>\n",
       "      <td>0.0</td>\n",
       "    </tr>\n",
       "    <tr>\n",
       "      <th>347325</th>\n",
       "      <td>1178</td>\n",
       "      <td>67.0</td>\n",
       "      <td>NTP DNT 91-C5</td>\n",
       "      <td>15519</td>\n",
       "      <td>A10</td>\n",
       "      <td>DNC_</td>\n",
       "      <td>0.0</td>\n",
       "    </tr>\n",
       "    <tr>\n",
       "      <th>347326</th>\n",
       "      <td>1178</td>\n",
       "      <td>67.0</td>\n",
       "      <td>NTP DNT 91-C5</td>\n",
       "      <td>15519</td>\n",
       "      <td>A11</td>\n",
       "      <td>DNC_</td>\n",
       "      <td>0.0</td>\n",
       "    </tr>\n",
       "    <tr>\n",
       "      <th>347327</th>\n",
       "      <td>1178</td>\n",
       "      <td>67.0</td>\n",
       "      <td>NTP DNT 91-C5</td>\n",
       "      <td>15519</td>\n",
       "      <td>A12</td>\n",
       "      <td>DNC_</td>\n",
       "      <td>0.0</td>\n",
       "    </tr>\n",
       "  </tbody>\n",
       "</table>\n",
       "<p>6624 rows × 7 columns</p>\n",
       "</div>"
      ],
      "text/plain": [
       "        chemical.id  conc      bottle.id  plate.id well endpoint  value\n",
       "4896           1178   0.0  NTP DNT 91-C5     14362  H01     MO24    0.0\n",
       "4897           1178   0.0  NTP DNT 91-C5     14362  H02     MO24    0.0\n",
       "4898           1178   0.0  NTP DNT 91-C5     14362  H03     MO24    0.0\n",
       "4899           1178   0.0  NTP DNT 91-C5     14362  H04     MO24    0.0\n",
       "4900           1178   0.0  NTP DNT 91-C5     14362  H05     MO24    0.0\n",
       "...             ...   ...            ...       ...  ...      ...    ...\n",
       "347323         1178  67.0  NTP DNT 91-C5     15519  A08     DNC_    0.0\n",
       "347324         1178  67.0  NTP DNT 91-C5     15519  A09     DNC_    0.0\n",
       "347325         1178  67.0  NTP DNT 91-C5     15519  A10     DNC_    0.0\n",
       "347326         1178  67.0  NTP DNT 91-C5     15519  A11     DNC_    0.0\n",
       "347327         1178  67.0  NTP DNT 91-C5     15519  A12     DNC_    0.0\n",
       "\n",
       "[6624 rows x 7 columns]"
      ]
     },
     "metadata": {},
     "output_type": "display_data"
    }
   ],
   "source": [
    "display(morpho_data_w_14_endpoints)\n",
    "display(morpho_data_w_23_endpoints)"
   ]
  },
  {
   "cell_type": "code",
   "execution_count": 69,
   "metadata": {},
   "outputs": [
    {
     "name": "stdout",
     "output_type": "stream",
     "text": [
      "output_data_filename:/Users/kimd999/research/projects/toxicity/per_each_data/phase_III/input/morpho/original/Tanguay_Phase_3_zf_morphology_data_PNNL_2021MAR23_devel_w_14_endpoints.csv\n"
     ]
    }
   ],
   "source": [
    "output_data_filename = str(complete_input_file_path[:-4]) + \"_\" + str(full_devel) + \"_w_14_endpoints.csv\"\n",
    "print (\"output_data_filename:\"+str(output_data_filename))\n",
    "morpho_data_w_14_endpoints.to_csv(output_data_filename,index=False)"
   ]
  },
  {
   "cell_type": "code",
   "execution_count": 70,
   "metadata": {},
   "outputs": [
    {
     "name": "stdout",
     "output_type": "stream",
     "text": [
      "output_data_filename:/Users/kimd999/research/projects/toxicity/per_each_data/phase_III/input/morpho/original/Tanguay_Phase_3_zf_morphology_data_PNNL_2021MAR23_devel_w_23_endpoints.csv\n"
     ]
    }
   ],
   "source": [
    "output_data_filename = str(complete_input_file_path[:-4]) + \"_\" + str(full_devel) + \"_w_23_endpoints.csv\"\n",
    "print (\"output_data_filename:\"+str(output_data_filename))\n",
    "morpho_data_w_23_endpoints.to_csv(output_data_filename,index=False)"
   ]
  },
  {
   "cell_type": "code",
   "execution_count": null,
   "metadata": {},
   "outputs": [],
   "source": []
  }
 ],
 "metadata": {
  "kernelspec": {
   "display_name": "Python 3",
   "language": "python",
   "name": "python3"
  },
  "language_info": {
   "codemirror_mode": {
    "name": "ipython",
    "version": 3
   },
   "file_extension": ".py",
   "mimetype": "text/x-python",
   "name": "python",
   "nbconvert_exporter": "python",
   "pygments_lexer": "ipython3",
   "version": "3.7.8"
  }
 },
 "nbformat": 4,
 "nbformat_minor": 4
}
