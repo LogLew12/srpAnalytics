{
 "cells": [
  {
   "cell_type": "code",
   "execution_count": 1,
   "metadata": {},
   "outputs": [],
   "source": [
    "##### overall explanation\n",
    "# 1. reformat LPR data to have t0-t239\n",
    "# 2. reformat EPR data to have t1-t49"
   ]
  },
  {
   "cell_type": "code",
   "execution_count": 2,
   "metadata": {},
   "outputs": [],
   "source": [
    "import numpy as np\n",
    "import pandas as pd\n",
    "import matplotlib.pyplot as plt\n",
    "import seaborn as sns\n",
    "import os, time\n",
    "\n",
    "import warnings\n",
    "warnings.filterwarnings('ignore')"
   ]
  },
  {
   "cell_type": "markdown",
   "metadata": {},
   "source": [
    "### Reformat LPR behavioral data"
   ]
  },
  {
   "cell_type": "code",
   "execution_count": 3,
   "metadata": {},
   "outputs": [],
   "source": [
    "complete_input_file_path = '/Users/kimd999/research/projects/toxicity/per_each_data/Phase_I_II/input/behavioral/tall/344_zf_LPR_data_phase_1_2_2020JUNE25_updated_plate_id_for_TX.csv'\n",
    "behav_all_data = pd.read_csv(complete_input_file_path, header = 0)\n",
    "#behav_all_data.head()"
   ]
  },
  {
   "cell_type": "code",
   "execution_count": 4,
   "metadata": {},
   "outputs": [],
   "source": [
    "#len(behav_all_data)"
   ]
  },
  {
   "cell_type": "code",
   "execution_count": 5,
   "metadata": {},
   "outputs": [
    {
     "data": {
      "text/html": [
       "<div>\n",
       "<style scoped>\n",
       "    .dataframe tbody tr th:only-of-type {\n",
       "        vertical-align: middle;\n",
       "    }\n",
       "\n",
       "    .dataframe tbody tr th {\n",
       "        vertical-align: top;\n",
       "    }\n",
       "\n",
       "    .dataframe thead th {\n",
       "        text-align: right;\n",
       "    }\n",
       "</style>\n",
       "<table border=\"1\" class=\"dataframe\">\n",
       "  <thead>\n",
       "    <tr style=\"text-align: right;\">\n",
       "      <th></th>\n",
       "      <th>chemical.id</th>\n",
       "      <th>bottle.id</th>\n",
       "      <th>conc</th>\n",
       "      <th>plate.id</th>\n",
       "      <th>well</th>\n",
       "      <th>endpoint</th>\n",
       "      <th>value</th>\n",
       "    </tr>\n",
       "  </thead>\n",
       "  <tbody>\n",
       "    <tr>\n",
       "      <th>0</th>\n",
       "      <td>2752</td>\n",
       "      <td>TX000657</td>\n",
       "      <td>0.64</td>\n",
       "      <td>TP972-H6-P1</td>\n",
       "      <td>B3</td>\n",
       "      <td>t3</td>\n",
       "      <td>0.4</td>\n",
       "    </tr>\n",
       "    <tr>\n",
       "      <th>1</th>\n",
       "      <td>2752</td>\n",
       "      <td>TX000657</td>\n",
       "      <td>0.64</td>\n",
       "      <td>TP972-H6-P1</td>\n",
       "      <td>F3</td>\n",
       "      <td>t3</td>\n",
       "      <td>0.0</td>\n",
       "    </tr>\n",
       "    <tr>\n",
       "      <th>2</th>\n",
       "      <td>2752</td>\n",
       "      <td>TX000657</td>\n",
       "      <td>6.40</td>\n",
       "      <td>TP972-H6-P1</td>\n",
       "      <td>B8</td>\n",
       "      <td>t3</td>\n",
       "      <td>37.5</td>\n",
       "    </tr>\n",
       "    <tr>\n",
       "      <th>3</th>\n",
       "      <td>2752</td>\n",
       "      <td>TX000657</td>\n",
       "      <td>0.64</td>\n",
       "      <td>TP972-H6-P1</td>\n",
       "      <td>C3</td>\n",
       "      <td>t3</td>\n",
       "      <td>0.0</td>\n",
       "    </tr>\n",
       "    <tr>\n",
       "      <th>4</th>\n",
       "      <td>2752</td>\n",
       "      <td>TX000657</td>\n",
       "      <td>0.64</td>\n",
       "      <td>TP972-H6-P1</td>\n",
       "      <td>F3</td>\n",
       "      <td>t3</td>\n",
       "      <td>0.0</td>\n",
       "    </tr>\n",
       "  </tbody>\n",
       "</table>\n",
       "</div>"
      ],
      "text/plain": [
       "   chemical.id bottle.id  conc     plate.id well endpoint  value\n",
       "0         2752  TX000657  0.64  TP972-H6-P1   B3       t3    0.4\n",
       "1         2752  TX000657  0.64  TP972-H6-P1   F3       t3    0.0\n",
       "2         2752  TX000657  6.40  TP972-H6-P1   B8       t3   37.5\n",
       "3         2752  TX000657  0.64  TP972-H6-P1   C3       t3    0.0\n",
       "4         2752  TX000657  0.64  TP972-H6-P1   F3       t3    0.0"
      ]
     },
     "execution_count": 5,
     "metadata": {},
     "output_type": "execute_result"
    }
   ],
   "source": [
    "TX_bottle_id_behav_all_data = behav_all_data[behav_all_data['bottle.id'].str.contains(\"^TX\")]\n",
    "TX_bottle_id_behav_all_data.head()"
   ]
  },
  {
   "cell_type": "code",
   "execution_count": 6,
   "metadata": {},
   "outputs": [
    {
     "data": {
      "text/plain": [
       "426240"
      ]
     },
     "execution_count": 6,
     "metadata": {},
     "output_type": "execute_result"
    }
   ],
   "source": [
    "len(TX_bottle_id_behav_all_data)"
   ]
  },
  {
   "cell_type": "code",
   "execution_count": 7,
   "metadata": {},
   "outputs": [],
   "source": [
    "##### (start) replace plate.id in behavioral data with plate.id in morphological data (common data will be bottle.id)\n",
    "\n",
    "complete_morph_file_path = '/Users/kimd999/research/projects/toxicity/per_each_data/Phase_I_II/input/morphology/after_Lisa_cleanup/tall/zf_morphology_data_335_chemicals_2020DEC16.csv'\n",
    "morph_all_data = pd.read_csv(complete_morph_file_path, header = 0)\n",
    "#morph_all_data.head()"
   ]
  },
  {
   "cell_type": "code",
   "execution_count": 8,
   "metadata": {},
   "outputs": [],
   "source": [
    "#len(morph_all_data)"
   ]
  },
  {
   "cell_type": "code",
   "execution_count": 9,
   "metadata": {},
   "outputs": [
    {
     "data": {
      "text/html": [
       "<div>\n",
       "<style scoped>\n",
       "    .dataframe tbody tr th:only-of-type {\n",
       "        vertical-align: middle;\n",
       "    }\n",
       "\n",
       "    .dataframe tbody tr th {\n",
       "        vertical-align: top;\n",
       "    }\n",
       "\n",
       "    .dataframe thead th {\n",
       "        text-align: right;\n",
       "    }\n",
       "</style>\n",
       "<table border=\"1\" class=\"dataframe\">\n",
       "  <thead>\n",
       "    <tr style=\"text-align: right;\">\n",
       "      <th></th>\n",
       "      <th>chemical.id</th>\n",
       "      <th>bottle.id</th>\n",
       "      <th>conc</th>\n",
       "      <th>plate.id</th>\n",
       "      <th>well</th>\n",
       "      <th>date</th>\n",
       "      <th>endpoint</th>\n",
       "      <th>value</th>\n",
       "    </tr>\n",
       "  </thead>\n",
       "  <tbody>\n",
       "    <tr>\n",
       "      <th>664608</th>\n",
       "      <td>163</td>\n",
       "      <td>TX002271</td>\n",
       "      <td>0.0</td>\n",
       "      <td>TP967-E9-P1</td>\n",
       "      <td>A06</td>\n",
       "      <td>20130219</td>\n",
       "      <td>MO24</td>\n",
       "      <td>0.0</td>\n",
       "    </tr>\n",
       "    <tr>\n",
       "      <th>664609</th>\n",
       "      <td>163</td>\n",
       "      <td>TX002271</td>\n",
       "      <td>0.0</td>\n",
       "      <td>TP967-E9-P1</td>\n",
       "      <td>B06</td>\n",
       "      <td>20130219</td>\n",
       "      <td>MO24</td>\n",
       "      <td>0.0</td>\n",
       "    </tr>\n",
       "    <tr>\n",
       "      <th>664610</th>\n",
       "      <td>163</td>\n",
       "      <td>TX002271</td>\n",
       "      <td>0.0</td>\n",
       "      <td>TP967-E9-P1</td>\n",
       "      <td>C06</td>\n",
       "      <td>20130219</td>\n",
       "      <td>MO24</td>\n",
       "      <td>0.0</td>\n",
       "    </tr>\n",
       "    <tr>\n",
       "      <th>664611</th>\n",
       "      <td>163</td>\n",
       "      <td>TX002271</td>\n",
       "      <td>0.0</td>\n",
       "      <td>TP967-E9-P1</td>\n",
       "      <td>D06</td>\n",
       "      <td>20130219</td>\n",
       "      <td>MO24</td>\n",
       "      <td>0.0</td>\n",
       "    </tr>\n",
       "    <tr>\n",
       "      <th>664612</th>\n",
       "      <td>163</td>\n",
       "      <td>TX002271</td>\n",
       "      <td>0.0</td>\n",
       "      <td>TP967-E9-P1</td>\n",
       "      <td>E06</td>\n",
       "      <td>20130219</td>\n",
       "      <td>MO24</td>\n",
       "      <td>0.0</td>\n",
       "    </tr>\n",
       "  </tbody>\n",
       "</table>\n",
       "</div>"
      ],
      "text/plain": [
       "        chemical.id bottle.id  conc     plate.id well      date endpoint  \\\n",
       "664608          163  TX002271   0.0  TP967-E9-P1  A06  20130219     MO24   \n",
       "664609          163  TX002271   0.0  TP967-E9-P1  B06  20130219     MO24   \n",
       "664610          163  TX002271   0.0  TP967-E9-P1  C06  20130219     MO24   \n",
       "664611          163  TX002271   0.0  TP967-E9-P1  D06  20130219     MO24   \n",
       "664612          163  TX002271   0.0  TP967-E9-P1  E06  20130219     MO24   \n",
       "\n",
       "        value  \n",
       "664608    0.0  \n",
       "664609    0.0  \n",
       "664610    0.0  \n",
       "664611    0.0  \n",
       "664612    0.0  "
      ]
     },
     "execution_count": 9,
     "metadata": {},
     "output_type": "execute_result"
    }
   ],
   "source": [
    "TX_bottle_id_morph_all_data = morph_all_data[morph_all_data['bottle.id'].str.contains(\"^TX\")]\n",
    "TX_bottle_id_morph_all_data.head()"
   ]
  },
  {
   "cell_type": "code",
   "execution_count": 10,
   "metadata": {},
   "outputs": [
    {
     "data": {
      "text/plain": [
       "653568"
      ]
     },
     "execution_count": 10,
     "metadata": {},
     "output_type": "execute_result"
    }
   ],
   "source": [
    "len(TX_bottle_id_morph_all_data)"
   ]
  },
  {
   "cell_type": "code",
   "execution_count": 11,
   "metadata": {},
   "outputs": [],
   "source": [
    "#new_behav_all_data = TX_bottle_id_behav_all_data.loc[TX_bottle_id_morph_all_data['bottle.id'],['chemical.id', 'bottle.id', 'conc', 'plate.id', 'well', 'endpoint', 'value']]"
   ]
  },
  {
   "cell_type": "code",
   "execution_count": 12,
   "metadata": {},
   "outputs": [],
   "source": [
    "##### (end) replace plate.id in behavioral data with plate.id in morphological data (common data will be bottle.id)"
   ]
  },
  {
   "cell_type": "code",
   "execution_count": 13,
   "metadata": {},
   "outputs": [],
   "source": [
    "#new_behav_all_data = behav_all_data.loc[behav_all_data['bottle.id'] == \"TX002271\",['chemical.id', 'bottle.id', 'conc', 'plate.id', 'well', 'endpoint', 'value']]"
   ]
  },
  {
   "cell_type": "code",
   "execution_count": 14,
   "metadata": {},
   "outputs": [],
   "source": [
    "#new_behav_all_data.head()"
   ]
  },
  {
   "cell_type": "code",
   "execution_count": 15,
   "metadata": {},
   "outputs": [
    {
     "data": {
      "text/html": [
       "<div>\n",
       "<style scoped>\n",
       "    .dataframe tbody tr th:only-of-type {\n",
       "        vertical-align: middle;\n",
       "    }\n",
       "\n",
       "    .dataframe tbody tr th {\n",
       "        vertical-align: top;\n",
       "    }\n",
       "\n",
       "    .dataframe thead th {\n",
       "        text-align: right;\n",
       "    }\n",
       "</style>\n",
       "<table border=\"1\" class=\"dataframe\">\n",
       "  <thead>\n",
       "    <tr style=\"text-align: right;\">\n",
       "      <th></th>\n",
       "      <th>chemical.id</th>\n",
       "      <th>conc</th>\n",
       "      <th>plate.id</th>\n",
       "      <th>well</th>\n",
       "      <th>endpoint</th>\n",
       "      <th>value</th>\n",
       "    </tr>\n",
       "  </thead>\n",
       "  <tbody>\n",
       "    <tr>\n",
       "      <th>0</th>\n",
       "      <td>2752</td>\n",
       "      <td>0.64</td>\n",
       "      <td>TP972-H6-P1</td>\n",
       "      <td>B3</td>\n",
       "      <td>t3</td>\n",
       "      <td>0.4</td>\n",
       "    </tr>\n",
       "    <tr>\n",
       "      <th>1</th>\n",
       "      <td>2752</td>\n",
       "      <td>0.64</td>\n",
       "      <td>TP972-H6-P1</td>\n",
       "      <td>F3</td>\n",
       "      <td>t3</td>\n",
       "      <td>0.0</td>\n",
       "    </tr>\n",
       "    <tr>\n",
       "      <th>2</th>\n",
       "      <td>2752</td>\n",
       "      <td>6.40</td>\n",
       "      <td>TP972-H6-P1</td>\n",
       "      <td>B8</td>\n",
       "      <td>t3</td>\n",
       "      <td>37.5</td>\n",
       "    </tr>\n",
       "    <tr>\n",
       "      <th>3</th>\n",
       "      <td>2752</td>\n",
       "      <td>0.64</td>\n",
       "      <td>TP972-H6-P1</td>\n",
       "      <td>C3</td>\n",
       "      <td>t3</td>\n",
       "      <td>0.0</td>\n",
       "    </tr>\n",
       "    <tr>\n",
       "      <th>4</th>\n",
       "      <td>2752</td>\n",
       "      <td>0.64</td>\n",
       "      <td>TP972-H6-P1</td>\n",
       "      <td>F3</td>\n",
       "      <td>t3</td>\n",
       "      <td>0.0</td>\n",
       "    </tr>\n",
       "  </tbody>\n",
       "</table>\n",
       "</div>"
      ],
      "text/plain": [
       "   chemical.id  conc     plate.id well endpoint  value\n",
       "0         2752  0.64  TP972-H6-P1   B3       t3    0.4\n",
       "1         2752  0.64  TP972-H6-P1   F3       t3    0.0\n",
       "2         2752  6.40  TP972-H6-P1   B8       t3   37.5\n",
       "3         2752  0.64  TP972-H6-P1   C3       t3    0.0\n",
       "4         2752  0.64  TP972-H6-P1   F3       t3    0.0"
      ]
     },
     "execution_count": 15,
     "metadata": {},
     "output_type": "execute_result"
    }
   ],
   "source": [
    "# Keep only relevant columns\n",
    "columns_to_keep = ['chemical.id', 'conc', 'plate.id', 'well', 'endpoint', 'value']\n",
    "behav_all_data_select = behav_all_data.loc[:,columns_to_keep]\n",
    "behav_all_data_select.head()"
   ]
  },
  {
   "cell_type": "code",
   "execution_count": 16,
   "metadata": {},
   "outputs": [
    {
     "data": {
      "text/plain": [
       "array(['t0', 't1', 't10', 't100', 't101', 't102', 't103', 't104', 't105',\n",
       "       't106', 't107', 't108', 't109', 't11', 't110', 't111', 't112',\n",
       "       't113', 't114', 't115', 't116', 't117', 't118', 't119', 't12',\n",
       "       't120', 't121', 't122', 't123', 't124', 't125', 't126', 't127',\n",
       "       't128', 't129', 't13', 't130', 't131', 't132', 't133', 't134',\n",
       "       't135', 't136', 't137', 't138', 't139', 't14', 't140', 't141',\n",
       "       't142', 't143', 't144', 't145', 't146', 't147', 't148', 't149',\n",
       "       't15', 't150', 't151', 't152', 't153', 't154', 't155', 't156',\n",
       "       't157', 't158', 't159', 't16', 't160', 't161', 't162', 't163',\n",
       "       't164', 't165', 't166', 't167', 't168', 't169', 't17', 't170',\n",
       "       't171', 't172', 't173', 't174', 't175', 't176', 't177', 't178',\n",
       "       't179', 't18', 't180', 't181', 't182', 't183', 't184', 't185',\n",
       "       't186', 't187', 't188', 't189', 't19', 't190', 't191', 't192',\n",
       "       't193', 't194', 't195', 't196', 't197', 't198', 't199', 't2',\n",
       "       't20', 't200', 't201', 't202', 't203', 't204', 't205', 't206',\n",
       "       't207', 't208', 't209', 't21', 't210', 't211', 't212', 't213',\n",
       "       't214', 't215', 't216', 't217', 't218', 't219', 't22', 't220',\n",
       "       't221', 't222', 't223', 't224', 't225', 't226', 't227', 't228',\n",
       "       't229', 't23', 't230', 't231', 't232', 't233', 't234', 't235',\n",
       "       't236', 't237', 't238', 't239', 't24', 't25', 't26', 't27', 't28',\n",
       "       't29', 't3', 't30', 't31', 't32', 't33', 't34', 't35', 't36',\n",
       "       't37', 't38', 't39', 't4', 't40', 't41', 't42', 't43', 't44',\n",
       "       't45', 't46', 't47', 't48', 't49', 't5', 't50', 't51', 't52',\n",
       "       't53', 't54', 't55', 't56', 't57', 't58', 't59', 't6', 't60',\n",
       "       't61', 't62', 't63', 't64', 't65', 't66', 't67', 't68', 't69',\n",
       "       't7', 't70', 't71', 't72', 't73', 't74', 't75', 't76', 't77',\n",
       "       't78', 't79', 't8', 't80', 't81', 't82', 't83', 't84', 't85',\n",
       "       't86', 't87', 't88', 't89', 't9', 't90', 't91', 't92', 't93',\n",
       "       't94', 't95', 't96', 't97', 't98', 't99'], dtype=object)"
      ]
     },
     "metadata": {},
     "output_type": "display_data"
    }
   ],
   "source": [
    "display(np.unique(behav_all_data['endpoint']))"
   ]
  },
  {
   "cell_type": "code",
   "execution_count": 17,
   "metadata": {},
   "outputs": [
    {
     "data": {
      "text/plain": [
       "array(['t0', 't1', 't10', 't100', 't101', 't102', 't103', 't104', 't105',\n",
       "       't106', 't107', 't108', 't109', 't11', 't110', 't111', 't112',\n",
       "       't113', 't114', 't115', 't116', 't117', 't118', 't119', 't12',\n",
       "       't120', 't121', 't122', 't123', 't124', 't125', 't126', 't127',\n",
       "       't128', 't129', 't13', 't130', 't131', 't132', 't133', 't134',\n",
       "       't135', 't136', 't137', 't138', 't139', 't14', 't140', 't141',\n",
       "       't142', 't143', 't144', 't145', 't146', 't147', 't148', 't149',\n",
       "       't15', 't150', 't151', 't152', 't153', 't154', 't155', 't156',\n",
       "       't157', 't158', 't159', 't16', 't160', 't161', 't162', 't163',\n",
       "       't164', 't165', 't166', 't167', 't168', 't169', 't17', 't170',\n",
       "       't171', 't172', 't173', 't174', 't175', 't176', 't177', 't178',\n",
       "       't179', 't18', 't180', 't181', 't182', 't183', 't184', 't185',\n",
       "       't186', 't187', 't188', 't189', 't19', 't190', 't191', 't192',\n",
       "       't193', 't194', 't195', 't196', 't197', 't198', 't199', 't2',\n",
       "       't20', 't200', 't201', 't202', 't203', 't204', 't205', 't206',\n",
       "       't207', 't208', 't209', 't21', 't210', 't211', 't212', 't213',\n",
       "       't214', 't215', 't216', 't217', 't218', 't219', 't22', 't220',\n",
       "       't221', 't222', 't223', 't224', 't225', 't226', 't227', 't228',\n",
       "       't229', 't23', 't230', 't231', 't232', 't233', 't234', 't235',\n",
       "       't236', 't237', 't238', 't239', 't24', 't25', 't26', 't27', 't28',\n",
       "       't29', 't3', 't30', 't31', 't32', 't33', 't34', 't35', 't36',\n",
       "       't37', 't38', 't39', 't4', 't40', 't41', 't42', 't43', 't44',\n",
       "       't45', 't46', 't47', 't48', 't49', 't5', 't50', 't51', 't52',\n",
       "       't53', 't54', 't55', 't56', 't57', 't58', 't59', 't6', 't60',\n",
       "       't61', 't62', 't63', 't64', 't65', 't66', 't67', 't68', 't69',\n",
       "       't7', 't70', 't71', 't72', 't73', 't74', 't75', 't76', 't77',\n",
       "       't78', 't79', 't8', 't80', 't81', 't82', 't83', 't84', 't85',\n",
       "       't86', 't87', 't88', 't89', 't9', 't90', 't91', 't92', 't93',\n",
       "       't94', 't95', 't96', 't97', 't98', 't99'], dtype=object)"
      ]
     },
     "metadata": {},
     "output_type": "display_data"
    }
   ],
   "source": [
    "display(np.unique(behav_all_data_select['endpoint']))"
   ]
  },
  {
   "cell_type": "code",
   "execution_count": 18,
   "metadata": {},
   "outputs": [
    {
     "data": {
      "text/plain": [
       "\"\\nreformat_data = pd.DataFrame()\\n\\nfor chemical_index in np.unique(behav_all_data['chemical.id']):\\n    behav_data_chemical = behav_all_data_select.loc[behav_all_data['chemical.id'] == chemical_index,:]\\n    print(chemical_index)\\n    # Append chemical_plate_well as a unique identifier\\n    behav_data_chemical.insert(0, 'chemical_plate_well', behav_data_chemical.loc[:,['chemical.id','plate.id', 'well']].apply(lambda x: '_'.join(x.map(str)), axis = 1))\\n    \\n    for cpw in np.unique(behav_data_chemical.chemical_plate_well):\\n        temp_df = behav_data_chemical.loc[behav_data_chemical.chemical_plate_well == cpw,:]\\n        temp_df_grouped = temp_df.groupby(['chemical.id', 'plate.id', 'well'])\\n        for name, group in temp_df_grouped:\\n            if(len(group.endpoint) == 15):\\n                temp = pd.DataFrame(\\n                        {\\n                        'chemical.id': np.unique(temp_df['chemical.id']),\\n                        'plate.id': np.unique(temp_df['plate.id']),\\n                        'well': np.unique(temp_df['well']),\\n                        'chemical_plate_well': np.unique(temp_df['chemical_plate_well']),\\n                        'conc': np.unique(temp_df['conc']),\\n                        't3': temp_df.value[temp_df.endpoint == 't3'].values,\\n                        't4': temp_df.value[temp_df.endpoint == 't4'].values,\\n                        't5': temp_df.value[temp_df.endpoint == 't5'].values,\\n                        't6': temp_df.value[temp_df.endpoint == 't6'].values,\\n                        't7': temp_df.value[temp_df.endpoint == 't7'].values,\\n                        't8': temp_df.value[temp_df.endpoint == 't8'].values,\\n                        't9': temp_df.value[temp_df.endpoint == 't9'].values,\\n                        't10': temp_df.value[temp_df.endpoint == 't10'].values,\\n                        't11': temp_df.value[temp_df.endpoint == 't11'].values,\\n                        't12': temp_df.value[temp_df.endpoint == 't12'].values,\\n                        't13': temp_df.value[temp_df.endpoint == 't13'].values,\\n                        't14': temp_df.value[temp_df.endpoint == 't14'].values,\\n                        't15': temp_df.value[temp_df.endpoint == 't15'].values,\\n                        't16': temp_df.value[temp_df.endpoint == 't16'].values,\\n                        't17': temp_df.value[temp_df.endpoint == 't17'].values,\\n                        }\\n                            )\\n                reformat_data = pd.concat([reformat_data, temp])\""
      ]
     },
     "execution_count": 18,
     "metadata": {},
     "output_type": "execute_result"
    }
   ],
   "source": [
    "'''\n",
    "reformat_data = pd.DataFrame()\n",
    "\n",
    "for chemical_index in np.unique(behav_all_data['chemical.id']):\n",
    "    behav_data_chemical = behav_all_data_select.loc[behav_all_data['chemical.id'] == chemical_index,:]\n",
    "    print(chemical_index)\n",
    "    # Append chemical_plate_well as a unique identifier\n",
    "    behav_data_chemical.insert(0, 'chemical_plate_well', behav_data_chemical.loc[:,['chemical.id','plate.id', 'well']].apply(lambda x: '_'.join(x.map(str)), axis = 1))\n",
    "    \n",
    "    for cpw in np.unique(behav_data_chemical.chemical_plate_well):\n",
    "        temp_df = behav_data_chemical.loc[behav_data_chemical.chemical_plate_well == cpw,:]\n",
    "        temp_df_grouped = temp_df.groupby(['chemical.id', 'plate.id', 'well'])\n",
    "        for name, group in temp_df_grouped:\n",
    "            if(len(group.endpoint) == 15):\n",
    "                temp = pd.DataFrame(\n",
    "                        {\n",
    "                        'chemical.id': np.unique(temp_df['chemical.id']),\n",
    "                        'plate.id': np.unique(temp_df['plate.id']),\n",
    "                        'well': np.unique(temp_df['well']),\n",
    "                        'chemical_plate_well': np.unique(temp_df['chemical_plate_well']),\n",
    "                        'conc': np.unique(temp_df['conc']),\n",
    "                        't3': temp_df.value[temp_df.endpoint == 't3'].values,\n",
    "                        't4': temp_df.value[temp_df.endpoint == 't4'].values,\n",
    "                        't5': temp_df.value[temp_df.endpoint == 't5'].values,\n",
    "                        't6': temp_df.value[temp_df.endpoint == 't6'].values,\n",
    "                        't7': temp_df.value[temp_df.endpoint == 't7'].values,\n",
    "                        't8': temp_df.value[temp_df.endpoint == 't8'].values,\n",
    "                        't9': temp_df.value[temp_df.endpoint == 't9'].values,\n",
    "                        't10': temp_df.value[temp_df.endpoint == 't10'].values,\n",
    "                        't11': temp_df.value[temp_df.endpoint == 't11'].values,\n",
    "                        't12': temp_df.value[temp_df.endpoint == 't12'].values,\n",
    "                        't13': temp_df.value[temp_df.endpoint == 't13'].values,\n",
    "                        't14': temp_df.value[temp_df.endpoint == 't14'].values,\n",
    "                        't15': temp_df.value[temp_df.endpoint == 't15'].values,\n",
    "                        't16': temp_df.value[temp_df.endpoint == 't16'].values,\n",
    "                        't17': temp_df.value[temp_df.endpoint == 't17'].values,\n",
    "                        }\n",
    "                            )\n",
    "                reformat_data = pd.concat([reformat_data, temp])'''"
   ]
  },
  {
   "cell_type": "code",
   "execution_count": 19,
   "metadata": {},
   "outputs": [],
   "source": [
    "#reformat_data.head()"
   ]
  },
  {
   "cell_type": "code",
   "execution_count": 20,
   "metadata": {},
   "outputs": [],
   "source": [
    "#reformat_data.shape"
   ]
  },
  {
   "cell_type": "code",
   "execution_count": 21,
   "metadata": {},
   "outputs": [],
   "source": [
    "#reformat_data.to_csv('Phase_I_II_t3_t17_LPR.csv',index=False)"
   ]
  },
  {
   "cell_type": "code",
   "execution_count": 22,
   "metadata": {},
   "outputs": [],
   "source": [
    "###### replace plate id with what is listed in the morphology data to the LPR.\n",
    "###### for your example, TP967-E9-P1, will go in place of plate.id “1” in the LPR file.\n",
    "\n",
    "# read morpho data and match/join\n"
   ]
  },
  {
   "cell_type": "markdown",
   "metadata": {},
   "source": [
    "### t0_t239 time points"
   ]
  },
  {
   "cell_type": "code",
   "execution_count": null,
   "metadata": {
    "scrolled": true
   },
   "outputs": [
    {
     "name": "stdout",
     "output_type": "stream",
     "text": [
      "chemical_index:53\n",
      "chemical_index:54\n",
      "chemical_index:56\n",
      "chemical_index:57\n",
      "chemical_index:58\n",
      "chemical_index:60\n",
      "chemical_index:61\n",
      "chemical_index:62\n",
      "chemical_index:63\n",
      "chemical_index:64\n",
      "chemical_index:65\n",
      "chemical_index:66\n",
      "chemical_index:67\n",
      "chemical_index:69\n",
      "chemical_index:70\n",
      "chemical_index:129\n",
      "chemical_index:155\n",
      "chemical_index:163\n",
      "chemical_index:165\n",
      "chemical_index:172\n",
      "chemical_index:176\n",
      "chemical_index:197\n",
      "chemical_index:220\n",
      "chemical_index:227\n",
      "chemical_index:246\n",
      "chemical_index:247\n",
      "chemical_index:248\n"
     ]
    }
   ],
   "source": [
    "start_time = time.time()\n",
    "\n",
    "reformat_data = pd.DataFrame()\n",
    "max_time = 240\n",
    "    \n",
    "full_devel = \"full\"\n",
    "#full_devel = \"devel\"\n",
    "\n",
    "if (full_devel == \"full\"):\n",
    "    # all chemicals\n",
    "    chemical_id_from_here = np.unique(behav_all_data['chemical.id'])\n",
    "else: # full_devel = \"devel\"\n",
    "    chemical_id_from_here = np.unique([53,54])\n",
    "\n",
    "    \n",
    "for chemical_index in chemical_id_from_here:\n",
    "    behav_data_chemical = behav_all_data_select.loc[behav_all_data['chemical.id'] == chemical_index,:]\n",
    "    print(\"chemical_index:\" + str(chemical_index))\n",
    "    # Append chemical_plate_well as a unique identifier\n",
    "    behav_data_chemical.insert(0, 'chemical_plate_well', behav_data_chemical.loc[:,['chemical.id','plate.id', 'well']].apply(lambda x: '_'.join(x.map(str)), axis = 1))\n",
    "    \n",
    "    for cpw in np.unique(behav_data_chemical.chemical_plate_well):\n",
    "        temp_df = behav_data_chemical.loc[behav_data_chemical.chemical_plate_well == cpw,:]\n",
    "        #display(temp_df.head())\n",
    "        temp_df_grouped = temp_df.groupby(['chemical.id', 'plate.id', 'well'])\n",
    "        #display(temp_df_grouped.head())\n",
    "        for name, group in temp_df_grouped:\n",
    "            if(len(group.endpoint) == 240):\n",
    "                temp = pd.DataFrame(\n",
    "                        {\n",
    "                        'chemical.id': np.unique(temp_df['chemical.id']),\n",
    "                        'plate.id': np.unique(temp_df['plate.id']),\n",
    "                        'well': np.unique(temp_df['well']),\n",
    "                        'chemical_plate_well': np.unique(temp_df['chemical_plate_well']),\n",
    "                        'conc': np.unique(temp_df['conc'])\n",
    "                        })\n",
    "                #print(temp.head())\n",
    "                # Append additonal columns corresponding to time points\n",
    "                for time_point in np.arange(max_time):\n",
    "                    end_point = 't'+ str(time_point)\n",
    "                    temp = pd.concat([temp, pd.DataFrame({end_point: temp_df.value[temp_df.endpoint == end_point].values})],axis = 1)\n",
    "                #print(temp.head())\n",
    "                #print(reformat_data)\n",
    "                reformat_data = pd.concat([reformat_data, temp])\n",
    "                #print(reformat_data)\n",
    "\n",
    "end_time = time.time()\n",
    "time_took = str(round((end_time-start_time), 1)) + \" seconds\"\n",
    "print (\"Done, it took:\"+str(time_took)) \n",
    "# took 2 minutes for 2 chemicals"
   ]
  },
  {
   "cell_type": "code",
   "execution_count": null,
   "metadata": {},
   "outputs": [],
   "source": [
    "display(reformat_data)"
   ]
  },
  {
   "cell_type": "code",
   "execution_count": null,
   "metadata": {},
   "outputs": [],
   "source": [
    "reformatted_data_filename = str(complete_input_file_path[:-4]) + \"_wide_t0_t239_\" + str(full_devel) + \".csv\"\n",
    "reformatted_data.to_csv(reformatted_data_filename,index=False)"
   ]
  },
  {
   "cell_type": "code",
   "execution_count": null,
   "metadata": {},
   "outputs": [],
   "source": [
    "len(np.unique(reformat_data['chemical.id']))"
   ]
  }
 ],
 "metadata": {
  "kernelspec": {
   "display_name": "Python 3",
   "language": "python",
   "name": "python3"
  },
  "language_info": {
   "codemirror_mode": {
    "name": "ipython",
    "version": 3
   },
   "file_extension": ".py",
   "mimetype": "text/x-python",
   "name": "python",
   "nbconvert_exporter": "python",
   "pygments_lexer": "ipython3",
   "version": "3.7.8"
  }
 },
 "nbformat": 4,
 "nbformat_minor": 4
}
