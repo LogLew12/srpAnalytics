{
 "cells": [
  {
   "cell_type": "markdown",
   "metadata": {},
   "source": [
    "### Reformat LPR behavioral data to have t0-t239 or t0-t14"
   ]
  },
  {
   "cell_type": "code",
   "execution_count": 1,
   "metadata": {},
   "outputs": [],
   "source": [
    "import numpy as np\n",
    "import pandas as pd\n",
    "import matplotlib.pyplot as plt\n",
    "import seaborn as sns\n",
    "import os, random, time\n",
    "\n",
    "import warnings\n",
    "warnings.filterwarnings('ignore')"
   ]
  },
  {
   "cell_type": "code",
   "execution_count": 2,
   "metadata": {},
   "outputs": [
    {
     "name": "stdout",
     "output_type": "stream",
     "text": [
      "/Users/kimd999/research/script_not_in_dropbox/srpAnalytics/analysis/latest/1_reformat/all_targets/LPR\n"
     ]
    }
   ],
   "source": [
    "starting_dir = os.getcwd()\n",
    "print (starting_dir)"
   ]
  },
  {
   "cell_type": "code",
   "execution_count": 5,
   "metadata": {},
   "outputs": [],
   "source": [
    "# mac - phase I & II - 240 endpoints\n",
    "complete_input_file_path= '/Users/kimd999/research/projects/toxicity/per_each_data/phase_I_II/input/LPR/tall/after_Lisa_plate_id_fix/240_variables/240_variables_344_zf_LPR_data_phase_1_2_2020JUNE25_updated_plate_id_for_TX_tall.csv'\n",
    "# -> 196 unique chemical IDs\n",
    "\n",
    "# mac - phase I & II - 15 endpoints\n",
    "#complete_input_file_path= '/Users/kimd999/research/projects/toxicity/per_each_data/phase_I_II/input/LPR/tall/after_Lisa_plate_id_fix/15_endpoints_149_Toxcast_zf_LPR_data_phase_2_2021APR09.csv'\n",
    "# -> 148 unique chemical IDs\n",
    "\n",
    "# mac - phase III - full\n",
    "#complete_input_file_path= '/Users/kimd999/research/projects/toxicity/per_each_data/phase_III/input/original/behavior/LPR/Tanguay_Phase_3_zf_LPR_data_PNNL_2021MAR23.csv'\n",
    "# -> 240 unique variables and 215 unique chemical IDs\n",
    "\n",
    "# constance - phase I & II - full\n",
    "#complete_input_file_path= '/qfs/people/kimd999/tox/phase_I_II/LPR/input/tall/344_zf_LPR_data_phase_1_2_2020JUNE25_updated_plate_id_for_TX_tall_full_w_15_endpoints.csv'\n",
    "#complete_input_file_path= '/qfs/people/kimd999/tox/phase_I_II/LPR/input/tall/344_zf_LPR_data_phase_1_2_2020JUNE25_updated_plate_id_for_TX_tall_full_w_240_endpoints.csv'\n",
    "\n",
    "# constance - phase III - full\n",
    "#complete_input_file_path= '/people/kimd999/tox/phase_III/Tanguay_Phase_3_zf_LPR_data_PNNL_2021MAR23.csv'"
   ]
  },
  {
   "cell_type": "code",
   "execution_count": 6,
   "metadata": {},
   "outputs": [
    {
     "data": {
      "text/html": [
       "<div>\n",
       "<style scoped>\n",
       "    .dataframe tbody tr th:only-of-type {\n",
       "        vertical-align: middle;\n",
       "    }\n",
       "\n",
       "    .dataframe tbody tr th {\n",
       "        vertical-align: top;\n",
       "    }\n",
       "\n",
       "    .dataframe thead th {\n",
       "        text-align: right;\n",
       "    }\n",
       "</style>\n",
       "<table border=\"1\" class=\"dataframe\">\n",
       "  <thead>\n",
       "    <tr style=\"text-align: right;\">\n",
       "      <th></th>\n",
       "      <th>chemical.id</th>\n",
       "      <th>conc</th>\n",
       "      <th>plate.id</th>\n",
       "      <th>well</th>\n",
       "      <th>variable</th>\n",
       "      <th>value</th>\n",
       "    </tr>\n",
       "  </thead>\n",
       "  <tbody>\n",
       "    <tr>\n",
       "      <th>0</th>\n",
       "      <td>53</td>\n",
       "      <td>NaN</td>\n",
       "      <td>NaN</td>\n",
       "      <td>NaN</td>\n",
       "      <td>t0</td>\n",
       "      <td>NaN</td>\n",
       "    </tr>\n",
       "    <tr>\n",
       "      <th>1</th>\n",
       "      <td>53</td>\n",
       "      <td>0.0</td>\n",
       "      <td>9289.0</td>\n",
       "      <td>A06</td>\n",
       "      <td>t0</td>\n",
       "      <td>0.0</td>\n",
       "    </tr>\n",
       "    <tr>\n",
       "      <th>2</th>\n",
       "      <td>53</td>\n",
       "      <td>0.0</td>\n",
       "      <td>9289.0</td>\n",
       "      <td>A12</td>\n",
       "      <td>t0</td>\n",
       "      <td>0.0</td>\n",
       "    </tr>\n",
       "    <tr>\n",
       "      <th>3</th>\n",
       "      <td>53</td>\n",
       "      <td>0.0</td>\n",
       "      <td>9289.0</td>\n",
       "      <td>B06</td>\n",
       "      <td>t0</td>\n",
       "      <td>0.0</td>\n",
       "    </tr>\n",
       "    <tr>\n",
       "      <th>4</th>\n",
       "      <td>53</td>\n",
       "      <td>0.0</td>\n",
       "      <td>9289.0</td>\n",
       "      <td>B12</td>\n",
       "      <td>t0</td>\n",
       "      <td>0.0</td>\n",
       "    </tr>\n",
       "  </tbody>\n",
       "</table>\n",
       "</div>"
      ],
      "text/plain": [
       "   chemical.id  conc  plate.id well variable  value\n",
       "0           53   NaN       NaN  NaN       t0    NaN\n",
       "1           53   0.0    9289.0  A06       t0    0.0\n",
       "2           53   0.0    9289.0  A12       t0    0.0\n",
       "3           53   0.0    9289.0  B06       t0    0.0\n",
       "4           53   0.0    9289.0  B12       t0    0.0"
      ]
     },
     "metadata": {},
     "output_type": "display_data"
    }
   ],
   "source": [
    "behav_all_data = pd.read_csv(complete_input_file_path, header = 0)\n",
    "behav_all_data = behav_all_data.rename({'endpoint': 'variable'}, axis=1)\n",
    "display(behav_all_data.head())"
   ]
  },
  {
   "cell_type": "code",
   "execution_count": 7,
   "metadata": {},
   "outputs": [
    {
     "data": {
      "text/plain": [
       "'number of unique variables:240'"
      ]
     },
     "metadata": {},
     "output_type": "display_data"
    },
    {
     "data": {
      "text/plain": [
       "'number of chemical_id:196'"
      ]
     },
     "metadata": {},
     "output_type": "display_data"
    }
   ],
   "source": [
    "# Keep only relevant columns\n",
    "columns_to_keep = ['chemical.id', 'conc', 'plate.id', 'well', 'variable', 'value']\n",
    "behav_select = behav_all_data.loc[:,columns_to_keep]\n",
    "\n",
    "display(\"number of unique variables:\" + str(len(np.unique(behav_select['variable']))))\n",
    "display(\"number of chemical_id:\" + str(len(np.unique(behav_select['chemical.id']))))"
   ]
  },
  {
   "cell_type": "code",
   "execution_count": 8,
   "metadata": {},
   "outputs": [
    {
     "data": {
      "text/html": [
       "<div>\n",
       "<style scoped>\n",
       "    .dataframe tbody tr th:only-of-type {\n",
       "        vertical-align: middle;\n",
       "    }\n",
       "\n",
       "    .dataframe tbody tr th {\n",
       "        vertical-align: top;\n",
       "    }\n",
       "\n",
       "    .dataframe thead th {\n",
       "        text-align: right;\n",
       "    }\n",
       "</style>\n",
       "<table border=\"1\" class=\"dataframe\">\n",
       "  <thead>\n",
       "    <tr style=\"text-align: right;\">\n",
       "      <th></th>\n",
       "      <th>chemical.id</th>\n",
       "      <th>conc</th>\n",
       "      <th>plate.id</th>\n",
       "      <th>well</th>\n",
       "      <th>variable</th>\n",
       "      <th>value</th>\n",
       "    </tr>\n",
       "  </thead>\n",
       "  <tbody>\n",
       "    <tr>\n",
       "      <th>0</th>\n",
       "      <td>53</td>\n",
       "      <td>NaN</td>\n",
       "      <td>NaN</td>\n",
       "      <td>NaN</td>\n",
       "      <td>t0</td>\n",
       "      <td>NaN</td>\n",
       "    </tr>\n",
       "    <tr>\n",
       "      <th>193</th>\n",
       "      <td>53</td>\n",
       "      <td>NaN</td>\n",
       "      <td>NaN</td>\n",
       "      <td>NaN</td>\n",
       "      <td>t1</td>\n",
       "      <td>NaN</td>\n",
       "    </tr>\n",
       "    <tr>\n",
       "      <th>386</th>\n",
       "      <td>53</td>\n",
       "      <td>NaN</td>\n",
       "      <td>NaN</td>\n",
       "      <td>NaN</td>\n",
       "      <td>t2</td>\n",
       "      <td>NaN</td>\n",
       "    </tr>\n",
       "    <tr>\n",
       "      <th>579</th>\n",
       "      <td>53</td>\n",
       "      <td>NaN</td>\n",
       "      <td>NaN</td>\n",
       "      <td>NaN</td>\n",
       "      <td>t3</td>\n",
       "      <td>NaN</td>\n",
       "    </tr>\n",
       "    <tr>\n",
       "      <th>772</th>\n",
       "      <td>53</td>\n",
       "      <td>NaN</td>\n",
       "      <td>NaN</td>\n",
       "      <td>NaN</td>\n",
       "      <td>t4</td>\n",
       "      <td>NaN</td>\n",
       "    </tr>\n",
       "  </tbody>\n",
       "</table>\n",
       "</div>"
      ],
      "text/plain": [
       "     chemical.id  conc  plate.id well variable  value\n",
       "0             53   NaN       NaN  NaN       t0    NaN\n",
       "193           53   NaN       NaN  NaN       t1    NaN\n",
       "386           53   NaN       NaN  NaN       t2    NaN\n",
       "579           53   NaN       NaN  NaN       t3    NaN\n",
       "772           53   NaN       NaN  NaN       t4    NaN"
      ]
     },
     "metadata": {},
     "output_type": "display_data"
    }
   ],
   "source": [
    "nan = behav_select[behav_select['value'].isna()]\n",
    "display(nan.head())\n",
    "\n",
    "# [phase III] there is no nan in 'chemical.id', 'conc', 'plate.id', 'well', 'variable'"
   ]
  },
  {
   "cell_type": "code",
   "execution_count": 9,
   "metadata": {},
   "outputs": [
    {
     "data": {
      "text/plain": [
       "'before dropna, len(behav_select):11184240'"
      ]
     },
     "metadata": {},
     "output_type": "display_data"
    },
    {
     "data": {
      "text/plain": [
       "'after dropna,  len(behav_select):10977439'"
      ]
     },
     "metadata": {},
     "output_type": "display_data"
    },
    {
     "data": {
      "text/html": [
       "<div>\n",
       "<style scoped>\n",
       "    .dataframe tbody tr th:only-of-type {\n",
       "        vertical-align: middle;\n",
       "    }\n",
       "\n",
       "    .dataframe tbody tr th {\n",
       "        vertical-align: top;\n",
       "    }\n",
       "\n",
       "    .dataframe thead th {\n",
       "        text-align: right;\n",
       "    }\n",
       "</style>\n",
       "<table border=\"1\" class=\"dataframe\">\n",
       "  <thead>\n",
       "    <tr style=\"text-align: right;\">\n",
       "      <th></th>\n",
       "      <th>chemical.id</th>\n",
       "      <th>conc</th>\n",
       "      <th>plate.id</th>\n",
       "      <th>well</th>\n",
       "      <th>variable</th>\n",
       "      <th>value</th>\n",
       "    </tr>\n",
       "  </thead>\n",
       "  <tbody>\n",
       "    <tr>\n",
       "      <th>1</th>\n",
       "      <td>53</td>\n",
       "      <td>0.0</td>\n",
       "      <td>9289.0</td>\n",
       "      <td>A06</td>\n",
       "      <td>t0</td>\n",
       "      <td>0.0</td>\n",
       "    </tr>\n",
       "    <tr>\n",
       "      <th>2</th>\n",
       "      <td>53</td>\n",
       "      <td>0.0</td>\n",
       "      <td>9289.0</td>\n",
       "      <td>A12</td>\n",
       "      <td>t0</td>\n",
       "      <td>0.0</td>\n",
       "    </tr>\n",
       "    <tr>\n",
       "      <th>3</th>\n",
       "      <td>53</td>\n",
       "      <td>0.0</td>\n",
       "      <td>9289.0</td>\n",
       "      <td>B06</td>\n",
       "      <td>t0</td>\n",
       "      <td>0.0</td>\n",
       "    </tr>\n",
       "    <tr>\n",
       "      <th>4</th>\n",
       "      <td>53</td>\n",
       "      <td>0.0</td>\n",
       "      <td>9289.0</td>\n",
       "      <td>B12</td>\n",
       "      <td>t0</td>\n",
       "      <td>0.0</td>\n",
       "    </tr>\n",
       "    <tr>\n",
       "      <th>5</th>\n",
       "      <td>53</td>\n",
       "      <td>0.0</td>\n",
       "      <td>9289.0</td>\n",
       "      <td>C06</td>\n",
       "      <td>t0</td>\n",
       "      <td>1.0</td>\n",
       "    </tr>\n",
       "  </tbody>\n",
       "</table>\n",
       "</div>"
      ],
      "text/plain": [
       "   chemical.id  conc  plate.id well variable  value\n",
       "1           53   0.0    9289.0  A06       t0    0.0\n",
       "2           53   0.0    9289.0  A12       t0    0.0\n",
       "3           53   0.0    9289.0  B06       t0    0.0\n",
       "4           53   0.0    9289.0  B12       t0    0.0\n",
       "5           53   0.0    9289.0  C06       t0    1.0"
      ]
     },
     "metadata": {},
     "output_type": "display_data"
    }
   ],
   "source": [
    "display(\"before dropna, len(behav_select):\"+str(len(behav_select)))\n",
    "behav_select = behav_select.dropna(how='any')\n",
    "display(\"after dropna,  len(behav_select):\"+str(len(behav_select)))\n",
    "\n",
    "display(behav_select.head())\n",
    "\n",
    "# phase I & II -> dropped some\n",
    "# phase III    -> dropped many"
   ]
  },
  {
   "cell_type": "code",
   "execution_count": null,
   "metadata": {},
   "outputs": [],
   "source": [
    "''' # basic check of variable #\n",
    "full_devel = \"full\"\n",
    "#full_devel = \"devel\"\n",
    "\n",
    "if (full_devel == \"full\"):\n",
    "    chemical_id_from_here = np.unique(behav_select['chemical.id'])\n",
    "else: # full_devel = \"devel\"\n",
    "    chemical_id_from_here = np.unique([234])\n",
    "    \n",
    "for chemical_index in chemical_id_from_here:\n",
    "    behav_per_chemical = behav_select.loc[behav_select['chemical.id'] == chemical_index,:]\n",
    "    print(\"chemical_index:\" + str(chemical_index))\n",
    "\n",
    "    variables = np.unique(behav_per_chemical['variable'])\n",
    "    print(\"variables:\" + str(variables))\n",
    "#    variable_splited = variable.split(\"t\")\n",
    "    \n",
    " #   print (min(variable_splited[1]))\n",
    "    var_len = len(np.unique(behav_per_chemical['variable']))\n",
    "    if (var_len != 15):\n",
    "        display(\"number of variable:\" + str(len(np.unique(behav_per_chemical['variable']))))\n",
    "'''"
   ]
  },
  {
   "cell_type": "markdown",
   "metadata": {},
   "source": [
    "### Transpose time points "
   ]
  },
  {
   "cell_type": "code",
   "execution_count": null,
   "metadata": {
    "scrolled": true
   },
   "outputs": [],
   "source": [
    "start_time = time.time()\n",
    "       \n",
    "def reformat(chemical_index, behav_select, reformatted):\n",
    "    behav_per_chemical = behav_select.loc[behav_select['chemical.id'] == chemical_index,:]\n",
    "    #print (behav_per_chemical)\n",
    "\n",
    "    # Append chemical_plate_well as a unique identifier\n",
    "    # takes long time (1 min?)\n",
    "    behav_per_chemical.insert(0, 'chemical_plate_well', behav_per_chemical.loc[:,['chemical.id','plate.id', 'well']].apply(lambda x: '_'.join(x.map(str)), axis = 1))\n",
    "    \n",
    "    for cpw in np.unique(behav_per_chemical.chemical_plate_well):\n",
    "        #print (str(cpw))\n",
    "        per_cpw = behav_per_chemical.loc[behav_per_chemical.chemical_plate_well == cpw,:]\n",
    "        per_cpw_grouped = per_cpw.groupby(['chemical.id', 'plate.id', 'well'])\n",
    "        for name, group in per_cpw_grouped:\n",
    "            final = pd.DataFrame(\n",
    "                    {\n",
    "                    'chemical.id': np.unique(per_cpw['chemical.id']),\n",
    "                    'plate.id': np.unique(per_cpw['plate.id']),\n",
    "                    'well': np.unique(per_cpw['well']),\n",
    "                    'chemical_plate_well': np.unique(per_cpw['chemical_plate_well']),\n",
    "                    'conc': np.unique(per_cpw['conc'])\n",
    "                    })\n",
    "            # Append additonal columns corresponding to time points\n",
    "            for time_point in np.arange(len(np.unique(group.variable))):\n",
    "                #print (\"np.unique(group.variable):\"+str(np.unique(group.variable)))\n",
    "                if (len(np.unique(group.variable)) == 15):\n",
    "                    time_point = time_point + 3\n",
    "                variable = 't'+ str(time_point)\n",
    "                #print (\"\\nvariable:\"+str(variable))\n",
    "                final = pd.concat([final, pd.DataFrame({variable: per_cpw.value[per_cpw.variable == variable].values})],axis = 1)\n",
    "            reformatted = pd.concat([reformatted, final])\n",
    "    return reformatted\n",
    "########### end of def reformat(chemical_index, behav_select, reformatted):\n",
    "\n",
    "\n",
    "reformatted = pd.DataFrame()\n",
    "\n",
    "#full_devel = \"full\"\n",
    "full_devel = \"devel\"\n",
    "\n",
    "chemical_id_from_here = np.unique(behav_all_data['chemical.id'])\n",
    "\n",
    "if (full_devel == \"devel\"):\n",
    "    randomly_chosen = random.sample(set(chemical_id_from_here), 5)\n",
    "    chemical_id_from_here = []\n",
    "    for i in range(len(randomly_chosen)):\n",
    "        chemical_id_from_here.append(randomly_chosen[i])\n",
    "    \n",
    "for chemical_index in chemical_id_from_here:\n",
    "    print(\"chemical_index:\" + str(chemical_index))\n",
    "    reformatted = reformat(chemical_index, behav_select, reformatted)\n",
    "\n",
    "end_time = time.time()\n",
    "time_took = str(round((end_time-start_time), 1)) + \" seconds\"\n",
    "print (\"Done, it took:\"+str(time_took)) \n",
    "# took 2 minutes for 2 chemicals"
   ]
  },
  {
   "cell_type": "code",
   "execution_count": null,
   "metadata": {},
   "outputs": [],
   "source": [
    "# ds = pd.Series({\"Column\": len_group_variable})\n",
    "# plt.figure(figsize=(8,4))\n",
    "# sns.countplot(x=\"Column\", data=ds)\n",
    "# plt.show()"
   ]
  },
  {
   "cell_type": "code",
   "execution_count": null,
   "metadata": {},
   "outputs": [],
   "source": [
    "display(reformatted.head())"
   ]
  },
  {
   "cell_type": "code",
   "execution_count": null,
   "metadata": {},
   "outputs": [],
   "source": [
    "reformatted_data_filename = str(complete_input_file_path[:-9]) + \"_wide_t0_t239_\" + str(full_devel) + \".csv\"\n",
    "display (\"reformatted_data_filename:\", reformatted_data_filename)\n",
    "reformatted.to_csv(reformatted_data_filename,index=False)\n",
    "\n",
    "# 15 variables\n",
    "#reformatted_data_filename = str(complete_input_file_path[:-9]) + \"_wide_t0_t239_\" + str(full_devel) + \"_w_non_240_endpoints.csv\"\n",
    "#reformatted_w_non_240_endpoints.to_csv(reformatted_data_filename,index=False)"
   ]
  },
  {
   "cell_type": "code",
   "execution_count": null,
   "metadata": {},
   "outputs": [],
   "source": [
    "display(len(np.unique(reformatted['chemical.id'])))\n",
    "#display(len(np.unique(reformatted_w_non_240_endpoints['chemical.id'])))"
   ]
  },
  {
   "cell_type": "code",
   "execution_count": null,
   "metadata": {},
   "outputs": [],
   "source": []
  }
 ],
 "metadata": {
  "kernelspec": {
   "display_name": "Python 3",
   "language": "python",
   "name": "python3"
  },
  "language_info": {
   "codemirror_mode": {
    "name": "ipython",
    "version": 3
   },
   "file_extension": ".py",
   "mimetype": "text/x-python",
   "name": "python",
   "nbconvert_exporter": "python",
   "pygments_lexer": "ipython3",
   "version": "3.7.8"
  }
 },
 "nbformat": 4,
 "nbformat_minor": 4
}
