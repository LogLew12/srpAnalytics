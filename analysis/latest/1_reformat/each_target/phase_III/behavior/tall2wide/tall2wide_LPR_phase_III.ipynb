{
 "cells": [
  {
   "cell_type": "code",
   "execution_count": 1,
   "metadata": {},
   "outputs": [],
   "source": [
    "import numpy as np\n",
    "import pandas as pd\n",
    "import matplotlib.pyplot as plt\n",
    "import seaborn as sns\n",
    "import os, time\n",
    "\n",
    "import warnings\n",
    "warnings.filterwarnings('ignore')"
   ]
  },
  {
   "cell_type": "code",
   "execution_count": 2,
   "metadata": {},
   "outputs": [
    {
     "name": "stdout",
     "output_type": "stream",
     "text": [
      "/Users/kimd999/research/script_not_in_dropbox/srpAnalytics/analysis/latest/1_reformat/phase_III/behavior/tall2wide\n"
     ]
    }
   ],
   "source": [
    "starting_dir = os.getcwd()\n",
    "print (starting_dir)"
   ]
  },
  {
   "cell_type": "markdown",
   "metadata": {},
   "source": [
    "### Reformat LPR behavioral data"
   ]
  },
  {
   "cell_type": "code",
   "execution_count": 3,
   "metadata": {},
   "outputs": [
    {
     "data": {
      "text/plain": [
       "215"
      ]
     },
     "metadata": {},
     "output_type": "display_data"
    },
    {
     "data": {
      "text/html": [
       "<div>\n",
       "<style scoped>\n",
       "    .dataframe tbody tr th:only-of-type {\n",
       "        vertical-align: middle;\n",
       "    }\n",
       "\n",
       "    .dataframe tbody tr th {\n",
       "        vertical-align: top;\n",
       "    }\n",
       "\n",
       "    .dataframe thead th {\n",
       "        text-align: right;\n",
       "    }\n",
       "</style>\n",
       "<table border=\"1\" class=\"dataframe\">\n",
       "  <thead>\n",
       "    <tr style=\"text-align: right;\">\n",
       "      <th></th>\n",
       "      <th>chemical.id</th>\n",
       "      <th>bottle.id</th>\n",
       "      <th>conc</th>\n",
       "      <th>plate.id</th>\n",
       "      <th>well</th>\n",
       "      <th>variable</th>\n",
       "      <th>value</th>\n",
       "    </tr>\n",
       "  </thead>\n",
       "  <tbody>\n",
       "    <tr>\n",
       "      <th>0</th>\n",
       "      <td>234</td>\n",
       "      <td>NTP DNT 91-A1</td>\n",
       "      <td>0.0</td>\n",
       "      <td>14389</td>\n",
       "      <td>H01</td>\n",
       "      <td>t0</td>\n",
       "      <td>17.223000</td>\n",
       "    </tr>\n",
       "    <tr>\n",
       "      <th>1</th>\n",
       "      <td>234</td>\n",
       "      <td>NTP DNT 91-A1</td>\n",
       "      <td>0.0</td>\n",
       "      <td>14389</td>\n",
       "      <td>H02</td>\n",
       "      <td>t0</td>\n",
       "      <td>12.876000</td>\n",
       "    </tr>\n",
       "    <tr>\n",
       "      <th>2</th>\n",
       "      <td>234</td>\n",
       "      <td>NTP DNT 91-A1</td>\n",
       "      <td>0.0</td>\n",
       "      <td>14389</td>\n",
       "      <td>H03</td>\n",
       "      <td>t0</td>\n",
       "      <td>24.156000</td>\n",
       "    </tr>\n",
       "    <tr>\n",
       "      <th>3</th>\n",
       "      <td>234</td>\n",
       "      <td>NTP DNT 91-A1</td>\n",
       "      <td>0.0</td>\n",
       "      <td>14389</td>\n",
       "      <td>H04</td>\n",
       "      <td>t0</td>\n",
       "      <td>31.421999</td>\n",
       "    </tr>\n",
       "    <tr>\n",
       "      <th>4</th>\n",
       "      <td>234</td>\n",
       "      <td>NTP DNT 91-A1</td>\n",
       "      <td>0.0</td>\n",
       "      <td>14389</td>\n",
       "      <td>H05</td>\n",
       "      <td>t0</td>\n",
       "      <td>36.917999</td>\n",
       "    </tr>\n",
       "  </tbody>\n",
       "</table>\n",
       "</div>"
      ],
      "text/plain": [
       "   chemical.id      bottle.id  conc  plate.id well variable      value\n",
       "0          234  NTP DNT 91-A1   0.0     14389  H01       t0  17.223000\n",
       "1          234  NTP DNT 91-A1   0.0     14389  H02       t0  12.876000\n",
       "2          234  NTP DNT 91-A1   0.0     14389  H03       t0  24.156000\n",
       "3          234  NTP DNT 91-A1   0.0     14389  H04       t0  31.421999\n",
       "4          234  NTP DNT 91-A1   0.0     14389  H05       t0  36.917999"
      ]
     },
     "metadata": {},
     "output_type": "display_data"
    }
   ],
   "source": [
    "#mac\n",
    "complete_input_file_path= '/Users/kimd999/research/projects/toxicity/per_each_data/phase_III/original/behavior/Tanguay_Phase_3_zf_LPR_data_PNNL_2021MAR23.csv'\n",
    "\n",
    "#constance\n",
    "#complete_input_file_path= '/people/kimd999/tox/phase_III/Tanguay_Phase_3_zf_LPR_data_PNNL_2021MAR23.csv'\n",
    "\n",
    "behav_all_data = pd.read_csv(complete_input_file_path, header = 0)\n",
    "display(len(np.unique(behav_all_data['chemical.id'])))\n",
    "display(behav_all_data.head())\n",
    "#display(behav_all_data.tail())"
   ]
  },
  {
   "cell_type": "code",
   "execution_count": 4,
   "metadata": {},
   "outputs": [
    {
     "data": {
      "text/html": [
       "<div>\n",
       "<style scoped>\n",
       "    .dataframe tbody tr th:only-of-type {\n",
       "        vertical-align: middle;\n",
       "    }\n",
       "\n",
       "    .dataframe tbody tr th {\n",
       "        vertical-align: top;\n",
       "    }\n",
       "\n",
       "    .dataframe thead th {\n",
       "        text-align: right;\n",
       "    }\n",
       "</style>\n",
       "<table border=\"1\" class=\"dataframe\">\n",
       "  <thead>\n",
       "    <tr style=\"text-align: right;\">\n",
       "      <th></th>\n",
       "      <th>chemical.id</th>\n",
       "      <th>conc</th>\n",
       "      <th>plate.id</th>\n",
       "      <th>well</th>\n",
       "      <th>variable</th>\n",
       "      <th>value</th>\n",
       "    </tr>\n",
       "  </thead>\n",
       "  <tbody>\n",
       "    <tr>\n",
       "      <th>0</th>\n",
       "      <td>234</td>\n",
       "      <td>0.0</td>\n",
       "      <td>14389</td>\n",
       "      <td>H01</td>\n",
       "      <td>t0</td>\n",
       "      <td>17.223000</td>\n",
       "    </tr>\n",
       "    <tr>\n",
       "      <th>1</th>\n",
       "      <td>234</td>\n",
       "      <td>0.0</td>\n",
       "      <td>14389</td>\n",
       "      <td>H02</td>\n",
       "      <td>t0</td>\n",
       "      <td>12.876000</td>\n",
       "    </tr>\n",
       "    <tr>\n",
       "      <th>2</th>\n",
       "      <td>234</td>\n",
       "      <td>0.0</td>\n",
       "      <td>14389</td>\n",
       "      <td>H03</td>\n",
       "      <td>t0</td>\n",
       "      <td>24.156000</td>\n",
       "    </tr>\n",
       "    <tr>\n",
       "      <th>3</th>\n",
       "      <td>234</td>\n",
       "      <td>0.0</td>\n",
       "      <td>14389</td>\n",
       "      <td>H04</td>\n",
       "      <td>t0</td>\n",
       "      <td>31.421999</td>\n",
       "    </tr>\n",
       "    <tr>\n",
       "      <th>4</th>\n",
       "      <td>234</td>\n",
       "      <td>0.0</td>\n",
       "      <td>14389</td>\n",
       "      <td>H05</td>\n",
       "      <td>t0</td>\n",
       "      <td>36.917999</td>\n",
       "    </tr>\n",
       "  </tbody>\n",
       "</table>\n",
       "</div>"
      ],
      "text/plain": [
       "   chemical.id  conc  plate.id well variable      value\n",
       "0          234   0.0     14389  H01       t0  17.223000\n",
       "1          234   0.0     14389  H02       t0  12.876000\n",
       "2          234   0.0     14389  H03       t0  24.156000\n",
       "3          234   0.0     14389  H04       t0  31.421999\n",
       "4          234   0.0     14389  H05       t0  36.917999"
      ]
     },
     "execution_count": 4,
     "metadata": {},
     "output_type": "execute_result"
    }
   ],
   "source": [
    "# Keep only relevant columns\n",
    "columns_to_keep = ['chemical.id', 'conc', 'plate.id', 'well', 'variable', 'value']\n",
    "behav_all_data_select = behav_all_data.loc[:,columns_to_keep]\n",
    "behav_all_data_select.head()"
   ]
  },
  {
   "cell_type": "code",
   "execution_count": 5,
   "metadata": {},
   "outputs": [
    {
     "data": {
      "text/plain": [
       "'chemical_id_count:215'"
      ]
     },
     "metadata": {},
     "output_type": "display_data"
    }
   ],
   "source": [
    "display(\"chemical_id_count:\"+str(len(np.unique(behav_all_data_select['chemical.id']))))"
   ]
  },
  {
   "cell_type": "code",
   "execution_count": 6,
   "metadata": {},
   "outputs": [],
   "source": [
    "#behav_all_data_select = behav_all_data_select.dropna(subset=['chemical.id'])\n",
    "### no row is dropped for this phase III data\n",
    "\n",
    "#display(\"chemical_id_count:\"+str(len(np.unique(behav_all_data_select['chemical.id']))))"
   ]
  },
  {
   "cell_type": "markdown",
   "metadata": {},
   "source": [
    "### Transpose time points"
   ]
  },
  {
   "cell_type": "code",
   "execution_count": null,
   "metadata": {
    "scrolled": true
   },
   "outputs": [
    {
     "name": "stdout",
     "output_type": "stream",
     "text": [
      "chemical_index:234\n",
      "len(behav_data_chemical):69120\n",
      "chemical_index:275\n",
      "len(behav_data_chemical):69120\n",
      "chemical_index:280\n",
      "len(behav_data_chemical):69120\n",
      "chemical_index:385\n",
      "len(behav_data_chemical):69120\n",
      "chemical_index:397\n",
      "len(behav_data_chemical):69120\n",
      "chemical_index:443\n",
      "len(behav_data_chemical):69120\n",
      "chemical_index:467\n",
      "len(behav_data_chemical):69120\n",
      "chemical_index:505\n",
      "len(behav_data_chemical):69120\n",
      "chemical_index:588\n",
      "len(behav_data_chemical):69120\n",
      "chemical_index:595\n",
      "len(behav_data_chemical):69120\n",
      "chemical_index:622\n",
      "len(behav_data_chemical):69120\n",
      "chemical_index:660\n",
      "len(behav_data_chemical):69120\n",
      "chemical_index:692\n",
      "len(behav_data_chemical):69120\n",
      "chemical_index:699\n",
      "len(behav_data_chemical):69120\n",
      "chemical_index:725\n",
      "len(behav_data_chemical):40320\n",
      "chemical_index:726\n",
      "len(behav_data_chemical):40320\n",
      "chemical_index:947\n",
      "len(behav_data_chemical):69120\n",
      "chemical_index:949\n",
      "len(behav_data_chemical):69120\n",
      "chemical_index:955\n",
      "len(behav_data_chemical):69120\n",
      "chemical_index:1016\n",
      "len(behav_data_chemical):40320\n",
      "chemical_index:1017\n",
      "len(behav_data_chemical):69120\n",
      "chemical_index:1031\n",
      "len(behav_data_chemical):69120\n",
      "chemical_index:1155\n",
      "len(behav_data_chemical):69120\n",
      "chemical_index:1174\n",
      "len(behav_data_chemical):69120\n",
      "chemical_index:1175\n",
      "len(behav_data_chemical):69120\n"
     ]
    }
   ],
   "source": [
    "start_time = time.time()\n",
    "\n",
    "reformatted_w_240_variables = pd.DataFrame()\n",
    "reformatted_w_non_240_variables = pd.DataFrame()\n",
    "    \n",
    "len_group_variable = []\n",
    "    \n",
    "full_devel = \"full\"\n",
    "#full_devel = \"devel\"\n",
    "\n",
    "if (full_devel == \"full\"):\n",
    "    # all chemicals\n",
    "    chemical_id_from_here = np.unique(behav_all_data['chemical.id'])\n",
    "else: # full_devel = \"devel\"\n",
    "    chemical_id_from_here = np.unique([234])\n",
    "    \n",
    "for chemical_index in chemical_id_from_here:\n",
    "    behav_data_chemical = behav_all_data_select.loc[behav_all_data['chemical.id'] == chemical_index,:]\n",
    "    print(\"chemical_index:\" + str(chemical_index))\n",
    "    \n",
    "    print(\"len(behav_data_chemical):\" + str(len(behav_data_chemical)))\n",
    "    \n",
    "    \n",
    "    # Append chemical_plate_well as a unique identifier\n",
    "    behav_data_chemical.insert(0, 'chemical_plate_well', behav_data_chemical.loc[:,['chemical.id','plate.id', 'well']].apply(lambda x: '_'.join(x.map(str)), axis = 1))\n",
    "    \n",
    "    #output_filename = str(chemical_index) + \".csv\"\n",
    "    #behav_data_chemical.to_csv(output_filename,index=False)\n",
    "    \n",
    "    for cpw in np.unique(behav_data_chemical.chemical_plate_well):\n",
    "        per_cpw = behav_data_chemical.loc[behav_data_chemical.chemical_plate_well == cpw,:]\n",
    "\n",
    "        per_cpw_grouped = per_cpw.groupby(['chemical.id', 'plate.id', 'well'])\n",
    "        for name, group in per_cpw_grouped:\n",
    "            \n",
    "            #display(\"group.variable\", group.variable.head())\n",
    "            #len_group_variable.append(str(len(group.variable)))\n",
    "            len_group_variable.append(str(len(np.unique(group.variable))))\n",
    "            temp = pd.DataFrame(\n",
    "                    {\n",
    "                    'chemical.id': np.unique(per_cpw['chemical.id']),\n",
    "                    'plate.id': np.unique(per_cpw['plate.id']),\n",
    "                    'well': np.unique(per_cpw['well']),\n",
    "                    'chemical_plate_well': np.unique(per_cpw['chemical_plate_well']),\n",
    "                    'conc': np.unique(per_cpw['conc'])\n",
    "                    })\n",
    "            #display(\"before concat:\", temp.head())\n",
    "            \n",
    "            # Append additonal columns corresponding to time points\n",
    "            for time_point in np.arange(len(group.variable)):\n",
    "                end_point = 't'+ str(time_point)\n",
    "                #print (\"\\nend_point:\"+str(end_point))\n",
    "                #print (\"pd.DataFrame({end_point: per_cpw.value[per_cpw.variable == end_point]}):\"\\\n",
    "                #   +str(pd.DataFrame({end_point: per_cpw.value[per_cpw.variable == end_point]})))\n",
    "                #print (\"pd.DataFrame({end_point: per_cpw.value[per_cpw.variable == end_point].values}):\"\\\n",
    "                #   +str(pd.DataFrame({end_point: per_cpw.value[per_cpw.variable == end_point].values})))\n",
    "                temp = pd.concat([temp, pd.DataFrame({end_point: per_cpw.value[per_cpw.variable == end_point].values})],axis = 1)\n",
    "            #display(\"after concat:\", temp.head())\n",
    "\n",
    "\n",
    "            if(len(group.variable) == 240): # because we are dealing t0-t239\n",
    "                reformatted_w_240_variables = pd.concat([reformatted_w_240_variables, temp])\n",
    "            else: # len(group.variable) != 240\n",
    "                reformatted_w_non_240_variables = pd.concat([reformatted_w_non_240_variables, temp])\n",
    "             \n",
    "\n",
    "end_time = time.time()\n",
    "time_took = str(round((end_time-start_time), 1)) + \" seconds\"\n",
    "print (\"Done, it took:\"+str(time_took)) \n",
    "# took 2 minutes for 2 chemicals"
   ]
  },
  {
   "cell_type": "code",
   "execution_count": null,
   "metadata": {},
   "outputs": [],
   "source": [
    "# ds = pd.Series({\"Column\": len_group_variable})\n",
    "# plt.figure(figsize=(8,4))\n",
    "# sns.countplot(x=\"Column\", data=ds)\n",
    "# plt.show()"
   ]
  },
  {
   "cell_type": "code",
   "execution_count": null,
   "metadata": {},
   "outputs": [],
   "source": [
    "display(reformatted_w_240_endpoints)\n",
    "display(reformatted_w_non_240_endpoints)"
   ]
  },
  {
   "cell_type": "code",
   "execution_count": null,
   "metadata": {},
   "outputs": [],
   "source": [
    "reformatted_data_filename = str(complete_input_file_path[:-9]) + \"_wide_t0_t239_\" + str(full_devel) + \"_w_240_endpoints.csv\"\n",
    "reformatted_w_240_endpoints.to_csv(reformatted_data_filename,index=False)\n",
    "\n",
    "reformatted_data_filename = str(complete_input_file_path[:-9]) + \"_wide_t0_t239_\" + str(full_devel) + \"_w_non_240_endpoints.csv\"\n",
    "reformatted_w_non_240_endpoints.to_csv(reformatted_data_filename,index=False)"
   ]
  },
  {
   "cell_type": "code",
   "execution_count": null,
   "metadata": {},
   "outputs": [],
   "source": [
    "#display(len(np.unique(reformatted_w_240_endpoints['chemical.id'])))\n",
    "display(len(np.unique(reformatted_w_non_240_endpoints['chemical.id'])))"
   ]
  },
  {
   "cell_type": "code",
   "execution_count": null,
   "metadata": {},
   "outputs": [],
   "source": [
    "reformatted_w_non_240_endpoints_155 = reformatted_w_non_240_endpoints[reformatted_w_non_240_endpoints['chemical.id']==155]\n",
    "\n",
    "display(reformatted_w_non_240_endpoints_155.head())\n",
    "display(reformatted_w_non_240_endpoints_155.tail())\n",
    "\n",
    "output_filename = str(complete_input_file_path[:-4]) + \"_155_chemical_id.csv\"\n",
    "print (\"output_filename:\"+str(output_filename))\n",
    "reformatted_w_non_240_endpoints_155.to_csv(output_filename, index=False)"
   ]
  },
  {
   "cell_type": "code",
   "execution_count": null,
   "metadata": {},
   "outputs": [],
   "source": [
    "reformatted_w_non_240_endpoints_163 = reformatted_w_non_240_endpoints[reformatted_w_non_240_endpoints['chemical.id']==163]\n",
    "\n",
    "display(reformatted_w_non_240_endpoints_163.head())\n",
    "display(reformatted_w_non_240_endpoints_163.tail())\n",
    "\n",
    "output_filename = str(complete_input_file_path[:-4]) + \"_163_chemical_id.csv\"\n",
    "print (\"output_filename:\"+str(output_filename))\n",
    "reformatted_w_non_240_endpoints_163.to_csv(output_filename, index=False)"
   ]
  },
  {
   "cell_type": "code",
   "execution_count": null,
   "metadata": {},
   "outputs": [],
   "source": []
  }
 ],
 "metadata": {
  "kernelspec": {
   "display_name": "Python 3",
   "language": "python",
   "name": "python3"
  },
  "language_info": {
   "codemirror_mode": {
    "name": "ipython",
    "version": 3
   },
   "file_extension": ".py",
   "mimetype": "text/x-python",
   "name": "python",
   "nbconvert_exporter": "python",
   "pygments_lexer": "ipython3",
   "version": "3.7.8"
  }
 },
 "nbformat": 4,
 "nbformat_minor": 4
}
