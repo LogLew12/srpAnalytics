{
 "cells": [
  {
   "cell_type": "code",
   "execution_count": 1,
   "metadata": {},
   "outputs": [],
   "source": [
    "import numpy as np\n",
    "import pandas as pd\n",
    "import os, time\n",
    "from matplotlib import pyplot as plt\n",
    "import seaborn as sns\n",
    "\n",
    "import warnings\n",
    "warnings.filterwarnings('ignore')"
   ]
  },
  {
   "cell_type": "code",
   "execution_count": 2,
   "metadata": {},
   "outputs": [
    {
     "name": "stdout",
     "output_type": "stream",
     "text": [
      "/Users/kimd999/research/script_not_in_dropbox/srpAnalytics/analysis/latest/2_analysis\n"
     ]
    }
   ],
   "source": [
    "starting_dir = os.getcwd()\n",
    "print (starting_dir)"
   ]
  },
  {
   "cell_type": "code",
   "execution_count": 5,
   "metadata": {},
   "outputs": [],
   "source": [
    "#complete_input_file_path = '/Users/kimd999/research/projects/toxicity/per_each_data/phase_I_II/input/LPR/tall/344_zf_LPR_data_phase_1_2_2020JUNE25_updated_plate_id_for_TX_tall.csv'\n",
    "complete_input_file_path = '/Users/kimd999/research/projects/toxicity/per_each_data/phase_I_II/input/LPR/after_Lisa_fix/full/15_endpoints/wide/344_zf_LPR_data_phase_1_2_2020JUNE25_updated_plate_id_for_TX_tall_fixed_full_w_15_endpoints_wide_t3_t17_full.csv'\n",
    "df = pd.read_csv(complete_input_file_path, header = 0)"
   ]
  },
  {
   "cell_type": "code",
   "execution_count": 8,
   "metadata": {},
   "outputs": [
    {
     "data": {
      "text/plain": [
       "244"
      ]
     },
     "metadata": {},
     "output_type": "display_data"
    },
    {
     "data": {
      "text/plain": [
       "array([ 163.,  165.,  172.,  176.,  197.,  332.,  337.,  338.,  339.,\n",
       "        342.,  355.,  357.,  362.,  363.,  370.,  373.,  380.,  395.,\n",
       "        396.,  401.,  403.,  413.,  421.,  470.,  471.,  472.,  481.,\n",
       "        557.,  560.,  581.,  585.,  599.,  606.,  607.,  702.,  740.,\n",
       "        951., 1119., 1167., 1183., 1187., 1268., 1271., 1273., 1310.,\n",
       "       1327., 1363., 1383., 1391., 1450., 1454., 1455., 1532., 1535.,\n",
       "       1540., 1600., 1606., 1608., 1627., 1631., 1664., 1666., 1677.,\n",
       "       1689., 1694., 1704., 1706., 1762., 1764., 1771., 1790., 1796.,\n",
       "       1807., 1808., 1809., 1816., 1827., 1845., 1846., 1853., 1890.,\n",
       "       1906., 1912., 1929., 1944., 1961., 1968., 1982., 2098., 2103.,\n",
       "       2104., 2105., 2137., 2141., 2154., 2156., 2159., 2165., 2185.,\n",
       "       2186., 2187., 2191., 2371., 2373., 2374., 2406., 2411., 2413.,\n",
       "       2414., 2415., 2417., 2432., 2467., 2496., 2506., 2573., 2596.,\n",
       "       2638., 2655., 2657., 2661., 2686., 2688., 2691., 2706., 2723.,\n",
       "       2726., 2743., 2752., 2772., 2827., 2849., 2877., 2886., 2893.,\n",
       "       2896., 2960., 2989., 3009., 3012., 3022., 3055., 3104., 3127.,\n",
       "       3139., 3160., 3168., 3169.,   nan,   nan,   nan,   nan,   nan,\n",
       "         nan,   nan,   nan,   nan,   nan,   nan,   nan,   nan,   nan,\n",
       "         nan,   nan,   nan,   nan,   nan,   nan,   nan,   nan,   nan,\n",
       "         nan,   nan,   nan,   nan,   nan,   nan,   nan,   nan,   nan,\n",
       "         nan,   nan,   nan,   nan,   nan,   nan,   nan,   nan,   nan,\n",
       "         nan,   nan,   nan,   nan,   nan,   nan,   nan,   nan,   nan,\n",
       "         nan,   nan,   nan,   nan,   nan,   nan,   nan,   nan,   nan,\n",
       "         nan,   nan,   nan,   nan,   nan,   nan,   nan,   nan,   nan,\n",
       "         nan,   nan,   nan,   nan,   nan,   nan,   nan,   nan,   nan,\n",
       "         nan,   nan,   nan,   nan,   nan,   nan,   nan,   nan,   nan,\n",
       "         nan,   nan,   nan,   nan,   nan,   nan,   nan,   nan,   nan,\n",
       "         nan])"
      ]
     },
     "metadata": {},
     "output_type": "display_data"
    }
   ],
   "source": [
    "df_chemcal_id = df[['chemical.id']]\n",
    "display(len(np.unique(df_chemcal_id)))\n",
    "display(np.unique(df_chemcal_id))\n",
    "df_chemcal_id.to_csv(\"chemical_id.csv\",index=False)"
   ]
  },
  {
   "cell_type": "code",
   "execution_count": 11,
   "metadata": {},
   "outputs": [
    {
     "data": {
      "text/html": [
       "<div>\n",
       "<style scoped>\n",
       "    .dataframe tbody tr th:only-of-type {\n",
       "        vertical-align: middle;\n",
       "    }\n",
       "\n",
       "    .dataframe tbody tr th {\n",
       "        vertical-align: top;\n",
       "    }\n",
       "\n",
       "    .dataframe thead th {\n",
       "        text-align: right;\n",
       "    }\n",
       "</style>\n",
       "<table border=\"1\" class=\"dataframe\">\n",
       "  <thead>\n",
       "    <tr style=\"text-align: right;\">\n",
       "      <th></th>\n",
       "      <th>chemical.id</th>\n",
       "      <th>bottle.id</th>\n",
       "      <th>conc</th>\n",
       "      <th>plate.id</th>\n",
       "      <th>well</th>\n",
       "      <th>endpoint</th>\n",
       "      <th>value</th>\n",
       "    </tr>\n",
       "  </thead>\n",
       "  <tbody>\n",
       "    <tr>\n",
       "      <th>4236920</th>\n",
       "      <td>53</td>\n",
       "      <td>C96423</td>\n",
       "      <td>NaN</td>\n",
       "      <td>NaN</td>\n",
       "      <td>NaN</td>\n",
       "      <td>t0</td>\n",
       "      <td>NaN</td>\n",
       "    </tr>\n",
       "    <tr>\n",
       "      <th>4255304</th>\n",
       "      <td>53</td>\n",
       "      <td>C96423</td>\n",
       "      <td>0.0</td>\n",
       "      <td>9289</td>\n",
       "      <td>A06</td>\n",
       "      <td>t0</td>\n",
       "      <td>0.0</td>\n",
       "    </tr>\n",
       "    <tr>\n",
       "      <th>4255305</th>\n",
       "      <td>53</td>\n",
       "      <td>C96423</td>\n",
       "      <td>0.0</td>\n",
       "      <td>9289</td>\n",
       "      <td>A12</td>\n",
       "      <td>t0</td>\n",
       "      <td>0.0</td>\n",
       "    </tr>\n",
       "    <tr>\n",
       "      <th>4255306</th>\n",
       "      <td>53</td>\n",
       "      <td>C96423</td>\n",
       "      <td>0.0</td>\n",
       "      <td>9289</td>\n",
       "      <td>B06</td>\n",
       "      <td>t0</td>\n",
       "      <td>0.0</td>\n",
       "    </tr>\n",
       "    <tr>\n",
       "      <th>4255307</th>\n",
       "      <td>53</td>\n",
       "      <td>C96423</td>\n",
       "      <td>0.0</td>\n",
       "      <td>9289</td>\n",
       "      <td>B12</td>\n",
       "      <td>t0</td>\n",
       "      <td>0.0</td>\n",
       "    </tr>\n",
       "  </tbody>\n",
       "</table>\n",
       "</div>"
      ],
      "text/plain": [
       "         chemical.id bottle.id  conc plate.id well endpoint  value\n",
       "4236920           53    C96423   NaN      NaN  NaN       t0    NaN\n",
       "4255304           53    C96423   0.0     9289  A06       t0    0.0\n",
       "4255305           53    C96423   0.0     9289  A12       t0    0.0\n",
       "4255306           53    C96423   0.0     9289  B06       t0    0.0\n",
       "4255307           53    C96423   0.0     9289  B12       t0    0.0"
      ]
     },
     "metadata": {},
     "output_type": "display_data"
    },
    {
     "data": {
      "text/html": [
       "<div>\n",
       "<style scoped>\n",
       "    .dataframe tbody tr th:only-of-type {\n",
       "        vertical-align: middle;\n",
       "    }\n",
       "\n",
       "    .dataframe tbody tr th {\n",
       "        vertical-align: top;\n",
       "    }\n",
       "\n",
       "    .dataframe thead th {\n",
       "        text-align: right;\n",
       "    }\n",
       "</style>\n",
       "<table border=\"1\" class=\"dataframe\">\n",
       "  <thead>\n",
       "    <tr style=\"text-align: right;\">\n",
       "      <th></th>\n",
       "      <th>chemical.id</th>\n",
       "      <th>bottle.id</th>\n",
       "      <th>conc</th>\n",
       "      <th>plate.id</th>\n",
       "      <th>well</th>\n",
       "      <th>endpoint</th>\n",
       "      <th>value</th>\n",
       "    </tr>\n",
       "  </thead>\n",
       "  <tbody>\n",
       "    <tr>\n",
       "      <th>11607370</th>\n",
       "      <td>53</td>\n",
       "      <td>C96423</td>\n",
       "      <td>50.0</td>\n",
       "      <td>9290</td>\n",
       "      <td>F07</td>\n",
       "      <td>t239</td>\n",
       "      <td>0.0</td>\n",
       "    </tr>\n",
       "    <tr>\n",
       "      <th>11607371</th>\n",
       "      <td>53</td>\n",
       "      <td>C96423</td>\n",
       "      <td>50.0</td>\n",
       "      <td>9290</td>\n",
       "      <td>G01</td>\n",
       "      <td>t239</td>\n",
       "      <td>26.4</td>\n",
       "    </tr>\n",
       "    <tr>\n",
       "      <th>11607372</th>\n",
       "      <td>53</td>\n",
       "      <td>C96423</td>\n",
       "      <td>50.0</td>\n",
       "      <td>9290</td>\n",
       "      <td>G07</td>\n",
       "      <td>t239</td>\n",
       "      <td>4.4</td>\n",
       "    </tr>\n",
       "    <tr>\n",
       "      <th>11607373</th>\n",
       "      <td>53</td>\n",
       "      <td>C96423</td>\n",
       "      <td>50.0</td>\n",
       "      <td>9290</td>\n",
       "      <td>H01</td>\n",
       "      <td>t239</td>\n",
       "      <td>0.0</td>\n",
       "    </tr>\n",
       "    <tr>\n",
       "      <th>11607374</th>\n",
       "      <td>53</td>\n",
       "      <td>C96423</td>\n",
       "      <td>50.0</td>\n",
       "      <td>9290</td>\n",
       "      <td>H07</td>\n",
       "      <td>t239</td>\n",
       "      <td>17.6</td>\n",
       "    </tr>\n",
       "  </tbody>\n",
       "</table>\n",
       "</div>"
      ],
      "text/plain": [
       "          chemical.id bottle.id  conc plate.id well endpoint  value\n",
       "11607370           53    C96423  50.0     9290  F07     t239    0.0\n",
       "11607371           53    C96423  50.0     9290  G01     t239   26.4\n",
       "11607372           53    C96423  50.0     9290  G07     t239    4.4\n",
       "11607373           53    C96423  50.0     9290  H01     t239    0.0\n",
       "11607374           53    C96423  50.0     9290  H07     t239   17.6"
      ]
     },
     "metadata": {},
     "output_type": "display_data"
    }
   ],
   "source": [
    "df_part = df[df['chemical.id']==53]\n",
    "\n",
    "display(df_part.head())\n",
    "display(df_part.tail())\n",
    "\n",
    "output_filename = str(complete_input_file_path[:-4]) + \"_chemical_id_53.csv\"\n",
    "df_part.to_csv(output_filename, index=False)"
   ]
  },
  {
   "cell_type": "code",
   "execution_count": null,
   "metadata": {},
   "outputs": [],
   "source": []
  }
 ],
 "metadata": {
  "kernelspec": {
   "display_name": "Python 3",
   "language": "python",
   "name": "python3"
  },
  "language_info": {
   "codemirror_mode": {
    "name": "ipython",
    "version": 3
   },
   "file_extension": ".py",
   "mimetype": "text/x-python",
   "name": "python",
   "nbconvert_exporter": "python",
   "pygments_lexer": "ipython3",
   "version": "3.7.8"
  }
 },
 "nbformat": 4,
 "nbformat_minor": 4
}
