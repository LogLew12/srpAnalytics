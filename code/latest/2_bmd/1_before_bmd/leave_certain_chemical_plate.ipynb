{
 "cells": [
  {
   "cell_type": "code",
   "execution_count": 30,
   "metadata": {},
   "outputs": [
    {
     "name": "stdout",
     "output_type": "stream",
     "text": [
      "3.7.8\n"
     ]
    }
   ],
   "source": [
    "import numpy as np\n",
    "import pandas as pd\n",
    "import seaborn as sns\n",
    "import os, random, re, shutil, subprocess, sys, time\n",
    "\n",
    "from matplotlib.pyplot import figure\n",
    "\n",
    "from platform import python_version\n",
    "\n",
    "print(python_version())\n",
    "\n",
    "from scipy import stats\n",
    "\n",
    "import matplotlib.pyplot as plt\n",
    "\n",
    "import warnings\n",
    "warnings.filterwarnings('ignore')\n",
    "\n",
    "#mac\n",
    "util_path = \"/Users/kimd999/Dropbox/script/python/srpAnalytics/code/latest/util\"\n",
    "sys.path.insert(0, util_path)"
   ]
  },
  {
   "cell_type": "code",
   "execution_count": null,
   "metadata": {},
   "outputs": [],
   "source": [
    "starting_dir = os.getcwd()\n",
    "print (starting_dir)"
   ]
  },
  {
   "cell_type": "code",
   "execution_count": null,
   "metadata": {},
   "outputs": [],
   "source": [
    "# mac       - phase I, II, III - LPR - after_merging - 240 timepoints in min\n",
    "complete_file_path = '/Users/kimd999/research/projects/toxicity/per_each_data/phase_I_II_III/LPR/input/phase_I_II_III_LPR_240_timepoints_morpho_filtered_min.csv'\n",
    "# 383 unique chemicals, 923 unique plates\n",
    "\n",
    "df_lpr_min = pd.read_csv(complete_file_path, header = 0)\n",
    "df_lpr_min.head()\n",
    "#df_LPR.shape # (72826, 29)"
   ]
  },
  {
   "cell_type": "code",
   "execution_count": null,
   "metadata": {},
   "outputs": [],
   "source": [
    "## leave 1155 chemical only (caused a problem)\n",
    "df_lpr_min_per_1155_chemical_id = df_lpr_min.loc[df_lpr_min['chemical.id'] == 1155]\n",
    "\n",
    "plate_id_from_here = np.unique(df_lpr_min_per_1155_chemical_id['plate.id'])\n",
    "for plate_id in plate_id_from_here:\n",
    "    print(f\"plate_id:{plate_id}\\n\")\n",
    "\n",
    "    df_lpr_min_per_1155_chemical_id_plate_id = df_lpr_min_per_1155_chemical_id.loc[df_lpr_min_per_1155_chemical_id['plate.id'] == plate_id]\n",
    "#        df_lpr_min_per_chemical_id_plate_id_t_only = pd.DataFrame(df_lpr_min_per_chemical_id_plate_id.iloc[:,4:28])\n",
    "\n",
    "    print(f\"df_lpr_min_per_1155_chemical_id_plate_id:{df_lpr_min_per_1155_chemical_id_plate_id}\\n\")"
   ]
  },
  {
   "cell_type": "code",
   "execution_count": null,
   "metadata": {},
   "outputs": [],
   "source": []
  }
 ],
 "metadata": {
  "kernelspec": {
   "display_name": "Python 3",
   "language": "python",
   "name": "python3"
  },
  "language_info": {
   "codemirror_mode": {
    "name": "ipython",
    "version": 3
   },
   "file_extension": ".py",
   "mimetype": "text/x-python",
   "name": "python",
   "nbconvert_exporter": "python",
   "pygments_lexer": "ipython3",
   "version": "3.7.8"
  }
 },
 "nbformat": 4,
 "nbformat_minor": 4
}
