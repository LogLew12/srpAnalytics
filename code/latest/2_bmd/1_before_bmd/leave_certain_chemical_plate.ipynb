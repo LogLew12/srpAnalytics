{
 "cells": [
  {
   "cell_type": "code",
   "execution_count": 1,
   "metadata": {},
   "outputs": [
    {
     "name": "stdout",
     "output_type": "stream",
     "text": [
      "3.7.8\n"
     ]
    }
   ],
   "source": [
    "import numpy as np\n",
    "import pandas as pd\n",
    "import seaborn as sns\n",
    "import os, random, re, shutil, subprocess, sys, time\n",
    "\n",
    "from matplotlib.pyplot import figure\n",
    "\n",
    "from platform import python_version\n",
    "\n",
    "print(python_version())\n",
    "\n",
    "from scipy import stats\n",
    "\n",
    "import matplotlib.pyplot as plt\n",
    "\n",
    "import warnings\n",
    "warnings.filterwarnings('ignore')\n",
    "\n",
    "#mac\n",
    "util_path = \"/Users/kimd999/Dropbox/script/python/srpAnalytics/code/latest/util\"\n",
    "sys.path.insert(0, util_path)"
   ]
  },
  {
   "cell_type": "code",
   "execution_count": 2,
   "metadata": {},
   "outputs": [
    {
     "name": "stdout",
     "output_type": "stream",
     "text": [
      "/Users/kimd999/Dropbox/script/python/srpAnalytics/code/latest/2_bmd/1_before_bmd\n"
     ]
    }
   ],
   "source": [
    "starting_dir = os.getcwd()\n",
    "print (starting_dir)"
   ]
  },
  {
   "cell_type": "code",
   "execution_count": 3,
   "metadata": {},
   "outputs": [
    {
     "data": {
      "text/html": [
       "<div>\n",
       "<style scoped>\n",
       "    .dataframe tbody tr th:only-of-type {\n",
       "        vertical-align: middle;\n",
       "    }\n",
       "\n",
       "    .dataframe tbody tr th {\n",
       "        vertical-align: top;\n",
       "    }\n",
       "\n",
       "    .dataframe thead th {\n",
       "        text-align: right;\n",
       "    }\n",
       "</style>\n",
       "<table border=\"1\" class=\"dataframe\">\n",
       "  <thead>\n",
       "    <tr style=\"text-align: right;\">\n",
       "      <th></th>\n",
       "      <th>chemical.id</th>\n",
       "      <th>plate.id</th>\n",
       "      <th>well</th>\n",
       "      <th>chemical_plate_well</th>\n",
       "      <th>conc</th>\n",
       "      <th>AXIS</th>\n",
       "      <th>BRAI</th>\n",
       "      <th>CFIN</th>\n",
       "      <th>CIRC</th>\n",
       "      <th>DNC_</th>\n",
       "      <th>...</th>\n",
       "      <th>PE__</th>\n",
       "      <th>PFIN</th>\n",
       "      <th>PIG_</th>\n",
       "      <th>SM24</th>\n",
       "      <th>SNOU</th>\n",
       "      <th>SOMI</th>\n",
       "      <th>SWIM</th>\n",
       "      <th>TRUN</th>\n",
       "      <th>TR__</th>\n",
       "      <th>YSE_</th>\n",
       "    </tr>\n",
       "  </thead>\n",
       "  <tbody>\n",
       "    <tr>\n",
       "      <th>0</th>\n",
       "      <td>101</td>\n",
       "      <td>10021</td>\n",
       "      <td>A01</td>\n",
       "      <td>101_10021_A01</td>\n",
       "      <td>0.0100</td>\n",
       "      <td>NaN</td>\n",
       "      <td>NaN</td>\n",
       "      <td>NaN</td>\n",
       "      <td>NaN</td>\n",
       "      <td>0.0</td>\n",
       "      <td>...</td>\n",
       "      <td>NaN</td>\n",
       "      <td>NaN</td>\n",
       "      <td>NaN</td>\n",
       "      <td>NaN</td>\n",
       "      <td>NaN</td>\n",
       "      <td>NaN</td>\n",
       "      <td>NaN</td>\n",
       "      <td>NaN</td>\n",
       "      <td>NaN</td>\n",
       "      <td>NaN</td>\n",
       "    </tr>\n",
       "    <tr>\n",
       "      <th>1</th>\n",
       "      <td>101</td>\n",
       "      <td>10021</td>\n",
       "      <td>A02</td>\n",
       "      <td>101_10021_A02</td>\n",
       "      <td>0.0050</td>\n",
       "      <td>0.0</td>\n",
       "      <td>0.0</td>\n",
       "      <td>0.0</td>\n",
       "      <td>0.0</td>\n",
       "      <td>0.0</td>\n",
       "      <td>...</td>\n",
       "      <td>0.0</td>\n",
       "      <td>0.0</td>\n",
       "      <td>0.0</td>\n",
       "      <td>0.0</td>\n",
       "      <td>0.0</td>\n",
       "      <td>0.0</td>\n",
       "      <td>0.0</td>\n",
       "      <td>0.0</td>\n",
       "      <td>0.0</td>\n",
       "      <td>0.0</td>\n",
       "    </tr>\n",
       "    <tr>\n",
       "      <th>2</th>\n",
       "      <td>101</td>\n",
       "      <td>10021</td>\n",
       "      <td>A03</td>\n",
       "      <td>101_10021_A03</td>\n",
       "      <td>0.0025</td>\n",
       "      <td>0.0</td>\n",
       "      <td>0.0</td>\n",
       "      <td>0.0</td>\n",
       "      <td>0.0</td>\n",
       "      <td>0.0</td>\n",
       "      <td>...</td>\n",
       "      <td>0.0</td>\n",
       "      <td>0.0</td>\n",
       "      <td>0.0</td>\n",
       "      <td>0.0</td>\n",
       "      <td>0.0</td>\n",
       "      <td>0.0</td>\n",
       "      <td>0.0</td>\n",
       "      <td>0.0</td>\n",
       "      <td>0.0</td>\n",
       "      <td>0.0</td>\n",
       "    </tr>\n",
       "    <tr>\n",
       "      <th>3</th>\n",
       "      <td>101</td>\n",
       "      <td>10021</td>\n",
       "      <td>A04</td>\n",
       "      <td>101_10021_A04</td>\n",
       "      <td>0.0010</td>\n",
       "      <td>0.0</td>\n",
       "      <td>0.0</td>\n",
       "      <td>0.0</td>\n",
       "      <td>0.0</td>\n",
       "      <td>0.0</td>\n",
       "      <td>...</td>\n",
       "      <td>0.0</td>\n",
       "      <td>0.0</td>\n",
       "      <td>0.0</td>\n",
       "      <td>0.0</td>\n",
       "      <td>0.0</td>\n",
       "      <td>0.0</td>\n",
       "      <td>0.0</td>\n",
       "      <td>0.0</td>\n",
       "      <td>0.0</td>\n",
       "      <td>0.0</td>\n",
       "    </tr>\n",
       "    <tr>\n",
       "      <th>4</th>\n",
       "      <td>101</td>\n",
       "      <td>10021</td>\n",
       "      <td>A05</td>\n",
       "      <td>101_10021_A05</td>\n",
       "      <td>0.0001</td>\n",
       "      <td>0.0</td>\n",
       "      <td>0.0</td>\n",
       "      <td>0.0</td>\n",
       "      <td>0.0</td>\n",
       "      <td>0.0</td>\n",
       "      <td>...</td>\n",
       "      <td>0.0</td>\n",
       "      <td>0.0</td>\n",
       "      <td>0.0</td>\n",
       "      <td>0.0</td>\n",
       "      <td>0.0</td>\n",
       "      <td>0.0</td>\n",
       "      <td>0.0</td>\n",
       "      <td>0.0</td>\n",
       "      <td>0.0</td>\n",
       "      <td>0.0</td>\n",
       "    </tr>\n",
       "  </tbody>\n",
       "</table>\n",
       "<p>5 rows × 28 columns</p>\n",
       "</div>"
      ],
      "text/plain": [
       "   chemical.id  plate.id well chemical_plate_well    conc  AXIS  BRAI  CFIN  \\\n",
       "0          101     10021  A01       101_10021_A01  0.0100   NaN   NaN   NaN   \n",
       "1          101     10021  A02       101_10021_A02  0.0050   0.0   0.0   0.0   \n",
       "2          101     10021  A03       101_10021_A03  0.0025   0.0   0.0   0.0   \n",
       "3          101     10021  A04       101_10021_A04  0.0010   0.0   0.0   0.0   \n",
       "4          101     10021  A05       101_10021_A05  0.0001   0.0   0.0   0.0   \n",
       "\n",
       "   CIRC  DNC_  ...  PE__  PFIN  PIG_  SM24  SNOU  SOMI  SWIM  TRUN  TR__  YSE_  \n",
       "0   NaN   0.0  ...   NaN   NaN   NaN   NaN   NaN   NaN   NaN   NaN   NaN   NaN  \n",
       "1   0.0   0.0  ...   0.0   0.0   0.0   0.0   0.0   0.0   0.0   0.0   0.0   0.0  \n",
       "2   0.0   0.0  ...   0.0   0.0   0.0   0.0   0.0   0.0   0.0   0.0   0.0   0.0  \n",
       "3   0.0   0.0  ...   0.0   0.0   0.0   0.0   0.0   0.0   0.0   0.0   0.0   0.0  \n",
       "4   0.0   0.0  ...   0.0   0.0   0.0   0.0   0.0   0.0   0.0   0.0   0.0   0.0  \n",
       "\n",
       "[5 rows x 28 columns]"
      ]
     },
     "execution_count": 3,
     "metadata": {},
     "output_type": "execute_result"
    }
   ],
   "source": [
    "# mac       - extracts\n",
    "wide_file_path = '/Users/kimd999/research/projects/Katrina/per_each_data/extracts/input/latest/wide/ZF_120_SRP_Sample_Extracts_with_Dilution_Factors_2021MAY21_wide_DNC_0.csv'\n",
    "\n",
    "df = pd.read_csv(wide_file_path, header = 0)\n",
    "df.head()"
   ]
  },
  {
   "cell_type": "code",
   "execution_count": 12,
   "metadata": {},
   "outputs": [
    {
     "name": "stdout",
     "output_type": "stream",
     "text": [
      "plate_id:9246\n",
      "\n",
      "plate_id:9247\n",
      "\n"
     ]
    }
   ],
   "source": [
    "## leave certain chemical only\n",
    "df_per_this_chemical_id = df.loc[df['chemical.id'] == 799]\n",
    "\n",
    "plate_id_from_here = np.unique(df_per_this_chemical_id['plate.id'])\n",
    "for plate_id in plate_id_from_here:\n",
    "    print(f\"plate_id:{plate_id}\\n\")\n",
    "\n",
    "    df_per_this_chemical_id_plate_id = df_per_this_chemical_id.loc[df_per_this_chemical_id['plate.id'] == plate_id]\n",
    "\n",
    "    #print(f\"df_per_this_chemical_id_plate_id\\n:{df_per_this_chemical_id_plate_id}\\n\")\n",
    "    \n",
    "    df_filename = wide_file_path[:-4] + \"_chemical_799_plate_\"+ str(plate_id) + \".csv\"\n",
    "    df_per_this_chemical_id_plate_id.to_csv(df_filename, index=False)"
   ]
  },
  {
   "cell_type": "code",
   "execution_count": null,
   "metadata": {},
   "outputs": [],
   "source": []
  },
  {
   "cell_type": "code",
   "execution_count": 4,
   "metadata": {},
   "outputs": [
    {
     "ename": "NameError",
     "evalue": "name 'b' is not defined",
     "output_type": "error",
     "traceback": [
      "\u001b[0;31m---------------------------------------------------------------------------\u001b[0m",
      "\u001b[0;31mNameError\u001b[0m                                 Traceback (most recent call last)",
      "\u001b[0;32m<ipython-input-4-488068fe1e94>\u001b[0m in \u001b[0;36m<module>\u001b[0;34m()\u001b[0m\n\u001b[0;32m----> 1\u001b[0;31m \u001b[0ma\u001b[0m\u001b[0;34m=\u001b[0m\u001b[0mb\u001b[0m\u001b[0;34m\u001b[0m\u001b[0;34m\u001b[0m\u001b[0m\n\u001b[0m",
      "\u001b[0;31mNameError\u001b[0m: name 'b' is not defined"
     ]
    }
   ],
   "source": [
    "a=b"
   ]
  },
  {
   "cell_type": "code",
   "execution_count": null,
   "metadata": {},
   "outputs": [],
   "source": [
    "# mac       - phase I, II, III - LPR - after_merging - 240 timepoints in min\n",
    "complete_file_path = '/Users/kimd999/research/projects/toxicity/per_each_data/phase_I_II_III/LPR/input/phase_I_II_III_LPR_240_timepoints_morpho_filtered_min.csv'\n",
    "# 383 unique chemicals, 923 unique plates\n",
    "\n",
    "df_lpr_min = pd.read_csv(complete_file_path, header = 0)\n",
    "df_lpr_min.head()\n",
    "#df_LPR.shape # (72826, 29)"
   ]
  },
  {
   "cell_type": "code",
   "execution_count": null,
   "metadata": {},
   "outputs": [],
   "source": [
    "## leave 1155 chemical only (caused a problem)\n",
    "df_lpr_min_per_1155_chemical_id = df_lpr_min.loc[df_lpr_min['chemical.id'] == 1155]\n",
    "\n",
    "plate_id_from_here = np.unique(df_lpr_min_per_1155_chemical_id['plate.id'])\n",
    "for plate_id in plate_id_from_here:\n",
    "    print(f\"plate_id:{plate_id}\\n\")\n",
    "\n",
    "    df_lpr_min_per_1155_chemical_id_plate_id = df_lpr_min_per_1155_chemical_id.loc[df_lpr_min_per_1155_chemical_id['plate.id'] == plate_id]\n",
    "#        df_lpr_min_per_chemical_id_plate_id_t_only = pd.DataFrame(df_lpr_min_per_chemical_id_plate_id.iloc[:,4:28])\n",
    "\n",
    "    print(f\"df_lpr_min_per_1155_chemical_id_plate_id:{df_lpr_min_per_1155_chemical_id_plate_id}\\n\")"
   ]
  },
  {
   "cell_type": "code",
   "execution_count": null,
   "metadata": {},
   "outputs": [],
   "source": []
  }
 ],
 "metadata": {
  "kernelspec": {
   "display_name": "Python 3",
   "language": "python",
   "name": "python3"
  },
  "language_info": {
   "codemirror_mode": {
    "name": "ipython",
    "version": 3
   },
   "file_extension": ".py",
   "mimetype": "text/x-python",
   "name": "python",
   "nbconvert_exporter": "python",
   "pygments_lexer": "ipython3",
   "version": "3.7.8"
  }
 },
 "nbformat": 4,
 "nbformat_minor": 4
}
