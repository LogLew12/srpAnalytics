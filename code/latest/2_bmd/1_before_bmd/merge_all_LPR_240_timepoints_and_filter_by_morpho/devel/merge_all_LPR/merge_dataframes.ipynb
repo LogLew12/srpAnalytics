{
 "cells": [
  {
   "cell_type": "code",
   "execution_count": 1,
   "metadata": {},
   "outputs": [],
   "source": [
    "import numpy as np\n",
    "import pandas as pd\n",
    "import matplotlib.pyplot as plt\n",
    "import os, random, shutil, time\n",
    "import seaborn as sns\n",
    "\n",
    "import warnings\n",
    "warnings.filterwarnings('ignore')\n",
    "\n",
    "import sys\n",
    "\n",
    "from datetime import datetime"
   ]
  },
  {
   "cell_type": "code",
   "execution_count": 2,
   "metadata": {},
   "outputs": [
    {
     "name": "stdout",
     "output_type": "stream",
     "text": [
      "/Users/kimd999/research/script_not_in_dropbox/srpAnalytics/code/latest/2_bmd/1_before_bmd/merge_all_LPR\n"
     ]
    }
   ],
   "source": [
    "starting_dir = os.getcwd()\n",
    "print (starting_dir)"
   ]
  },
  {
   "cell_type": "code",
   "execution_count": 3,
   "metadata": {},
   "outputs": [
    {
     "data": {
      "text/plain": [
       "196"
      ]
     },
     "metadata": {},
     "output_type": "display_data"
    },
    {
     "data": {
      "text/plain": [
       "array([  53,   54,   56,   57,   58,   60,   61,   62,   63,   64,   65,\n",
       "         66,   67,   69,   70,  129,  155,  220,  227,  246,  247,  248,\n",
       "        250,  251,  252,  281,  283,  285,  286,  295,  296,  297,  360,\n",
       "        365,  381,  384,  392,  404,  406,  409,  412,  414,  415,  416,\n",
       "        417,  418,  419,  420,  441,  447,  448,  500,  501,  502,  503,\n",
       "        504,  511,  512,  513,  514,  515,  517,  596,  597,  601,  602,\n",
       "        609,  618,  628,  629,  667,  674,  689,  691,  694,  696,  697,\n",
       "        721,  722,  741,  746,  747,  768,  769,  770,  771,  774,  775,\n",
       "        776,  777,  778,  946,  947,  948,  949,  952,  961,  965,  966,\n",
       "        998, 1030, 1031, 1105, 1114, 1161, 1163, 1166, 1171, 1172, 1174,\n",
       "       1175, 1176, 1177, 1178, 1179, 1180, 1182, 1211, 1221, 1307, 1316,\n",
       "       1354, 1370, 1371, 1449, 1595, 1603, 1610, 1611, 1612, 1613, 1614,\n",
       "       1615, 1616, 1617, 1618, 1619, 1620, 1629, 1651, 1670, 1770, 1854,\n",
       "       1855, 1861, 1930, 1965, 1967, 2058, 2067, 2142, 2323, 2324, 2325,\n",
       "       2326, 2327, 2328, 2509, 2532, 2601, 2635, 2637, 2739, 2740, 2751,\n",
       "       2770, 2774, 2778, 2813, 2915, 2973, 3002, 3004, 3005, 3015, 3091,\n",
       "       3102, 3114, 3138, 3140, 3144, 3147, 3151, 3272, 3273, 3411, 3412,\n",
       "       3413, 3689, 3690, 3757, 3758, 3759, 3760, 3859, 3860], dtype=int32)"
      ]
     },
     "metadata": {},
     "output_type": "display_data"
    },
    {
     "data": {
      "text/plain": [
       "45297"
      ]
     },
     "metadata": {},
     "output_type": "display_data"
    }
   ],
   "source": [
    "# phase I, II - LPR - 240 timepoints\n",
    "complete_input_file_path= '/Users/kimd999/research/projects/toxicity/per_each_data/phase_I_II/input/LPR/latest/after_merging/wide/04_28_2021/344_zf_LPR_data_phase_1_2_2020JUNE25_updated_plate_id_for_TX_tall_fixed_full_240_timepoints_wide_full.csv'\n",
    "\n",
    "df_phase_I_II_LPR_240_timepoints = pd.read_csv(complete_input_file_path, header = 0)\n",
    "# total 196 chemicals\n",
    "\n",
    "#display(len(np.unique(df_phase_I_II_LPR_240_timepoints['chemical.id'])))\n",
    "#display(np.unique(df_phase_I_II_LPR_240_timepoints['chemical.id']))\n",
    "\n",
    "df_phase_I_II_LPR_240_timepoints = \\\n",
    "df_phase_I_II_LPR_240_timepoints[df_phase_I_II_LPR_240_timepoints['chemical.id'].notna()]\n",
    "\n",
    "df_phase_I_II_LPR_240_timepoints = \\\n",
    "df_phase_I_II_LPR_240_timepoints.astype({'chemical.id': 'int32'})\n",
    "\n",
    "df_phase_I_II_LPR_240_timepoints = \\\n",
    "df_phase_I_II_LPR_240_timepoints.astype({'plate.id': 'int32'})\n",
    "\n",
    "\n",
    "display(len(np.unique(df_phase_I_II_LPR_240_timepoints['chemical.id'])))\n",
    "# total 196 chemicals\n",
    "display(np.unique(df_phase_I_II_LPR_240_timepoints['chemical.id']))\n",
    "\n",
    "\n",
    "display(len(df_phase_I_II_LPR_240_timepoints))\n",
    "# 45297 rows\n",
    "# when counting # of rows, column title/name is not counted \n",
    "\n",
    "#print(len(df_phase_I_II_LPR_240_timepoints.columns))\n",
    "#print(df_phase_I_II_LPR_240_timepoints.columns)"
   ]
  },
  {
   "cell_type": "code",
   "execution_count": 4,
   "metadata": {},
   "outputs": [
    {
     "data": {
      "text/plain": [
       "215"
      ]
     },
     "metadata": {},
     "output_type": "display_data"
    },
    {
     "data": {
      "text/plain": [
       "array([ 234,  275,  280,  385,  397,  443,  467,  505,  588,  595,  622,\n",
       "        660,  692,  699,  725,  726,  947,  949,  955, 1016, 1017, 1031,\n",
       "       1155, 1174, 1175, 1178, 1179, 1182, 1189, 1209, 1213, 1214, 1215,\n",
       "       1216, 1220, 1222, 1241, 1312, 1315, 1371, 1430, 1595, 1601, 1607,\n",
       "       1610, 1611, 1624, 1626, 1642, 1651, 1830, 1855, 1898, 1925, 1947,\n",
       "       2076, 2090, 2110, 2151, 2180, 2192, 2240, 2323, 2358, 2585, 2587,\n",
       "       2589, 2590, 2594, 2595, 2596, 2597, 2598, 2599, 2600, 2602, 2635,\n",
       "       2636, 2650, 2685, 2686, 2715, 2739, 2821, 2973, 2994, 3007, 3056,\n",
       "       3133, 3136, 3189, 3191, 3766, 3771, 3853, 4336, 4337, 4338, 4339,\n",
       "       4340, 4341, 4342, 4343, 4344, 4345, 4346, 4347, 4348, 4349, 4350,\n",
       "       4351, 4352, 4353, 4354, 4355, 4356, 4357, 4358, 4359, 4360, 4361,\n",
       "       4362, 4363, 4364, 4365, 4366, 4367, 4368, 4369, 4370, 4371, 4372,\n",
       "       4373, 4374, 4375, 4376, 4377, 4378, 4379, 4380, 4381, 4382, 4383,\n",
       "       4384, 4385, 4386, 4387, 4388, 4390, 4391, 4392, 4393, 4394, 4395,\n",
       "       4396, 4397, 4398, 4399, 4400, 4401, 4402, 4403, 4404, 4405, 4406,\n",
       "       4407, 4408, 4410, 4411, 4412, 4413, 4414, 4415, 4416, 4417, 4418,\n",
       "       4419, 4420, 4421, 4422, 4423, 4424, 4425, 4426, 4427, 4428, 4429,\n",
       "       4430, 4431, 4432, 4433, 4434, 4435, 4436, 4437, 4438, 4439, 4440,\n",
       "       4441, 4442, 4443, 4444, 4445, 4446, 4447, 4448, 4449, 4450, 4451,\n",
       "       4452, 4453, 4454, 4455, 4456, 4457])"
      ]
     },
     "metadata": {},
     "output_type": "display_data"
    },
    {
     "data": {
      "text/plain": [
       "44762"
      ]
     },
     "metadata": {},
     "output_type": "display_data"
    }
   ],
   "source": [
    "# phase III - LPR - 240 timepoints\n",
    "complete_input_file_path= '/Users/kimd999/research/projects/toxicity/per_each_data/phase_III/input/behavior/LPR/wide/full/Tanguay_Phase_3_zf_LPR_data_PNNL_2021MAR23_full_w_240_timepoints_wide_full.csv'\n",
    "\n",
    "df_phase_III_LPR_240_timepoints = pd.read_csv(complete_input_file_path, header = 0)\n",
    "\n",
    "\n",
    "#display(len(np.unique(df_phase_III_LPR_240_timepoints['chemical.id'])))\n",
    "#display(np.unique(df_phase_III_LPR_240_timepoints['chemical.id']))\n",
    "\n",
    "df_phase_III_LPR_240_timepoints = \\\n",
    "df_phase_III_LPR_240_timepoints[df_phase_III_LPR_240_timepoints['chemical.id'].notna()]\n",
    "\n",
    "display(len(np.unique(df_phase_III_LPR_240_timepoints['chemical.id']))) \n",
    "# total 215 chemicals\n",
    "display(np.unique(df_phase_III_LPR_240_timepoints['chemical.id']))\n",
    "\n",
    "display(len(df_phase_III_LPR_240_timepoints)) \n",
    "# 44762 rows\n",
    "# when counting # of rows, column title/name is not counted \n",
    "\n",
    "#display(df_phase_III_LPR_240_timepoints.head())\n",
    "#display(len(df_phase_III_LPR_240_timepoints.head())) # so when counting # of rows, column title/name is not counted \n",
    "#display(df_phase_III_LPR_240_timepoints.tail())"
   ]
  },
  {
   "cell_type": "code",
   "execution_count": 18,
   "metadata": {},
   "outputs": [
    {
     "name": "stdout",
     "output_type": "stream",
     "text": [
      "/Users/kimd999/research/script_not_in_dropbox/srpAnalytics/code/latest/2_bmd/1_before_bmd/merge_all_LPR\n"
     ]
    }
   ],
   "source": [
    "# <goal> merge 2 datasets blindly\n",
    "\n",
    "all_frames = [df_phase_I_II_LPR_240_timepoints, df_phase_III_LPR_240_timepoints]\n",
    "df_all_phase_LPR_240_timepoints = pd.concat(all_frames)\n",
    "# 196+215 = 411 chemicals\n",
    "\n",
    "#display(len(np.unique(df_all_phase_LPR_240_timepoints['chemical.id'])))\n",
    "#393\n",
    "\n",
    "#display(np.unique(df_all_phase_LPR_240_timepoints['chemical.id']))\n",
    "\n",
    "#display(len(df_all_phase_LPR_240_timepoints))\n",
    "#90059 (same as 45297+44762)\n",
    "\n",
    "#display(df_all_phase_LPR_240_timepoints.head())\n",
    "#display(df_all_phase_LPR_240_timepoints.tail())\n",
    "\n",
    "cwd = os.getcwd()\n",
    "print (cwd)\n",
    "\n",
    "df_all_phase_LPR_240_timepoints.to_csv(\"phase_I_II_III_LPR_240_timepoints.csv\", index=False)"
   ]
  },
  {
   "cell_type": "code",
   "execution_count": 12,
   "metadata": {},
   "outputs": [
    {
     "name": "stdout",
     "output_type": "stream",
     "text": [
      "\n",
      "duplicated chemical_id:947\n",
      "\n",
      "duplicated chemical_id:949\n",
      "\n",
      "duplicated chemical_id:1031\n",
      "\n",
      "duplicated chemical_id:1174\n",
      "\n",
      "duplicated chemical_id:1175\n",
      "\n",
      "duplicated chemical_id:1178\n",
      "\n",
      "duplicated chemical_id:1179\n",
      "\n",
      "duplicated chemical_id:1182\n",
      "\n",
      "duplicated chemical_id:1371\n",
      "\n",
      "duplicated chemical_id:1595\n",
      "\n",
      "duplicated chemical_id:1610\n",
      "\n",
      "duplicated chemical_id:1611\n",
      "\n",
      "duplicated chemical_id:1651\n",
      "\n",
      "duplicated chemical_id:1855\n",
      "\n",
      "duplicated chemical_id:2323\n",
      "\n",
      "duplicated chemical_id:2635\n",
      "\n",
      "duplicated chemical_id:2739\n",
      "\n",
      "duplicated chemical_id:2973\n",
      "/Users/kimd999/research/script_not_in_dropbox/srpAnalytics/code/latest/2_bmd/1_before_bmd/merge_all_LPR\n"
     ]
    }
   ],
   "source": [
    "# <goal> identify duplicate chemicals\n",
    "\n",
    "df_phase_I_II_LPR_240_timepoints_duplicated_chemical = pd.DataFrame()\n",
    "df_phase_III_LPR_240_timepoints_duplicated_chemical = pd.DataFrame()\n",
    "\n",
    "full_devel = \"full\"\n",
    "#full_devel = \"devel\"\n",
    "\n",
    "if (full_devel == \"full\"):\n",
    "    chemical_id_from_here = np.unique(df_phase_I_II_LPR_240_timepoints['chemical.id'])\n",
    "else:\n",
    "    chemical_id_from_here = [234, 1030]\n",
    "\n",
    "for chemical_id in chemical_id_from_here:\n",
    "    #print(\"\\n\\nchemical_id:\" + str(chemical_id))\n",
    "    #print(\"\\n\\n\")\n",
    "\n",
    "    try:\n",
    "        #df_phase_III_LPR_240_timepoints_per_chemical \\\n",
    "        #    = df_phase_III_LPR_240_timepoints.loc[df_phase_III_LPR_240_timepoints['chemical.id'] == chemical_id]\n",
    "        \n",
    "        df_phase_III_LPR_240_timepoints_per_chemical \\\n",
    "            = df_phase_III_LPR_240_timepoints.loc[df_phase_III_LPR_240_timepoints['chemical.id'] == chemical_id, ['chemical.id', 'plate.id']]\n",
    "        \n",
    "        if (len(df_phase_III_LPR_240_timepoints_per_chemical) == 0):\n",
    "            continue\n",
    "        \n",
    "        print(\"\\nduplicated chemical_id:\" + str(chemical_id))\n",
    "        \n",
    "        df_phase_I_II_LPR_240_timepoints_per_chemical \\\n",
    "            = df_phase_I_II_LPR_240_timepoints.loc[df_phase_I_II_LPR_240_timepoints['chemical.id'] == chemical_id, ['chemical.id', 'plate.id']]\n",
    "            \n",
    "        df_phase_III_LPR_240_timepoints_duplicated_chemical = \\\n",
    "            pd.concat([df_phase_III_LPR_240_timepoints_duplicated_chemical, df_phase_III_LPR_240_timepoints_per_chemical])\n",
    "        \n",
    "        df_phase_I_II_LPR_240_timepoints_duplicated_chemical = \\\n",
    "            pd.concat([df_phase_I_II_LPR_240_timepoints_duplicated_chemical, df_phase_I_II_LPR_240_timepoints_per_chemical])\n",
    "    except:\n",
    "        pass\n",
    "\n",
    "cwd = os.getcwd()\n",
    "print (cwd)\n",
    "    \n",
    "df_phase_I_II_LPR_240_timepoints_duplicated_chemical.to_csv('df_phase_I_II_LPR_240_timepoints_duplicated_chemical.csv', index=False)\n",
    "df_phase_III_LPR_240_timepoints_duplicated_chemical.to_csv('df_phase_III_LPR_240_timepoints_duplicated_chemical.csv', index=False)\n",
    "    \n",
    "#print (\"df_phase_I_II_LPR_240_timepoints_duplicated_chemical:\\n\" + str(df_phase_I_II_LPR_240_timepoints_duplicated_chemical))\n",
    "#print (\"df_phase_III_LPR_240_timepoints_duplicated_chemical:\\n\" + str(df_phase_III_LPR_240_timepoints_duplicated_chemical))\n"
   ]
  },
  {
   "cell_type": "code",
   "execution_count": null,
   "metadata": {},
   "outputs": [],
   "source": []
  }
 ],
 "metadata": {
  "kernelspec": {
   "display_name": "Python 3",
   "language": "python",
   "name": "python3"
  },
  "language_info": {
   "codemirror_mode": {
    "name": "ipython",
    "version": 3
   },
   "file_extension": ".py",
   "mimetype": "text/x-python",
   "name": "python",
   "nbconvert_exporter": "python",
   "pygments_lexer": "ipython3",
   "version": "3.7.8"
  }
 },
 "nbformat": 4,
 "nbformat_minor": 4
}
