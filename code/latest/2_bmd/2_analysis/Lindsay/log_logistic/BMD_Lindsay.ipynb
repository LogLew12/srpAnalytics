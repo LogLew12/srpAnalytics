{
 "cells": [
  {
   "cell_type": "code",
   "execution_count": 54,
   "metadata": {},
   "outputs": [],
   "source": [
    "import numpy as np\n",
    "import pandas as pd\n",
    "import glob, os, random, shutil, sys, time\n",
    "from scipy import stats\n",
    "from matplotlib import pyplot as plt\n",
    "import seaborn as sns\n",
    "\n",
    "import warnings\n",
    "warnings.filterwarnings('ignore')\n",
    "\n",
    "import sys\n",
    "\n",
    "#mac\n",
    "util_path = \"/Users/kimd999/research/projects/Katrina/srpAnalytics/code/latest/util\"\n",
    "\n",
    "#constance\n",
    "'''args = sys.argv[0:]\n",
    "py_file = args[0]\n",
    "\n",
    "code_location = os.path.dirname(os.path.abspath(py_file))\n",
    "index_of_latest = code_location.index('latest')\n",
    "util_path = os.path.join(code_location[:index_of_latest], \"latest\", \"util\")\n",
    "'''\n",
    "\n",
    "sys.path.insert(0, util_path)\n",
    "\n",
    "# These two lines will automatically reload updated modules of mine\n",
    "# (therefore, I don't need to restart kernel after editing importing modules)\n",
    "#%load_ext autoreload\n",
    "#%autoreload 2"
   ]
  },
  {
   "cell_type": "code",
   "execution_count": 6,
   "metadata": {},
   "outputs": [],
   "source": [
    "import generate_dose_response as gdr\n",
    "import BMD_BMDL_estimation as bmdest\n",
    "import Plot_Save as ps"
   ]
  },
  {
   "cell_type": "code",
   "execution_count": 4,
   "metadata": {},
   "outputs": [
    {
     "name": "stdout",
     "output_type": "stream",
     "text": [
      "/Users/kimd999/research/projects/Katrina/srpAnalytics/code/latest/2_bmd/2_analysis/Lindsay\n"
     ]
    }
   ],
   "source": [
    "starting_dir = os.getcwd()\n",
    "print (starting_dir)"
   ]
  },
  {
   "cell_type": "code",
   "execution_count": 96,
   "metadata": {},
   "outputs": [
    {
     "data": {
      "text/html": [
       "<div>\n",
       "<style scoped>\n",
       "    .dataframe tbody tr th:only-of-type {\n",
       "        vertical-align: middle;\n",
       "    }\n",
       "\n",
       "    .dataframe tbody tr th {\n",
       "        vertical-align: top;\n",
       "    }\n",
       "\n",
       "    .dataframe thead th {\n",
       "        text-align: right;\n",
       "    }\n",
       "</style>\n",
       "<table border=\"1\" class=\"dataframe\">\n",
       "  <thead>\n",
       "    <tr style=\"text-align: right;\">\n",
       "      <th></th>\n",
       "      <th>chemical.id</th>\n",
       "      <th>dose</th>\n",
       "      <th>total_num</th>\n",
       "      <th>num_affected</th>\n",
       "    </tr>\n",
       "  </thead>\n",
       "  <tbody>\n",
       "    <tr>\n",
       "      <th>0</th>\n",
       "      <td>di-n-butyl phthalate</td>\n",
       "      <td>0.0</td>\n",
       "      <td>36</td>\n",
       "      <td>2</td>\n",
       "    </tr>\n",
       "    <tr>\n",
       "      <th>1</th>\n",
       "      <td>di-n-butyl phthalate</td>\n",
       "      <td>2.0</td>\n",
       "      <td>36</td>\n",
       "      <td>2</td>\n",
       "    </tr>\n",
       "    <tr>\n",
       "      <th>2</th>\n",
       "      <td>di-n-butyl phthalate</td>\n",
       "      <td>3.0</td>\n",
       "      <td>36</td>\n",
       "      <td>3</td>\n",
       "    </tr>\n",
       "    <tr>\n",
       "      <th>3</th>\n",
       "      <td>di-n-butyl phthalate</td>\n",
       "      <td>4.0</td>\n",
       "      <td>36</td>\n",
       "      <td>8</td>\n",
       "    </tr>\n",
       "    <tr>\n",
       "      <th>4</th>\n",
       "      <td>di-n-butyl phthalate</td>\n",
       "      <td>4.5</td>\n",
       "      <td>36</td>\n",
       "      <td>19</td>\n",
       "    </tr>\n",
       "  </tbody>\n",
       "</table>\n",
       "</div>"
      ],
      "text/plain": [
       "            chemical.id  dose  total_num  num_affected\n",
       "0  di-n-butyl phthalate   0.0         36             2\n",
       "1  di-n-butyl phthalate   2.0         36             2\n",
       "2  di-n-butyl phthalate   3.0         36             3\n",
       "3  di-n-butyl phthalate   4.0         36             8\n",
       "4  di-n-butyl phthalate   4.5         36            19"
      ]
     },
     "metadata": {},
     "output_type": "display_data"
    }
   ],
   "source": [
    "#complete_file_path = '/Users/kimd999/research/projects/Katrina/per_each_data/Lindsay/new/final_input.csv'\n",
    "complete_file_path = '/Users/kimd999/research/projects/Katrina/per_each_data/Lindsay/new/input/each_chemical/di-n-butyl_phthalate.csv'\n",
    "df_test_dose_response = pd.read_csv(complete_file_path, header = 0)\n",
    "pd.set_option('display.max_columns', None)\n",
    "display(df_test_dose_response.head())\n",
    "#display(np.unique(morpho_data.well))"
   ]
  },
  {
   "cell_type": "code",
   "execution_count": 97,
   "metadata": {},
   "outputs": [
    {
     "name": "stdout",
     "output_type": "stream",
     "text": [
      "chemical_id:di-n-butyl phthalate\n",
      "df_test_dose_response_per_chemical:\n",
      "            chemical.id  dose  total_num  num_affected\n",
      "0  di-n-butyl phthalate   0.0         36             2\n",
      "1  di-n-butyl phthalate   2.0         36             2\n",
      "2  di-n-butyl phthalate   3.0         36             3\n",
      "3  di-n-butyl phthalate   4.0         36             8\n",
      "4  di-n-butyl phthalate   4.5         36            19\n",
      "5  di-n-butyl phthalate   5.0         36            21\n",
      "6  di-n-butyl phthalate   8.0         36            36\n",
      "7  di-n-butyl phthalate  10.0         36            36\n",
      "df_test_dose_response_per_chemical:\n",
      "            chemical.id  dose  total_num  num_affected\n",
      "0  di-n-butyl phthalate   0.0         36             2\n",
      "1  di-n-butyl phthalate   2.0         36             2\n",
      "2  di-n-butyl phthalate   3.0         36             3\n",
      "3  di-n-butyl phthalate   4.0         36             8\n",
      "4  di-n-butyl phthalate   4.5         36            19\n",
      "5  di-n-butyl phthalate   5.0         36            21\n",
      "6  di-n-butyl phthalate   8.0         36            36\n",
      "7  di-n-butyl phthalate  10.0         36            36\n",
      "model_predictions:\n",
      "          Model  Chi-squared     p-val         AIC     BMD10    BMDL10  \\\n",
      "0  log_logistic     2.385013  0.793704  197.099015  3.650003  3.253989   \n",
      "\n",
      "      BMD50                                   Scaled Residuals  \\\n",
      "0  4.691927  [0.05856921915012839, 0.07217216146197927, -0....   \n",
      "\n",
      "                                    Optimized Params Conv Flag BMDL Conv  \n",
      "0  [0.05783418745783223, -13.525910003616303, 8.7...         0         0  \n",
      "{'model': 0    log_logistic\n",
      "Name: Model, dtype: object, 'no_unique_model_found_flag': 0, 'model_select_flag': 0, 'pval_thresh_flag': 0}\n",
      "BMD calculation is done, it took:0.7 seconds\n"
     ]
    }
   ],
   "source": [
    "full_devel = \"full\"\n",
    "#full_devel = \"devel\"\n",
    "\n",
    "if (full_devel == \"full\"):\n",
    "    chemical_id_from_here = np.unique(df_test_dose_response['chemical.id'])\n",
    "else: # full_devel = \"devel\"\n",
    "    #chemical_id_from_here = ['Benzophenone']\n",
    "    chemical_id_from_here = ['Benzyl butyl phthalate']\n",
    "    \n",
    "start_time = time.time()\n",
    "\n",
    "for chemical_id in chemical_id_from_here:\n",
    "    print(\"chemical_id:\" + str(chemical_id))\n",
    "    \n",
    "    # subset original dataframe for a user-specified chemical and end_point pair\n",
    "    df_test_dose_response_per_chemical = df_test_dose_response.loc[df_test_dose_response['chemical.id'] == chemical_id,['chemical.id', 'dose', 'total_num', 'num_affected']]\n",
    "    print (f\"df_test_dose_response_per_chemical:\\n{df_test_dose_response_per_chemical}\")\n",
    "    \n",
    "    # Fit dose response models\n",
    "    df_test_dose_response_per_chemical = df_test_dose_response_per_chemical.sort_values(by=['dose'])    \n",
    "    print (f\"df_test_dose_response_per_chemical:\\n{df_test_dose_response_per_chemical}\")\n",
    "\n",
    "    try:\n",
    "        model_predictions = bmdest.analyze_dose_response_data(df_test_dose_response_per_chemical)\n",
    "        print (f\"model_predictions:\\n{model_predictions}\")\n",
    "    except:\n",
    "        continue\n",
    "    \n",
    "    # Select best model\n",
    "    selected_model_params = bmdest.select_model(model_predictions)\n",
    "    print (selected_model_params)\n",
    "    \n",
    "    end_point = \"Lindsay\"\n",
    "    bmd_feasibility_flag = 2\n",
    "\n",
    "    # Check if unique model is found\n",
    "    unique_model_flag = selected_model_params['no_unique_model_found_flag']\n",
    "\n",
    "    if(unique_model_flag == 0):\n",
    "        # Generate report\n",
    "        #print(df_test_dose_response.dose[-1:])\n",
    "\n",
    "        ps.save_results_good_data_unique_model(df_test_dose_response_per_chemical, bmd_feasibility_flag, model_predictions, selected_model_params, str(chemical_id), end_point)\n",
    "    else:\n",
    "        bmd_analysis_flag = selected_model_params['model_select_flag']\n",
    "        if(bmd_analysis_flag == 1):\n",
    "            ps.save_results_poor_data_or_no_convergence(df_test_dose_response_per_chemical, bmd_feasibility_flag, str(chemical_id), end_point, selected_model_params)\n",
    "        else:\n",
    "            ps.save_results_good_data_nounique_model(df_test_dose_response_per_chemical, bmd_feasibility_flag, model_predictions, selected_model_params, str(chemical_id), end_point)\n",
    "\n",
    "end_time = time.time()\n",
    "time_took = str(round((end_time-start_time), 1)) + \" seconds\"\n",
    "print (\"BMD calculation is done, it took:\"+str(time_took)) "
   ]
  },
  {
   "cell_type": "code",
   "execution_count": null,
   "metadata": {},
   "outputs": [],
   "source": [
    "a=b"
   ]
  },
  {
   "cell_type": "code",
   "execution_count": 66,
   "metadata": {},
   "outputs": [
    {
     "name": "stdout",
     "output_type": "stream",
     "text": [
      "\n",
      "csv_file:fit_vals_2021_12_02.csv\n"
     ]
    },
    {
     "ename": "KeyError",
     "evalue": "\"None of [Index(['dose', 'num_affected', 'total_num'], dtype='object')] are in the [columns]\"",
     "output_type": "error",
     "traceback": [
      "\u001b[0;31m---------------------------------------------------------------------------\u001b[0m",
      "\u001b[0;31mKeyError\u001b[0m                                  Traceback (most recent call last)",
      "\u001b[0;32m<ipython-input-66-9e4df971aa53>\u001b[0m in \u001b[0;36m<module>\u001b[0;34m()\u001b[0m\n\u001b[1;32m      6\u001b[0m     \u001b[0mpd\u001b[0m\u001b[0;34m.\u001b[0m\u001b[0mset_option\u001b[0m\u001b[0;34m(\u001b[0m\u001b[0;34m'display.max_columns'\u001b[0m\u001b[0;34m,\u001b[0m \u001b[0;32mNone\u001b[0m\u001b[0;34m)\u001b[0m\u001b[0;34m\u001b[0m\u001b[0;34m\u001b[0m\u001b[0m\n\u001b[1;32m      7\u001b[0m \u001b[0;31m#    display(df_test_dose_response.head())\u001b[0m\u001b[0;34m\u001b[0m\u001b[0;34m\u001b[0m\u001b[0;34m\u001b[0m\u001b[0m\n\u001b[0;32m----> 8\u001b[0;31m     \u001b[0mmodel_predictions\u001b[0m \u001b[0;34m=\u001b[0m \u001b[0mbmdest\u001b[0m\u001b[0;34m.\u001b[0m\u001b[0manalyze_dose_response_data\u001b[0m\u001b[0;34m(\u001b[0m\u001b[0mdf_test_dose_response_per_chemical\u001b[0m\u001b[0;34m)\u001b[0m\u001b[0;34m\u001b[0m\u001b[0;34m\u001b[0m\u001b[0m\n\u001b[0m\u001b[1;32m      9\u001b[0m     \u001b[0;31m#print (f\"model_predictions:\\n{model_predictions}\")\u001b[0m\u001b[0;34m\u001b[0m\u001b[0;34m\u001b[0m\u001b[0;34m\u001b[0m\u001b[0m\n\u001b[1;32m     10\u001b[0m \u001b[0;34m\u001b[0m\u001b[0m\n",
      "\u001b[0;32m/Users/kimd999/research/projects/Katrina/srpAnalytics/code/latest/util/BMD_BMDL_estimation.py\u001b[0m in \u001b[0;36manalyze_dose_response_data\u001b[0;34m(test_dose_response, model_names, bmdl_analysis_flag)\u001b[0m\n\u001b[1;32m    310\u001b[0m \u001b[0;34m\u001b[0m\u001b[0m\n\u001b[1;32m    311\u001b[0m         \u001b[0;32melif\u001b[0m\u001b[0;34m(\u001b[0m\u001b[0mmodel_name\u001b[0m \u001b[0;34m==\u001b[0m \u001b[0;34m'log_logistic'\u001b[0m\u001b[0;34m)\u001b[0m\u001b[0;34m:\u001b[0m\u001b[0;34m\u001b[0m\u001b[0;34m\u001b[0m\u001b[0m\n\u001b[0;32m--> 312\u001b[0;31m             \u001b[0mmodel\u001b[0m \u001b[0;34m=\u001b[0m \u001b[0mbaf\u001b[0m\u001b[0;34m.\u001b[0m\u001b[0mLog_Logistic\u001b[0m\u001b[0;34m(\u001b[0m\u001b[0mtest_dose_response\u001b[0m\u001b[0;34m[\u001b[0m\u001b[0;34m[\u001b[0m\u001b[0;34m'dose'\u001b[0m\u001b[0;34m,\u001b[0m\u001b[0;34m'num_affected'\u001b[0m\u001b[0;34m,\u001b[0m \u001b[0;34m'total_num'\u001b[0m\u001b[0;34m]\u001b[0m\u001b[0;34m]\u001b[0m\u001b[0;34m.\u001b[0m\u001b[0mcopy\u001b[0m\u001b[0;34m(\u001b[0m\u001b[0;34m)\u001b[0m\u001b[0;34m)\u001b[0m\u001b[0;34m\u001b[0m\u001b[0;34m\u001b[0m\u001b[0m\n\u001b[0m\u001b[1;32m    313\u001b[0m             \u001b[0mres\u001b[0m \u001b[0;34m=\u001b[0m \u001b[0mmodel\u001b[0m\u001b[0;34m.\u001b[0m\u001b[0mfit\u001b[0m\u001b[0;34m(\u001b[0m\u001b[0;34m)\u001b[0m\u001b[0;34m\u001b[0m\u001b[0;34m\u001b[0m\u001b[0m\n\u001b[1;32m    314\u001b[0m \u001b[0;34m\u001b[0m\u001b[0m\n",
      "\u001b[0;32m/Users/kimd999/bin/miniconda3/envs/tox/lib/python3.7/site-packages/pandas/core/frame.py\u001b[0m in \u001b[0;36m__getitem__\u001b[0;34m(self, key)\u001b[0m\n\u001b[1;32m   2906\u001b[0m             \u001b[0;32mif\u001b[0m \u001b[0mis_iterator\u001b[0m\u001b[0;34m(\u001b[0m\u001b[0mkey\u001b[0m\u001b[0;34m)\u001b[0m\u001b[0;34m:\u001b[0m\u001b[0;34m\u001b[0m\u001b[0;34m\u001b[0m\u001b[0m\n\u001b[1;32m   2907\u001b[0m                 \u001b[0mkey\u001b[0m \u001b[0;34m=\u001b[0m \u001b[0mlist\u001b[0m\u001b[0;34m(\u001b[0m\u001b[0mkey\u001b[0m\u001b[0;34m)\u001b[0m\u001b[0;34m\u001b[0m\u001b[0;34m\u001b[0m\u001b[0m\n\u001b[0;32m-> 2908\u001b[0;31m             \u001b[0mindexer\u001b[0m \u001b[0;34m=\u001b[0m \u001b[0mself\u001b[0m\u001b[0;34m.\u001b[0m\u001b[0mloc\u001b[0m\u001b[0;34m.\u001b[0m\u001b[0m_get_listlike_indexer\u001b[0m\u001b[0;34m(\u001b[0m\u001b[0mkey\u001b[0m\u001b[0;34m,\u001b[0m \u001b[0maxis\u001b[0m\u001b[0;34m=\u001b[0m\u001b[0;36m1\u001b[0m\u001b[0;34m,\u001b[0m \u001b[0mraise_missing\u001b[0m\u001b[0;34m=\u001b[0m\u001b[0;32mTrue\u001b[0m\u001b[0;34m)\u001b[0m\u001b[0;34m[\u001b[0m\u001b[0;36m1\u001b[0m\u001b[0;34m]\u001b[0m\u001b[0;34m\u001b[0m\u001b[0;34m\u001b[0m\u001b[0m\n\u001b[0m\u001b[1;32m   2909\u001b[0m \u001b[0;34m\u001b[0m\u001b[0m\n\u001b[1;32m   2910\u001b[0m         \u001b[0;31m# take() does not accept boolean indexers\u001b[0m\u001b[0;34m\u001b[0m\u001b[0;34m\u001b[0m\u001b[0;34m\u001b[0m\u001b[0m\n",
      "\u001b[0;32m/Users/kimd999/bin/miniconda3/envs/tox/lib/python3.7/site-packages/pandas/core/indexing.py\u001b[0m in \u001b[0;36m_get_listlike_indexer\u001b[0;34m(self, key, axis, raise_missing)\u001b[0m\n\u001b[1;32m   1252\u001b[0m             \u001b[0mkeyarr\u001b[0m\u001b[0;34m,\u001b[0m \u001b[0mindexer\u001b[0m\u001b[0;34m,\u001b[0m \u001b[0mnew_indexer\u001b[0m \u001b[0;34m=\u001b[0m \u001b[0max\u001b[0m\u001b[0;34m.\u001b[0m\u001b[0m_reindex_non_unique\u001b[0m\u001b[0;34m(\u001b[0m\u001b[0mkeyarr\u001b[0m\u001b[0;34m)\u001b[0m\u001b[0;34m\u001b[0m\u001b[0;34m\u001b[0m\u001b[0m\n\u001b[1;32m   1253\u001b[0m \u001b[0;34m\u001b[0m\u001b[0m\n\u001b[0;32m-> 1254\u001b[0;31m         \u001b[0mself\u001b[0m\u001b[0;34m.\u001b[0m\u001b[0m_validate_read_indexer\u001b[0m\u001b[0;34m(\u001b[0m\u001b[0mkeyarr\u001b[0m\u001b[0;34m,\u001b[0m \u001b[0mindexer\u001b[0m\u001b[0;34m,\u001b[0m \u001b[0maxis\u001b[0m\u001b[0;34m,\u001b[0m \u001b[0mraise_missing\u001b[0m\u001b[0;34m=\u001b[0m\u001b[0mraise_missing\u001b[0m\u001b[0;34m)\u001b[0m\u001b[0;34m\u001b[0m\u001b[0;34m\u001b[0m\u001b[0m\n\u001b[0m\u001b[1;32m   1255\u001b[0m         \u001b[0;32mreturn\u001b[0m \u001b[0mkeyarr\u001b[0m\u001b[0;34m,\u001b[0m \u001b[0mindexer\u001b[0m\u001b[0;34m\u001b[0m\u001b[0;34m\u001b[0m\u001b[0m\n\u001b[1;32m   1256\u001b[0m \u001b[0;34m\u001b[0m\u001b[0m\n",
      "\u001b[0;32m/Users/kimd999/bin/miniconda3/envs/tox/lib/python3.7/site-packages/pandas/core/indexing.py\u001b[0m in \u001b[0;36m_validate_read_indexer\u001b[0;34m(self, key, indexer, axis, raise_missing)\u001b[0m\n\u001b[1;32m   1296\u001b[0m             \u001b[0;32mif\u001b[0m \u001b[0mmissing\u001b[0m \u001b[0;34m==\u001b[0m \u001b[0mlen\u001b[0m\u001b[0;34m(\u001b[0m\u001b[0mindexer\u001b[0m\u001b[0;34m)\u001b[0m\u001b[0;34m:\u001b[0m\u001b[0;34m\u001b[0m\u001b[0;34m\u001b[0m\u001b[0m\n\u001b[1;32m   1297\u001b[0m                 \u001b[0maxis_name\u001b[0m \u001b[0;34m=\u001b[0m \u001b[0mself\u001b[0m\u001b[0;34m.\u001b[0m\u001b[0mobj\u001b[0m\u001b[0;34m.\u001b[0m\u001b[0m_get_axis_name\u001b[0m\u001b[0;34m(\u001b[0m\u001b[0maxis\u001b[0m\u001b[0;34m)\u001b[0m\u001b[0;34m\u001b[0m\u001b[0;34m\u001b[0m\u001b[0m\n\u001b[0;32m-> 1298\u001b[0;31m                 \u001b[0;32mraise\u001b[0m \u001b[0mKeyError\u001b[0m\u001b[0;34m(\u001b[0m\u001b[0;34mf\"None of [{key}] are in the [{axis_name}]\"\u001b[0m\u001b[0;34m)\u001b[0m\u001b[0;34m\u001b[0m\u001b[0;34m\u001b[0m\u001b[0m\n\u001b[0m\u001b[1;32m   1299\u001b[0m \u001b[0;34m\u001b[0m\u001b[0m\n\u001b[1;32m   1300\u001b[0m             \u001b[0;31m# We (temporarily) allow for some missing keys with .loc, except in\u001b[0m\u001b[0;34m\u001b[0m\u001b[0;34m\u001b[0m\u001b[0;34m\u001b[0m\u001b[0m\n",
      "\u001b[0;31mKeyError\u001b[0m: \"None of [Index(['dose', 'num_affected', 'total_num'], dtype='object')] are in the [columns]\""
     ]
    }
   ],
   "source": [
    "start_time = time.time()\n",
    "\n",
    "for csv_file in glob.glob(\"*.csv\"):\n",
    "    print (f\"\\ncsv_file:{csv_file}\")\n",
    "    df_test_dose_response_per_chemical = pd.read_csv(csv_file, header = 0)\n",
    "    pd.set_option('display.max_columns', None)\n",
    "#    display(df_test_dose_response.head())\n",
    "    model_predictions = bmdest.analyze_dose_response_data(df_test_dose_response_per_chemical)\n",
    "    #print (f\"model_predictions:\\n{model_predictions}\")\n",
    "\n",
    "    # Select best model\n",
    "    selected_model_params = bmdest.select_model(model_predictions)\n",
    "    #print (selected_model_params)\n",
    "    \n",
    "    end_point = \"Lindsay\"\n",
    "    bmd_feasibility_flag = 2\n",
    "\n",
    "    # Check if unique model is found\n",
    "    unique_model_flag = selected_model_params['no_unique_model_found_flag']\n",
    "\n",
    "    if(unique_model_flag == 0):\n",
    "        # Generate report\n",
    "        #print(df_test_dose_response.dose[-1:])\n",
    "\n",
    "        ps.save_results_good_data_unique_model(df_test_dose_response_per_chemical, bmd_feasibility_flag, model_predictions, selected_model_params, str(chemical_id), end_point)\n",
    "    else:\n",
    "        bmd_analysis_flag = selected_model_params['model_select_flag']\n",
    "        if(bmd_analysis_flag == 1):\n",
    "            ps.save_results_poor_data_or_no_convergence(df_test_dose_response_per_chemical, bmd_feasibility_flag, str(chemical_id), end_point, selected_model_params)\n",
    "        else:\n",
    "            ps.save_results_good_data_nounique_model(df_test_dose_response_per_chemical, bmd_feasibility_flag, model_predictions, selected_model_params, str(chemical_id), end_point)\n",
    "\n",
    "end_time = time.time()\n",
    "time_took = str(round((end_time-start_time), 1)) + \" seconds\"\n",
    "print (\"BMD calculation is done, it took:\"+str(time_took)) "
   ]
  },
  {
   "cell_type": "code",
   "execution_count": 62,
   "metadata": {},
   "outputs": [
    {
     "name": "stdout",
     "output_type": "stream",
     "text": [
      "chemical_id:Benzophenone\n",
      "chemical_id:Benzyl butyl phthalate\n",
      "chemical_id:Benzyl salicylate\n",
      "chemical_id:Bis(2-ethylhexyl)phthalate\n",
      "chemical_id:Butylated hydroxytoluene\n",
      "chemical_id:DEET\n",
      "chemical_id:Diethyl phthalate\n",
      "chemical_id:Diisobutyl phthalate\n",
      "chemical_id:Dinonyl phthalate\n",
      "chemical_id:Galaxolide\n",
      "chemical_id:Lilial\n",
      "chemical_id:NHBE Mix\n",
      "chemical_id:Tonalide\n",
      "chemical_id:Triphenyl phosphate\n",
      "chemical_id:di-n-butyl phthalate\n"
     ]
    }
   ],
   "source": [
    "# divide into csv files\n",
    "\n",
    "full_devel = \"full\"\n",
    "#full_devel = \"devel\"\n",
    "\n",
    "if (full_devel == \"full\"):\n",
    "    chemical_id_from_here = np.unique(df_test_dose_response['chemical.id'])\n",
    "else: # full_devel = \"devel\"\n",
    "    #chemical_id_from_here = ['Benzophenone']\n",
    "    chemical_id_from_here = ['Benzyl butyl phthalate']\n",
    "    \n",
    "start_time = time.time()\n",
    "\n",
    "for chemical_id in chemical_id_from_here:\n",
    "    print(\"chemical_id:\" + str(chemical_id))\n",
    "    \n",
    "    # subset original dataframe for a user-specified chemical and end_point pair\n",
    "    df_test_dose_response_per_chemical = df_test_dose_response.loc[df_test_dose_response['chemical.id'] == chemical_id,['chemical.id', 'dose', 'total_num', 'num_affected']]\n",
    " #   print (f\"df_test_dose_response_per_chemical:\\n{df_test_dose_response_per_chemical}\")\n",
    "    \n",
    "    # Fit dose response models\n",
    "    df_test_dose_response_per_chemical = df_test_dose_response_per_chemical.sort_values(by=['dose'])    \n",
    "#    print (f\"df_test_dose_response_per_chemical:\\n{df_test_dose_response_per_chemical}\")\n",
    "\n",
    "    output_filename = str(chemical_id) + \".csv\"\n",
    "    df_test_dose_response_per_chemical.to_csv(output_filename, index=False) \n"
   ]
  },
  {
   "cell_type": "code",
   "execution_count": null,
   "metadata": {},
   "outputs": [],
   "source": []
  }
 ],
 "metadata": {
  "kernelspec": {
   "display_name": "Python 3",
   "language": "python",
   "name": "python3"
  },
  "language_info": {
   "codemirror_mode": {
    "name": "ipython",
    "version": 3
   },
   "file_extension": ".py",
   "mimetype": "text/x-python",
   "name": "python",
   "nbconvert_exporter": "python",
   "pygments_lexer": "ipython3",
   "version": "3.7.8"
  }
 },
 "nbformat": 4,
 "nbformat_minor": 4
}
