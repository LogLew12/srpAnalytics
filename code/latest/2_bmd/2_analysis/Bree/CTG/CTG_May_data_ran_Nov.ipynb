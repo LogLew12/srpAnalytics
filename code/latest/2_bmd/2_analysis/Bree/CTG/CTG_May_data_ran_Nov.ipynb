{
 "cells": [
  {
   "cell_type": "code",
   "execution_count": 2,
   "metadata": {},
   "outputs": [
    {
     "name": "stdout",
     "output_type": "stream",
     "text": [
      "The autoreload extension is already loaded. To reload it, use:\n",
      "  %reload_ext autoreload\n"
     ]
    }
   ],
   "source": [
    "import numpy as np\n",
    "import pandas as pd\n",
    "import os, random, shutil, sys, time\n",
    "from scipy import stats\n",
    "from matplotlib import pyplot as plt\n",
    "import seaborn as sns\n",
    "\n",
    "import warnings\n",
    "warnings.filterwarnings('ignore')\n",
    "\n",
    "import sys\n",
    "\n",
    "#mac\n",
    "util_path = \"/Users/kimd999/research/projects/Katrina/srpAnalytics/code/latest/util\"\n",
    "\n",
    "#constance\n",
    "'''args = sys.argv[0:]\n",
    "py_file = args[0]\n",
    "\n",
    "code_location = os.path.dirname(os.path.abspath(py_file))\n",
    "index_of_latest = code_location.index('latest')\n",
    "util_path = os.path.join(code_location[:index_of_latest], \"latest\", \"util\")\n",
    "'''\n",
    "\n",
    "sys.path.insert(0, util_path)\n",
    "\n",
    "# These two lines will automatically reload updated modules of mine\n",
    "# (therefore, I don't need to restart kernel after editing importing modules)\n",
    "%load_ext autoreload\n",
    "%autoreload 2"
   ]
  },
  {
   "cell_type": "code",
   "execution_count": 3,
   "metadata": {},
   "outputs": [
    {
     "name": "stdout",
     "output_type": "stream",
     "text": [
      "/Users/kimd999/research/projects/Katrina/srpAnalytics/code/latest/2_bmd/2_analysis/Bree/CTG\n"
     ]
    }
   ],
   "source": [
    "starting_dir = os.getcwd()\n",
    "print (starting_dir)"
   ]
  },
  {
   "cell_type": "code",
   "execution_count": 48,
   "metadata": {},
   "outputs": [
    {
     "data": {
      "text/html": [
       "<div>\n",
       "<style scoped>\n",
       "    .dataframe tbody tr th:only-of-type {\n",
       "        vertical-align: middle;\n",
       "    }\n",
       "\n",
       "    .dataframe tbody tr th {\n",
       "        vertical-align: top;\n",
       "    }\n",
       "\n",
       "    .dataframe thead th {\n",
       "        text-align: right;\n",
       "    }\n",
       "</style>\n",
       "<table border=\"1\" class=\"dataframe\">\n",
       "  <thead>\n",
       "    <tr style=\"text-align: right;\">\n",
       "      <th></th>\n",
       "      <th>dose</th>\n",
       "      <th>num_affected</th>\n",
       "      <th>total_num</th>\n",
       "    </tr>\n",
       "  </thead>\n",
       "  <tbody>\n",
       "    <tr>\n",
       "      <th>0</th>\n",
       "      <td>0</td>\n",
       "      <td>1.519964</td>\n",
       "      <td>100</td>\n",
       "    </tr>\n",
       "    <tr>\n",
       "      <th>1</th>\n",
       "      <td>10</td>\n",
       "      <td>0.000000</td>\n",
       "      <td>100</td>\n",
       "    </tr>\n",
       "    <tr>\n",
       "      <th>2</th>\n",
       "      <td>25</td>\n",
       "      <td>6.893015</td>\n",
       "      <td>100</td>\n",
       "    </tr>\n",
       "    <tr>\n",
       "      <th>3</th>\n",
       "      <td>50</td>\n",
       "      <td>26.519651</td>\n",
       "      <td>100</td>\n",
       "    </tr>\n",
       "    <tr>\n",
       "      <th>4</th>\n",
       "      <td>75</td>\n",
       "      <td>36.724537</td>\n",
       "      <td>100</td>\n",
       "    </tr>\n",
       "  </tbody>\n",
       "</table>\n",
       "</div>"
      ],
      "text/plain": [
       "   dose  num_affected  total_num\n",
       "0     0      1.519964        100\n",
       "1    10      0.000000        100\n",
       "2    25      6.893015        100\n",
       "3    50     26.519651        100\n",
       "4    75     36.724537        100"
      ]
     },
     "metadata": {},
     "output_type": "display_data"
    }
   ],
   "source": [
    "# keep record - worked for CTG\n",
    "complete_file_path = '/Users/kimd999/research/projects/Katrina/per_each_data/Bree/run_2021_Nov/run_May_data_in_Nov/input/BHT_May.csv'\n",
    "#complete_file_path = '/Users/kimd999/research/projects/Katrina/per_each_data/Bree/run_2021_Nov/run_May_data_in_Nov/input/tonalide_min_value_from_10_uM_May.csv'\n",
    "df_test_dose_response = pd.read_csv(complete_file_path, header = 0)\n",
    "pd.set_option('display.max_columns', None)\n",
    "display(df_test_dose_response.head())\n",
    "#display(np.unique(morpho_data.well))"
   ]
  },
  {
   "cell_type": "code",
   "execution_count": 25,
   "metadata": {},
   "outputs": [],
   "source": [
    "import generate_dose_response as gdr\n",
    "import BMD_BMDL_estimation as bmdest\n",
    "import Plot_Save as ps"
   ]
  },
  {
   "cell_type": "code",
   "execution_count": 49,
   "metadata": {},
   "outputs": [
    {
     "name": "stdout",
     "output_type": "stream",
     "text": [
      "df_test_dose_response:\n",
      "   dose  num_affected  total_num\n",
      "0     0      1.519964        100\n",
      "1    10      0.000000        100\n",
      "2    25      6.893015        100\n",
      "3    50     26.519651        100\n",
      "4    75     36.724537        100\n",
      "5   100     62.295397        100\n",
      "6   200     94.624672        100\n",
      "BMD calculation is done, it took:0.1 seconds\n"
     ]
    }
   ],
   "source": [
    "# Fit dose response models\n",
    "start_time = time.time()\n",
    "\n",
    "df_test_dose_response = df_test_dose_response.sort_values(by=['dose'])\n",
    "print (f\"df_test_dose_response:\\n{df_test_dose_response}\")\n",
    "\n",
    "model_predictions = bmdest.analyze_dose_response_data(df_test_dose_response)\n",
    "end_time = time.time()\n",
    "time_took = str(round((end_time-start_time), 1)) + \" seconds\"\n",
    "print (\"BMD calculation is done, it took:\"+str(time_took)) "
   ]
  },
  {
   "cell_type": "code",
   "execution_count": 50,
   "metadata": {},
   "outputs": [
    {
     "name": "stdout",
     "output_type": "stream",
     "text": [
      "          Model  Chi-squared     p-val         AIC     BMD10     BMDL10  \\\n",
      "0  log_logistic     7.458424  0.113557  502.321889  35.91109  30.713144   \n",
      "\n",
      "       BMD50                                   Scaled Residuals  \\\n",
      "0  82.034986  [-0.5616445303213036, 1.1633563456567928, -0.8...   \n",
      "\n",
      "                                    Optimized Params Conv Flag BMDL Conv  \n",
      "0  [0.00969608094888539, -11.721938240772209, 2.6...         0         0  \n"
     ]
    }
   ],
   "source": [
    "print (model_predictions)"
   ]
  },
  {
   "cell_type": "code",
   "execution_count": 51,
   "metadata": {},
   "outputs": [
    {
     "name": "stdout",
     "output_type": "stream",
     "text": [
      "{'model': 0    log_logistic\n",
      "Name: Model, dtype: object, 'no_unique_model_found_flag': 0, 'model_select_flag': 0, 'pval_thresh_flag': 0}\n"
     ]
    }
   ],
   "source": [
    "# Select best model\n",
    "selected_model_params = bmdest.select_model(model_predictions)\n",
    "print (selected_model_params)"
   ]
  },
  {
   "cell_type": "code",
   "execution_count": 52,
   "metadata": {},
   "outputs": [],
   "source": [
    "chemical_id = \"tonalide_min_value_from_10_uM_by_log_logistic\"\n",
    "end_point = \"CTG\"\n",
    "bmd_feasibility_flag = 2\n",
    "\n",
    "# Check if unique model is found\n",
    "unique_model_flag = selected_model_params['no_unique_model_found_flag']\n",
    "\n",
    "if(unique_model_flag == 0):\n",
    "    # Generate report\n",
    "    #print(df_test_dose_response.dose[-1:])\n",
    "\n",
    "    ps.save_results_good_data_unique_model(df_test_dose_response, bmd_feasibility_flag, model_predictions, selected_model_params, str(chemical_id), end_point)\n",
    "else:\n",
    "    bmd_analysis_flag = selected_model_params['model_select_flag']\n",
    "    if(bmd_analysis_flag == 1):\n",
    "        ps.save_results_poor_data_or_no_convergence(df_test_dose_response, bmd_feasibility_flag, str(chemical_id), end_point, selected_model_params)\n",
    "    else:\n",
    "        ps.save_results_good_data_nounique_model(df_test_dose_response, bmd_feasibility_flag, model_predictions, selected_model_params, str(chemical_id), end_point)"
   ]
  },
  {
   "cell_type": "code",
   "execution_count": null,
   "metadata": {},
   "outputs": [],
   "source": []
  }
 ],
 "metadata": {
  "kernelspec": {
   "display_name": "Python 3",
   "language": "python",
   "name": "python3"
  },
  "language_info": {
   "codemirror_mode": {
    "name": "ipython",
    "version": 3
   },
   "file_extension": ".py",
   "mimetype": "text/x-python",
   "name": "python",
   "nbconvert_exporter": "python",
   "pygments_lexer": "ipython3",
   "version": "3.7.8"
  }
 },
 "nbformat": 4,
 "nbformat_minor": 4
}
