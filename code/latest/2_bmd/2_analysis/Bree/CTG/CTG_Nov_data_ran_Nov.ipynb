{
 "cells": [
  {
   "cell_type": "code",
   "execution_count": 1,
   "metadata": {},
   "outputs": [],
   "source": [
    "%load_ext autoreload\n",
    "%autoreload 2\n",
    "\n",
    "import numpy as np\n",
    "import pandas as pd\n",
    "import os, random, shutil, sys, time\n",
    "from scipy import stats\n",
    "from matplotlib import pyplot as plt\n",
    "import seaborn as sns\n",
    "\n",
    "import warnings\n",
    "warnings.filterwarnings('ignore')\n",
    "\n",
    "import sys\n",
    "\n",
    "#mac\n",
    "util_path = \"/Users/kimd999/research/projects/Katrina/srpAnalytics/code/latest/util\"\n",
    "\n",
    "#constance\n",
    "'''args = sys.argv[0:]\n",
    "py_file = args[0]\n",
    "\n",
    "code_location = os.path.dirname(os.path.abspath(py_file))\n",
    "index_of_latest = code_location.index('latest')\n",
    "util_path = os.path.join(code_location[:index_of_latest], \"latest\", \"util\")\n",
    "'''\n",
    "\n",
    "sys.path.insert(0, util_path)"
   ]
  },
  {
   "cell_type": "code",
   "execution_count": 2,
   "metadata": {},
   "outputs": [
    {
     "name": "stdout",
     "output_type": "stream",
     "text": [
      "/Users/kimd999/research/projects/Katrina/srpAnalytics/code/latest/2_bmd/2_analysis/Bree/CTG\n"
     ]
    }
   ],
   "source": [
    "starting_dir = os.getcwd()\n",
    "print (starting_dir)"
   ]
  },
  {
   "cell_type": "code",
   "execution_count": 4,
   "metadata": {},
   "outputs": [
    {
     "data": {
      "text/html": [
       "<div>\n",
       "<style scoped>\n",
       "    .dataframe tbody tr th:only-of-type {\n",
       "        vertical-align: middle;\n",
       "    }\n",
       "\n",
       "    .dataframe tbody tr th {\n",
       "        vertical-align: top;\n",
       "    }\n",
       "\n",
       "    .dataframe thead th {\n",
       "        text-align: right;\n",
       "    }\n",
       "</style>\n",
       "<table border=\"1\" class=\"dataframe\">\n",
       "  <thead>\n",
       "    <tr style=\"text-align: right;\">\n",
       "      <th></th>\n",
       "      <th>dose</th>\n",
       "      <th>num_affected</th>\n",
       "      <th>total_num</th>\n",
       "    </tr>\n",
       "  </thead>\n",
       "  <tbody>\n",
       "    <tr>\n",
       "      <th>0</th>\n",
       "      <td>0.0</td>\n",
       "      <td>10.536908</td>\n",
       "      <td>100</td>\n",
       "    </tr>\n",
       "    <tr>\n",
       "      <th>1</th>\n",
       "      <td>11.5</td>\n",
       "      <td>0.000000</td>\n",
       "      <td>100</td>\n",
       "    </tr>\n",
       "    <tr>\n",
       "      <th>2</th>\n",
       "      <td>23.0</td>\n",
       "      <td>8.223597</td>\n",
       "      <td>100</td>\n",
       "    </tr>\n",
       "    <tr>\n",
       "      <th>3</th>\n",
       "      <td>57.6</td>\n",
       "      <td>15.938307</td>\n",
       "      <td>100</td>\n",
       "    </tr>\n",
       "    <tr>\n",
       "      <th>4</th>\n",
       "      <td>92.2</td>\n",
       "      <td>62.630170</td>\n",
       "      <td>100</td>\n",
       "    </tr>\n",
       "  </tbody>\n",
       "</table>\n",
       "</div>"
      ],
      "text/plain": [
       "   dose  num_affected  total_num\n",
       "0   0.0     10.536908        100\n",
       "1  11.5      0.000000        100\n",
       "2  23.0      8.223597        100\n",
       "3  57.6     15.938307        100\n",
       "4  92.2     62.630170        100"
      ]
     },
     "metadata": {},
     "output_type": "display_data"
    },
    {
     "data": {
      "text/html": [
       "<div>\n",
       "<style scoped>\n",
       "    .dataframe tbody tr th:only-of-type {\n",
       "        vertical-align: middle;\n",
       "    }\n",
       "\n",
       "    .dataframe tbody tr th {\n",
       "        vertical-align: top;\n",
       "    }\n",
       "\n",
       "    .dataframe thead th {\n",
       "        text-align: right;\n",
       "    }\n",
       "</style>\n",
       "<table border=\"1\" class=\"dataframe\">\n",
       "  <thead>\n",
       "    <tr style=\"text-align: right;\">\n",
       "      <th></th>\n",
       "      <th>dose</th>\n",
       "      <th>num_affected</th>\n",
       "      <th>total_num</th>\n",
       "    </tr>\n",
       "  </thead>\n",
       "  <tbody>\n",
       "    <tr>\n",
       "      <th>3</th>\n",
       "      <td>57.6</td>\n",
       "      <td>15.938307</td>\n",
       "      <td>100</td>\n",
       "    </tr>\n",
       "    <tr>\n",
       "      <th>4</th>\n",
       "      <td>92.2</td>\n",
       "      <td>62.630170</td>\n",
       "      <td>100</td>\n",
       "    </tr>\n",
       "    <tr>\n",
       "      <th>5</th>\n",
       "      <td>115.2</td>\n",
       "      <td>62.030508</td>\n",
       "      <td>100</td>\n",
       "    </tr>\n",
       "    <tr>\n",
       "      <th>6</th>\n",
       "      <td>172.8</td>\n",
       "      <td>83.389839</td>\n",
       "      <td>100</td>\n",
       "    </tr>\n",
       "    <tr>\n",
       "      <th>7</th>\n",
       "      <td>230.4</td>\n",
       "      <td>97.021805</td>\n",
       "      <td>100</td>\n",
       "    </tr>\n",
       "  </tbody>\n",
       "</table>\n",
       "</div>"
      ],
      "text/plain": [
       "    dose  num_affected  total_num\n",
       "3   57.6     15.938307        100\n",
       "4   92.2     62.630170        100\n",
       "5  115.2     62.030508        100\n",
       "6  172.8     83.389839        100\n",
       "7  230.4     97.021805        100"
      ]
     },
     "metadata": {},
     "output_type": "display_data"
    }
   ],
   "source": [
    "#complete_file_path = '/Users/kimd999/research/projects/Katrina/per_each_data/Bree/run_2021_Nov/run_Nov_data_in_Nov/w_average_of_already_averaged_values/input/Nov_w_average_of_already_averaged_values.csv'\n",
    "\n",
    "complete_file_path = '/Users/kimd999/research/projects/Katrina/per_each_data/Bree/run_2021_Nov/run_Nov_data_in_Nov/correct/input/Nov_w_average_values.csv'\n",
    "\n",
    "df_test_dose_response = pd.read_csv(complete_file_path, header = 0)\n",
    "pd.set_option('display.max_columns', None)\n",
    "display(df_test_dose_response.head())\n",
    "display(df_test_dose_response.tail())\n",
    "#display(np.unique(morpho_data.well))"
   ]
  },
  {
   "cell_type": "code",
   "execution_count": 5,
   "metadata": {},
   "outputs": [],
   "source": [
    "import generate_dose_response as gdr\n",
    "import BMD_BMDL_estimation as bmdest\n",
    "import Plot_Save as ps"
   ]
  },
  {
   "cell_type": "code",
   "execution_count": 6,
   "metadata": {},
   "outputs": [
    {
     "name": "stdout",
     "output_type": "stream",
     "text": [
      "df_test_dose_response:\n",
      "    dose  num_affected  total_num\n",
      "0    0.0     10.536908        100\n",
      "1   11.5      0.000000        100\n",
      "2   23.0      8.223597        100\n",
      "3   57.6     15.938307        100\n",
      "4   92.2     62.630170        100\n",
      "5  115.2     62.030508        100\n",
      "6  172.8     83.389839        100\n",
      "7  230.4     97.021805        100\n",
      "Model Convergence:True\n",
      "BMD calculation is done, it took:3.3 seconds\n"
     ]
    }
   ],
   "source": [
    "# Fit dose response models\n",
    "start_time = time.time()\n",
    "\n",
    "df_test_dose_response = df_test_dose_response.sort_values(by=['num_affected'])\n",
    "df_test_dose_response = df_test_dose_response.sort_values(by=['dose'])\n",
    "print (f\"df_test_dose_response:\\n{df_test_dose_response}\")\n",
    "\n",
    "model_predictions = bmdest.analyze_dose_response_data(df_test_dose_response)\n",
    "end_time = time.time()\n",
    "time_took = str(round((end_time-start_time), 1)) + \" seconds\"\n",
    "print (\"BMD calculation is done, it took:\"+str(time_took)) "
   ]
  },
  {
   "cell_type": "code",
   "execution_count": 7,
   "metadata": {},
   "outputs": [
    {
     "name": "stdout",
     "output_type": "stream",
     "text": [
      "            Model  Chi-squared         p-val         AIC      BMD10  \\\n",
      "0        logistic    32.556469  1.276067e-05  636.573575  38.468094   \n",
      "1           gamma    24.103197  2.074197e-04  628.434293  43.464468   \n",
      "2         weibull          NaN           NaN         NaN        NaN   \n",
      "3    log_logistic    22.723699  3.811883e-04  627.287499  47.850256   \n",
      "4          probit    34.380343  5.680121e-06  638.255895  35.670867   \n",
      "5      log_probit          NaN           NaN         NaN        NaN   \n",
      "6    multistage_2    33.558499  2.914771e-06  641.190673  27.776240   \n",
      "7  quantal_linear    75.911325  2.491510e-14  691.588859  12.898033   \n",
      "\n",
      "      BMDL10       BMD50                                   Scaled Residuals  \\\n",
      "0        NaN   82.489446  [-2.1806261088715906, 2.8560859600367543, 0.64...   \n",
      "1  35.955546   97.722743  [-2.2751092708714107, 2.435066715987379, -0.44...   \n",
      "2        NaN         NaN           [nan, nan, nan, nan, nan, nan, nan, nan]   \n",
      "3  40.668556   94.916424  [-2.1383920474686113, 2.463695392504947, -0.65...   \n",
      "4  32.242548  104.780136  [-2.4077579970015206, 2.8441234379254468, 0.73...   \n",
      "5        NaN         NaN           [nan, nan, nan, nan, nan, nan, nan, nan]   \n",
      "6        NaN   93.746547  [-2.5405076427408275, 2.9730333322418656, 1.27...   \n",
      "7  11.648575   84.853751  [-3.595692379106224, 3.7551672377755665, 2.986...   \n",
      "\n",
      "                                    Optimized Params Conv Flag BMDL Conv  \n",
      "0         [-2.8350386926396416, 0.02858893833082794]         0         1  \n",
      "1  [0.05396382718123244, 3.473232506016439, 0.032...         0         0  \n",
      "2                                                NaN         1         1  \n",
      "3  [0.05614356321859726, -14.606015438192896, 3.2...         0         0  \n",
      "4         [-1.6263306515668123, 0.01614307335322753]         0         0  \n",
      "5                                                NaN         1         1  \n",
      "6  [0.05, 0.002277163755110608, 5.457991370353519...         0         1  \n",
      "7         [0.0372638863643485, 0.008168727620115765]         0         0  \n"
     ]
    }
   ],
   "source": [
    "print (model_predictions)"
   ]
  },
  {
   "cell_type": "code",
   "execution_count": 8,
   "metadata": {},
   "outputs": [
    {
     "name": "stdout",
     "output_type": "stream",
     "text": [
      "{'model': 3    log_logistic\n",
      "Name: Model, dtype: object, 'no_unique_model_found_flag': 0, 'model_select_flag': 2, 'pval_thresh_flag': 1}\n"
     ]
    }
   ],
   "source": [
    "# Select best model\n",
    "selected_model_params = bmdest.select_model(model_predictions)\n",
    "print (selected_model_params)"
   ]
  },
  {
   "cell_type": "code",
   "execution_count": 9,
   "metadata": {},
   "outputs": [],
   "source": [
    "chemical_id = \"Nov_w_raw_average_values\"\n",
    "end_point = \"BMC\"\n",
    "bmd_feasibility_flag = 2\n",
    "\n",
    "# Check if unique model is found\n",
    "unique_model_flag = selected_model_params['no_unique_model_found_flag']\n",
    "\n",
    "if(unique_model_flag == 0):\n",
    "    # Generate report\n",
    "    #print(df_test_dose_response.dose[-1:])\n",
    "\n",
    "    ps.save_results_good_data_unique_model(df_test_dose_response, bmd_feasibility_flag, model_predictions, selected_model_params, str(chemical_id), end_point)\n",
    "else:\n",
    "    bmd_analysis_flag = selected_model_params['model_select_flag']\n",
    "    if(bmd_analysis_flag == 1):\n",
    "        ps.save_results_poor_data_or_no_convergence(df_test_dose_response, bmd_feasibility_flag, str(chemical_id), end_point, selected_model_params)\n",
    "    else:\n",
    "        ps.save_results_good_data_nounique_model(df_test_dose_response, bmd_feasibility_flag, model_predictions, selected_model_params, str(chemical_id), end_point)"
   ]
  },
  {
   "cell_type": "code",
   "execution_count": null,
   "metadata": {},
   "outputs": [],
   "source": []
  }
 ],
 "metadata": {
  "kernelspec": {
   "display_name": "Python 3",
   "language": "python",
   "name": "python3"
  },
  "language_info": {
   "codemirror_mode": {
    "name": "ipython",
    "version": 3
   },
   "file_extension": ".py",
   "mimetype": "text/x-python",
   "name": "python",
   "nbconvert_exporter": "python",
   "pygments_lexer": "ipython3",
   "version": "3.7.8"
  }
 },
 "nbformat": 4,
 "nbformat_minor": 4
}
