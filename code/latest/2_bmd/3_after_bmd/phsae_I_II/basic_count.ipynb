{
 "cells": [
  {
   "cell_type": "code",
   "execution_count": 1,
   "metadata": {},
   "outputs": [],
   "source": [
    "from datetime import datetime\n",
    "import numpy as np\n",
    "import pandas as pd\n",
    "import matplotlib.pyplot as plt\n",
    "import os, random, shutil, sys, time\n",
    "import seaborn as sns\n",
    "\n",
    "import warnings\n",
    "warnings.filterwarnings('ignore')"
   ]
  },
  {
   "cell_type": "code",
   "execution_count": 2,
   "metadata": {},
   "outputs": [
    {
     "name": "stdout",
     "output_type": "stream",
     "text": [
      "/Users/kimd999/research/projects/less_active/Katrina/code/srpAnalytics/code/latest/2_bmd/3_after_bmd/phsae_I_II\n"
     ]
    }
   ],
   "source": [
    "starting_dir = os.getcwd()\n",
    "print (starting_dir)"
   ]
  },
  {
   "cell_type": "code",
   "execution_count": 4,
   "metadata": {},
   "outputs": [
    {
     "data": {
      "text/html": [
       "<div>\n",
       "<style scoped>\n",
       "    .dataframe tbody tr th:only-of-type {\n",
       "        vertical-align: middle;\n",
       "    }\n",
       "\n",
       "    .dataframe tbody tr th {\n",
       "        vertical-align: top;\n",
       "    }\n",
       "\n",
       "    .dataframe thead th {\n",
       "        text-align: right;\n",
       "    }\n",
       "</style>\n",
       "<table border=\"1\" class=\"dataframe\">\n",
       "  <thead>\n",
       "    <tr style=\"text-align: right;\">\n",
       "      <th></th>\n",
       "      <th>Chemical_ID</th>\n",
       "      <th>End_Point</th>\n",
       "      <th>Model</th>\n",
       "      <th>BMD10</th>\n",
       "      <th>BMDL</th>\n",
       "      <th>BMD50</th>\n",
       "      <th>AUC</th>\n",
       "      <th>Min_Dose</th>\n",
       "      <th>Max_Dose</th>\n",
       "      <th>AUC_Norm</th>\n",
       "      <th>DataQC_Flag</th>\n",
       "      <th>BMD_Analysis_Flag</th>\n",
       "      <th>BMD10_Flag</th>\n",
       "      <th>BMD50_Flag</th>\n",
       "    </tr>\n",
       "  </thead>\n",
       "  <tbody>\n",
       "    <tr>\n",
       "      <th>0</th>\n",
       "      <td>53</td>\n",
       "      <td>ANY24</td>\n",
       "      <td>NaN</td>\n",
       "      <td>NaN</td>\n",
       "      <td>NaN</td>\n",
       "      <td>NaN</td>\n",
       "      <td>3.840625</td>\n",
       "      <td>0.0</td>\n",
       "      <td>50.0</td>\n",
       "      <td>0.076812</td>\n",
       "      <td>1</td>\n",
       "      <td>NaN</td>\n",
       "      <td>NaN</td>\n",
       "      <td>NaN</td>\n",
       "    </tr>\n",
       "    <tr>\n",
       "      <th>1</th>\n",
       "      <td>53</td>\n",
       "      <td>ANY120</td>\n",
       "      <td>NaN</td>\n",
       "      <td>NaN</td>\n",
       "      <td>NaN</td>\n",
       "      <td>NaN</td>\n",
       "      <td>4.943750</td>\n",
       "      <td>0.0</td>\n",
       "      <td>50.0</td>\n",
       "      <td>0.098875</td>\n",
       "      <td>1</td>\n",
       "      <td>NaN</td>\n",
       "      <td>NaN</td>\n",
       "      <td>NaN</td>\n",
       "    </tr>\n",
       "    <tr>\n",
       "      <th>2</th>\n",
       "      <td>53</td>\n",
       "      <td>AXIS</td>\n",
       "      <td>weibull</td>\n",
       "      <td>4507.931977</td>\n",
       "      <td>NaN</td>\n",
       "      <td>1.891008e+12</td>\n",
       "      <td>2.781351</td>\n",
       "      <td>0.0</td>\n",
       "      <td>50.0</td>\n",
       "      <td>0.055627</td>\n",
       "      <td>4</td>\n",
       "      <td>0.0</td>\n",
       "      <td>1.0</td>\n",
       "      <td>1.0</td>\n",
       "    </tr>\n",
       "    <tr>\n",
       "      <th>3</th>\n",
       "      <td>53</td>\n",
       "      <td>ALL_BUT_MORT</td>\n",
       "      <td>weibull</td>\n",
       "      <td>inf</td>\n",
       "      <td>NaN</td>\n",
       "      <td>inf</td>\n",
       "      <td>4.070161</td>\n",
       "      <td>0.0</td>\n",
       "      <td>50.0</td>\n",
       "      <td>0.081403</td>\n",
       "      <td>4</td>\n",
       "      <td>0.0</td>\n",
       "      <td>1.0</td>\n",
       "      <td>1.0</td>\n",
       "    </tr>\n",
       "    <tr>\n",
       "      <th>4</th>\n",
       "      <td>53</td>\n",
       "      <td>BRN_</td>\n",
       "      <td>weibull</td>\n",
       "      <td>4507.931977</td>\n",
       "      <td>NaN</td>\n",
       "      <td>1.891008e+12</td>\n",
       "      <td>2.781351</td>\n",
       "      <td>0.0</td>\n",
       "      <td>50.0</td>\n",
       "      <td>0.055627</td>\n",
       "      <td>4</td>\n",
       "      <td>0.0</td>\n",
       "      <td>1.0</td>\n",
       "      <td>1.0</td>\n",
       "    </tr>\n",
       "  </tbody>\n",
       "</table>\n",
       "</div>"
      ],
      "text/plain": [
       "   Chemical_ID     End_Point    Model        BMD10  BMDL         BMD50  \\\n",
       "0           53         ANY24      NaN          NaN   NaN           NaN   \n",
       "1           53        ANY120      NaN          NaN   NaN           NaN   \n",
       "2           53          AXIS  weibull  4507.931977   NaN  1.891008e+12   \n",
       "3           53  ALL_BUT_MORT  weibull          inf   NaN           inf   \n",
       "4           53          BRN_  weibull  4507.931977   NaN  1.891008e+12   \n",
       "\n",
       "        AUC  Min_Dose  Max_Dose  AUC_Norm  DataQC_Flag  BMD_Analysis_Flag  \\\n",
       "0  3.840625       0.0      50.0  0.076812            1                NaN   \n",
       "1  4.943750       0.0      50.0  0.098875            1                NaN   \n",
       "2  2.781351       0.0      50.0  0.055627            4                0.0   \n",
       "3  4.070161       0.0      50.0  0.081403            4                0.0   \n",
       "4  2.781351       0.0      50.0  0.055627            4                0.0   \n",
       "\n",
       "   BMD10_Flag  BMD50_Flag  \n",
       "0         NaN         NaN  \n",
       "1         NaN         NaN  \n",
       "2         1.0         1.0  \n",
       "3         1.0         1.0  \n",
       "4         1.0         1.0  "
      ]
     },
     "metadata": {},
     "output_type": "display_data"
    },
    {
     "data": {
      "text/plain": [
       "335"
      ]
     },
     "metadata": {},
     "output_type": "display_data"
    }
   ],
   "source": [
    "complete_input_file_path= '/Users/kimd999/bmd_vals_2021_04_26.csv'\n",
    "df = pd.read_csv(complete_input_file_path, header = 0)\n",
    "#print(df.columns)\n",
    "\n",
    "display(df.head())"
   ]
  },
  {
   "cell_type": "code",
   "execution_count": 13,
   "metadata": {},
   "outputs": [
    {
     "data": {
      "text/plain": [
       "(6030, 14)"
      ]
     },
     "execution_count": 13,
     "metadata": {},
     "output_type": "execute_result"
    }
   ],
   "source": [
    "df.shape"
   ]
  },
  {
   "cell_type": "code",
   "execution_count": null,
   "metadata": {},
   "outputs": [],
   "source": [
    "display (len(np.unique(df['Chemical_ID'])))"
   ]
  },
  {
   "cell_type": "code",
   "execution_count": null,
   "metadata": {},
   "outputs": [],
   "source": [
    "'''\n",
    "    0: Not enough dose groups for BMD analysis. BMD analysis not performed\n",
    "    1: No trend detected in dose-response data. BMD Analysis not performed\n",
    "    2: Good dose-response data\n",
    "    3: Dose-response data quality poor. BMD analysis might be unreliable\n",
    "    4: Data resolution poor. BMD analysis might be unreliable\n",
    "    5: No trend detected in dose-response data. BMD analysis not performed'''\n",
    "\n",
    "# from best to worst\n",
    "#2->3->4       ->(0,1,5)\n",
    "\n",
    "# count per this QC\n",
    "#31->721->1908->3370\n",
    "\n",
    "'''\n",
    "# Doo Nam thinks that we consider\n",
    "QC=2/3 as good\n",
    "QC=4 as moderate\n",
    "QC=0,1,5 as poor\n",
    "in the first paper\n",
    "'''"
   ]
  },
  {
   "cell_type": "code",
   "execution_count": 15,
   "metadata": {},
   "outputs": [
    {
     "data": {
      "text/plain": [
       "(18, 14)"
      ]
     },
     "execution_count": 15,
     "metadata": {},
     "output_type": "execute_result"
    }
   ],
   "source": [
    "df[df['DataQC_Flag'] == 0].shape"
   ]
  },
  {
   "cell_type": "code",
   "execution_count": 8,
   "metadata": {},
   "outputs": [
    {
     "data": {
      "text/plain": [
       "(3352, 14)"
      ]
     },
     "execution_count": 8,
     "metadata": {},
     "output_type": "execute_result"
    }
   ],
   "source": [
    "df[df['DataQC_Flag'] == 1].shape"
   ]
  },
  {
   "cell_type": "code",
   "execution_count": 9,
   "metadata": {},
   "outputs": [
    {
     "data": {
      "text/plain": [
       "(31, 14)"
      ]
     },
     "execution_count": 9,
     "metadata": {},
     "output_type": "execute_result"
    }
   ],
   "source": [
    "df[df['DataQC_Flag'] == 2].shape"
   ]
  },
  {
   "cell_type": "code",
   "execution_count": 10,
   "metadata": {},
   "outputs": [
    {
     "data": {
      "text/plain": [
       "(721, 14)"
      ]
     },
     "execution_count": 10,
     "metadata": {},
     "output_type": "execute_result"
    }
   ],
   "source": [
    "df[df['DataQC_Flag'] == 3].shape"
   ]
  },
  {
   "cell_type": "code",
   "execution_count": 11,
   "metadata": {},
   "outputs": [
    {
     "data": {
      "text/plain": [
       "(1908, 14)"
      ]
     },
     "execution_count": 11,
     "metadata": {},
     "output_type": "execute_result"
    }
   ],
   "source": [
    "df[df['DataQC_Flag'] == 4].shape"
   ]
  },
  {
   "cell_type": "code",
   "execution_count": 14,
   "metadata": {},
   "outputs": [
    {
     "data": {
      "text/plain": [
       "(0, 14)"
      ]
     },
     "execution_count": 14,
     "metadata": {},
     "output_type": "execute_result"
    }
   ],
   "source": [
    "df[df['DataQC_Flag'] == 5].shape"
   ]
  },
  {
   "cell_type": "code",
   "execution_count": null,
   "metadata": {},
   "outputs": [],
   "source": []
  }
 ],
 "metadata": {
  "kernelspec": {
   "display_name": "Python 3",
   "language": "python",
   "name": "python3"
  },
  "language_info": {
   "codemirror_mode": {
    "name": "ipython",
    "version": 3
   },
   "file_extension": ".py",
   "mimetype": "text/x-python",
   "name": "python",
   "nbconvert_exporter": "python",
   "pygments_lexer": "ipython3",
   "version": "3.7.8"
  }
 },
 "nbformat": 4,
 "nbformat_minor": 4
}
