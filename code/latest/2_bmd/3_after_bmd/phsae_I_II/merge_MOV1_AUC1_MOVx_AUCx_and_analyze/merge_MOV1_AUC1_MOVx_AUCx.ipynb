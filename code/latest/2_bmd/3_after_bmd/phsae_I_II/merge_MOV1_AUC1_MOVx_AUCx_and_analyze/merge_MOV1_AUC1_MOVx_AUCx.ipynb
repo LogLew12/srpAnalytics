{
 "cells": [
  {
   "cell_type": "code",
   "execution_count": 148,
   "metadata": {},
   "outputs": [],
   "source": [
    "import numpy as np\n",
    "import pandas as pd\n",
    "import matplotlib.pyplot as plt\n",
    "import matplotlib.ticker as ticker\n",
    "import os, random, shutil, time\n",
    "import seaborn as sns\n",
    "from statannot import add_stat_annotation\n",
    "\n",
    "import warnings\n",
    "warnings.filterwarnings('ignore')\n",
    "\n",
    "import sys\n",
    "\n",
    "#mac\n",
    "util_path = \"/Users/kimd999/research/script_not_in_dropbox/srpAnalytics/code/latest/util\"\n",
    "\n",
    "#constance\n",
    "'''\n",
    "args = sys.argv[0:]\n",
    "py_file = args[0]\n",
    "py_file_wo_path = os.path.basename(py_file)\n",
    "\n",
    "code_location = os.path.dirname(os.path.abspath(py_file))\n",
    "index_of_latest = code_location.index('latest')\n",
    "util_path = os.path.join(code_location[:index_of_latest], \"latest\", \"util\")\n",
    "print (\"util_path:\"+ str(util_path))\n",
    "'''\n",
    "\n",
    "sys.path.insert(0, util_path)"
   ]
  },
  {
   "cell_type": "code",
   "execution_count": null,
   "metadata": {},
   "outputs": [],
   "source": [
    "starting_dir = os.getcwd()\n",
    "print (starting_dir)"
   ]
  },
  {
   "cell_type": "code",
   "execution_count": null,
   "metadata": {},
   "outputs": [],
   "source": [
    "# phase I && II - LPR - after_merging - 240 timepoints - BMD from MOV1, AUC1\n",
    "complete_file_path = '/Users/kimd999/research/projects/toxicity/per_each_data/phase_I_II/output/LPR/240_timepoints_186_chemicals/BMD_from_MOV1_AUC1/bmd_vals_2021_06_21.csv'\n",
    "\n",
    "df_BMD_MOV1_AUC1 = pd.read_csv(complete_file_path, header = 0)\n",
    "display(df_BMD_MOV1_AUC1.head())"
   ]
  },
  {
   "cell_type": "code",
   "execution_count": 374,
   "metadata": {},
   "outputs": [
    {
     "data": {
      "text/html": [
       "<div>\n",
       "<style scoped>\n",
       "    .dataframe tbody tr th:only-of-type {\n",
       "        vertical-align: middle;\n",
       "    }\n",
       "\n",
       "    .dataframe tbody tr th {\n",
       "        vertical-align: top;\n",
       "    }\n",
       "\n",
       "    .dataframe thead th {\n",
       "        text-align: right;\n",
       "    }\n",
       "</style>\n",
       "<table border=\"1\" class=\"dataframe\">\n",
       "  <thead>\n",
       "    <tr style=\"text-align: right;\">\n",
       "      <th></th>\n",
       "      <th>Chemical_ID</th>\n",
       "      <th>End_Point</th>\n",
       "      <th>Model</th>\n",
       "      <th>BMD10</th>\n",
       "      <th>BMDL</th>\n",
       "      <th>BMD50</th>\n",
       "      <th>AUC</th>\n",
       "      <th>Min_Dose</th>\n",
       "      <th>Max_Dose</th>\n",
       "      <th>AUC_Norm</th>\n",
       "      <th>DataQC_Flag</th>\n",
       "      <th>BMD_Analysis_Flag</th>\n",
       "      <th>BMD10_Flag</th>\n",
       "      <th>BMD50_Flag</th>\n",
       "    </tr>\n",
       "  </thead>\n",
       "  <tbody>\n",
       "    <tr>\n",
       "      <th>0</th>\n",
       "      <td>1030</td>\n",
       "      <td>MOV2</td>\n",
       "      <td>NaN</td>\n",
       "      <td>NaN</td>\n",
       "      <td>NaN</td>\n",
       "      <td>NaN</td>\n",
       "      <td>15.432520</td>\n",
       "      <td>0.0</td>\n",
       "      <td>50.0</td>\n",
       "      <td>0.308650</td>\n",
       "      <td>1</td>\n",
       "      <td>NaN</td>\n",
       "      <td>NaN</td>\n",
       "      <td>NaN</td>\n",
       "    </tr>\n",
       "    <tr>\n",
       "      <th>1</th>\n",
       "      <td>1030</td>\n",
       "      <td>AUC2</td>\n",
       "      <td>NaN</td>\n",
       "      <td>NaN</td>\n",
       "      <td>NaN</td>\n",
       "      <td>NaN</td>\n",
       "      <td>14.208036</td>\n",
       "      <td>0.0</td>\n",
       "      <td>50.0</td>\n",
       "      <td>0.284161</td>\n",
       "      <td>1</td>\n",
       "      <td>NaN</td>\n",
       "      <td>NaN</td>\n",
       "      <td>NaN</td>\n",
       "    </tr>\n",
       "    <tr>\n",
       "      <th>2</th>\n",
       "      <td>1030</td>\n",
       "      <td>MOV3</td>\n",
       "      <td>log_probit</td>\n",
       "      <td>0.0</td>\n",
       "      <td>NaN</td>\n",
       "      <td>0.352</td>\n",
       "      <td>26.162137</td>\n",
       "      <td>0.0</td>\n",
       "      <td>50.0</td>\n",
       "      <td>0.523243</td>\n",
       "      <td>4</td>\n",
       "      <td>0.0</td>\n",
       "      <td>-1.0</td>\n",
       "      <td>-1.0</td>\n",
       "    </tr>\n",
       "    <tr>\n",
       "      <th>3</th>\n",
       "      <td>1030</td>\n",
       "      <td>AUC3</td>\n",
       "      <td>NaN</td>\n",
       "      <td>NaN</td>\n",
       "      <td>NaN</td>\n",
       "      <td>NaN</td>\n",
       "      <td>8.539286</td>\n",
       "      <td>0.0</td>\n",
       "      <td>50.0</td>\n",
       "      <td>0.170786</td>\n",
       "      <td>1</td>\n",
       "      <td>NaN</td>\n",
       "      <td>NaN</td>\n",
       "      <td>NaN</td>\n",
       "    </tr>\n",
       "    <tr>\n",
       "      <th>4</th>\n",
       "      <td>1030</td>\n",
       "      <td>MOV4</td>\n",
       "      <td>weibull</td>\n",
       "      <td>0.0</td>\n",
       "      <td>NaN</td>\n",
       "      <td>0.000</td>\n",
       "      <td>38.641976</td>\n",
       "      <td>0.0</td>\n",
       "      <td>50.0</td>\n",
       "      <td>0.772840</td>\n",
       "      <td>4</td>\n",
       "      <td>0.0</td>\n",
       "      <td>-1.0</td>\n",
       "      <td>-1.0</td>\n",
       "    </tr>\n",
       "  </tbody>\n",
       "</table>\n",
       "</div>"
      ],
      "text/plain": [
       "   Chemical_ID End_Point       Model  BMD10  BMDL  BMD50        AUC  Min_Dose  \\\n",
       "0         1030      MOV2         NaN    NaN   NaN    NaN  15.432520       0.0   \n",
       "1         1030      AUC2         NaN    NaN   NaN    NaN  14.208036       0.0   \n",
       "2         1030      MOV3  log_probit    0.0   NaN  0.352  26.162137       0.0   \n",
       "3         1030      AUC3         NaN    NaN   NaN    NaN   8.539286       0.0   \n",
       "4         1030      MOV4     weibull    0.0   NaN  0.000  38.641976       0.0   \n",
       "\n",
       "   Max_Dose  AUC_Norm  DataQC_Flag  BMD_Analysis_Flag  BMD10_Flag  BMD50_Flag  \n",
       "0      50.0  0.308650            1                NaN         NaN         NaN  \n",
       "1      50.0  0.284161            1                NaN         NaN         NaN  \n",
       "2      50.0  0.523243            4                0.0        -1.0        -1.0  \n",
       "3      50.0  0.170786            1                NaN         NaN         NaN  \n",
       "4      50.0  0.772840            4                0.0        -1.0        -1.0  "
      ]
     },
     "metadata": {},
     "output_type": "display_data"
    }
   ],
   "source": [
    "# phase I && II - LPR - after_merging - 240 timepoints - BMD from MOV2~4, AUC2~4\n",
    "complete_file_path = '/Users/kimd999/research/projects/toxicity/per_each_data/phase_I_II/output/LPR/240_timepoints_186_chemicals/BMD_from_MOV_AUC_2_3_4/bmd_vals_2021_06_22.csv'\n",
    "\n",
    "df_BMD_MOVx_AUCx = pd.read_csv(complete_file_path, header = 0)\n",
    "display(df_BMD_MOVx_AUCx.head())"
   ]
  },
  {
   "cell_type": "code",
   "execution_count": 426,
   "metadata": {},
   "outputs": [
    {
     "data": {
      "text/html": [
       "<div>\n",
       "<style scoped>\n",
       "    .dataframe tbody tr th:only-of-type {\n",
       "        vertical-align: middle;\n",
       "    }\n",
       "\n",
       "    .dataframe tbody tr th {\n",
       "        vertical-align: top;\n",
       "    }\n",
       "\n",
       "    .dataframe thead th {\n",
       "        text-align: right;\n",
       "    }\n",
       "</style>\n",
       "<table border=\"1\" class=\"dataframe\">\n",
       "  <thead>\n",
       "    <tr style=\"text-align: right;\">\n",
       "      <th></th>\n",
       "      <th>Chemical_ID</th>\n",
       "      <th>End_Point</th>\n",
       "      <th>Model</th>\n",
       "      <th>BMD10</th>\n",
       "      <th>BMDL</th>\n",
       "      <th>BMD50</th>\n",
       "      <th>AUC</th>\n",
       "      <th>Min_Dose</th>\n",
       "      <th>Max_Dose</th>\n",
       "      <th>AUC_Norm</th>\n",
       "      <th>DataQC_Flag</th>\n",
       "      <th>BMD_Analysis_Flag</th>\n",
       "      <th>BMD10_Flag</th>\n",
       "      <th>BMD50_Flag</th>\n",
       "    </tr>\n",
       "  </thead>\n",
       "  <tbody>\n",
       "    <tr>\n",
       "      <th>0</th>\n",
       "      <td>1030</td>\n",
       "      <td>MOV1</td>\n",
       "      <td>NaN</td>\n",
       "      <td>NaN</td>\n",
       "      <td>NaN</td>\n",
       "      <td>NaN</td>\n",
       "      <td>18.681734</td>\n",
       "      <td>0.0</td>\n",
       "      <td>50.0</td>\n",
       "      <td>0.373635</td>\n",
       "      <td>1</td>\n",
       "      <td>NaN</td>\n",
       "      <td>NaN</td>\n",
       "      <td>NaN</td>\n",
       "    </tr>\n",
       "    <tr>\n",
       "      <th>1</th>\n",
       "      <td>1030</td>\n",
       "      <td>AUC1</td>\n",
       "      <td>NaN</td>\n",
       "      <td>NaN</td>\n",
       "      <td>NaN</td>\n",
       "      <td>NaN</td>\n",
       "      <td>16.869375</td>\n",
       "      <td>0.0</td>\n",
       "      <td>50.0</td>\n",
       "      <td>0.337387</td>\n",
       "      <td>1</td>\n",
       "      <td>NaN</td>\n",
       "      <td>NaN</td>\n",
       "      <td>NaN</td>\n",
       "    </tr>\n",
       "    <tr>\n",
       "      <th>2</th>\n",
       "      <td>1031</td>\n",
       "      <td>MOV1</td>\n",
       "      <td>quantal_linear</td>\n",
       "      <td>10.344586</td>\n",
       "      <td>6.075361</td>\n",
       "      <td>68.055101</td>\n",
       "      <td>24.805868</td>\n",
       "      <td>0.0</td>\n",
       "      <td>50.0</td>\n",
       "      <td>0.496117</td>\n",
       "      <td>2</td>\n",
       "      <td>0.0</td>\n",
       "      <td>0.0</td>\n",
       "      <td>1.0</td>\n",
       "    </tr>\n",
       "    <tr>\n",
       "      <th>3</th>\n",
       "      <td>1031</td>\n",
       "      <td>AUC1</td>\n",
       "      <td>logistic</td>\n",
       "      <td>20.008143</td>\n",
       "      <td>14.567697</td>\n",
       "      <td>52.924446</td>\n",
       "      <td>13.110494</td>\n",
       "      <td>0.0</td>\n",
       "      <td>50.0</td>\n",
       "      <td>0.262210</td>\n",
       "      <td>4</td>\n",
       "      <td>0.0</td>\n",
       "      <td>0.0</td>\n",
       "      <td>1.0</td>\n",
       "    </tr>\n",
       "    <tr>\n",
       "      <th>4</th>\n",
       "      <td>1105</td>\n",
       "      <td>MOV1</td>\n",
       "      <td>log_logistic</td>\n",
       "      <td>0.139150</td>\n",
       "      <td>NaN</td>\n",
       "      <td>98.806696</td>\n",
       "      <td>48.158040</td>\n",
       "      <td>0.0</td>\n",
       "      <td>100.0</td>\n",
       "      <td>0.481580</td>\n",
       "      <td>4</td>\n",
       "      <td>2.0</td>\n",
       "      <td>-1.0</td>\n",
       "      <td>0.0</td>\n",
       "    </tr>\n",
       "  </tbody>\n",
       "</table>\n",
       "</div>"
      ],
      "text/plain": [
       "   Chemical_ID End_Point           Model      BMD10       BMDL      BMD50  \\\n",
       "0         1030      MOV1             NaN        NaN        NaN        NaN   \n",
       "1         1030      AUC1             NaN        NaN        NaN        NaN   \n",
       "2         1031      MOV1  quantal_linear  10.344586   6.075361  68.055101   \n",
       "3         1031      AUC1        logistic  20.008143  14.567697  52.924446   \n",
       "4         1105      MOV1    log_logistic   0.139150        NaN  98.806696   \n",
       "\n",
       "         AUC  Min_Dose  Max_Dose  AUC_Norm  DataQC_Flag  BMD_Analysis_Flag  \\\n",
       "0  18.681734       0.0      50.0  0.373635            1                NaN   \n",
       "1  16.869375       0.0      50.0  0.337387            1                NaN   \n",
       "2  24.805868       0.0      50.0  0.496117            2                0.0   \n",
       "3  13.110494       0.0      50.0  0.262210            4                0.0   \n",
       "4  48.158040       0.0     100.0  0.481580            4                2.0   \n",
       "\n",
       "   BMD10_Flag  BMD50_Flag  \n",
       "0         NaN         NaN  \n",
       "1         NaN         NaN  \n",
       "2         0.0         1.0  \n",
       "3         0.0         1.0  \n",
       "4        -1.0         0.0  "
      ]
     },
     "metadata": {},
     "output_type": "display_data"
    },
    {
     "data": {
      "text/plain": [
       "186"
      ]
     },
     "metadata": {},
     "output_type": "display_data"
    },
    {
     "data": {
      "text/plain": [
       "array([  53,   54,   56,   57,   58,   60,   61,   62,   63,   64,   65,\n",
       "         66,   67,   69,   70,  129,  155,  220,  227,  246,  247,  248,\n",
       "        250,  251,  252,  281,  283,  285,  286,  295,  296,  297,  360,\n",
       "        365,  381,  384,  392,  404,  406,  409,  412,  414,  415,  416,\n",
       "        417,  418,  419,  420,  441,  447,  448,  500,  501,  502,  503,\n",
       "        504,  511,  512,  513,  514,  515,  517,  596,  597,  601,  602,\n",
       "        609,  618,  628,  629,  667,  674,  689,  691,  694,  696,  697,\n",
       "        721,  722,  741,  746,  747,  768,  769,  770,  771,  774,  775,\n",
       "        776,  777,  778,  946,  947,  948,  949,  952,  961,  965,  966,\n",
       "        998, 1030, 1031, 1105, 1114, 1161, 1163, 1166, 1171, 1172, 1174,\n",
       "       1175, 1176, 1177, 1178, 1179, 1180, 1182, 1211, 1221, 1307, 1316,\n",
       "       1354, 1370, 1371, 1449, 1595, 1603, 1610, 1611, 1612, 1613, 1614,\n",
       "       1615, 1617, 1618, 1620, 1629, 1651, 1670, 1770, 1854, 1855, 1861,\n",
       "       1930, 1965, 1967, 2058, 2067, 2142, 2323, 2324, 2325, 2326, 2327,\n",
       "       2328, 2532, 2601, 2635, 2637, 2739, 2740, 2751, 2770, 2774, 2778,\n",
       "       2813, 2973, 3002, 3004, 3005, 3015, 3091, 3102, 3114, 3138, 3140,\n",
       "       3147, 3151, 3272, 3273, 3411, 3412, 3413, 3689, 3690, 3757])"
      ]
     },
     "metadata": {},
     "output_type": "display_data"
    }
   ],
   "source": [
    "# merge dfs\n",
    "frames = [df_BMD_MOV1_AUC1, df_BMD_MOVx_AUCx]\n",
    "\n",
    "df_all = pd.concat(frames)\n",
    "display(df_all.head())\n",
    "\n",
    "display(len(np.unique(df_all['Chemical_ID'])))\n",
    "display(np.unique(df_all['Chemical_ID']))"
   ]
  },
  {
   "cell_type": "code",
   "execution_count": 419,
   "metadata": {},
   "outputs": [],
   "source": [
    "def compare_array(array1, array2):\n",
    "    same = 0\n",
    "    diff = 0 \n",
    "    for i in range(len(array1)):\n",
    "        for j in range(len(array2)):\n",
    "            if array1[i] == array2[j]:\n",
    "                same += 1\n",
    "            else:\n",
    "                diff += 1\n",
    "    #print (same)\n",
    "    #print (diff)\n",
    "    #identity_percentage = 100 * same / len(array1)\n",
    "    identity_percentage = 100 * (same / (same+diff)) * len(array1)\n",
    "    print_this = \"Between \" + str(array1) + \" and \" + str(array2) + \", identity %:\" + str(round(identity_percentage,1))\n",
    "    print (print_this)\n",
    "    return identity_percentage\n",
    "    \n",
    "def Nmaxelements(list1, N):\n",
    "    final_list = []\n",
    "  \n",
    "    for i in range(0, N): \n",
    "        max1 = 0\n",
    "          \n",
    "        for j in range(len(list1)):     \n",
    "            if list1[j] > max1:\n",
    "                max1 = list1[j];\n",
    "                  \n",
    "        list1.remove(max1);\n",
    "        final_list.append(max1)\n",
    "          \n",
    "    return final_list\n",
    "    \n",
    "def selection_sort(x):\n",
    "    for i in range(len(x)):\n",
    "        swap = i + np.argmin(x[i:])\n",
    "        (x[i], x[swap]) = (x[swap], x[i])\n",
    "    return x"
   ]
  },
  {
   "cell_type": "code",
   "execution_count": 382,
   "metadata": {},
   "outputs": [],
   "source": [
    "limit_value = False\n",
    "\n",
    "filt = df_all['End_Point'] == 'AUC1'\n",
    "df_BMD10_from_AUC1 = df_all.loc[filt]['BMD10']\n",
    "if (limit_value):\n",
    "    df_BMD10_from_AUC1 = df_BMD10_from_AUC1[df_BMD10_from_AUC1 < 500]\n",
    "\n",
    "filt = df_all['End_Point'] == 'AUC2'\n",
    "df_BMD10_from_AUC2 = df_all.loc[filt]['BMD10']\n",
    "if (limit_value):\n",
    "    df_BMD10_from_AUC2 = df_BMD10_from_AUC2[df_BMD10_from_AUC2 < 500]\n",
    "\n",
    "filt = df_all['End_Point'] == 'AUC3'\n",
    "df_BMD10_from_AUC3 = df_all.loc[filt]['BMD10']\n",
    "if (limit_value):\n",
    "    df_BMD10_from_AUC3 = df_BMD10_from_AUC3[df_BMD10_from_AUC3 < 500]\n",
    "\n",
    "filt = df_all['End_Point'] == 'AUC4'\n",
    "df_BMD10_from_AUC4 = df_all.loc[filt]['BMD10']\n",
    "if (limit_value):\n",
    "    df_BMD10_from_AUC4 = df_BMD10_from_AUC4[df_BMD10_from_AUC4 < 500]"
   ]
  },
  {
   "cell_type": "code",
   "execution_count": 390,
   "metadata": {},
   "outputs": [
    {
     "data": {
      "text/html": [
       "<div>\n",
       "<style scoped>\n",
       "    .dataframe tbody tr th:only-of-type {\n",
       "        vertical-align: middle;\n",
       "    }\n",
       "\n",
       "    .dataframe tbody tr th {\n",
       "        vertical-align: top;\n",
       "    }\n",
       "\n",
       "    .dataframe thead th {\n",
       "        text-align: right;\n",
       "    }\n",
       "</style>\n",
       "<table border=\"1\" class=\"dataframe\">\n",
       "  <thead>\n",
       "    <tr style=\"text-align: right;\">\n",
       "      <th></th>\n",
       "      <th>count</th>\n",
       "      <th>mean</th>\n",
       "      <th>std</th>\n",
       "      <th>min</th>\n",
       "      <th>25%</th>\n",
       "      <th>50%</th>\n",
       "      <th>75%</th>\n",
       "      <th>max</th>\n",
       "    </tr>\n",
       "    <tr>\n",
       "      <th>End_Point</th>\n",
       "      <th></th>\n",
       "      <th></th>\n",
       "      <th></th>\n",
       "      <th></th>\n",
       "      <th></th>\n",
       "      <th></th>\n",
       "      <th></th>\n",
       "      <th></th>\n",
       "    </tr>\n",
       "  </thead>\n",
       "  <tbody>\n",
       "    <tr>\n",
       "      <th>AUC1</th>\n",
       "      <td>149.0</td>\n",
       "      <td>181.375645</td>\n",
       "      <td>2066.685670</td>\n",
       "      <td>0.0</td>\n",
       "      <td>0.054801</td>\n",
       "      <td>1.610877</td>\n",
       "      <td>12.156283</td>\n",
       "      <td>25236.494669</td>\n",
       "    </tr>\n",
       "    <tr>\n",
       "      <th>AUC2</th>\n",
       "      <td>103.0</td>\n",
       "      <td>1213.332686</td>\n",
       "      <td>7013.364025</td>\n",
       "      <td>0.0</td>\n",
       "      <td>0.010727</td>\n",
       "      <td>1.610952</td>\n",
       "      <td>9.925319</td>\n",
       "      <td>44765.635967</td>\n",
       "    </tr>\n",
       "    <tr>\n",
       "      <th>AUC3</th>\n",
       "      <td>110.0</td>\n",
       "      <td>976.190903</td>\n",
       "      <td>7142.127741</td>\n",
       "      <td>0.0</td>\n",
       "      <td>0.001389</td>\n",
       "      <td>0.875668</td>\n",
       "      <td>11.321070</td>\n",
       "      <td>63009.550634</td>\n",
       "    </tr>\n",
       "    <tr>\n",
       "      <th>AUC4</th>\n",
       "      <td>109.0</td>\n",
       "      <td>219.903983</td>\n",
       "      <td>2173.177347</td>\n",
       "      <td>0.0</td>\n",
       "      <td>0.000007</td>\n",
       "      <td>1.224245</td>\n",
       "      <td>11.895406</td>\n",
       "      <td>22698.995490</td>\n",
       "    </tr>\n",
       "  </tbody>\n",
       "</table>\n",
       "</div>"
      ],
      "text/plain": [
       "           count         mean          std  min       25%       50%  \\\n",
       "End_Point                                                             \n",
       "AUC1       149.0   181.375645  2066.685670  0.0  0.054801  1.610877   \n",
       "AUC2       103.0  1213.332686  7013.364025  0.0  0.010727  1.610952   \n",
       "AUC3       110.0   976.190903  7142.127741  0.0  0.001389  0.875668   \n",
       "AUC4       109.0   219.903983  2173.177347  0.0  0.000007  1.224245   \n",
       "\n",
       "                 75%           max  \n",
       "End_Point                           \n",
       "AUC1       12.156283  25236.494669  \n",
       "AUC2        9.925319  44765.635967  \n",
       "AUC3       11.321070  63009.550634  \n",
       "AUC4       11.895406  22698.995490  "
      ]
     },
     "execution_count": 390,
     "metadata": {},
     "output_type": "execute_result"
    }
   ],
   "source": [
    "df_temp = df_all[df_all['End_Point'].str.contains(\"AUC\")]\n",
    "df_temp = df_temp.groupby(['End_Point'])['BMD10']\n",
    "df_temp.describe()"
   ]
  },
  {
   "cell_type": "code",
   "execution_count": 431,
   "metadata": {},
   "outputs": [
    {
     "name": "stdout",
     "output_type": "stream",
     "text": [
      "Between [53, 56, 404, 696, 776, 952, 1967, 3004, 3091, 3102] and [285, 409, 1172, 1307, 1371, 2067, 2327, 2973, 3004, 3091], identity %:20.0\n",
      "Between [285, 409, 1172, 1307, 1371, 2067, 2327, 2973, 3004, 3091] and [53, 248, 420, 517, 1172, 1177, 1221, 1371, 1965, 2635], identity %:20.0\n",
      "Between [53, 248, 420, 517, 1172, 1177, 1221, 1371, 1965, 2635] and [514, 1172, 1177, 1371, 1603, 1612, 2635, 2770, 3004, 3102], identity %:40.0\n",
      "Done, it took:4.1 seconds\n"
     ]
    }
   ],
   "source": [
    "## Identify chemical_ID_per_AUCx_with_highest_BMD10\n",
    "start_time = time.time()\n",
    "\n",
    "full_devel = \"full\"\n",
    "#full_devel = \"devel\"\n",
    "\n",
    "if (full_devel == \"full\"):\n",
    "    chemical_id_from_here = np.unique(df_all['Chemical_ID'])\n",
    "else:\n",
    "    chemical_id_from_here = [1030]\n",
    "    \n",
    "N_best = 10\n",
    "\n",
    "array_AUC1 = []\n",
    "array_AUC2 = []\n",
    "array_AUC3 = []\n",
    "array_AUC4 = []\n",
    "    \n",
    "for chemical_id in chemical_id_from_here:\n",
    "    #print (\"\\nchemical_id:\", chemical_id)\n",
    "    df_per_chemical = df_all.loc[df_all['Chemical_ID'] == chemical_id]\n",
    "        \n",
    "    df_per_chemical_AUC1 = df_per_chemical.loc[df_per_chemical['End_Point'] == 'AUC1']\n",
    "    df_per_chemical_AUC1 = df_per_chemical_AUC1.dropna(subset=['BMD10'])\n",
    "    if (len(df_per_chemical_AUC1['BMD10']) != 0):\n",
    "        array_AUC1.append(float(df_per_chemical_AUC1['BMD10']))\n",
    "        \n",
    "    df_per_chemical_AUC2 = df_per_chemical.loc[df_per_chemical['End_Point'] == 'AUC2']\n",
    "    df_per_chemical_AUC2 = df_per_chemical_AUC2.dropna(subset=['BMD10'])\n",
    "    if (len(df_per_chemical_AUC2['BMD10']) != 0):\n",
    "        array_AUC2.append(float(df_per_chemical_AUC2['BMD10']))\n",
    "    \n",
    "    df_per_chemical_AUC3 = df_per_chemical.loc[df_per_chemical['End_Point'] == 'AUC3']\n",
    "    df_per_chemical_AUC3 = df_per_chemical_AUC3.dropna(subset=['BMD10'])\n",
    "    if (len(df_per_chemical_AUC3['BMD10']) != 0):\n",
    "        array_AUC3.append(float(df_per_chemical_AUC3['BMD10']))\n",
    "\n",
    "    df_per_chemical_AUC4 = df_per_chemical.loc[df_per_chemical['End_Point'] == 'AUC4']\n",
    "    df_per_chemical_AUC4 = df_per_chemical_AUC4.dropna(subset=['BMD10'])\n",
    "    if (len(df_per_chemical_AUC4['BMD10']) != 0):\n",
    "        array_AUC4.append(float(df_per_chemical_AUC4['BMD10']))\n",
    "        \n",
    "chemical_ID_per_AUC1_with_highest_BMD10 = []\n",
    "best_N= Nmaxelements(array_AUC1, N_best)\n",
    "for each in best_N:\n",
    "    for chemical_id in chemical_id_from_here:\n",
    "        df_per_chemical = df_all.loc[df_all['Chemical_ID'] == chemical_id]\n",
    "        df_per_chemical_AUC1 = df_per_chemical.loc[df_per_chemical['End_Point'] == 'AUC1']\n",
    "        if ((df_per_chemical_AUC1['BMD10'].item()) == each):\n",
    "            chemical_ID_per_AUC1_with_highest_BMD10.append(df_per_chemical_AUC1['Chemical_ID'].item())\n",
    "            break\n",
    "chemical_ID_per_AUC1_with_highest_BMD10 = selection_sort(chemical_ID_per_AUC1_with_highest_BMD10)\n",
    "\n",
    "\n",
    "chemical_ID_per_AUC2_with_highest_BMD10 = []\n",
    "best_N = Nmaxelements(array_AUC2, N_best)\n",
    "for each in best_N:\n",
    "    for chemical_id in chemical_id_from_here:\n",
    "        df_per_chemical = df_all.loc[df_all['Chemical_ID'] == chemical_id]\n",
    "        df_per_chemical_AUC2 = df_per_chemical.loc[df_per_chemical['End_Point'] == 'AUC2']\n",
    "        if (len(df_per_chemical_AUC2) == 0):\n",
    "            continue\n",
    "        if ((df_per_chemical_AUC2['BMD10'].item()) == each):\n",
    "            chemical_ID_per_AUC2_with_highest_BMD10.append(df_per_chemical_AUC2['Chemical_ID'].item())\n",
    "            break\n",
    "chemical_ID_per_AUC2_with_highest_BMD10 = selection_sort(chemical_ID_per_AUC2_with_highest_BMD10)\n",
    "\n",
    "\n",
    "chemical_ID_per_AUC3_with_highest_BMD10 = []\n",
    "best_N = Nmaxelements(array_AUC3, N_best)\n",
    "for each in best_N:\n",
    "    for chemical_id in chemical_id_from_here:\n",
    "        df_per_chemical = df_all.loc[df_all['Chemical_ID'] == chemical_id]\n",
    "        df_per_chemical_AUC3 = df_per_chemical.loc[df_per_chemical['End_Point'] == 'AUC3']\n",
    "        if (len(df_per_chemical_AUC3) == 0):\n",
    "            continue\n",
    "        #display(df_per_chemical_AUC2)\n",
    "        if ((df_per_chemical_AUC3['BMD10'].item()) == each):\n",
    "            chemical_ID_per_AUC3_with_highest_BMD10.append(df_per_chemical_AUC3['Chemical_ID'].item())\n",
    "            break\n",
    "chemical_ID_per_AUC3_with_highest_BMD10 = selection_sort(chemical_ID_per_AUC3_with_highest_BMD10)\n",
    "\n",
    "\n",
    "chemical_ID_per_AUC4_with_highest_BMD10 = []\n",
    "best_10 = Nmaxelements(array_AUC4, N_best)\n",
    "for each in best_10:\n",
    "    for chemical_id in chemical_id_from_here:\n",
    "        df_per_chemical = df_all.loc[df_all['Chemical_ID'] == chemical_id]\n",
    "        df_per_chemical_AUC4 = df_per_chemical.loc[df_per_chemical['End_Point'] == 'AUC4']\n",
    "        if (len(df_per_chemical_AUC4) == 0):\n",
    "            continue\n",
    "        if ((df_per_chemical_AUC4['BMD10'].item()) == each):\n",
    "            chemical_ID_per_AUC4_with_highest_BMD10.append(df_per_chemical_AUC4['Chemical_ID'].item())\n",
    "            break\n",
    "chemical_ID_per_AUC4_with_highest_BMD10 = selection_sort(chemical_ID_per_AUC4_with_highest_BMD10)\n",
    "\n",
    "compare_array (chemical_ID_per_AUC1_with_highest_BMD10, chemical_ID_per_AUC2_with_highest_BMD10)\n",
    "compare_array (chemical_ID_per_AUC2_with_highest_BMD10, chemical_ID_per_AUC3_with_highest_BMD10)\n",
    "compare_array (chemical_ID_per_AUC3_with_highest_BMD10, chemical_ID_per_AUC4_with_highest_BMD10)\n",
    "\n",
    "end_time = time.time()\n",
    "time_took = str(round((end_time-start_time), 1)) + \" seconds\"\n",
    "print (\"Done, it took:\"+str(time_took))"
   ]
  },
  {
   "cell_type": "code",
   "execution_count": 429,
   "metadata": {},
   "outputs": [
    {
     "name": "stdout",
     "output_type": "stream",
     "text": [
      "p-value annotation legend:\n",
      "ns: 5.00e-02 < p <= 1.00e+00\n",
      "*: 1.00e-02 < p <= 5.00e-02\n",
      "**: 1.00e-03 < p <= 1.00e-02\n",
      "***: 1.00e-04 < p <= 1.00e-03\n",
      "****: p <= 1.00e-04\n",
      "\n",
      "AUC1 v.s. AUC2: Mann-Whitney-Wilcoxon test two-sided with Bonferroni correction, P_val=1.000e+00 U_stat=1.137e+03\n",
      "AUC2 v.s. AUC3: Mann-Whitney-Wilcoxon test two-sided with Bonferroni correction, P_val=1.000e+00 U_stat=1.238e+03\n",
      "AUC3 v.s. AUC4: Mann-Whitney-Wilcoxon test two-sided with Bonferroni correction, P_val=1.000e+00 U_stat=1.206e+03\n",
      "Between [53, 56, 60, 63, 155, 246, 250, 251, 281, 285, 296, 384, 392, 404, 412, 414, 501, 512, 513, 628, 691, 694, 696, 721, 741, 774, 775, 776, 952, 1031, 1176, 1182, 1211, 1221, 1371, 1670, 1770, 1861, 1967, 2067, 2325, 2601, 2739, 2973, 3004, 3005, 3091, 3102, 3273, 3757] and [129, 220, 246, 247, 281, 285, 297, 381, 384, 392, 409, 412, 414, 416, 441, 448, 502, 503, 504, 512, 513, 515, 1031, 1161, 1172, 1176, 1177, 1182, 1211, 1307, 1370, 1371, 1613, 1614, 1615, 1770, 2067, 2326, 2327, 2532, 2635, 2774, 2973, 3004, 3005, 3091, 3114, 3140, 3412, 3690], identity %:40.0\n",
      "Between [129, 220, 246, 247, 281, 285, 297, 381, 384, 392, 409, 412, 414, 416, 441, 448, 502, 503, 504, 512, 513, 515, 1031, 1161, 1172, 1176, 1177, 1182, 1211, 1307, 1370, 1371, 1613, 1614, 1615, 1770, 2067, 2326, 2327, 2532, 2635, 2774, 2973, 3004, 3005, 3091, 3114, 3140, 3412, 3690] and [53, 129, 246, 247, 248, 281, 381, 384, 392, 412, 414, 416, 420, 447, 448, 502, 503, 504, 513, 517, 1031, 1105, 1161, 1166, 1172, 1174, 1176, 1177, 1182, 1211, 1221, 1371, 1449, 1614, 1770, 1965, 1967, 2325, 2327, 2532, 2601, 2635, 2739, 2973, 3004, 3005, 3114, 3412, 3413, 3757], identity %:66.0\n",
      "Between [53, 129, 246, 247, 248, 281, 381, 384, 392, 412, 414, 416, 420, 447, 448, 502, 503, 504, 513, 517, 1031, 1105, 1161, 1166, 1172, 1174, 1176, 1177, 1182, 1211, 1221, 1371, 1449, 1614, 1770, 1965, 1967, 2325, 2327, 2532, 2601, 2635, 2739, 2973, 3004, 3005, 3114, 3412, 3413, 3757] and [56, 129, 220, 246, 281, 381, 384, 392, 406, 412, 414, 416, 502, 503, 513, 514, 517, 1031, 1105, 1161, 1163, 1166, 1172, 1174, 1175, 1177, 1211, 1307, 1371, 1603, 1612, 1614, 1615, 1620, 1770, 1854, 1861, 2067, 2324, 2532, 2601, 2635, 2739, 2770, 2774, 2973, 3004, 3102, 3114, 3138], identity %:62.0\n"
     ]
    },
    {
     "data": {
      "text/plain": [
       "Text(0.5, 1.0, '(phase I,II, full AUC) Mann-Whitney, AUC1 vs AUC2 vs AUC3 vs AUC4')"
      ]
     },
     "execution_count": 429,
     "metadata": {},
     "output_type": "execute_result"
    },
    {
     "data": {
      "image/png": "[encoded data removed]",
      "text/plain": [
       "<Figure size 432x288 with 1 Axes>"
      ]
     },
     "metadata": {},
     "output_type": "display_data"
    }
   ],
   "source": [
    "# box-whisker plot for BMD10 from AUC\n",
    "\n",
    "column_name = 'chemical IDs corresponding to ' + str(N_best) + ' highest BMD10 from AUC'\n",
    "\n",
    "df_y = pd.DataFrame(chemical_ID_per_AUC1_with_highest_BMD10, columns=[column_name])\n",
    "df_y[\"source of BMD10\"] = str(\"AUC1\")\n",
    "\n",
    "df_y_to_concat = pd.DataFrame(chemical_ID_per_AUC2_with_highest_BMD10, columns=[column_name])\n",
    "df_y = pd.concat([df_y, df_y_to_concat], axis = 0)\n",
    "df_y['source of BMD10'].fillna('AUC2', inplace=True)\n",
    "\n",
    "df_y_to_concat = pd.DataFrame(chemical_ID_per_AUC3_with_highest_BMD10, columns=[column_name])\n",
    "df_y = pd.concat([df_y, df_y_to_concat], axis = 0)\n",
    "df_y['source of BMD10'].fillna('AUC3', inplace=True)\n",
    "\n",
    "df_y_to_concat = pd.DataFrame(chemical_ID_per_AUC4_with_highest_BMD10, columns=[column_name])\n",
    "df_y = pd.concat([df_y, df_y_to_concat], axis = 0)\n",
    "df_y['source of BMD10'].fillna('AUC4', inplace=True)\n",
    "\n",
    "sns.set(style=\"whitegrid\")\n",
    "x = \"source of BMD10\"\n",
    "y = column_name\n",
    "order = ['AUC1', 'AUC2', 'AUC3', 'AUC4']\n",
    "ax = sns.boxplot(data=df_y, x=x, y=y, order=order)\n",
    "\n",
    "add_stat_annotation(ax, data=df_y, x=x, y=y, order=order,\n",
    "                    box_pairs=[(\"AUC1\", \"AUC2\"),(\"AUC2\", \"AUC3\"),(\"AUC3\", \"AUC4\")],\n",
    "                    test='Mann-Whitney', text_format='star', loc='outside', verbose=2)\n",
    "                    #test='t-test_ind', text_format='star', loc='outside', verbose=2)\n",
    "\n",
    "compare_array (chemical_ID_per_AUC1_with_highest_BMD10, chemical_ID_per_AUC2_with_highest_BMD10)\n",
    "compare_array (chemical_ID_per_AUC2_with_highest_BMD10, chemical_ID_per_AUC3_with_highest_BMD10)\n",
    "compare_array (chemical_ID_per_AUC3_with_highest_BMD10, chemical_ID_per_AUC4_with_highest_BMD10)\n",
    "\n",
    "\n",
    "\n",
    "plt.title('(phase I,II, full AUC) Mann-Whitney, AUC1 vs AUC2 vs AUC3 vs AUC4')\n",
    "#plt.title('t-test independent samples with Bonferroni correction, AUC1 vs AUC2 vs AUC3 vs AUC4')\n",
    "#plt.ylim((0, 300))"
   ]
  },
  {
   "cell_type": "code",
   "execution_count": 411,
   "metadata": {},
   "outputs": [],
   "source": [
    "limit_value = False\n",
    "#limit_value = True\n",
    "\n",
    "filt = df_all['End_Point'] == 'MOV1'\n",
    "df_BMD10_from_MOV1 = df_all.loc[filt]['BMD10']\n",
    "#display(df_BMD10_from_MOV1.head())\n",
    "if (limit_value):\n",
    "    df_BMD10_from_MOV1 = df_BMD10_from_MOV1[df_BMD10_from_MOV1 < 2000]\n",
    "\n",
    "filt = df_all['End_Point'] == 'MOV2'\n",
    "df_BMD10_from_MOV2 = df_all.loc[filt]['BMD10']\n",
    "if (limit_value):\n",
    "    df_BMD10_from_MOV2 = df_BMD10_from_MOV2[df_BMD10_from_MOV2 < 2000]\n",
    "\n",
    "filt = df_all['End_Point'] == 'MOV3'\n",
    "df_BMD10_from_MOV3 = df_all.loc[filt]['BMD10']\n",
    "if (limit_value):\n",
    "    df_BMD10_from_MOV3 = df_BMD10_from_MOV3[df_BMD10_from_MOV3 < 2000]\n",
    "\n",
    "filt = df_all['End_Point'] == 'MOV4'\n",
    "df_BMD10_from_MOV4 = df_all.loc[filt]['BMD10']\n",
    "if (limit_value):\n",
    "    df_BMD10_from_MOV4 = df_BMD10_from_MOV4[df_BMD10_from_MOV4 < 2000]\n"
   ]
  },
  {
   "cell_type": "code",
   "execution_count": 433,
   "metadata": {},
   "outputs": [
    {
     "name": "stdout",
     "output_type": "stream",
     "text": [
      "Done, it took:14.1 seconds\n"
     ]
    }
   ],
   "source": [
    "## Identify chemical_ID_per_MOVx_with_highest_BMD10\n",
    "start_time = time.time()\n",
    "\n",
    "full_devel = \"full\"\n",
    "#full_devel = \"devel\"\n",
    "\n",
    "if (full_devel == \"full\"):\n",
    "    chemical_id_from_here = np.unique(df_all['Chemical_ID'])\n",
    "else:\n",
    "    chemical_id_from_here = [1030]\n",
    "    \n",
    "N_best = 50\n",
    "\n",
    "array_MOV1 = []\n",
    "array_MOV2 = []\n",
    "array_MOV3 = []\n",
    "array_MOV4 = []\n",
    "    \n",
    "for chemical_id in chemical_id_from_here:\n",
    "    df_per_chemical = df_all.loc[df_all['Chemical_ID'] == chemical_id]\n",
    "        \n",
    "    df_per_chemical_MOV1 = df_per_chemical.loc[df_per_chemical['End_Point'] == 'MOV1']\n",
    "    df_per_chemical_MOV1 = df_per_chemical_MOV1.dropna(subset=['BMD10'])\n",
    "    if (len(df_per_chemical_MOV1['BMD10']) != 0):\n",
    "        array_MOV1.append(float(df_per_chemical_MOV1['BMD10']))\n",
    "        \n",
    "    df_per_chemical_MOV2 = df_per_chemical.loc[df_per_chemical['End_Point'] == 'MOV2']\n",
    "    df_per_chemical_MOV2 = df_per_chemical_MOV2.dropna(subset=['BMD10'])\n",
    "    if (len(df_per_chemical_MOV2['BMD10']) != 0):\n",
    "        array_MOV2.append(float(df_per_chemical_MOV2['BMD10']))\n",
    "    \n",
    "    df_per_chemical_MOV3 = df_per_chemical.loc[df_per_chemical['End_Point'] == 'MOV3']\n",
    "    df_per_chemical_MOV3 = df_per_chemical_MOV3.dropna(subset=['BMD10'])\n",
    "    if (len(df_per_chemical_MOV3['BMD10']) != 0):\n",
    "        array_MOV3.append(float(df_per_chemical_MOV3['BMD10']))\n",
    "\n",
    "    df_per_chemical_MOV4 = df_per_chemical.loc[df_per_chemical['End_Point'] == 'MOV4']\n",
    "    df_per_chemical_MOV4 = df_per_chemical_MOV4.dropna(subset=['BMD10'])\n",
    "    if (len(df_per_chemical_MOV4['BMD10']) != 0):\n",
    "        array_MOV4.append(float(df_per_chemical_MOV4['BMD10']))\n",
    "        \n",
    "chemical_ID_per_MOV1_with_highest_BMD10 = []\n",
    "best_N = Nmaxelements(array_MOV1, N_best)\n",
    "for each in best_N:\n",
    "    for chemical_id in chemical_id_from_here:\n",
    "        df_per_chemical = df_all.loc[df_all['Chemical_ID'] == chemical_id]\n",
    "        df_per_chemical_MOV1 = df_per_chemical.loc[df_per_chemical['End_Point'] == 'MOV1']\n",
    "        if ((df_per_chemical_MOV1['BMD10'].item()) == each):\n",
    "            chemical_ID_per_MOV1_with_highest_BMD10.append(df_per_chemical_MOV1['Chemical_ID'].item())\n",
    "            break\n",
    "chemical_ID_per_MOV1_with_highest_BMD10 = selection_sort(chemical_ID_per_MOV1_with_highest_BMD10)\n",
    "#display(chemical_ID_per_MOV1_with_highest_BMD10)\n",
    "\n",
    "\n",
    "chemical_ID_per_MOV2_with_highest_BMD10 = []\n",
    "best_N = Nmaxelements(array_MOV2, N_best)\n",
    "for each in best_N:\n",
    "    for chemical_id in chemical_id_from_here:\n",
    "        df_per_chemical = df_all.loc[df_all['Chemical_ID'] == chemical_id]\n",
    "        df_per_chemical_MOV2 = df_per_chemical.loc[df_per_chemical['End_Point'] == 'MOV2']\n",
    "        if (len(df_per_chemical_MOV2) == 0):\n",
    "            continue\n",
    "        if ((df_per_chemical_MOV2['BMD10'].item()) == each):\n",
    "            chemical_ID_per_MOV2_with_highest_BMD10.append(df_per_chemical_MOV2['Chemical_ID'].item())\n",
    "            break\n",
    "chemical_ID_per_MOV2_with_highest_BMD10 = selection_sort(chemical_ID_per_MOV2_with_highest_BMD10)\n",
    "#display(chemical_ID_per_MOV2_with_highest_BMD10)\n",
    "\n",
    "\n",
    "chemical_ID_per_MOV3_with_highest_BMD10 = []\n",
    "best_N = Nmaxelements(array_MOV3, N_best)\n",
    "for each in best_N:\n",
    "    for chemical_id in chemical_id_from_here:\n",
    "        df_per_chemical = df_all.loc[df_all['Chemical_ID'] == chemical_id]\n",
    "        df_per_chemical_MOV3 = df_per_chemical.loc[df_per_chemical['End_Point'] == 'MOV3']\n",
    "        if (len(df_per_chemical_MOV3) == 0):\n",
    "            continue\n",
    "        if ((df_per_chemical_MOV3['BMD10'].item()) == each):\n",
    "            chemical_ID_per_MOV3_with_highest_BMD10.append(df_per_chemical_MOV3['Chemical_ID'].item())\n",
    "            break\n",
    "chemical_ID_per_MOV3_with_highest_BMD10 = selection_sort(chemical_ID_per_MOV3_with_highest_BMD10)\n",
    "#display(chemical_ID_per_MOV3_with_highest_BMD10)\n",
    "\n",
    "\n",
    "chemical_ID_per_MOV4_with_highest_BMD10 = []\n",
    "best_N = Nmaxelements(array_MOV4, N_best)\n",
    "for each in best_N:\n",
    "    for chemical_id in chemical_id_from_here:\n",
    "        df_per_chemical = df_all.loc[df_all['Chemical_ID'] == chemical_id]\n",
    "        df_per_chemical_MOV4 = df_per_chemical.loc[df_per_chemical['End_Point'] == 'MOV4']\n",
    "        if (len(df_per_chemical_MOV4) == 0):\n",
    "            continue\n",
    "        if ((df_per_chemical_MOV4['BMD10'].item()) == each):\n",
    "            chemical_ID_per_MOV4_with_highest_BMD10.append(df_per_chemical_MOV4['Chemical_ID'].item())\n",
    "            break\n",
    "chemical_ID_per_MOV4_with_highest_BMD10 = selection_sort(chemical_ID_per_MOV4_with_highest_BMD10)\n",
    "#display(chemical_ID_per_MOV4_with_highest_BMD10)\n",
    "\n",
    "end_time = time.time()\n",
    "time_took = str(round((end_time-start_time), 1)) + \" seconds\"\n",
    "print (\"Done, it took:\"+str(time_took))"
   ]
  },
  {
   "cell_type": "code",
   "execution_count": 434,
   "metadata": {},
   "outputs": [
    {
     "name": "stdout",
     "output_type": "stream",
     "text": [
      "Between [60, 61, 66, 129, 220, 246, 247, 248, 381, 384, 392, 414, 441, 448, 500, 502, 503, 504, 512, 596, 601, 602, 609, 628, 629, 667, 689, 696, 768, 774, 778, 965, 1031, 1171, 1182, 1221, 1449, 1613, 1614, 1651, 1770, 1967, 2142, 2601, 2740, 2751, 2973, 3004, 3114, 3757] and [54, 129, 227, 246, 247, 248, 281, 285, 381, 384, 392, 412, 414, 416, 418, 420, 441, 447, 500, 502, 503, 504, 511, 512, 1031, 1105, 1114, 1161, 1174, 1175, 1176, 1177, 1211, 1370, 1610, 1614, 1615, 1629, 1651, 1770, 2142, 2532, 2601, 2739, 2740, 2813, 3004, 3005, 3412, 3689], identity %:44.0\n",
      "Between [54, 129, 227, 246, 247, 248, 281, 285, 381, 384, 392, 412, 414, 416, 418, 420, 441, 447, 500, 502, 503, 504, 511, 512, 1031, 1105, 1114, 1161, 1174, 1175, 1176, 1177, 1211, 1370, 1610, 1614, 1615, 1629, 1651, 1770, 2142, 2532, 2601, 2739, 2740, 2813, 3004, 3005, 3412, 3689] and [129, 227, 246, 247, 248, 251, 381, 384, 392, 404, 412, 414, 416, 418, 441, 500, 502, 503, 504, 511, 517, 1031, 1105, 1161, 1166, 1174, 1176, 1180, 1211, 1614, 1651, 1770, 1861, 1930, 2058, 2067, 2142, 2532, 2740, 2770, 2778, 2813, 2973, 3004, 3005, 3091, 3138, 3412, 3689, 3757], identity %:70.0\n",
      "Between [129, 227, 246, 247, 248, 251, 381, 384, 392, 404, 412, 414, 416, 418, 441, 500, 502, 503, 504, 511, 517, 1031, 1105, 1161, 1166, 1174, 1176, 1180, 1211, 1614, 1651, 1770, 1861, 1930, 2058, 2067, 2142, 2532, 2740, 2770, 2778, 2813, 2973, 3004, 3005, 3091, 3138, 3412, 3689, 3757] and [129, 227, 246, 247, 248, 381, 384, 392, 409, 412, 441, 500, 502, 503, 504, 517, 1031, 1105, 1114, 1161, 1163, 1166, 1171, 1172, 1174, 1612, 1614, 1651, 1770, 1930, 1965, 1967, 2058, 2142, 2323, 2532, 2740, 2770, 2774, 2813, 2973, 3004, 3005, 3091, 3138, 3411, 3412, 3689, 3690, 3757], identity %:76.0\n",
      "p-value annotation legend:\n",
      "ns: 5.00e-02 < p <= 1.00e+00\n",
      "*: 1.00e-02 < p <= 5.00e-02\n",
      "**: 1.00e-03 < p <= 1.00e-02\n",
      "***: 1.00e-04 < p <= 1.00e-03\n",
      "****: p <= 1.00e-04\n",
      "\n",
      "MOV1 v.s. MOV2: Mann-Whitney-Wilcoxon test two-sided with Bonferroni correction, P_val=1.000e+00 U_stat=1.214e+03\n",
      "MOV2 v.s. MOV3: Mann-Whitney-Wilcoxon test two-sided with Bonferroni correction, P_val=8.464e-01 U_stat=1.094e+03\n",
      "MOV3 v.s. MOV4: Mann-Whitney-Wilcoxon test two-sided with Bonferroni correction, P_val=1.000e+00 U_stat=1.136e+03\n"
     ]
    },
    {
     "data": {
      "text/plain": [
       "Text(0.5, 1.0, '(phase I,II, full MOV) Mann-Whitney, MOV1 vs MOV2 vs MOV3 vs MOV4')"
      ]
     },
     "execution_count": 434,
     "metadata": {},
     "output_type": "execute_result"
    },
    {
     "data": {
      "image/png": "[encoded data removed]",
      "text/plain": [
       "<Figure size 432x288 with 1 Axes>"
      ]
     },
     "metadata": {},
     "output_type": "display_data"
    }
   ],
   "source": [
    "# box-whisker plot for BMD10 from MOV\n",
    "\n",
    "column_name = 'chemical IDs corresponding to ' + str(N_best) + ' highest BMD10'\n",
    "\n",
    "df_y = pd.DataFrame(chemical_ID_per_MOV1_with_highest_BMD10, columns=[column_name])\n",
    "df_y[\"source of BMD10\"] = str(\"MOV1\")\n",
    "\n",
    "df_y_to_concat = pd.DataFrame(chemical_ID_per_MOV2_with_highest_BMD10, columns=[column_name])\n",
    "df_y = pd.concat([df_y, df_y_to_concat], axis = 0)\n",
    "df_y['source of BMD10'].fillna('MOV2', inplace=True)\n",
    "\n",
    "df_y_to_concat = pd.DataFrame(chemical_ID_per_MOV3_with_highest_BMD10, columns=[column_name])\n",
    "df_y = pd.concat([df_y, df_y_to_concat], axis = 0)\n",
    "df_y['source of BMD10'].fillna('MOV3', inplace=True)\n",
    "\n",
    "df_y_to_concat = pd.DataFrame(chemical_ID_per_MOV4_with_highest_BMD10, columns=[column_name])\n",
    "df_y = pd.concat([df_y, df_y_to_concat], axis = 0)\n",
    "df_y['source of BMD10'].fillna('MOV4', inplace=True)\n",
    "\n",
    "sns.set(style=\"whitegrid\")\n",
    "x = \"source of BMD10\"\n",
    "y = column_name\n",
    "order = ['MOV1', 'MOV2', 'MOV3', 'MOV4']\n",
    "ax = sns.boxplot(data=df_y, x=x, y=y, order=order)\n",
    "\n",
    "compare_array (chemical_ID_per_MOV1_with_highest_BMD10, chemical_ID_per_MOV2_with_highest_BMD10)\n",
    "compare_array (chemical_ID_per_MOV2_with_highest_BMD10, chemical_ID_per_MOV3_with_highest_BMD10)\n",
    "compare_array (chemical_ID_per_MOV3_with_highest_BMD10, chemical_ID_per_MOV4_with_highest_BMD10)\n",
    "\n",
    "\n",
    "add_stat_annotation(ax, data=df_y, x=x, y=y, order=order,\n",
    "                    box_pairs=[(\"MOV1\", \"MOV2\"),(\"MOV2\", \"MOV3\"),(\"MOV3\", \"MOV4\")],\n",
    "                    test='Mann-Whitney', text_format='star', loc='outside', verbose=2)\n",
    "                    #test='t-test_ind', text_format='star', loc='outside', verbose=2)\n",
    "\n",
    "plt.title('(phase I,II, full MOV) Mann-Whitney, MOV1 vs MOV2 vs MOV3 vs MOV4')\n",
    "#plt.title('t-test independent samples with Bonferroni correction, MOV1 vs MOV2 vs MOV3 vs MOV4')\n",
    "#plt.ylim((0, 300))"
   ]
  },
  {
   "cell_type": "code",
   "execution_count": 391,
   "metadata": {},
   "outputs": [
    {
     "data": {
      "text/html": [
       "<div>\n",
       "<style scoped>\n",
       "    .dataframe tbody tr th:only-of-type {\n",
       "        vertical-align: middle;\n",
       "    }\n",
       "\n",
       "    .dataframe tbody tr th {\n",
       "        vertical-align: top;\n",
       "    }\n",
       "\n",
       "    .dataframe thead th {\n",
       "        text-align: right;\n",
       "    }\n",
       "</style>\n",
       "<table border=\"1\" class=\"dataframe\">\n",
       "  <thead>\n",
       "    <tr style=\"text-align: right;\">\n",
       "      <th></th>\n",
       "      <th>count</th>\n",
       "      <th>mean</th>\n",
       "      <th>std</th>\n",
       "      <th>min</th>\n",
       "      <th>25%</th>\n",
       "      <th>50%</th>\n",
       "      <th>75%</th>\n",
       "      <th>max</th>\n",
       "    </tr>\n",
       "    <tr>\n",
       "      <th>End_Point</th>\n",
       "      <th></th>\n",
       "      <th></th>\n",
       "      <th></th>\n",
       "      <th></th>\n",
       "      <th></th>\n",
       "      <th></th>\n",
       "      <th></th>\n",
       "      <th></th>\n",
       "    </tr>\n",
       "  </thead>\n",
       "  <tbody>\n",
       "    <tr>\n",
       "      <th>MOV1</th>\n",
       "      <td>163.0</td>\n",
       "      <td>421.979285</td>\n",
       "      <td>3781.247857</td>\n",
       "      <td>0.0</td>\n",
       "      <td>2.000000e-08</td>\n",
       "      <td>0.006992</td>\n",
       "      <td>1.135523</td>\n",
       "      <td>36776.306617</td>\n",
       "    </tr>\n",
       "    <tr>\n",
       "      <th>MOV2</th>\n",
       "      <td>117.0</td>\n",
       "      <td>2.332857</td>\n",
       "      <td>6.918284</td>\n",
       "      <td>0.0</td>\n",
       "      <td>0.000000e+00</td>\n",
       "      <td>0.003043</td>\n",
       "      <td>0.465720</td>\n",
       "      <td>38.299255</td>\n",
       "    </tr>\n",
       "    <tr>\n",
       "      <th>MOV3</th>\n",
       "      <td>113.0</td>\n",
       "      <td>3.692433</td>\n",
       "      <td>14.885205</td>\n",
       "      <td>0.0</td>\n",
       "      <td>1.000000e-08</td>\n",
       "      <td>0.002551</td>\n",
       "      <td>0.598356</td>\n",
       "      <td>134.103474</td>\n",
       "    </tr>\n",
       "    <tr>\n",
       "      <th>MOV4</th>\n",
       "      <td>123.0</td>\n",
       "      <td>2.346807</td>\n",
       "      <td>7.476395</td>\n",
       "      <td>0.0</td>\n",
       "      <td>0.000000e+00</td>\n",
       "      <td>0.000053</td>\n",
       "      <td>0.518403</td>\n",
       "      <td>44.129244</td>\n",
       "    </tr>\n",
       "  </tbody>\n",
       "</table>\n",
       "</div>"
      ],
      "text/plain": [
       "           count        mean          std  min           25%       50%  \\\n",
       "End_Point                                                                \n",
       "MOV1       163.0  421.979285  3781.247857  0.0  2.000000e-08  0.006992   \n",
       "MOV2       117.0    2.332857     6.918284  0.0  0.000000e+00  0.003043   \n",
       "MOV3       113.0    3.692433    14.885205  0.0  1.000000e-08  0.002551   \n",
       "MOV4       123.0    2.346807     7.476395  0.0  0.000000e+00  0.000053   \n",
       "\n",
       "                75%           max  \n",
       "End_Point                          \n",
       "MOV1       1.135523  36776.306617  \n",
       "MOV2       0.465720     38.299255  \n",
       "MOV3       0.598356    134.103474  \n",
       "MOV4       0.518403     44.129244  "
      ]
     },
     "execution_count": 391,
     "metadata": {},
     "output_type": "execute_result"
    }
   ],
   "source": [
    "df_temp = df_all[df_all['End_Point'].str.contains(\"MOV\")]\n",
    "df_temp = df_temp.groupby(['End_Point'])['BMD10']\n",
    "df_temp.describe()"
   ]
  },
  {
   "cell_type": "code",
   "execution_count": 393,
   "metadata": {},
   "outputs": [
    {
     "data": {
      "text/plain": [
       "(0.0, 100.0)"
      ]
     },
     "execution_count": 393,
     "metadata": {},
     "output_type": "execute_result"
    },
    {
     "data": {
      "image/png": "[encoded data removed]",
      "text/plain": [
       "<Figure size 432x288 with 1 Axes>"
      ]
     },
     "metadata": {},
     "output_type": "display_data"
    }
   ],
   "source": [
    "df_all.loc[df_all['End_Point'] == 'MOV1',:]['BMD10'].plot()\n",
    "df_all.loc[df_all['End_Point'] == 'MOV2',:]['BMD10'].plot()\n",
    "df_all.loc[df_all['End_Point'] == 'MOV3',:]['BMD10'].plot()\n",
    "df_all.loc[df_all['End_Point'] == 'MOV4',:]['BMD10'].plot()\n",
    "plt.ylim((0, 100))"
   ]
  },
  {
   "cell_type": "code",
   "execution_count": 340,
   "metadata": {},
   "outputs": [
    {
     "ename": "ValueError",
     "evalue": "x and y must have same first dimension, but have shapes (30,) and (1000,)",
     "output_type": "error",
     "traceback": [
      "\u001b[0;31m---------------------------------------------------------------------------\u001b[0m",
      "\u001b[0;31mValueError\u001b[0m                                Traceback (most recent call last)",
      "\u001b[0;32m<ipython-input-340-e0877df9d16c>\u001b[0m in \u001b[0;36m<module>\u001b[0;34m()\u001b[0m\n\u001b[1;32m      2\u001b[0m \u001b[0msmooth\u001b[0m \u001b[0;34m=\u001b[0m \u001b[0mraw\u001b[0m\u001b[0;34m.\u001b[0m\u001b[0mreshape\u001b[0m\u001b[0;34m(\u001b[0m\u001b[0;34m-\u001b[0m\u001b[0;36m1\u001b[0m\u001b[0;34m,\u001b[0m\u001b[0;36m10\u001b[0m\u001b[0;34m)\u001b[0m\u001b[0;34m.\u001b[0m\u001b[0mmean\u001b[0m\u001b[0;34m(\u001b[0m\u001b[0maxis\u001b[0m\u001b[0;34m=\u001b[0m\u001b[0;36m1\u001b[0m\u001b[0;34m)\u001b[0m\u001b[0;34m\u001b[0m\u001b[0;34m\u001b[0m\u001b[0m\n\u001b[1;32m      3\u001b[0m \u001b[0;34m\u001b[0m\u001b[0m\n\u001b[0;32m----> 4\u001b[0;31m \u001b[0mplt\u001b[0m\u001b[0;34m.\u001b[0m\u001b[0mplot\u001b[0m\u001b[0;34m(\u001b[0m\u001b[0mchemical_ID_per_AUC1_with_highest_10_BMD10\u001b[0m\u001b[0;34m,\u001b[0m \u001b[0mraw\u001b[0m\u001b[0;34m)\u001b[0m\u001b[0;34m\u001b[0m\u001b[0;34m\u001b[0m\u001b[0m\n\u001b[0m\u001b[1;32m      5\u001b[0m \u001b[0mplt\u001b[0m\u001b[0;34m.\u001b[0m\u001b[0mplot\u001b[0m\u001b[0;34m(\u001b[0m\u001b[0mchemical_ID_per_AUC2_with_highest_10_BMD10\u001b[0m\u001b[0;34m,\u001b[0m \u001b[0msmooth\u001b[0m\u001b[0;34m)\u001b[0m\u001b[0;34m\u001b[0m\u001b[0;34m\u001b[0m\u001b[0m\n\u001b[1;32m      6\u001b[0m \u001b[0mplt\u001b[0m\u001b[0;34m.\u001b[0m\u001b[0mshow\u001b[0m\u001b[0;34m(\u001b[0m\u001b[0;34m)\u001b[0m\u001b[0;34m\u001b[0m\u001b[0;34m\u001b[0m\u001b[0m\n",
      "\u001b[0;32m/Users/kimd999/bin/miniconda3/envs/tox/lib/python3.7/site-packages/matplotlib/pyplot.py\u001b[0m in \u001b[0;36mplot\u001b[0;34m(scalex, scaley, data, *args, **kwargs)\u001b[0m\n\u001b[1;32m   2824\u001b[0m     return gca().plot(\n\u001b[1;32m   2825\u001b[0m         \u001b[0;34m*\u001b[0m\u001b[0margs\u001b[0m\u001b[0;34m,\u001b[0m \u001b[0mscalex\u001b[0m\u001b[0;34m=\u001b[0m\u001b[0mscalex\u001b[0m\u001b[0;34m,\u001b[0m \u001b[0mscaley\u001b[0m\u001b[0;34m=\u001b[0m\u001b[0mscaley\u001b[0m\u001b[0;34m,\u001b[0m\u001b[0;34m\u001b[0m\u001b[0;34m\u001b[0m\u001b[0m\n\u001b[0;32m-> 2826\u001b[0;31m         **({\"data\": data} if data is not None else {}), **kwargs)\n\u001b[0m\u001b[1;32m   2827\u001b[0m \u001b[0;34m\u001b[0m\u001b[0m\n\u001b[1;32m   2828\u001b[0m \u001b[0;34m\u001b[0m\u001b[0m\n",
      "\u001b[0;32m/Users/kimd999/bin/miniconda3/envs/tox/lib/python3.7/site-packages/matplotlib/axes/_axes.py\u001b[0m in \u001b[0;36mplot\u001b[0;34m(self, scalex, scaley, data, *args, **kwargs)\u001b[0m\n\u001b[1;32m   1741\u001b[0m         \"\"\"\n\u001b[1;32m   1742\u001b[0m         \u001b[0mkwargs\u001b[0m \u001b[0;34m=\u001b[0m \u001b[0mcbook\u001b[0m\u001b[0;34m.\u001b[0m\u001b[0mnormalize_kwargs\u001b[0m\u001b[0;34m(\u001b[0m\u001b[0mkwargs\u001b[0m\u001b[0;34m,\u001b[0m \u001b[0mmlines\u001b[0m\u001b[0;34m.\u001b[0m\u001b[0mLine2D\u001b[0m\u001b[0;34m)\u001b[0m\u001b[0;34m\u001b[0m\u001b[0;34m\u001b[0m\u001b[0m\n\u001b[0;32m-> 1743\u001b[0;31m         \u001b[0mlines\u001b[0m \u001b[0;34m=\u001b[0m \u001b[0;34m[\u001b[0m\u001b[0;34m*\u001b[0m\u001b[0mself\u001b[0m\u001b[0;34m.\u001b[0m\u001b[0m_get_lines\u001b[0m\u001b[0;34m(\u001b[0m\u001b[0;34m*\u001b[0m\u001b[0margs\u001b[0m\u001b[0;34m,\u001b[0m \u001b[0mdata\u001b[0m\u001b[0;34m=\u001b[0m\u001b[0mdata\u001b[0m\u001b[0;34m,\u001b[0m \u001b[0;34m**\u001b[0m\u001b[0mkwargs\u001b[0m\u001b[0;34m)\u001b[0m\u001b[0;34m]\u001b[0m\u001b[0;34m\u001b[0m\u001b[0;34m\u001b[0m\u001b[0m\n\u001b[0m\u001b[1;32m   1744\u001b[0m         \u001b[0;32mfor\u001b[0m \u001b[0mline\u001b[0m \u001b[0;32min\u001b[0m \u001b[0mlines\u001b[0m\u001b[0;34m:\u001b[0m\u001b[0;34m\u001b[0m\u001b[0;34m\u001b[0m\u001b[0m\n\u001b[1;32m   1745\u001b[0m             \u001b[0mself\u001b[0m\u001b[0;34m.\u001b[0m\u001b[0madd_line\u001b[0m\u001b[0;34m(\u001b[0m\u001b[0mline\u001b[0m\u001b[0;34m)\u001b[0m\u001b[0;34m\u001b[0m\u001b[0;34m\u001b[0m\u001b[0m\n",
      "\u001b[0;32m/Users/kimd999/bin/miniconda3/envs/tox/lib/python3.7/site-packages/matplotlib/axes/_base.py\u001b[0m in \u001b[0;36m__call__\u001b[0;34m(self, data, *args, **kwargs)\u001b[0m\n\u001b[1;32m    271\u001b[0m                 \u001b[0mthis\u001b[0m \u001b[0;34m+=\u001b[0m \u001b[0margs\u001b[0m\u001b[0;34m[\u001b[0m\u001b[0;36m0\u001b[0m\u001b[0;34m]\u001b[0m\u001b[0;34m,\u001b[0m\u001b[0;34m\u001b[0m\u001b[0;34m\u001b[0m\u001b[0m\n\u001b[1;32m    272\u001b[0m                 \u001b[0margs\u001b[0m \u001b[0;34m=\u001b[0m \u001b[0margs\u001b[0m\u001b[0;34m[\u001b[0m\u001b[0;36m1\u001b[0m\u001b[0;34m:\u001b[0m\u001b[0;34m]\u001b[0m\u001b[0;34m\u001b[0m\u001b[0;34m\u001b[0m\u001b[0m\n\u001b[0;32m--> 273\u001b[0;31m             \u001b[0;32myield\u001b[0m \u001b[0;32mfrom\u001b[0m \u001b[0mself\u001b[0m\u001b[0;34m.\u001b[0m\u001b[0m_plot_args\u001b[0m\u001b[0;34m(\u001b[0m\u001b[0mthis\u001b[0m\u001b[0;34m,\u001b[0m \u001b[0mkwargs\u001b[0m\u001b[0;34m)\u001b[0m\u001b[0;34m\u001b[0m\u001b[0;34m\u001b[0m\u001b[0m\n\u001b[0m\u001b[1;32m    274\u001b[0m \u001b[0;34m\u001b[0m\u001b[0m\n\u001b[1;32m    275\u001b[0m     \u001b[0;32mdef\u001b[0m \u001b[0mget_next_color\u001b[0m\u001b[0;34m(\u001b[0m\u001b[0mself\u001b[0m\u001b[0;34m)\u001b[0m\u001b[0;34m:\u001b[0m\u001b[0;34m\u001b[0m\u001b[0;34m\u001b[0m\u001b[0m\n",
      "\u001b[0;32m/Users/kimd999/bin/miniconda3/envs/tox/lib/python3.7/site-packages/matplotlib/axes/_base.py\u001b[0m in \u001b[0;36m_plot_args\u001b[0;34m(self, tup, kwargs)\u001b[0m\n\u001b[1;32m    397\u001b[0m \u001b[0;34m\u001b[0m\u001b[0m\n\u001b[1;32m    398\u001b[0m         \u001b[0;32mif\u001b[0m \u001b[0mx\u001b[0m\u001b[0;34m.\u001b[0m\u001b[0mshape\u001b[0m\u001b[0;34m[\u001b[0m\u001b[0;36m0\u001b[0m\u001b[0;34m]\u001b[0m \u001b[0;34m!=\u001b[0m \u001b[0my\u001b[0m\u001b[0;34m.\u001b[0m\u001b[0mshape\u001b[0m\u001b[0;34m[\u001b[0m\u001b[0;36m0\u001b[0m\u001b[0;34m]\u001b[0m\u001b[0;34m:\u001b[0m\u001b[0;34m\u001b[0m\u001b[0;34m\u001b[0m\u001b[0m\n\u001b[0;32m--> 399\u001b[0;31m             raise ValueError(f\"x and y must have same first dimension, but \"\n\u001b[0m\u001b[1;32m    400\u001b[0m                              f\"have shapes {x.shape} and {y.shape}\")\n\u001b[1;32m    401\u001b[0m         \u001b[0;32mif\u001b[0m \u001b[0mx\u001b[0m\u001b[0;34m.\u001b[0m\u001b[0mndim\u001b[0m \u001b[0;34m>\u001b[0m \u001b[0;36m2\u001b[0m \u001b[0;32mor\u001b[0m \u001b[0my\u001b[0m\u001b[0;34m.\u001b[0m\u001b[0mndim\u001b[0m \u001b[0;34m>\u001b[0m \u001b[0;36m2\u001b[0m\u001b[0;34m:\u001b[0m\u001b[0;34m\u001b[0m\u001b[0;34m\u001b[0m\u001b[0m\n",
      "\u001b[0;31mValueError\u001b[0m: x and y must have same first dimension, but have shapes (30,) and (1000,)"
     ]
    },
    {
     "data": {
      "image/png": "[encoded data removed]",
      "text/plain": [
       "<Figure size 432x288 with 1 Axes>"
      ]
     },
     "metadata": {},
     "output_type": "display_data"
    }
   ],
   "source": [
    "raw = (np.random.random(1000) - 0.5).cumsum()\n",
    "smooth = raw.reshape(-1,10).mean(axis=1)\n",
    "\n",
    "plt.plot(chemical_ID_per_AUC1_with_highest_BMD10, raw)\n",
    "plt.plot(chemical_ID_per_AUC2_with_highest_BMD10, smooth)\n",
    "plt.show()"
   ]
  },
  {
   "cell_type": "code",
   "execution_count": 246,
   "metadata": {},
   "outputs": [
    {
     "name": "stdout",
     "output_type": "stream",
     "text": [
      "\n",
      "\n",
      "chemical_id: 1031\n"
     ]
    },
    {
     "data": {
      "text/plain": [
       "21.3648838225"
      ]
     },
     "metadata": {},
     "output_type": "display_data"
    },
    {
     "data": {
      "text/plain": [
       "13.335609480470582"
      ]
     },
     "metadata": {},
     "output_type": "display_data"
    }
   ],
   "source": [
    "## MOV\n",
    "#full_devel = \"full\"\n",
    "full_devel = \"devel\"\n",
    "\n",
    "if (full_devel == \"full\"):\n",
    "    chemical_id_from_here = np.unique(df_all['Chemical_ID'])\n",
    "else:\n",
    "    chemical_id_from_here = [1031]\n",
    "\n",
    "for chemical_id in chemical_id_from_here:\n",
    "    print (\"\\n\\nchemical_id:\", chemical_id)\n",
    "    array = []\n",
    "    df_per_chemical = df_all.loc[df_all['Chemical_ID'] == chemical_id]\n",
    "    \n",
    "    df_per_chemical_MOV1 = df_per_chemical.loc[df_per_chemical['End_Point'] == 'MOV1']\n",
    "    array.append(float(df_per_chemical_MOV1['BMD10']))\n",
    "    \n",
    "    df_per_chemical_MOV2 = df_per_chemical.loc[df_per_chemical['End_Point'] == 'MOV2']\n",
    "    array.append(float(df_per_chemical_MOV2['BMD10']))\n",
    "    \n",
    "    df_per_chemical_MOV3 = df_per_chemical.loc[df_per_chemical['End_Point'] == 'MOV3']\n",
    "    array.append(float(df_per_chemical_MOV3['BMD10']))\n",
    "    \n",
    "    df_per_chemical_MOV4 = df_per_chemical.loc[df_per_chemical['End_Point'] == 'MOV4']\n",
    "    array.append(float(df_per_chemical_MOV4['BMD10']))\n",
    "    \n",
    "    display(np.mean(array))\n",
    "    display(np.std(array))\n",
    "\n",
    "#    display(df_per_chemical_AUC2.tail())"
   ]
  },
  {
   "cell_type": "code",
   "execution_count": 134,
   "metadata": {},
   "outputs": [
    {
     "data": {
      "text/html": [
       "<div>\n",
       "<style scoped>\n",
       "    .dataframe tbody tr th:only-of-type {\n",
       "        vertical-align: middle;\n",
       "    }\n",
       "\n",
       "    .dataframe tbody tr th {\n",
       "        vertical-align: top;\n",
       "    }\n",
       "\n",
       "    .dataframe thead th {\n",
       "        text-align: right;\n",
       "    }\n",
       "</style>\n",
       "<table border=\"1\" class=\"dataframe\">\n",
       "  <thead>\n",
       "    <tr style=\"text-align: right;\">\n",
       "      <th></th>\n",
       "      <th>count</th>\n",
       "      <th>mean</th>\n",
       "      <th>std</th>\n",
       "      <th>min</th>\n",
       "      <th>25%</th>\n",
       "      <th>50%</th>\n",
       "      <th>75%</th>\n",
       "      <th>max</th>\n",
       "    </tr>\n",
       "    <tr>\n",
       "      <th>BMD10_from_this_End_Point</th>\n",
       "      <th></th>\n",
       "      <th></th>\n",
       "      <th></th>\n",
       "      <th></th>\n",
       "      <th></th>\n",
       "      <th></th>\n",
       "      <th></th>\n",
       "      <th></th>\n",
       "    </tr>\n",
       "  </thead>\n",
       "  <tbody>\n",
       "    <tr>\n",
       "      <th>AUC1</th>\n",
       "      <td>149.0</td>\n",
       "      <td>181.375645</td>\n",
       "      <td>2066.685670</td>\n",
       "      <td>0.0</td>\n",
       "      <td>5.480112e-02</td>\n",
       "      <td>1.610877</td>\n",
       "      <td>12.156283</td>\n",
       "      <td>25236.494669</td>\n",
       "    </tr>\n",
       "    <tr>\n",
       "      <th>AUC2</th>\n",
       "      <td>103.0</td>\n",
       "      <td>1213.332686</td>\n",
       "      <td>7013.364025</td>\n",
       "      <td>0.0</td>\n",
       "      <td>1.072671e-02</td>\n",
       "      <td>1.610952</td>\n",
       "      <td>9.925319</td>\n",
       "      <td>44765.635967</td>\n",
       "    </tr>\n",
       "    <tr>\n",
       "      <th>AUC3</th>\n",
       "      <td>110.0</td>\n",
       "      <td>976.190903</td>\n",
       "      <td>7142.127741</td>\n",
       "      <td>0.0</td>\n",
       "      <td>1.388512e-03</td>\n",
       "      <td>0.875668</td>\n",
       "      <td>11.321070</td>\n",
       "      <td>63009.550634</td>\n",
       "    </tr>\n",
       "    <tr>\n",
       "      <th>AUC4</th>\n",
       "      <td>109.0</td>\n",
       "      <td>219.903983</td>\n",
       "      <td>2173.177347</td>\n",
       "      <td>0.0</td>\n",
       "      <td>6.830000e-06</td>\n",
       "      <td>1.224245</td>\n",
       "      <td>11.895406</td>\n",
       "      <td>22698.995490</td>\n",
       "    </tr>\n",
       "    <tr>\n",
       "      <th>MOV1</th>\n",
       "      <td>163.0</td>\n",
       "      <td>421.979285</td>\n",
       "      <td>3781.247857</td>\n",
       "      <td>0.0</td>\n",
       "      <td>2.000000e-08</td>\n",
       "      <td>0.006992</td>\n",
       "      <td>1.135523</td>\n",
       "      <td>36776.306617</td>\n",
       "    </tr>\n",
       "    <tr>\n",
       "      <th>MOV2</th>\n",
       "      <td>117.0</td>\n",
       "      <td>2.332857</td>\n",
       "      <td>6.918284</td>\n",
       "      <td>0.0</td>\n",
       "      <td>0.000000e+00</td>\n",
       "      <td>0.003043</td>\n",
       "      <td>0.465720</td>\n",
       "      <td>38.299255</td>\n",
       "    </tr>\n",
       "    <tr>\n",
       "      <th>MOV3</th>\n",
       "      <td>113.0</td>\n",
       "      <td>3.692433</td>\n",
       "      <td>14.885205</td>\n",
       "      <td>0.0</td>\n",
       "      <td>1.000000e-08</td>\n",
       "      <td>0.002551</td>\n",
       "      <td>0.598356</td>\n",
       "      <td>134.103474</td>\n",
       "    </tr>\n",
       "    <tr>\n",
       "      <th>MOV4</th>\n",
       "      <td>123.0</td>\n",
       "      <td>2.346807</td>\n",
       "      <td>7.476395</td>\n",
       "      <td>0.0</td>\n",
       "      <td>0.000000e+00</td>\n",
       "      <td>0.000053</td>\n",
       "      <td>0.518403</td>\n",
       "      <td>44.129244</td>\n",
       "    </tr>\n",
       "  </tbody>\n",
       "</table>\n",
       "</div>"
      ],
      "text/plain": [
       "                           count         mean          std  min           25%  \\\n",
       "BMD10_from_this_End_Point                                                       \n",
       "AUC1                       149.0   181.375645  2066.685670  0.0  5.480112e-02   \n",
       "AUC2                       103.0  1213.332686  7013.364025  0.0  1.072671e-02   \n",
       "AUC3                       110.0   976.190903  7142.127741  0.0  1.388512e-03   \n",
       "AUC4                       109.0   219.903983  2173.177347  0.0  6.830000e-06   \n",
       "MOV1                       163.0   421.979285  3781.247857  0.0  2.000000e-08   \n",
       "MOV2                       117.0     2.332857     6.918284  0.0  0.000000e+00   \n",
       "MOV3                       113.0     3.692433    14.885205  0.0  1.000000e-08   \n",
       "MOV4                       123.0     2.346807     7.476395  0.0  0.000000e+00   \n",
       "\n",
       "                                50%        75%           max  \n",
       "BMD10_from_this_End_Point                                     \n",
       "AUC1                       1.610877  12.156283  25236.494669  \n",
       "AUC2                       1.610952   9.925319  44765.635967  \n",
       "AUC3                       0.875668  11.321070  63009.550634  \n",
       "AUC4                       1.224245  11.895406  22698.995490  \n",
       "MOV1                       0.006992   1.135523  36776.306617  \n",
       "MOV2                       0.003043   0.465720     38.299255  \n",
       "MOV3                       0.002551   0.598356    134.103474  \n",
       "MOV4                       0.000053   0.518403     44.129244  "
      ]
     },
     "execution_count": 134,
     "metadata": {},
     "output_type": "execute_result"
    }
   ],
   "source": [
    "df_temp = df_all.rename(columns={\"End_Point\": \"BMD10_from_this_End_Point\"})\n",
    "df_temp.groupby(['BMD10_from_this_End_Point'])['BMD10'].describe()\n",
    "\n",
    "#df_temp = df_temp['BMD10']\n",
    "#df_temp.head()"
   ]
  },
  {
   "cell_type": "code",
   "execution_count": 217,
   "metadata": {},
   "outputs": [
    {
     "data": {
      "text/plain": [
       "<AxesSubplot:>"
      ]
     },
     "execution_count": 217,
     "metadata": {},
     "output_type": "execute_result"
    },
    {
     "data": {
      "image/png": "[encoded data removed]",
      "text/plain": [
       "<Figure size 432x288 with 1 Axes>"
      ]
     },
     "metadata": {},
     "output_type": "display_data"
    }
   ],
   "source": [
    "df_all.loc[df_all['End_Point'] == 'AUC1',:]['BMD10'].plot()\n",
    "df_all.loc[df_all['End_Point'] == 'AUC2',:]['BMD10'].plot()\n",
    "df_all.loc[df_all['End_Point'] == 'AUC3',:]['BMD10'].plot()\n",
    "df_all.loc[df_all['End_Point'] == 'AUC4',:]['BMD10'].plot()\n",
    "#plt.ylim((0, 100))"
   ]
  },
  {
   "cell_type": "code",
   "execution_count": 201,
   "metadata": {},
   "outputs": [
    {
     "data": {
      "text/plain": [
       "<AxesSubplot:>"
      ]
     },
     "execution_count": 201,
     "metadata": {},
     "output_type": "execute_result"
    },
    {
     "data": {
      "image/png": "[encoded data removed]",
      "text/plain": [
       "<Figure size 432x288 with 1 Axes>"
      ]
     },
     "metadata": {},
     "output_type": "display_data"
    }
   ],
   "source": [
    "#plt.plot(df_all.loc[df_all['End_Point'] == 'AUC1',:]['BMD10'].array)\n"
   ]
  },
  {
   "cell_type": "code",
   "execution_count": 202,
   "metadata": {},
   "outputs": [
    {
     "data": {
      "text/plain": [
       "count      110.000000\n",
       "mean       976.190903\n",
       "std       7142.127741\n",
       "min          0.000000\n",
       "25%          0.001389\n",
       "50%          0.875668\n",
       "75%         11.321070\n",
       "max      63009.550634\n",
       "Name: BMD10, dtype: float64"
      ]
     },
     "execution_count": 202,
     "metadata": {},
     "output_type": "execute_result"
    }
   ],
   "source": [
    "df_all.loc[df_all['End_Point'] == 'AUC3',:]['BMD10'].describe()"
   ]
  },
  {
   "cell_type": "code",
   "execution_count": 194,
   "metadata": {},
   "outputs": [
    {
     "data": {
      "text/plain": [
       "<AxesSubplot:>"
      ]
     },
     "execution_count": 194,
     "metadata": {},
     "output_type": "execute_result"
    },
    {
     "data": {
      "image/png": "[encoded data removed]",
      "text/plain": [
       "<Figure size 432x288 with 1 Axes>"
      ]
     },
     "metadata": {},
     "output_type": "display_data"
    }
   ],
   "source": [
    "df_all.loc[df_all['End_Point'] == 'AUC1',:]['BMD10'].plot.box()"
   ]
  },
  {
   "cell_type": "code",
   "execution_count": 190,
   "metadata": {},
   "outputs": [
    {
     "ename": "ValueError",
     "evalue": "Input could not be cast to an at-least-1D NumPy array",
     "output_type": "error",
     "traceback": [
      "\u001b[0;31m---------------------------------------------------------------------------\u001b[0m",
      "\u001b[0;31mValueError\u001b[0m                                Traceback (most recent call last)",
      "\u001b[0;32m<ipython-input-190-d5f141b0c705>\u001b[0m in \u001b[0;36m<module>\u001b[0;34m()\u001b[0m\n\u001b[0;32m----> 1\u001b[0;31m \u001b[0mplt\u001b[0m\u001b[0;34m.\u001b[0m\u001b[0mplot\u001b[0m\u001b[0;34m(\u001b[0m\u001b[0mdf_all\u001b[0m\u001b[0;34m.\u001b[0m\u001b[0mloc\u001b[0m\u001b[0;34m[\u001b[0m\u001b[0mdf_all\u001b[0m\u001b[0;34m[\u001b[0m\u001b[0;34m'End_Point'\u001b[0m\u001b[0;34m]\u001b[0m \u001b[0;34m==\u001b[0m \u001b[0;34m'AUC1'\u001b[0m\u001b[0;34m,\u001b[0m\u001b[0;34m:\u001b[0m\u001b[0;34m]\u001b[0m\u001b[0;34m[\u001b[0m\u001b[0;34m'BMD10'\u001b[0m\u001b[0;34m]\u001b[0m\u001b[0;34m.\u001b[0m\u001b[0marray\u001b[0m\u001b[0;34m)\u001b[0m \u001b[0;31m# plotting by columns\u001b[0m\u001b[0;34m\u001b[0m\u001b[0;34m\u001b[0m\u001b[0m\n\u001b[0m\u001b[1;32m      2\u001b[0m \u001b[0mplt\u001b[0m\u001b[0;34m.\u001b[0m\u001b[0mshow\u001b[0m\u001b[0;34m(\u001b[0m\u001b[0;34m)\u001b[0m\u001b[0;34m\u001b[0m\u001b[0;34m\u001b[0m\u001b[0m\n",
      "\u001b[0;32m/Users/kimd999/bin/miniconda3/envs/tox/lib/python3.7/site-packages/matplotlib/pyplot.py\u001b[0m in \u001b[0;36mplot\u001b[0;34m(scalex, scaley, data, *args, **kwargs)\u001b[0m\n\u001b[1;32m   2824\u001b[0m     return gca().plot(\n\u001b[1;32m   2825\u001b[0m         \u001b[0;34m*\u001b[0m\u001b[0margs\u001b[0m\u001b[0;34m,\u001b[0m \u001b[0mscalex\u001b[0m\u001b[0;34m=\u001b[0m\u001b[0mscalex\u001b[0m\u001b[0;34m,\u001b[0m \u001b[0mscaley\u001b[0m\u001b[0;34m=\u001b[0m\u001b[0mscaley\u001b[0m\u001b[0;34m,\u001b[0m\u001b[0;34m\u001b[0m\u001b[0;34m\u001b[0m\u001b[0m\n\u001b[0;32m-> 2826\u001b[0;31m         **({\"data\": data} if data is not None else {}), **kwargs)\n\u001b[0m\u001b[1;32m   2827\u001b[0m \u001b[0;34m\u001b[0m\u001b[0m\n\u001b[1;32m   2828\u001b[0m \u001b[0;34m\u001b[0m\u001b[0m\n",
      "\u001b[0;32m/Users/kimd999/bin/miniconda3/envs/tox/lib/python3.7/site-packages/matplotlib/axes/_axes.py\u001b[0m in \u001b[0;36mplot\u001b[0;34m(self, scalex, scaley, data, *args, **kwargs)\u001b[0m\n\u001b[1;32m   1741\u001b[0m         \"\"\"\n\u001b[1;32m   1742\u001b[0m         \u001b[0mkwargs\u001b[0m \u001b[0;34m=\u001b[0m \u001b[0mcbook\u001b[0m\u001b[0;34m.\u001b[0m\u001b[0mnormalize_kwargs\u001b[0m\u001b[0;34m(\u001b[0m\u001b[0mkwargs\u001b[0m\u001b[0;34m,\u001b[0m \u001b[0mmlines\u001b[0m\u001b[0;34m.\u001b[0m\u001b[0mLine2D\u001b[0m\u001b[0;34m)\u001b[0m\u001b[0;34m\u001b[0m\u001b[0;34m\u001b[0m\u001b[0m\n\u001b[0;32m-> 1743\u001b[0;31m         \u001b[0mlines\u001b[0m \u001b[0;34m=\u001b[0m \u001b[0;34m[\u001b[0m\u001b[0;34m*\u001b[0m\u001b[0mself\u001b[0m\u001b[0;34m.\u001b[0m\u001b[0m_get_lines\u001b[0m\u001b[0;34m(\u001b[0m\u001b[0;34m*\u001b[0m\u001b[0margs\u001b[0m\u001b[0;34m,\u001b[0m \u001b[0mdata\u001b[0m\u001b[0;34m=\u001b[0m\u001b[0mdata\u001b[0m\u001b[0;34m,\u001b[0m \u001b[0;34m**\u001b[0m\u001b[0mkwargs\u001b[0m\u001b[0;34m)\u001b[0m\u001b[0;34m]\u001b[0m\u001b[0;34m\u001b[0m\u001b[0;34m\u001b[0m\u001b[0m\n\u001b[0m\u001b[1;32m   1744\u001b[0m         \u001b[0;32mfor\u001b[0m \u001b[0mline\u001b[0m \u001b[0;32min\u001b[0m \u001b[0mlines\u001b[0m\u001b[0;34m:\u001b[0m\u001b[0;34m\u001b[0m\u001b[0;34m\u001b[0m\u001b[0m\n\u001b[1;32m   1745\u001b[0m             \u001b[0mself\u001b[0m\u001b[0;34m.\u001b[0m\u001b[0madd_line\u001b[0m\u001b[0;34m(\u001b[0m\u001b[0mline\u001b[0m\u001b[0;34m)\u001b[0m\u001b[0;34m\u001b[0m\u001b[0;34m\u001b[0m\u001b[0m\n",
      "\u001b[0;32m/Users/kimd999/bin/miniconda3/envs/tox/lib/python3.7/site-packages/matplotlib/axes/_base.py\u001b[0m in \u001b[0;36m__call__\u001b[0;34m(self, data, *args, **kwargs)\u001b[0m\n\u001b[1;32m    271\u001b[0m                 \u001b[0mthis\u001b[0m \u001b[0;34m+=\u001b[0m \u001b[0margs\u001b[0m\u001b[0;34m[\u001b[0m\u001b[0;36m0\u001b[0m\u001b[0;34m]\u001b[0m\u001b[0;34m,\u001b[0m\u001b[0;34m\u001b[0m\u001b[0;34m\u001b[0m\u001b[0m\n\u001b[1;32m    272\u001b[0m                 \u001b[0margs\u001b[0m \u001b[0;34m=\u001b[0m \u001b[0margs\u001b[0m\u001b[0;34m[\u001b[0m\u001b[0;36m1\u001b[0m\u001b[0;34m:\u001b[0m\u001b[0;34m]\u001b[0m\u001b[0;34m\u001b[0m\u001b[0;34m\u001b[0m\u001b[0m\n\u001b[0;32m--> 273\u001b[0;31m             \u001b[0;32myield\u001b[0m \u001b[0;32mfrom\u001b[0m \u001b[0mself\u001b[0m\u001b[0;34m.\u001b[0m\u001b[0m_plot_args\u001b[0m\u001b[0;34m(\u001b[0m\u001b[0mthis\u001b[0m\u001b[0;34m,\u001b[0m \u001b[0mkwargs\u001b[0m\u001b[0;34m)\u001b[0m\u001b[0;34m\u001b[0m\u001b[0;34m\u001b[0m\u001b[0m\n\u001b[0m\u001b[1;32m    274\u001b[0m \u001b[0;34m\u001b[0m\u001b[0m\n\u001b[1;32m    275\u001b[0m     \u001b[0;32mdef\u001b[0m \u001b[0mget_next_color\u001b[0m\u001b[0;34m(\u001b[0m\u001b[0mself\u001b[0m\u001b[0;34m)\u001b[0m\u001b[0;34m:\u001b[0m\u001b[0;34m\u001b[0m\u001b[0;34m\u001b[0m\u001b[0m\n",
      "\u001b[0;32m/Users/kimd999/bin/miniconda3/envs/tox/lib/python3.7/site-packages/matplotlib/axes/_base.py\u001b[0m in \u001b[0;36m_plot_args\u001b[0;34m(self, tup, kwargs)\u001b[0m\n\u001b[1;32m    389\u001b[0m             \u001b[0my\u001b[0m \u001b[0;34m=\u001b[0m \u001b[0m_check_1d\u001b[0m\u001b[0;34m(\u001b[0m\u001b[0mtup\u001b[0m\u001b[0;34m[\u001b[0m\u001b[0;34m-\u001b[0m\u001b[0;36m1\u001b[0m\u001b[0;34m]\u001b[0m\u001b[0;34m)\u001b[0m\u001b[0;34m\u001b[0m\u001b[0;34m\u001b[0m\u001b[0m\n\u001b[1;32m    390\u001b[0m         \u001b[0;32melse\u001b[0m\u001b[0;34m:\u001b[0m\u001b[0;34m\u001b[0m\u001b[0;34m\u001b[0m\u001b[0m\n\u001b[0;32m--> 391\u001b[0;31m             \u001b[0mx\u001b[0m\u001b[0;34m,\u001b[0m \u001b[0my\u001b[0m \u001b[0;34m=\u001b[0m \u001b[0mindex_of\u001b[0m\u001b[0;34m(\u001b[0m\u001b[0mtup\u001b[0m\u001b[0;34m[\u001b[0m\u001b[0;34m-\u001b[0m\u001b[0;36m1\u001b[0m\u001b[0;34m]\u001b[0m\u001b[0;34m)\u001b[0m\u001b[0;34m\u001b[0m\u001b[0;34m\u001b[0m\u001b[0m\n\u001b[0m\u001b[1;32m    392\u001b[0m \u001b[0;34m\u001b[0m\u001b[0m\n\u001b[1;32m    393\u001b[0m         \u001b[0;32mif\u001b[0m \u001b[0mself\u001b[0m\u001b[0;34m.\u001b[0m\u001b[0maxes\u001b[0m\u001b[0;34m.\u001b[0m\u001b[0mxaxis\u001b[0m \u001b[0;32mis\u001b[0m \u001b[0;32mnot\u001b[0m \u001b[0;32mNone\u001b[0m\u001b[0;34m:\u001b[0m\u001b[0;34m\u001b[0m\u001b[0;34m\u001b[0m\u001b[0m\n",
      "\u001b[0;32m/Users/kimd999/bin/miniconda3/envs/tox/lib/python3.7/site-packages/matplotlib/cbook/__init__.py\u001b[0m in \u001b[0;36mindex_of\u001b[0;34m(y)\u001b[0m\n\u001b[1;32m   1636\u001b[0m     \u001b[0;32melse\u001b[0m\u001b[0;34m:\u001b[0m\u001b[0;34m\u001b[0m\u001b[0;34m\u001b[0m\u001b[0m\n\u001b[1;32m   1637\u001b[0m         \u001b[0;32mreturn\u001b[0m \u001b[0mnp\u001b[0m\u001b[0;34m.\u001b[0m\u001b[0marange\u001b[0m\u001b[0;34m(\u001b[0m\u001b[0my\u001b[0m\u001b[0;34m.\u001b[0m\u001b[0mshape\u001b[0m\u001b[0;34m[\u001b[0m\u001b[0;36m0\u001b[0m\u001b[0;34m]\u001b[0m\u001b[0;34m,\u001b[0m \u001b[0mdtype\u001b[0m\u001b[0;34m=\u001b[0m\u001b[0mfloat\u001b[0m\u001b[0;34m)\u001b[0m\u001b[0;34m,\u001b[0m \u001b[0my\u001b[0m\u001b[0;34m\u001b[0m\u001b[0;34m\u001b[0m\u001b[0m\n\u001b[0;32m-> 1638\u001b[0;31m     \u001b[0;32mraise\u001b[0m \u001b[0mValueError\u001b[0m\u001b[0;34m(\u001b[0m\u001b[0;34m'Input could not be cast to an at-least-1D NumPy array'\u001b[0m\u001b[0;34m)\u001b[0m\u001b[0;34m\u001b[0m\u001b[0;34m\u001b[0m\u001b[0m\n\u001b[0m\u001b[1;32m   1639\u001b[0m \u001b[0;34m\u001b[0m\u001b[0m\n\u001b[1;32m   1640\u001b[0m \u001b[0;34m\u001b[0m\u001b[0m\n",
      "\u001b[0;31mValueError\u001b[0m: Input could not be cast to an at-least-1D NumPy array"
     ]
    },
    {
     "data": {
      "image/png": "[encoded data removed]",
      "text/plain": [
       "<Figure size 432x288 with 1 Axes>"
      ]
     },
     "metadata": {},
     "output_type": "display_data"
    }
   ],
   "source": [
    "plt.plot(df_all.loc[df_all['End_Point'] == 'AUC1',:]['BMD10'].array) # plotting by columns\n",
    "plt.show()"
   ]
  },
  {
   "cell_type": "code",
   "execution_count": 182,
   "metadata": {},
   "outputs": [
    {
     "ename": "ValueError",
     "evalue": "Length of values (135) does not match length of index (186)",
     "output_type": "error",
     "traceback": [
      "\u001b[0;31m---------------------------------------------------------------------------\u001b[0m",
      "\u001b[0;31mValueError\u001b[0m                                Traceback (most recent call last)",
      "\u001b[0;32m<ipython-input-182-268b1f3817cf>\u001b[0m in \u001b[0;36m<module>\u001b[0;34m()\u001b[0m\n\u001b[1;32m      1\u001b[0m \u001b[0mdf_for_hist\u001b[0m \u001b[0;34m=\u001b[0m \u001b[0mpd\u001b[0m\u001b[0;34m.\u001b[0m\u001b[0mDataFrame\u001b[0m\u001b[0;34m(\u001b[0m\u001b[0;34m)\u001b[0m\u001b[0;34m\u001b[0m\u001b[0;34m\u001b[0m\u001b[0m\n\u001b[1;32m      2\u001b[0m \u001b[0mdf_for_hist\u001b[0m\u001b[0;34m[\u001b[0m\u001b[0;34m'AUC1'\u001b[0m\u001b[0;34m]\u001b[0m \u001b[0;34m=\u001b[0m \u001b[0mdf_all\u001b[0m\u001b[0;34m.\u001b[0m\u001b[0mloc\u001b[0m\u001b[0;34m[\u001b[0m\u001b[0mdf_all\u001b[0m\u001b[0;34m[\u001b[0m\u001b[0;34m'End_Point'\u001b[0m\u001b[0;34m]\u001b[0m \u001b[0;34m==\u001b[0m \u001b[0;34m'AUC1'\u001b[0m\u001b[0;34m,\u001b[0m\u001b[0;34m:\u001b[0m\u001b[0;34m]\u001b[0m\u001b[0;34m[\u001b[0m\u001b[0;34m'BMD10'\u001b[0m\u001b[0;34m]\u001b[0m\u001b[0;34m.\u001b[0m\u001b[0marray\u001b[0m\u001b[0;34m\u001b[0m\u001b[0;34m\u001b[0m\u001b[0m\n\u001b[0;32m----> 3\u001b[0;31m \u001b[0mdf_for_hist\u001b[0m\u001b[0;34m[\u001b[0m\u001b[0;34m'AUC2'\u001b[0m\u001b[0;34m]\u001b[0m \u001b[0;34m=\u001b[0m \u001b[0mdf_all\u001b[0m\u001b[0;34m.\u001b[0m\u001b[0mloc\u001b[0m\u001b[0;34m[\u001b[0m\u001b[0mdf_all\u001b[0m\u001b[0;34m[\u001b[0m\u001b[0;34m'End_Point'\u001b[0m\u001b[0;34m]\u001b[0m \u001b[0;34m==\u001b[0m \u001b[0;34m'AUC2'\u001b[0m\u001b[0;34m,\u001b[0m\u001b[0;34m:\u001b[0m\u001b[0;34m]\u001b[0m\u001b[0;34m[\u001b[0m\u001b[0;34m'BMD10'\u001b[0m\u001b[0;34m]\u001b[0m\u001b[0;34m.\u001b[0m\u001b[0marray\u001b[0m\u001b[0;34m\u001b[0m\u001b[0;34m\u001b[0m\u001b[0m\n\u001b[0m\u001b[1;32m      4\u001b[0m \u001b[0max\u001b[0m \u001b[0;34m=\u001b[0m \u001b[0mdf_for_hist\u001b[0m\u001b[0;34m.\u001b[0m\u001b[0mplot\u001b[0m\u001b[0;34m.\u001b[0m\u001b[0mhist\u001b[0m\u001b[0;34m(\u001b[0m\u001b[0mbins\u001b[0m\u001b[0;34m=\u001b[0m\u001b[0;36m12\u001b[0m\u001b[0;34m,\u001b[0m \u001b[0malpha\u001b[0m\u001b[0;34m=\u001b[0m\u001b[0;36m0.5\u001b[0m\u001b[0;34m)\u001b[0m\u001b[0;34m\u001b[0m\u001b[0;34m\u001b[0m\u001b[0m\n",
      "\u001b[0;32m/Users/kimd999/bin/miniconda3/envs/tox/lib/python3.7/site-packages/pandas/core/frame.py\u001b[0m in \u001b[0;36m__setitem__\u001b[0;34m(self, key, value)\u001b[0m\n\u001b[1;32m   3038\u001b[0m         \u001b[0;32melse\u001b[0m\u001b[0;34m:\u001b[0m\u001b[0;34m\u001b[0m\u001b[0;34m\u001b[0m\u001b[0m\n\u001b[1;32m   3039\u001b[0m             \u001b[0;31m# set column\u001b[0m\u001b[0;34m\u001b[0m\u001b[0;34m\u001b[0m\u001b[0;34m\u001b[0m\u001b[0m\n\u001b[0;32m-> 3040\u001b[0;31m             \u001b[0mself\u001b[0m\u001b[0;34m.\u001b[0m\u001b[0m_set_item\u001b[0m\u001b[0;34m(\u001b[0m\u001b[0mkey\u001b[0m\u001b[0;34m,\u001b[0m \u001b[0mvalue\u001b[0m\u001b[0;34m)\u001b[0m\u001b[0;34m\u001b[0m\u001b[0;34m\u001b[0m\u001b[0m\n\u001b[0m\u001b[1;32m   3041\u001b[0m \u001b[0;34m\u001b[0m\u001b[0m\n\u001b[1;32m   3042\u001b[0m     \u001b[0;32mdef\u001b[0m \u001b[0m_setitem_slice\u001b[0m\u001b[0;34m(\u001b[0m\u001b[0mself\u001b[0m\u001b[0;34m,\u001b[0m \u001b[0mkey\u001b[0m\u001b[0;34m:\u001b[0m \u001b[0mslice\u001b[0m\u001b[0;34m,\u001b[0m \u001b[0mvalue\u001b[0m\u001b[0;34m)\u001b[0m\u001b[0;34m:\u001b[0m\u001b[0;34m\u001b[0m\u001b[0;34m\u001b[0m\u001b[0m\n",
      "\u001b[0;32m/Users/kimd999/bin/miniconda3/envs/tox/lib/python3.7/site-packages/pandas/core/frame.py\u001b[0m in \u001b[0;36m_set_item\u001b[0;34m(self, key, value)\u001b[0m\n\u001b[1;32m   3114\u001b[0m         \"\"\"\n\u001b[1;32m   3115\u001b[0m         \u001b[0mself\u001b[0m\u001b[0;34m.\u001b[0m\u001b[0m_ensure_valid_index\u001b[0m\u001b[0;34m(\u001b[0m\u001b[0mvalue\u001b[0m\u001b[0;34m)\u001b[0m\u001b[0;34m\u001b[0m\u001b[0;34m\u001b[0m\u001b[0m\n\u001b[0;32m-> 3116\u001b[0;31m         \u001b[0mvalue\u001b[0m \u001b[0;34m=\u001b[0m \u001b[0mself\u001b[0m\u001b[0;34m.\u001b[0m\u001b[0m_sanitize_column\u001b[0m\u001b[0;34m(\u001b[0m\u001b[0mkey\u001b[0m\u001b[0;34m,\u001b[0m \u001b[0mvalue\u001b[0m\u001b[0;34m)\u001b[0m\u001b[0;34m\u001b[0m\u001b[0;34m\u001b[0m\u001b[0m\n\u001b[0m\u001b[1;32m   3117\u001b[0m         \u001b[0mNDFrame\u001b[0m\u001b[0;34m.\u001b[0m\u001b[0m_set_item\u001b[0m\u001b[0;34m(\u001b[0m\u001b[0mself\u001b[0m\u001b[0;34m,\u001b[0m \u001b[0mkey\u001b[0m\u001b[0;34m,\u001b[0m \u001b[0mvalue\u001b[0m\u001b[0;34m)\u001b[0m\u001b[0;34m\u001b[0m\u001b[0;34m\u001b[0m\u001b[0m\n\u001b[1;32m   3118\u001b[0m \u001b[0;34m\u001b[0m\u001b[0m\n",
      "\u001b[0;32m/Users/kimd999/bin/miniconda3/envs/tox/lib/python3.7/site-packages/pandas/core/frame.py\u001b[0m in \u001b[0;36m_sanitize_column\u001b[0;34m(self, key, value, broadcast)\u001b[0m\n\u001b[1;32m   3757\u001b[0m             \u001b[0;31m# as sanitize_index won't copy an EA, even with copy=True\u001b[0m\u001b[0;34m\u001b[0m\u001b[0;34m\u001b[0m\u001b[0;34m\u001b[0m\u001b[0m\n\u001b[1;32m   3758\u001b[0m             \u001b[0mvalue\u001b[0m \u001b[0;34m=\u001b[0m \u001b[0mvalue\u001b[0m\u001b[0;34m.\u001b[0m\u001b[0mcopy\u001b[0m\u001b[0;34m(\u001b[0m\u001b[0;34m)\u001b[0m\u001b[0;34m\u001b[0m\u001b[0;34m\u001b[0m\u001b[0m\n\u001b[0;32m-> 3759\u001b[0;31m             \u001b[0mvalue\u001b[0m \u001b[0;34m=\u001b[0m \u001b[0msanitize_index\u001b[0m\u001b[0;34m(\u001b[0m\u001b[0mvalue\u001b[0m\u001b[0;34m,\u001b[0m \u001b[0mself\u001b[0m\u001b[0;34m.\u001b[0m\u001b[0mindex\u001b[0m\u001b[0;34m)\u001b[0m\u001b[0;34m\u001b[0m\u001b[0;34m\u001b[0m\u001b[0m\n\u001b[0m\u001b[1;32m   3760\u001b[0m \u001b[0;34m\u001b[0m\u001b[0m\n\u001b[1;32m   3761\u001b[0m         \u001b[0;32melif\u001b[0m \u001b[0misinstance\u001b[0m\u001b[0;34m(\u001b[0m\u001b[0mvalue\u001b[0m\u001b[0;34m,\u001b[0m \u001b[0mIndex\u001b[0m\u001b[0;34m)\u001b[0m \u001b[0;32mor\u001b[0m \u001b[0mis_sequence\u001b[0m\u001b[0;34m(\u001b[0m\u001b[0mvalue\u001b[0m\u001b[0;34m)\u001b[0m\u001b[0;34m:\u001b[0m\u001b[0;34m\u001b[0m\u001b[0;34m\u001b[0m\u001b[0m\n",
      "\u001b[0;32m/Users/kimd999/bin/miniconda3/envs/tox/lib/python3.7/site-packages/pandas/core/internals/construction.py\u001b[0m in \u001b[0;36msanitize_index\u001b[0;34m(data, index)\u001b[0m\n\u001b[1;32m    746\u001b[0m     \u001b[0;32mif\u001b[0m \u001b[0mlen\u001b[0m\u001b[0;34m(\u001b[0m\u001b[0mdata\u001b[0m\u001b[0;34m)\u001b[0m \u001b[0;34m!=\u001b[0m \u001b[0mlen\u001b[0m\u001b[0;34m(\u001b[0m\u001b[0mindex\u001b[0m\u001b[0;34m)\u001b[0m\u001b[0;34m:\u001b[0m\u001b[0;34m\u001b[0m\u001b[0;34m\u001b[0m\u001b[0m\n\u001b[1;32m    747\u001b[0m         raise ValueError(\n\u001b[0;32m--> 748\u001b[0;31m             \u001b[0;34m\"Length of values \"\u001b[0m\u001b[0;34m\u001b[0m\u001b[0;34m\u001b[0m\u001b[0m\n\u001b[0m\u001b[1;32m    749\u001b[0m             \u001b[0;34mf\"({len(data)}) \"\u001b[0m\u001b[0;34m\u001b[0m\u001b[0;34m\u001b[0m\u001b[0m\n\u001b[1;32m    750\u001b[0m             \u001b[0;34m\"does not match length of index \"\u001b[0m\u001b[0;34m\u001b[0m\u001b[0;34m\u001b[0m\u001b[0m\n",
      "\u001b[0;31mValueError\u001b[0m: Length of values (135) does not match length of index (186)"
     ]
    }
   ],
   "source": [
    "df_for_hist = pd.DataFrame()\n",
    "df_for_hist['AUC1'] = df_all.loc[df_all['End_Point'] == 'AUC1',:]['BMD10'].array\n",
    "df_for_hist['AUC2'] = df_all.loc[df_all['End_Point'] == 'AUC2',:]['BMD10'].array\n",
    "ax = df_for_hist.plot.hist(bins=12, alpha=0.5)"
   ]
  },
  {
   "cell_type": "code",
   "execution_count": 173,
   "metadata": {},
   "outputs": [
    {
     "data": {
      "text/plain": [
       "Text(0, 0.5, 'Flights')"
      ]
     },
     "execution_count": 173,
     "metadata": {},
     "output_type": "execute_result"
    },
    {
     "data": {
      "image/png": "[encoded data removed]",
      "text/plain": [
       "<Figure size 432x288 with 1 Axes>"
      ]
     },
     "metadata": {},
     "output_type": "display_data"
    }
   ],
   "source": [
    "# matplotlib histogram\n",
    "plt.hist(df_all.loc[df_all['End_Point'] == 'AUC1',:]['BMD10'], color = 'blue', edgecolor = 'black',\n",
    "         bins = int(180/5))\n",
    "\n",
    "# seaborn histogram\n",
    "#sns.distplot(df_all.loc[df_all['End_Point'] == 'AUC1',:]['BMD10'], hist=True, kde=False, \n",
    "#             bins=int(180/5), color = 'blue',\n",
    "#             hist_kws={'edgecolor':'black'})\n",
    "# Add labels\n",
    "plt.title('Histogram of Arrival Delays')\n",
    "plt.xlabel('Delay (min)')\n",
    "plt.ylabel('Flights')"
   ]
  },
  {
   "cell_type": "code",
   "execution_count": 155,
   "metadata": {},
   "outputs": [
    {
     "data": {
      "image/png": "[encoded data removed]",
      "text/plain": [
       "<Figure size 432x288 with 1 Axes>"
      ]
     },
     "metadata": {},
     "output_type": "display_data"
    }
   ],
   "source": [
    "num_of_bins = 20\n",
    "\n",
    "fig, ax = plt.subplots()\n",
    "ax.hist(df_BMD10_from_AUC1.array, color='blue', edgecolor='black', alpha=0.1)\n",
    "ax.set_title(\"Histogram\")\n",
    "ax.set_xlabel(\"X axis\")\n",
    "\n",
    "ax.set_ylabel(\"BMD10_from_AUC1\")\n",
    "ax.yaxis.set_major_formatter(ticker.PercentFormatter(xmax=len(data)))\n",
    "\n",
    "#ax1 = ax.twinx()\n",
    "#ax1.hist(df_BMD10_from_AUC2.array, bins=num_of_bins, color='orange', edgecolor='black', alpha=0.1)\n",
    "#ax1.set_ylabel(\"BMD10_from_AUC2\")\n",
    "#ax1.yaxis.set_major_formatter(ticker.PercentFormatter(xmax=len(data2)))\n",
    "\n",
    "plt.show()"
   ]
  },
  {
   "cell_type": "code",
   "execution_count": null,
   "metadata": {},
   "outputs": [],
   "source": [
    "dist = pd.DataFrame(\n",
    "...     np.random.normal(loc=means, scale=stdevs, size=(1000, 2)),\n",
    "...     columns=['a', 'b'])\n",
    ">>> dist.agg(['min', 'max', 'mean', 'std']).round(decimals=2)"
   ]
  },
  {
   "cell_type": "code",
   "execution_count": 143,
   "metadata": {},
   "outputs": [
    {
     "data": {
      "image/png": "[encoded data removed]",
      "text/plain": [
       "<Figure size 432x288 with 1 Axes>"
      ]
     },
     "metadata": {},
     "output_type": "display_data"
    }
   ],
   "source": [
    "fig = plt.figure()\n",
    "ax = fig.add_axes([0,0,1,1])\n",
    "langs = ['df_BMD10_from_AUC1']\n",
    "\n",
    "n, bins, patches = plt.hist(df_BMD10_from_AUC1.array)\n",
    "plt.show()\n",
    "\n",
    "# ax.bar(langs,df_BMD10_from_AUC1.array)\n",
    "# plt.show()"
   ]
  },
  {
   "cell_type": "code",
   "execution_count": null,
   "metadata": {},
   "outputs": [],
   "source": []
  }
 ],
 "metadata": {
  "kernelspec": {
   "display_name": "Python 3",
   "language": "python",
   "name": "python3"
  },
  "language_info": {
   "codemirror_mode": {
    "name": "ipython",
    "version": 3
   },
   "file_extension": ".py",
   "mimetype": "text/x-python",
   "name": "python",
   "nbconvert_exporter": "python",
   "pygments_lexer": "ipython3",
   "version": "3.7.8"
  }
 },
 "nbformat": 4,
 "nbformat_minor": 4
}
