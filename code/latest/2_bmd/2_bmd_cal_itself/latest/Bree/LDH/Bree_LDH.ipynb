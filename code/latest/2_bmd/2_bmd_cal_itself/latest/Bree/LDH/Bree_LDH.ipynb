{
 "cells": [
  {
   "cell_type": "code",
   "execution_count": 1,
   "metadata": {},
   "outputs": [],
   "source": [
    "import numpy as np\n",
    "import pandas as pd\n",
    "import os, random, shutil, sys, time\n",
    "from scipy import stats\n",
    "from matplotlib import pyplot as plt\n",
    "import seaborn as sns\n",
    "\n",
    "import warnings\n",
    "warnings.filterwarnings('ignore')\n",
    "\n",
    "import sys\n",
    "\n",
    "#mac\n",
    "util_path = \"/Users/kimd999/research/script_not_in_dropbox/srpAnalytics/code/latest/util\"\n",
    "\n",
    "#constance\n",
    "'''args = sys.argv[0:]\n",
    "py_file = args[0]\n",
    "\n",
    "code_location = os.path.dirname(os.path.abspath(py_file))\n",
    "index_of_latest = code_location.index('latest')\n",
    "util_path = os.path.join(code_location[:index_of_latest], \"latest\", \"util\")\n",
    "'''\n",
    "\n",
    "sys.path.insert(0, util_path)"
   ]
  },
  {
   "cell_type": "code",
   "execution_count": 2,
   "metadata": {},
   "outputs": [
    {
     "name": "stdout",
     "output_type": "stream",
     "text": [
      "/Users/kimd999/research/script_not_in_dropbox/srpAnalytics/code/latest/2_bmd/2_bmd_cal_itself/latest/Bree/LDH\n"
     ]
    }
   ],
   "source": [
    "starting_dir = os.getcwd()\n",
    "print (starting_dir)"
   ]
  },
  {
   "cell_type": "code",
   "execution_count": 3,
   "metadata": {},
   "outputs": [
    {
     "data": {
      "text/html": [
       "<div>\n",
       "<style scoped>\n",
       "    .dataframe tbody tr th:only-of-type {\n",
       "        vertical-align: middle;\n",
       "    }\n",
       "\n",
       "    .dataframe tbody tr th {\n",
       "        vertical-align: top;\n",
       "    }\n",
       "\n",
       "    .dataframe thead th {\n",
       "        text-align: right;\n",
       "    }\n",
       "</style>\n",
       "<table border=\"1\" class=\"dataframe\">\n",
       "  <thead>\n",
       "    <tr style=\"text-align: right;\">\n",
       "      <th></th>\n",
       "      <th>dose</th>\n",
       "      <th>num_affected</th>\n",
       "      <th>total_num</th>\n",
       "    </tr>\n",
       "  </thead>\n",
       "  <tbody>\n",
       "    <tr>\n",
       "      <th>0</th>\n",
       "      <td>0</td>\n",
       "      <td>0.257640</td>\n",
       "      <td>100</td>\n",
       "    </tr>\n",
       "    <tr>\n",
       "      <th>1</th>\n",
       "      <td>10</td>\n",
       "      <td>0.000000</td>\n",
       "      <td>100</td>\n",
       "    </tr>\n",
       "    <tr>\n",
       "      <th>2</th>\n",
       "      <td>25</td>\n",
       "      <td>0.204187</td>\n",
       "      <td>100</td>\n",
       "    </tr>\n",
       "    <tr>\n",
       "      <th>3</th>\n",
       "      <td>50</td>\n",
       "      <td>0.370192</td>\n",
       "      <td>100</td>\n",
       "    </tr>\n",
       "    <tr>\n",
       "      <th>4</th>\n",
       "      <td>75</td>\n",
       "      <td>2.101629</td>\n",
       "      <td>100</td>\n",
       "    </tr>\n",
       "  </tbody>\n",
       "</table>\n",
       "</div>"
      ],
      "text/plain": [
       "   dose  num_affected  total_num\n",
       "0     0      0.257640        100\n",
       "1    10      0.000000        100\n",
       "2    25      0.204187        100\n",
       "3    50      0.370192        100\n",
       "4    75      2.101629        100"
      ]
     },
     "metadata": {},
     "output_type": "display_data"
    }
   ],
   "source": [
    "# new for LDH\n",
    "complete_file_path = '/Users/kimd999/research/projects/toxicity/per_each_data/Bree/LDH/DN_edited/BHT/input/BHT.csv'\n",
    "df_test_dose_response = pd.read_csv(complete_file_path, header = 0)\n",
    "pd.set_option('display.max_columns', None)\n",
    "display(df_test_dose_response.head())"
   ]
  },
  {
   "cell_type": "code",
   "execution_count": 4,
   "metadata": {},
   "outputs": [],
   "source": [
    "import generate_dose_response as gdr\n",
    "import BMD_BMDL_estimation as bmdest\n",
    "import Plot_Save as ps"
   ]
  },
  {
   "cell_type": "code",
   "execution_count": 5,
   "metadata": {},
   "outputs": [
    {
     "name": "stdout",
     "output_type": "stream",
     "text": [
      "BMD calculation is done, it took:2.4 seconds\n"
     ]
    }
   ],
   "source": [
    "# Fit dose response models\n",
    "start_time = time.time()\n",
    "\n",
    "df_test_dose_response = df_test_dose_response.sort_values(by=['dose'])\n",
    "\n",
    "model_predictions = bmdest.analyze_dose_response_data(df_test_dose_response)\n",
    "end_time = time.time()\n",
    "time_took = str(round((end_time-start_time), 1)) + \" seconds\"\n",
    "print (\"BMD calculation is done, it took:\"+str(time_took))"
   ]
  },
  {
   "cell_type": "code",
   "execution_count": 6,
   "metadata": {},
   "outputs": [
    {
     "name": "stdout",
     "output_type": "stream",
     "text": [
      "            Model  Chi-squared         p-val         AIC      BMD10  \\\n",
      "0        logistic    19.535770  1.526811e-03  156.692547  87.116028   \n",
      "1           gamma     2.196970  6.995840e-01  159.057589  84.623453   \n",
      "2         weibull          NaN           NaN         NaN        NaN   \n",
      "3    log_logistic     0.492845  9.741937e-01  156.632893  89.287652   \n",
      "4          probit          NaN           NaN         NaN        NaN   \n",
      "5      log_probit          NaN           NaN         NaN        NaN   \n",
      "6    multistage_2          NaN           NaN         NaN        NaN   \n",
      "7  quantal_linear   149.155333  2.019823e-30  381.383544  26.799965   \n",
      "\n",
      "      BMDL10       BMD50                                   Scaled Residuals  \\\n",
      "0  82.151746  104.544236  [-4.252327979464805, 0.09480594565684891, -0.8...   \n",
      "1  80.791342  116.608167  [-0.25569900920415956, 0.3959728515540838, -0....   \n",
      "2        NaN         NaN                [nan, nan, nan, nan, nan, nan, nan]   \n",
      "3  84.534675  108.955991  [-0.10770466311601248, 0.4571063780666358, 0.0...   \n",
      "4        NaN         NaN                [nan, nan, nan, nan, nan, nan, nan]   \n",
      "5        NaN         NaN                [nan, nan, nan, nan, nan, nan, nan]   \n",
      "6        NaN         NaN                [nan, nan, nan, nan, nan, nan, nan]   \n",
      "7  23.204568  176.311972  [-0.7910618806498161, 2.0183368115912015, 3.15...   \n",
      "\n",
      "                                    Optimized Params Conv Flag BMDL Conv  \n",
      "0         [-10.240319868821427, 0.09233033752561438]         0         0  \n",
      "1  [0.0015654903887980596, 18.0, 0.15151414222710...         0         0  \n",
      "2                                                NaN         1         1  \n",
      "3  [0.002085105655242533, -51.77322714390575, 11....         0         0  \n",
      "4                                                NaN         1         1  \n",
      "5                                                NaN         1         1  \n",
      "6                                                NaN         1         1  \n",
      "7      [0.0006150916399191315, 0.003931367645106876]         0         0  \n"
     ]
    }
   ],
   "source": [
    "print (model_predictions)"
   ]
  },
  {
   "cell_type": "code",
   "execution_count": 7,
   "metadata": {},
   "outputs": [
    {
     "name": "stdout",
     "output_type": "stream",
     "text": [
      "{'model': 3    log_logistic\n",
      "Name: Model, dtype: object, 'no_unique_model_found_flag': 0, 'model_select_flag': 0, 'pval_thresh_flag': 0}\n"
     ]
    }
   ],
   "source": [
    "# Select best model\n",
    "selected_model_params = bmdest.select_model(model_predictions)\n",
    "print (selected_model_params)"
   ]
  },
  {
   "cell_type": "code",
   "execution_count": 8,
   "metadata": {},
   "outputs": [],
   "source": [
    "#bmd_feasibility_flag = gdr.BMD_feasibility_analysis(df_test_dose_response)\n",
    "#print (\"bmd_feasibility_flag:\"+str(bmd_feasibility_flag))"
   ]
  },
  {
   "cell_type": "code",
   "execution_count": 9,
   "metadata": {},
   "outputs": [],
   "source": [
    "chemical_id = \"BHT\"\n",
    "end_point = \"LDH\"\n",
    "bmd_feasibility_flag = 2\n",
    "\n",
    "# Check if unique model is found\n",
    "unique_model_flag = selected_model_params['no_unique_model_found_flag']\n",
    "\n",
    "if(unique_model_flag == 0):\n",
    "    ps.save_results_good_data_unique_model(df_test_dose_response, bmd_feasibility_flag, model_predictions, selected_model_params, str(chemical_id), end_point)\n",
    "else:\n",
    "    bmd_analysis_flag = selected_model_params['model_select_flag']\n",
    "    if(bmd_analysis_flag == 1):\n",
    "        ps.save_results_poor_data_or_no_convergence(df_test_dose_response, bmd_feasibility_flag, str(chemical_id), end_point, selected_model_params)\n",
    "    else:\n",
    "        ps.save_results_good_data_nounique_model(df_test_dose_response, bmd_feasibility_flag, model_predictions, selected_model_params, str(chemical_id), end_point)"
   ]
  },
  {
   "cell_type": "code",
   "execution_count": null,
   "metadata": {},
   "outputs": [],
   "source": []
  }
 ],
 "metadata": {
  "kernelspec": {
   "display_name": "Python 3",
   "language": "python",
   "name": "python3"
  },
  "language_info": {
   "codemirror_mode": {
    "name": "ipython",
    "version": 3
   },
   "file_extension": ".py",
   "mimetype": "text/x-python",
   "name": "python",
   "nbconvert_exporter": "python",
   "pygments_lexer": "ipython3",
   "version": "3.7.8"
  }
 },
 "nbformat": 4,
 "nbformat_minor": 4
}
