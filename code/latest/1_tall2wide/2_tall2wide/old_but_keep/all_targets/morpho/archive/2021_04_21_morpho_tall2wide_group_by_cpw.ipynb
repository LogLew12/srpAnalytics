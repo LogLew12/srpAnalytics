{
 "cells": [
  {
   "cell_type": "code",
   "execution_count": 1,
   "metadata": {},
   "outputs": [],
   "source": [
    "import numpy as np\n",
    "import pandas as pd\n",
    "import matplotlib.pyplot as plt\n",
    "import seaborn as sns\n",
    "import os, random, time\n",
    "\n",
    "import warnings\n",
    "warnings.filterwarnings('ignore')"
   ]
  },
  {
   "cell_type": "code",
   "execution_count": 2,
   "metadata": {},
   "outputs": [
    {
     "name": "stdout",
     "output_type": "stream",
     "text": [
      "starting_dir:/Users/kimd999/research/script_not_in_dropbox/srpAnalytics/analysis/latest/1_reformat/all_targets/morpho/old_archive\n"
     ]
    },
    {
     "data": {
      "text/html": [
       "<div>\n",
       "<style scoped>\n",
       "    .dataframe tbody tr th:only-of-type {\n",
       "        vertical-align: middle;\n",
       "    }\n",
       "\n",
       "    .dataframe tbody tr th {\n",
       "        vertical-align: top;\n",
       "    }\n",
       "\n",
       "    .dataframe thead th {\n",
       "        text-align: right;\n",
       "    }\n",
       "</style>\n",
       "<table border=\"1\" class=\"dataframe\">\n",
       "  <thead>\n",
       "    <tr style=\"text-align: right;\">\n",
       "      <th></th>\n",
       "      <th>chemical.id</th>\n",
       "      <th>bottle.id</th>\n",
       "      <th>conc</th>\n",
       "      <th>plate.id</th>\n",
       "      <th>well</th>\n",
       "      <th>date</th>\n",
       "      <th>endpoint</th>\n",
       "      <th>value</th>\n",
       "    </tr>\n",
       "  </thead>\n",
       "  <tbody>\n",
       "    <tr>\n",
       "      <th>0</th>\n",
       "      <td>53</td>\n",
       "      <td>C96423</td>\n",
       "      <td>0.0</td>\n",
       "      <td>9289</td>\n",
       "      <td>A06</td>\n",
       "      <td>20151105</td>\n",
       "      <td>MO24</td>\n",
       "      <td>1.0</td>\n",
       "    </tr>\n",
       "    <tr>\n",
       "      <th>1</th>\n",
       "      <td>53</td>\n",
       "      <td>C96423</td>\n",
       "      <td>0.0</td>\n",
       "      <td>9289</td>\n",
       "      <td>B06</td>\n",
       "      <td>20151105</td>\n",
       "      <td>MO24</td>\n",
       "      <td>0.0</td>\n",
       "    </tr>\n",
       "    <tr>\n",
       "      <th>2</th>\n",
       "      <td>53</td>\n",
       "      <td>C96423</td>\n",
       "      <td>0.0</td>\n",
       "      <td>9289</td>\n",
       "      <td>C06</td>\n",
       "      <td>20151105</td>\n",
       "      <td>MO24</td>\n",
       "      <td>0.0</td>\n",
       "    </tr>\n",
       "    <tr>\n",
       "      <th>3</th>\n",
       "      <td>53</td>\n",
       "      <td>C96423</td>\n",
       "      <td>0.0</td>\n",
       "      <td>9289</td>\n",
       "      <td>D06</td>\n",
       "      <td>20151105</td>\n",
       "      <td>MO24</td>\n",
       "      <td>0.0</td>\n",
       "    </tr>\n",
       "    <tr>\n",
       "      <th>4</th>\n",
       "      <td>53</td>\n",
       "      <td>C96423</td>\n",
       "      <td>0.0</td>\n",
       "      <td>9289</td>\n",
       "      <td>E06</td>\n",
       "      <td>20151105</td>\n",
       "      <td>MO24</td>\n",
       "      <td>0.0</td>\n",
       "    </tr>\n",
       "  </tbody>\n",
       "</table>\n",
       "</div>"
      ],
      "text/plain": [
       "   chemical.id bottle.id  conc plate.id well      date endpoint  value\n",
       "0           53    C96423   0.0     9289  A06  20151105     MO24    1.0\n",
       "1           53    C96423   0.0     9289  B06  20151105     MO24    0.0\n",
       "2           53    C96423   0.0     9289  C06  20151105     MO24    0.0\n",
       "3           53    C96423   0.0     9289  D06  20151105     MO24    0.0\n",
       "4           53    C96423   0.0     9289  E06  20151105     MO24    0.0"
      ]
     },
     "execution_count": 2,
     "metadata": {},
     "output_type": "execute_result"
    }
   ],
   "source": [
    "starting_dir = os.getcwd()\n",
    "print (\"starting_dir:\" + str(starting_dir))\n",
    "\n",
    "# mac - phase I & II - morpho\n",
    "complete_file_path = '/Users/kimd999/research/projects/toxicity/per_each_data/Phase_I_II/input/morpho/tall/zf_morphology_data_335_chemicals_2020DEC16.csv'\n",
    "\n",
    "# mac - phase III - morpho - 23 endpoints - full\n",
    "#complete_file_path = '/Users/kimd999/research/projects/toxicity/per_each_data/phase_III/input/morpho/full/tall/Tanguay_Phase_3_zf_morphology_data_PNNL_2021MAR23_full_w_23_endpoints.csv'\n",
    "\n",
    "# mac - phase III - morpho - 23 endpoints - devel\n",
    "#complete_file_path = '/Users/kimd999/research/projects/toxicity/per_each_data/phase_III/input/morpho/devel/tall/Tanguay_Phase_3_zf_morphology_data_PNNL_2021MAR23_devel_w_23_endpoints.csv'\n",
    "\n",
    "# mac - phase III - morpho - 14 endpoints - full\n",
    "#complete_file_path = '/Users/kimd999/research/projects/toxicity/per_each_data/phase_III/input/morpho/full/Tanguay_Phase_3_zf_morphology_data_PNNL_2021MAR23_full_w_14_endpoints.csv'\n",
    "\n",
    "# mac - phase III - morpho - 14 endpoints - devel\n",
    "#complete_file_path = '/Users/kimd999/research/projects/toxicity/per_each_data/phase_III/input/morpho/devel/Tanguay_Phase_3_zf_morphology_data_PNNL_2021MAR23_devel_w_14_endpoints.csv'\n",
    "\n",
    "morph_data = pd.read_csv(complete_file_path, header = 0)\n",
    "pd.set_option('display.max_columns', None)\n",
    "\n",
    "morph_data.head()"
   ]
  },
  {
   "cell_type": "code",
   "execution_count": 70,
   "metadata": {},
   "outputs": [],
   "source": [
    "# just TX part\n",
    "#TX_bottle_id_morph_data = morph_data[morph_data['bottle.id'].str.contains(\"^TX\")]\n",
    "#TX_bottle_id_morph_data = morph_data[morph_data['bottle.id'].str.contains(\"TX$\")]\n",
    "#TX_bottle_id_morph_data.head()"
   ]
  },
  {
   "cell_type": "code",
   "execution_count": 71,
   "metadata": {},
   "outputs": [],
   "source": [
    "# basic analysis\n",
    "#new_morph_data = morph_data.loc[morph_data['chemical.id'] == 197,['chemical.id', 'conc', 'plate.id', 'well', 'endpoint', 'value']]\n",
    "#new_morph_data.head()\n",
    "#morph_data_w_end = new_morph_data.loc[new_morph_data['endpoint'] == 'MO24',['chemical.id', 'conc', 'plate.id', 'well', 'endpoint', 'value']]\n",
    "#morph_data_w_end.head()\n",
    "#np.sum(morph_data['value'] == 1)\n",
    "#np.sum(morph_data['value'] == 0) # -> 82%\n",
    "#np.sum(np.isnan(morph_data['value']))\n",
    "#morph_data.shape"
   ]
  },
  {
   "cell_type": "code",
   "execution_count": 3,
   "metadata": {},
   "outputs": [
    {
     "data": {
      "text/html": [
       "<div>\n",
       "<style scoped>\n",
       "    .dataframe tbody tr th:only-of-type {\n",
       "        vertical-align: middle;\n",
       "    }\n",
       "\n",
       "    .dataframe tbody tr th {\n",
       "        vertical-align: top;\n",
       "    }\n",
       "\n",
       "    .dataframe thead th {\n",
       "        text-align: right;\n",
       "    }\n",
       "</style>\n",
       "<table border=\"1\" class=\"dataframe\">\n",
       "  <thead>\n",
       "    <tr style=\"text-align: right;\">\n",
       "      <th></th>\n",
       "      <th>chemical.id</th>\n",
       "      <th>conc</th>\n",
       "      <th>bottle.id</th>\n",
       "      <th>plate.id</th>\n",
       "      <th>well</th>\n",
       "      <th>endpoint</th>\n",
       "      <th>value</th>\n",
       "    </tr>\n",
       "  </thead>\n",
       "  <tbody>\n",
       "    <tr>\n",
       "      <th>0</th>\n",
       "      <td>53</td>\n",
       "      <td>0.0</td>\n",
       "      <td>C96423</td>\n",
       "      <td>9289</td>\n",
       "      <td>A06</td>\n",
       "      <td>MO24</td>\n",
       "      <td>1.0</td>\n",
       "    </tr>\n",
       "    <tr>\n",
       "      <th>1</th>\n",
       "      <td>53</td>\n",
       "      <td>0.0</td>\n",
       "      <td>C96423</td>\n",
       "      <td>9289</td>\n",
       "      <td>B06</td>\n",
       "      <td>MO24</td>\n",
       "      <td>0.0</td>\n",
       "    </tr>\n",
       "    <tr>\n",
       "      <th>2</th>\n",
       "      <td>53</td>\n",
       "      <td>0.0</td>\n",
       "      <td>C96423</td>\n",
       "      <td>9289</td>\n",
       "      <td>C06</td>\n",
       "      <td>MO24</td>\n",
       "      <td>0.0</td>\n",
       "    </tr>\n",
       "    <tr>\n",
       "      <th>3</th>\n",
       "      <td>53</td>\n",
       "      <td>0.0</td>\n",
       "      <td>C96423</td>\n",
       "      <td>9289</td>\n",
       "      <td>D06</td>\n",
       "      <td>MO24</td>\n",
       "      <td>0.0</td>\n",
       "    </tr>\n",
       "    <tr>\n",
       "      <th>4</th>\n",
       "      <td>53</td>\n",
       "      <td>0.0</td>\n",
       "      <td>C96423</td>\n",
       "      <td>9289</td>\n",
       "      <td>E06</td>\n",
       "      <td>MO24</td>\n",
       "      <td>0.0</td>\n",
       "    </tr>\n",
       "  </tbody>\n",
       "</table>\n",
       "</div>"
      ],
      "text/plain": [
       "   chemical.id  conc bottle.id plate.id well endpoint  value\n",
       "0           53   0.0    C96423     9289  A06     MO24    1.0\n",
       "1           53   0.0    C96423     9289  B06     MO24    0.0\n",
       "2           53   0.0    C96423     9289  C06     MO24    0.0\n",
       "3           53   0.0    C96423     9289  D06     MO24    0.0\n",
       "4           53   0.0    C96423     9289  E06     MO24    0.0"
      ]
     },
     "execution_count": 3,
     "metadata": {},
     "output_type": "execute_result"
    }
   ],
   "source": [
    "# Keep only relevant columns\n",
    "columns_to_keep = ['chemical.id', 'conc', 'bottle.id', 'plate.id', 'well', 'endpoint', 'value'] \n",
    "# 'bottle.id' is added since Lisa wants to use it to join with behavioral data\n",
    "\n",
    "morph_data_select = morph_data.loc[:,columns_to_keep]\n",
    "morph_data_select.head()"
   ]
  },
  {
   "cell_type": "code",
   "execution_count": 4,
   "metadata": {},
   "outputs": [
    {
     "name": "stdout",
     "output_type": "stream",
     "text": [
      "<before dropping duplicates> len(morph_data_select):1600800\n",
      "<after dropping duplicates>  len(morph_data_select):1600800\n"
     ]
    }
   ],
   "source": [
    "print (\"<before dropping duplicates> len(morph_data_select):\" + str(len(morph_data_select)))\n",
    "morph_data_select = morph_data_select.drop_duplicates()\n",
    "print (\"<after dropping duplicates>  len(morph_data_select):\" + str(len(morph_data_select)))"
   ]
  },
  {
   "cell_type": "code",
   "execution_count": 5,
   "metadata": {},
   "outputs": [
    {
     "name": "stdout",
     "output_type": "stream",
     "text": [
      "['AXIS' 'BRAI' 'CFIN' 'CIRC' 'DNC_' 'DP24' 'EYE_' 'JAW_' 'MO24' 'MORT'\n",
      " 'NC24' 'NC__' 'OTIC' 'PE__' 'PFIN' 'PIG_' 'SM24' 'SNOU' 'SOMI' 'SWIM'\n",
      " 'TRUN' 'TR__' 'YSE_']\n",
      "23\n"
     ]
    }
   ],
   "source": [
    "#skip\n",
    "#'''\n",
    "unique_endpoints = np.unique(morph_data_select['endpoint'])\n",
    "print(unique_endpoints)\n",
    "print(len(unique_endpoints))\n",
    "#'''"
   ]
  },
  {
   "cell_type": "code",
   "execution_count": 8,
   "metadata": {},
   "outputs": [],
   "source": [
    "morph_220 = morph_data_select.loc[morph_data['chemical.id'] == 220,:]\n",
    "morph_220.to_csv('220.csv', index=False)\n"
   ]
  },
  {
   "cell_type": "code",
   "execution_count": 7,
   "metadata": {},
   "outputs": [
    {
     "name": "stdout",
     "output_type": "stream",
     "text": [
      "\n",
      "chemical_index:53\n"
     ]
    },
    {
     "data": {
      "text/plain": [
       "4416"
      ]
     },
     "metadata": {},
     "output_type": "display_data"
    },
    {
     "data": {
      "text/html": [
       "<div>\n",
       "<style scoped>\n",
       "    .dataframe tbody tr th:only-of-type {\n",
       "        vertical-align: middle;\n",
       "    }\n",
       "\n",
       "    .dataframe tbody tr th {\n",
       "        vertical-align: top;\n",
       "    }\n",
       "\n",
       "    .dataframe thead th {\n",
       "        text-align: right;\n",
       "    }\n",
       "</style>\n",
       "<table border=\"1\" class=\"dataframe\">\n",
       "  <thead>\n",
       "    <tr style=\"text-align: right;\">\n",
       "      <th></th>\n",
       "      <th>chemical.id</th>\n",
       "      <th>conc</th>\n",
       "      <th>bottle.id</th>\n",
       "      <th>plate.id</th>\n",
       "      <th>well</th>\n",
       "      <th>endpoint</th>\n",
       "      <th>value</th>\n",
       "    </tr>\n",
       "  </thead>\n",
       "  <tbody>\n",
       "    <tr>\n",
       "      <th>0</th>\n",
       "      <td>53</td>\n",
       "      <td>0.0</td>\n",
       "      <td>C96423</td>\n",
       "      <td>9289</td>\n",
       "      <td>A06</td>\n",
       "      <td>MO24</td>\n",
       "      <td>1.0</td>\n",
       "    </tr>\n",
       "    <tr>\n",
       "      <th>1</th>\n",
       "      <td>53</td>\n",
       "      <td>0.0</td>\n",
       "      <td>C96423</td>\n",
       "      <td>9289</td>\n",
       "      <td>B06</td>\n",
       "      <td>MO24</td>\n",
       "      <td>0.0</td>\n",
       "    </tr>\n",
       "    <tr>\n",
       "      <th>2</th>\n",
       "      <td>53</td>\n",
       "      <td>0.0</td>\n",
       "      <td>C96423</td>\n",
       "      <td>9289</td>\n",
       "      <td>C06</td>\n",
       "      <td>MO24</td>\n",
       "      <td>0.0</td>\n",
       "    </tr>\n",
       "    <tr>\n",
       "      <th>3</th>\n",
       "      <td>53</td>\n",
       "      <td>0.0</td>\n",
       "      <td>C96423</td>\n",
       "      <td>9289</td>\n",
       "      <td>D06</td>\n",
       "      <td>MO24</td>\n",
       "      <td>0.0</td>\n",
       "    </tr>\n",
       "    <tr>\n",
       "      <th>4</th>\n",
       "      <td>53</td>\n",
       "      <td>0.0</td>\n",
       "      <td>C96423</td>\n",
       "      <td>9289</td>\n",
       "      <td>E06</td>\n",
       "      <td>MO24</td>\n",
       "      <td>0.0</td>\n",
       "    </tr>\n",
       "  </tbody>\n",
       "</table>\n",
       "</div>"
      ],
      "text/plain": [
       "   chemical.id  conc bottle.id plate.id well endpoint  value\n",
       "0           53   0.0    C96423     9289  A06     MO24    1.0\n",
       "1           53   0.0    C96423     9289  B06     MO24    0.0\n",
       "2           53   0.0    C96423     9289  C06     MO24    0.0\n",
       "3           53   0.0    C96423     9289  D06     MO24    0.0\n",
       "4           53   0.0    C96423     9289  E06     MO24    0.0"
      ]
     },
     "metadata": {},
     "output_type": "display_data"
    },
    {
     "name": "stdout",
     "output_type": "stream",
     "text": [
      "tall-> wide done, it took:1.9 seconds\n"
     ]
    }
   ],
   "source": [
    "# tall -> wide\n",
    "start_time = time.time()\n",
    "\n",
    "reformatted = pd.DataFrame()\n",
    "\n",
    "full_devel = \"full\"\n",
    "#full_devel = \"devel\"\n",
    "\n",
    "chemical_id_from_here = np.unique(morph_data_select['chemical.id'])\n",
    "\n",
    "if (full_devel == \"devel\"):\n",
    "    randomly_chosen = random.sample(set(chemical_id_from_here), 1)\n",
    "    chemical_id_from_here = []\n",
    "    for i in range(len(randomly_chosen)):\n",
    "        chemical_id_from_here.append(randomly_chosen[i])\n",
    "        \n",
    "for chemical_index in chemical_id_from_here:\n",
    "    #if (chemical_index != 220):\n",
    "    if (chemical_index != 53):\n",
    "        continue\n",
    "    print(\"\\nchemical_index:\" + str(chemical_index))        \n",
    "    \n",
    "    morph_data_chemical = morph_data_select.loc[morph_data['chemical.id'] == chemical_index,:]\n",
    "    display(len(morph_data_chemical))\n",
    "    display(morph_data_chemical.head())\n",
    "    \n",
    "    # Append chemical_plate_well as a unique identifier\n",
    "    morph_data_chemical.insert(0, 'chemical_plate_well', morph_data_chemical.loc[:,['chemical.id','plate.id', 'well']].apply(lambda x: '_'.join(x.map(str)), axis = 1))\n",
    "    \n",
    "    #print (\"len(morph_data_chemical.chemical_plate_well):\" + str(len(morph_data_chemical.chemical_plate_well)))    \n",
    "    for cpw in np.unique(morph_data_chemical.chemical_plate_well):\n",
    "\n",
    "        temp_df = morph_data_chemical.loc[morph_data_chemical.chemical_plate_well == cpw,:]\n",
    "        #display(len(temp_df))\n",
    "        #display(temp_df)\n",
    "        \n",
    "        temp_df_grouped = temp_df.groupby(['chemical.id', 'plate.id', 'well'])\n",
    "\n",
    "        for name, group in temp_df_grouped:\n",
    "            #print (\"\\nlen(group.endpoint):\" + str(len(group.endpoint)))\n",
    "            #print (group.endpoint)\n",
    "            #print (group)\n",
    "            #write_this = str(chemical_index) + \",\" + str(len(group.endpoint)) + \"\\n\"\n",
    "            #endpoint_count.write(write_this)\n",
    "            #if(len(group.endpoint) == 23):\n",
    "            #    continue\n",
    "            #else:\n",
    "            #    print (\"len(group.endpoint):\" + str(len(group.endpoint)))\n",
    "            \n",
    "            #'''\n",
    "            if(len(group.endpoint) == 14):\n",
    "                temp = pd.DataFrame(\n",
    "                    {\n",
    "                        'chemical.id': np.unique(temp_df['chemical.id']),\n",
    "                        'plate.id': np.unique(temp_df['plate.id']),\n",
    "                        'well': np.unique(temp_df['well']),\n",
    "                        'chemical_plate_well': np.unique(temp_df['chemical_plate_well']),\n",
    "                        'conc': np.unique(temp_df['conc']),\n",
    "                        'AXIS': temp_df.value[temp_df.endpoint == 'AXIS'].values,\n",
    "                        'BRN_': temp_df.value[temp_df.endpoint == 'BRN_'].values,\n",
    "                        'CRAN': temp_df.value[temp_df.endpoint == 'CRAN'].values,\n",
    "                        'DNC_': temp_df.value[temp_df.endpoint == 'DNC_'].values,\n",
    "                        'DP24': temp_df.value[temp_df.endpoint == 'DP24'].values,\n",
    "                        'EDEM': temp_df.value[temp_df.endpoint == 'EDEM'].values,\n",
    "                        'LTRK': temp_df.value[temp_df.endpoint == 'LTRK'].values,\n",
    "                        'MO24': temp_df.value[temp_df.endpoint == 'MO24'].values,\n",
    "                        'MORT': temp_df.value[temp_df.endpoint == 'MORT'].values,\n",
    "                        'MUSC': temp_df.value[temp_df.endpoint == 'MUSC'].values,\n",
    "                        'NC__': temp_df.value[temp_df.endpoint == 'NC__'].values,\n",
    "                        'SKIN': temp_df.value[temp_df.endpoint == 'SKIN'].values,\n",
    "                        'SM24': temp_df.value[temp_df.endpoint == 'SM24'].values,\n",
    "                        'TCHR': temp_df.value[temp_df.endpoint == 'TCHR'].values,\n",
    "                    })\n",
    "                reformatted = pd.concat([reformatted, temp])\n",
    "            elif(len(group.endpoint) == 23):\n",
    "                temp = pd.DataFrame(\n",
    "                    {\n",
    "                        'chemical.id': np.unique(temp_df['chemical.id']),\n",
    "                        'plate.id': np.unique(temp_df['plate.id']),\n",
    "                        'well': np.unique(temp_df['well']),\n",
    "                        'chemical_plate_well': np.unique(temp_df['chemical_plate_well']),\n",
    "                        'conc': np.unique(temp_df['conc']),\n",
    "                        'AXIS': temp_df.value[temp_df.endpoint == 'AXIS'].values,\n",
    "                        'BRAI': temp_df.value[temp_df.endpoint == 'BRAI'].values,\n",
    "                        'CFIN': temp_df.value[temp_df.endpoint == 'CFIN'].values,\n",
    "                        'CIRC': temp_df.value[temp_df.endpoint == 'CIRC'].values,\n",
    "                        'DNC_': temp_df.value[temp_df.endpoint == 'DNC_'].values,\n",
    "                        'DP24': temp_df.value[temp_df.endpoint == 'DP24'].values,\n",
    "                        'EYE_': temp_df.value[temp_df.endpoint == 'EYE_'].values,\n",
    "                        'JAW_': temp_df.value[temp_df.endpoint == 'JAW_'].values,\n",
    "                        'MO24': temp_df.value[temp_df.endpoint == 'MO24'].values,\n",
    "                        'MORT': temp_df.value[temp_df.endpoint == 'MORT'].values,\n",
    "                        'NC24': temp_df.value[temp_df.endpoint == 'NC24'].values,\n",
    "                        'NC__': temp_df.value[temp_df.endpoint == 'NC__'].values,\n",
    "                        'OTIC': temp_df.value[temp_df.endpoint == 'OTIC'].values,\n",
    "                        'PE__': temp_df.value[temp_df.endpoint == 'PE__'].values,\n",
    "                        'PFIN': temp_df.value[temp_df.endpoint == 'PFIN'].values,\n",
    "                        'PIG_': temp_df.value[temp_df.endpoint == 'PIG_'].values,\n",
    "                        'SM24': temp_df.value[temp_df.endpoint == 'SM24'].values,\n",
    "                        'SNOU': temp_df.value[temp_df.endpoint == 'SNOU'].values,\n",
    "                        'SOMI': temp_df.value[temp_df.endpoint == 'SOMI'].values,\n",
    "                        'SWIM': temp_df.value[temp_df.endpoint == 'SWIM'].values,\n",
    "                        'TRUN': temp_df.value[temp_df.endpoint == 'TRUN'].values,\n",
    "                        'TR__': temp_df.value[temp_df.endpoint == 'TR__'].values,\n",
    "                        'YSE_': temp_df.value[temp_df.endpoint == 'YSE_'].values,\n",
    "                    })\n",
    "                reformatted = pd.concat([reformatted, temp])\n",
    "            elif(len(group.endpoint) == 30):\n",
    "                temp = pd.DataFrame(\n",
    "                    {\n",
    "                        'chemical.id': np.unique(temp_df['chemical.id']),\n",
    "                        'plate.id': np.unique(temp_df['plate.id']),\n",
    "                        'well': np.unique(temp_df['well']),\n",
    "                        'chemical_plate_well': np.unique(temp_df['chemical_plate_well']),\n",
    "                        'conc': np.unique(temp_df['conc']),\n",
    "                        'AXIS': temp_df.value[temp_df.endpoint == 'AXIS'].values,\n",
    "                        'BRAI': temp_df.value[temp_df.endpoint == 'BRAI'].values,\n",
    "                        'BRN_': temp_df.value[temp_df.endpoint == 'BRN_'].values,\n",
    "                        'CFIN': temp_df.value[temp_df.endpoint == 'CFIN'].values,\n",
    "                        'CIRC': temp_df.value[temp_df.endpoint == 'CIRC'].values,\n",
    "                        'CRAN': temp_df.value[temp_df.endpoint == 'CRAN'].values,\n",
    "                        'DNC_': temp_df.value[temp_df.endpoint == 'DNC_'].values,\n",
    "                        'DP24': temp_df.value[temp_df.endpoint == 'DP24'].values,\n",
    "                        'EDEM': temp_df.value[temp_df.endpoint == 'EDEM'].values,\n",
    "                        'EYE_': temp_df.value[temp_df.endpoint == 'EYE_'].values,\n",
    "                        'JAW_': temp_df.value[temp_df.endpoint == 'JAW_'].values,\n",
    "                        'LTRK': temp_df.value[temp_df.endpoint == 'LTRK'].values,\n",
    "                        'MO24': temp_df.value[temp_df.endpoint == 'MO24'].values,\n",
    "                        'MORT': temp_df.value[temp_df.endpoint == 'MORT'].values,\n",
    "                        'MUSC': temp_df.value[temp_df.endpoint == 'MUSC'].values,\n",
    "                        'NC24': temp_df.value[temp_df.endpoint == 'NC24'].values,\n",
    "                        'NC__': temp_df.value[temp_df.endpoint == 'NC__'].values,\n",
    "                        'OTIC': temp_df.value[temp_df.endpoint == 'OTIC'].values,\n",
    "                        'PE__': temp_df.value[temp_df.endpoint == 'PE__'].values,\n",
    "                        'PFIN': temp_df.value[temp_df.endpoint == 'PFIN'].values,\n",
    "                        'PIG_': temp_df.value[temp_df.endpoint == 'PIG_'].values,\n",
    "                        'SM24': temp_df.value[temp_df.endpoint == 'SM24'].values,\n",
    "                        'SNOU': temp_df.value[temp_df.endpoint == 'SNOU'].values,\n",
    "                        'SOMI': temp_df.value[temp_df.endpoint == 'SOMI'].values,\n",
    "                        'SWIM': temp_df.value[temp_df.endpoint == 'SWIM'].values,\n",
    "                        'TCHR': temp_df.value[temp_df.endpoint == 'TCHR'].values,\n",
    "                        'TRUN': temp_df.value[temp_df.endpoint == 'TRUN'].values,\n",
    "                        'TR__': temp_df.value[temp_df.endpoint == 'TR__'].values,\n",
    "                        'YSE_': temp_df.value[temp_df.endpoint == 'YSE_'].values,\n",
    "                    })\n",
    "                reformatted = pd.concat([reformatted, temp])\n",
    "            else:\n",
    "                print (\"len(group.endpoint):\" + str(len(group.endpoint)))\n",
    "               # a=b\n",
    "            #    '''                \n",
    "#endpoint_count.close()\n",
    "                  \n",
    "    \n",
    "################## possible manual update of entries\n",
    "find_this = reformatted.loc[(reformatted['chemical.id'] == 746) \\\n",
    "                & (reformatted['plate.id'] == 12953) \\\n",
    "                & (reformatted['well'] == \"E03\"), 'MORT'] \n",
    "if (len(find_this) != 0):\n",
    "    print (\"for phase I, II, automatically fix small manual mistakes\")\n",
    "    reformatted.loc[(reformatted['chemical.id'] == 746) \\\n",
    "                & (reformatted['plate.id'] == 12953) \\\n",
    "                & (reformatted['well'] == \"E03\"), 'MORT'] = 0\n",
    "\n",
    "    \n",
    "find_this = reformatted.loc[(reformatted['chemical.id'] == 1171) \\\n",
    "                    & (reformatted['plate.id'] == 15205) \\\n",
    "                    & (reformatted['well'] == \"D02\"), 'MORT']\n",
    "if (len(find_this) != 0):\n",
    "    print (\"for phase I, II, automatically fix small manual mistakes\")\n",
    "    reformatted.loc[(reformatted['chemical.id'] == 1171) \\\n",
    "                    & (reformatted['plate.id'] == 15205) \\\n",
    "                    & (reformatted['well'] == \"D02\"), 'MORT'] = 0\n",
    "\n",
    "       \n",
    "end_time = time.time()\n",
    "time_took = str(round((end_time-start_time), 1)) + \" seconds\"\n",
    "print (\"tall-> wide done, it took:\"+str(time_took)) # took 13 minutes for 344 chemicals"
   ]
  },
  {
   "cell_type": "code",
   "execution_count": 77,
   "metadata": {},
   "outputs": [
    {
     "data": {
      "text/plain": [
       "'endpoint_investigate_data = pd.read_csv(endpoint_report_filename, header = 0)\\n\\nprint (\"<before dropping duplicates> len(endpoint_investigate_data):\" + str(len(endpoint_investigate_data)))\\nunique_endpoint_investigate_data = endpoint_investigate_data.drop_duplicates()\\nprint (\"<after dropping duplicates>  len(unique_endpoint_investigate_data):\" + str(len(unique_endpoint_investigate_data)))\\n\\n#display(unique_endpoint_investigate_data)\\n\\n#unique_endpoint_investigate_data.to_csv(\\'unique_endpoint_investigate_data.csv\\', index=False)\\n'"
      ]
     },
     "execution_count": 77,
     "metadata": {},
     "output_type": "execute_result"
    }
   ],
   "source": [
    "'''endpoint_investigate_data = pd.read_csv(endpoint_report_filename, header = 0)\n",
    "\n",
    "print (\"<before dropping duplicates> len(endpoint_investigate_data):\" + str(len(endpoint_investigate_data)))\n",
    "unique_endpoint_investigate_data = endpoint_investigate_data.drop_duplicates()\n",
    "print (\"<after dropping duplicates>  len(unique_endpoint_investigate_data):\" + str(len(unique_endpoint_investigate_data)))\n",
    "\n",
    "#display(unique_endpoint_investigate_data)\n",
    "\n",
    "#unique_endpoint_investigate_data.to_csv('unique_endpoint_investigate_data.csv', index=False)\n",
    "'''"
   ]
  },
  {
   "cell_type": "code",
   "execution_count": 78,
   "metadata": {},
   "outputs": [],
   "source": [
    "#print (reformatted.head())\n",
    "#print (\"reformatted.shape:\" + str(reformatted.shape))"
   ]
  },
  {
   "cell_type": "code",
   "execution_count": 8,
   "metadata": {},
   "outputs": [
    {
     "name": "stdout",
     "output_type": "stream",
     "text": [
      "reformatted_DNC_0.shape:(192, 28)\n"
     ]
    }
   ],
   "source": [
    "reformatted_DNC_0 = pd.DataFrame()\n",
    "reformatted_DNC_0 = reformatted.loc[reformatted['DNC_'] == 0.0]\n",
    "print (\"reformatted_DNC_0.shape:\" + str(reformatted_DNC_0.shape))"
   ]
  },
  {
   "cell_type": "code",
   "execution_count": 85,
   "metadata": {},
   "outputs": [
    {
     "name": "stdout",
     "output_type": "stream",
     "text": [
      "reformatted_DNC_empty.shape:(0, 28)\n"
     ]
    }
   ],
   "source": [
    "reformatted_DNC_empty = pd.DataFrame()\n",
    "reformatted_DNC_empty = reformatted.loc[reformatted['DNC_'] == '']\n",
    "print (\"reformatted_DNC_empty.shape:\" + str(reformatted_DNC_empty.shape))"
   ]
  },
  {
   "cell_type": "code",
   "execution_count": 81,
   "metadata": {},
   "outputs": [
    {
     "name": "stdout",
     "output_type": "stream",
     "text": [
      "nan_count:123408\n",
      "zero_count:730792\n",
      "one_count:22376\n",
      "total_count:876576\n"
     ]
    }
   ],
   "source": [
    "#'''\n",
    "nan_count = 0\n",
    "zero_count = 0\n",
    "one_count = 0\n",
    "total_count = 0\n",
    "for (columnName, columnData) in reformatted.iteritems(): \n",
    "    if (columnName == \"chemical.id\") or (columnName == \"plate.id\") or (columnName == \"well\") or (columnName == \"chemical_plate_well\") or (columnName == \"conc\"):\n",
    "        continue\n",
    "#    print('Colunm Name : ', columnName) \n",
    "#    print('Column Contents : ', columnData.values[i])\n",
    "#    print (len(columnData.values))\n",
    "    for i in range(len(columnData.values)):\n",
    "        total_count += 1\n",
    "        if (str(columnData.values[i]) == \"nan\"):\n",
    "            nan_count += 1\n",
    "        elif (str(columnData.values[i]) == \"0.0\"):\n",
    "            zero_count += 1\n",
    "        elif (str(columnData.values[i]) == \"1.0\"):\n",
    "            one_count += 1\n",
    "#        print('Column Contents : ', columnData.values[i])\n",
    "print (\"nan_count:\" + str(nan_count))\n",
    "print (\"zero_count:\" + str(zero_count))\n",
    "print (\"one_count:\" + str(one_count))\n",
    "print (\"total_count:\" + str(total_count))\n",
    "#'''"
   ]
  },
  {
   "cell_type": "code",
   "execution_count": 82,
   "metadata": {},
   "outputs": [],
   "source": [
    "#pd.set_option('display.max_columns', None)"
   ]
  },
  {
   "cell_type": "code",
   "execution_count": 9,
   "metadata": {},
   "outputs": [
    {
     "data": {
      "text/plain": [
       "'output_complete_file_path:'"
      ]
     },
     "metadata": {},
     "output_type": "display_data"
    },
    {
     "data": {
      "text/plain": [
       "'/Users/kimd999/research/projects/toxicity/per_each_data/Phase_I_II/input/morpho/tall/zf_morphology_data_335_chemicals_2020DEC16_wide_DNC_0_full.csv'"
      ]
     },
     "metadata": {},
     "output_type": "display_data"
    }
   ],
   "source": [
    "#reformatted.to_csv('344_zf_morphology_data_phase_1_and_2_-_2020JUNE25_wide_DNC_all.csv',index=False)\n",
    "\n",
    "output_complete_file_path = complete_file_path[:-4] + \"_wide_DNC_0_\" \\\n",
    "                            + str(full_devel) + \".csv\"\n",
    "display ('output_complete_file_path:', str(output_complete_file_path))\n",
    "\n",
    "reformatted_DNC_0.to_csv(output_complete_file_path,index=False)\n",
    "\n",
    "#reformatted_DNC_empty.to_csv('344_zf_morphology_data_phase_1_and_2_-_2020JUNE25_wide_DNC_empty.csv',index=False)"
   ]
  },
  {
   "cell_type": "code",
   "execution_count": null,
   "metadata": {},
   "outputs": [],
   "source": []
  }
 ],
 "metadata": {
  "kernelspec": {
   "display_name": "Python 3",
   "language": "python",
   "name": "python3"
  },
  "language_info": {
   "codemirror_mode": {
    "name": "ipython",
    "version": 3
   },
   "file_extension": ".py",
   "mimetype": "text/x-python",
   "name": "python",
   "nbconvert_exporter": "python",
   "pygments_lexer": "ipython3",
   "version": "3.7.8"
  }
 },
 "nbformat": 4,
 "nbformat_minor": 4
}
