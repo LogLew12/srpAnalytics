{
 "cells": [
  {
   "cell_type": "code",
   "execution_count": 1,
   "metadata": {},
   "outputs": [],
   "source": [
    "import numpy as np\n",
    "import pandas as pd\n",
    "import matplotlib.pyplot as plt\n",
    "import seaborn as sns\n",
    "import os, random, time\n",
    "\n",
    "import warnings\n",
    "warnings.filterwarnings('ignore')"
   ]
  },
  {
   "cell_type": "code",
   "execution_count": 2,
   "metadata": {},
   "outputs": [
    {
     "name": "stdout",
     "output_type": "stream",
     "text": [
      "starting_dir:/Users/kimd999/research/script_not_in_dropbox/srpAnalytics/analysis/latest/1_reformat/all_targets/morpho\n"
     ]
    },
    {
     "data": {
      "text/html": [
       "<div>\n",
       "<style scoped>\n",
       "    .dataframe tbody tr th:only-of-type {\n",
       "        vertical-align: middle;\n",
       "    }\n",
       "\n",
       "    .dataframe tbody tr th {\n",
       "        vertical-align: top;\n",
       "    }\n",
       "\n",
       "    .dataframe thead th {\n",
       "        text-align: right;\n",
       "    }\n",
       "</style>\n",
       "<table border=\"1\" class=\"dataframe\">\n",
       "  <thead>\n",
       "    <tr style=\"text-align: right;\">\n",
       "      <th></th>\n",
       "      <th>chemical.id</th>\n",
       "      <th>bottle.id</th>\n",
       "      <th>conc</th>\n",
       "      <th>plate.id</th>\n",
       "      <th>well</th>\n",
       "      <th>date</th>\n",
       "      <th>endpoint</th>\n",
       "      <th>value</th>\n",
       "    </tr>\n",
       "  </thead>\n",
       "  <tbody>\n",
       "    <tr>\n",
       "      <th>0</th>\n",
       "      <td>1030</td>\n",
       "      <td>C48962</td>\n",
       "      <td>0.0</td>\n",
       "      <td>9414</td>\n",
       "      <td>A06</td>\n",
       "      <td>20151028</td>\n",
       "      <td>MO24</td>\n",
       "      <td>0.0</td>\n",
       "    </tr>\n",
       "    <tr>\n",
       "      <th>1</th>\n",
       "      <td>1030</td>\n",
       "      <td>C48962</td>\n",
       "      <td>0.0</td>\n",
       "      <td>9414</td>\n",
       "      <td>B06</td>\n",
       "      <td>20151028</td>\n",
       "      <td>MO24</td>\n",
       "      <td>0.0</td>\n",
       "    </tr>\n",
       "    <tr>\n",
       "      <th>2</th>\n",
       "      <td>1030</td>\n",
       "      <td>C48962</td>\n",
       "      <td>0.0</td>\n",
       "      <td>9414</td>\n",
       "      <td>C06</td>\n",
       "      <td>20151028</td>\n",
       "      <td>MO24</td>\n",
       "      <td>0.0</td>\n",
       "    </tr>\n",
       "    <tr>\n",
       "      <th>3</th>\n",
       "      <td>1030</td>\n",
       "      <td>C48962</td>\n",
       "      <td>0.0</td>\n",
       "      <td>9414</td>\n",
       "      <td>D06</td>\n",
       "      <td>20151028</td>\n",
       "      <td>MO24</td>\n",
       "      <td>0.0</td>\n",
       "    </tr>\n",
       "    <tr>\n",
       "      <th>4</th>\n",
       "      <td>1030</td>\n",
       "      <td>C48962</td>\n",
       "      <td>0.0</td>\n",
       "      <td>9414</td>\n",
       "      <td>E06</td>\n",
       "      <td>20151028</td>\n",
       "      <td>MO24</td>\n",
       "      <td>0.0</td>\n",
       "    </tr>\n",
       "  </tbody>\n",
       "</table>\n",
       "</div>"
      ],
      "text/plain": [
       "   chemical.id bottle.id  conc plate.id well      date endpoint  value\n",
       "0         1030    C48962   0.0     9414  A06  20151028     MO24    0.0\n",
       "1         1030    C48962   0.0     9414  B06  20151028     MO24    0.0\n",
       "2         1030    C48962   0.0     9414  C06  20151028     MO24    0.0\n",
       "3         1030    C48962   0.0     9414  D06  20151028     MO24    0.0\n",
       "4         1030    C48962   0.0     9414  E06  20151028     MO24    0.0"
      ]
     },
     "execution_count": 2,
     "metadata": {},
     "output_type": "execute_result"
    }
   ],
   "source": [
    "starting_dir = os.getcwd()\n",
    "print (\"starting_dir:\" + str(starting_dir))\n",
    "\n",
    "# mac - phase I & II - morpho\n",
    "complete_file_path = '/Users/kimd999/research/projects/toxicity/per_each_data/phase_I_II/input/morpho/tall/2_after_fixing_MO24/final_full/zf_morphology_data_335_chemicals_2020DEC16_fixed.csv'\n",
    "# 335 chemicals\n",
    "\n",
    "# mac - phase III - morpho - 23 endpoints - full\n",
    "#complete_file_path = '/Users/kimd999/research/projects/toxicity/per_each_data/phase_III/input/morpho/full/tall/Tanguay_Phase_3_zf_morphology_data_PNNL_2021MAR23_full_w_23_endpoints.csv'\n",
    "\n",
    "# mac - phase III - morpho - 23 endpoints - devel\n",
    "#complete_file_path = '/Users/kimd999/research/projects/toxicity/per_each_data/phase_III/input/morpho/devel/tall/Tanguay_Phase_3_zf_morphology_data_PNNL_2021MAR23_devel_w_23_endpoints.csv'\n",
    "\n",
    "# mac - phase III - morpho - 14 endpoints - full\n",
    "#complete_file_path = '/Users/kimd999/research/projects/toxicity/per_each_data/phase_III/input/morpho/full/Tanguay_Phase_3_zf_morphology_data_PNNL_2021MAR23_full_w_14_endpoints.csv'\n",
    "\n",
    "# mac - phase III - morpho - 14 endpoints - devel\n",
    "#complete_file_path = '/Users/kimd999/research/projects/toxicity/per_each_data/phase_III/input/morpho/devel/Tanguay_Phase_3_zf_morphology_data_PNNL_2021MAR23_devel_w_14_endpoints.csv'\n",
    "\n",
    "morph_data = pd.read_csv(complete_file_path, header = 0)\n",
    "pd.set_option('display.max_columns', None)\n",
    "\n",
    "morph_data.head()"
   ]
  },
  {
   "cell_type": "code",
   "execution_count": 70,
   "metadata": {},
   "outputs": [],
   "source": [
    "# just TX part\n",
    "#TX_bottle_id_morph_data = morph_data[morph_data['bottle.id'].str.contains(\"^TX\")]\n",
    "#TX_bottle_id_morph_data = morph_data[morph_data['bottle.id'].str.contains(\"TX$\")]\n",
    "#TX_bottle_id_morph_data.head()"
   ]
  },
  {
   "cell_type": "code",
   "execution_count": 71,
   "metadata": {},
   "outputs": [],
   "source": [
    "# basic analysis\n",
    "#new_morph_data = morph_data.loc[morph_data['chemical.id'] == 197,['chemical.id', 'conc', 'plate.id', 'well', 'endpoint', 'value']]\n",
    "#new_morph_data.head()\n",
    "#morph_data_w_end = new_morph_data.loc[new_morph_data['endpoint'] == 'MO24',['chemical.id', 'conc', 'plate.id', 'well', 'endpoint', 'value']]\n",
    "#morph_data_w_end.head()\n",
    "#np.sum(morph_data['value'] == 1)\n",
    "#np.sum(morph_data['value'] == 0) # -> 82%\n",
    "#np.sum(np.isnan(morph_data['value']))\n",
    "#morph_data.shape"
   ]
  },
  {
   "cell_type": "code",
   "execution_count": 3,
   "metadata": {},
   "outputs": [
    {
     "data": {
      "text/html": [
       "<div>\n",
       "<style scoped>\n",
       "    .dataframe tbody tr th:only-of-type {\n",
       "        vertical-align: middle;\n",
       "    }\n",
       "\n",
       "    .dataframe tbody tr th {\n",
       "        vertical-align: top;\n",
       "    }\n",
       "\n",
       "    .dataframe thead th {\n",
       "        text-align: right;\n",
       "    }\n",
       "</style>\n",
       "<table border=\"1\" class=\"dataframe\">\n",
       "  <thead>\n",
       "    <tr style=\"text-align: right;\">\n",
       "      <th></th>\n",
       "      <th>chemical.id</th>\n",
       "      <th>conc</th>\n",
       "      <th>bottle.id</th>\n",
       "      <th>plate.id</th>\n",
       "      <th>well</th>\n",
       "      <th>endpoint</th>\n",
       "      <th>value</th>\n",
       "    </tr>\n",
       "  </thead>\n",
       "  <tbody>\n",
       "    <tr>\n",
       "      <th>1600795</th>\n",
       "      <td>998</td>\n",
       "      <td>67.0</td>\n",
       "      <td>NTP DNT 91-B10</td>\n",
       "      <td>15822</td>\n",
       "      <td>A08</td>\n",
       "      <td>DNC_</td>\n",
       "      <td>0.0</td>\n",
       "    </tr>\n",
       "    <tr>\n",
       "      <th>1600796</th>\n",
       "      <td>998</td>\n",
       "      <td>67.0</td>\n",
       "      <td>NTP DNT 91-B10</td>\n",
       "      <td>15822</td>\n",
       "      <td>A09</td>\n",
       "      <td>DNC_</td>\n",
       "      <td>0.0</td>\n",
       "    </tr>\n",
       "    <tr>\n",
       "      <th>1600797</th>\n",
       "      <td>998</td>\n",
       "      <td>67.0</td>\n",
       "      <td>NTP DNT 91-B10</td>\n",
       "      <td>15822</td>\n",
       "      <td>A10</td>\n",
       "      <td>DNC_</td>\n",
       "      <td>0.0</td>\n",
       "    </tr>\n",
       "    <tr>\n",
       "      <th>1600798</th>\n",
       "      <td>998</td>\n",
       "      <td>67.0</td>\n",
       "      <td>NTP DNT 91-B10</td>\n",
       "      <td>15822</td>\n",
       "      <td>A11</td>\n",
       "      <td>DNC_</td>\n",
       "      <td>0.0</td>\n",
       "    </tr>\n",
       "    <tr>\n",
       "      <th>1600799</th>\n",
       "      <td>998</td>\n",
       "      <td>67.0</td>\n",
       "      <td>NTP DNT 91-B10</td>\n",
       "      <td>15822</td>\n",
       "      <td>A12</td>\n",
       "      <td>DNC_</td>\n",
       "      <td>0.0</td>\n",
       "    </tr>\n",
       "  </tbody>\n",
       "</table>\n",
       "</div>"
      ],
      "text/plain": [
       "         chemical.id  conc       bottle.id plate.id well endpoint  value\n",
       "1600795          998  67.0  NTP DNT 91-B10    15822  A08     DNC_    0.0\n",
       "1600796          998  67.0  NTP DNT 91-B10    15822  A09     DNC_    0.0\n",
       "1600797          998  67.0  NTP DNT 91-B10    15822  A10     DNC_    0.0\n",
       "1600798          998  67.0  NTP DNT 91-B10    15822  A11     DNC_    0.0\n",
       "1600799          998  67.0  NTP DNT 91-B10    15822  A12     DNC_    0.0"
      ]
     },
     "execution_count": 3,
     "metadata": {},
     "output_type": "execute_result"
    }
   ],
   "source": [
    "# Keep only relevant columns\n",
    "columns_to_keep = ['chemical.id', 'conc', 'bottle.id', 'plate.id', 'well', 'endpoint', 'value'] \n",
    "# 'bottle.id' is added since Lisa wants to use it to join with behavioral data\n",
    "\n",
    "morph_data_select = morph_data.loc[:,columns_to_keep]\n",
    "morph_data_select.head()\n",
    "morph_data_select.tail()"
   ]
  },
  {
   "cell_type": "code",
   "execution_count": 4,
   "metadata": {},
   "outputs": [
    {
     "name": "stdout",
     "output_type": "stream",
     "text": [
      "<before dropping duplicates> len(morph_data_select):1600800\n",
      "<after dropping duplicates>  len(morph_data_select):1600800\n"
     ]
    }
   ],
   "source": [
    "print (\"<before dropping duplicates> len(morph_data_select):\" + str(len(morph_data_select)))\n",
    "morph_data_select = morph_data_select.drop_duplicates()\n",
    "print (\"<after dropping duplicates>  len(morph_data_select):\" + str(len(morph_data_select)))"
   ]
  },
  {
   "cell_type": "code",
   "execution_count": 5,
   "metadata": {},
   "outputs": [
    {
     "name": "stdout",
     "output_type": "stream",
     "text": [
      "335\n"
     ]
    }
   ],
   "source": [
    "unique_chemical_id = np.unique(morph_data_select['chemical.id'])\n",
    "print(len(unique_chemical_id))"
   ]
  },
  {
   "cell_type": "code",
   "execution_count": null,
   "metadata": {},
   "outputs": [],
   "source": [
    "#skip\n",
    "#'''\n",
    "#unique_endpoints = np.unique(morph_data_select['endpoint'])\n",
    "#print(unique_endpoints)\n",
    "#print(len(unique_endpoints))\n",
    "#'''"
   ]
  },
  {
   "cell_type": "code",
   "execution_count": 137,
   "metadata": {},
   "outputs": [],
   "source": [
    "#morph_this_chem_only = morph_data_select.loc[morph_data['chemical.id'] == 1694,:]\n",
    "#morph_this_chem_only.to_csv('1694.csv', index=False)"
   ]
  },
  {
   "cell_type": "code",
   "execution_count": 6,
   "metadata": {},
   "outputs": [
    {
     "ename": "SyntaxError",
     "evalue": "invalid syntax (<ipython-input-6-de9e1d949746>, line 18)",
     "output_type": "error",
     "traceback": [
      "\u001b[0;36m  File \u001b[0;32m\"<ipython-input-6-de9e1d949746>\"\u001b[0;36m, line \u001b[0;32m18\u001b[0m\n\u001b[0;31m    os.remove(\"cannot_process.txt\"ㅇㅇㅇ)\u001b[0m\n\u001b[0m                                    ^\u001b[0m\n\u001b[0;31mSyntaxError\u001b[0m\u001b[0;31m:\u001b[0m invalid syntax\n"
     ]
    }
   ],
   "source": [
    "# tall -> wide\n",
    "start_time = time.time()\n",
    "\n",
    "reformatted = pd.DataFrame()\n",
    "\n",
    "#full_devel = \"full\"\n",
    "full_devel = \"devel\"\n",
    "\n",
    "chemical_id_from_here = np.unique(morph_data_select['chemical.id'])\n",
    "\n",
    "if (full_devel == \"devel\"):\n",
    "    randomly_chosen = random.sample(set(chemical_id_from_here), 1)\n",
    "    chemical_id_from_here = []\n",
    "    for i in range(len(randomly_chosen)):\n",
    "        chemical_id_from_here.append(randomly_chosen[i])\n",
    "\n",
    "if (os.path.isfile(\"cannot_process.txt\") == True):\n",
    "    os.remove(\"cannot_process.txt\")\n",
    "        \n",
    "for chemical_index in chemical_id_from_here:\n",
    "    print(\"\\nchemical_index:\" + str(chemical_index))        \n",
    "    \n",
    "    morph_data_chemical = morph_data_select.loc[morph_data['chemical.id'] == chemical_index,:]\n",
    "    #morph_data_chemical.to_csv('morph_data_chemical_1694.csv', index=False)\n",
    "#    display(morph_data_chemical.head())\n",
    "    \n",
    "    # Append chemical_plate_well as a unique identifier\n",
    "    morph_data_chemical.insert(0, 'chemical_plate_well', morph_data_chemical.loc[:,['chemical.id','plate.id', 'well']].apply(lambda x: '_'.join(x.map(str)), axis = 1))\n",
    "\n",
    "    #print (\"len(morph_data_chemical.chemical_plate_well):\" + str(len(morph_data_chemical.chemical_plate_well)))    \n",
    "    for cpw in np.unique(morph_data_chemical.chemical_plate_well):\n",
    "        df_per_cpw = morph_data_chemical.loc[morph_data_chemical.chemical_plate_well == cpw,:]\n",
    "        #df_per_cpw_filename = 'df_per_cpw_' + str(chemical_index) + '.csv'\n",
    "        #df_per_cpw.to_csv(df_per_cpw_filename, index=False)\n",
    "        \n",
    "        if (len(np.unique(df_per_cpw['conc'])) != 1):\n",
    "            print (\"can't process\" + str(chemical_index) + \" chemical\")\n",
    "            f = open(\"cannot_process.txt\", \"a\")\n",
    "            f.write(str(chemical_index)+\"\\n\")\n",
    "            f.close()\n",
    "            break\n",
    "        \n",
    "        try:\n",
    "            plate_id = pd.to_numeric(df_per_cpw['plate.id'])\n",
    "        except:\n",
    "            # we need this to deal exceptional case like \"plate.id = TP967-E9-P1 for chemical 163 in phase I,II\"\n",
    "            plate_id = df_per_cpw['plate.id']\n",
    "\n",
    "        if(len(df_per_cpw.endpoint) == 14):\n",
    "            concat_this = pd.DataFrame(\n",
    "                {\n",
    "                    'chemical.id': np.unique(df_per_cpw['chemical.id']),\n",
    "                    'plate.id': np.unique(plate_id),\n",
    "                    'well': np.unique(df_per_cpw['well']),\n",
    "                    'chemical_plate_well': np.unique(df_per_cpw['chemical_plate_well']),\n",
    "                    'conc': np.unique(df_per_cpw['conc']),\n",
    "                    'AXIS': df_per_cpw.value[df_per_cpw.endpoint == 'AXIS'].values,\n",
    "                    'BRN_': df_per_cpw.value[df_per_cpw.endpoint == 'BRN_'].values,\n",
    "                    'CRAN': df_per_cpw.value[df_per_cpw.endpoint == 'CRAN'].values,\n",
    "                    'DNC_': df_per_cpw.value[df_per_cpw.endpoint == 'DNC_'].values,\n",
    "                    'DP24': df_per_cpw.value[df_per_cpw.endpoint == 'DP24'].values,\n",
    "                    'EDEM': df_per_cpw.value[df_per_cpw.endpoint == 'EDEM'].values,\n",
    "                    'LTRK': df_per_cpw.value[df_per_cpw.endpoint == 'LTRK'].values,\n",
    "                    'MO24': df_per_cpw.value[df_per_cpw.endpoint == 'MO24'].values,\n",
    "                    'MORT': df_per_cpw.value[df_per_cpw.endpoint == 'MORT'].values,\n",
    "                    'MUSC': df_per_cpw.value[df_per_cpw.endpoint == 'MUSC'].values,\n",
    "                    'NC__': df_per_cpw.value[df_per_cpw.endpoint == 'NC__'].values,\n",
    "                    'SKIN': df_per_cpw.value[df_per_cpw.endpoint == 'SKIN'].values,\n",
    "                    'SM24': df_per_cpw.value[df_per_cpw.endpoint == 'SM24'].values,\n",
    "                    'TCHR': df_per_cpw.value[df_per_cpw.endpoint == 'TCHR'].values,\n",
    "                })\n",
    "            reformatted = pd.concat([reformatted, concat_this])\n",
    "        elif(len(df_per_cpw.endpoint) == 23):\n",
    "            concat_this = pd.DataFrame(\n",
    "                {\n",
    "                    'chemical.id':         np.unique(df_per_cpw['chemical.id']),\n",
    "                    'plate.id':            np.unique(plate_id),\n",
    "                    'well':                np.unique(df_per_cpw['well']),\n",
    "                    'chemical_plate_well': np.unique(df_per_cpw['chemical_plate_well']),\n",
    "                    'conc':                np.unique(df_per_cpw['conc']),\n",
    "                    'AXIS': df_per_cpw.value[df_per_cpw.endpoint == 'AXIS'].values,\n",
    "                    'BRAI': df_per_cpw.value[df_per_cpw.endpoint == 'BRAI'].values,\n",
    "                    'CFIN': df_per_cpw.value[df_per_cpw.endpoint == 'CFIN'].values,\n",
    "                    'CIRC': df_per_cpw.value[df_per_cpw.endpoint == 'CIRC'].values,\n",
    "                    'DNC_': df_per_cpw.value[df_per_cpw.endpoint == 'DNC_'].values,\n",
    "                    'DP24': df_per_cpw.value[df_per_cpw.endpoint == 'DP24'].values,\n",
    "                    'EYE_': df_per_cpw.value[df_per_cpw.endpoint == 'EYE_'].values,\n",
    "                    'JAW_': df_per_cpw.value[df_per_cpw.endpoint == 'JAW_'].values,\n",
    "                    'MO24': df_per_cpw.value[df_per_cpw.endpoint == 'MO24'].values,\n",
    "                    'MORT': df_per_cpw.value[df_per_cpw.endpoint == 'MORT'].values,\n",
    "                    'NC24': df_per_cpw.value[df_per_cpw.endpoint == 'NC24'].values,\n",
    "                    'NC__': df_per_cpw.value[df_per_cpw.endpoint == 'NC__'].values,\n",
    "                    'OTIC': df_per_cpw.value[df_per_cpw.endpoint == 'OTIC'].values,\n",
    "                    'PE__': df_per_cpw.value[df_per_cpw.endpoint == 'PE__'].values,\n",
    "                    'PFIN': df_per_cpw.value[df_per_cpw.endpoint == 'PFIN'].values,\n",
    "                    'PIG_': df_per_cpw.value[df_per_cpw.endpoint == 'PIG_'].values,\n",
    "                    'SM24': df_per_cpw.value[df_per_cpw.endpoint == 'SM24'].values,\n",
    "                    'SNOU': df_per_cpw.value[df_per_cpw.endpoint == 'SNOU'].values,\n",
    "                    'SOMI': df_per_cpw.value[df_per_cpw.endpoint == 'SOMI'].values,\n",
    "                    'SWIM': df_per_cpw.value[df_per_cpw.endpoint == 'SWIM'].values,\n",
    "                    'TRUN': df_per_cpw.value[df_per_cpw.endpoint == 'TRUN'].values,\n",
    "                    'TR__': df_per_cpw.value[df_per_cpw.endpoint == 'TR__'].values,\n",
    "                    'YSE_': df_per_cpw.value[df_per_cpw.endpoint == 'YSE_'].values,\n",
    "                })\n",
    "            reformatted = pd.concat([reformatted, concat_this])\n",
    "        elif(len(df_per_cpw.endpoint) == 30):\n",
    "            concat_this = pd.DataFrame(\n",
    "                {\n",
    "                    'chemical.id': np.unique(df_per_cpw['chemical.id']),\n",
    "                    'plate.id': np.unique(plate_id),\n",
    "                    'well': np.unique(df_per_cpw['well']),\n",
    "                    'chemical_plate_well': np.unique(df_per_cpw['chemical_plate_well']),\n",
    "                    'conc': np.unique(df_per_cpw['conc']),\n",
    "                    'AXIS': df_per_cpw.value[df_per_cpw.endpoint == 'AXIS'].values,\n",
    "                    'BRAI': df_per_cpw.value[df_per_cpw.endpoint == 'BRAI'].values,\n",
    "                    'BRN_': df_per_cpw.value[df_per_cpw.endpoint == 'BRN_'].values,\n",
    "                    'CFIN': df_per_cpw.value[df_per_cpw.endpoint == 'CFIN'].values,\n",
    "                    'CIRC': df_per_cpw.value[df_per_cpw.endpoint == 'CIRC'].values,\n",
    "                    'CRAN': df_per_cpw.value[df_per_cpw.endpoint == 'CRAN'].values,\n",
    "                    'DNC_': df_per_cpw.value[df_per_cpw.endpoint == 'DNC_'].values,\n",
    "                    'DP24': df_per_cpw.value[df_per_cpw.endpoint == 'DP24'].values,\n",
    "                    'EDEM': df_per_cpw.value[df_per_cpw.endpoint == 'EDEM'].values,\n",
    "                    'EYE_': df_per_cpw.value[df_per_cpw.endpoint == 'EYE_'].values,\n",
    "                    'JAW_': df_per_cpw.value[df_per_cpw.endpoint == 'JAW_'].values,\n",
    "                    'LTRK': df_per_cpw.value[df_per_cpw.endpoint == 'LTRK'].values,\n",
    "                    'MO24': df_per_cpw.value[df_per_cpw.endpoint == 'MO24'].values,\n",
    "                    'MORT': df_per_cpw.value[df_per_cpw.endpoint == 'MORT'].values,\n",
    "                    'MUSC': df_per_cpw.value[df_per_cpw.endpoint == 'MUSC'].values,\n",
    "                    'NC24': df_per_cpw.value[df_per_cpw.endpoint == 'NC24'].values,\n",
    "                    'NC__': df_per_cpw.value[df_per_cpw.endpoint == 'NC__'].values,\n",
    "                    'OTIC': df_per_cpw.value[df_per_cpw.endpoint == 'OTIC'].values,\n",
    "                    'PE__': df_per_cpw.value[df_per_cpw.endpoint == 'PE__'].values,\n",
    "                    'PFIN': df_per_cpw.value[df_per_cpw.endpoint == 'PFIN'].values,\n",
    "                    'PIG_': df_per_cpw.value[df_per_cpw.endpoint == 'PIG_'].values,\n",
    "                    'SM24': df_per_cpw.value[df_per_cpw.endpoint == 'SM24'].values,\n",
    "                    'SNOU': df_per_cpw.value[df_per_cpw.endpoint == 'SNOU'].values,\n",
    "                    'SOMI': df_per_cpw.value[df_per_cpw.endpoint == 'SOMI'].values,\n",
    "                    'SWIM': df_per_cpw.value[df_per_cpw.endpoint == 'SWIM'].values,\n",
    "                    'TCHR': df_per_cpw.value[df_per_cpw.endpoint == 'TCHR'].values,\n",
    "                    'TRUN': df_per_cpw.value[df_per_cpw.endpoint == 'TRUN'].values,\n",
    "                    'TR__': df_per_cpw.value[df_per_cpw.endpoint == 'TR__'].values,\n",
    "                    'YSE_': df_per_cpw.value[df_per_cpw.endpoint == 'YSE_'].values,\n",
    "                })\n",
    "            reformatted = pd.concat([reformatted, concat_this])\n",
    "        else:\n",
    "            print (\"len(group.endpoint):\" + str(len(group.endpoint)))\n",
    "            a=b\n",
    "                  \n",
    "    \n",
    "################## possible manual update of entries\n",
    "find_this = reformatted.loc[(reformatted['chemical.id'] == 746) \\\n",
    "                & (reformatted['plate.id'] == 12953) \\\n",
    "                & (reformatted['well'] == \"E03\"), 'MORT'] \n",
    "if (len(find_this) != 0):\n",
    "    print (\"for phase I, II, automatically fix small manual mistakes\")\n",
    "    reformatted.loc[(reformatted['chemical.id'] == 746) \\\n",
    "                & (reformatted['plate.id'] == 12953) \\\n",
    "                & (reformatted['well'] == \"E03\"), 'MORT'] = 0\n",
    "\n",
    "    \n",
    "find_this = reformatted.loc[(reformatted['chemical.id'] == 1171) \\\n",
    "                    & (reformatted['plate.id'] == 15205) \\\n",
    "                    & (reformatted['well'] == \"D02\"), 'MORT']\n",
    "if (len(find_this) != 0):\n",
    "    print (\"for phase I, II, automatically fix small manual mistakes\")\n",
    "    reformatted.loc[(reformatted['chemical.id'] == 1171) \\\n",
    "                    & (reformatted['plate.id'] == 15205) \\\n",
    "                    & (reformatted['well'] == \"D02\"), 'MORT'] = 0\n",
    "\n",
    "       \n",
    "end_time = time.time()\n",
    "time_took = str(round((end_time-start_time), 1)) + \" seconds\"\n",
    "print (\"tall -> wide done, it took:\"+str(time_took)) # took 13 minutes for 344 chemicals"
   ]
  },
  {
   "cell_type": "code",
   "execution_count": 77,
   "metadata": {},
   "outputs": [
    {
     "data": {
      "text/plain": [
       "'endpoint_investigate_data = pd.read_csv(endpoint_report_filename, header = 0)\\n\\nprint (\"<before dropping duplicates> len(endpoint_investigate_data):\" + str(len(endpoint_investigate_data)))\\nunique_endpoint_investigate_data = endpoint_investigate_data.drop_duplicates()\\nprint (\"<after dropping duplicates>  len(unique_endpoint_investigate_data):\" + str(len(unique_endpoint_investigate_data)))\\n\\n#display(unique_endpoint_investigate_data)\\n\\n#unique_endpoint_investigate_data.to_csv(\\'unique_endpoint_investigate_data.csv\\', index=False)\\n'"
      ]
     },
     "execution_count": 77,
     "metadata": {},
     "output_type": "execute_result"
    }
   ],
   "source": [
    "'''endpoint_investigate_data = pd.read_csv(endpoint_report_filename, header = 0)\n",
    "\n",
    "print (\"<before dropping duplicates> len(endpoint_investigate_data):\" + str(len(endpoint_investigate_data)))\n",
    "unique_endpoint_investigate_data = endpoint_investigate_data.drop_duplicates()\n",
    "print (\"<after dropping duplicates>  len(unique_endpoint_investigate_data):\" + str(len(unique_endpoint_investigate_data)))\n",
    "\n",
    "#display(unique_endpoint_investigate_data)\n",
    "\n",
    "#unique_endpoint_investigate_data.to_csv('unique_endpoint_investigate_data.csv', index=False)\n",
    "'''"
   ]
  },
  {
   "cell_type": "code",
   "execution_count": 78,
   "metadata": {},
   "outputs": [],
   "source": [
    "#print (reformatted.head())\n",
    "#print (\"reformatted.shape:\" + str(reformatted.shape))"
   ]
  },
  {
   "cell_type": "code",
   "execution_count": 138,
   "metadata": {},
   "outputs": [
    {
     "name": "stdout",
     "output_type": "stream",
     "text": [
      "reformatted_DNC_0.shape:(65006, 28)\n"
     ]
    }
   ],
   "source": [
    "reformatted_DNC_0 = pd.DataFrame()\n",
    "reformatted_DNC_0 = reformatted.loc[reformatted['DNC_'] == 0.0]\n",
    "print (\"reformatted_DNC_0.shape:\" + str(reformatted_DNC_0.shape))"
   ]
  },
  {
   "cell_type": "code",
   "execution_count": 52,
   "metadata": {},
   "outputs": [
    {
     "name": "stdout",
     "output_type": "stream",
     "text": [
      "reformatted_DNC_empty.shape:(0, 28)\n"
     ]
    }
   ],
   "source": [
    "reformatted_DNC_empty = pd.DataFrame()\n",
    "reformatted_DNC_empty = reformatted.loc[reformatted['DNC_'] == '']\n",
    "print (\"reformatted_DNC_empty.shape:\" + str(reformatted_DNC_empty.shape))"
   ]
  },
  {
   "cell_type": "code",
   "execution_count": 81,
   "metadata": {},
   "outputs": [
    {
     "name": "stdout",
     "output_type": "stream",
     "text": [
      "nan_count:123408\n",
      "zero_count:730792\n",
      "one_count:22376\n",
      "total_count:876576\n"
     ]
    }
   ],
   "source": [
    "#'''\n",
    "nan_count = 0\n",
    "zero_count = 0\n",
    "one_count = 0\n",
    "total_count = 0\n",
    "for (columnName, columnData) in reformatted.iteritems(): \n",
    "    if (columnName == \"chemical.id\") or (columnName == \"plate.id\") or (columnName == \"well\") or (columnName == \"chemical_plate_well\") or (columnName == \"conc\"):\n",
    "        continue\n",
    "#    print('Colunm Name : ', columnName) \n",
    "#    print('Column Contents : ', columnData.values[i])\n",
    "#    print (len(columnData.values))\n",
    "    for i in range(len(columnData.values)):\n",
    "        total_count += 1\n",
    "        if (str(columnData.values[i]) == \"nan\"):\n",
    "            nan_count += 1\n",
    "        elif (str(columnData.values[i]) == \"0.0\"):\n",
    "            zero_count += 1\n",
    "        elif (str(columnData.values[i]) == \"1.0\"):\n",
    "            one_count += 1\n",
    "#        print('Column Contents : ', columnData.values[i])\n",
    "print (\"nan_count:\" + str(nan_count))\n",
    "print (\"zero_count:\" + str(zero_count))\n",
    "print (\"one_count:\" + str(one_count))\n",
    "print (\"total_count:\" + str(total_count))\n",
    "#'''"
   ]
  },
  {
   "cell_type": "code",
   "execution_count": 82,
   "metadata": {},
   "outputs": [],
   "source": [
    "#pd.set_option('display.max_columns', None)"
   ]
  },
  {
   "cell_type": "code",
   "execution_count": 139,
   "metadata": {},
   "outputs": [
    {
     "data": {
      "text/plain": [
       "'output_complete_file_path:'"
      ]
     },
     "metadata": {},
     "output_type": "display_data"
    },
    {
     "data": {
      "text/plain": [
       "'/Users/kimd999/research/projects/toxicity/per_each_data/Phase_I_II/input/morpho/tall/zf_morphology_data_335_chemicals_2020DEC16_wide_DNC_0_full.csv'"
      ]
     },
     "metadata": {},
     "output_type": "display_data"
    }
   ],
   "source": [
    "#reformatted.to_csv('344_zf_morphology_data_phase_1_and_2_-_2020JUNE25_wide_DNC_all.csv',index=False)\n",
    "\n",
    "output_complete_file_path = complete_file_path[:-4] + \"_wide_DNC_0_\" \\\n",
    "                            + str(full_devel) + \".csv\"\n",
    "display ('output_complete_file_path:', str(output_complete_file_path))\n",
    "\n",
    "reformatted_DNC_0.to_csv(output_complete_file_path,index=False)\n",
    "\n",
    "#reformatted_DNC_empty.to_csv('344_zf_morphology_data_phase_1_and_2_-_2020JUNE25_wide_DNC_empty.csv',index=False)"
   ]
  },
  {
   "cell_type": "code",
   "execution_count": null,
   "metadata": {},
   "outputs": [],
   "source": []
  }
 ],
 "metadata": {
  "kernelspec": {
   "display_name": "Python 3",
   "language": "python",
   "name": "python3"
  },
  "language_info": {
   "codemirror_mode": {
    "name": "ipython",
    "version": 3
   },
   "file_extension": ".py",
   "mimetype": "text/x-python",
   "name": "python",
   "nbconvert_exporter": "python",
   "pygments_lexer": "ipython3",
   "version": "3.7.8"
  }
 },
 "nbformat": 4,
 "nbformat_minor": 4
}
