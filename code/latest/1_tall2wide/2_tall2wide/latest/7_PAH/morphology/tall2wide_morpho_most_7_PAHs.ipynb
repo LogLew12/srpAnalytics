{
 "cells": [
  {
   "cell_type": "code",
   "execution_count": 1,
   "metadata": {},
   "outputs": [],
   "source": [
    "# To deal with 7_PAH_zf_morphology\n",
    "\n",
    "import numpy as np\n",
    "import pandas as pd\n",
    "import matplotlib.pyplot as plt\n",
    "import seaborn as sns\n",
    "import os, time"
   ]
  },
  {
   "cell_type": "code",
   "execution_count": 2,
   "metadata": {},
   "outputs": [],
   "source": [
    "from datetime import datetime as dt\n",
    "today = dt.now()\n",
    "time_now_date = today.strftime('%Y_%m_%d')"
   ]
  },
  {
   "cell_type": "code",
   "execution_count": 3,
   "metadata": {},
   "outputs": [],
   "source": [
    "# old - used to work\n",
    "#complete_file_path = '/Users/kimd999/research/projects/toxicity/per_each_data/7_PAH/01_11_2021/tall/7_PAH_zf_morphology_data_2021JAN11.csv'\n",
    "\n",
    "# github input file \n",
    "complete_file_path = '/Users/kimd999/7_PAH_zf_morphology_data_2020NOV11_tall_3756.csv'\n",
    "\n",
    "df_morph = pd.read_csv(complete_file_path, header = 0)"
   ]
  },
  {
   "cell_type": "code",
   "execution_count": 4,
   "metadata": {},
   "outputs": [
    {
     "data": {
      "text/plain": [
       "<bound method NDFrame.tail of       chemical.id bottle.id  conc  plate.id well      date endpoint  value\n",
       "0            3756   C761434   0.0     20544  H01  20200701     MO24    0.0\n",
       "1            3756   C761434   0.0     20544  H02  20200701     MO24    1.0\n",
       "2            3756   C761434   0.0     20544  H03  20200701     MO24    0.0\n",
       "3            3756   C761434   0.0     20544  H04  20200701     MO24    0.0\n",
       "4            3756   C761434   0.0     20544  H05  20200701     MO24    0.0\n",
       "...           ...       ...   ...       ...  ...       ...      ...    ...\n",
       "2395         3756   C761434   6.8     20624  F08  20200701     LTRK    0.0\n",
       "2396         3756   C761434   6.8     20624  F09  20200701     LTRK    0.0\n",
       "2397         3756   C761434   6.8     20624  F10  20200701     LTRK    0.0\n",
       "2398         3756   C761434   6.8     20624  F11  20200701     LTRK    0.0\n",
       "2399         3756   C761434   6.8     20624  F12  20200701     LTRK    0.0\n",
       "\n",
       "[2400 rows x 8 columns]>"
      ]
     },
     "execution_count": 4,
     "metadata": {},
     "output_type": "execute_result"
    }
   ],
   "source": [
    "df_morph.head(2400).tail"
   ]
  },
  {
   "cell_type": "code",
   "execution_count": 22,
   "metadata": {},
   "outputs": [],
   "source": [
    "#np.sum(morph_all_data['value'] == 1)"
   ]
  },
  {
   "cell_type": "code",
   "execution_count": 23,
   "metadata": {},
   "outputs": [],
   "source": [
    "#np.sum(morph_all_data['value'] == 0) # -> 82%"
   ]
  },
  {
   "cell_type": "code",
   "execution_count": 24,
   "metadata": {},
   "outputs": [],
   "source": [
    "#np.sum(np.isnan(morph_all_data['value']))"
   ]
  },
  {
   "cell_type": "code",
   "execution_count": 25,
   "metadata": {},
   "outputs": [
    {
     "data": {
      "text/plain": [
       "(28224, 8)"
      ]
     },
     "execution_count": 25,
     "metadata": {},
     "output_type": "execute_result"
    }
   ],
   "source": [
    "df_morph.shape"
   ]
  },
  {
   "cell_type": "code",
   "execution_count": 5,
   "metadata": {},
   "outputs": [
    {
     "data": {
      "text/html": [
       "<div>\n",
       "<style scoped>\n",
       "    .dataframe tbody tr th:only-of-type {\n",
       "        vertical-align: middle;\n",
       "    }\n",
       "\n",
       "    .dataframe tbody tr th {\n",
       "        vertical-align: top;\n",
       "    }\n",
       "\n",
       "    .dataframe thead th {\n",
       "        text-align: right;\n",
       "    }\n",
       "</style>\n",
       "<table border=\"1\" class=\"dataframe\">\n",
       "  <thead>\n",
       "    <tr style=\"text-align: right;\">\n",
       "      <th></th>\n",
       "      <th>chemical.id</th>\n",
       "      <th>conc</th>\n",
       "      <th>plate.id</th>\n",
       "      <th>well</th>\n",
       "      <th>endpoint</th>\n",
       "      <th>value</th>\n",
       "    </tr>\n",
       "  </thead>\n",
       "  <tbody>\n",
       "    <tr>\n",
       "      <th>0</th>\n",
       "      <td>3756</td>\n",
       "      <td>0.0</td>\n",
       "      <td>20544</td>\n",
       "      <td>H01</td>\n",
       "      <td>MO24</td>\n",
       "      <td>0.0</td>\n",
       "    </tr>\n",
       "    <tr>\n",
       "      <th>1</th>\n",
       "      <td>3756</td>\n",
       "      <td>0.0</td>\n",
       "      <td>20544</td>\n",
       "      <td>H02</td>\n",
       "      <td>MO24</td>\n",
       "      <td>1.0</td>\n",
       "    </tr>\n",
       "    <tr>\n",
       "      <th>2</th>\n",
       "      <td>3756</td>\n",
       "      <td>0.0</td>\n",
       "      <td>20544</td>\n",
       "      <td>H03</td>\n",
       "      <td>MO24</td>\n",
       "      <td>0.0</td>\n",
       "    </tr>\n",
       "    <tr>\n",
       "      <th>3</th>\n",
       "      <td>3756</td>\n",
       "      <td>0.0</td>\n",
       "      <td>20544</td>\n",
       "      <td>H04</td>\n",
       "      <td>MO24</td>\n",
       "      <td>0.0</td>\n",
       "    </tr>\n",
       "    <tr>\n",
       "      <th>4</th>\n",
       "      <td>3756</td>\n",
       "      <td>0.0</td>\n",
       "      <td>20544</td>\n",
       "      <td>H05</td>\n",
       "      <td>MO24</td>\n",
       "      <td>0.0</td>\n",
       "    </tr>\n",
       "  </tbody>\n",
       "</table>\n",
       "</div>"
      ],
      "text/plain": [
       "   chemical.id  conc  plate.id well endpoint  value\n",
       "0         3756   0.0     20544  H01     MO24    0.0\n",
       "1         3756   0.0     20544  H02     MO24    1.0\n",
       "2         3756   0.0     20544  H03     MO24    0.0\n",
       "3         3756   0.0     20544  H04     MO24    0.0\n",
       "4         3756   0.0     20544  H05     MO24    0.0"
      ]
     },
     "execution_count": 5,
     "metadata": {},
     "output_type": "execute_result"
    }
   ],
   "source": [
    "# Keep only relevant columns\n",
    "columns_to_keep = ['chemical.id', 'conc', 'plate.id', 'well', 'endpoint', 'value']\n",
    "df_morph_select = df_morph.loc[:,columns_to_keep]\n",
    "df_morph_select.head()"
   ]
  },
  {
   "cell_type": "code",
   "execution_count": 6,
   "metadata": {},
   "outputs": [
    {
     "name": "stdout",
     "output_type": "stream",
     "text": [
      "chemical_index:3756\n",
      "total_number_of_unique_chemicals:1\n",
      "total_number_of_chemical_plate_well:288\n",
      "Reformatting is done, it took:2.1 seconds\n"
     ]
    }
   ],
   "source": [
    "start_time = time.time()\n",
    "\n",
    "df_reformatted = pd.DataFrame()\n",
    "total_number_of_unique_chemicals = 0\n",
    "total_number_of_chemical_plate_well = 0\n",
    "\n",
    "\n",
    "full_devel = \"full\"\n",
    "#full_devel = \"devel\"\n",
    "    \n",
    "if (full_devel == \"full\"):\n",
    "    # all chemicals\n",
    "    chemical_id_from_here = np.unique(df_morph['chemical.id'])\n",
    "else: # full_devel = \"devel\"\n",
    "    chemical_id_from_here = [3756]\n",
    "\n",
    "for chemical_index in chemical_id_from_here:\n",
    "    print(\"chemical_index:\" + str(chemical_index))\n",
    "    total_number_of_unique_chemicals += 1\n",
    "    df_morph_chemical = df_morph_select.loc[df_morph['chemical.id'] == chemical_index,:]\n",
    "    \n",
    "    # Append chemical_plate_well as a unique identifier\n",
    "    df_morph_chemical.insert(0, 'chemical_plate_well', df_morph_chemical.loc[:,['chemical.id','plate.id', 'well']].apply(lambda x: '_'.join(x.map(str)), axis = 1))\n",
    "    \n",
    "    for cpw in np.unique(df_morph_chemical.chemical_plate_well):\n",
    "        total_number_of_chemical_plate_well += 1\n",
    "        temp_df = df_morph_chemical.loc[df_morph_chemical.chemical_plate_well == cpw,:]\n",
    "        temp_df_grouped = temp_df.groupby(['chemical.id', 'plate.id', 'well'])\n",
    "        for name, group in temp_df_grouped:\n",
    "            try:\n",
    "#            if(len(group.endpoint) == 14):\n",
    "                temp = pd.DataFrame( {\n",
    "                        'chemical.id': np.unique(temp_df['chemical.id']),\n",
    "                        'plate.id': np.unique(temp_df['plate.id']),\n",
    "                        'well': np.unique(temp_df['well']),\n",
    "                        'chemical_plate_well': np.unique(temp_df['chemical_plate_well']),\n",
    "                        'conc': np.unique(temp_df['conc']),\n",
    "                        'AXIS': temp_df.value[temp_df.endpoint == 'AXIS'].values,\n",
    "                        'BRN_': temp_df.value[temp_df.endpoint == 'BRN_'].values,\n",
    "                        'CRAN': temp_df.value[temp_df.endpoint == 'CRAN'].values,\n",
    "                        'DNC_': temp_df.value[temp_df.endpoint == 'DNC_'].values,\n",
    "                        'DP24': temp_df.value[temp_df.endpoint == 'DP24'].values,\n",
    "                        'EDEM': temp_df.value[temp_df.endpoint == 'EDEM'].values,\n",
    "                        'LTRK': temp_df.value[temp_df.endpoint == 'LTRK'].values,\n",
    "                        'MO24': temp_df.value[temp_df.endpoint == 'MO24'].values,\n",
    "                        'MORT': temp_df.value[temp_df.endpoint == 'MORT'].values,\n",
    "                        'MUSC': temp_df.value[temp_df.endpoint == 'MUSC'].values,\n",
    "                        'NC__': temp_df.value[temp_df.endpoint == 'NC__'].values,\n",
    "                        'SKIN': temp_df.value[temp_df.endpoint == 'SKIN'].values,\n",
    "                        'SM24': temp_df.value[temp_df.endpoint == 'SM24'].values,\n",
    "                        'TCHR': temp_df.value[temp_df.endpoint == 'TCHR'].values,  }  )\n",
    "                df_reformatted = pd.concat([df_reformatted, temp])\n",
    "            except:\n",
    "                print (\"len(group.endpoint) != 14\")\n",
    "                print (\"chemical_plate_well:\" + str(cpw))\n",
    "print (\"total_number_of_unique_chemicals:\" + str(total_number_of_unique_chemicals))\n",
    "print (\"total_number_of_chemical_plate_well:\" + str(total_number_of_chemical_plate_well))\n",
    "end_time = time.time()\n",
    "time_took = str(round((end_time-start_time), 1)) + \" seconds\"\n",
    "print (\"Reformatting is done, it took:\"+str(time_took))\n",
    "# For all 7 chemicals, it took 15 seconds"
   ]
  },
  {
   "cell_type": "code",
   "execution_count": 7,
   "metadata": {},
   "outputs": [
    {
     "name": "stdout",
     "output_type": "stream",
     "text": [
      "   chemical.id  plate.id well chemical_plate_well   conc  AXIS  BRN_  CRAN  \\\n",
      "0         3756     20544  A01      3756_20544_A01  100.0   NaN   NaN   NaN   \n",
      "0         3756     20544  A02      3756_20544_A02  100.0   0.0   0.0   0.0   \n",
      "0         3756     20544  A03      3756_20544_A03  100.0   NaN   NaN   NaN   \n",
      "0         3756     20544  A04      3756_20544_A04  100.0   0.0   0.0   0.0   \n",
      "0         3756     20544  A05      3756_20544_A05  100.0   0.0   0.0   0.0   \n",
      "\n",
      "   DNC_  DP24  EDEM  LTRK  MO24  MORT  MUSC  NC__  SKIN  SM24  TCHR  \n",
      "0   0.0   NaN   NaN   NaN   1.0   NaN   NaN   NaN   NaN   NaN   NaN  \n",
      "0   0.0   0.0   0.0   0.0   0.0   0.0   0.0   0.0   0.0   0.0   0.0  \n",
      "0   0.0   NaN   NaN   NaN   1.0   NaN   NaN   NaN   NaN   NaN   NaN  \n",
      "0   0.0   0.0   0.0   0.0   0.0   0.0   0.0   0.0   0.0   0.0   0.0  \n",
      "0   0.0   0.0   0.0   0.0   0.0   0.0   0.0   0.0   0.0   0.0   0.0  \n",
      "df_reformatted.shape:(288, 19)\n"
     ]
    }
   ],
   "source": [
    "pd.set_option('display.max_columns', None)\n",
    "print (df_reformatted.head())\n",
    "print (\"df_reformatted.shape:\" + str(df_reformatted.shape))"
   ]
  },
  {
   "cell_type": "code",
   "execution_count": 8,
   "metadata": {},
   "outputs": [
    {
     "name": "stdout",
     "output_type": "stream",
     "text": [
      "output_file_name:/Users/kimd999/7_PAH_zf_morphology_data_2020NOV11_tall_3756_wide_made_in_2021_07_19.csv\n"
     ]
    }
   ],
   "source": [
    "output_file_name = complete_file_path[:-4] + \"_wide_made_in_\" + str(time_now_date) + '.csv'\n",
    "print (f\"output_file_name:{output_file_name}\")\n",
    "\n",
    "df_reformatted.to_csv(output_file_name,index=False)"
   ]
  },
  {
   "cell_type": "code",
   "execution_count": 30,
   "metadata": {},
   "outputs": [
    {
     "ename": "NameError",
     "evalue": "name 'b' is not defined",
     "output_type": "error",
     "traceback": [
      "\u001b[0;31m---------------------------------------------------------------------------\u001b[0m",
      "\u001b[0;31mNameError\u001b[0m                                 Traceback (most recent call last)",
      "\u001b[0;32m<ipython-input-30-488068fe1e94>\u001b[0m in \u001b[0;36m<module>\u001b[0;34m()\u001b[0m\n\u001b[0;32m----> 1\u001b[0;31m \u001b[0ma\u001b[0m\u001b[0;34m=\u001b[0m\u001b[0mb\u001b[0m\u001b[0;34m\u001b[0m\u001b[0;34m\u001b[0m\u001b[0m\n\u001b[0m",
      "\u001b[0;31mNameError\u001b[0m: name 'b' is not defined"
     ]
    }
   ],
   "source": [
    "a=b"
   ]
  },
  {
   "cell_type": "markdown",
   "metadata": {},
   "source": [
    "## below is investigational"
   ]
  },
  {
   "cell_type": "code",
   "execution_count": null,
   "metadata": {},
   "outputs": [],
   "source": [
    "reformat_data_DNC_0 = pd.DataFrame()"
   ]
  },
  {
   "cell_type": "code",
   "execution_count": null,
   "metadata": {},
   "outputs": [],
   "source": [
    "reformat_data_DNC_0 = reformat_data.loc[reformat_data['DNC_'] == 0.0]\n",
    "print (\"reformat_data_DNC_0.shape:\" + str(reformat_data_DNC_0.shape))\n",
    "\n",
    "reformat_data_DNC_0.to_csv(output_file_name,index=False)"
   ]
  },
  {
   "cell_type": "code",
   "execution_count": null,
   "metadata": {},
   "outputs": [],
   "source": [
    "'''\n",
    "nan_count = 0\n",
    "zero_count = 0\n",
    "one_count = 0\n",
    "for (columnName, columnData) in reformat_data.iteritems(): \n",
    "    if (columnName == \"chemical.id\") or (columnName == \"plate.id\") or (columnName == \"well\") or (columnName == \"chemical_plate_well\") or (columnName == \"conc\"):\n",
    "        continue\n",
    "#    print('Colunm Name : ', columnName) \n",
    "#    print('Column Contents : ', columnData.values[i])\n",
    "#    print (len(columnData.values))\n",
    "    for i in range(len(columnData.values)):\n",
    "        if (str(columnData.values[i]) == \"nan\"):\n",
    "            nan_count += 1\n",
    "        elif (str(columnData.values[i]) == \"0.0\"):\n",
    "            zero_count += 1\n",
    "        elif (str(columnData.values[i]) == \"1.0\"):\n",
    "            one_count += 1\n",
    "#        print('Column Contents : ', columnData.values[i])\n",
    "print (\"nan_count:\" + str(nan_count))\n",
    "print (\"zero_count:\" + str(zero_count))\n",
    "print (\"one_count:\" + str(one_count))\n",
    "'''"
   ]
  },
  {
   "cell_type": "code",
   "execution_count": null,
   "metadata": {},
   "outputs": [],
   "source": [
    "pd.set_option('display.max_columns', None)"
   ]
  },
  {
   "cell_type": "code",
   "execution_count": null,
   "metadata": {},
   "outputs": [],
   "source": [
    "len(np.unique(reformat_data['chemical.id']))"
   ]
  },
  {
   "cell_type": "code",
   "execution_count": null,
   "metadata": {},
   "outputs": [],
   "source": []
  }
 ],
 "metadata": {
  "kernelspec": {
   "display_name": "Python 3",
   "language": "python",
   "name": "python3"
  },
  "language_info": {
   "codemirror_mode": {
    "name": "ipython",
    "version": 3
   },
   "file_extension": ".py",
   "mimetype": "text/x-python",
   "name": "python",
   "nbconvert_exporter": "python",
   "pygments_lexer": "ipython3",
   "version": "3.7.8"
  }
 },
 "nbformat": 4,
 "nbformat_minor": 4
}
