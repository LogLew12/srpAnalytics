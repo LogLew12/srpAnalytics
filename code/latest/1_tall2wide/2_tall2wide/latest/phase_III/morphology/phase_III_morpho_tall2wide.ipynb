{
 "cells": [
  {
   "cell_type": "code",
   "execution_count": 4,
   "metadata": {},
   "outputs": [],
   "source": [
    "# data: phase III - morpho - full (all endpoints)\n",
    "# Goal: Reformat data (tall2wide, even when there is duplicate)\n",
    "\n",
    "import numpy as np\n",
    "import pandas as pd\n",
    "import matplotlib.pyplot as plt\n",
    "import seaborn as sns\n",
    "import os, time"
   ]
  },
  {
   "cell_type": "code",
   "execution_count": 5,
   "metadata": {},
   "outputs": [
    {
     "name": "stdout",
     "output_type": "stream",
     "text": [
      "starting_dir:/Users/kimd999/research/script_not_in_dropbox/srpAnalytics/code/latest/1_tall2wide/2_tall2wide/latest/phase_III/morphology\n"
     ]
    }
   ],
   "source": [
    "starting_dir = os.getcwd()\n",
    "print (\"starting_dir:\" + str(starting_dir))\n",
    "\n",
    "# very original data from Oregon state\n",
    "complete_file_path = '/Users/kimd999/research/projects/toxicity/per_each_data/phase_III/input/morpho/original/Tanguay_Phase_3_zf_morphology_data_PNNL_2021MAR23.csv'\n",
    "\n",
    "morph_all_data = pd.read_csv(complete_file_path, header = 0)\n",
    "pd.set_option('display.max_columns', None)"
   ]
  },
  {
   "cell_type": "code",
   "execution_count": 6,
   "metadata": {},
   "outputs": [
    {
     "data": {
      "text/html": [
       "<div>\n",
       "<style scoped>\n",
       "    .dataframe tbody tr th:only-of-type {\n",
       "        vertical-align: middle;\n",
       "    }\n",
       "\n",
       "    .dataframe tbody tr th {\n",
       "        vertical-align: top;\n",
       "    }\n",
       "\n",
       "    .dataframe thead th {\n",
       "        text-align: right;\n",
       "    }\n",
       "</style>\n",
       "<table border=\"1\" class=\"dataframe\">\n",
       "  <thead>\n",
       "    <tr style=\"text-align: right;\">\n",
       "      <th></th>\n",
       "      <th>chemical.id</th>\n",
       "      <th>bottle.id</th>\n",
       "      <th>conc</th>\n",
       "      <th>plate.id</th>\n",
       "      <th>well</th>\n",
       "      <th>date</th>\n",
       "      <th>endpoint</th>\n",
       "      <th>value</th>\n",
       "    </tr>\n",
       "  </thead>\n",
       "  <tbody>\n",
       "    <tr>\n",
       "      <th>0</th>\n",
       "      <td>234</td>\n",
       "      <td>NTP DNT 91-A1</td>\n",
       "      <td>0.0</td>\n",
       "      <td>14389</td>\n",
       "      <td>H01</td>\n",
       "      <td>20161122</td>\n",
       "      <td>MO24</td>\n",
       "      <td>0.0</td>\n",
       "    </tr>\n",
       "    <tr>\n",
       "      <th>1</th>\n",
       "      <td>234</td>\n",
       "      <td>NTP DNT 91-A1</td>\n",
       "      <td>0.0</td>\n",
       "      <td>14389</td>\n",
       "      <td>H02</td>\n",
       "      <td>20161122</td>\n",
       "      <td>MO24</td>\n",
       "      <td>0.0</td>\n",
       "    </tr>\n",
       "    <tr>\n",
       "      <th>2</th>\n",
       "      <td>234</td>\n",
       "      <td>NTP DNT 91-A1</td>\n",
       "      <td>0.0</td>\n",
       "      <td>14389</td>\n",
       "      <td>H03</td>\n",
       "      <td>20161122</td>\n",
       "      <td>MO24</td>\n",
       "      <td>0.0</td>\n",
       "    </tr>\n",
       "    <tr>\n",
       "      <th>3</th>\n",
       "      <td>234</td>\n",
       "      <td>NTP DNT 91-A1</td>\n",
       "      <td>0.0</td>\n",
       "      <td>14389</td>\n",
       "      <td>H04</td>\n",
       "      <td>20161122</td>\n",
       "      <td>MO24</td>\n",
       "      <td>0.0</td>\n",
       "    </tr>\n",
       "    <tr>\n",
       "      <th>4</th>\n",
       "      <td>234</td>\n",
       "      <td>NTP DNT 91-A1</td>\n",
       "      <td>0.0</td>\n",
       "      <td>14389</td>\n",
       "      <td>H05</td>\n",
       "      <td>20161122</td>\n",
       "      <td>MO24</td>\n",
       "      <td>0.0</td>\n",
       "    </tr>\n",
       "  </tbody>\n",
       "</table>\n",
       "</div>"
      ],
      "text/plain": [
       "   chemical.id      bottle.id  conc  plate.id well      date endpoint  value\n",
       "0          234  NTP DNT 91-A1   0.0     14389  H01  20161122     MO24    0.0\n",
       "1          234  NTP DNT 91-A1   0.0     14389  H02  20161122     MO24    0.0\n",
       "2          234  NTP DNT 91-A1   0.0     14389  H03  20161122     MO24    0.0\n",
       "3          234  NTP DNT 91-A1   0.0     14389  H04  20161122     MO24    0.0\n",
       "4          234  NTP DNT 91-A1   0.0     14389  H05  20161122     MO24    0.0"
      ]
     },
     "metadata": {},
     "output_type": "display_data"
    },
    {
     "data": {
      "text/html": [
       "<div>\n",
       "<style scoped>\n",
       "    .dataframe tbody tr th:only-of-type {\n",
       "        vertical-align: middle;\n",
       "    }\n",
       "\n",
       "    .dataframe tbody tr th {\n",
       "        vertical-align: top;\n",
       "    }\n",
       "\n",
       "    .dataframe thead th {\n",
       "        text-align: right;\n",
       "    }\n",
       "</style>\n",
       "<table border=\"1\" class=\"dataframe\">\n",
       "  <thead>\n",
       "    <tr style=\"text-align: right;\">\n",
       "      <th></th>\n",
       "      <th>chemical.id</th>\n",
       "      <th>bottle.id</th>\n",
       "      <th>conc</th>\n",
       "      <th>plate.id</th>\n",
       "      <th>well</th>\n",
       "      <th>date</th>\n",
       "      <th>endpoint</th>\n",
       "      <th>value</th>\n",
       "    </tr>\n",
       "  </thead>\n",
       "  <tbody>\n",
       "    <tr>\n",
       "      <th>1203527</th>\n",
       "      <td>4375</td>\n",
       "      <td>C926563</td>\n",
       "      <td>100.0</td>\n",
       "      <td>22712</td>\n",
       "      <td>D01</td>\n",
       "      <td>20210226</td>\n",
       "      <td>DNC_</td>\n",
       "      <td>0.0</td>\n",
       "    </tr>\n",
       "    <tr>\n",
       "      <th>1203528</th>\n",
       "      <td>4375</td>\n",
       "      <td>C926563</td>\n",
       "      <td>100.0</td>\n",
       "      <td>22712</td>\n",
       "      <td>E01</td>\n",
       "      <td>20210226</td>\n",
       "      <td>DNC_</td>\n",
       "      <td>0.0</td>\n",
       "    </tr>\n",
       "    <tr>\n",
       "      <th>1203529</th>\n",
       "      <td>4375</td>\n",
       "      <td>C926563</td>\n",
       "      <td>100.0</td>\n",
       "      <td>22712</td>\n",
       "      <td>F01</td>\n",
       "      <td>20210226</td>\n",
       "      <td>DNC_</td>\n",
       "      <td>0.0</td>\n",
       "    </tr>\n",
       "    <tr>\n",
       "      <th>1203530</th>\n",
       "      <td>4375</td>\n",
       "      <td>C926563</td>\n",
       "      <td>100.0</td>\n",
       "      <td>22712</td>\n",
       "      <td>G01</td>\n",
       "      <td>20210226</td>\n",
       "      <td>DNC_</td>\n",
       "      <td>0.0</td>\n",
       "    </tr>\n",
       "    <tr>\n",
       "      <th>1203531</th>\n",
       "      <td>4375</td>\n",
       "      <td>C926563</td>\n",
       "      <td>100.0</td>\n",
       "      <td>22712</td>\n",
       "      <td>H01</td>\n",
       "      <td>20210226</td>\n",
       "      <td>DNC_</td>\n",
       "      <td>0.0</td>\n",
       "    </tr>\n",
       "  </tbody>\n",
       "</table>\n",
       "</div>"
      ],
      "text/plain": [
       "         chemical.id bottle.id   conc  plate.id well      date endpoint  value\n",
       "1203527         4375   C926563  100.0     22712  D01  20210226     DNC_    0.0\n",
       "1203528         4375   C926563  100.0     22712  E01  20210226     DNC_    0.0\n",
       "1203529         4375   C926563  100.0     22712  F01  20210226     DNC_    0.0\n",
       "1203530         4375   C926563  100.0     22712  G01  20210226     DNC_    0.0\n",
       "1203531         4375   C926563  100.0     22712  H01  20210226     DNC_    0.0"
      ]
     },
     "metadata": {},
     "output_type": "display_data"
    }
   ],
   "source": [
    "display(morph_all_data.head())\n",
    "display(morph_all_data.tail())"
   ]
  },
  {
   "cell_type": "code",
   "execution_count": 7,
   "metadata": {},
   "outputs": [
    {
     "data": {
      "text/plain": [
       "26572"
      ]
     },
     "metadata": {},
     "output_type": "display_data"
    },
    {
     "data": {
      "text/plain": [
       "1037188"
      ]
     },
     "metadata": {},
     "output_type": "display_data"
    },
    {
     "data": {
      "text/plain": [
       "139772"
      ]
     },
     "metadata": {},
     "output_type": "display_data"
    },
    {
     "data": {
      "text/plain": [
       "(1203532, 8)"
      ]
     },
     "metadata": {},
     "output_type": "display_data"
    }
   ],
   "source": [
    "display(np.sum(morph_all_data['value'] == 1))\n",
    "display(np.sum(morph_all_data['value'] == 0))\n",
    "display(np.sum(np.isnan(morph_all_data['value'])))\n",
    "display(morph_all_data.shape)"
   ]
  },
  {
   "cell_type": "code",
   "execution_count": 8,
   "metadata": {},
   "outputs": [
    {
     "data": {
      "text/html": [
       "<div>\n",
       "<style scoped>\n",
       "    .dataframe tbody tr th:only-of-type {\n",
       "        vertical-align: middle;\n",
       "    }\n",
       "\n",
       "    .dataframe tbody tr th {\n",
       "        vertical-align: top;\n",
       "    }\n",
       "\n",
       "    .dataframe thead th {\n",
       "        text-align: right;\n",
       "    }\n",
       "</style>\n",
       "<table border=\"1\" class=\"dataframe\">\n",
       "  <thead>\n",
       "    <tr style=\"text-align: right;\">\n",
       "      <th></th>\n",
       "      <th>chemical.id</th>\n",
       "      <th>conc</th>\n",
       "      <th>bottle.id</th>\n",
       "      <th>plate.id</th>\n",
       "      <th>well</th>\n",
       "      <th>endpoint</th>\n",
       "      <th>value</th>\n",
       "    </tr>\n",
       "  </thead>\n",
       "  <tbody>\n",
       "    <tr>\n",
       "      <th>0</th>\n",
       "      <td>234</td>\n",
       "      <td>0.0</td>\n",
       "      <td>NTP DNT 91-A1</td>\n",
       "      <td>14389</td>\n",
       "      <td>H01</td>\n",
       "      <td>MO24</td>\n",
       "      <td>0.0</td>\n",
       "    </tr>\n",
       "    <tr>\n",
       "      <th>1</th>\n",
       "      <td>234</td>\n",
       "      <td>0.0</td>\n",
       "      <td>NTP DNT 91-A1</td>\n",
       "      <td>14389</td>\n",
       "      <td>H02</td>\n",
       "      <td>MO24</td>\n",
       "      <td>0.0</td>\n",
       "    </tr>\n",
       "    <tr>\n",
       "      <th>2</th>\n",
       "      <td>234</td>\n",
       "      <td>0.0</td>\n",
       "      <td>NTP DNT 91-A1</td>\n",
       "      <td>14389</td>\n",
       "      <td>H03</td>\n",
       "      <td>MO24</td>\n",
       "      <td>0.0</td>\n",
       "    </tr>\n",
       "    <tr>\n",
       "      <th>3</th>\n",
       "      <td>234</td>\n",
       "      <td>0.0</td>\n",
       "      <td>NTP DNT 91-A1</td>\n",
       "      <td>14389</td>\n",
       "      <td>H04</td>\n",
       "      <td>MO24</td>\n",
       "      <td>0.0</td>\n",
       "    </tr>\n",
       "    <tr>\n",
       "      <th>4</th>\n",
       "      <td>234</td>\n",
       "      <td>0.0</td>\n",
       "      <td>NTP DNT 91-A1</td>\n",
       "      <td>14389</td>\n",
       "      <td>H05</td>\n",
       "      <td>MO24</td>\n",
       "      <td>0.0</td>\n",
       "    </tr>\n",
       "  </tbody>\n",
       "</table>\n",
       "</div>"
      ],
      "text/plain": [
       "   chemical.id  conc      bottle.id  plate.id well endpoint  value\n",
       "0          234   0.0  NTP DNT 91-A1     14389  H01     MO24    0.0\n",
       "1          234   0.0  NTP DNT 91-A1     14389  H02     MO24    0.0\n",
       "2          234   0.0  NTP DNT 91-A1     14389  H03     MO24    0.0\n",
       "3          234   0.0  NTP DNT 91-A1     14389  H04     MO24    0.0\n",
       "4          234   0.0  NTP DNT 91-A1     14389  H05     MO24    0.0"
      ]
     },
     "execution_count": 8,
     "metadata": {},
     "output_type": "execute_result"
    }
   ],
   "source": [
    "# Keep only relevant columns\n",
    "columns_to_keep = ['chemical.id', 'conc', 'bottle.id', 'plate.id', 'well', 'endpoint', 'value'] \n",
    "# 'bottle.id' is added since Lisa wants to use it to join with behavioral data\n",
    "\n",
    "morph_all_data_select = morph_all_data.loc[:,columns_to_keep]\n",
    "morph_all_data_select.head()"
   ]
  },
  {
   "cell_type": "code",
   "execution_count": 11,
   "metadata": {},
   "outputs": [
    {
     "name": "stdout",
     "output_type": "stream",
     "text": [
      "len(morph_all_data_select):                          1203532\n",
      "after removing duplicate, len(morph_all_data_select):1203532\n"
     ]
    }
   ],
   "source": [
    "print (\"len(morph_all_data_select):                          \" + str(len(morph_all_data_select)))\n",
    "morph_all_data_select = morph_all_data_select.drop_duplicates()\n",
    "print (\"after removing duplicate, len(morph_all_data_select):\" + str(len(morph_all_data_select)))"
   ]
  },
  {
   "cell_type": "code",
   "execution_count": null,
   "metadata": {},
   "outputs": [],
   "source": [
    "start_time = time.time()\n",
    "\n",
    "reformat_data = pd.DataFrame()\n",
    "total_number_of_unique_chemicals = 0\n",
    "total_number_of_chemical_plate_well = 0\n",
    "for chemical_index in np.unique(morph_all_data['chemical.id']):\n",
    "    \n",
    "    total_number_of_unique_chemicals += 1\n",
    "#    if (chemical_index != 746) and (chemical_index != 1171):\n",
    " #       continue\n",
    "    print(\"\\nchemical_index:\" + str(chemical_index))        \n",
    "    \n",
    "    morph_data_chemical = morph_all_data_select.loc[morph_all_data['chemical.id'] == chemical_index,:]\n",
    "    #    print (\"\\ntotal_number_of_unique_chemicals:\" + str(total_number_of_unique_chemicals))\n",
    "\n",
    "    # Append chemical_plate_well as a unique identifier\n",
    "    morph_data_chemical.insert(0, 'chemical_plate_well', morph_data_chemical.loc[:,['chemical.id','plate.id', 'well']].apply(lambda x: '_'.join(x.map(str)), axis = 1))\n",
    "\n",
    "    #print (\"len(morph_data_chemical.chemical_plate_well):\" + str(len(morph_data_chemical.chemical_plate_well)))    \n",
    "    for cpw in np.unique(morph_data_chemical.chemical_plate_well):\n",
    "        total_number_of_chemical_plate_well += 1\n",
    "        temp_df = morph_data_chemical.loc[morph_data_chemical.chemical_plate_well == cpw,:]\n",
    "        temp_df_grouped = temp_df.groupby(['chemical.id', 'plate.id', 'well'])\n",
    "        #print (\"temp_df_grouped:\" + str(temp_df_grouped)) #<pandas.core.groupby.generic.DataFrameGroupBy object at 0x1292f0190>\n",
    "\n",
    "        for name, group in temp_df_grouped:\n",
    "#            if(len(group.endpoint) == 23):\n",
    "                try:\n",
    "                    temp = pd.DataFrame(\n",
    "                        {\n",
    "                        'chemical.id': np.unique(temp_df['chemical.id']),\n",
    "                        'plate.id': np.unique(temp_df['plate.id']),\n",
    "                        'well': np.unique(temp_df['well']),\n",
    "                        'chemical_plate_well': np.unique(temp_df['chemical_plate_well']),\n",
    "                        'conc': np.unique(temp_df['conc']),\n",
    "                        'AXIS': temp_df.value[temp_df.endpoint == 'AXIS'].values,\n",
    "                        'BRAI': temp_df.value[temp_df.endpoint == 'BRAI'].values,\n",
    "                        'CFIN': temp_df.value[temp_df.endpoint == 'CFIN'].values,\n",
    "                        'CIRC': temp_df.value[temp_df.endpoint == 'CIRC'].values,\n",
    "                        'DNC_': temp_df.value[temp_df.endpoint == 'DNC_'].values,\n",
    "                        'DP24': temp_df.value[temp_df.endpoint == 'DP24'].values,\n",
    "                        'EYE_': temp_df.value[temp_df.endpoint == 'EYE_'].values,\n",
    "                        'JAW_': temp_df.value[temp_df.endpoint == 'JAW_'].values,\n",
    "                        'MO24': temp_df.value[temp_df.endpoint == 'MO24'].values,\n",
    "                        'MORT': temp_df.value[temp_df.endpoint == 'MORT'].values,\n",
    "                        'NC24': temp_df.value[temp_df.endpoint == 'NC24'].values,\n",
    "                        'NC__': temp_df.value[temp_df.endpoint == 'NC__'].values,\n",
    "                        'OTIC': temp_df.value[temp_df.endpoint == 'OTIC'].values,\n",
    "                        'PE__': temp_df.value[temp_df.endpoint == 'PE__'].values,\n",
    "                        'PFIN': temp_df.value[temp_df.endpoint == 'PFIN'].values,\n",
    "                        'PIG_': temp_df.value[temp_df.endpoint == 'PIG_'].values,\n",
    "                        'SM24': temp_df.value[temp_df.endpoint == 'SM24'].values,\n",
    "                        'SNOU': temp_df.value[temp_df.endpoint == 'SNOU'].values,\n",
    "                        'SOMI': temp_df.value[temp_df.endpoint == 'SOMI'].values,\n",
    "                        'SWIM': temp_df.value[temp_df.endpoint == 'SWIM'].values,\n",
    "                        'TRUN': temp_df.value[temp_df.endpoint == 'TRUN'].values,\n",
    "                        'TR__': temp_df.value[temp_df.endpoint == 'TR__'].values,\n",
    "                        'YSE_': temp_df.value[temp_df.endpoint == 'YSE_'].values,\n",
    "                        }\n",
    "                    )\n",
    "                    reformat_data = pd.concat([reformat_data, temp])\n",
    "                except:\n",
    "                    print (\"typical processing didn't work\")\n",
    "                    #print (\"len(group.endpoint):\" + str(len(group.endpoint)))\n",
    "                    #print (\"chemical_plate_well:\" + str(cpw))\n",
    "\n",
    "                    \n",
    "print (\"\\ntotal_number_of_unique_chemicals:\" + str(total_number_of_unique_chemicals))\n",
    "print (\"total_number_of_chemical_plate_well:\" + str(total_number_of_chemical_plate_well))\n",
    "\n",
    "\n",
    "######### automatically fix small manual mistakes ##########\n",
    "reformat_data.loc[(reformat_data['chemical.id'] == 746) \\\n",
    "                & (reformat_data['plate.id'] == 12953) \\\n",
    "                & (reformat_data['well'] == \"E03\"), 'MORT'] = 0\n",
    "\n",
    "reformat_data.loc[(reformat_data['chemical.id'] == 1171) \\\n",
    "                & (reformat_data['plate.id'] == 15205) \\\n",
    "                & (reformat_data['well'] == \"D02\"), 'MORT'] = 0\n",
    "\n",
    "end_time = time.time()\n",
    "time_took = str(round((end_time-start_time), 1)) + \" seconds\"\n",
    "print (\"Done, it took:\"+str(time_took)) # took 13 minutes for 344 chemicals"
   ]
  },
  {
   "cell_type": "code",
   "execution_count": 39,
   "metadata": {},
   "outputs": [
    {
     "name": "stdout",
     "output_type": "stream",
     "text": [
      "   chemical.id plate.id well chemical_plate_well  conc  AXIS  BRAI  CFIN  \\\n",
      "0           53     9289  A01         53_9289_A01  50.0   NaN   NaN   NaN   \n",
      "0           53     9289  A02         53_9289_A02  35.6   0.0   0.0   0.0   \n",
      "0           53     9289  A03         53_9289_A03  11.2   0.0   0.0   0.0   \n",
      "0           53     9289  A04         53_9289_A04   5.0   1.0   0.0   0.0   \n",
      "0           53     9289  A05         53_9289_A05   1.0   0.0   0.0   0.0   \n",
      "\n",
      "   CIRC  DNC_  DP24  EYE_  JAW_  MO24  MORT  NC24  NC__  OTIC  PE__  PFIN  \\\n",
      "0   NaN   0.0   0.0   NaN   NaN   0.0   1.0   0.0   NaN   NaN   NaN   NaN   \n",
      "0   0.0   0.0   0.0   0.0   0.0   0.0   0.0   0.0   0.0   0.0   0.0   0.0   \n",
      "0   0.0   0.0   0.0   0.0   0.0   0.0   0.0   0.0   0.0   0.0   0.0   0.0   \n",
      "0   0.0   0.0   1.0   0.0   0.0   0.0   0.0   0.0   0.0   0.0   1.0   1.0   \n",
      "0   0.0   0.0   0.0   0.0   0.0   0.0   0.0   0.0   0.0   0.0   0.0   0.0   \n",
      "\n",
      "   PIG_  SM24  SNOU  SOMI  SWIM  TRUN  TR__  YSE_  \n",
      "0   NaN   0.0   NaN   NaN   NaN   NaN   NaN   NaN  \n",
      "0   0.0   0.0   0.0   0.0   0.0   0.0   0.0   0.0  \n",
      "0   0.0   0.0   0.0   0.0   0.0   0.0   0.0   0.0  \n",
      "0   0.0   0.0   0.0   0.0   0.0   0.0   0.0   1.0  \n",
      "0   0.0   0.0   0.0   0.0   0.0   0.0   0.0   0.0  \n",
      "reformat_data.shape:(43648, 28)\n"
     ]
    }
   ],
   "source": [
    "print (reformat_data.head())\n",
    "print (\"reformat_data.shape:\" + str(reformat_data.shape))"
   ]
  },
  {
   "cell_type": "code",
   "execution_count": 40,
   "metadata": {},
   "outputs": [
    {
     "name": "stdout",
     "output_type": "stream",
     "text": [
      "reformat_data_DNC_0.shape:(43483, 28)\n"
     ]
    }
   ],
   "source": [
    "reformat_data_DNC_0 = pd.DataFrame()\n",
    "reformat_data_DNC_0 = reformat_data.loc[reformat_data['DNC_'] == 0.0]\n",
    "print (\"reformat_data_DNC_0.shape:\" + str(reformat_data_DNC_0.shape))"
   ]
  },
  {
   "cell_type": "code",
   "execution_count": 41,
   "metadata": {},
   "outputs": [
    {
     "name": "stdout",
     "output_type": "stream",
     "text": [
      "reformat_data_DNC_empty.shape:(0, 28)\n"
     ]
    }
   ],
   "source": [
    "reformat_data_DNC_empty = pd.DataFrame()\n",
    "reformat_data_DNC_empty = reformat_data.loc[reformat_data['DNC_'] == '']\n",
    "print (\"reformat_data_DNC_empty.shape:\" + str(reformat_data_DNC_empty.shape))"
   ]
  },
  {
   "cell_type": "code",
   "execution_count": 42,
   "metadata": {},
   "outputs": [
    {
     "name": "stdout",
     "output_type": "stream",
     "text": [
      "nan_count:153370\n",
      "zero_count:822239\n",
      "one_count:28295\n",
      "total_count:1003904\n"
     ]
    }
   ],
   "source": [
    "#'''\n",
    "nan_count = 0\n",
    "zero_count = 0\n",
    "one_count = 0\n",
    "total_count = 0\n",
    "for (columnName, columnData) in reformat_data.iteritems(): \n",
    "    if (columnName == \"chemical.id\") or (columnName == \"plate.id\") or (columnName == \"well\") or (columnName == \"chemical_plate_well\") or (columnName == \"conc\"):\n",
    "        continue\n",
    "#    print('Colunm Name : ', columnName) \n",
    "#    print('Column Contents : ', columnData.values[i])\n",
    "#    print (len(columnData.values))\n",
    "    for i in range(len(columnData.values)):\n",
    "        total_count += 1\n",
    "        if (str(columnData.values[i]) == \"nan\"):\n",
    "            nan_count += 1\n",
    "        elif (str(columnData.values[i]) == \"0.0\"):\n",
    "            zero_count += 1\n",
    "        elif (str(columnData.values[i]) == \"1.0\"):\n",
    "            one_count += 1\n",
    "#        print('Column Contents : ', columnData.values[i])\n",
    "print (\"nan_count:\" + str(nan_count))\n",
    "print (\"zero_count:\" + str(zero_count))\n",
    "print (\"one_count:\" + str(one_count))\n",
    "print (\"total_count:\" + str(total_count))\n",
    "#'''"
   ]
  },
  {
   "cell_type": "code",
   "execution_count": 18,
   "metadata": {},
   "outputs": [],
   "source": [
    "#pd.set_option('display.max_columns', None)"
   ]
  },
  {
   "cell_type": "code",
   "execution_count": 43,
   "metadata": {},
   "outputs": [],
   "source": [
    "#reformat_data.to_csv('344_zf_morphology_data_phase_1_and_2_-_2020JUNE25_wide_DNC_all.csv',index=False)\n",
    "\n",
    "output_complete_file_path = complete_file_path[:-4] + \"_wide_DNC_0.csv\"\n",
    "reformat_data_DNC_0.to_csv(output_complete_file_path,index=False)\n",
    "\n",
    "#reformat_data_DNC_empty.to_csv('344_zf_morphology_data_phase_1_and_2_-_2020JUNE25_wide_DNC_empty.csv',index=False)"
   ]
  },
  {
   "cell_type": "code",
   "execution_count": 20,
   "metadata": {},
   "outputs": [],
   "source": [
    "#len(np.unique(reformat_data['chemical.id']))"
   ]
  },
  {
   "cell_type": "code",
   "execution_count": 29,
   "metadata": {},
   "outputs": [],
   "source": [
    "#display(reformat_data)"
   ]
  },
  {
   "cell_type": "code",
   "execution_count": 30,
   "metadata": {},
   "outputs": [],
   "source": [
    "#reformat_data.to_csv('Phase_I_II_t0_t239_LPR.csv',index=False)"
   ]
  },
  {
   "cell_type": "code",
   "execution_count": 31,
   "metadata": {},
   "outputs": [],
   "source": [
    "#len(np.unique(reformat_data['chemical.id']))"
   ]
  },
  {
   "cell_type": "code",
   "execution_count": null,
   "metadata": {},
   "outputs": [],
   "source": []
  }
 ],
 "metadata": {
  "kernelspec": {
   "display_name": "Python 3",
   "language": "python",
   "name": "python3"
  },
  "language_info": {
   "codemirror_mode": {
    "name": "ipython",
    "version": 3
   },
   "file_extension": ".py",
   "mimetype": "text/x-python",
   "name": "python",
   "nbconvert_exporter": "python",
   "pygments_lexer": "ipython3",
   "version": "3.7.8"
  }
 },
 "nbformat": 4,
 "nbformat_minor": 4
}
