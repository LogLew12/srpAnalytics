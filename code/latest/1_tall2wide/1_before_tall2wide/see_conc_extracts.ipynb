{
 "cells": [
  {
   "cell_type": "code",
   "execution_count": 1,
   "metadata": {},
   "outputs": [],
   "source": [
    "import numpy as np\n",
    "import pandas as pd\n",
    "import matplotlib.pyplot as plt\n",
    "import os, random, shutil, time\n",
    "import seaborn as sns\n",
    "\n",
    "import warnings\n",
    "warnings.filterwarnings('ignore')\n",
    "\n",
    "import sys\n",
    "\n",
    "from datetime import datetime"
   ]
  },
  {
   "cell_type": "code",
   "execution_count": 2,
   "metadata": {},
   "outputs": [
    {
     "name": "stdout",
     "output_type": "stream",
     "text": [
      "/Users/kimd999/Dropbox/script/python/srpAnalytics/code/latest/1_tall2wide/1_before_tall2wide\n"
     ]
    }
   ],
   "source": [
    "starting_dir = os.getcwd()\n",
    "print (starting_dir)"
   ]
  },
  {
   "cell_type": "code",
   "execution_count": 25,
   "metadata": {},
   "outputs": [
    {
     "data": {
      "text/html": [
       "<div>\n",
       "<style scoped>\n",
       "    .dataframe tbody tr th:only-of-type {\n",
       "        vertical-align: middle;\n",
       "    }\n",
       "\n",
       "    .dataframe tbody tr th {\n",
       "        vertical-align: top;\n",
       "    }\n",
       "\n",
       "    .dataframe thead th {\n",
       "        text-align: right;\n",
       "    }\n",
       "</style>\n",
       "<table border=\"1\" class=\"dataframe\">\n",
       "  <thead>\n",
       "    <tr style=\"text-align: right;\">\n",
       "      <th></th>\n",
       "      <th>chemical.id</th>\n",
       "      <th>bottle.id</th>\n",
       "      <th>conc</th>\n",
       "      <th>plate.id</th>\n",
       "      <th>well</th>\n",
       "      <th>date</th>\n",
       "      <th>endpoint</th>\n",
       "      <th>value</th>\n",
       "    </tr>\n",
       "  </thead>\n",
       "  <tbody>\n",
       "    <tr>\n",
       "      <th>0</th>\n",
       "      <td>101</td>\n",
       "      <td>C51699</td>\n",
       "      <td>0.0</td>\n",
       "      <td>10021</td>\n",
       "      <td>A06</td>\n",
       "      <td>20151113</td>\n",
       "      <td>MO24</td>\n",
       "      <td>0.0</td>\n",
       "    </tr>\n",
       "    <tr>\n",
       "      <th>1</th>\n",
       "      <td>101</td>\n",
       "      <td>C51699</td>\n",
       "      <td>0.0</td>\n",
       "      <td>10021</td>\n",
       "      <td>B06</td>\n",
       "      <td>20151113</td>\n",
       "      <td>MO24</td>\n",
       "      <td>0.0</td>\n",
       "    </tr>\n",
       "    <tr>\n",
       "      <th>2</th>\n",
       "      <td>101</td>\n",
       "      <td>C51699</td>\n",
       "      <td>0.0</td>\n",
       "      <td>10021</td>\n",
       "      <td>C06</td>\n",
       "      <td>20151113</td>\n",
       "      <td>MO24</td>\n",
       "      <td>0.0</td>\n",
       "    </tr>\n",
       "    <tr>\n",
       "      <th>3</th>\n",
       "      <td>101</td>\n",
       "      <td>C51699</td>\n",
       "      <td>0.0</td>\n",
       "      <td>10021</td>\n",
       "      <td>D06</td>\n",
       "      <td>20151113</td>\n",
       "      <td>MO24</td>\n",
       "      <td>1.0</td>\n",
       "    </tr>\n",
       "    <tr>\n",
       "      <th>4</th>\n",
       "      <td>101</td>\n",
       "      <td>C51699</td>\n",
       "      <td>0.0</td>\n",
       "      <td>10021</td>\n",
       "      <td>E06</td>\n",
       "      <td>20151113</td>\n",
       "      <td>MO24</td>\n",
       "      <td>0.0</td>\n",
       "    </tr>\n",
       "  </tbody>\n",
       "</table>\n",
       "</div>"
      ],
      "text/plain": [
       "   chemical.id bottle.id  conc plate.id well      date endpoint  value\n",
       "0          101    C51699   0.0    10021  A06  20151113     MO24    0.0\n",
       "1          101    C51699   0.0    10021  B06  20151113     MO24    0.0\n",
       "2          101    C51699   0.0    10021  C06  20151113     MO24    0.0\n",
       "3          101    C51699   0.0    10021  D06  20151113     MO24    1.0\n",
       "4          101    C51699   0.0    10021  E06  20151113     MO24    0.0"
      ]
     },
     "metadata": {},
     "output_type": "display_data"
    },
    {
     "data": {
      "text/html": [
       "<div>\n",
       "<style scoped>\n",
       "    .dataframe tbody tr th:only-of-type {\n",
       "        vertical-align: middle;\n",
       "    }\n",
       "\n",
       "    .dataframe tbody tr th {\n",
       "        vertical-align: top;\n",
       "    }\n",
       "\n",
       "    .dataframe thead th {\n",
       "        text-align: right;\n",
       "    }\n",
       "</style>\n",
       "<table border=\"1\" class=\"dataframe\">\n",
       "  <thead>\n",
       "    <tr style=\"text-align: right;\">\n",
       "      <th></th>\n",
       "      <th>chemical.id</th>\n",
       "      <th>bottle.id</th>\n",
       "      <th>conc</th>\n",
       "      <th>plate.id</th>\n",
       "      <th>well</th>\n",
       "      <th>date</th>\n",
       "      <th>endpoint</th>\n",
       "      <th>value</th>\n",
       "    </tr>\n",
       "  </thead>\n",
       "  <tbody>\n",
       "    <tr>\n",
       "      <th>570234</th>\n",
       "      <td>3334</td>\n",
       "      <td>C295432</td>\n",
       "      <td>0.01</td>\n",
       "      <td>16889</td>\n",
       "      <td>D08</td>\n",
       "      <td>20180302</td>\n",
       "      <td>DNC_</td>\n",
       "      <td>0.0</td>\n",
       "    </tr>\n",
       "    <tr>\n",
       "      <th>570235</th>\n",
       "      <td>3334</td>\n",
       "      <td>C295432</td>\n",
       "      <td>0.01</td>\n",
       "      <td>16889</td>\n",
       "      <td>E08</td>\n",
       "      <td>20180302</td>\n",
       "      <td>DNC_</td>\n",
       "      <td>0.0</td>\n",
       "    </tr>\n",
       "    <tr>\n",
       "      <th>570236</th>\n",
       "      <td>3334</td>\n",
       "      <td>C295432</td>\n",
       "      <td>0.01</td>\n",
       "      <td>16889</td>\n",
       "      <td>F08</td>\n",
       "      <td>20180302</td>\n",
       "      <td>DNC_</td>\n",
       "      <td>0.0</td>\n",
       "    </tr>\n",
       "    <tr>\n",
       "      <th>570237</th>\n",
       "      <td>3334</td>\n",
       "      <td>C295432</td>\n",
       "      <td>0.01</td>\n",
       "      <td>16889</td>\n",
       "      <td>G08</td>\n",
       "      <td>20180302</td>\n",
       "      <td>DNC_</td>\n",
       "      <td>0.0</td>\n",
       "    </tr>\n",
       "    <tr>\n",
       "      <th>570238</th>\n",
       "      <td>3334</td>\n",
       "      <td>C295432</td>\n",
       "      <td>0.01</td>\n",
       "      <td>16889</td>\n",
       "      <td>H08</td>\n",
       "      <td>20180302</td>\n",
       "      <td>DNC_</td>\n",
       "      <td>0.0</td>\n",
       "    </tr>\n",
       "  </tbody>\n",
       "</table>\n",
       "</div>"
      ],
      "text/plain": [
       "        chemical.id bottle.id  conc plate.id well      date endpoint  value\n",
       "570234         3334   C295432  0.01    16889  D08  20180302     DNC_    0.0\n",
       "570235         3334   C295432  0.01    16889  E08  20180302     DNC_    0.0\n",
       "570236         3334   C295432  0.01    16889  F08  20180302     DNC_    0.0\n",
       "570237         3334   C295432  0.01    16889  G08  20180302     DNC_    0.0\n",
       "570238         3334   C295432  0.01    16889  H08  20180302     DNC_    0.0"
      ]
     },
     "metadata": {},
     "output_type": "display_data"
    },
    {
     "data": {
      "text/plain": [
       "(570239, 8)"
      ]
     },
     "metadata": {},
     "output_type": "display_data"
    },
    {
     "data": {
      "text/plain": [
       "array([ 101,  102,  103,  131,  132,  177,  452,  495,  669,  719,  723,\n",
       "        744,  797,  798,  799,  800,  839,  858,  889,  890,  891, 1004,\n",
       "       1008, 1009, 1035, 1036, 1037, 1038, 1426, 1427, 1428, 1429, 1431,\n",
       "       1432, 1456, 1458, 1514, 1515, 1516, 1517, 1518, 1519, 1520, 1521,\n",
       "       1864, 2066, 2071, 2072, 2235, 2236, 2791, 2792, 2793, 2794, 2795,\n",
       "       2796, 2797, 2798, 2799, 2800, 2801, 2802, 2803, 2804, 2805, 2806,\n",
       "       2807, 2808, 2809, 2810, 2917, 2918, 2921, 3053, 3322, 3324, 3325,\n",
       "       3326, 3328, 3329, 3330, 3331, 3332, 3334])"
      ]
     },
     "metadata": {},
     "output_type": "display_data"
    }
   ],
   "source": [
    "complete_input_file_path = \"/Users/kimd999/research/projects/Katrina/per_each_data/extracts/input/latest/tall/ZF_120_SRP_Sample_Extracts_with_Dilution_Factors_2021MAY21.csv\"\n",
    "df = pd.read_csv(complete_input_file_path, header = 0)\n",
    "#print(df.columns)\n",
    "\n",
    "df['plate.id'] = df['plate.id'].astype('str')\n",
    "\n",
    "display(df.head())\n",
    "display(df.tail())\n",
    "display(df.shape)\n",
    "\n",
    "#display (len(np.unique(df['chemical.id'])))\n",
    "display (np.unique(df['chemical.id']))\n",
    "\n",
    "#display (type(df['chemical.id']))\n",
    "#pandas.core.series.Series\n",
    "\n",
    "#display (df['chemical.id'].dtypes)\n",
    "#dtype('int64')\n",
    "\n",
    "#display (np.unique(df['plate.id']))\n",
    "#display (len(np.unique(df['plate.id'])))"
   ]
  },
  {
   "cell_type": "code",
   "execution_count": 34,
   "metadata": {},
   "outputs": [
    {
     "name": "stdout",
     "output_type": "stream",
     "text": [
      "\n",
      "chemical_id:101\n"
     ]
    },
    {
     "data": {
      "text/plain": [
       "array([0.    , 0.0001, 0.001 , 0.0025, 0.005 , 0.01  ])"
      ]
     },
     "metadata": {},
     "output_type": "display_data"
    },
    {
     "data": {
      "text/plain": [
       "0.01"
      ]
     },
     "metadata": {},
     "output_type": "display_data"
    },
    {
     "data": {
      "text/plain": [
       "0.0"
      ]
     },
     "metadata": {},
     "output_type": "display_data"
    },
    {
     "name": "stdout",
     "output_type": "stream",
     "text": [
      "\n",
      "chemical_id:102\n"
     ]
    },
    {
     "data": {
      "text/plain": [
       "array([0.    , 0.0001, 0.001 , 0.0025, 0.005 , 0.01  ])"
      ]
     },
     "metadata": {},
     "output_type": "display_data"
    },
    {
     "data": {
      "text/plain": [
       "0.01"
      ]
     },
     "metadata": {},
     "output_type": "display_data"
    },
    {
     "data": {
      "text/plain": [
       "0.0"
      ]
     },
     "metadata": {},
     "output_type": "display_data"
    },
    {
     "name": "stdout",
     "output_type": "stream",
     "text": [
      "\n",
      "chemical_id:103\n"
     ]
    },
    {
     "data": {
      "text/plain": [
       "array([0.    , 0.0001, 0.001 , 0.0025, 0.005 , 0.01  ])"
      ]
     },
     "metadata": {},
     "output_type": "display_data"
    },
    {
     "data": {
      "text/plain": [
       "0.01"
      ]
     },
     "metadata": {},
     "output_type": "display_data"
    },
    {
     "data": {
      "text/plain": [
       "0.0"
      ]
     },
     "metadata": {},
     "output_type": "display_data"
    },
    {
     "name": "stdout",
     "output_type": "stream",
     "text": [
      "\n",
      "chemical_id:131\n"
     ]
    },
    {
     "data": {
      "text/plain": [
       "array([0.     , 0.00125, 0.0025 , 0.005  , 0.01   ])"
      ]
     },
     "metadata": {},
     "output_type": "display_data"
    },
    {
     "data": {
      "text/plain": [
       "0.01"
      ]
     },
     "metadata": {},
     "output_type": "display_data"
    },
    {
     "data": {
      "text/plain": [
       "0.0"
      ]
     },
     "metadata": {},
     "output_type": "display_data"
    },
    {
     "name": "stdout",
     "output_type": "stream",
     "text": [
      "\n",
      "chemical_id:132\n"
     ]
    },
    {
     "data": {
      "text/plain": [
       "array([0.     , 0.00125, 0.0025 , 0.005  , 0.01   ])"
      ]
     },
     "metadata": {},
     "output_type": "display_data"
    },
    {
     "data": {
      "text/plain": [
       "0.01"
      ]
     },
     "metadata": {},
     "output_type": "display_data"
    },
    {
     "data": {
      "text/plain": [
       "0.0"
      ]
     },
     "metadata": {},
     "output_type": "display_data"
    },
    {
     "name": "stdout",
     "output_type": "stream",
     "text": [
      "\n",
      "chemical_id:177\n"
     ]
    },
    {
     "data": {
      "text/plain": [
       "array([0.e+00, 8.e-05, 4.e-04, 2.e-03, 1.e-02])"
      ]
     },
     "metadata": {},
     "output_type": "display_data"
    },
    {
     "data": {
      "text/plain": [
       "0.01"
      ]
     },
     "metadata": {},
     "output_type": "display_data"
    },
    {
     "data": {
      "text/plain": [
       "0.0"
      ]
     },
     "metadata": {},
     "output_type": "display_data"
    },
    {
     "name": "stdout",
     "output_type": "stream",
     "text": [
      "\n",
      "chemical_id:452\n"
     ]
    },
    {
     "data": {
      "text/plain": [
       "array([0.e+00, 8.e-05, 4.e-04, 2.e-03, 1.e-02])"
      ]
     },
     "metadata": {},
     "output_type": "display_data"
    },
    {
     "data": {
      "text/plain": [
       "0.01"
      ]
     },
     "metadata": {},
     "output_type": "display_data"
    },
    {
     "data": {
      "text/plain": [
       "0.0"
      ]
     },
     "metadata": {},
     "output_type": "display_data"
    },
    {
     "name": "stdout",
     "output_type": "stream",
     "text": [
      "\n",
      "chemical_id:495\n"
     ]
    },
    {
     "data": {
      "text/plain": [
       "array([0.e+00, 8.e-05, 4.e-04, 2.e-03, 1.e-02])"
      ]
     },
     "metadata": {},
     "output_type": "display_data"
    },
    {
     "data": {
      "text/plain": [
       "0.01"
      ]
     },
     "metadata": {},
     "output_type": "display_data"
    },
    {
     "data": {
      "text/plain": [
       "0.0"
      ]
     },
     "metadata": {},
     "output_type": "display_data"
    },
    {
     "name": "stdout",
     "output_type": "stream",
     "text": [
      "\n",
      "chemical_id:669\n"
     ]
    },
    {
     "data": {
      "text/plain": [
       "array([0.e+00, 8.e-05, 4.e-04, 2.e-03, 1.e-02])"
      ]
     },
     "metadata": {},
     "output_type": "display_data"
    },
    {
     "data": {
      "text/plain": [
       "0.01"
      ]
     },
     "metadata": {},
     "output_type": "display_data"
    },
    {
     "data": {
      "text/plain": [
       "0.0"
      ]
     },
     "metadata": {},
     "output_type": "display_data"
    },
    {
     "name": "stdout",
     "output_type": "stream",
     "text": [
      "\n",
      "chemical_id:719\n"
     ]
    },
    {
     "data": {
      "text/plain": [
       "array([0.e+00, 8.e-05, 4.e-04, 2.e-03, 1.e-02])"
      ]
     },
     "metadata": {},
     "output_type": "display_data"
    },
    {
     "data": {
      "text/plain": [
       "0.01"
      ]
     },
     "metadata": {},
     "output_type": "display_data"
    },
    {
     "data": {
      "text/plain": [
       "0.0"
      ]
     },
     "metadata": {},
     "output_type": "display_data"
    },
    {
     "name": "stdout",
     "output_type": "stream",
     "text": [
      "\n",
      "chemical_id:723\n"
     ]
    },
    {
     "data": {
      "text/plain": [
       "array([0.e+00, 8.e-05, 4.e-04, 2.e-03, 1.e-02])"
      ]
     },
     "metadata": {},
     "output_type": "display_data"
    },
    {
     "data": {
      "text/plain": [
       "0.01"
      ]
     },
     "metadata": {},
     "output_type": "display_data"
    },
    {
     "data": {
      "text/plain": [
       "0.0"
      ]
     },
     "metadata": {},
     "output_type": "display_data"
    },
    {
     "name": "stdout",
     "output_type": "stream",
     "text": [
      "\n",
      "chemical_id:744\n"
     ]
    },
    {
     "data": {
      "text/plain": [
       "array([0.e+00, 8.e-05, 4.e-04, 2.e-03, 1.e-02])"
      ]
     },
     "metadata": {},
     "output_type": "display_data"
    },
    {
     "data": {
      "text/plain": [
       "0.01"
      ]
     },
     "metadata": {},
     "output_type": "display_data"
    },
    {
     "data": {
      "text/plain": [
       "0.0"
      ]
     },
     "metadata": {},
     "output_type": "display_data"
    },
    {
     "name": "stdout",
     "output_type": "stream",
     "text": [
      "\n",
      "chemical_id:797\n"
     ]
    },
    {
     "data": {
      "text/plain": [
       "array([0.      , 0.000625, 0.00125 , 0.0025  , 0.005   , 0.01    ])"
      ]
     },
     "metadata": {},
     "output_type": "display_data"
    },
    {
     "data": {
      "text/plain": [
       "0.01"
      ]
     },
     "metadata": {},
     "output_type": "display_data"
    },
    {
     "data": {
      "text/plain": [
       "0.0"
      ]
     },
     "metadata": {},
     "output_type": "display_data"
    },
    {
     "name": "stdout",
     "output_type": "stream",
     "text": [
      "\n",
      "chemical_id:798\n"
     ]
    },
    {
     "data": {
      "text/plain": [
       "array([0.      , 0.000625, 0.00125 , 0.0025  , 0.005   , 0.01    ])"
      ]
     },
     "metadata": {},
     "output_type": "display_data"
    },
    {
     "data": {
      "text/plain": [
       "0.01"
      ]
     },
     "metadata": {},
     "output_type": "display_data"
    },
    {
     "data": {
      "text/plain": [
       "0.0"
      ]
     },
     "metadata": {},
     "output_type": "display_data"
    },
    {
     "name": "stdout",
     "output_type": "stream",
     "text": [
      "\n",
      "chemical_id:799\n"
     ]
    },
    {
     "data": {
      "text/plain": [
       "array([0.      , 0.000625, 0.00125 , 0.0025  , 0.005   , 0.01    ])"
      ]
     },
     "metadata": {},
     "output_type": "display_data"
    },
    {
     "data": {
      "text/plain": [
       "0.01"
      ]
     },
     "metadata": {},
     "output_type": "display_data"
    },
    {
     "data": {
      "text/plain": [
       "0.0"
      ]
     },
     "metadata": {},
     "output_type": "display_data"
    },
    {
     "name": "stdout",
     "output_type": "stream",
     "text": [
      "\n",
      "chemical_id:800\n"
     ]
    },
    {
     "data": {
      "text/plain": [
       "array([0.      , 0.000625, 0.00125 , 0.0025  , 0.005   , 0.01    ])"
      ]
     },
     "metadata": {},
     "output_type": "display_data"
    },
    {
     "data": {
      "text/plain": [
       "0.01"
      ]
     },
     "metadata": {},
     "output_type": "display_data"
    },
    {
     "data": {
      "text/plain": [
       "0.0"
      ]
     },
     "metadata": {},
     "output_type": "display_data"
    },
    {
     "name": "stdout",
     "output_type": "stream",
     "text": [
      "\n",
      "chemical_id:839\n"
     ]
    },
    {
     "data": {
      "text/plain": [
       "array([0.      , 0.000625, 0.00125 , 0.0025  , 0.005   , 0.01    ])"
      ]
     },
     "metadata": {},
     "output_type": "display_data"
    },
    {
     "data": {
      "text/plain": [
       "0.01"
      ]
     },
     "metadata": {},
     "output_type": "display_data"
    },
    {
     "data": {
      "text/plain": [
       "0.0"
      ]
     },
     "metadata": {},
     "output_type": "display_data"
    },
    {
     "name": "stdout",
     "output_type": "stream",
     "text": [
      "\n",
      "chemical_id:858\n"
     ]
    },
    {
     "data": {
      "text/plain": [
       "array([0.      , 0.000625, 0.00125 , 0.0025  , 0.005   , 0.01    ])"
      ]
     },
     "metadata": {},
     "output_type": "display_data"
    },
    {
     "data": {
      "text/plain": [
       "0.01"
      ]
     },
     "metadata": {},
     "output_type": "display_data"
    },
    {
     "data": {
      "text/plain": [
       "0.0"
      ]
     },
     "metadata": {},
     "output_type": "display_data"
    },
    {
     "name": "stdout",
     "output_type": "stream",
     "text": [
      "\n",
      "chemical_id:889\n"
     ]
    },
    {
     "data": {
      "text/plain": [
       "array([0.      , 0.000625, 0.00125 , 0.0025  , 0.005   , 0.01    ])"
      ]
     },
     "metadata": {},
     "output_type": "display_data"
    },
    {
     "data": {
      "text/plain": [
       "0.01"
      ]
     },
     "metadata": {},
     "output_type": "display_data"
    },
    {
     "data": {
      "text/plain": [
       "0.0"
      ]
     },
     "metadata": {},
     "output_type": "display_data"
    },
    {
     "name": "stdout",
     "output_type": "stream",
     "text": [
      "\n",
      "chemical_id:890\n"
     ]
    },
    {
     "data": {
      "text/plain": [
       "array([0.      , 0.000625, 0.00125 , 0.0025  , 0.005   , 0.01    ])"
      ]
     },
     "metadata": {},
     "output_type": "display_data"
    },
    {
     "data": {
      "text/plain": [
       "0.01"
      ]
     },
     "metadata": {},
     "output_type": "display_data"
    },
    {
     "data": {
      "text/plain": [
       "0.0"
      ]
     },
     "metadata": {},
     "output_type": "display_data"
    },
    {
     "name": "stdout",
     "output_type": "stream",
     "text": [
      "\n",
      "chemical_id:891\n"
     ]
    },
    {
     "data": {
      "text/plain": [
       "array([0.      , 0.000625, 0.00125 , 0.0025  , 0.005   , 0.01    ])"
      ]
     },
     "metadata": {},
     "output_type": "display_data"
    },
    {
     "data": {
      "text/plain": [
       "0.01"
      ]
     },
     "metadata": {},
     "output_type": "display_data"
    },
    {
     "data": {
      "text/plain": [
       "0.0"
      ]
     },
     "metadata": {},
     "output_type": "display_data"
    },
    {
     "name": "stdout",
     "output_type": "stream",
     "text": [
      "\n",
      "chemical_id:1004\n"
     ]
    },
    {
     "data": {
      "text/plain": [
       "array([0.e+00, 8.e-05, 4.e-04, 2.e-03, 1.e-02])"
      ]
     },
     "metadata": {},
     "output_type": "display_data"
    },
    {
     "data": {
      "text/plain": [
       "0.01"
      ]
     },
     "metadata": {},
     "output_type": "display_data"
    },
    {
     "data": {
      "text/plain": [
       "0.0"
      ]
     },
     "metadata": {},
     "output_type": "display_data"
    },
    {
     "name": "stdout",
     "output_type": "stream",
     "text": [
      "\n",
      "chemical_id:1008\n"
     ]
    },
    {
     "data": {
      "text/plain": [
       "array([0.e+00, 8.e-05, 4.e-04, 2.e-03, 1.e-02])"
      ]
     },
     "metadata": {},
     "output_type": "display_data"
    },
    {
     "data": {
      "text/plain": [
       "0.01"
      ]
     },
     "metadata": {},
     "output_type": "display_data"
    },
    {
     "data": {
      "text/plain": [
       "0.0"
      ]
     },
     "metadata": {},
     "output_type": "display_data"
    },
    {
     "name": "stdout",
     "output_type": "stream",
     "text": [
      "\n",
      "chemical_id:1009\n"
     ]
    },
    {
     "data": {
      "text/plain": [
       "array([0.e+00, 8.e-05, 4.e-04, 2.e-03, 1.e-02])"
      ]
     },
     "metadata": {},
     "output_type": "display_data"
    },
    {
     "data": {
      "text/plain": [
       "0.01"
      ]
     },
     "metadata": {},
     "output_type": "display_data"
    },
    {
     "data": {
      "text/plain": [
       "0.0"
      ]
     },
     "metadata": {},
     "output_type": "display_data"
    },
    {
     "name": "stdout",
     "output_type": "stream",
     "text": [
      "\n",
      "chemical_id:1035\n"
     ]
    },
    {
     "data": {
      "text/plain": [
       "array([0.    , 0.0001, 0.001 , 0.0025, 0.005 , 0.01  ])"
      ]
     },
     "metadata": {},
     "output_type": "display_data"
    },
    {
     "data": {
      "text/plain": [
       "0.01"
      ]
     },
     "metadata": {},
     "output_type": "display_data"
    },
    {
     "data": {
      "text/plain": [
       "0.0"
      ]
     },
     "metadata": {},
     "output_type": "display_data"
    },
    {
     "name": "stdout",
     "output_type": "stream",
     "text": [
      "\n",
      "chemical_id:1036\n"
     ]
    },
    {
     "data": {
      "text/plain": [
       "array([0.    , 0.0001, 0.001 , 0.0025, 0.005 , 0.01  ])"
      ]
     },
     "metadata": {},
     "output_type": "display_data"
    },
    {
     "data": {
      "text/plain": [
       "0.01"
      ]
     },
     "metadata": {},
     "output_type": "display_data"
    },
    {
     "data": {
      "text/plain": [
       "0.0"
      ]
     },
     "metadata": {},
     "output_type": "display_data"
    },
    {
     "name": "stdout",
     "output_type": "stream",
     "text": [
      "\n",
      "chemical_id:1037\n"
     ]
    },
    {
     "data": {
      "text/plain": [
       "array([0.    , 0.0001, 0.001 , 0.0025, 0.005 , 0.01  ])"
      ]
     },
     "metadata": {},
     "output_type": "display_data"
    },
    {
     "data": {
      "text/plain": [
       "0.01"
      ]
     },
     "metadata": {},
     "output_type": "display_data"
    },
    {
     "data": {
      "text/plain": [
       "0.0"
      ]
     },
     "metadata": {},
     "output_type": "display_data"
    },
    {
     "name": "stdout",
     "output_type": "stream",
     "text": [
      "\n",
      "chemical_id:1038\n"
     ]
    },
    {
     "data": {
      "text/plain": [
       "array([0.    , 0.0001, 0.001 , 0.0025, 0.005 , 0.01  ])"
      ]
     },
     "metadata": {},
     "output_type": "display_data"
    },
    {
     "data": {
      "text/plain": [
       "0.01"
      ]
     },
     "metadata": {},
     "output_type": "display_data"
    },
    {
     "data": {
      "text/plain": [
       "0.0"
      ]
     },
     "metadata": {},
     "output_type": "display_data"
    },
    {
     "name": "stdout",
     "output_type": "stream",
     "text": [
      "\n",
      "chemical_id:1426\n"
     ]
    },
    {
     "data": {
      "text/plain": [
       "array([0.e+00, 8.e-05, 4.e-04, 2.e-03, 1.e-02])"
      ]
     },
     "metadata": {},
     "output_type": "display_data"
    },
    {
     "data": {
      "text/plain": [
       "0.01"
      ]
     },
     "metadata": {},
     "output_type": "display_data"
    },
    {
     "data": {
      "text/plain": [
       "0.0"
      ]
     },
     "metadata": {},
     "output_type": "display_data"
    },
    {
     "name": "stdout",
     "output_type": "stream",
     "text": [
      "\n",
      "chemical_id:1427\n"
     ]
    },
    {
     "data": {
      "text/plain": [
       "array([0.e+00, 8.e-05, 4.e-04, 2.e-03, 1.e-02])"
      ]
     },
     "metadata": {},
     "output_type": "display_data"
    },
    {
     "data": {
      "text/plain": [
       "0.01"
      ]
     },
     "metadata": {},
     "output_type": "display_data"
    },
    {
     "data": {
      "text/plain": [
       "0.0"
      ]
     },
     "metadata": {},
     "output_type": "display_data"
    },
    {
     "name": "stdout",
     "output_type": "stream",
     "text": [
      "\n",
      "chemical_id:1428\n"
     ]
    },
    {
     "data": {
      "text/plain": [
       "array([0.e+00, 8.e-05, 4.e-04, 2.e-03, 1.e-02])"
      ]
     },
     "metadata": {},
     "output_type": "display_data"
    },
    {
     "data": {
      "text/plain": [
       "0.01"
      ]
     },
     "metadata": {},
     "output_type": "display_data"
    },
    {
     "data": {
      "text/plain": [
       "0.0"
      ]
     },
     "metadata": {},
     "output_type": "display_data"
    },
    {
     "name": "stdout",
     "output_type": "stream",
     "text": [
      "\n",
      "chemical_id:1429\n"
     ]
    },
    {
     "data": {
      "text/plain": [
       "array([0.e+00, 8.e-05, 4.e-04, 2.e-03, 1.e-02])"
      ]
     },
     "metadata": {},
     "output_type": "display_data"
    },
    {
     "data": {
      "text/plain": [
       "0.01"
      ]
     },
     "metadata": {},
     "output_type": "display_data"
    },
    {
     "data": {
      "text/plain": [
       "0.0"
      ]
     },
     "metadata": {},
     "output_type": "display_data"
    },
    {
     "name": "stdout",
     "output_type": "stream",
     "text": [
      "\n",
      "chemical_id:1431\n"
     ]
    },
    {
     "data": {
      "text/plain": [
       "array([0.e+00, 8.e-05, 4.e-04, 2.e-03, 1.e-02])"
      ]
     },
     "metadata": {},
     "output_type": "display_data"
    },
    {
     "data": {
      "text/plain": [
       "0.01"
      ]
     },
     "metadata": {},
     "output_type": "display_data"
    },
    {
     "data": {
      "text/plain": [
       "0.0"
      ]
     },
     "metadata": {},
     "output_type": "display_data"
    },
    {
     "name": "stdout",
     "output_type": "stream",
     "text": [
      "\n",
      "chemical_id:1432\n"
     ]
    },
    {
     "data": {
      "text/plain": [
       "array([0.e+00, 8.e-05, 4.e-04, 2.e-03, 1.e-02])"
      ]
     },
     "metadata": {},
     "output_type": "display_data"
    },
    {
     "data": {
      "text/plain": [
       "0.01"
      ]
     },
     "metadata": {},
     "output_type": "display_data"
    },
    {
     "data": {
      "text/plain": [
       "0.0"
      ]
     },
     "metadata": {},
     "output_type": "display_data"
    },
    {
     "name": "stdout",
     "output_type": "stream",
     "text": [
      "\n",
      "chemical_id:1456\n"
     ]
    },
    {
     "data": {
      "text/plain": [
       "array([0.e+00, 8.e-05, 4.e-04, 2.e-03, 1.e-02])"
      ]
     },
     "metadata": {},
     "output_type": "display_data"
    },
    {
     "data": {
      "text/plain": [
       "0.01"
      ]
     },
     "metadata": {},
     "output_type": "display_data"
    },
    {
     "data": {
      "text/plain": [
       "0.0"
      ]
     },
     "metadata": {},
     "output_type": "display_data"
    },
    {
     "name": "stdout",
     "output_type": "stream",
     "text": [
      "\n",
      "chemical_id:1458\n"
     ]
    },
    {
     "data": {
      "text/plain": [
       "array([0.e+00, 8.e-05, 4.e-04, 2.e-03, 1.e-02])"
      ]
     },
     "metadata": {},
     "output_type": "display_data"
    },
    {
     "data": {
      "text/plain": [
       "0.01"
      ]
     },
     "metadata": {},
     "output_type": "display_data"
    },
    {
     "data": {
      "text/plain": [
       "0.0"
      ]
     },
     "metadata": {},
     "output_type": "display_data"
    },
    {
     "name": "stdout",
     "output_type": "stream",
     "text": [
      "\n",
      "chemical_id:1514\n"
     ]
    },
    {
     "data": {
      "text/plain": [
       "array([0.    , 0.0001, 0.001 , 0.0025, 0.005 , 0.01  ])"
      ]
     },
     "metadata": {},
     "output_type": "display_data"
    },
    {
     "data": {
      "text/plain": [
       "0.01"
      ]
     },
     "metadata": {},
     "output_type": "display_data"
    },
    {
     "data": {
      "text/plain": [
       "0.0"
      ]
     },
     "metadata": {},
     "output_type": "display_data"
    },
    {
     "name": "stdout",
     "output_type": "stream",
     "text": [
      "\n",
      "chemical_id:1515\n"
     ]
    },
    {
     "data": {
      "text/plain": [
       "array([0.    , 0.0001, 0.001 , 0.0025, 0.005 , 0.01  ])"
      ]
     },
     "metadata": {},
     "output_type": "display_data"
    },
    {
     "data": {
      "text/plain": [
       "0.01"
      ]
     },
     "metadata": {},
     "output_type": "display_data"
    },
    {
     "data": {
      "text/plain": [
       "0.0"
      ]
     },
     "metadata": {},
     "output_type": "display_data"
    },
    {
     "name": "stdout",
     "output_type": "stream",
     "text": [
      "\n",
      "chemical_id:1516\n"
     ]
    },
    {
     "data": {
      "text/plain": [
       "array([0.    , 0.0001, 0.001 , 0.0025, 0.005 , 0.01  ])"
      ]
     },
     "metadata": {},
     "output_type": "display_data"
    },
    {
     "data": {
      "text/plain": [
       "0.01"
      ]
     },
     "metadata": {},
     "output_type": "display_data"
    },
    {
     "data": {
      "text/plain": [
       "0.0"
      ]
     },
     "metadata": {},
     "output_type": "display_data"
    },
    {
     "name": "stdout",
     "output_type": "stream",
     "text": [
      "\n",
      "chemical_id:1517\n"
     ]
    },
    {
     "data": {
      "text/plain": [
       "array([0.    , 0.0001, 0.001 , 0.0025, 0.005 , 0.01  ])"
      ]
     },
     "metadata": {},
     "output_type": "display_data"
    },
    {
     "data": {
      "text/plain": [
       "0.01"
      ]
     },
     "metadata": {},
     "output_type": "display_data"
    },
    {
     "data": {
      "text/plain": [
       "0.0"
      ]
     },
     "metadata": {},
     "output_type": "display_data"
    },
    {
     "name": "stdout",
     "output_type": "stream",
     "text": [
      "\n",
      "chemical_id:1518\n"
     ]
    },
    {
     "data": {
      "text/plain": [
       "array([0.    , 0.0001, 0.001 , 0.0025, 0.005 , 0.01  ])"
      ]
     },
     "metadata": {},
     "output_type": "display_data"
    },
    {
     "data": {
      "text/plain": [
       "0.01"
      ]
     },
     "metadata": {},
     "output_type": "display_data"
    },
    {
     "data": {
      "text/plain": [
       "0.0"
      ]
     },
     "metadata": {},
     "output_type": "display_data"
    },
    {
     "name": "stdout",
     "output_type": "stream",
     "text": [
      "\n",
      "chemical_id:1519\n"
     ]
    },
    {
     "data": {
      "text/plain": [
       "array([0.    , 0.0001, 0.001 , 0.0025, 0.005 , 0.01  ])"
      ]
     },
     "metadata": {},
     "output_type": "display_data"
    },
    {
     "data": {
      "text/plain": [
       "0.01"
      ]
     },
     "metadata": {},
     "output_type": "display_data"
    },
    {
     "data": {
      "text/plain": [
       "0.0"
      ]
     },
     "metadata": {},
     "output_type": "display_data"
    },
    {
     "name": "stdout",
     "output_type": "stream",
     "text": [
      "\n",
      "chemical_id:1520\n"
     ]
    },
    {
     "data": {
      "text/plain": [
       "array([0.    , 0.0001, 0.001 , 0.0025, 0.005 , 0.01  ])"
      ]
     },
     "metadata": {},
     "output_type": "display_data"
    },
    {
     "data": {
      "text/plain": [
       "0.01"
      ]
     },
     "metadata": {},
     "output_type": "display_data"
    },
    {
     "data": {
      "text/plain": [
       "0.0"
      ]
     },
     "metadata": {},
     "output_type": "display_data"
    },
    {
     "name": "stdout",
     "output_type": "stream",
     "text": [
      "\n",
      "chemical_id:1521\n"
     ]
    },
    {
     "data": {
      "text/plain": [
       "array([0.    , 0.0001, 0.001 , 0.0025, 0.005 , 0.01  ])"
      ]
     },
     "metadata": {},
     "output_type": "display_data"
    },
    {
     "data": {
      "text/plain": [
       "0.01"
      ]
     },
     "metadata": {},
     "output_type": "display_data"
    },
    {
     "data": {
      "text/plain": [
       "0.0"
      ]
     },
     "metadata": {},
     "output_type": "display_data"
    },
    {
     "name": "stdout",
     "output_type": "stream",
     "text": [
      "\n",
      "chemical_id:1864\n"
     ]
    },
    {
     "data": {
      "text/plain": [
       "array([0.e+00, 8.e-05, 4.e-04, 2.e-03, 1.e-02])"
      ]
     },
     "metadata": {},
     "output_type": "display_data"
    },
    {
     "data": {
      "text/plain": [
       "0.01"
      ]
     },
     "metadata": {},
     "output_type": "display_data"
    },
    {
     "data": {
      "text/plain": [
       "0.0"
      ]
     },
     "metadata": {},
     "output_type": "display_data"
    },
    {
     "name": "stdout",
     "output_type": "stream",
     "text": [
      "\n",
      "chemical_id:2066\n"
     ]
    },
    {
     "data": {
      "text/plain": [
       "array([0.e+00, 8.e-05, 4.e-04, 2.e-03, 1.e-02])"
      ]
     },
     "metadata": {},
     "output_type": "display_data"
    },
    {
     "data": {
      "text/plain": [
       "0.01"
      ]
     },
     "metadata": {},
     "output_type": "display_data"
    },
    {
     "data": {
      "text/plain": [
       "0.0"
      ]
     },
     "metadata": {},
     "output_type": "display_data"
    },
    {
     "name": "stdout",
     "output_type": "stream",
     "text": [
      "\n",
      "chemical_id:2071\n"
     ]
    },
    {
     "data": {
      "text/plain": [
       "array([0.e+00, 8.e-05, 4.e-04, 2.e-03, 1.e-02])"
      ]
     },
     "metadata": {},
     "output_type": "display_data"
    },
    {
     "data": {
      "text/plain": [
       "0.01"
      ]
     },
     "metadata": {},
     "output_type": "display_data"
    },
    {
     "data": {
      "text/plain": [
       "0.0"
      ]
     },
     "metadata": {},
     "output_type": "display_data"
    },
    {
     "name": "stdout",
     "output_type": "stream",
     "text": [
      "\n",
      "chemical_id:2072\n"
     ]
    },
    {
     "data": {
      "text/plain": [
       "array([0.e+00, 8.e-05, 4.e-04, 2.e-03, 1.e-02])"
      ]
     },
     "metadata": {},
     "output_type": "display_data"
    },
    {
     "data": {
      "text/plain": [
       "0.01"
      ]
     },
     "metadata": {},
     "output_type": "display_data"
    },
    {
     "data": {
      "text/plain": [
       "0.0"
      ]
     },
     "metadata": {},
     "output_type": "display_data"
    },
    {
     "name": "stdout",
     "output_type": "stream",
     "text": [
      "\n",
      "chemical_id:2235\n"
     ]
    },
    {
     "data": {
      "text/plain": [
       "array([0.e+00, 8.e-05, 4.e-04, 2.e-03, 1.e-02])"
      ]
     },
     "metadata": {},
     "output_type": "display_data"
    },
    {
     "data": {
      "text/plain": [
       "0.01"
      ]
     },
     "metadata": {},
     "output_type": "display_data"
    },
    {
     "data": {
      "text/plain": [
       "0.0"
      ]
     },
     "metadata": {},
     "output_type": "display_data"
    },
    {
     "name": "stdout",
     "output_type": "stream",
     "text": [
      "\n",
      "chemical_id:2236\n"
     ]
    },
    {
     "data": {
      "text/plain": [
       "array([0.e+00, 8.e-05, 4.e-04, 2.e-03, 1.e-02])"
      ]
     },
     "metadata": {},
     "output_type": "display_data"
    },
    {
     "data": {
      "text/plain": [
       "0.01"
      ]
     },
     "metadata": {},
     "output_type": "display_data"
    },
    {
     "data": {
      "text/plain": [
       "0.0"
      ]
     },
     "metadata": {},
     "output_type": "display_data"
    },
    {
     "name": "stdout",
     "output_type": "stream",
     "text": [
      "\n",
      "chemical_id:2791\n"
     ]
    },
    {
     "data": {
      "text/plain": [
       "array([0.e+00, 8.e-05, 4.e-04, 2.e-03, 1.e-02])"
      ]
     },
     "metadata": {},
     "output_type": "display_data"
    },
    {
     "data": {
      "text/plain": [
       "0.01"
      ]
     },
     "metadata": {},
     "output_type": "display_data"
    },
    {
     "data": {
      "text/plain": [
       "0.0"
      ]
     },
     "metadata": {},
     "output_type": "display_data"
    },
    {
     "name": "stdout",
     "output_type": "stream",
     "text": [
      "\n",
      "chemical_id:2792\n"
     ]
    },
    {
     "data": {
      "text/plain": [
       "array([0.e+00, 8.e-05, 4.e-04, 2.e-03, 1.e-02])"
      ]
     },
     "metadata": {},
     "output_type": "display_data"
    },
    {
     "data": {
      "text/plain": [
       "0.01"
      ]
     },
     "metadata": {},
     "output_type": "display_data"
    },
    {
     "data": {
      "text/plain": [
       "0.0"
      ]
     },
     "metadata": {},
     "output_type": "display_data"
    },
    {
     "name": "stdout",
     "output_type": "stream",
     "text": [
      "\n",
      "chemical_id:2793\n"
     ]
    },
    {
     "data": {
      "text/plain": [
       "array([0.e+00, 8.e-05, 4.e-04, 2.e-03, 1.e-02])"
      ]
     },
     "metadata": {},
     "output_type": "display_data"
    },
    {
     "data": {
      "text/plain": [
       "0.01"
      ]
     },
     "metadata": {},
     "output_type": "display_data"
    },
    {
     "data": {
      "text/plain": [
       "0.0"
      ]
     },
     "metadata": {},
     "output_type": "display_data"
    },
    {
     "name": "stdout",
     "output_type": "stream",
     "text": [
      "\n",
      "chemical_id:2794\n"
     ]
    },
    {
     "data": {
      "text/plain": [
       "array([0.e+00, 8.e-05, 4.e-04, 2.e-03, 1.e-02])"
      ]
     },
     "metadata": {},
     "output_type": "display_data"
    },
    {
     "data": {
      "text/plain": [
       "0.01"
      ]
     },
     "metadata": {},
     "output_type": "display_data"
    },
    {
     "data": {
      "text/plain": [
       "0.0"
      ]
     },
     "metadata": {},
     "output_type": "display_data"
    },
    {
     "name": "stdout",
     "output_type": "stream",
     "text": [
      "\n",
      "chemical_id:2795\n"
     ]
    },
    {
     "data": {
      "text/plain": [
       "array([0.e+00, 8.e-05, 4.e-04, 2.e-03, 1.e-02])"
      ]
     },
     "metadata": {},
     "output_type": "display_data"
    },
    {
     "data": {
      "text/plain": [
       "0.01"
      ]
     },
     "metadata": {},
     "output_type": "display_data"
    },
    {
     "data": {
      "text/plain": [
       "0.0"
      ]
     },
     "metadata": {},
     "output_type": "display_data"
    },
    {
     "name": "stdout",
     "output_type": "stream",
     "text": [
      "\n",
      "chemical_id:2796\n"
     ]
    },
    {
     "data": {
      "text/plain": [
       "array([0.e+00, 8.e-05, 4.e-04, 2.e-03, 1.e-02])"
      ]
     },
     "metadata": {},
     "output_type": "display_data"
    },
    {
     "data": {
      "text/plain": [
       "0.01"
      ]
     },
     "metadata": {},
     "output_type": "display_data"
    },
    {
     "data": {
      "text/plain": [
       "0.0"
      ]
     },
     "metadata": {},
     "output_type": "display_data"
    },
    {
     "name": "stdout",
     "output_type": "stream",
     "text": [
      "\n",
      "chemical_id:2797\n"
     ]
    },
    {
     "data": {
      "text/plain": [
       "array([0.    , 0.0067, 0.0075, 0.008 ])"
      ]
     },
     "metadata": {},
     "output_type": "display_data"
    },
    {
     "data": {
      "text/plain": [
       "0.008"
      ]
     },
     "metadata": {},
     "output_type": "display_data"
    },
    {
     "data": {
      "text/plain": [
       "0.0"
      ]
     },
     "metadata": {},
     "output_type": "display_data"
    },
    {
     "name": "stdout",
     "output_type": "stream",
     "text": [
      "\n",
      "chemical_id:2798\n"
     ]
    },
    {
     "data": {
      "text/plain": [
       "array([0.0e+00, 8.0e-05, 4.0e-04, 2.0e-03, 6.7e-03, 7.5e-03, 8.0e-03,\n",
       "       1.0e-02])"
      ]
     },
     "metadata": {},
     "output_type": "display_data"
    },
    {
     "data": {
      "text/plain": [
       "0.01"
      ]
     },
     "metadata": {},
     "output_type": "display_data"
    },
    {
     "data": {
      "text/plain": [
       "0.0"
      ]
     },
     "metadata": {},
     "output_type": "display_data"
    },
    {
     "name": "stdout",
     "output_type": "stream",
     "text": [
      "\n",
      "chemical_id:2799\n"
     ]
    },
    {
     "data": {
      "text/plain": [
       "array([0.e+00, 8.e-05, 4.e-04, 2.e-03, 1.e-02])"
      ]
     },
     "metadata": {},
     "output_type": "display_data"
    },
    {
     "data": {
      "text/plain": [
       "0.01"
      ]
     },
     "metadata": {},
     "output_type": "display_data"
    },
    {
     "data": {
      "text/plain": [
       "0.0"
      ]
     },
     "metadata": {},
     "output_type": "display_data"
    },
    {
     "name": "stdout",
     "output_type": "stream",
     "text": [
      "\n",
      "chemical_id:2800\n"
     ]
    },
    {
     "data": {
      "text/plain": [
       "array([0.e+00, 8.e-05, 4.e-04, 2.e-03, 1.e-02])"
      ]
     },
     "metadata": {},
     "output_type": "display_data"
    },
    {
     "data": {
      "text/plain": [
       "0.01"
      ]
     },
     "metadata": {},
     "output_type": "display_data"
    },
    {
     "data": {
      "text/plain": [
       "0.0"
      ]
     },
     "metadata": {},
     "output_type": "display_data"
    },
    {
     "name": "stdout",
     "output_type": "stream",
     "text": [
      "\n",
      "chemical_id:2801\n"
     ]
    },
    {
     "data": {
      "text/plain": [
       "array([0.e+00, 8.e-05, 4.e-04, 2.e-03, 1.e-02])"
      ]
     },
     "metadata": {},
     "output_type": "display_data"
    },
    {
     "data": {
      "text/plain": [
       "0.01"
      ]
     },
     "metadata": {},
     "output_type": "display_data"
    },
    {
     "data": {
      "text/plain": [
       "0.0"
      ]
     },
     "metadata": {},
     "output_type": "display_data"
    },
    {
     "name": "stdout",
     "output_type": "stream",
     "text": [
      "\n",
      "chemical_id:2802\n"
     ]
    },
    {
     "data": {
      "text/plain": [
       "array([0.e+00, 8.e-05, 4.e-04, 2.e-03, 1.e-02])"
      ]
     },
     "metadata": {},
     "output_type": "display_data"
    },
    {
     "data": {
      "text/plain": [
       "0.01"
      ]
     },
     "metadata": {},
     "output_type": "display_data"
    },
    {
     "data": {
      "text/plain": [
       "0.0"
      ]
     },
     "metadata": {},
     "output_type": "display_data"
    },
    {
     "name": "stdout",
     "output_type": "stream",
     "text": [
      "\n",
      "chemical_id:2803\n"
     ]
    },
    {
     "data": {
      "text/plain": [
       "array([0.e+00, 8.e-05, 4.e-04, 2.e-03, 1.e-02])"
      ]
     },
     "metadata": {},
     "output_type": "display_data"
    },
    {
     "data": {
      "text/plain": [
       "0.01"
      ]
     },
     "metadata": {},
     "output_type": "display_data"
    },
    {
     "data": {
      "text/plain": [
       "0.0"
      ]
     },
     "metadata": {},
     "output_type": "display_data"
    },
    {
     "name": "stdout",
     "output_type": "stream",
     "text": [
      "\n",
      "chemical_id:2804\n"
     ]
    },
    {
     "data": {
      "text/plain": [
       "array([0.e+00, 8.e-05, 4.e-04, 2.e-03, 1.e-02])"
      ]
     },
     "metadata": {},
     "output_type": "display_data"
    },
    {
     "data": {
      "text/plain": [
       "0.01"
      ]
     },
     "metadata": {},
     "output_type": "display_data"
    },
    {
     "data": {
      "text/plain": [
       "0.0"
      ]
     },
     "metadata": {},
     "output_type": "display_data"
    },
    {
     "name": "stdout",
     "output_type": "stream",
     "text": [
      "\n",
      "chemical_id:2805\n"
     ]
    },
    {
     "data": {
      "text/plain": [
       "array([0.e+00, 8.e-05, 4.e-04, 2.e-03, 1.e-02])"
      ]
     },
     "metadata": {},
     "output_type": "display_data"
    },
    {
     "data": {
      "text/plain": [
       "0.01"
      ]
     },
     "metadata": {},
     "output_type": "display_data"
    },
    {
     "data": {
      "text/plain": [
       "0.0"
      ]
     },
     "metadata": {},
     "output_type": "display_data"
    },
    {
     "name": "stdout",
     "output_type": "stream",
     "text": [
      "\n",
      "chemical_id:2806\n"
     ]
    },
    {
     "data": {
      "text/plain": [
       "array([0.e+00, 8.e-05, 4.e-04, 2.e-03, 1.e-02])"
      ]
     },
     "metadata": {},
     "output_type": "display_data"
    },
    {
     "data": {
      "text/plain": [
       "0.01"
      ]
     },
     "metadata": {},
     "output_type": "display_data"
    },
    {
     "data": {
      "text/plain": [
       "0.0"
      ]
     },
     "metadata": {},
     "output_type": "display_data"
    },
    {
     "name": "stdout",
     "output_type": "stream",
     "text": [
      "\n",
      "chemical_id:2807\n"
     ]
    },
    {
     "data": {
      "text/plain": [
       "array([0.e+00, 8.e-05, 4.e-04, 2.e-03, 1.e-02])"
      ]
     },
     "metadata": {},
     "output_type": "display_data"
    },
    {
     "data": {
      "text/plain": [
       "0.01"
      ]
     },
     "metadata": {},
     "output_type": "display_data"
    },
    {
     "data": {
      "text/plain": [
       "0.0"
      ]
     },
     "metadata": {},
     "output_type": "display_data"
    },
    {
     "name": "stdout",
     "output_type": "stream",
     "text": [
      "\n",
      "chemical_id:2808\n"
     ]
    },
    {
     "data": {
      "text/plain": [
       "array([0.e+00, 8.e-05, 4.e-04, 2.e-03, 1.e-02])"
      ]
     },
     "metadata": {},
     "output_type": "display_data"
    },
    {
     "data": {
      "text/plain": [
       "0.01"
      ]
     },
     "metadata": {},
     "output_type": "display_data"
    },
    {
     "data": {
      "text/plain": [
       "0.0"
      ]
     },
     "metadata": {},
     "output_type": "display_data"
    },
    {
     "name": "stdout",
     "output_type": "stream",
     "text": [
      "\n",
      "chemical_id:2809\n"
     ]
    },
    {
     "data": {
      "text/plain": [
       "array([0.e+00, 8.e-05, 4.e-04, 2.e-03, 1.e-02])"
      ]
     },
     "metadata": {},
     "output_type": "display_data"
    },
    {
     "data": {
      "text/plain": [
       "0.01"
      ]
     },
     "metadata": {},
     "output_type": "display_data"
    },
    {
     "data": {
      "text/plain": [
       "0.0"
      ]
     },
     "metadata": {},
     "output_type": "display_data"
    },
    {
     "name": "stdout",
     "output_type": "stream",
     "text": [
      "\n",
      "chemical_id:2810\n"
     ]
    },
    {
     "data": {
      "text/plain": [
       "array([0.e+00, 8.e-05, 4.e-04, 2.e-03, 1.e-02])"
      ]
     },
     "metadata": {},
     "output_type": "display_data"
    },
    {
     "data": {
      "text/plain": [
       "0.01"
      ]
     },
     "metadata": {},
     "output_type": "display_data"
    },
    {
     "data": {
      "text/plain": [
       "0.0"
      ]
     },
     "metadata": {},
     "output_type": "display_data"
    },
    {
     "name": "stdout",
     "output_type": "stream",
     "text": [
      "\n",
      "chemical_id:2917\n"
     ]
    },
    {
     "data": {
      "text/plain": [
       "array([0.     , 0.00063, 0.0016 , 0.0025 , 0.0034 , 0.0044 , 0.0053 ,\n",
       "       0.0063 , 0.0072 , 0.0081 , 0.0091 , 0.01   ])"
      ]
     },
     "metadata": {},
     "output_type": "display_data"
    },
    {
     "data": {
      "text/plain": [
       "0.01"
      ]
     },
     "metadata": {},
     "output_type": "display_data"
    },
    {
     "data": {
      "text/plain": [
       "0.0"
      ]
     },
     "metadata": {},
     "output_type": "display_data"
    },
    {
     "name": "stdout",
     "output_type": "stream",
     "text": [
      "\n",
      "chemical_id:2918\n"
     ]
    },
    {
     "data": {
      "text/plain": [
       "array([0.     , 0.00063, 0.0016 , 0.0025 , 0.0034 , 0.0044 , 0.0053 ,\n",
       "       0.0063 , 0.0072 , 0.0081 , 0.0091 , 0.01   ])"
      ]
     },
     "metadata": {},
     "output_type": "display_data"
    },
    {
     "data": {
      "text/plain": [
       "0.01"
      ]
     },
     "metadata": {},
     "output_type": "display_data"
    },
    {
     "data": {
      "text/plain": [
       "0.0"
      ]
     },
     "metadata": {},
     "output_type": "display_data"
    },
    {
     "name": "stdout",
     "output_type": "stream",
     "text": [
      "\n",
      "chemical_id:2921\n"
     ]
    },
    {
     "data": {
      "text/plain": [
       "array([0.     , 0.00063, 0.0016 , 0.0025 , 0.0034 , 0.0044 , 0.0053 ,\n",
       "       0.0063 , 0.0072 , 0.0081 , 0.0091 , 0.01   ])"
      ]
     },
     "metadata": {},
     "output_type": "display_data"
    },
    {
     "data": {
      "text/plain": [
       "0.01"
      ]
     },
     "metadata": {},
     "output_type": "display_data"
    },
    {
     "data": {
      "text/plain": [
       "0.0"
      ]
     },
     "metadata": {},
     "output_type": "display_data"
    },
    {
     "name": "stdout",
     "output_type": "stream",
     "text": [
      "\n",
      "chemical_id:3053\n"
     ]
    },
    {
     "data": {
      "text/plain": [
       "array([0., 5.])"
      ]
     },
     "metadata": {},
     "output_type": "display_data"
    },
    {
     "data": {
      "text/plain": [
       "5.0"
      ]
     },
     "metadata": {},
     "output_type": "display_data"
    },
    {
     "data": {
      "text/plain": [
       "0.0"
      ]
     },
     "metadata": {},
     "output_type": "display_data"
    },
    {
     "name": "stdout",
     "output_type": "stream",
     "text": [
      "\n",
      "chemical_id:3322\n"
     ]
    },
    {
     "data": {
      "text/plain": [
       "array([0.     , 0.00133, 0.0033 , 0.0066 , 0.01   ])"
      ]
     },
     "metadata": {},
     "output_type": "display_data"
    },
    {
     "data": {
      "text/plain": [
       "0.01"
      ]
     },
     "metadata": {},
     "output_type": "display_data"
    },
    {
     "data": {
      "text/plain": [
       "0.0"
      ]
     },
     "metadata": {},
     "output_type": "display_data"
    },
    {
     "name": "stdout",
     "output_type": "stream",
     "text": [
      "\n",
      "chemical_id:3324\n"
     ]
    },
    {
     "data": {
      "text/plain": [
       "array([0.     , 0.00133, 0.0033 , 0.0066 , 0.01   ])"
      ]
     },
     "metadata": {},
     "output_type": "display_data"
    },
    {
     "data": {
      "text/plain": [
       "0.01"
      ]
     },
     "metadata": {},
     "output_type": "display_data"
    },
    {
     "data": {
      "text/plain": [
       "0.0"
      ]
     },
     "metadata": {},
     "output_type": "display_data"
    },
    {
     "name": "stdout",
     "output_type": "stream",
     "text": [
      "\n",
      "chemical_id:3325\n"
     ]
    },
    {
     "data": {
      "text/plain": [
       "array([0.     , 0.00133, 0.0033 , 0.0066 , 0.01   ])"
      ]
     },
     "metadata": {},
     "output_type": "display_data"
    },
    {
     "data": {
      "text/plain": [
       "0.01"
      ]
     },
     "metadata": {},
     "output_type": "display_data"
    },
    {
     "data": {
      "text/plain": [
       "0.0"
      ]
     },
     "metadata": {},
     "output_type": "display_data"
    },
    {
     "name": "stdout",
     "output_type": "stream",
     "text": [
      "\n",
      "chemical_id:3326\n"
     ]
    },
    {
     "data": {
      "text/plain": [
       "array([0.     , 0.00133, 0.0033 , 0.0066 , 0.01   ])"
      ]
     },
     "metadata": {},
     "output_type": "display_data"
    },
    {
     "data": {
      "text/plain": [
       "0.01"
      ]
     },
     "metadata": {},
     "output_type": "display_data"
    },
    {
     "data": {
      "text/plain": [
       "0.0"
      ]
     },
     "metadata": {},
     "output_type": "display_data"
    },
    {
     "name": "stdout",
     "output_type": "stream",
     "text": [
      "\n",
      "chemical_id:3328\n"
     ]
    },
    {
     "data": {
      "text/plain": [
       "array([0.     , 0.00133, 0.0033 , 0.0066 , 0.01   ])"
      ]
     },
     "metadata": {},
     "output_type": "display_data"
    },
    {
     "data": {
      "text/plain": [
       "0.01"
      ]
     },
     "metadata": {},
     "output_type": "display_data"
    },
    {
     "data": {
      "text/plain": [
       "0.0"
      ]
     },
     "metadata": {},
     "output_type": "display_data"
    },
    {
     "name": "stdout",
     "output_type": "stream",
     "text": [
      "\n",
      "chemical_id:3329\n"
     ]
    },
    {
     "data": {
      "text/plain": [
       "array([0.     , 0.00133, 0.0033 , 0.0066 , 0.01   ])"
      ]
     },
     "metadata": {},
     "output_type": "display_data"
    },
    {
     "data": {
      "text/plain": [
       "0.01"
      ]
     },
     "metadata": {},
     "output_type": "display_data"
    },
    {
     "data": {
      "text/plain": [
       "0.0"
      ]
     },
     "metadata": {},
     "output_type": "display_data"
    },
    {
     "name": "stdout",
     "output_type": "stream",
     "text": [
      "\n",
      "chemical_id:3330\n"
     ]
    },
    {
     "data": {
      "text/plain": [
       "array([0.     , 0.00133, 0.0033 , 0.0066 , 0.01   ])"
      ]
     },
     "metadata": {},
     "output_type": "display_data"
    },
    {
     "data": {
      "text/plain": [
       "0.01"
      ]
     },
     "metadata": {},
     "output_type": "display_data"
    },
    {
     "data": {
      "text/plain": [
       "0.0"
      ]
     },
     "metadata": {},
     "output_type": "display_data"
    },
    {
     "name": "stdout",
     "output_type": "stream",
     "text": [
      "\n",
      "chemical_id:3331\n"
     ]
    },
    {
     "data": {
      "text/plain": [
       "array([0.     , 0.00133, 0.0033 , 0.0066 , 0.01   ])"
      ]
     },
     "metadata": {},
     "output_type": "display_data"
    },
    {
     "data": {
      "text/plain": [
       "0.01"
      ]
     },
     "metadata": {},
     "output_type": "display_data"
    },
    {
     "data": {
      "text/plain": [
       "0.0"
      ]
     },
     "metadata": {},
     "output_type": "display_data"
    },
    {
     "name": "stdout",
     "output_type": "stream",
     "text": [
      "\n",
      "chemical_id:3332\n"
     ]
    },
    {
     "data": {
      "text/plain": [
       "array([0.     , 0.00133, 0.0033 , 0.0066 , 0.01   ])"
      ]
     },
     "metadata": {},
     "output_type": "display_data"
    },
    {
     "data": {
      "text/plain": [
       "0.01"
      ]
     },
     "metadata": {},
     "output_type": "display_data"
    },
    {
     "data": {
      "text/plain": [
       "0.0"
      ]
     },
     "metadata": {},
     "output_type": "display_data"
    },
    {
     "name": "stdout",
     "output_type": "stream",
     "text": [
      "\n",
      "chemical_id:3334\n"
     ]
    },
    {
     "data": {
      "text/plain": [
       "array([0.     , 0.00133, 0.0033 , 0.0066 , 0.01   ])"
      ]
     },
     "metadata": {},
     "output_type": "display_data"
    },
    {
     "data": {
      "text/plain": [
       "0.01"
      ]
     },
     "metadata": {},
     "output_type": "display_data"
    },
    {
     "data": {
      "text/plain": [
       "0.0"
      ]
     },
     "metadata": {},
     "output_type": "display_data"
    }
   ],
   "source": [
    "full_devel = \"full\"\n",
    "#full_devel = \"devel\"\n",
    "\n",
    "if (full_devel == \"full\"):\n",
    "    chemical_id_from_here = np.unique(df['chemical.id'])\n",
    "else:\n",
    "    chemical_id_from_here = [101]\n",
    "\n",
    "total_number_of_chemicals_to_process = len(chemical_id_from_here)\n",
    "\n",
    "for chemical_id in chemical_id_from_here:\n",
    "    print(f\"\\nchemical_id:{chemical_id}\")\n",
    "    df_per_chemical_id = df.loc[df['chemical.id'] == chemical_id,['chemical.id', 'conc']]\n",
    "    #display(df_per_chemical_id.head())\n",
    "    df_per_chemical_id.sort_values(by=['conc'])\n",
    "    display(np.unique(df_per_chemical_id['conc']))\n",
    "    display(max(df_per_chemical_id['conc']))\n",
    "    display(min(df_per_chemical_id['conc']))\n"
   ]
  },
  {
   "cell_type": "code",
   "execution_count": 19,
   "metadata": {},
   "outputs": [
    {
     "data": {
      "text/plain": [
       "84"
      ]
     },
     "metadata": {},
     "output_type": "display_data"
    },
    {
     "data": {
      "text/html": [
       "<div>\n",
       "<style scoped>\n",
       "    .dataframe tbody tr th:only-of-type {\n",
       "        vertical-align: middle;\n",
       "    }\n",
       "\n",
       "    .dataframe tbody tr th {\n",
       "        vertical-align: top;\n",
       "    }\n",
       "\n",
       "    .dataframe thead th {\n",
       "        text-align: right;\n",
       "    }\n",
       "</style>\n",
       "<table border=\"1\" class=\"dataframe\">\n",
       "  <thead>\n",
       "    <tr style=\"text-align: right;\">\n",
       "      <th></th>\n",
       "      <th>chemical.id</th>\n",
       "      <th>bottle.id</th>\n",
       "      <th>conc</th>\n",
       "      <th>plate.id</th>\n",
       "      <th>well</th>\n",
       "      <th>date</th>\n",
       "      <th>endpoint</th>\n",
       "      <th>value</th>\n",
       "    </tr>\n",
       "  </thead>\n",
       "  <tbody>\n",
       "    <tr>\n",
       "      <th>0</th>\n",
       "      <td>101</td>\n",
       "      <td>C51699</td>\n",
       "      <td>0.0</td>\n",
       "      <td>10021</td>\n",
       "      <td>A06</td>\n",
       "      <td>20151113</td>\n",
       "      <td>MO24</td>\n",
       "      <td>0.0</td>\n",
       "    </tr>\n",
       "    <tr>\n",
       "      <th>1</th>\n",
       "      <td>101</td>\n",
       "      <td>C51699</td>\n",
       "      <td>0.0</td>\n",
       "      <td>10021</td>\n",
       "      <td>B06</td>\n",
       "      <td>20151113</td>\n",
       "      <td>MO24</td>\n",
       "      <td>0.0</td>\n",
       "    </tr>\n",
       "    <tr>\n",
       "      <th>2</th>\n",
       "      <td>101</td>\n",
       "      <td>C51699</td>\n",
       "      <td>0.0</td>\n",
       "      <td>10021</td>\n",
       "      <td>C06</td>\n",
       "      <td>20151113</td>\n",
       "      <td>MO24</td>\n",
       "      <td>0.0</td>\n",
       "    </tr>\n",
       "    <tr>\n",
       "      <th>3</th>\n",
       "      <td>101</td>\n",
       "      <td>C51699</td>\n",
       "      <td>0.0</td>\n",
       "      <td>10021</td>\n",
       "      <td>D06</td>\n",
       "      <td>20151113</td>\n",
       "      <td>MO24</td>\n",
       "      <td>1.0</td>\n",
       "    </tr>\n",
       "    <tr>\n",
       "      <th>4</th>\n",
       "      <td>101</td>\n",
       "      <td>C51699</td>\n",
       "      <td>0.0</td>\n",
       "      <td>10021</td>\n",
       "      <td>E06</td>\n",
       "      <td>20151113</td>\n",
       "      <td>MO24</td>\n",
       "      <td>0.0</td>\n",
       "    </tr>\n",
       "    <tr>\n",
       "      <th>...</th>\n",
       "      <td>...</td>\n",
       "      <td>...</td>\n",
       "      <td>...</td>\n",
       "      <td>...</td>\n",
       "      <td>...</td>\n",
       "      <td>...</td>\n",
       "      <td>...</td>\n",
       "      <td>...</td>\n",
       "    </tr>\n",
       "    <tr>\n",
       "      <th>24601</th>\n",
       "      <td>3334</td>\n",
       "      <td>C295432</td>\n",
       "      <td>0.0</td>\n",
       "      <td>16888</td>\n",
       "      <td>A06</td>\n",
       "      <td>20180302</td>\n",
       "      <td>MO24</td>\n",
       "      <td>0.0</td>\n",
       "    </tr>\n",
       "    <tr>\n",
       "      <th>24602</th>\n",
       "      <td>3334</td>\n",
       "      <td>C295432</td>\n",
       "      <td>0.0</td>\n",
       "      <td>16888</td>\n",
       "      <td>B06</td>\n",
       "      <td>20180302</td>\n",
       "      <td>MO24</td>\n",
       "      <td>0.0</td>\n",
       "    </tr>\n",
       "    <tr>\n",
       "      <th>24603</th>\n",
       "      <td>3334</td>\n",
       "      <td>C295432</td>\n",
       "      <td>0.0</td>\n",
       "      <td>16888</td>\n",
       "      <td>C06</td>\n",
       "      <td>20180302</td>\n",
       "      <td>MO24</td>\n",
       "      <td>0.0</td>\n",
       "    </tr>\n",
       "    <tr>\n",
       "      <th>24604</th>\n",
       "      <td>3334</td>\n",
       "      <td>C295432</td>\n",
       "      <td>0.0</td>\n",
       "      <td>16888</td>\n",
       "      <td>D06</td>\n",
       "      <td>20180302</td>\n",
       "      <td>MO24</td>\n",
       "      <td>1.0</td>\n",
       "    </tr>\n",
       "    <tr>\n",
       "      <th>24605</th>\n",
       "      <td>3334</td>\n",
       "      <td>C295432</td>\n",
       "      <td>0.0</td>\n",
       "      <td>16888</td>\n",
       "      <td>E06</td>\n",
       "      <td>20180302</td>\n",
       "      <td>MO24</td>\n",
       "      <td>0.0</td>\n",
       "    </tr>\n",
       "  </tbody>\n",
       "</table>\n",
       "<p>420 rows × 8 columns</p>\n",
       "</div>"
      ],
      "text/plain": [
       "       chemical.id bottle.id  conc plate.id well      date endpoint  value\n",
       "0              101    C51699   0.0    10021  A06  20151113     MO24    0.0\n",
       "1              101    C51699   0.0    10021  B06  20151113     MO24    0.0\n",
       "2              101    C51699   0.0    10021  C06  20151113     MO24    0.0\n",
       "3              101    C51699   0.0    10021  D06  20151113     MO24    1.0\n",
       "4              101    C51699   0.0    10021  E06  20151113     MO24    0.0\n",
       "...            ...       ...   ...      ...  ...       ...      ...    ...\n",
       "24601         3334   C295432   0.0    16888  A06  20180302     MO24    0.0\n",
       "24602         3334   C295432   0.0    16888  B06  20180302     MO24    0.0\n",
       "24603         3334   C295432   0.0    16888  C06  20180302     MO24    0.0\n",
       "24604         3334   C295432   0.0    16888  D06  20180302     MO24    1.0\n",
       "24605         3334   C295432   0.0    16888  E06  20180302     MO24    0.0\n",
       "\n",
       "[420 rows x 8 columns]"
      ]
     },
     "metadata": {},
     "output_type": "display_data"
    }
   ],
   "source": [
    "df_grouped = df.groupby(['chemical.id'])\n",
    "display(len(df_grouped))\n",
    "display(df_grouped.head())"
   ]
  },
  {
   "cell_type": "code",
   "execution_count": 24,
   "metadata": {},
   "outputs": [
    {
     "ename": "ValueError",
     "evalue": "The truth value of a Series is ambiguous. Use a.empty, a.bool(), a.item(), a.any() or a.all().",
     "output_type": "error",
     "traceback": [
      "\u001b[0;31m---------------------------------------------------------------------------\u001b[0m",
      "\u001b[0;31mValueError\u001b[0m                                Traceback (most recent call last)",
      "\u001b[0;32m<ipython-input-24-6abd6badd6b0>\u001b[0m in \u001b[0;36m<module>\u001b[0;34m()\u001b[0m\n\u001b[0;32m----> 1\u001b[0;31m \u001b[0mdisplay\u001b[0m \u001b[0;34m(\u001b[0m\u001b[0mnp\u001b[0m\u001b[0;34m.\u001b[0m\u001b[0munique\u001b[0m\u001b[0;34m(\u001b[0m\u001b[0mdf_grouped\u001b[0m\u001b[0;34m[\u001b[0m\u001b[0;34m'conc'\u001b[0m\u001b[0;34m]\u001b[0m\u001b[0;34m)\u001b[0m\u001b[0;34m)\u001b[0m\u001b[0;34m\u001b[0m\u001b[0;34m\u001b[0m\u001b[0m\n\u001b[0m",
      "\u001b[0;32m<__array_function__ internals>\u001b[0m in \u001b[0;36munique\u001b[0;34m(*args, **kwargs)\u001b[0m\n",
      "\u001b[0;32m/Users/kimd999/bin/miniconda3/envs/tox/lib/python3.7/site-packages/numpy/lib/arraysetops.py\u001b[0m in \u001b[0;36munique\u001b[0;34m(ar, return_index, return_inverse, return_counts, axis)\u001b[0m\n\u001b[1;32m    259\u001b[0m     \u001b[0mar\u001b[0m \u001b[0;34m=\u001b[0m \u001b[0mnp\u001b[0m\u001b[0;34m.\u001b[0m\u001b[0masanyarray\u001b[0m\u001b[0;34m(\u001b[0m\u001b[0mar\u001b[0m\u001b[0;34m)\u001b[0m\u001b[0;34m\u001b[0m\u001b[0;34m\u001b[0m\u001b[0m\n\u001b[1;32m    260\u001b[0m     \u001b[0;32mif\u001b[0m \u001b[0maxis\u001b[0m \u001b[0;32mis\u001b[0m \u001b[0;32mNone\u001b[0m\u001b[0;34m:\u001b[0m\u001b[0;34m\u001b[0m\u001b[0;34m\u001b[0m\u001b[0m\n\u001b[0;32m--> 261\u001b[0;31m         \u001b[0mret\u001b[0m \u001b[0;34m=\u001b[0m \u001b[0m_unique1d\u001b[0m\u001b[0;34m(\u001b[0m\u001b[0mar\u001b[0m\u001b[0;34m,\u001b[0m \u001b[0mreturn_index\u001b[0m\u001b[0;34m,\u001b[0m \u001b[0mreturn_inverse\u001b[0m\u001b[0;34m,\u001b[0m \u001b[0mreturn_counts\u001b[0m\u001b[0;34m)\u001b[0m\u001b[0;34m\u001b[0m\u001b[0;34m\u001b[0m\u001b[0m\n\u001b[0m\u001b[1;32m    262\u001b[0m         \u001b[0;32mreturn\u001b[0m \u001b[0m_unpack_tuple\u001b[0m\u001b[0;34m(\u001b[0m\u001b[0mret\u001b[0m\u001b[0;34m)\u001b[0m\u001b[0;34m\u001b[0m\u001b[0;34m\u001b[0m\u001b[0m\n\u001b[1;32m    263\u001b[0m \u001b[0;34m\u001b[0m\u001b[0m\n",
      "\u001b[0;32m/Users/kimd999/bin/miniconda3/envs/tox/lib/python3.7/site-packages/numpy/lib/arraysetops.py\u001b[0m in \u001b[0;36m_unique1d\u001b[0;34m(ar, return_index, return_inverse, return_counts)\u001b[0m\n\u001b[1;32m    320\u001b[0m         \u001b[0maux\u001b[0m \u001b[0;34m=\u001b[0m \u001b[0mar\u001b[0m\u001b[0;34m[\u001b[0m\u001b[0mperm\u001b[0m\u001b[0;34m]\u001b[0m\u001b[0;34m\u001b[0m\u001b[0;34m\u001b[0m\u001b[0m\n\u001b[1;32m    321\u001b[0m     \u001b[0;32melse\u001b[0m\u001b[0;34m:\u001b[0m\u001b[0;34m\u001b[0m\u001b[0;34m\u001b[0m\u001b[0m\n\u001b[0;32m--> 322\u001b[0;31m         \u001b[0mar\u001b[0m\u001b[0;34m.\u001b[0m\u001b[0msort\u001b[0m\u001b[0;34m(\u001b[0m\u001b[0;34m)\u001b[0m\u001b[0;34m\u001b[0m\u001b[0;34m\u001b[0m\u001b[0m\n\u001b[0m\u001b[1;32m    323\u001b[0m         \u001b[0maux\u001b[0m \u001b[0;34m=\u001b[0m \u001b[0mar\u001b[0m\u001b[0;34m\u001b[0m\u001b[0;34m\u001b[0m\u001b[0m\n\u001b[1;32m    324\u001b[0m     \u001b[0mmask\u001b[0m \u001b[0;34m=\u001b[0m \u001b[0mnp\u001b[0m\u001b[0;34m.\u001b[0m\u001b[0mempty\u001b[0m\u001b[0;34m(\u001b[0m\u001b[0maux\u001b[0m\u001b[0;34m.\u001b[0m\u001b[0mshape\u001b[0m\u001b[0;34m,\u001b[0m \u001b[0mdtype\u001b[0m\u001b[0;34m=\u001b[0m\u001b[0mnp\u001b[0m\u001b[0;34m.\u001b[0m\u001b[0mbool_\u001b[0m\u001b[0;34m)\u001b[0m\u001b[0;34m\u001b[0m\u001b[0;34m\u001b[0m\u001b[0m\n",
      "\u001b[0;32m/Users/kimd999/bin/miniconda3/envs/tox/lib/python3.7/site-packages/pandas/core/generic.py\u001b[0m in \u001b[0;36m__nonzero__\u001b[0;34m(self)\u001b[0m\n\u001b[1;32m   1328\u001b[0m     \u001b[0;32mdef\u001b[0m \u001b[0m__nonzero__\u001b[0m\u001b[0;34m(\u001b[0m\u001b[0mself\u001b[0m\u001b[0;34m)\u001b[0m\u001b[0;34m:\u001b[0m\u001b[0;34m\u001b[0m\u001b[0;34m\u001b[0m\u001b[0m\n\u001b[1;32m   1329\u001b[0m         raise ValueError(\n\u001b[0;32m-> 1330\u001b[0;31m             \u001b[0;34mf\"The truth value of a {type(self).__name__} is ambiguous. \"\u001b[0m\u001b[0;34m\u001b[0m\u001b[0;34m\u001b[0m\u001b[0m\n\u001b[0m\u001b[1;32m   1331\u001b[0m             \u001b[0;34m\"Use a.empty, a.bool(), a.item(), a.any() or a.all().\"\u001b[0m\u001b[0;34m\u001b[0m\u001b[0;34m\u001b[0m\u001b[0m\n\u001b[1;32m   1332\u001b[0m         )\n",
      "\u001b[0;31mValueError\u001b[0m: The truth value of a Series is ambiguous. Use a.empty, a.bool(), a.item(), a.any() or a.all()."
     ]
    }
   ],
   "source": [
    "display (np.unique(df_grouped['conc']))"
   ]
  },
  {
   "cell_type": "code",
   "execution_count": null,
   "metadata": {},
   "outputs": [],
   "source": [
    "a=b"
   ]
  },
  {
   "cell_type": "code",
   "execution_count": 8,
   "metadata": {},
   "outputs": [
    {
     "data": {
      "text/html": [
       "<div>\n",
       "<style scoped>\n",
       "    .dataframe tbody tr th:only-of-type {\n",
       "        vertical-align: middle;\n",
       "    }\n",
       "\n",
       "    .dataframe tbody tr th {\n",
       "        vertical-align: top;\n",
       "    }\n",
       "\n",
       "    .dataframe thead th {\n",
       "        text-align: right;\n",
       "    }\n",
       "</style>\n",
       "<table border=\"1\" class=\"dataframe\">\n",
       "  <thead>\n",
       "    <tr style=\"text-align: right;\">\n",
       "      <th></th>\n",
       "      <th>chemical.id</th>\n",
       "      <th>bottle.id</th>\n",
       "      <th>conc</th>\n",
       "      <th>plate.id</th>\n",
       "      <th>well</th>\n",
       "      <th>variable</th>\n",
       "      <th>value</th>\n",
       "    </tr>\n",
       "  </thead>\n",
       "  <tbody>\n",
       "    <tr>\n",
       "      <th>0</th>\n",
       "      <td>234</td>\n",
       "      <td>NTP DNT 91-A1</td>\n",
       "      <td>0.0</td>\n",
       "      <td>14389</td>\n",
       "      <td>H01</td>\n",
       "      <td>t0</td>\n",
       "      <td>17.223000</td>\n",
       "    </tr>\n",
       "    <tr>\n",
       "      <th>1</th>\n",
       "      <td>234</td>\n",
       "      <td>NTP DNT 91-A1</td>\n",
       "      <td>0.0</td>\n",
       "      <td>14389</td>\n",
       "      <td>H02</td>\n",
       "      <td>t0</td>\n",
       "      <td>12.876000</td>\n",
       "    </tr>\n",
       "    <tr>\n",
       "      <th>2</th>\n",
       "      <td>234</td>\n",
       "      <td>NTP DNT 91-A1</td>\n",
       "      <td>0.0</td>\n",
       "      <td>14389</td>\n",
       "      <td>H03</td>\n",
       "      <td>t0</td>\n",
       "      <td>24.156000</td>\n",
       "    </tr>\n",
       "    <tr>\n",
       "      <th>3</th>\n",
       "      <td>234</td>\n",
       "      <td>NTP DNT 91-A1</td>\n",
       "      <td>0.0</td>\n",
       "      <td>14389</td>\n",
       "      <td>H04</td>\n",
       "      <td>t0</td>\n",
       "      <td>31.421999</td>\n",
       "    </tr>\n",
       "    <tr>\n",
       "      <th>4</th>\n",
       "      <td>234</td>\n",
       "      <td>NTP DNT 91-A1</td>\n",
       "      <td>0.0</td>\n",
       "      <td>14389</td>\n",
       "      <td>H05</td>\n",
       "      <td>t0</td>\n",
       "      <td>36.917999</td>\n",
       "    </tr>\n",
       "  </tbody>\n",
       "</table>\n",
       "</div>"
      ],
      "text/plain": [
       "   chemical.id      bottle.id  conc  plate.id well variable      value\n",
       "0          234  NTP DNT 91-A1   0.0     14389  H01       t0  17.223000\n",
       "1          234  NTP DNT 91-A1   0.0     14389  H02       t0  12.876000\n",
       "2          234  NTP DNT 91-A1   0.0     14389  H03       t0  24.156000\n",
       "3          234  NTP DNT 91-A1   0.0     14389  H04       t0  31.421999\n",
       "4          234  NTP DNT 91-A1   0.0     14389  H05       t0  36.917999"
      ]
     },
     "metadata": {},
     "output_type": "display_data"
    },
    {
     "data": {
      "text/plain": [
       "215"
      ]
     },
     "metadata": {},
     "output_type": "display_data"
    },
    {
     "data": {
      "text/plain": [
       "array([ 234,  275,  280,  385,  397,  443,  467,  505,  588,  595,  622,\n",
       "        660,  692,  699,  725,  726,  947,  949,  955, 1016, 1017, 1031,\n",
       "       1155, 1174, 1175, 1178, 1179, 1182, 1189, 1209, 1213, 1214, 1215,\n",
       "       1216, 1220, 1222, 1241, 1312, 1315, 1371, 1430, 1595, 1601, 1607,\n",
       "       1610, 1611, 1624, 1626, 1642, 1651, 1830, 1855, 1898, 1925, 1947,\n",
       "       2076, 2090, 2110, 2151, 2180, 2192, 2240, 2323, 2358, 2585, 2587,\n",
       "       2589, 2590, 2594, 2595, 2596, 2597, 2598, 2599, 2600, 2602, 2635,\n",
       "       2636, 2650, 2685, 2686, 2715, 2739, 2821, 2973, 2994, 3007, 3056,\n",
       "       3133, 3136, 3189, 3191, 3766, 3771, 3853, 4336, 4337, 4338, 4339,\n",
       "       4340, 4341, 4342, 4343, 4344, 4345, 4346, 4347, 4348, 4349, 4350,\n",
       "       4351, 4352, 4353, 4354, 4355, 4356, 4357, 4358, 4359, 4360, 4361,\n",
       "       4362, 4363, 4364, 4365, 4366, 4367, 4368, 4369, 4370, 4371, 4372,\n",
       "       4373, 4374, 4375, 4376, 4377, 4378, 4379, 4380, 4381, 4382, 4383,\n",
       "       4384, 4385, 4386, 4387, 4388, 4390, 4391, 4392, 4393, 4394, 4395,\n",
       "       4396, 4397, 4398, 4399, 4400, 4401, 4402, 4403, 4404, 4405, 4406,\n",
       "       4407, 4408, 4410, 4411, 4412, 4413, 4414, 4415, 4416, 4417, 4418,\n",
       "       4419, 4420, 4421, 4422, 4423, 4424, 4425, 4426, 4427, 4428, 4429,\n",
       "       4430, 4431, 4432, 4433, 4434, 4435, 4436, 4437, 4438, 4439, 4440,\n",
       "       4441, 4442, 4443, 4444, 4445, 4446, 4447, 4448, 4449, 4450, 4451,\n",
       "       4452, 4453, 4454, 4455, 4456, 4457])"
      ]
     },
     "metadata": {},
     "output_type": "display_data"
    }
   ],
   "source": [
    "# tall\n",
    "complete_input_file_path= '/Users/kimd999/research/projects/toxicity/per_each_data/phase_III/input/behavior/LPR/tall/Tanguay_Phase_3_zf_LPR_data_PNNL_2021MAR23.csv'\n",
    "df = pd.read_csv(complete_input_file_path, header = 0)\n",
    "#print(df.columns)\n",
    "\n",
    "display(df.head())\n",
    "\n",
    "display (len(np.unique(df['chemical.id'])))\n",
    "display (np.unique(df['chemical.id']))\n",
    "\n",
    "#display (len(np.unique(df['plate.id'])))\n",
    "#display (np.unique(df['plate.id']))"
   ]
  },
  {
   "cell_type": "code",
   "execution_count": 7,
   "metadata": {},
   "outputs": [
    {
     "data": {
      "text/html": [
       "<div>\n",
       "<style scoped>\n",
       "    .dataframe tbody tr th:only-of-type {\n",
       "        vertical-align: middle;\n",
       "    }\n",
       "\n",
       "    .dataframe tbody tr th {\n",
       "        vertical-align: top;\n",
       "    }\n",
       "\n",
       "    .dataframe thead th {\n",
       "        text-align: right;\n",
       "    }\n",
       "</style>\n",
       "<table border=\"1\" class=\"dataframe\">\n",
       "  <thead>\n",
       "    <tr style=\"text-align: right;\">\n",
       "      <th></th>\n",
       "      <th>chemical.id</th>\n",
       "      <th>plate.id</th>\n",
       "      <th>well</th>\n",
       "      <th>chemical_plate_well</th>\n",
       "      <th>conc</th>\n",
       "      <th>t0</th>\n",
       "      <th>t1</th>\n",
       "      <th>t2</th>\n",
       "      <th>t3</th>\n",
       "      <th>t4</th>\n",
       "      <th>...</th>\n",
       "      <th>t230</th>\n",
       "      <th>t231</th>\n",
       "      <th>t232</th>\n",
       "      <th>t233</th>\n",
       "      <th>t234</th>\n",
       "      <th>t235</th>\n",
       "      <th>t236</th>\n",
       "      <th>t237</th>\n",
       "      <th>t238</th>\n",
       "      <th>t239</th>\n",
       "    </tr>\n",
       "  </thead>\n",
       "  <tbody>\n",
       "    <tr>\n",
       "      <th>0</th>\n",
       "      <td>234</td>\n",
       "      <td>14389</td>\n",
       "      <td>A01</td>\n",
       "      <td>234_14389_A01</td>\n",
       "      <td>67.0</td>\n",
       "      <td>5.480</td>\n",
       "      <td>0.0</td>\n",
       "      <td>0.0</td>\n",
       "      <td>0.0</td>\n",
       "      <td>0.0</td>\n",
       "      <td>...</td>\n",
       "      <td>0.000</td>\n",
       "      <td>0.000</td>\n",
       "      <td>0.000</td>\n",
       "      <td>0.000</td>\n",
       "      <td>0.000</td>\n",
       "      <td>0.000</td>\n",
       "      <td>2.281</td>\n",
       "      <td>0.000</td>\n",
       "      <td>0.123</td>\n",
       "      <td>0.000</td>\n",
       "    </tr>\n",
       "    <tr>\n",
       "      <th>1</th>\n",
       "      <td>234</td>\n",
       "      <td>14389</td>\n",
       "      <td>A02</td>\n",
       "      <td>234_14389_A02</td>\n",
       "      <td>67.0</td>\n",
       "      <td>32.079</td>\n",
       "      <td>0.0</td>\n",
       "      <td>0.0</td>\n",
       "      <td>0.0</td>\n",
       "      <td>0.0</td>\n",
       "      <td>...</td>\n",
       "      <td>0.000</td>\n",
       "      <td>0.000</td>\n",
       "      <td>0.000</td>\n",
       "      <td>0.000</td>\n",
       "      <td>0.618</td>\n",
       "      <td>1.341</td>\n",
       "      <td>1.430</td>\n",
       "      <td>0.000</td>\n",
       "      <td>0.000</td>\n",
       "      <td>0.000</td>\n",
       "    </tr>\n",
       "    <tr>\n",
       "      <th>2</th>\n",
       "      <td>234</td>\n",
       "      <td>14389</td>\n",
       "      <td>A03</td>\n",
       "      <td>234_14389_A03</td>\n",
       "      <td>67.0</td>\n",
       "      <td>13.307</td>\n",
       "      <td>0.0</td>\n",
       "      <td>0.0</td>\n",
       "      <td>0.0</td>\n",
       "      <td>0.0</td>\n",
       "      <td>...</td>\n",
       "      <td>13.011</td>\n",
       "      <td>11.341</td>\n",
       "      <td>4.929</td>\n",
       "      <td>7.515</td>\n",
       "      <td>4.945</td>\n",
       "      <td>10.594</td>\n",
       "      <td>5.991</td>\n",
       "      <td>5.906</td>\n",
       "      <td>9.567</td>\n",
       "      <td>15.081</td>\n",
       "    </tr>\n",
       "    <tr>\n",
       "      <th>3</th>\n",
       "      <td>234</td>\n",
       "      <td>14389</td>\n",
       "      <td>A04</td>\n",
       "      <td>234_14389_A04</td>\n",
       "      <td>67.0</td>\n",
       "      <td>5.473</td>\n",
       "      <td>0.0</td>\n",
       "      <td>0.0</td>\n",
       "      <td>0.0</td>\n",
       "      <td>0.0</td>\n",
       "      <td>...</td>\n",
       "      <td>0.000</td>\n",
       "      <td>0.000</td>\n",
       "      <td>0.000</td>\n",
       "      <td>0.000</td>\n",
       "      <td>0.000</td>\n",
       "      <td>1.580</td>\n",
       "      <td>21.592</td>\n",
       "      <td>16.256</td>\n",
       "      <td>0.000</td>\n",
       "      <td>0.000</td>\n",
       "    </tr>\n",
       "    <tr>\n",
       "      <th>4</th>\n",
       "      <td>234</td>\n",
       "      <td>14389</td>\n",
       "      <td>A05</td>\n",
       "      <td>234_14389_A05</td>\n",
       "      <td>67.0</td>\n",
       "      <td>23.419</td>\n",
       "      <td>0.0</td>\n",
       "      <td>0.0</td>\n",
       "      <td>0.0</td>\n",
       "      <td>0.0</td>\n",
       "      <td>...</td>\n",
       "      <td>0.000</td>\n",
       "      <td>0.000</td>\n",
       "      <td>0.000</td>\n",
       "      <td>0.000</td>\n",
       "      <td>0.000</td>\n",
       "      <td>3.056</td>\n",
       "      <td>1.710</td>\n",
       "      <td>0.000</td>\n",
       "      <td>0.000</td>\n",
       "      <td>0.000</td>\n",
       "    </tr>\n",
       "  </tbody>\n",
       "</table>\n",
       "<p>5 rows × 245 columns</p>\n",
       "</div>"
      ],
      "text/plain": [
       "   chemical.id  plate.id well chemical_plate_well  conc      t0   t1   t2  \\\n",
       "0          234     14389  A01       234_14389_A01  67.0   5.480  0.0  0.0   \n",
       "1          234     14389  A02       234_14389_A02  67.0  32.079  0.0  0.0   \n",
       "2          234     14389  A03       234_14389_A03  67.0  13.307  0.0  0.0   \n",
       "3          234     14389  A04       234_14389_A04  67.0   5.473  0.0  0.0   \n",
       "4          234     14389  A05       234_14389_A05  67.0  23.419  0.0  0.0   \n",
       "\n",
       "    t3   t4  ...    t230    t231   t232   t233   t234    t235    t236    t237  \\\n",
       "0  0.0  0.0  ...   0.000   0.000  0.000  0.000  0.000   0.000   2.281   0.000   \n",
       "1  0.0  0.0  ...   0.000   0.000  0.000  0.000  0.618   1.341   1.430   0.000   \n",
       "2  0.0  0.0  ...  13.011  11.341  4.929  7.515  4.945  10.594   5.991   5.906   \n",
       "3  0.0  0.0  ...   0.000   0.000  0.000  0.000  0.000   1.580  21.592  16.256   \n",
       "4  0.0  0.0  ...   0.000   0.000  0.000  0.000  0.000   3.056   1.710   0.000   \n",
       "\n",
       "    t238    t239  \n",
       "0  0.123   0.000  \n",
       "1  0.000   0.000  \n",
       "2  9.567  15.081  \n",
       "3  0.000   0.000  \n",
       "4  0.000   0.000  \n",
       "\n",
       "[5 rows x 245 columns]"
      ]
     },
     "metadata": {},
     "output_type": "display_data"
    },
    {
     "data": {
      "text/plain": [
       "1"
      ]
     },
     "metadata": {},
     "output_type": "display_data"
    },
    {
     "data": {
      "text/plain": [
       "array([234])"
      ]
     },
     "metadata": {},
     "output_type": "display_data"
    }
   ],
   "source": [
    "#wide\n",
    "complete_input_file_path= '/Users/kimd999/research/projects/toxicity/per_each_data/phase_III/input/behavior/LPR/wide/Tanguay_Phase_3_zf_LPR_data_PNNL_2021_wide_t0_t239_devel_w_240_endpoints.csv'\n",
    "df = pd.read_csv(complete_input_file_path, header = 0)\n",
    "#print(df.columns)\n",
    "\n",
    "display(df.head())\n",
    "\n",
    "display (len(np.unique(df['chemical.id'])))\n",
    "display (np.unique(df['chemical.id']))\n",
    "\n",
    "#display (len(np.unique(df['plate.id'])))\n",
    "#display (np.unique(df['plate.id']))"
   ]
  },
  {
   "cell_type": "code",
   "execution_count": 4,
   "metadata": {},
   "outputs": [
    {
     "ename": "FileNotFoundError",
     "evalue": "[Errno 2] No such file or directory: '/Users/kimd999/research/projects/toxicity/per_each_data/phase_III/input/morpho/full/wide/Tanguay_Phase_3_zf_morphology_data_PNNL_2021MAR23_full_w_14_endpoints_wide_DNC_0_full.csv'",
     "output_type": "error",
     "traceback": [
      "\u001b[0;31m---------------------------------------------------------------------------\u001b[0m",
      "\u001b[0;31mFileNotFoundError\u001b[0m                         Traceback (most recent call last)",
      "\u001b[0;32m<ipython-input-4-49e2517817cd>\u001b[0m in \u001b[0;36m<module>\u001b[0;34m()\u001b[0m\n\u001b[1;32m      1\u001b[0m \u001b[0mcomplete_input_file_path\u001b[0m\u001b[0;34m=\u001b[0m \u001b[0;34m'/Users/kimd999/research/projects/toxicity/per_each_data/phase_III/input/morpho/full/wide/Tanguay_Phase_3_zf_morphology_data_PNNL_2021MAR23_full_w_14_endpoints_wide_DNC_0_full.csv'\u001b[0m\u001b[0;34m\u001b[0m\u001b[0;34m\u001b[0m\u001b[0m\n\u001b[0;32m----> 2\u001b[0;31m \u001b[0mdf\u001b[0m \u001b[0;34m=\u001b[0m \u001b[0mpd\u001b[0m\u001b[0;34m.\u001b[0m\u001b[0mread_csv\u001b[0m\u001b[0;34m(\u001b[0m\u001b[0mcomplete_input_file_path\u001b[0m\u001b[0;34m,\u001b[0m \u001b[0mheader\u001b[0m \u001b[0;34m=\u001b[0m \u001b[0;36m0\u001b[0m\u001b[0;34m)\u001b[0m\u001b[0;34m\u001b[0m\u001b[0;34m\u001b[0m\u001b[0m\n\u001b[0m\u001b[1;32m      3\u001b[0m \u001b[0;31m#print(df.columns)\u001b[0m\u001b[0;34m\u001b[0m\u001b[0;34m\u001b[0m\u001b[0;34m\u001b[0m\u001b[0m\n\u001b[1;32m      4\u001b[0m \u001b[0;34m\u001b[0m\u001b[0m\n\u001b[1;32m      5\u001b[0m \u001b[0mdisplay\u001b[0m\u001b[0;34m(\u001b[0m\u001b[0mdf\u001b[0m\u001b[0;34m.\u001b[0m\u001b[0mhead\u001b[0m\u001b[0;34m(\u001b[0m\u001b[0;34m)\u001b[0m\u001b[0;34m)\u001b[0m\u001b[0;34m\u001b[0m\u001b[0;34m\u001b[0m\u001b[0m\n",
      "\u001b[0;32m/Users/kimd999/bin/miniconda3/envs/tox/lib/python3.7/site-packages/pandas/io/parsers.py\u001b[0m in \u001b[0;36mread_csv\u001b[0;34m(filepath_or_buffer, sep, delimiter, header, names, index_col, usecols, squeeze, prefix, mangle_dupe_cols, dtype, engine, converters, true_values, false_values, skipinitialspace, skiprows, skipfooter, nrows, na_values, keep_default_na, na_filter, verbose, skip_blank_lines, parse_dates, infer_datetime_format, keep_date_col, date_parser, dayfirst, cache_dates, iterator, chunksize, compression, thousands, decimal, lineterminator, quotechar, quoting, doublequote, escapechar, comment, encoding, dialect, error_bad_lines, warn_bad_lines, delim_whitespace, low_memory, memory_map, float_precision)\u001b[0m\n\u001b[1;32m    684\u001b[0m     )\n\u001b[1;32m    685\u001b[0m \u001b[0;34m\u001b[0m\u001b[0m\n\u001b[0;32m--> 686\u001b[0;31m     \u001b[0;32mreturn\u001b[0m \u001b[0m_read\u001b[0m\u001b[0;34m(\u001b[0m\u001b[0mfilepath_or_buffer\u001b[0m\u001b[0;34m,\u001b[0m \u001b[0mkwds\u001b[0m\u001b[0;34m)\u001b[0m\u001b[0;34m\u001b[0m\u001b[0;34m\u001b[0m\u001b[0m\n\u001b[0m\u001b[1;32m    687\u001b[0m \u001b[0;34m\u001b[0m\u001b[0m\n\u001b[1;32m    688\u001b[0m \u001b[0;34m\u001b[0m\u001b[0m\n",
      "\u001b[0;32m/Users/kimd999/bin/miniconda3/envs/tox/lib/python3.7/site-packages/pandas/io/parsers.py\u001b[0m in \u001b[0;36m_read\u001b[0;34m(filepath_or_buffer, kwds)\u001b[0m\n\u001b[1;32m    450\u001b[0m \u001b[0;34m\u001b[0m\u001b[0m\n\u001b[1;32m    451\u001b[0m     \u001b[0;31m# Create the parser.\u001b[0m\u001b[0;34m\u001b[0m\u001b[0;34m\u001b[0m\u001b[0;34m\u001b[0m\u001b[0m\n\u001b[0;32m--> 452\u001b[0;31m     \u001b[0mparser\u001b[0m \u001b[0;34m=\u001b[0m \u001b[0mTextFileReader\u001b[0m\u001b[0;34m(\u001b[0m\u001b[0mfp_or_buf\u001b[0m\u001b[0;34m,\u001b[0m \u001b[0;34m**\u001b[0m\u001b[0mkwds\u001b[0m\u001b[0;34m)\u001b[0m\u001b[0;34m\u001b[0m\u001b[0;34m\u001b[0m\u001b[0m\n\u001b[0m\u001b[1;32m    453\u001b[0m \u001b[0;34m\u001b[0m\u001b[0m\n\u001b[1;32m    454\u001b[0m     \u001b[0;32mif\u001b[0m \u001b[0mchunksize\u001b[0m \u001b[0;32mor\u001b[0m \u001b[0miterator\u001b[0m\u001b[0;34m:\u001b[0m\u001b[0;34m\u001b[0m\u001b[0;34m\u001b[0m\u001b[0m\n",
      "\u001b[0;32m/Users/kimd999/bin/miniconda3/envs/tox/lib/python3.7/site-packages/pandas/io/parsers.py\u001b[0m in \u001b[0;36m__init__\u001b[0;34m(self, f, engine, **kwds)\u001b[0m\n\u001b[1;32m    944\u001b[0m             \u001b[0mself\u001b[0m\u001b[0;34m.\u001b[0m\u001b[0moptions\u001b[0m\u001b[0;34m[\u001b[0m\u001b[0;34m\"has_index_names\"\u001b[0m\u001b[0;34m]\u001b[0m \u001b[0;34m=\u001b[0m \u001b[0mkwds\u001b[0m\u001b[0;34m[\u001b[0m\u001b[0;34m\"has_index_names\"\u001b[0m\u001b[0;34m]\u001b[0m\u001b[0;34m\u001b[0m\u001b[0;34m\u001b[0m\u001b[0m\n\u001b[1;32m    945\u001b[0m \u001b[0;34m\u001b[0m\u001b[0m\n\u001b[0;32m--> 946\u001b[0;31m         \u001b[0mself\u001b[0m\u001b[0;34m.\u001b[0m\u001b[0m_make_engine\u001b[0m\u001b[0;34m(\u001b[0m\u001b[0mself\u001b[0m\u001b[0;34m.\u001b[0m\u001b[0mengine\u001b[0m\u001b[0;34m)\u001b[0m\u001b[0;34m\u001b[0m\u001b[0;34m\u001b[0m\u001b[0m\n\u001b[0m\u001b[1;32m    947\u001b[0m \u001b[0;34m\u001b[0m\u001b[0m\n\u001b[1;32m    948\u001b[0m     \u001b[0;32mdef\u001b[0m \u001b[0mclose\u001b[0m\u001b[0;34m(\u001b[0m\u001b[0mself\u001b[0m\u001b[0;34m)\u001b[0m\u001b[0;34m:\u001b[0m\u001b[0;34m\u001b[0m\u001b[0;34m\u001b[0m\u001b[0m\n",
      "\u001b[0;32m/Users/kimd999/bin/miniconda3/envs/tox/lib/python3.7/site-packages/pandas/io/parsers.py\u001b[0m in \u001b[0;36m_make_engine\u001b[0;34m(self, engine)\u001b[0m\n\u001b[1;32m   1176\u001b[0m     \u001b[0;32mdef\u001b[0m \u001b[0m_make_engine\u001b[0m\u001b[0;34m(\u001b[0m\u001b[0mself\u001b[0m\u001b[0;34m,\u001b[0m \u001b[0mengine\u001b[0m\u001b[0;34m=\u001b[0m\u001b[0;34m\"c\"\u001b[0m\u001b[0;34m)\u001b[0m\u001b[0;34m:\u001b[0m\u001b[0;34m\u001b[0m\u001b[0;34m\u001b[0m\u001b[0m\n\u001b[1;32m   1177\u001b[0m         \u001b[0;32mif\u001b[0m \u001b[0mengine\u001b[0m \u001b[0;34m==\u001b[0m \u001b[0;34m\"c\"\u001b[0m\u001b[0;34m:\u001b[0m\u001b[0;34m\u001b[0m\u001b[0;34m\u001b[0m\u001b[0m\n\u001b[0;32m-> 1178\u001b[0;31m             \u001b[0mself\u001b[0m\u001b[0;34m.\u001b[0m\u001b[0m_engine\u001b[0m \u001b[0;34m=\u001b[0m \u001b[0mCParserWrapper\u001b[0m\u001b[0;34m(\u001b[0m\u001b[0mself\u001b[0m\u001b[0;34m.\u001b[0m\u001b[0mf\u001b[0m\u001b[0;34m,\u001b[0m \u001b[0;34m**\u001b[0m\u001b[0mself\u001b[0m\u001b[0;34m.\u001b[0m\u001b[0moptions\u001b[0m\u001b[0;34m)\u001b[0m\u001b[0;34m\u001b[0m\u001b[0;34m\u001b[0m\u001b[0m\n\u001b[0m\u001b[1;32m   1179\u001b[0m         \u001b[0;32melse\u001b[0m\u001b[0;34m:\u001b[0m\u001b[0;34m\u001b[0m\u001b[0;34m\u001b[0m\u001b[0m\n\u001b[1;32m   1180\u001b[0m             \u001b[0;32mif\u001b[0m \u001b[0mengine\u001b[0m \u001b[0;34m==\u001b[0m \u001b[0;34m\"python\"\u001b[0m\u001b[0;34m:\u001b[0m\u001b[0;34m\u001b[0m\u001b[0;34m\u001b[0m\u001b[0m\n",
      "\u001b[0;32m/Users/kimd999/bin/miniconda3/envs/tox/lib/python3.7/site-packages/pandas/io/parsers.py\u001b[0m in \u001b[0;36m__init__\u001b[0;34m(self, src, **kwds)\u001b[0m\n\u001b[1;32m   2006\u001b[0m         \u001b[0mkwds\u001b[0m\u001b[0;34m[\u001b[0m\u001b[0;34m\"usecols\"\u001b[0m\u001b[0;34m]\u001b[0m \u001b[0;34m=\u001b[0m \u001b[0mself\u001b[0m\u001b[0;34m.\u001b[0m\u001b[0musecols\u001b[0m\u001b[0;34m\u001b[0m\u001b[0;34m\u001b[0m\u001b[0m\n\u001b[1;32m   2007\u001b[0m \u001b[0;34m\u001b[0m\u001b[0m\n\u001b[0;32m-> 2008\u001b[0;31m         \u001b[0mself\u001b[0m\u001b[0;34m.\u001b[0m\u001b[0m_reader\u001b[0m \u001b[0;34m=\u001b[0m \u001b[0mparsers\u001b[0m\u001b[0;34m.\u001b[0m\u001b[0mTextReader\u001b[0m\u001b[0;34m(\u001b[0m\u001b[0msrc\u001b[0m\u001b[0;34m,\u001b[0m \u001b[0;34m**\u001b[0m\u001b[0mkwds\u001b[0m\u001b[0;34m)\u001b[0m\u001b[0;34m\u001b[0m\u001b[0;34m\u001b[0m\u001b[0m\n\u001b[0m\u001b[1;32m   2009\u001b[0m         \u001b[0mself\u001b[0m\u001b[0;34m.\u001b[0m\u001b[0munnamed_cols\u001b[0m \u001b[0;34m=\u001b[0m \u001b[0mself\u001b[0m\u001b[0;34m.\u001b[0m\u001b[0m_reader\u001b[0m\u001b[0;34m.\u001b[0m\u001b[0munnamed_cols\u001b[0m\u001b[0;34m\u001b[0m\u001b[0;34m\u001b[0m\u001b[0m\n\u001b[1;32m   2010\u001b[0m \u001b[0;34m\u001b[0m\u001b[0m\n",
      "\u001b[0;32mpandas/_libs/parsers.pyx\u001b[0m in \u001b[0;36mpandas._libs.parsers.TextReader.__cinit__\u001b[0;34m()\u001b[0m\n",
      "\u001b[0;32mpandas/_libs/parsers.pyx\u001b[0m in \u001b[0;36mpandas._libs.parsers.TextReader._setup_parser_source\u001b[0;34m()\u001b[0m\n",
      "\u001b[0;31mFileNotFoundError\u001b[0m: [Errno 2] No such file or directory: '/Users/kimd999/research/projects/toxicity/per_each_data/phase_III/input/morpho/full/wide/Tanguay_Phase_3_zf_morphology_data_PNNL_2021MAR23_full_w_14_endpoints_wide_DNC_0_full.csv'"
     ]
    }
   ],
   "source": [
    "complete_input_file_path= '/Users/kimd999/research/projects/toxicity/per_each_data/phase_III/input/morpho/full/wide/Tanguay_Phase_3_zf_morphology_data_PNNL_2021MAR23_full_w_14_endpoints_wide_DNC_0_full.csv'\n",
    "df = pd.read_csv(complete_input_file_path, header = 0)\n",
    "#print(df.columns)\n",
    "\n",
    "display(df.head())\n",
    "\n",
    "display (len(np.unique(df['chemical.id'])))\n",
    "display (np.unique(df['chemical.id']))\n",
    "\n",
    "display (len(np.unique(df['plate.id'])))\n",
    "display (np.unique(df['plate.id']))"
   ]
  },
  {
   "cell_type": "code",
   "execution_count": null,
   "metadata": {},
   "outputs": [],
   "source": [
    "# count nan_0_1_data\n",
    "nan_count = 0\n",
    "zero_count = 0\n",
    "one_count = 0\n",
    "total_count = 0\n",
    "for (columnName, columnData) in reformatted.iteritems(): \n",
    "    if (columnName == \"chemical.id\") or (columnName == \"plate.id\") or (columnName == \"well\") or (columnName == \"chemical_plate_well\") or (columnName == \"conc\"):\n",
    "        continue\n",
    "#    print('Colunm Name : ', columnName) \n",
    "#    print('Column Contents : ', columnData.values[i])\n",
    "#    print (len(columnData.values))\n",
    "    for i in range(len(columnData.values)):\n",
    "        total_count += 1\n",
    "        if (str(columnData.values[i]) == \"nan\"):\n",
    "            nan_count += 1\n",
    "        elif (str(columnData.values[i]) == \"0.0\"):\n",
    "            zero_count += 1\n",
    "        elif (str(columnData.values[i]) == \"1.0\"):\n",
    "            one_count += 1\n",
    "#        print('Column Contents : ', columnData.values[i])\n",
    "print (\"nan_count:\" + str(nan_count))\n",
    "print (\"zero_count:\" + str(zero_count))\n",
    "print (\"one_count:\" + str(one_count))\n",
    "print (\"total_count:\" + str(total_count))\n"
   ]
  },
  {
   "cell_type": "code",
   "execution_count": null,
   "metadata": {},
   "outputs": [],
   "source": [
    "# divide per chemical.id\n",
    "    \n",
    "chemical_id_from_here = np.unique(df['chemical.id'])\n",
    "\n",
    "full_devel = \"full\"\n",
    "#full_devel = \"devel\"\n",
    "\n",
    "if (full_devel == \"devel\"):\n",
    "    randomly_chosen = random.sample(set(chemical_id_from_here), 2)\n",
    "    chemical_id_from_here = []\n",
    "    for i in range(len(randomly_chosen)):\n",
    "        chemical_id_from_here.append(randomly_chosen[i])\n",
    "\n",
    "chemical_id_from_here = [53]\n",
    "\n",
    "for chemical_id in chemical_id_from_here:\n",
    "    print (\"\\n\", chemical_id)\n",
    "    df_per_chemical = df.loc[df['chemical.id'] == chemical_id]\n",
    "    #display(df_per_chemical.head())\n",
    "\n",
    "    output_filename = \"df_per_chemical_\" + str(chemical_id) + \".csv\"\n",
    "    df_per_chemical.to_csv(output_filename,index=False)\n",
    "'''\n",
    "for chemical_index in chemical_id_from_here:\n",
    "    print(\"\\nchemical_index:\" + str(chemical_index))\n",
    "    df_per_chemical = df.loc[df['chemical.id'] == chemical_index]\n",
    "    display(df_per_chemical.head())\n",
    "\n",
    "    now = datetime.now()\n",
    "\n",
    "    current_time = now.strftime(\"%H:%M:%S\")\n",
    "    print(\"Current Time =\", current_time)\n",
    "'''    \n",
    "display(df_per_chemical.head())\n",
    "print (\"extraction per chemical is done.\") \n"
   ]
  },
  {
   "cell_type": "code",
   "execution_count": null,
   "metadata": {},
   "outputs": [],
   "source": [
    "complete_input_file_path= '/Users/kimd999/research/projects/toxicity/per_each_data/phase_I_II/input/LPR/latest/after_merging/wide/04_28_2021/344_zf_LPR_data_phase_1_2_2020JUNE25_updated_plate_id_for_TX_tall_fixed_full_240_timepoints_wide_full.csv'\n",
    "df = pd.read_csv(complete_input_file_path, header = 0)\n",
    "df = df.rename({'endpoint': 'timepoint'}, axis=1)\n",
    "\n",
    "display(df.head())\n",
    "\n",
    "display (len(np.unique(df['chemical.id'])))\n",
    "display (np.unique(df['chemical.id']))\n",
    "\n",
    "#display (len(np.unique(df['plate.id'])))\n",
    "#display (np.unique(df['plate.id']))"
   ]
  },
  {
   "cell_type": "code",
   "execution_count": null,
   "metadata": {},
   "outputs": [],
   "source": [
    "is_NaN = df.isnull()\n",
    "row_has_NaN = is_NaN.any(axis=1)\n",
    "rows_with_NaN = df[row_has_NaN]\n",
    "\n",
    "display(rows_with_NaN.head())\n",
    "display(rows_with_NaN.tail())\n",
    "display(len(rows_with_NaN))"
   ]
  },
  {
   "cell_type": "code",
   "execution_count": null,
   "metadata": {},
   "outputs": [],
   "source": [
    "display(\"before dropna, len(df):\"+str(len(df)))\n",
    "df = df.dropna(how='any')\n",
    "display(\"after dropna,  len(df):\"+str(len(df)))"
   ]
  },
  {
   "cell_type": "code",
   "execution_count": null,
   "metadata": {},
   "outputs": [],
   "source": [
    "df['chemical.id'] = df['chemical.id'].astype(int)\n",
    "    \n",
    "display (len(np.unique(df['chemical.id'])))\n",
    "display (np.unique(df['chemical.id']))\n",
    "\n",
    "df['plate.id'] = df['plate.id'].astype(str)\n",
    "try:\n",
    "    df['plate.id'] = df['plate.id'].astype(float)\n",
    "    df['plate.id'] = df['plate.id'].astype(int)\n",
    "except:\n",
    "    pass\n",
    "\n",
    "display (len(np.unique(df['plate.id'])))\n",
    "display (np.unique(df['plate.id']))\n",
    "\n",
    "display (df.head())"
   ]
  },
  {
   "cell_type": "code",
   "execution_count": null,
   "metadata": {},
   "outputs": [],
   "source": [
    "len_timepoint = []\n",
    "\n",
    "chemical_id_from_here = np.unique(df['chemical.id'])\n",
    "        \n",
    "total_number_of_chemicals_to_processed = len(chemical_id_from_here)\n",
    "number_of_chemicals_processed = 0\n",
    "\n",
    "for chemical_index in chemical_id_from_here:\n",
    "    df_chemical = df.loc[df['chemical.id'] == chemical_index,:]\n",
    "    #print(\"chemical_index:\" + str(chemical_index))\n",
    "    \n",
    "    len_timepoint.append(len(np.unique(df_chemical['timepoint'])))\n",
    "    \n",
    "    #number_of_chemicals_processed += 1\n",
    "    #write_this = str(number_of_chemicals_processed) + \" chemicals processed out of \" + str(total_number_of_chemicals_to_processed)\n",
    "    #print(write_this)\n"
   ]
  },
  {
   "cell_type": "code",
   "execution_count": null,
   "metadata": {},
   "outputs": [],
   "source": [
    "ds = pd.Series({\"Column\": len_timepoint})\n",
    "plt.figure(figsize=(8,4))\n",
    "#plt.savefig(\"distribute.png\")\n",
    "sns.countplot(x=\"Column\", data=ds)"
   ]
  },
  {
   "cell_type": "code",
   "execution_count": null,
   "metadata": {},
   "outputs": [],
   "source": [
    "file_path = '/Users/kimd999/research/projects/toxicity/per_each_data/phase_I_II/input/LPR/latest/before_merging/344_zf_LPR_data_phase_1_2_2020JUNE25_updated_plate_id_for_TX_tall_fixed.csv'\n",
    "df = pd.read_csv(file_path, header = 0)\n",
    "df = df.rename({'endpoint': 'timepoint'}, axis=1)\n",
    "\n",
    "display(df.head())\n",
    "\n",
    "display (len(np.unique(df['chemical.id'])))\n",
    "display (np.unique(df['chemical.id']))\n",
    "\n",
    "display (len(np.unique(df['plate.id'])))\n",
    "display (np.unique(df['plate.id']))"
   ]
  },
  {
   "cell_type": "code",
   "execution_count": null,
   "metadata": {},
   "outputs": [],
   "source": [
    "\n",
    "\n",
    "file_path = '/Users/kimd999/research/projects/toxicity/per_each_data/phase_I_II/input/LPR/after_Lisa_fix/full/tall/344_zf_LPR_data_phase_1_2_2020JUNE25_updated_plate_id_for_TX_tall_fixed.csv'\n",
    "df = pd.read_csv(file_path, header = 0)\n",
    "display(df.head())\n",
    "display(len(df))\n",
    "\n",
    "display (len(np.unique(df['chemical.id'])))\n",
    "#display (np.unique(df['chemical.id']))"
   ]
  },
  {
   "cell_type": "code",
   "execution_count": null,
   "metadata": {},
   "outputs": [],
   "source": []
  }
 ],
 "metadata": {
  "kernelspec": {
   "display_name": "Python 3",
   "language": "python",
   "name": "python3"
  },
  "language_info": {
   "codemirror_mode": {
    "name": "ipython",
    "version": 3
   },
   "file_extension": ".py",
   "mimetype": "text/x-python",
   "name": "python",
   "nbconvert_exporter": "python",
   "pygments_lexer": "ipython3",
   "version": "3.7.8"
  }
 },
 "nbformat": 4,
 "nbformat_minor": 4
}
