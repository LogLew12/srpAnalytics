{
 "cells": [
  {
   "cell_type": "code",
   "execution_count": 4,
   "metadata": {},
   "outputs": [],
   "source": [
    "import numpy as np\n",
    "import pandas as pd\n",
    "import matplotlib.pyplot as plt\n",
    "import glob, os, random, shutil, time\n",
    "import seaborn as sns\n",
    "\n",
    "import warnings\n",
    "warnings.filterwarnings('ignore')\n",
    "\n",
    "import sys\n",
    "\n",
    "from datetime import datetime"
   ]
  },
  {
   "cell_type": "code",
   "execution_count": 2,
   "metadata": {},
   "outputs": [
    {
     "name": "stdout",
     "output_type": "stream",
     "text": [
      "/Users/kimd999/research/projects/Katrina/srpAnalytics/code/latest/1_tall2wide/1_before_tall2wide\n"
     ]
    }
   ],
   "source": [
    "starting_dir = os.getcwd()\n",
    "print (starting_dir)"
   ]
  },
  {
   "cell_type": "code",
   "execution_count": 8,
   "metadata": {},
   "outputs": [
    {
     "name": "stdout",
     "output_type": "stream",
     "text": [
      "/Users/kimd999/research/projects/Katrina/per_each_data/Lindsay/12_DooNam_to_Lindsay/input/used_for_bmd/each/G14_forBMC.csv\n",
      "/Users/kimd999/research/projects/Katrina/per_each_data/Lindsay/12_DooNam_to_Lindsay/input/used_for_bmd/each/BMC10_Mix.csv\n",
      "/Users/kimd999/research/projects/Katrina/per_each_data/Lindsay/12_DooNam_to_Lindsay/input/used_for_bmd/each/di-n-butyl_phthalate.csv\n",
      "/Users/kimd999/research/projects/Katrina/per_each_data/Lindsay/12_DooNam_to_Lindsay/input/used_for_bmd/each/Phthalate mix.csv\n",
      "/Users/kimd999/research/projects/Katrina/per_each_data/Lindsay/12_DooNam_to_Lindsay/input/used_for_bmd/each/Diisobutyl_phthalate.csv\n",
      "/Users/kimd999/research/projects/Katrina/per_each_data/Lindsay/12_DooNam_to_Lindsay/input/used_for_bmd/each/Benzyl_butyl_phthalate.csv\n"
     ]
    }
   ],
   "source": [
    "df_merged = pd.DataFrame()\n",
    "\n",
    "for csv_file in glob.glob('/Users/kimd999/research/projects/Katrina/per_each_data/Lindsay/12_DooNam_to_Lindsay/input/used_for_bmd/each/*.csv'):\n",
    "    print (csv_file)\n",
    "    df_each = pd.read_csv(csv_file, header = 0)\n",
    "    df_merged = pd.concat([df_merged, df_each])"
   ]
  },
  {
   "cell_type": "code",
   "execution_count": 11,
   "metadata": {},
   "outputs": [
    {
     "data": {
      "text/html": [
       "<div>\n",
       "<style scoped>\n",
       "    .dataframe tbody tr th:only-of-type {\n",
       "        vertical-align: middle;\n",
       "    }\n",
       "\n",
       "    .dataframe tbody tr th {\n",
       "        vertical-align: top;\n",
       "    }\n",
       "\n",
       "    .dataframe thead th {\n",
       "        text-align: right;\n",
       "    }\n",
       "</style>\n",
       "<table border=\"1\" class=\"dataframe\">\n",
       "  <thead>\n",
       "    <tr style=\"text-align: right;\">\n",
       "      <th></th>\n",
       "      <th>chemical.id</th>\n",
       "      <th>dose</th>\n",
       "      <th>total_num</th>\n",
       "      <th>num_affected</th>\n",
       "    </tr>\n",
       "  </thead>\n",
       "  <tbody>\n",
       "    <tr>\n",
       "      <th>0</th>\n",
       "      <td>G14 Mix</td>\n",
       "      <td>0.0</td>\n",
       "      <td>36</td>\n",
       "      <td>4</td>\n",
       "    </tr>\n",
       "    <tr>\n",
       "      <th>1</th>\n",
       "      <td>G14 Mix</td>\n",
       "      <td>2.0</td>\n",
       "      <td>36</td>\n",
       "      <td>13</td>\n",
       "    </tr>\n",
       "    <tr>\n",
       "      <th>2</th>\n",
       "      <td>G14 Mix</td>\n",
       "      <td>4.0</td>\n",
       "      <td>36</td>\n",
       "      <td>22</td>\n",
       "    </tr>\n",
       "    <tr>\n",
       "      <th>3</th>\n",
       "      <td>G14 Mix</td>\n",
       "      <td>4.5</td>\n",
       "      <td>36</td>\n",
       "      <td>34</td>\n",
       "    </tr>\n",
       "    <tr>\n",
       "      <th>4</th>\n",
       "      <td>G14 Mix</td>\n",
       "      <td>5.0</td>\n",
       "      <td>36</td>\n",
       "      <td>32</td>\n",
       "    </tr>\n",
       "  </tbody>\n",
       "</table>\n",
       "</div>"
      ],
      "text/plain": [
       "  chemical.id  dose  total_num  num_affected\n",
       "0     G14 Mix   0.0         36             4\n",
       "1     G14 Mix   2.0         36            13\n",
       "2     G14 Mix   4.0         36            22\n",
       "3     G14 Mix   4.5         36            34\n",
       "4     G14 Mix   5.0         36            32"
      ]
     },
     "metadata": {},
     "output_type": "display_data"
    }
   ],
   "source": [
    "display(df_merged.head())"
   ]
  },
  {
   "cell_type": "code",
   "execution_count": 10,
   "metadata": {},
   "outputs": [],
   "source": [
    "df_merged.to_csv(\"df_merged.csv\", index=False)"
   ]
  }
 ],
 "metadata": {
  "kernelspec": {
   "display_name": "Python 3",
   "language": "python",
   "name": "python3"
  },
  "language_info": {
   "codemirror_mode": {
    "name": "ipython",
    "version": 3
   },
   "file_extension": ".py",
   "mimetype": "text/x-python",
   "name": "python",
   "nbconvert_exporter": "python",
   "pygments_lexer": "ipython3",
   "version": "3.7.8"
  }
 },
 "nbformat": 4,
 "nbformat_minor": 4
}
