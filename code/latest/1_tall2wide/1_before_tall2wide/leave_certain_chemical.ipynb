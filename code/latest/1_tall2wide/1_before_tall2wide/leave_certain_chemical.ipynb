{
 "cells": [
  {
   "cell_type": "code",
   "execution_count": 1,
   "metadata": {},
   "outputs": [
    {
     "name": "stdout",
     "output_type": "stream",
     "text": [
      "3.7.8\n"
     ]
    }
   ],
   "source": [
    "import numpy as np\n",
    "import pandas as pd\n",
    "import seaborn as sns\n",
    "import os, random, re, shutil, subprocess, sys, time\n",
    "\n",
    "from matplotlib.pyplot import figure\n",
    "\n",
    "from platform import python_version\n",
    "\n",
    "print(python_version())\n",
    "\n",
    "from scipy import stats\n",
    "\n",
    "import matplotlib.pyplot as plt\n",
    "\n",
    "import warnings\n",
    "warnings.filterwarnings('ignore')\n",
    "\n",
    "#mac\n",
    "util_path = \"/Users/kimd999/Dropbox/script/python/srpAnalytics/code/latest/util\"\n",
    "sys.path.insert(0, util_path)"
   ]
  },
  {
   "cell_type": "code",
   "execution_count": 2,
   "metadata": {},
   "outputs": [
    {
     "name": "stdout",
     "output_type": "stream",
     "text": [
      "/Users/kimd999/Dropbox/script/python/srpAnalytics/code/latest/1_tall2wide/1_before_tall2wide\n"
     ]
    }
   ],
   "source": [
    "starting_dir = os.getcwd()\n",
    "print (starting_dir)"
   ]
  },
  {
   "cell_type": "code",
   "execution_count": 3,
   "metadata": {},
   "outputs": [
    {
     "data": {
      "text/html": [
       "<div>\n",
       "<style scoped>\n",
       "    .dataframe tbody tr th:only-of-type {\n",
       "        vertical-align: middle;\n",
       "    }\n",
       "\n",
       "    .dataframe tbody tr th {\n",
       "        vertical-align: top;\n",
       "    }\n",
       "\n",
       "    .dataframe thead th {\n",
       "        text-align: right;\n",
       "    }\n",
       "</style>\n",
       "<table border=\"1\" class=\"dataframe\">\n",
       "  <thead>\n",
       "    <tr style=\"text-align: right;\">\n",
       "      <th></th>\n",
       "      <th>chemical.id</th>\n",
       "      <th>bottle.id</th>\n",
       "      <th>conc</th>\n",
       "      <th>plate.id</th>\n",
       "      <th>well</th>\n",
       "      <th>date</th>\n",
       "      <th>endpoint</th>\n",
       "      <th>value</th>\n",
       "    </tr>\n",
       "  </thead>\n",
       "  <tbody>\n",
       "    <tr>\n",
       "      <th>0</th>\n",
       "      <td>3756</td>\n",
       "      <td>C761434</td>\n",
       "      <td>0.0</td>\n",
       "      <td>20544</td>\n",
       "      <td>H01</td>\n",
       "      <td>20200701</td>\n",
       "      <td>MO24</td>\n",
       "      <td>0.0</td>\n",
       "    </tr>\n",
       "    <tr>\n",
       "      <th>1</th>\n",
       "      <td>3756</td>\n",
       "      <td>C761434</td>\n",
       "      <td>0.0</td>\n",
       "      <td>20544</td>\n",
       "      <td>H02</td>\n",
       "      <td>20200701</td>\n",
       "      <td>MO24</td>\n",
       "      <td>1.0</td>\n",
       "    </tr>\n",
       "    <tr>\n",
       "      <th>2</th>\n",
       "      <td>3756</td>\n",
       "      <td>C761434</td>\n",
       "      <td>0.0</td>\n",
       "      <td>20544</td>\n",
       "      <td>H03</td>\n",
       "      <td>20200701</td>\n",
       "      <td>MO24</td>\n",
       "      <td>0.0</td>\n",
       "    </tr>\n",
       "    <tr>\n",
       "      <th>3</th>\n",
       "      <td>3756</td>\n",
       "      <td>C761434</td>\n",
       "      <td>0.0</td>\n",
       "      <td>20544</td>\n",
       "      <td>H04</td>\n",
       "      <td>20200701</td>\n",
       "      <td>MO24</td>\n",
       "      <td>0.0</td>\n",
       "    </tr>\n",
       "    <tr>\n",
       "      <th>4</th>\n",
       "      <td>3756</td>\n",
       "      <td>C761434</td>\n",
       "      <td>0.0</td>\n",
       "      <td>20544</td>\n",
       "      <td>H05</td>\n",
       "      <td>20200701</td>\n",
       "      <td>MO24</td>\n",
       "      <td>0.0</td>\n",
       "    </tr>\n",
       "  </tbody>\n",
       "</table>\n",
       "</div>"
      ],
      "text/plain": [
       "   chemical.id bottle.id  conc  plate.id well      date endpoint  value\n",
       "0         3756   C761434   0.0     20544  H01  20200701     MO24    0.0\n",
       "1         3756   C761434   0.0     20544  H02  20200701     MO24    1.0\n",
       "2         3756   C761434   0.0     20544  H03  20200701     MO24    0.0\n",
       "3         3756   C761434   0.0     20544  H04  20200701     MO24    0.0\n",
       "4         3756   C761434   0.0     20544  H05  20200701     MO24    0.0"
      ]
     },
     "execution_count": 3,
     "metadata": {},
     "output_type": "execute_result"
    }
   ],
   "source": [
    "# mac       - phase I, II, III - LPR - after_merging - 240 timepoints in min\n",
    "complete_file_path = '/Users/kimd999/research/projects/toxicity/per_each_data/7_PAH/morpho/input/tall/github_input_file/7_PAH_zf_morphology_data_2020NOV11_tall.csv'\n",
    "\n",
    "df_all = pd.read_csv(complete_file_path, header = 0)\n",
    "df_all.head()\n"
   ]
  },
  {
   "cell_type": "code",
   "execution_count": 4,
   "metadata": {},
   "outputs": [],
   "source": [
    "## leave certain chemical only (caused a problem)\n",
    "df_all_per_chemical = df_all.loc[df_all['chemical.id'] == 3756]\n",
    "output_csv_name = complete_file_path[:-4] + \"_3756.csv\"\n",
    "df_all_per_chemical.to_csv(output_csv_name, index=False)"
   ]
  },
  {
   "cell_type": "code",
   "execution_count": null,
   "metadata": {},
   "outputs": [],
   "source": [
    "'''plate_id_from_here = np.unique(df_lpr_min_per_1155_chemical_id['plate.id'])\n",
    "for plate_id in plate_id_from_here:\n",
    "    print(f\"plate_id:{plate_id}\\n\")\n",
    "\n",
    "    df_lpr_min_per_1155_chemical_id_plate_id = df_lpr_min_per_1155_chemical_id.loc[df_lpr_min_per_1155_chemical_id['plate.id'] == plate_id]\n",
    "#        df_lpr_min_per_chemical_id_plate_id_t_only = pd.DataFrame(df_lpr_min_per_chemical_id_plate_id.iloc[:,4:28])\n",
    "\n",
    "    print(f\"df_lpr_min_per_1155_chemical_id_plate_id:{df_lpr_min_per_1155_chemical_id_plate_id}\\n\")'''"
   ]
  }
 ],
 "metadata": {
  "kernelspec": {
   "display_name": "Python 3",
   "language": "python",
   "name": "python3"
  },
  "language_info": {
   "codemirror_mode": {
    "name": "ipython",
    "version": 3
   },
   "file_extension": ".py",
   "mimetype": "text/x-python",
   "name": "python",
   "nbconvert_exporter": "python",
   "pygments_lexer": "ipython3",
   "version": "3.7.8"
  }
 },
 "nbformat": 4,
 "nbformat_minor": 4
}
