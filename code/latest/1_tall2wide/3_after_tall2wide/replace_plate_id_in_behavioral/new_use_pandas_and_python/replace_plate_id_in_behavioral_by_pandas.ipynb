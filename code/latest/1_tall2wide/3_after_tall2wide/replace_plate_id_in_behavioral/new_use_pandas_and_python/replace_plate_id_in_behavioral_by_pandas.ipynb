{
 "cells": [
  {
   "cell_type": "code",
   "execution_count": 3,
   "metadata": {},
   "outputs": [],
   "source": [
    "import numpy as np\n",
    "import pandas as pd\n",
    "import matplotlib.pyplot as plt\n",
    "import os, random, shutil, time\n",
    "import seaborn as sns\n",
    "\n",
    "import warnings\n",
    "warnings.filterwarnings('ignore')\n",
    "\n",
    "import sys\n",
    "\n",
    "from datetime import datetime"
   ]
  },
  {
   "cell_type": "code",
   "execution_count": 4,
   "metadata": {},
   "outputs": [
    {
     "name": "stdout",
     "output_type": "stream",
     "text": [
      "/Users/kimd999/Dropbox/script/python/srpAnalytics/code/latest/1_tall2wide/3_after_tall2wide/replace_plate_id_in_behavioral/new_use_pandas_and_python\n"
     ]
    }
   ],
   "source": [
    "starting_dir = os.getcwd()\n",
    "print (starting_dir)"
   ]
  },
  {
   "cell_type": "code",
   "execution_count": 53,
   "metadata": {},
   "outputs": [
    {
     "data": {
      "text/plain": [
       "725"
      ]
     },
     "metadata": {},
     "output_type": "display_data"
    }
   ],
   "source": [
    "# (goal) load morpho data\n",
    "\n",
    "morpho_input_file_path = '/Users/kimd999/Dropbox/script/python/srpAnalytics/code/latest/1_tall2wide/3_after_tall2wide/replace_plate_id_in_behavioral/new_use_pandas_and_python/keep/input/zf_morphology_data_335_chemicals_2020DEC16_fixed_wide_DNC_0_full.csv'\n",
    "\n",
    "df_morpho = pd.read_csv(morpho_input_file_path, header = 0)\n",
    "\n",
    "df_morpho['plate.id'] = df_morpho['plate.id'].astype('str')\n",
    "\n",
    "display (len(np.unique(df_morpho['plate.id'])))\n",
    "\n",
    "\n",
    "#display(df_morpho.head())\n",
    "#display(df_morpho[df_morpho['chemical.id'] == 163])\n",
    "\n",
    "# bottle_id_from_here = np.unique(df_morpho['bottle.id'])\n",
    "# for bottle_id in bottle_id_from_here:\n",
    "# #    print (bottle_id)\n",
    "#     if (bottle_id[:2] == \"TX\"):\n",
    "#         print (bottle_id)"
   ]
  },
  {
   "cell_type": "code",
   "execution_count": 65,
   "metadata": {},
   "outputs": [
    {
     "data": {
      "text/plain": [
       "'before dropna: (28416, 20)'"
      ]
     },
     "metadata": {},
     "output_type": "display_data"
    },
    {
     "data": {
      "text/html": [
       "<div>\n",
       "<style scoped>\n",
       "    .dataframe tbody tr th:only-of-type {\n",
       "        vertical-align: middle;\n",
       "    }\n",
       "\n",
       "    .dataframe tbody tr th {\n",
       "        vertical-align: top;\n",
       "    }\n",
       "\n",
       "    .dataframe thead th {\n",
       "        text-align: right;\n",
       "    }\n",
       "</style>\n",
       "<table border=\"1\" class=\"dataframe\">\n",
       "  <thead>\n",
       "    <tr style=\"text-align: right;\">\n",
       "      <th></th>\n",
       "      <th>chemical.id</th>\n",
       "      <th>plate.id</th>\n",
       "      <th>well</th>\n",
       "      <th>chemical_plate_well</th>\n",
       "      <th>conc</th>\n",
       "      <th>t3</th>\n",
       "      <th>t4</th>\n",
       "      <th>t5</th>\n",
       "      <th>t6</th>\n",
       "      <th>t7</th>\n",
       "      <th>t8</th>\n",
       "      <th>t9</th>\n",
       "      <th>t10</th>\n",
       "      <th>t11</th>\n",
       "      <th>t12</th>\n",
       "      <th>t13</th>\n",
       "      <th>t14</th>\n",
       "      <th>t15</th>\n",
       "      <th>t16</th>\n",
       "      <th>t17</th>\n",
       "    </tr>\n",
       "  </thead>\n",
       "  <tbody>\n",
       "    <tr>\n",
       "      <th>0</th>\n",
       "      <td>163</td>\n",
       "      <td>1</td>\n",
       "      <td>A1</td>\n",
       "      <td>163_1_A1</td>\n",
       "      <td>64.0000</td>\n",
       "      <td>0.9</td>\n",
       "      <td>0.0</td>\n",
       "      <td>1.3</td>\n",
       "      <td>0.0</td>\n",
       "      <td>0.3</td>\n",
       "      <td>0.1</td>\n",
       "      <td>0.0</td>\n",
       "      <td>52.0</td>\n",
       "      <td>0.0</td>\n",
       "      <td>0.0</td>\n",
       "      <td>0.0</td>\n",
       "      <td>19.9</td>\n",
       "      <td>20.8</td>\n",
       "      <td>12.6</td>\n",
       "      <td>12.3</td>\n",
       "    </tr>\n",
       "    <tr>\n",
       "      <th>1</th>\n",
       "      <td>163</td>\n",
       "      <td>1</td>\n",
       "      <td>A10</td>\n",
       "      <td>163_1_A10</td>\n",
       "      <td>0.0640</td>\n",
       "      <td>31.0</td>\n",
       "      <td>23.2</td>\n",
       "      <td>0.0</td>\n",
       "      <td>0.0</td>\n",
       "      <td>3.3</td>\n",
       "      <td>28.2</td>\n",
       "      <td>0.0</td>\n",
       "      <td>0.0</td>\n",
       "      <td>0.0</td>\n",
       "      <td>0.0</td>\n",
       "      <td>0.0</td>\n",
       "      <td>15.7</td>\n",
       "      <td>50.3</td>\n",
       "      <td>0.0</td>\n",
       "      <td>0.0</td>\n",
       "    </tr>\n",
       "    <tr>\n",
       "      <th>2</th>\n",
       "      <td>163</td>\n",
       "      <td>1</td>\n",
       "      <td>A11</td>\n",
       "      <td>163_1_A11</td>\n",
       "      <td>0.0064</td>\n",
       "      <td>4.7</td>\n",
       "      <td>30.7</td>\n",
       "      <td>60.0</td>\n",
       "      <td>38.4</td>\n",
       "      <td>34.7</td>\n",
       "      <td>0.0</td>\n",
       "      <td>26.9</td>\n",
       "      <td>8.8</td>\n",
       "      <td>56.4</td>\n",
       "      <td>9.8</td>\n",
       "      <td>37.1</td>\n",
       "      <td>1.4</td>\n",
       "      <td>50.6</td>\n",
       "      <td>0.0</td>\n",
       "      <td>4.2</td>\n",
       "    </tr>\n",
       "    <tr>\n",
       "      <th>3</th>\n",
       "      <td>163</td>\n",
       "      <td>1</td>\n",
       "      <td>A12</td>\n",
       "      <td>163_1_A12</td>\n",
       "      <td>0.0000</td>\n",
       "      <td>68.9</td>\n",
       "      <td>40.8</td>\n",
       "      <td>4.4</td>\n",
       "      <td>1.5</td>\n",
       "      <td>19.5</td>\n",
       "      <td>10.3</td>\n",
       "      <td>16.7</td>\n",
       "      <td>81.1</td>\n",
       "      <td>4.6</td>\n",
       "      <td>18.5</td>\n",
       "      <td>0.6</td>\n",
       "      <td>0.0</td>\n",
       "      <td>0.0</td>\n",
       "      <td>38.3</td>\n",
       "      <td>0.3</td>\n",
       "    </tr>\n",
       "    <tr>\n",
       "      <th>4</th>\n",
       "      <td>163</td>\n",
       "      <td>1</td>\n",
       "      <td>A2</td>\n",
       "      <td>163_1_A2</td>\n",
       "      <td>6.4000</td>\n",
       "      <td>0.1</td>\n",
       "      <td>42.9</td>\n",
       "      <td>0.9</td>\n",
       "      <td>90.6</td>\n",
       "      <td>23.4</td>\n",
       "      <td>29.0</td>\n",
       "      <td>49.4</td>\n",
       "      <td>6.2</td>\n",
       "      <td>29.7</td>\n",
       "      <td>59.2</td>\n",
       "      <td>17.5</td>\n",
       "      <td>1.2</td>\n",
       "      <td>25.0</td>\n",
       "      <td>16.3</td>\n",
       "      <td>39.7</td>\n",
       "    </tr>\n",
       "  </tbody>\n",
       "</table>\n",
       "</div>"
      ],
      "text/plain": [
       "   chemical.id plate.id well chemical_plate_well     conc    t3    t4    t5  \\\n",
       "0          163        1   A1            163_1_A1  64.0000   0.9   0.0   1.3   \n",
       "1          163        1  A10           163_1_A10   0.0640  31.0  23.2   0.0   \n",
       "2          163        1  A11           163_1_A11   0.0064   4.7  30.7  60.0   \n",
       "3          163        1  A12           163_1_A12   0.0000  68.9  40.8   4.4   \n",
       "4          163        1   A2            163_1_A2   6.4000   0.1  42.9   0.9   \n",
       "\n",
       "     t6    t7    t8    t9   t10   t11   t12   t13   t14   t15   t16   t17  \n",
       "0   0.0   0.3   0.1   0.0  52.0   0.0   0.0   0.0  19.9  20.8  12.6  12.3  \n",
       "1   0.0   3.3  28.2   0.0   0.0   0.0   0.0   0.0  15.7  50.3   0.0   0.0  \n",
       "2  38.4  34.7   0.0  26.9   8.8  56.4   9.8  37.1   1.4  50.6   0.0   4.2  \n",
       "3   1.5  19.5  10.3  16.7  81.1   4.6  18.5   0.6   0.0   0.0  38.3   0.3  \n",
       "4  90.6  23.4  29.0  49.4   6.2  29.7  59.2  17.5   1.2  25.0  16.3  39.7  "
      ]
     },
     "metadata": {},
     "output_type": "display_data"
    },
    {
     "data": {
      "text/plain": [
       "array(['1', '2', 'TP962-H10-P1'], dtype=object)"
      ]
     },
     "metadata": {},
     "output_type": "display_data"
    },
    {
     "data": {
      "text/plain": [
       "3"
      ]
     },
     "metadata": {},
     "output_type": "display_data"
    },
    {
     "data": {
      "text/plain": [
       "'after dropna: (28320, 20)'"
      ]
     },
     "metadata": {},
     "output_type": "display_data"
    }
   ],
   "source": [
    "# (goal) load LPR 15 timepoints data\n",
    "\n",
    "LPR_input_file_path = '/Users/kimd999/Dropbox/script/python/srpAnalytics/code/latest/1_tall2wide/3_after_tall2wide/replace_plate_id_in_behavioral/new_use_pandas_and_python/keep/input/344_zf_LPR_data_phase_1_2_2020JUNE25_updated_plate_id_for_TX_tall_fixed_full_15_timepoints_wide_full.csv'\n",
    "df_LPR = pd.read_csv(LPR_input_file_path, header = 0)\n",
    "\n",
    "display(f\"before dropna: {df_LPR.shape}\")\n",
    "\n",
    "df_LPR['plate.id'] = df_LPR['plate.id'].astype('str')\n",
    "\n",
    "df_LPR = df_LPR.dropna(subset=['chemical.id'])\n",
    "\n",
    "#display (np.unique(df_LPR['chemical.id']))\n",
    "#df_LPR['chemical.id'] = df_LPR['chemical.id'].astype('str')\n",
    "#df_LPR['chemical.id'] = df_LPR['chemical.id'].astype('float')\n",
    "df_LPR['chemical.id'] = df_LPR['chemical.id'].astype('int32')\n",
    "\n",
    "\n",
    "display(df_LPR.head())\n",
    "\n",
    "#display(df_LPR[df_LPR['chemical.id']==1031])\n",
    "\n",
    "#display (len(np.unique(df['chemical.id'])))\n",
    "\n",
    "df_LPR = df_LPR.dropna(subset=['plate.id'])\n",
    "\n",
    "display (np.unique(df_LPR['plate.id']))\n",
    "display (len(np.unique(df_LPR['plate.id'])))\n",
    "display(f\"after dropna: {df_LPR.shape}\")\n"
   ]
  },
  {
   "cell_type": "code",
   "execution_count": 67,
   "metadata": {},
   "outputs": [
    {
     "name": "stdout",
     "output_type": "stream",
     "text": [
      "'# read LPR data as file (not df) and re-write with TP---plate.id' took 14.9 seconds\n"
     ]
    }
   ],
   "source": [
    "# read LPR data as file (not df) and re-write with TP---plate.id\n",
    "start_time = time.time()\n",
    "LPR_f_in = open (LPR_input_file_path, \"r\")\n",
    "\n",
    "LPR_input_file_path_after_replacement = LPR_input_file_path[:-4] + \"_updated_plate_id_with_TP.csv\"\n",
    "LPR_f_out = open(LPR_input_file_path_after_replacement, \"w\")\n",
    "\n",
    "for line in LPR_f_in:\n",
    "    splited_line = line.split(\",\")\n",
    "    chemical_id = splited_line[0]\n",
    "    plate_id = splited_line[1]\n",
    "\n",
    "    if (str(plate_id) == \"plate.id\"):\n",
    "        LPR_f_out.write(line)\n",
    "    elif (str(plate_id) != \"1\") and (str(plate_id) != \"2\"):\n",
    "        #print (f\"plate_id:{plate_id}\")\n",
    "        LPR_f_out.write(line)\n",
    "    else:\n",
    "        df_per_chemical = df_morpho[df_morpho['chemical.id'] == int(chemical_id)]\n",
    "        unique_plate_id_per_chemical = np.unique(df_per_chemical['plate.id'])\n",
    "        for i in range(len(unique_plate_id_per_chemical)):\n",
    "#             print (f\"\\ni:{i}\")\n",
    "#             print(unique_plate_id_per_chemical[i])\n",
    "#             print(unique_plate_id_per_chemical[i][len(unique_plate_id_per_chemical[i])-1:len(unique_plate_id_per_chemical[i])])\n",
    "            if ((unique_plate_id_per_chemical[i][len(unique_plate_id_per_chemical[i])-1:len(unique_plate_id_per_chemical[i])]) == plate_id):\n",
    "                splited_line = line.split(',')\n",
    "                #print (f\"splited_line:{splited_line}\")\n",
    "                new_line = ''\n",
    "                for j in range(len(splited_line)):\n",
    "                    #print (f\"splited_line[j]:{splited_line[j]}\")\n",
    "                    if j != 1:\n",
    "                        new_line = new_line + str(splited_line[j].rstrip()) + \",\"\n",
    "                    else:\n",
    "                        new_line = new_line + str(unique_plate_id_per_chemical[i]) + \",\"\n",
    "                #print (f\"new_line:{new_line}\")\n",
    "                new_line = new_line[:len(new_line)-1] + \"\\n\"\n",
    "                #print (f\"new_line:{new_line}\")\n",
    "                LPR_f_out.write(new_line)\n",
    "                break\n",
    "\n",
    "LPR_f_in.close()\n",
    "LPR_f_out.close()\n",
    "\n",
    "end_time = time.time()\n",
    "time_took = str(round((end_time-start_time), 1)) + \" seconds\"\n",
    "print (\"'read LPR data as file (not df) and re-write with TP---plate.id' took \"+str(time_took))\n",
    "# took 15 seconds"
   ]
  },
  {
   "cell_type": "code",
   "execution_count": 69,
   "metadata": {},
   "outputs": [
    {
     "ename": "FileNotFoundError",
     "evalue": "[Errno 2] No such file or directory: '/Users/kimd999/Dropbox/script/python/srpAnalytics/code/latest/1_tall2wide/3_after_tall2wide/replace_plate_id_in_behavioral/new_use_pandas_and_python/keep/output/344_zf_LPR_data_phase_1_2_2020JUNE25_updated_plate_id_for_TX_tall_fixed_full_15_timepoints_wide_full_replaced.csv'",
     "output_type": "error",
     "traceback": [
      "\u001b[0;31m---------------------------------------------------------------------------\u001b[0m",
      "\u001b[0;31mFileNotFoundError\u001b[0m                         Traceback (most recent call last)",
      "\u001b[0;32m<ipython-input-69-898795839553>\u001b[0m in \u001b[0;36m<module>\u001b[0;34m()\u001b[0m\n\u001b[1;32m      1\u001b[0m \u001b[0mLPR_input_file_path_after_replacement\u001b[0m \u001b[0;34m=\u001b[0m \u001b[0;34m\"/Users/kimd999/Dropbox/script/python/srpAnalytics/code/latest/1_tall2wide/3_after_tall2wide/replace_plate_id_in_behavioral/new_use_pandas_and_python/keep/output/344_zf_LPR_data_phase_1_2_2020JUNE25_updated_plate_id_for_TX_tall_fixed_full_15_timepoints_wide_full_replaced.csv\"\u001b[0m\u001b[0;34m\u001b[0m\u001b[0;34m\u001b[0m\u001b[0m\n\u001b[1;32m      2\u001b[0m \u001b[0;34m\u001b[0m\u001b[0m\n\u001b[0;32m----> 3\u001b[0;31m \u001b[0mdf_LPR_after_replacement\u001b[0m \u001b[0;34m=\u001b[0m \u001b[0mpd\u001b[0m\u001b[0;34m.\u001b[0m\u001b[0mread_csv\u001b[0m\u001b[0;34m(\u001b[0m\u001b[0mLPR_input_file_path_after_replacement\u001b[0m\u001b[0;34m,\u001b[0m \u001b[0mheader\u001b[0m \u001b[0;34m=\u001b[0m \u001b[0;36m0\u001b[0m\u001b[0;34m)\u001b[0m\u001b[0;34m\u001b[0m\u001b[0;34m\u001b[0m\u001b[0m\n\u001b[0m\u001b[1;32m      4\u001b[0m \u001b[0;34m\u001b[0m\u001b[0m\n\u001b[1;32m      5\u001b[0m \u001b[0mdisplay\u001b[0m \u001b[0;34m(\u001b[0m\u001b[0mdf_LPR_after_replacement\u001b[0m\u001b[0;34m.\u001b[0m\u001b[0mshape\u001b[0m\u001b[0;34m)\u001b[0m\u001b[0;34m\u001b[0m\u001b[0;34m\u001b[0m\u001b[0m\n",
      "\u001b[0;32m/Users/kimd999/bin/miniconda3/envs/tox/lib/python3.7/site-packages/pandas/io/parsers.py\u001b[0m in \u001b[0;36mread_csv\u001b[0;34m(filepath_or_buffer, sep, delimiter, header, names, index_col, usecols, squeeze, prefix, mangle_dupe_cols, dtype, engine, converters, true_values, false_values, skipinitialspace, skiprows, skipfooter, nrows, na_values, keep_default_na, na_filter, verbose, skip_blank_lines, parse_dates, infer_datetime_format, keep_date_col, date_parser, dayfirst, cache_dates, iterator, chunksize, compression, thousands, decimal, lineterminator, quotechar, quoting, doublequote, escapechar, comment, encoding, dialect, error_bad_lines, warn_bad_lines, delim_whitespace, low_memory, memory_map, float_precision)\u001b[0m\n\u001b[1;32m    684\u001b[0m     )\n\u001b[1;32m    685\u001b[0m \u001b[0;34m\u001b[0m\u001b[0m\n\u001b[0;32m--> 686\u001b[0;31m     \u001b[0;32mreturn\u001b[0m \u001b[0m_read\u001b[0m\u001b[0;34m(\u001b[0m\u001b[0mfilepath_or_buffer\u001b[0m\u001b[0;34m,\u001b[0m \u001b[0mkwds\u001b[0m\u001b[0;34m)\u001b[0m\u001b[0;34m\u001b[0m\u001b[0;34m\u001b[0m\u001b[0m\n\u001b[0m\u001b[1;32m    687\u001b[0m \u001b[0;34m\u001b[0m\u001b[0m\n\u001b[1;32m    688\u001b[0m \u001b[0;34m\u001b[0m\u001b[0m\n",
      "\u001b[0;32m/Users/kimd999/bin/miniconda3/envs/tox/lib/python3.7/site-packages/pandas/io/parsers.py\u001b[0m in \u001b[0;36m_read\u001b[0;34m(filepath_or_buffer, kwds)\u001b[0m\n\u001b[1;32m    450\u001b[0m \u001b[0;34m\u001b[0m\u001b[0m\n\u001b[1;32m    451\u001b[0m     \u001b[0;31m# Create the parser.\u001b[0m\u001b[0;34m\u001b[0m\u001b[0;34m\u001b[0m\u001b[0;34m\u001b[0m\u001b[0m\n\u001b[0;32m--> 452\u001b[0;31m     \u001b[0mparser\u001b[0m \u001b[0;34m=\u001b[0m \u001b[0mTextFileReader\u001b[0m\u001b[0;34m(\u001b[0m\u001b[0mfp_or_buf\u001b[0m\u001b[0;34m,\u001b[0m \u001b[0;34m**\u001b[0m\u001b[0mkwds\u001b[0m\u001b[0;34m)\u001b[0m\u001b[0;34m\u001b[0m\u001b[0;34m\u001b[0m\u001b[0m\n\u001b[0m\u001b[1;32m    453\u001b[0m \u001b[0;34m\u001b[0m\u001b[0m\n\u001b[1;32m    454\u001b[0m     \u001b[0;32mif\u001b[0m \u001b[0mchunksize\u001b[0m \u001b[0;32mor\u001b[0m \u001b[0miterator\u001b[0m\u001b[0;34m:\u001b[0m\u001b[0;34m\u001b[0m\u001b[0;34m\u001b[0m\u001b[0m\n",
      "\u001b[0;32m/Users/kimd999/bin/miniconda3/envs/tox/lib/python3.7/site-packages/pandas/io/parsers.py\u001b[0m in \u001b[0;36m__init__\u001b[0;34m(self, f, engine, **kwds)\u001b[0m\n\u001b[1;32m    944\u001b[0m             \u001b[0mself\u001b[0m\u001b[0;34m.\u001b[0m\u001b[0moptions\u001b[0m\u001b[0;34m[\u001b[0m\u001b[0;34m\"has_index_names\"\u001b[0m\u001b[0;34m]\u001b[0m \u001b[0;34m=\u001b[0m \u001b[0mkwds\u001b[0m\u001b[0;34m[\u001b[0m\u001b[0;34m\"has_index_names\"\u001b[0m\u001b[0;34m]\u001b[0m\u001b[0;34m\u001b[0m\u001b[0;34m\u001b[0m\u001b[0m\n\u001b[1;32m    945\u001b[0m \u001b[0;34m\u001b[0m\u001b[0m\n\u001b[0;32m--> 946\u001b[0;31m         \u001b[0mself\u001b[0m\u001b[0;34m.\u001b[0m\u001b[0m_make_engine\u001b[0m\u001b[0;34m(\u001b[0m\u001b[0mself\u001b[0m\u001b[0;34m.\u001b[0m\u001b[0mengine\u001b[0m\u001b[0;34m)\u001b[0m\u001b[0;34m\u001b[0m\u001b[0;34m\u001b[0m\u001b[0m\n\u001b[0m\u001b[1;32m    947\u001b[0m \u001b[0;34m\u001b[0m\u001b[0m\n\u001b[1;32m    948\u001b[0m     \u001b[0;32mdef\u001b[0m \u001b[0mclose\u001b[0m\u001b[0;34m(\u001b[0m\u001b[0mself\u001b[0m\u001b[0;34m)\u001b[0m\u001b[0;34m:\u001b[0m\u001b[0;34m\u001b[0m\u001b[0;34m\u001b[0m\u001b[0m\n",
      "\u001b[0;32m/Users/kimd999/bin/miniconda3/envs/tox/lib/python3.7/site-packages/pandas/io/parsers.py\u001b[0m in \u001b[0;36m_make_engine\u001b[0;34m(self, engine)\u001b[0m\n\u001b[1;32m   1176\u001b[0m     \u001b[0;32mdef\u001b[0m \u001b[0m_make_engine\u001b[0m\u001b[0;34m(\u001b[0m\u001b[0mself\u001b[0m\u001b[0;34m,\u001b[0m \u001b[0mengine\u001b[0m\u001b[0;34m=\u001b[0m\u001b[0;34m\"c\"\u001b[0m\u001b[0;34m)\u001b[0m\u001b[0;34m:\u001b[0m\u001b[0;34m\u001b[0m\u001b[0;34m\u001b[0m\u001b[0m\n\u001b[1;32m   1177\u001b[0m         \u001b[0;32mif\u001b[0m \u001b[0mengine\u001b[0m \u001b[0;34m==\u001b[0m \u001b[0;34m\"c\"\u001b[0m\u001b[0;34m:\u001b[0m\u001b[0;34m\u001b[0m\u001b[0;34m\u001b[0m\u001b[0m\n\u001b[0;32m-> 1178\u001b[0;31m             \u001b[0mself\u001b[0m\u001b[0;34m.\u001b[0m\u001b[0m_engine\u001b[0m \u001b[0;34m=\u001b[0m \u001b[0mCParserWrapper\u001b[0m\u001b[0;34m(\u001b[0m\u001b[0mself\u001b[0m\u001b[0;34m.\u001b[0m\u001b[0mf\u001b[0m\u001b[0;34m,\u001b[0m \u001b[0;34m**\u001b[0m\u001b[0mself\u001b[0m\u001b[0;34m.\u001b[0m\u001b[0moptions\u001b[0m\u001b[0;34m)\u001b[0m\u001b[0;34m\u001b[0m\u001b[0;34m\u001b[0m\u001b[0m\n\u001b[0m\u001b[1;32m   1179\u001b[0m         \u001b[0;32melse\u001b[0m\u001b[0;34m:\u001b[0m\u001b[0;34m\u001b[0m\u001b[0;34m\u001b[0m\u001b[0m\n\u001b[1;32m   1180\u001b[0m             \u001b[0;32mif\u001b[0m \u001b[0mengine\u001b[0m \u001b[0;34m==\u001b[0m \u001b[0;34m\"python\"\u001b[0m\u001b[0;34m:\u001b[0m\u001b[0;34m\u001b[0m\u001b[0;34m\u001b[0m\u001b[0m\n",
      "\u001b[0;32m/Users/kimd999/bin/miniconda3/envs/tox/lib/python3.7/site-packages/pandas/io/parsers.py\u001b[0m in \u001b[0;36m__init__\u001b[0;34m(self, src, **kwds)\u001b[0m\n\u001b[1;32m   2006\u001b[0m         \u001b[0mkwds\u001b[0m\u001b[0;34m[\u001b[0m\u001b[0;34m\"usecols\"\u001b[0m\u001b[0;34m]\u001b[0m \u001b[0;34m=\u001b[0m \u001b[0mself\u001b[0m\u001b[0;34m.\u001b[0m\u001b[0musecols\u001b[0m\u001b[0;34m\u001b[0m\u001b[0;34m\u001b[0m\u001b[0m\n\u001b[1;32m   2007\u001b[0m \u001b[0;34m\u001b[0m\u001b[0m\n\u001b[0;32m-> 2008\u001b[0;31m         \u001b[0mself\u001b[0m\u001b[0;34m.\u001b[0m\u001b[0m_reader\u001b[0m \u001b[0;34m=\u001b[0m \u001b[0mparsers\u001b[0m\u001b[0;34m.\u001b[0m\u001b[0mTextReader\u001b[0m\u001b[0;34m(\u001b[0m\u001b[0msrc\u001b[0m\u001b[0;34m,\u001b[0m \u001b[0;34m**\u001b[0m\u001b[0mkwds\u001b[0m\u001b[0;34m)\u001b[0m\u001b[0;34m\u001b[0m\u001b[0;34m\u001b[0m\u001b[0m\n\u001b[0m\u001b[1;32m   2009\u001b[0m         \u001b[0mself\u001b[0m\u001b[0;34m.\u001b[0m\u001b[0munnamed_cols\u001b[0m \u001b[0;34m=\u001b[0m \u001b[0mself\u001b[0m\u001b[0;34m.\u001b[0m\u001b[0m_reader\u001b[0m\u001b[0;34m.\u001b[0m\u001b[0munnamed_cols\u001b[0m\u001b[0;34m\u001b[0m\u001b[0;34m\u001b[0m\u001b[0m\n\u001b[1;32m   2010\u001b[0m \u001b[0;34m\u001b[0m\u001b[0m\n",
      "\u001b[0;32mpandas/_libs/parsers.pyx\u001b[0m in \u001b[0;36mpandas._libs.parsers.TextReader.__cinit__\u001b[0;34m()\u001b[0m\n",
      "\u001b[0;32mpandas/_libs/parsers.pyx\u001b[0m in \u001b[0;36mpandas._libs.parsers.TextReader._setup_parser_source\u001b[0;34m()\u001b[0m\n",
      "\u001b[0;31mFileNotFoundError\u001b[0m: [Errno 2] No such file or directory: '/Users/kimd999/Dropbox/script/python/srpAnalytics/code/latest/1_tall2wide/3_after_tall2wide/replace_plate_id_in_behavioral/new_use_pandas_and_python/keep/output/344_zf_LPR_data_phase_1_2_2020JUNE25_updated_plate_id_for_TX_tall_fixed_full_15_timepoints_wide_full_replaced.csv'"
     ]
    }
   ],
   "source": [
    "LPR_input_file_path_after_replacement = \"/Users/kimd999/Dropbox/script/python/srpAnalytics/code/latest/1_tall2wide/3_after_tall2wide/replace_plate_id_in_behavioral/new_use_pandas_and_python/keep/output/344_zf_LPR_data_phase_1_2_2020JUNE25_full_15_timepoints_wide_full_updated_plate_id_with_TP.csv\"\n",
    "\n",
    "df_LPR_after_replacement = pd.read_csv(LPR_input_file_path_after_replacement, header = 0)\n",
    "\n",
    "display (df_LPR_after_replacement.shape)\n",
    "\n",
    "df_LPR_after_replacement['plate.id'] = df_LPR_after_replacement['plate.id'].astype('str')\n",
    "\n",
    "display (len(np.unique(df_LPR_after_replacement['plate.id'])))\n",
    "display (np.unique(df_LPR_after_replacement['plate.id']))\n",
    "\n",
    "is_NaN = df_LPR_after_replacement.isnull()\n",
    "row_has_NaN = is_NaN.any(axis=1)\n",
    "rows_with_NaN = df_LPR_after_replacement[row_has_NaN]\n",
    "display(rows_with_NaN)\n",
    "#display(df_LPR_after_replacement[df_LPR_after_replacement['plate.id']==nan])\n"
   ]
  },
  {
   "cell_type": "code",
   "execution_count": null,
   "metadata": {},
   "outputs": [],
   "source": []
  }
 ],
 "metadata": {
  "kernelspec": {
   "display_name": "Python 3",
   "language": "python",
   "name": "python3"
  },
  "language_info": {
   "codemirror_mode": {
    "name": "ipython",
    "version": 3
   },
   "file_extension": ".py",
   "mimetype": "text/x-python",
   "name": "python",
   "nbconvert_exporter": "python",
   "pygments_lexer": "ipython3",
   "version": "3.7.8"
  }
 },
 "nbformat": 4,
 "nbformat_minor": 4
}
