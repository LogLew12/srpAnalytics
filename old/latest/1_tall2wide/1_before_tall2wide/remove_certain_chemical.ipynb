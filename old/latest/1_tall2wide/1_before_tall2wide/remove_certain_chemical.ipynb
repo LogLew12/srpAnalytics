{
 "cells": [
  {
   "cell_type": "code",
   "execution_count": 6,
   "metadata": {},
   "outputs": [
    {
     "name": "stdout",
     "output_type": "stream",
     "text": [
      "3.7.8\n"
     ]
    }
   ],
   "source": [
    "import numpy as np\n",
    "import pandas as pd\n",
    "import seaborn as sns\n",
    "import os, random, re, shutil, subprocess, sys, time\n",
    "\n",
    "from matplotlib.pyplot import figure\n",
    "\n",
    "from platform import python_version\n",
    "\n",
    "print(python_version())\n",
    "\n",
    "from scipy import stats\n",
    "\n",
    "import matplotlib.pyplot as plt\n",
    "\n",
    "import warnings\n",
    "warnings.filterwarnings('ignore')\n",
    "\n",
    "#mac\n",
    "util_path = \"/Users/kimd999/Dropbox/script/python/srpAnalytics/code/latest/util\"\n",
    "sys.path.insert(0, util_path)\n",
    "\n",
    "# I assume that these two lines will automatically reload updated modules of mine\n",
    "# (therefore, I don't need to restart kernel after editing importing modules)\n",
    "%load_ext autoreload\n",
    "%autoreload 2"
   ]
  },
  {
   "cell_type": "code",
   "execution_count": 2,
   "metadata": {},
   "outputs": [
    {
     "name": "stdout",
     "output_type": "stream",
     "text": [
      "/Users/kimd999/Dropbox/script/python/srpAnalytics/code/latest/1_tall2wide/1_before_tall2wide\n"
     ]
    }
   ],
   "source": [
    "starting_dir = os.getcwd()\n",
    "print (starting_dir)"
   ]
  },
  {
   "cell_type": "code",
   "execution_count": 3,
   "metadata": {},
   "outputs": [
    {
     "data": {
      "text/html": [
       "<div>\n",
       "<style scoped>\n",
       "    .dataframe tbody tr th:only-of-type {\n",
       "        vertical-align: middle;\n",
       "    }\n",
       "\n",
       "    .dataframe tbody tr th {\n",
       "        vertical-align: top;\n",
       "    }\n",
       "\n",
       "    .dataframe thead th {\n",
       "        text-align: right;\n",
       "    }\n",
       "</style>\n",
       "<table border=\"1\" class=\"dataframe\">\n",
       "  <thead>\n",
       "    <tr style=\"text-align: right;\">\n",
       "      <th></th>\n",
       "      <th>chemical.id</th>\n",
       "      <th>bottle.id</th>\n",
       "      <th>conc</th>\n",
       "      <th>plate.id</th>\n",
       "      <th>well</th>\n",
       "      <th>date</th>\n",
       "      <th>endpoint</th>\n",
       "      <th>value</th>\n",
       "    </tr>\n",
       "  </thead>\n",
       "  <tbody>\n",
       "    <tr>\n",
       "      <th>0</th>\n",
       "      <td>101</td>\n",
       "      <td>C51699</td>\n",
       "      <td>0.0</td>\n",
       "      <td>10021</td>\n",
       "      <td>A06</td>\n",
       "      <td>20151113</td>\n",
       "      <td>MO24</td>\n",
       "      <td>0.0</td>\n",
       "    </tr>\n",
       "    <tr>\n",
       "      <th>1</th>\n",
       "      <td>101</td>\n",
       "      <td>C51699</td>\n",
       "      <td>0.0</td>\n",
       "      <td>10021</td>\n",
       "      <td>B06</td>\n",
       "      <td>20151113</td>\n",
       "      <td>MO24</td>\n",
       "      <td>0.0</td>\n",
       "    </tr>\n",
       "    <tr>\n",
       "      <th>2</th>\n",
       "      <td>101</td>\n",
       "      <td>C51699</td>\n",
       "      <td>0.0</td>\n",
       "      <td>10021</td>\n",
       "      <td>C06</td>\n",
       "      <td>20151113</td>\n",
       "      <td>MO24</td>\n",
       "      <td>0.0</td>\n",
       "    </tr>\n",
       "    <tr>\n",
       "      <th>3</th>\n",
       "      <td>101</td>\n",
       "      <td>C51699</td>\n",
       "      <td>0.0</td>\n",
       "      <td>10021</td>\n",
       "      <td>D06</td>\n",
       "      <td>20151113</td>\n",
       "      <td>MO24</td>\n",
       "      <td>1.0</td>\n",
       "    </tr>\n",
       "    <tr>\n",
       "      <th>4</th>\n",
       "      <td>101</td>\n",
       "      <td>C51699</td>\n",
       "      <td>0.0</td>\n",
       "      <td>10021</td>\n",
       "      <td>E06</td>\n",
       "      <td>20151113</td>\n",
       "      <td>MO24</td>\n",
       "      <td>0.0</td>\n",
       "    </tr>\n",
       "  </tbody>\n",
       "</table>\n",
       "</div>"
      ],
      "text/plain": [
       "   chemical.id bottle.id  conc  plate.id well      date endpoint  value\n",
       "0          101    C51699   0.0     10021  A06  20151113     MO24    0.0\n",
       "1          101    C51699   0.0     10021  B06  20151113     MO24    0.0\n",
       "2          101    C51699   0.0     10021  C06  20151113     MO24    0.0\n",
       "3          101    C51699   0.0     10021  D06  20151113     MO24    1.0\n",
       "4          101    C51699   0.0     10021  E06  20151113     MO24    0.0"
      ]
     },
     "execution_count": 3,
     "metadata": {},
     "output_type": "execute_result"
    }
   ],
   "source": [
    "complete_file_path = '/Users/kimd999/research/projects/Katrina/per_each_data/extracts/input/old_before_removing_3053_chemical/tall/ZF_120_SRP_Sample_Extracts_with_Dilution_Factors_2021MAY21.csv'\n",
    "\n",
    "df_all = pd.read_csv(complete_file_path, header = 0)\n",
    "df_all.head()\n"
   ]
  },
  {
   "cell_type": "code",
   "execution_count": 5,
   "metadata": {},
   "outputs": [
    {
     "data": {
      "text/plain": [
       "array([ 101,  102,  103,  131,  132,  177,  452,  495,  669,  719,  723,\n",
       "        744,  797,  798,  799,  800,  839,  858,  889,  890,  891, 1004,\n",
       "       1008, 1009, 1035, 1036, 1037, 1038, 1426, 1427, 1428, 1429, 1431,\n",
       "       1432, 1456, 1458, 1514, 1515, 1516, 1517, 1518, 1519, 1520, 1521,\n",
       "       1864, 2066, 2071, 2072, 2235, 2236, 2791, 2792, 2793, 2794, 2795,\n",
       "       2796, 2797, 2798, 2799, 2800, 2801, 2802, 2803, 2804, 2805, 2806,\n",
       "       2807, 2808, 2809, 2810, 2917, 2918, 2921, 3053, 3322, 3324, 3325,\n",
       "       3326, 3328, 3329, 3330, 3331, 3332, 3334])"
      ]
     },
     "execution_count": 5,
     "metadata": {},
     "output_type": "execute_result"
    }
   ],
   "source": [
    "np.unique(df_all['chemical.id'])"
   ]
  },
  {
   "cell_type": "code",
   "execution_count": 11,
   "metadata": {},
   "outputs": [
    {
     "data": {
      "text/plain": [
       "array([ 101,  102,  103,  131,  132,  177,  452,  495,  669,  719,  723,\n",
       "        744,  797,  798,  799,  800,  839,  858,  889,  890,  891, 1004,\n",
       "       1008, 1009, 1035, 1036, 1037, 1038, 1426, 1427, 1428, 1429, 1431,\n",
       "       1432, 1456, 1458, 1514, 1515, 1516, 1517, 1518, 1519, 1520, 1521,\n",
       "       1864, 2066, 2071, 2072, 2235, 2236, 2791, 2792, 2793, 2794, 2795,\n",
       "       2796, 2797, 2798, 2799, 2800, 2801, 2802, 2803, 2804, 2805, 2806,\n",
       "       2807, 2808, 2809, 2810, 2917, 2918, 2921, 3322, 3324, 3325, 3326,\n",
       "       3328, 3329, 3330, 3331, 3332, 3334])"
      ]
     },
     "metadata": {},
     "output_type": "display_data"
    }
   ],
   "source": [
    "## leave certain chemical only \n",
    "df_selected = df_all.loc[df_all['chemical.id'] != 3053]\n",
    "\n",
    "display(np.unique(df_selected['chemical.id']))\n",
    "\n",
    "output_csv_name = complete_file_path[:-4] + \"_wo_3053.csv\"\n",
    "df_selected.to_csv(output_csv_name, index=False)"
   ]
  },
  {
   "cell_type": "code",
   "execution_count": null,
   "metadata": {},
   "outputs": [],
   "source": [
    "'''plate_id_from_here = np.unique(df_lpr_min_per_1155_chemical_id['plate.id'])\n",
    "for plate_id in plate_id_from_here:\n",
    "    print(f\"plate_id:{plate_id}\\n\")\n",
    "\n",
    "    df_lpr_min_per_1155_chemical_id_plate_id = df_lpr_min_per_1155_chemical_id.loc[df_lpr_min_per_1155_chemical_id['plate.id'] == plate_id]\n",
    "#        df_lpr_min_per_chemical_id_plate_id_t_only = pd.DataFrame(df_lpr_min_per_chemical_id_plate_id.iloc[:,4:28])\n",
    "\n",
    "    print(f\"df_lpr_min_per_1155_chemical_id_plate_id:{df_lpr_min_per_1155_chemical_id_plate_id}\\n\")'''"
   ]
  }
 ],
 "metadata": {
  "kernelspec": {
   "display_name": "Python 3",
   "language": "python",
   "name": "python3"
  },
  "language_info": {
   "codemirror_mode": {
    "name": "ipython",
    "version": 3
   },
   "file_extension": ".py",
   "mimetype": "text/x-python",
   "name": "python",
   "nbconvert_exporter": "python",
   "pygments_lexer": "ipython3",
   "version": "3.7.8"
  }
 },
 "nbformat": 4,
 "nbformat_minor": 4
}
