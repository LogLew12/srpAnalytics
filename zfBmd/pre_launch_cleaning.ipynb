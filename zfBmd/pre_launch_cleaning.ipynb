{
 "cells": [
  {
   "cell_type": "code",
   "execution_count": 3,
   "metadata": {},
   "outputs": [],
   "source": [
    "import pandas as pd\n",
    "import numpy as np\n",
    "import sys"
   ]
  },
  {
   "cell_type": "markdown",
   "metadata": {},
   "source": [
    "# Morpho Cleaning"
   ]
  },
  {
   "cell_type": "code",
   "execution_count": 2,
   "metadata": {},
   "outputs": [],
   "source": [
    "morpho_paths = [\"/Users/degn400/Desktop/SRP/Data/morpho0.csv\", \"/Users/degn400/Desktop/SRP/Data/morpho1.csv\", \"/Users/degn400/Desktop/SRP/Data/morpho2.csv\"]"
   ]
  },
  {
   "cell_type": "code",
   "execution_count": 29,
   "metadata": {},
   "outputs": [
    {
     "name": "stderr",
     "output_type": "stream",
     "text": [
      "/var/folders/z9/73zcmlyd0q78cd9jsf_jt7680000gn/T/ipykernel_84598/783245311.py:6: DtypeWarning: Columns (3) have mixed types. Specify dtype option on import or set low_memory=False.\n",
      "  morpho_data.append(pd.read_csv(morpho_path))\n"
     ]
    },
    {
     "data": {
      "text/html": [
       "<div>\n",
       "<style scoped>\n",
       "    .dataframe tbody tr th:only-of-type {\n",
       "        vertical-align: middle;\n",
       "    }\n",
       "\n",
       "    .dataframe tbody tr th {\n",
       "        vertical-align: top;\n",
       "    }\n",
       "\n",
       "    .dataframe thead th {\n",
       "        text-align: right;\n",
       "    }\n",
       "</style>\n",
       "<table border=\"1\" class=\"dataframe\">\n",
       "  <thead>\n",
       "    <tr style=\"text-align: right;\">\n",
       "      <th></th>\n",
       "      <th>chemical.id</th>\n",
       "      <th>bottle.id</th>\n",
       "      <th>conc</th>\n",
       "      <th>plate.id</th>\n",
       "      <th>well</th>\n",
       "      <th>date</th>\n",
       "      <th>endpoint</th>\n",
       "      <th>value</th>\n",
       "    </tr>\n",
       "  </thead>\n",
       "  <tbody>\n",
       "    <tr>\n",
       "      <th>0</th>\n",
       "      <td>1030</td>\n",
       "      <td>C48962</td>\n",
       "      <td>0.0</td>\n",
       "      <td>9414</td>\n",
       "      <td>A06</td>\n",
       "      <td>20151028</td>\n",
       "      <td>MO24</td>\n",
       "      <td>0.0</td>\n",
       "    </tr>\n",
       "    <tr>\n",
       "      <th>1</th>\n",
       "      <td>1030</td>\n",
       "      <td>C48962</td>\n",
       "      <td>0.0</td>\n",
       "      <td>9414</td>\n",
       "      <td>B06</td>\n",
       "      <td>20151028</td>\n",
       "      <td>MO24</td>\n",
       "      <td>0.0</td>\n",
       "    </tr>\n",
       "    <tr>\n",
       "      <th>2</th>\n",
       "      <td>1030</td>\n",
       "      <td>C48962</td>\n",
       "      <td>0.0</td>\n",
       "      <td>9414</td>\n",
       "      <td>C06</td>\n",
       "      <td>20151028</td>\n",
       "      <td>MO24</td>\n",
       "      <td>0.0</td>\n",
       "    </tr>\n",
       "    <tr>\n",
       "      <th>3</th>\n",
       "      <td>1030</td>\n",
       "      <td>C48962</td>\n",
       "      <td>0.0</td>\n",
       "      <td>9414</td>\n",
       "      <td>D06</td>\n",
       "      <td>20151028</td>\n",
       "      <td>MO24</td>\n",
       "      <td>0.0</td>\n",
       "    </tr>\n",
       "    <tr>\n",
       "      <th>4</th>\n",
       "      <td>1030</td>\n",
       "      <td>C48962</td>\n",
       "      <td>0.0</td>\n",
       "      <td>9414</td>\n",
       "      <td>E06</td>\n",
       "      <td>20151028</td>\n",
       "      <td>MO24</td>\n",
       "      <td>0.0</td>\n",
       "    </tr>\n",
       "    <tr>\n",
       "      <th>...</th>\n",
       "      <td>...</td>\n",
       "      <td>...</td>\n",
       "      <td>...</td>\n",
       "      <td>...</td>\n",
       "      <td>...</td>\n",
       "      <td>...</td>\n",
       "      <td>...</td>\n",
       "      <td>...</td>\n",
       "    </tr>\n",
       "    <tr>\n",
       "      <th>405267</th>\n",
       "      <td>2532</td>\n",
       "      <td>C489409</td>\n",
       "      <td>34.0</td>\n",
       "      <td>21910</td>\n",
       "      <td>B11</td>\n",
       "      <td>20201119</td>\n",
       "      <td>DNC_</td>\n",
       "      <td>0.0</td>\n",
       "    </tr>\n",
       "    <tr>\n",
       "      <th>405268</th>\n",
       "      <td>2532</td>\n",
       "      <td>C489409</td>\n",
       "      <td>34.0</td>\n",
       "      <td>21910</td>\n",
       "      <td>F11</td>\n",
       "      <td>20201119</td>\n",
       "      <td>DNC_</td>\n",
       "      <td>0.0</td>\n",
       "    </tr>\n",
       "    <tr>\n",
       "      <th>405269</th>\n",
       "      <td>2532</td>\n",
       "      <td>C489409</td>\n",
       "      <td>34.0</td>\n",
       "      <td>21910</td>\n",
       "      <td>C12</td>\n",
       "      <td>20201119</td>\n",
       "      <td>DNC_</td>\n",
       "      <td>0.0</td>\n",
       "    </tr>\n",
       "    <tr>\n",
       "      <th>423204</th>\n",
       "      <td>4428</td>\n",
       "      <td>C134358</td>\n",
       "      <td>19.3</td>\n",
       "      <td>21871</td>\n",
       "      <td>B12</td>\n",
       "      <td>20201119</td>\n",
       "      <td>DNC_</td>\n",
       "      <td>0.0</td>\n",
       "    </tr>\n",
       "    <tr>\n",
       "      <th>423205</th>\n",
       "      <td>4428</td>\n",
       "      <td>C134358</td>\n",
       "      <td>19.3</td>\n",
       "      <td>21888</td>\n",
       "      <td>B12</td>\n",
       "      <td>20201119</td>\n",
       "      <td>DNC_</td>\n",
       "      <td>0.0</td>\n",
       "    </tr>\n",
       "  </tbody>\n",
       "</table>\n",
       "<p>2898900 rows × 8 columns</p>\n",
       "</div>"
      ],
      "text/plain": [
       "        chemical.id bottle.id  conc plate.id well      date endpoint  value\n",
       "0              1030    C48962   0.0     9414  A06  20151028     MO24    0.0\n",
       "1              1030    C48962   0.0     9414  B06  20151028     MO24    0.0\n",
       "2              1030    C48962   0.0     9414  C06  20151028     MO24    0.0\n",
       "3              1030    C48962   0.0     9414  D06  20151028     MO24    0.0\n",
       "4              1030    C48962   0.0     9414  E06  20151028     MO24    0.0\n",
       "...             ...       ...   ...      ...  ...       ...      ...    ...\n",
       "405267         2532   C489409  34.0    21910  B11  20201119     DNC_    0.0\n",
       "405268         2532   C489409  34.0    21910  F11  20201119     DNC_    0.0\n",
       "405269         2532   C489409  34.0    21910  C12  20201119     DNC_    0.0\n",
       "423204         4428   C134358  19.3    21871  B12  20201119     DNC_    0.0\n",
       "423205         4428   C134358  19.3    21888  B12  20201119     DNC_    0.0\n",
       "\n",
       "[2898900 rows x 8 columns]"
      ]
     },
     "execution_count": 29,
     "metadata": {},
     "output_type": "execute_result"
    }
   ],
   "source": [
    "# Create list to hold dataframes \n",
    "morpho_data = []\n",
    "\n",
    "# Read all files \n",
    "for morpho_path in morpho_paths:\n",
    "    morpho_data.append(pd.read_csv(morpho_path))\n",
    "\n",
    "# Combine dataframes\n",
    "morpho_data = pd.concat(morpho_data)\n",
    "morpho_data[\"plate.id\"] = morpho_data[\"plate.id\"].astype(\"string\") #.drop_duplicates()\n",
    "\n",
    "# Duplicate removal\n",
    "morpho_data = morpho_data.drop_duplicates()\n",
    "\n",
    "morpho_data"
   ]
  },
  {
   "cell_type": "code",
   "execution_count": 30,
   "metadata": {},
   "outputs": [
    {
     "data": {
      "text/plain": [
       "1"
      ]
     },
     "execution_count": 30,
     "metadata": {},
     "output_type": "execute_result"
    }
   ],
   "source": [
    "# Check that duplicates get removed with this approach\n",
    "count_check = morpho_data.groupby(by = [\"chemical.id\", \"bottle.id\", \"conc\", \"plate.id\", \"well\", \"endpoint\"]).size().reset_index()\n",
    "count_check[0].max()"
   ]
  },
  {
   "cell_type": "markdown",
   "metadata": {},
   "source": [
    "# LPR Cleaning "
   ]
  },
  {
   "cell_type": "code",
   "execution_count": null,
   "metadata": {},
   "outputs": [],
   "source": []
  }
 ],
 "metadata": {
  "kernelspec": {
   "display_name": "Python 3.10.5 64-bit",
   "language": "python",
   "name": "python3"
  },
  "language_info": {
   "codemirror_mode": {
    "name": "ipython",
    "version": 3
   },
   "file_extension": ".py",
   "mimetype": "text/x-python",
   "name": "python",
   "nbconvert_exporter": "python",
   "pygments_lexer": "ipython3",
   "version": "3.10.5"
  },
  "orig_nbformat": 4,
  "vscode": {
   "interpreter": {
    "hash": "aee8b7b246df8f9039afb4144a1f6fd8d2ca17a180786b69acc140d282b71a49"
   }
  }
 },
 "nbformat": 4,
 "nbformat_minor": 2
}
